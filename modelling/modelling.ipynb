{
 "cells": [
  {
   "cell_type": "markdown",
   "metadata": {},
   "source": [
    "# Modelling"
   ]
  },
  {
   "cell_type": "markdown",
   "metadata": {},
   "source": [
    "code for our models they include an SVM, K nearst neighbour and XGBoost models as well as their ensemble. THE SVM is our baseline, specifically all data with the original level and no level balancing is our baseline model"
   ]
  },
  {
   "cell_type": "markdown",
   "metadata": {
    "id": "j_ozxaRrIh9Z"
   },
   "source": [
    "# Installing Packages"
   ]
  },
  {
   "cell_type": "code",
   "execution_count": 18,
   "metadata": {
    "id": "2GHuvxosIa4X",
    "scrolled": true,
    "tags": []
   },
   "outputs": [
    {
     "name": "stdout",
     "output_type": "stream",
     "text": [
      "Requirement already satisfied: numpy in /Users/apple/opt/anaconda3/lib/python3.9/site-packages (1.20.3)\n",
      "Requirement already satisfied: pandas in /Users/apple/opt/anaconda3/lib/python3.9/site-packages (1.3.5)\n",
      "Requirement already satisfied: python-dateutil>=2.7.3 in /Users/apple/opt/anaconda3/lib/python3.9/site-packages (from pandas) (2.8.2)\n",
      "Requirement already satisfied: pytz>=2017.3 in /Users/apple/opt/anaconda3/lib/python3.9/site-packages (from pandas) (2021.3)\n",
      "Requirement already satisfied: numpy>=1.17.3 in /Users/apple/opt/anaconda3/lib/python3.9/site-packages (from pandas) (1.20.3)\n",
      "Requirement already satisfied: six>=1.5 in /Users/apple/opt/anaconda3/lib/python3.9/site-packages (from python-dateutil>=2.7.3->pandas) (1.16.0)\n",
      "Requirement already satisfied: sklearn in /Users/apple/opt/anaconda3/lib/python3.9/site-packages (0.0)\n",
      "Requirement already satisfied: scikit-learn in /Users/apple/opt/anaconda3/lib/python3.9/site-packages (from sklearn) (1.0.2)\n",
      "Requirement already satisfied: threadpoolctl>=2.0.0 in /Users/apple/opt/anaconda3/lib/python3.9/site-packages (from scikit-learn->sklearn) (2.2.0)\n",
      "Requirement already satisfied: numpy>=1.14.6 in /Users/apple/opt/anaconda3/lib/python3.9/site-packages (from scikit-learn->sklearn) (1.20.3)\n",
      "Requirement already satisfied: scipy>=1.1.0 in /Users/apple/opt/anaconda3/lib/python3.9/site-packages (from scikit-learn->sklearn) (1.7.1)\n",
      "Requirement already satisfied: joblib>=0.11 in /Users/apple/opt/anaconda3/lib/python3.9/site-packages (from scikit-learn->sklearn) (1.1.0)\n",
      "Requirement already satisfied: yellowbrick in /Users/apple/opt/anaconda3/lib/python3.9/site-packages (1.4)\n",
      "Requirement already satisfied: numpy>=1.16.0 in /Users/apple/opt/anaconda3/lib/python3.9/site-packages (from yellowbrick) (1.20.3)\n",
      "Requirement already satisfied: matplotlib!=3.0.0,>=2.0.2 in /Users/apple/opt/anaconda3/lib/python3.9/site-packages (from yellowbrick) (3.4.3)\n",
      "Requirement already satisfied: cycler>=0.10.0 in /Users/apple/opt/anaconda3/lib/python3.9/site-packages (from yellowbrick) (0.10.0)\n",
      "Requirement already satisfied: scipy>=1.0.0 in /Users/apple/opt/anaconda3/lib/python3.9/site-packages (from yellowbrick) (1.7.1)\n",
      "Requirement already satisfied: scikit-learn>=1.0.0 in /Users/apple/opt/anaconda3/lib/python3.9/site-packages (from yellowbrick) (1.0.2)\n",
      "Requirement already satisfied: six in /Users/apple/opt/anaconda3/lib/python3.9/site-packages (from cycler>=0.10.0->yellowbrick) (1.16.0)\n",
      "Requirement already satisfied: pyparsing>=2.2.1 in /Users/apple/opt/anaconda3/lib/python3.9/site-packages (from matplotlib!=3.0.0,>=2.0.2->yellowbrick) (3.0.4)\n",
      "Requirement already satisfied: python-dateutil>=2.7 in /Users/apple/opt/anaconda3/lib/python3.9/site-packages (from matplotlib!=3.0.0,>=2.0.2->yellowbrick) (2.8.2)\n",
      "Requirement already satisfied: kiwisolver>=1.0.1 in /Users/apple/opt/anaconda3/lib/python3.9/site-packages (from matplotlib!=3.0.0,>=2.0.2->yellowbrick) (1.3.1)\n",
      "Requirement already satisfied: pillow>=6.2.0 in /Users/apple/opt/anaconda3/lib/python3.9/site-packages (from matplotlib!=3.0.0,>=2.0.2->yellowbrick) (8.4.0)\n",
      "Requirement already satisfied: joblib>=0.11 in /Users/apple/opt/anaconda3/lib/python3.9/site-packages (from scikit-learn>=1.0.0->yellowbrick) (1.1.0)\n",
      "Requirement already satisfied: threadpoolctl>=2.0.0 in /Users/apple/opt/anaconda3/lib/python3.9/site-packages (from scikit-learn>=1.0.0->yellowbrick) (2.2.0)\n",
      "Requirement already satisfied: matplot in /Users/apple/opt/anaconda3/lib/python3.9/site-packages (0.1.9)\n",
      "Requirement already satisfied: matplotlib>=3.1.1 in /Users/apple/opt/anaconda3/lib/python3.9/site-packages (from matplot) (3.4.3)\n",
      "Requirement already satisfied: pyloco>=0.0.134 in /Users/apple/opt/anaconda3/lib/python3.9/site-packages (from matplot) (0.0.139)\n",
      "Requirement already satisfied: kiwisolver>=1.0.1 in /Users/apple/opt/anaconda3/lib/python3.9/site-packages (from matplotlib>=3.1.1->matplot) (1.3.1)\n",
      "Requirement already satisfied: python-dateutil>=2.7 in /Users/apple/opt/anaconda3/lib/python3.9/site-packages (from matplotlib>=3.1.1->matplot) (2.8.2)\n",
      "Requirement already satisfied: cycler>=0.10 in /Users/apple/opt/anaconda3/lib/python3.9/site-packages (from matplotlib>=3.1.1->matplot) (0.10.0)\n",
      "Requirement already satisfied: numpy>=1.16 in /Users/apple/opt/anaconda3/lib/python3.9/site-packages (from matplotlib>=3.1.1->matplot) (1.20.3)\n",
      "Requirement already satisfied: pillow>=6.2.0 in /Users/apple/opt/anaconda3/lib/python3.9/site-packages (from matplotlib>=3.1.1->matplot) (8.4.0)\n",
      "Requirement already satisfied: pyparsing>=2.2.1 in /Users/apple/opt/anaconda3/lib/python3.9/site-packages (from matplotlib>=3.1.1->matplot) (3.0.4)\n",
      "Requirement already satisfied: six in /Users/apple/opt/anaconda3/lib/python3.9/site-packages (from cycler>=0.10->matplotlib>=3.1.1->matplot) (1.16.0)\n",
      "Requirement already satisfied: websocket-client in /Users/apple/opt/anaconda3/lib/python3.9/site-packages (from pyloco>=0.0.134->matplot) (1.3.2)\n",
      "Requirement already satisfied: twine in /Users/apple/opt/anaconda3/lib/python3.9/site-packages (from pyloco>=0.0.134->matplot) (4.0.0)\n",
      "Requirement already satisfied: ushlex in /Users/apple/opt/anaconda3/lib/python3.9/site-packages (from pyloco>=0.0.134->matplot) (0.99.1)\n",
      "Requirement already satisfied: typing in /Users/apple/opt/anaconda3/lib/python3.9/site-packages (from pyloco>=0.0.134->matplot) (3.7.4.3)\n",
      "Requirement already satisfied: SimpleWebSocketServer in /Users/apple/opt/anaconda3/lib/python3.9/site-packages (from pyloco>=0.0.134->matplot) (0.1.1)\n",
      "Requirement already satisfied: urllib3>=1.26.0 in /Users/apple/opt/anaconda3/lib/python3.9/site-packages (from twine->pyloco>=0.0.134->matplot) (1.26.7)\n",
      "Requirement already satisfied: readme-renderer>=21.0 in /Users/apple/opt/anaconda3/lib/python3.9/site-packages (from twine->pyloco>=0.0.134->matplot) (34.0)\n",
      "Requirement already satisfied: importlib-metadata>=3.6 in /Users/apple/opt/anaconda3/lib/python3.9/site-packages (from twine->pyloco>=0.0.134->matplot) (4.8.1)\n",
      "Requirement already satisfied: pkginfo>=1.8.1 in /Users/apple/opt/anaconda3/lib/python3.9/site-packages (from twine->pyloco>=0.0.134->matplot) (1.8.2)\n",
      "Requirement already satisfied: requests-toolbelt!=0.9.0,>=0.8.0 in /Users/apple/opt/anaconda3/lib/python3.9/site-packages (from twine->pyloco>=0.0.134->matplot) (0.9.1)\n",
      "Requirement already satisfied: rich>=12.0.0 in /Users/apple/opt/anaconda3/lib/python3.9/site-packages (from twine->pyloco>=0.0.134->matplot) (12.2.0)\n",
      "Requirement already satisfied: keyring>=15.1 in /Users/apple/opt/anaconda3/lib/python3.9/site-packages (from twine->pyloco>=0.0.134->matplot) (23.1.0)\n",
      "Requirement already satisfied: rfc3986>=1.4.0 in /Users/apple/opt/anaconda3/lib/python3.9/site-packages (from twine->pyloco>=0.0.134->matplot) (2.0.0)\n",
      "Requirement already satisfied: requests>=2.20 in /Users/apple/opt/anaconda3/lib/python3.9/site-packages (from twine->pyloco>=0.0.134->matplot) (2.26.0)\n",
      "Requirement already satisfied: zipp>=0.5 in /Users/apple/opt/anaconda3/lib/python3.9/site-packages (from importlib-metadata>=3.6->twine->pyloco>=0.0.134->matplot) (3.6.0)\n",
      "Requirement already satisfied: docutils>=0.13.1 in /Users/apple/opt/anaconda3/lib/python3.9/site-packages (from readme-renderer>=21.0->twine->pyloco>=0.0.134->matplot) (0.17.1)\n",
      "Requirement already satisfied: Pygments>=2.5.1 in /Users/apple/opt/anaconda3/lib/python3.9/site-packages (from readme-renderer>=21.0->twine->pyloco>=0.0.134->matplot) (2.10.0)\n",
      "Requirement already satisfied: bleach>=2.1.0 in /Users/apple/opt/anaconda3/lib/python3.9/site-packages (from readme-renderer>=21.0->twine->pyloco>=0.0.134->matplot) (4.0.0)\n",
      "Requirement already satisfied: packaging in /Users/apple/opt/anaconda3/lib/python3.9/site-packages (from bleach>=2.1.0->readme-renderer>=21.0->twine->pyloco>=0.0.134->matplot) (21.0)\n",
      "Requirement already satisfied: webencodings in /Users/apple/opt/anaconda3/lib/python3.9/site-packages (from bleach>=2.1.0->readme-renderer>=21.0->twine->pyloco>=0.0.134->matplot) (0.5.1)\n",
      "Requirement already satisfied: charset-normalizer~=2.0.0 in /Users/apple/opt/anaconda3/lib/python3.9/site-packages (from requests>=2.20->twine->pyloco>=0.0.134->matplot) (2.0.4)\n",
      "Requirement already satisfied: idna<4,>=2.5 in /Users/apple/opt/anaconda3/lib/python3.9/site-packages (from requests>=2.20->twine->pyloco>=0.0.134->matplot) (3.2)\n",
      "Requirement already satisfied: certifi>=2017.4.17 in /Users/apple/opt/anaconda3/lib/python3.9/site-packages (from requests>=2.20->twine->pyloco>=0.0.134->matplot) (2021.10.8)\n",
      "Requirement already satisfied: commonmark<0.10.0,>=0.9.0 in /Users/apple/opt/anaconda3/lib/python3.9/site-packages (from rich>=12.0.0->twine->pyloco>=0.0.134->matplot) (0.9.1)\n",
      "Requirement already satisfied: seaborn in /Users/apple/opt/anaconda3/lib/python3.9/site-packages (0.11.2)\n",
      "Requirement already satisfied: scipy>=1.0 in /Users/apple/opt/anaconda3/lib/python3.9/site-packages (from seaborn) (1.7.1)\n",
      "Requirement already satisfied: numpy>=1.15 in /Users/apple/opt/anaconda3/lib/python3.9/site-packages (from seaborn) (1.20.3)\n",
      "Requirement already satisfied: matplotlib>=2.2 in /Users/apple/opt/anaconda3/lib/python3.9/site-packages (from seaborn) (3.4.3)\n",
      "Requirement already satisfied: pandas>=0.23 in /Users/apple/opt/anaconda3/lib/python3.9/site-packages (from seaborn) (1.3.5)\n",
      "Requirement already satisfied: python-dateutil>=2.7 in /Users/apple/opt/anaconda3/lib/python3.9/site-packages (from matplotlib>=2.2->seaborn) (2.8.2)\n",
      "Requirement already satisfied: pillow>=6.2.0 in /Users/apple/opt/anaconda3/lib/python3.9/site-packages (from matplotlib>=2.2->seaborn) (8.4.0)\n",
      "Requirement already satisfied: cycler>=0.10 in /Users/apple/opt/anaconda3/lib/python3.9/site-packages (from matplotlib>=2.2->seaborn) (0.10.0)\n",
      "Requirement already satisfied: kiwisolver>=1.0.1 in /Users/apple/opt/anaconda3/lib/python3.9/site-packages (from matplotlib>=2.2->seaborn) (1.3.1)\n",
      "Requirement already satisfied: pyparsing>=2.2.1 in /Users/apple/opt/anaconda3/lib/python3.9/site-packages (from matplotlib>=2.2->seaborn) (3.0.4)\n",
      "Requirement already satisfied: six in /Users/apple/opt/anaconda3/lib/python3.9/site-packages (from cycler>=0.10->matplotlib>=2.2->seaborn) (1.16.0)\n",
      "Requirement already satisfied: pytz>=2017.3 in /Users/apple/opt/anaconda3/lib/python3.9/site-packages (from pandas>=0.23->seaborn) (2021.3)\n"
     ]
    }
   ],
   "source": [
    "import sys\n",
    "!{sys.executable} -m pip install numpy\n",
    "!{sys.executable} -m pip install pandas\n",
    "!{sys.executable} -m pip install sklearn\n",
    "!{sys.executable} -m pip install yellowbrick\n",
    "!{sys.executable} -m pip install matplot\n",
    "!{sys.executable} -m pip install seaborn"
   ]
  },
  {
   "cell_type": "markdown",
   "metadata": {
    "id": "Fu_qT147Kqdi"
   },
   "source": [
    "# Preprocessing of Data"
   ]
  },
  {
   "cell_type": "code",
   "execution_count": 19,
   "metadata": {
    "id": "BfgCO5ddTvvc"
   },
   "outputs": [],
   "source": [
    "import os\n",
    "import numpy as np\n",
    "import pandas as pd\n",
    "\n",
    "from sklearn.compose import ColumnTransformer\n",
    "\n",
    "import copy\n",
    "\n",
    "# Helper function: simply reads a csv file and return it as a dataframe\n",
    "def read_data(data_file):\n",
    "  data_df = pd.read_csv(data_file)\n",
    "  return data_df\n",
    "\n",
    "def drop_features(data_df, features_to_drop):\n",
    "  return data_df.drop(columns=features_to_drop, inplace=True)\n",
    "\n",
    "def segregate_noisy_data(data_df):\n",
    "  copied_data = copy.deepcopy(data_df)\n",
    "  non_noisy_df = copied_data.loc[(copied_data['noisy_train'] == 0)]\n",
    "  noisy_df = copied_data.loc[(copied_data['noisy_train'] == 1)]\n",
    "  return non_noisy_df, noisy_df\n",
    "\n",
    "def remove_noisy_data(data_df):\n",
    "  print(f'''Rows dropped because of low duration: \n",
    "        {len(data_df[data_df['noisy'] == 1])}\\n''')\n",
    "  \n",
    "  return data_df.drop(data_df[data_df['noisy'] == 1].index, inplace=True)\n",
    "\n",
    "# Helper function: cleans data based on xyz\n",
    "def preprocessing_data(data_df):\n",
    "\n",
    "  # Clean data based on duration value\n",
    "  print(f'''Rows dropped because of low duration: \\\n",
    "        {len(data_df[data_df['duration'] < 2])}\\n''')\n",
    "  \n",
    "  data_df.drop(data_df[data_df['duration'] < 2].index, inplace=True)\n",
    "\n",
    "  # Extract filenames\n",
    "  filenames = data_df['file_name'].values.tolist()\n",
    "\n",
    "  return (data_df, filenames)\n"
   ]
  },
  {
   "cell_type": "markdown",
   "metadata": {
    "id": "TqSpDpc8RsyO"
   },
   "source": [
    "Read Data"
   ]
  },
  {
   "cell_type": "code",
   "execution_count": 20,
   "metadata": {
    "id": "ZBRuRV8TGev2"
   },
   "outputs": [],
   "source": [
    "# Fetch .csv file and store it as a dataframe\n",
    "aggression_data_df = read_data('../extracted/full-train-features.csv')"
   ]
  },
  {
   "cell_type": "markdown",
   "metadata": {
    "id": "rLxvf37GGtVh"
   },
   "source": [
    "Extract data, filenames and labels after preprocessing data"
   ]
  },
  {
   "cell_type": "code",
   "execution_count": 21,
   "metadata": {
    "colab": {
     "base_uri": "https://localhost:8080/"
    },
    "id": "dV19fTgKG0se",
    "outputId": "29bf7360-eb4f-4f90-e41e-5584e0819b40"
   },
   "outputs": [
    {
     "name": "stdout",
     "output_type": "stream",
     "text": [
      "Shape of the data before cleaning it: (2146, 23)\n",
      "\n",
      "                      file_name  duration  analyse_harmonics  \\\n",
      "2141  xdz15thrnem51_processed_5      10.0           5.465491   \n",
      "2142  xdz15thrnem51_processed_6      10.0           6.879443   \n",
      "2143  xdz15thrnem51_processed_7      10.0           4.468770   \n",
      "2144  xdz15thrnem51_processed_8      10.0           8.581945   \n",
      "2145  xdz15thrnem51_processed_9      10.0           2.829222   \n",
      "\n",
      "      get_number_sylls  get_number_words  pauses  get_max_intensity  \\\n",
      "2141               1.3               1.0     0.1         104.113896   \n",
      "2142               0.2               0.3     0.1         108.028173   \n",
      "2143               1.8               1.1     0.1         104.678268   \n",
      "2144               0.3               0.1     0.1         109.335715   \n",
      "2145               0.6               0.6     0.1         105.455598   \n",
      "\n",
      "      analyse_intensity  analyse_pitch  analyse_pitch_range  ...  \\\n",
      "2141          69.550541     199.893943           443.057705  ...   \n",
      "2142          75.501002     258.536830           379.915372  ...   \n",
      "2143          71.100226     194.904220           493.340814  ...   \n",
      "2144          76.784989     285.988051           520.259229  ...   \n",
      "2145          74.654532     186.190085           486.287854  ...   \n",
      "\n",
      "      mean_spectral_rolloff  get_energy  parent_file_train  \\\n",
      "2141            1002.676098    0.036482      xdz15thrnem51   \n",
      "2142            1023.670363    0.141290      xdz15thrnem51   \n",
      "2143             980.207236    0.051732      xdz15thrnem51   \n",
      "2144            1146.211888    0.190454      xdz15thrnem51   \n",
      "2145             698.359229    0.116369      xdz15thrnem51   \n",
      "\n",
      "      number_of_segments_train  number_of_voices_parent_train  \\\n",
      "2141                        14                              7   \n",
      "2142                        14                              7   \n",
      "2143                        14                              7   \n",
      "2144                        14                              7   \n",
      "2145                        14                              7   \n",
      "\n",
      "     extra_sounds_train  parent_label_train  segment_label_train noisy_train  \\\n",
      "2141                NaN                   2                    1           0   \n",
      "2142                NaN                   2                    2           0   \n",
      "2143                NaN                   2                    1           0   \n",
      "2144               cops                   2                    2           0   \n",
      "2145                NaN                   2                    1           0   \n",
      "\n",
      "      Notes_train  \n",
      "2141          NaN  \n",
      "2142          NaN  \n",
      "2143          NaN  \n",
      "2144          NaN  \n",
      "2145          NaN  \n",
      "\n",
      "[5 rows x 23 columns]\n",
      "Rows dropped because of low duration:         35\n",
      "\n",
      "Shape of the data after cleaning it: (2111, 23) \n",
      "\n"
     ]
    }
   ],
   "source": [
    "print(f'Shape of the data before cleaning it: {aggression_data_df.shape}\\n')\n",
    "print(aggression_data_df.tail())\n",
    "\n",
    "aggression_data_df, filenames = preprocessing_data(aggression_data_df)\n",
    "\n",
    "print(f'Shape of the data after cleaning it: {aggression_data_df.shape} \\n')"
   ]
  },
  {
   "cell_type": "markdown",
   "metadata": {
    "id": "pOt02qQWG8lR"
   },
   "source": [
    "Segregate data based on noisy vs not noisy"
   ]
  },
  {
   "cell_type": "code",
   "execution_count": 22,
   "metadata": {
    "colab": {
     "base_uri": "https://localhost:8080/"
    },
    "id": "K-y5PqPrHHsY",
    "outputId": "577d9820-8b2e-42c4-f6a1-a1bd6ae02689"
   },
   "outputs": [
    {
     "name": "stdout",
     "output_type": "stream",
     "text": [
      "Shape of noisy data: (262, 23) \n",
      "\n",
      "Shape of non noisy data: (1849, 23)\n",
      "\n"
     ]
    }
   ],
   "source": [
    "non_noisy_df, noisy_df = segregate_noisy_data(aggression_data_df)\n",
    "\n",
    "print(f\"Shape of noisy data: {noisy_df.shape} \\n\")\n",
    "print(f\"Shape of non noisy data: {non_noisy_df.shape}\\n\")"
   ]
  },
  {
   "cell_type": "markdown",
   "metadata": {
    "id": "BBH3hHdnwfQr"
   },
   "source": [
    "**NOTE: Modelling of this project is split into 3 groups. Therefore, all the steps in this notebook below are repeated once for each group**\n",
    "1. Noisy and Non Noisy Data\n",
    "2. Noisy Data\n",
    "3. Non Noisy Data"
   ]
  },
  {
   "cell_type": "markdown",
   "metadata": {
    "id": "CctT48C0HJvp"
   },
   "source": [
    "Drop features"
   ]
  },
  {
   "cell_type": "code",
   "execution_count": 23,
   "metadata": {
    "colab": {
     "base_uri": "https://localhost:8080/"
    },
    "id": "J5P-qp1fRpXR",
    "outputId": "36c26193-a7a2-4213-b9a6-3e70b93587f3"
   },
   "outputs": [
    {
     "name": "stdout",
     "output_type": "stream",
     "text": [
      "Shape of the data for Group 1 before dropping features: (2111, 23) \n",
      "\n",
      "Shape of the data for Group 2 before dropping features: (1849, 23) \n",
      "\n",
      "Shape of the data for Group 3 before dropping features: (262, 23) \n",
      "\n",
      "Shape of the data for Group 1 after dropping features: (2111, 14) \n",
      "\n",
      "Shape of the data for Group 2 after dropping features: (1849, 14) \n",
      "\n",
      "Shape of the data for Group 3 after dropping features: (262, 14) \n",
      "\n"
     ]
    }
   ],
   "source": [
    "features_to_drop = ['file_name', 'duration','get_number_sylls',\n",
    "                    'get_number_words', 'pauses',\n",
    "                    'number_of_segments_train', 'number_of_voices_parent_train',\n",
    "                    'extra_sounds_train', 'Notes_train']\n",
    "\n",
    "# remove features for Group 1\n",
    "print(f'Shape of the data for Group 1 before dropping features: {aggression_data_df.shape} \\n')\n",
    "drop_features(aggression_data_df, features_to_drop)\n",
    "\n",
    "# remove features for Group 2\n",
    "print(f'Shape of the data for Group 2 before dropping features: {non_noisy_df.shape} \\n')\n",
    "drop_features(non_noisy_df, features_to_drop)\n",
    "\n",
    "# remove features for Group 3\n",
    "print(f'Shape of the data for Group 3 before dropping features: {noisy_df.shape} \\n')\n",
    "drop_features(noisy_df, features_to_drop)\n",
    "\n",
    "\n",
    "print(f'Shape of the data for Group 1 after dropping features: {aggression_data_df.shape} \\n')\n",
    "print(f'Shape of the data for Group 2 after dropping features: {non_noisy_df.shape} \\n')\n",
    "print(f'Shape of the data for Group 3 after dropping features: {noisy_df.shape} \\n')"
   ]
  },
  {
   "cell_type": "markdown",
   "metadata": {
    "id": "b5-kkxKTXVdI"
   },
   "source": [
    "### Examine dataframe from each group"
   ]
  },
  {
   "cell_type": "code",
   "execution_count": 24,
   "metadata": {
    "colab": {
     "base_uri": "https://localhost:8080/"
    },
    "id": "fW3JdssSXoRP",
    "outputId": "671d643d-89b8-4cc9-9f33-e55aa7ac86f7"
   },
   "outputs": [
    {
     "name": "stdout",
     "output_type": "stream",
     "text": [
      "<class 'pandas.core.frame.DataFrame'>\n",
      "Int64Index: 2111 entries, 0 to 2145\n",
      "Data columns (total 14 columns):\n",
      " #   Column                 Non-Null Count  Dtype  \n",
      "---  ------                 --------------  -----  \n",
      " 0   analyse_harmonics      2111 non-null   float64\n",
      " 1   get_max_intensity      2111 non-null   float64\n",
      " 2   analyse_intensity      2111 non-null   float64\n",
      " 3   analyse_pitch          2110 non-null   float64\n",
      " 4   analyse_pitch_range    2110 non-null   float64\n",
      " 5   analyse_shimmer        2110 non-null   float64\n",
      " 6   analyse_jitter         2110 non-null   float64\n",
      " 7   spectral_slope         2111 non-null   float64\n",
      " 8   mean_spectral_rolloff  2111 non-null   float64\n",
      " 9   get_energy             2111 non-null   float64\n",
      " 10  parent_file_train      2111 non-null   object \n",
      " 11  parent_label_train     2111 non-null   int64  \n",
      " 12  segment_label_train    2111 non-null   int64  \n",
      " 13  noisy_train            2111 non-null   int64  \n",
      "dtypes: float64(10), int64(3), object(1)\n",
      "memory usage: 247.4+ KB\n",
      "None\n",
      "<class 'pandas.core.frame.DataFrame'>\n",
      "Int64Index: 1849 entries, 8 to 2145\n",
      "Data columns (total 14 columns):\n",
      " #   Column                 Non-Null Count  Dtype  \n",
      "---  ------                 --------------  -----  \n",
      " 0   analyse_harmonics      1849 non-null   float64\n",
      " 1   get_max_intensity      1849 non-null   float64\n",
      " 2   analyse_intensity      1849 non-null   float64\n",
      " 3   analyse_pitch          1848 non-null   float64\n",
      " 4   analyse_pitch_range    1848 non-null   float64\n",
      " 5   analyse_shimmer        1848 non-null   float64\n",
      " 6   analyse_jitter         1848 non-null   float64\n",
      " 7   spectral_slope         1849 non-null   float64\n",
      " 8   mean_spectral_rolloff  1849 non-null   float64\n",
      " 9   get_energy             1849 non-null   float64\n",
      " 10  parent_file_train      1849 non-null   object \n",
      " 11  parent_label_train     1849 non-null   int64  \n",
      " 12  segment_label_train    1849 non-null   int64  \n",
      " 13  noisy_train            1849 non-null   int64  \n",
      "dtypes: float64(10), int64(3), object(1)\n",
      "memory usage: 216.7+ KB\n",
      "None\n",
      "<class 'pandas.core.frame.DataFrame'>\n",
      "Int64Index: 262 entries, 0 to 2134\n",
      "Data columns (total 14 columns):\n",
      " #   Column                 Non-Null Count  Dtype  \n",
      "---  ------                 --------------  -----  \n",
      " 0   analyse_harmonics      262 non-null    float64\n",
      " 1   get_max_intensity      262 non-null    float64\n",
      " 2   analyse_intensity      262 non-null    float64\n",
      " 3   analyse_pitch          262 non-null    float64\n",
      " 4   analyse_pitch_range    262 non-null    float64\n",
      " 5   analyse_shimmer        262 non-null    float64\n",
      " 6   analyse_jitter         262 non-null    float64\n",
      " 7   spectral_slope         262 non-null    float64\n",
      " 8   mean_spectral_rolloff  262 non-null    float64\n",
      " 9   get_energy             262 non-null    float64\n",
      " 10  parent_file_train      262 non-null    object \n",
      " 11  parent_label_train     262 non-null    int64  \n",
      " 12  segment_label_train    262 non-null    int64  \n",
      " 13  noisy_train            262 non-null    int64  \n",
      "dtypes: float64(10), int64(3), object(1)\n",
      "memory usage: 30.7+ KB\n",
      "None\n"
     ]
    }
   ],
   "source": [
    "print(aggression_data_df.info())\n",
    "print(non_noisy_df.info())\n",
    "print(noisy_df.info())"
   ]
  },
  {
   "cell_type": "markdown",
   "metadata": {
    "id": "496Yc66HwfQw"
   },
   "source": [
    "Remove rows that have `NaN` as one of the feature values\n",
    "\n",
    "1 row in both group 1 and group 2 have `NaN`"
   ]
  },
  {
   "cell_type": "code",
   "execution_count": 25,
   "metadata": {
    "id": "bly8Ynq0wfQw"
   },
   "outputs": [],
   "source": [
    "aggression_data_df.dropna(inplace=True)\n",
    "non_noisy_df.dropna(inplace=True)\n",
    "noisy_df.dropna(inplace=True)\n"
   ]
  },
  {
   "cell_type": "markdown",
   "metadata": {
    "id": "4fHjlKyCwfQx"
   },
   "source": [
    "Convert values in 'get_max_intensity' from string to float "
   ]
  },
  {
   "cell_type": "code",
   "execution_count": 26,
   "metadata": {
    "id": "9giLwP3VbnJ0",
    "outputId": "6b6eaced-3f5c-48b9-d0de-0c0df72c8dc7"
   },
   "outputs": [
    {
     "data": {
      "text/html": [
       "<div>\n",
       "<style scoped>\n",
       "    .dataframe tbody tr th:only-of-type {\n",
       "        vertical-align: middle;\n",
       "    }\n",
       "\n",
       "    .dataframe tbody tr th {\n",
       "        vertical-align: top;\n",
       "    }\n",
       "\n",
       "    .dataframe thead th {\n",
       "        text-align: right;\n",
       "    }\n",
       "</style>\n",
       "<table border=\"1\" class=\"dataframe\">\n",
       "  <thead>\n",
       "    <tr style=\"text-align: right;\">\n",
       "      <th></th>\n",
       "      <th>analyse_harmonics</th>\n",
       "      <th>get_max_intensity</th>\n",
       "      <th>analyse_intensity</th>\n",
       "      <th>analyse_pitch</th>\n",
       "      <th>analyse_pitch_range</th>\n",
       "      <th>analyse_shimmer</th>\n",
       "      <th>analyse_jitter</th>\n",
       "      <th>spectral_slope</th>\n",
       "      <th>mean_spectral_rolloff</th>\n",
       "      <th>get_energy</th>\n",
       "      <th>parent_file_train</th>\n",
       "      <th>parent_label_train</th>\n",
       "      <th>segment_label_train</th>\n",
       "      <th>noisy_train</th>\n",
       "    </tr>\n",
       "  </thead>\n",
       "  <tbody>\n",
       "    <tr>\n",
       "      <th>0</th>\n",
       "      <td>2.071884</td>\n",
       "      <td>108.591944</td>\n",
       "      <td>76.429126</td>\n",
       "      <td>355.354649</td>\n",
       "      <td>517.899150</td>\n",
       "      <td>0.193371</td>\n",
       "      <td>0.039075</td>\n",
       "      <td>-0.091534</td>\n",
       "      <td>1711.357507</td>\n",
       "      <td>0.174962</td>\n",
       "      <td>00g8dfgpqpt61</td>\n",
       "      <td>0</td>\n",
       "      <td>0</td>\n",
       "      <td>1</td>\n",
       "    </tr>\n",
       "    <tr>\n",
       "      <th>1</th>\n",
       "      <td>1.548685</td>\n",
       "      <td>107.108480</td>\n",
       "      <td>78.207339</td>\n",
       "      <td>409.030438</td>\n",
       "      <td>491.537960</td>\n",
       "      <td>0.202199</td>\n",
       "      <td>0.049623</td>\n",
       "      <td>-0.090760</td>\n",
       "      <td>1469.373610</td>\n",
       "      <td>0.263521</td>\n",
       "      <td>00g8dfgpqpt62</td>\n",
       "      <td>0</td>\n",
       "      <td>0</td>\n",
       "      <td>1</td>\n",
       "    </tr>\n",
       "    <tr>\n",
       "      <th>2</th>\n",
       "      <td>2.202973</td>\n",
       "      <td>110.003934</td>\n",
       "      <td>77.650102</td>\n",
       "      <td>393.605328</td>\n",
       "      <td>511.080779</td>\n",
       "      <td>0.200674</td>\n",
       "      <td>0.038352</td>\n",
       "      <td>-0.116676</td>\n",
       "      <td>1287.538989</td>\n",
       "      <td>0.231453</td>\n",
       "      <td>00g8dfgpqpt63</td>\n",
       "      <td>0</td>\n",
       "      <td>0</td>\n",
       "      <td>1</td>\n",
       "    </tr>\n",
       "    <tr>\n",
       "      <th>3</th>\n",
       "      <td>4.541632</td>\n",
       "      <td>100.037201</td>\n",
       "      <td>67.432142</td>\n",
       "      <td>358.021668</td>\n",
       "      <td>448.489253</td>\n",
       "      <td>0.201583</td>\n",
       "      <td>0.035544</td>\n",
       "      <td>-0.010975</td>\n",
       "      <td>1251.558111</td>\n",
       "      <td>0.022047</td>\n",
       "      <td>01avx2fm1t961</td>\n",
       "      <td>3</td>\n",
       "      <td>3</td>\n",
       "      <td>1</td>\n",
       "    </tr>\n",
       "    <tr>\n",
       "      <th>4</th>\n",
       "      <td>3.790801</td>\n",
       "      <td>98.041081</td>\n",
       "      <td>63.570349</td>\n",
       "      <td>373.512829</td>\n",
       "      <td>519.744413</td>\n",
       "      <td>0.190743</td>\n",
       "      <td>0.046422</td>\n",
       "      <td>-0.004044</td>\n",
       "      <td>1387.495977</td>\n",
       "      <td>0.009121</td>\n",
       "      <td>01avx2fm1t961</td>\n",
       "      <td>3</td>\n",
       "      <td>2</td>\n",
       "      <td>1</td>\n",
       "    </tr>\n",
       "    <tr>\n",
       "      <th>5</th>\n",
       "      <td>3.859515</td>\n",
       "      <td>99.656235</td>\n",
       "      <td>66.680578</td>\n",
       "      <td>394.698825</td>\n",
       "      <td>461.355272</td>\n",
       "      <td>0.181399</td>\n",
       "      <td>0.038183</td>\n",
       "      <td>-0.011376</td>\n",
       "      <td>1164.256959</td>\n",
       "      <td>0.018612</td>\n",
       "      <td>01avx2fm1t961</td>\n",
       "      <td>3</td>\n",
       "      <td>2</td>\n",
       "      <td>1</td>\n",
       "    </tr>\n",
       "    <tr>\n",
       "      <th>6</th>\n",
       "      <td>4.301706</td>\n",
       "      <td>100.620469</td>\n",
       "      <td>67.893825</td>\n",
       "      <td>355.316875</td>\n",
       "      <td>439.101386</td>\n",
       "      <td>0.199342</td>\n",
       "      <td>0.043200</td>\n",
       "      <td>-0.014285</td>\n",
       "      <td>1043.864847</td>\n",
       "      <td>0.025372</td>\n",
       "      <td>01avx2fm1t961</td>\n",
       "      <td>3</td>\n",
       "      <td>2</td>\n",
       "      <td>1</td>\n",
       "    </tr>\n",
       "    <tr>\n",
       "      <th>7</th>\n",
       "      <td>4.134565</td>\n",
       "      <td>101.666306</td>\n",
       "      <td>68.782272</td>\n",
       "      <td>381.025067</td>\n",
       "      <td>513.486703</td>\n",
       "      <td>0.192137</td>\n",
       "      <td>0.038323</td>\n",
       "      <td>-0.017456</td>\n",
       "      <td>1025.571987</td>\n",
       "      <td>0.028210</td>\n",
       "      <td>01avx2fm1t961</td>\n",
       "      <td>3</td>\n",
       "      <td>2</td>\n",
       "      <td>1</td>\n",
       "    </tr>\n",
       "    <tr>\n",
       "      <th>64</th>\n",
       "      <td>4.832865</td>\n",
       "      <td>108.258940</td>\n",
       "      <td>77.036272</td>\n",
       "      <td>219.231909</td>\n",
       "      <td>499.293824</td>\n",
       "      <td>0.173476</td>\n",
       "      <td>0.024539</td>\n",
       "      <td>-0.089942</td>\n",
       "      <td>1778.052375</td>\n",
       "      <td>0.139028</td>\n",
       "      <td>09etqbnf0uc61</td>\n",
       "      <td>0</td>\n",
       "      <td>0</td>\n",
       "      <td>1</td>\n",
       "    </tr>\n",
       "    <tr>\n",
       "      <th>88</th>\n",
       "      <td>3.707670</td>\n",
       "      <td>107.282961</td>\n",
       "      <td>77.338457</td>\n",
       "      <td>107.077688</td>\n",
       "      <td>523.583154</td>\n",
       "      <td>0.161535</td>\n",
       "      <td>0.027049</td>\n",
       "      <td>-0.157909</td>\n",
       "      <td>903.503189</td>\n",
       "      <td>0.216111</td>\n",
       "      <td>0cho11mt05y51</td>\n",
       "      <td>0</td>\n",
       "      <td>0</td>\n",
       "      <td>1</td>\n",
       "    </tr>\n",
       "    <tr>\n",
       "      <th>89</th>\n",
       "      <td>3.047948</td>\n",
       "      <td>106.685870</td>\n",
       "      <td>77.365868</td>\n",
       "      <td>92.172487</td>\n",
       "      <td>522.085058</td>\n",
       "      <td>0.185772</td>\n",
       "      <td>0.061172</td>\n",
       "      <td>-0.155681</td>\n",
       "      <td>836.378479</td>\n",
       "      <td>0.173382</td>\n",
       "      <td>0cho11mt05y51</td>\n",
       "      <td>0</td>\n",
       "      <td>0</td>\n",
       "      <td>1</td>\n",
       "    </tr>\n",
       "    <tr>\n",
       "      <th>94</th>\n",
       "      <td>4.568911</td>\n",
       "      <td>112.671132</td>\n",
       "      <td>81.514422</td>\n",
       "      <td>263.882017</td>\n",
       "      <td>522.181492</td>\n",
       "      <td>0.196607</td>\n",
       "      <td>0.047764</td>\n",
       "      <td>-0.253143</td>\n",
       "      <td>1280.950082</td>\n",
       "      <td>0.565823</td>\n",
       "      <td>0d9lcxq7sxf61</td>\n",
       "      <td>0</td>\n",
       "      <td>0</td>\n",
       "      <td>1</td>\n",
       "    </tr>\n",
       "    <tr>\n",
       "      <th>125</th>\n",
       "      <td>2.212331</td>\n",
       "      <td>104.432908</td>\n",
       "      <td>71.687739</td>\n",
       "      <td>122.728438</td>\n",
       "      <td>522.254005</td>\n",
       "      <td>0.224069</td>\n",
       "      <td>0.041363</td>\n",
       "      <td>-0.037343</td>\n",
       "      <td>1389.920314</td>\n",
       "      <td>0.058946</td>\n",
       "      <td>0h3jkge4hj761</td>\n",
       "      <td>1</td>\n",
       "      <td>0</td>\n",
       "      <td>1</td>\n",
       "    </tr>\n",
       "    <tr>\n",
       "      <th>126</th>\n",
       "      <td>3.000411</td>\n",
       "      <td>105.012940</td>\n",
       "      <td>72.599253</td>\n",
       "      <td>96.780386</td>\n",
       "      <td>507.418102</td>\n",
       "      <td>0.204497</td>\n",
       "      <td>0.049593</td>\n",
       "      <td>-0.053967</td>\n",
       "      <td>980.707100</td>\n",
       "      <td>0.072417</td>\n",
       "      <td>0h3jkge4hj761</td>\n",
       "      <td>1</td>\n",
       "      <td>0</td>\n",
       "      <td>1</td>\n",
       "    </tr>\n",
       "    <tr>\n",
       "      <th>132</th>\n",
       "      <td>2.406680</td>\n",
       "      <td>107.533282</td>\n",
       "      <td>74.255969</td>\n",
       "      <td>194.785761</td>\n",
       "      <td>518.776525</td>\n",
       "      <td>0.206552</td>\n",
       "      <td>0.041101</td>\n",
       "      <td>-0.060477</td>\n",
       "      <td>1346.232249</td>\n",
       "      <td>0.106158</td>\n",
       "      <td>0h3jkge4hj761</td>\n",
       "      <td>1</td>\n",
       "      <td>0</td>\n",
       "      <td>1</td>\n",
       "    </tr>\n",
       "  </tbody>\n",
       "</table>\n",
       "</div>"
      ],
      "text/plain": [
       "     analyse_harmonics  get_max_intensity  analyse_intensity  analyse_pitch  \\\n",
       "0             2.071884         108.591944          76.429126     355.354649   \n",
       "1             1.548685         107.108480          78.207339     409.030438   \n",
       "2             2.202973         110.003934          77.650102     393.605328   \n",
       "3             4.541632         100.037201          67.432142     358.021668   \n",
       "4             3.790801          98.041081          63.570349     373.512829   \n",
       "5             3.859515          99.656235          66.680578     394.698825   \n",
       "6             4.301706         100.620469          67.893825     355.316875   \n",
       "7             4.134565         101.666306          68.782272     381.025067   \n",
       "64            4.832865         108.258940          77.036272     219.231909   \n",
       "88            3.707670         107.282961          77.338457     107.077688   \n",
       "89            3.047948         106.685870          77.365868      92.172487   \n",
       "94            4.568911         112.671132          81.514422     263.882017   \n",
       "125           2.212331         104.432908          71.687739     122.728438   \n",
       "126           3.000411         105.012940          72.599253      96.780386   \n",
       "132           2.406680         107.533282          74.255969     194.785761   \n",
       "\n",
       "     analyse_pitch_range  analyse_shimmer  analyse_jitter  spectral_slope  \\\n",
       "0             517.899150         0.193371        0.039075       -0.091534   \n",
       "1             491.537960         0.202199        0.049623       -0.090760   \n",
       "2             511.080779         0.200674        0.038352       -0.116676   \n",
       "3             448.489253         0.201583        0.035544       -0.010975   \n",
       "4             519.744413         0.190743        0.046422       -0.004044   \n",
       "5             461.355272         0.181399        0.038183       -0.011376   \n",
       "6             439.101386         0.199342        0.043200       -0.014285   \n",
       "7             513.486703         0.192137        0.038323       -0.017456   \n",
       "64            499.293824         0.173476        0.024539       -0.089942   \n",
       "88            523.583154         0.161535        0.027049       -0.157909   \n",
       "89            522.085058         0.185772        0.061172       -0.155681   \n",
       "94            522.181492         0.196607        0.047764       -0.253143   \n",
       "125           522.254005         0.224069        0.041363       -0.037343   \n",
       "126           507.418102         0.204497        0.049593       -0.053967   \n",
       "132           518.776525         0.206552        0.041101       -0.060477   \n",
       "\n",
       "     mean_spectral_rolloff  get_energy parent_file_train  parent_label_train  \\\n",
       "0              1711.357507    0.174962     00g8dfgpqpt61                   0   \n",
       "1              1469.373610    0.263521     00g8dfgpqpt62                   0   \n",
       "2              1287.538989    0.231453     00g8dfgpqpt63                   0   \n",
       "3              1251.558111    0.022047     01avx2fm1t961                   3   \n",
       "4              1387.495977    0.009121     01avx2fm1t961                   3   \n",
       "5              1164.256959    0.018612     01avx2fm1t961                   3   \n",
       "6              1043.864847    0.025372     01avx2fm1t961                   3   \n",
       "7              1025.571987    0.028210     01avx2fm1t961                   3   \n",
       "64             1778.052375    0.139028     09etqbnf0uc61                   0   \n",
       "88              903.503189    0.216111     0cho11mt05y51                   0   \n",
       "89              836.378479    0.173382     0cho11mt05y51                   0   \n",
       "94             1280.950082    0.565823     0d9lcxq7sxf61                   0   \n",
       "125            1389.920314    0.058946     0h3jkge4hj761                   1   \n",
       "126             980.707100    0.072417     0h3jkge4hj761                   1   \n",
       "132            1346.232249    0.106158     0h3jkge4hj761                   1   \n",
       "\n",
       "     segment_label_train  noisy_train  \n",
       "0                      0            1  \n",
       "1                      0            1  \n",
       "2                      0            1  \n",
       "3                      3            1  \n",
       "4                      2            1  \n",
       "5                      2            1  \n",
       "6                      2            1  \n",
       "7                      2            1  \n",
       "64                     0            1  \n",
       "88                     0            1  \n",
       "89                     0            1  \n",
       "94                     0            1  \n",
       "125                    0            1  \n",
       "126                    0            1  \n",
       "132                    0            1  "
      ]
     },
     "execution_count": 26,
     "metadata": {},
     "output_type": "execute_result"
    }
   ],
   "source": [
    "aggression_data_df['get_max_intensity'] = pd.to_numeric(aggression_data_df['get_max_intensity'])\n",
    "non_noisy_df['get_max_intensity'] = pd.to_numeric(non_noisy_df['get_max_intensity'])\n",
    "noisy_df['get_max_intensity'] = pd.to_numeric(noisy_df['get_max_intensity'])\n",
    "\n",
    "noisy_df.head(15)"
   ]
  },
  {
   "cell_type": "markdown",
   "metadata": {
    "id": "TZdWEIykwfQy"
   },
   "source": [
    "Segregate data df and label df and reset indexes from all groups"
   ]
  },
  {
   "cell_type": "code",
   "execution_count": 27,
   "metadata": {
    "id": "_5pUaPxkwfQy",
    "outputId": "a2d11996-a31c-4175-cd55-3a981bef54a6"
   },
   "outputs": [
    {
     "name": "stdout",
     "output_type": "stream",
     "text": [
      "Shape of labelled data in Group 1:(2110, 3) \n",
      " Shape of data in Group 1: (2110, 14)\n",
      "\n",
      "Shape of labelled data in Group 2:(1848, 3) \n",
      " Shape of data in Group 2: (1848, 14)\n",
      "\n",
      "Shape of labelled data in Group 3:(262, 3) \n",
      " Shape of data in Group 3: (262, 14)\n",
      "\n"
     ]
    }
   ],
   "source": [
    "feature_labels = ['parent_label_train', 'segment_label_train', 'noisy_train']\n",
    "\n",
    "label_df = aggression_data_df.filter(items=feature_labels)\n",
    "aggression_df = aggression_data_df#.drop(columns=feature_labels)\n",
    "\n",
    "label_non_noisy_df = non_noisy_df.filter(items=feature_labels)\n",
    "aggression_non_noisy_df = non_noisy_df#.drop(columns=feature_labels)\n",
    "\n",
    "label_noisy_df = noisy_df.filter(items=feature_labels)\n",
    "aggression_noisy_df = noisy_df#.drop(columns=feature_labels)\n",
    "\n",
    "label_df.reset_index(drop=True, inplace=True)\n",
    "aggression_df.reset_index(drop=True, inplace=True)\n",
    "\n",
    "label_non_noisy_df.reset_index(drop=True, inplace=True)\n",
    "aggression_non_noisy_df.reset_index(drop=True, inplace=True)\n",
    "\n",
    "label_noisy_df.reset_index(drop=True, inplace=True)\n",
    "aggression_noisy_df.reset_index(drop=True, inplace=True)\n",
    "\n",
    "print(f\"Shape of labelled data in Group 1:{label_df.shape} \\n Shape of data in Group 1: {aggression_df.shape}\\n\")\n",
    "print(f\"Shape of labelled data in Group 2:{label_non_noisy_df.shape} \\n Shape of data in Group 2: {aggression_non_noisy_df.shape}\\n\")\n",
    "print(f\"Shape of labelled data in Group 3:{label_noisy_df.shape} \\n Shape of data in Group 3: {aggression_noisy_df.shape}\\n\")"
   ]
  },
  {
   "cell_type": "markdown",
   "metadata": {
    "id": "52UlVRWUwfQz"
   },
   "source": [
    "Extra code to run model against parent labels and not segment labels"
   ]
  },
  {
   "cell_type": "code",
   "execution_count": 28,
   "metadata": {},
   "outputs": [
    {
     "data": {
      "text/html": [
       "<div>\n",
       "<style scoped>\n",
       "    .dataframe tbody tr th:only-of-type {\n",
       "        vertical-align: middle;\n",
       "    }\n",
       "\n",
       "    .dataframe tbody tr th {\n",
       "        vertical-align: top;\n",
       "    }\n",
       "\n",
       "    .dataframe thead th {\n",
       "        text-align: right;\n",
       "    }\n",
       "</style>\n",
       "<table border=\"1\" class=\"dataframe\">\n",
       "  <thead>\n",
       "    <tr style=\"text-align: right;\">\n",
       "      <th></th>\n",
       "      <th>analyse_harmonics</th>\n",
       "      <th>get_max_intensity</th>\n",
       "      <th>analyse_intensity</th>\n",
       "      <th>analyse_pitch</th>\n",
       "      <th>analyse_pitch_range</th>\n",
       "      <th>analyse_shimmer</th>\n",
       "      <th>analyse_jitter</th>\n",
       "      <th>spectral_slope</th>\n",
       "      <th>mean_spectral_rolloff</th>\n",
       "      <th>get_energy</th>\n",
       "      <th>parent_file_train</th>\n",
       "      <th>parent_label_train</th>\n",
       "      <th>segment_label_train</th>\n",
       "      <th>noisy_train</th>\n",
       "    </tr>\n",
       "  </thead>\n",
       "  <tbody>\n",
       "    <tr>\n",
       "      <th>0</th>\n",
       "      <td>2.071884</td>\n",
       "      <td>108.591944</td>\n",
       "      <td>76.429126</td>\n",
       "      <td>355.354649</td>\n",
       "      <td>517.899150</td>\n",
       "      <td>0.193371</td>\n",
       "      <td>0.039075</td>\n",
       "      <td>-0.091534</td>\n",
       "      <td>1711.357507</td>\n",
       "      <td>0.174962</td>\n",
       "      <td>00g8dfgpqpt61</td>\n",
       "      <td>0</td>\n",
       "      <td>0</td>\n",
       "      <td>1</td>\n",
       "    </tr>\n",
       "    <tr>\n",
       "      <th>1</th>\n",
       "      <td>1.548685</td>\n",
       "      <td>107.108480</td>\n",
       "      <td>78.207339</td>\n",
       "      <td>409.030438</td>\n",
       "      <td>491.537960</td>\n",
       "      <td>0.202199</td>\n",
       "      <td>0.049623</td>\n",
       "      <td>-0.090760</td>\n",
       "      <td>1469.373610</td>\n",
       "      <td>0.263521</td>\n",
       "      <td>00g8dfgpqpt62</td>\n",
       "      <td>0</td>\n",
       "      <td>0</td>\n",
       "      <td>1</td>\n",
       "    </tr>\n",
       "    <tr>\n",
       "      <th>2</th>\n",
       "      <td>2.202973</td>\n",
       "      <td>110.003934</td>\n",
       "      <td>77.650102</td>\n",
       "      <td>393.605328</td>\n",
       "      <td>511.080779</td>\n",
       "      <td>0.200674</td>\n",
       "      <td>0.038352</td>\n",
       "      <td>-0.116676</td>\n",
       "      <td>1287.538989</td>\n",
       "      <td>0.231453</td>\n",
       "      <td>00g8dfgpqpt63</td>\n",
       "      <td>0</td>\n",
       "      <td>0</td>\n",
       "      <td>1</td>\n",
       "    </tr>\n",
       "    <tr>\n",
       "      <th>3</th>\n",
       "      <td>4.541632</td>\n",
       "      <td>100.037201</td>\n",
       "      <td>67.432142</td>\n",
       "      <td>358.021668</td>\n",
       "      <td>448.489253</td>\n",
       "      <td>0.201583</td>\n",
       "      <td>0.035544</td>\n",
       "      <td>-0.010975</td>\n",
       "      <td>1251.558111</td>\n",
       "      <td>0.022047</td>\n",
       "      <td>01avx2fm1t961</td>\n",
       "      <td>3</td>\n",
       "      <td>3</td>\n",
       "      <td>1</td>\n",
       "    </tr>\n",
       "    <tr>\n",
       "      <th>4</th>\n",
       "      <td>3.790801</td>\n",
       "      <td>98.041081</td>\n",
       "      <td>63.570349</td>\n",
       "      <td>373.512829</td>\n",
       "      <td>519.744413</td>\n",
       "      <td>0.190743</td>\n",
       "      <td>0.046422</td>\n",
       "      <td>-0.004044</td>\n",
       "      <td>1387.495977</td>\n",
       "      <td>0.009121</td>\n",
       "      <td>01avx2fm1t961</td>\n",
       "      <td>3</td>\n",
       "      <td>2</td>\n",
       "      <td>1</td>\n",
       "    </tr>\n",
       "    <tr>\n",
       "      <th>...</th>\n",
       "      <td>...</td>\n",
       "      <td>...</td>\n",
       "      <td>...</td>\n",
       "      <td>...</td>\n",
       "      <td>...</td>\n",
       "      <td>...</td>\n",
       "      <td>...</td>\n",
       "      <td>...</td>\n",
       "      <td>...</td>\n",
       "      <td>...</td>\n",
       "      <td>...</td>\n",
       "      <td>...</td>\n",
       "      <td>...</td>\n",
       "      <td>...</td>\n",
       "    </tr>\n",
       "    <tr>\n",
       "      <th>2105</th>\n",
       "      <td>5.465491</td>\n",
       "      <td>104.113896</td>\n",
       "      <td>69.550541</td>\n",
       "      <td>199.893943</td>\n",
       "      <td>443.057705</td>\n",
       "      <td>0.196757</td>\n",
       "      <td>0.033226</td>\n",
       "      <td>-0.020890</td>\n",
       "      <td>1002.676098</td>\n",
       "      <td>0.036482</td>\n",
       "      <td>xdz15thrnem51</td>\n",
       "      <td>2</td>\n",
       "      <td>1</td>\n",
       "      <td>0</td>\n",
       "    </tr>\n",
       "    <tr>\n",
       "      <th>2106</th>\n",
       "      <td>6.879443</td>\n",
       "      <td>108.028173</td>\n",
       "      <td>75.501002</td>\n",
       "      <td>258.536830</td>\n",
       "      <td>379.915372</td>\n",
       "      <td>0.149580</td>\n",
       "      <td>0.024206</td>\n",
       "      <td>-0.081411</td>\n",
       "      <td>1023.670363</td>\n",
       "      <td>0.141290</td>\n",
       "      <td>xdz15thrnem51</td>\n",
       "      <td>2</td>\n",
       "      <td>2</td>\n",
       "      <td>0</td>\n",
       "    </tr>\n",
       "    <tr>\n",
       "      <th>2107</th>\n",
       "      <td>4.468770</td>\n",
       "      <td>104.678268</td>\n",
       "      <td>71.100226</td>\n",
       "      <td>194.904220</td>\n",
       "      <td>493.340814</td>\n",
       "      <td>0.162628</td>\n",
       "      <td>0.034465</td>\n",
       "      <td>-0.028155</td>\n",
       "      <td>980.207236</td>\n",
       "      <td>0.051732</td>\n",
       "      <td>xdz15thrnem51</td>\n",
       "      <td>2</td>\n",
       "      <td>1</td>\n",
       "      <td>0</td>\n",
       "    </tr>\n",
       "    <tr>\n",
       "      <th>2108</th>\n",
       "      <td>8.581945</td>\n",
       "      <td>109.335715</td>\n",
       "      <td>76.784989</td>\n",
       "      <td>285.988051</td>\n",
       "      <td>520.259229</td>\n",
       "      <td>0.149758</td>\n",
       "      <td>0.022509</td>\n",
       "      <td>-0.108299</td>\n",
       "      <td>1146.211888</td>\n",
       "      <td>0.190454</td>\n",
       "      <td>xdz15thrnem51</td>\n",
       "      <td>2</td>\n",
       "      <td>2</td>\n",
       "      <td>0</td>\n",
       "    </tr>\n",
       "    <tr>\n",
       "      <th>2109</th>\n",
       "      <td>2.829222</td>\n",
       "      <td>105.455598</td>\n",
       "      <td>74.654532</td>\n",
       "      <td>186.190085</td>\n",
       "      <td>486.287854</td>\n",
       "      <td>0.195173</td>\n",
       "      <td>0.034362</td>\n",
       "      <td>-0.081877</td>\n",
       "      <td>698.359229</td>\n",
       "      <td>0.116369</td>\n",
       "      <td>xdz15thrnem51</td>\n",
       "      <td>2</td>\n",
       "      <td>1</td>\n",
       "      <td>0</td>\n",
       "    </tr>\n",
       "  </tbody>\n",
       "</table>\n",
       "<p>2110 rows × 14 columns</p>\n",
       "</div>"
      ],
      "text/plain": [
       "      analyse_harmonics  get_max_intensity  analyse_intensity  analyse_pitch  \\\n",
       "0              2.071884         108.591944          76.429126     355.354649   \n",
       "1              1.548685         107.108480          78.207339     409.030438   \n",
       "2              2.202973         110.003934          77.650102     393.605328   \n",
       "3              4.541632         100.037201          67.432142     358.021668   \n",
       "4              3.790801          98.041081          63.570349     373.512829   \n",
       "...                 ...                ...                ...            ...   \n",
       "2105           5.465491         104.113896          69.550541     199.893943   \n",
       "2106           6.879443         108.028173          75.501002     258.536830   \n",
       "2107           4.468770         104.678268          71.100226     194.904220   \n",
       "2108           8.581945         109.335715          76.784989     285.988051   \n",
       "2109           2.829222         105.455598          74.654532     186.190085   \n",
       "\n",
       "      analyse_pitch_range  analyse_shimmer  analyse_jitter  spectral_slope  \\\n",
       "0              517.899150         0.193371        0.039075       -0.091534   \n",
       "1              491.537960         0.202199        0.049623       -0.090760   \n",
       "2              511.080779         0.200674        0.038352       -0.116676   \n",
       "3              448.489253         0.201583        0.035544       -0.010975   \n",
       "4              519.744413         0.190743        0.046422       -0.004044   \n",
       "...                   ...              ...             ...             ...   \n",
       "2105           443.057705         0.196757        0.033226       -0.020890   \n",
       "2106           379.915372         0.149580        0.024206       -0.081411   \n",
       "2107           493.340814         0.162628        0.034465       -0.028155   \n",
       "2108           520.259229         0.149758        0.022509       -0.108299   \n",
       "2109           486.287854         0.195173        0.034362       -0.081877   \n",
       "\n",
       "      mean_spectral_rolloff  get_energy parent_file_train  parent_label_train  \\\n",
       "0               1711.357507    0.174962     00g8dfgpqpt61                   0   \n",
       "1               1469.373610    0.263521     00g8dfgpqpt62                   0   \n",
       "2               1287.538989    0.231453     00g8dfgpqpt63                   0   \n",
       "3               1251.558111    0.022047     01avx2fm1t961                   3   \n",
       "4               1387.495977    0.009121     01avx2fm1t961                   3   \n",
       "...                     ...         ...               ...                 ...   \n",
       "2105            1002.676098    0.036482     xdz15thrnem51                   2   \n",
       "2106            1023.670363    0.141290     xdz15thrnem51                   2   \n",
       "2107             980.207236    0.051732     xdz15thrnem51                   2   \n",
       "2108            1146.211888    0.190454     xdz15thrnem51                   2   \n",
       "2109             698.359229    0.116369     xdz15thrnem51                   2   \n",
       "\n",
       "      segment_label_train  noisy_train  \n",
       "0                       0            1  \n",
       "1                       0            1  \n",
       "2                       0            1  \n",
       "3                       3            1  \n",
       "4                       2            1  \n",
       "...                   ...          ...  \n",
       "2105                    1            0  \n",
       "2106                    2            0  \n",
       "2107                    1            0  \n",
       "2108                    2            0  \n",
       "2109                    1            0  \n",
       "\n",
       "[2110 rows x 14 columns]"
      ]
     },
     "execution_count": 28,
     "metadata": {},
     "output_type": "execute_result"
    }
   ],
   "source": [
    "aggression_df #label_df"
   ]
  },
  {
   "cell_type": "code",
   "execution_count": 29,
   "metadata": {
    "id": "qLinOTM0wfQz",
    "outputId": "d5786505-d2b9-4fa1-b325-7dd740a2234a"
   },
   "outputs": [
    {
     "data": {
      "text/html": [
       "<div>\n",
       "<style scoped>\n",
       "    .dataframe tbody tr th:only-of-type {\n",
       "        vertical-align: middle;\n",
       "    }\n",
       "\n",
       "    .dataframe tbody tr th {\n",
       "        vertical-align: top;\n",
       "    }\n",
       "\n",
       "    .dataframe thead th {\n",
       "        text-align: right;\n",
       "    }\n",
       "</style>\n",
       "<table border=\"1\" class=\"dataframe\">\n",
       "  <thead>\n",
       "    <tr style=\"text-align: right;\">\n",
       "      <th></th>\n",
       "      <th>filename</th>\n",
       "      <th>parent_label</th>\n",
       "    </tr>\n",
       "  </thead>\n",
       "  <tbody>\n",
       "    <tr>\n",
       "      <th>0</th>\n",
       "      <td>00g8dfgpqpt61</td>\n",
       "      <td>0</td>\n",
       "    </tr>\n",
       "    <tr>\n",
       "      <th>1</th>\n",
       "      <td>00g8dfgpqpt62</td>\n",
       "      <td>0</td>\n",
       "    </tr>\n",
       "    <tr>\n",
       "      <th>2</th>\n",
       "      <td>00g8dfgpqpt63</td>\n",
       "      <td>0</td>\n",
       "    </tr>\n",
       "    <tr>\n",
       "      <th>3</th>\n",
       "      <td>01avx2fm1t961</td>\n",
       "      <td>3</td>\n",
       "    </tr>\n",
       "    <tr>\n",
       "      <th>4</th>\n",
       "      <td>09etqbnf0uc61</td>\n",
       "      <td>0</td>\n",
       "    </tr>\n",
       "    <tr>\n",
       "      <th>...</th>\n",
       "      <td>...</td>\n",
       "      <td>...</td>\n",
       "    </tr>\n",
       "    <tr>\n",
       "      <th>69</th>\n",
       "      <td>wjha1sf516b71</td>\n",
       "      <td>0</td>\n",
       "    </tr>\n",
       "    <tr>\n",
       "      <th>70</th>\n",
       "      <td>wkgibcp6fro51</td>\n",
       "      <td>0</td>\n",
       "    </tr>\n",
       "    <tr>\n",
       "      <th>71</th>\n",
       "      <td>wocoyi48sgs51</td>\n",
       "      <td>2</td>\n",
       "    </tr>\n",
       "    <tr>\n",
       "      <th>72</th>\n",
       "      <td>xbw64yf04th51</td>\n",
       "      <td>1</td>\n",
       "    </tr>\n",
       "    <tr>\n",
       "      <th>73</th>\n",
       "      <td>xda96lajcd871</td>\n",
       "      <td>0</td>\n",
       "    </tr>\n",
       "  </tbody>\n",
       "</table>\n",
       "<p>74 rows × 2 columns</p>\n",
       "</div>"
      ],
      "text/plain": [
       "         filename  parent_label\n",
       "0   00g8dfgpqpt61             0\n",
       "1   00g8dfgpqpt62             0\n",
       "2   00g8dfgpqpt63             0\n",
       "3   01avx2fm1t961             3\n",
       "4   09etqbnf0uc61             0\n",
       "..            ...           ...\n",
       "69  wjha1sf516b71             0\n",
       "70  wkgibcp6fro51             0\n",
       "71  wocoyi48sgs51             2\n",
       "72  xbw64yf04th51             1\n",
       "73  xda96lajcd871             0\n",
       "\n",
       "[74 rows x 2 columns]"
      ]
     },
     "execution_count": 29,
     "metadata": {},
     "output_type": "execute_result"
    }
   ],
   "source": [
    "# print(aggression_noisy_df.tail(10))\n",
    "\n",
    "to_add = aggression_noisy_df.parent_file_train.unique()\n",
    "\n",
    "actual_noisy_test_df = pd.DataFrame(to_add, columns = ['filename'])\n",
    "actual_noisy_test_df[\"parent_label\"] = -1\n",
    "\n",
    "actual_noisy_test_df.head()\n",
    "\n",
    "for fn in to_add:    \n",
    "    actual_noisy_test_df.loc[actual_noisy_test_df['filename'] == fn, ['parent_label']] = noisy_df.loc[noisy_df.parent_file_train == fn, 'parent_label_train'].values[0]\n",
    "    # actual_noisy_test_df.at[0, fn] = aggression_noisy_df.iloc[0][fn]\n",
    "\n",
    "actual_noisy_test_df\n",
    "# print(noisy_df.loc[noisy_df.parent_file_train == '3nvn1lwacgg61', 'parent_label_train'].values[0])"
   ]
  },
  {
   "cell_type": "markdown",
   "metadata": {
    "id": "OWLPT3fowfQ0"
   },
   "source": [
    "# Standardization"
   ]
  },
  {
   "cell_type": "code",
   "execution_count": 30,
   "metadata": {
    "id": "EGxLwcczwfQ0"
   },
   "outputs": [],
   "source": [
    "from sklearn.preprocessing import StandardScaler\n",
    "\n",
    "# Helper function: returns a standardized dataframe\n",
    "def standardize(df):\n",
    "    org_features = df.columns\n",
    "    features = [i for i in df.columns if i not in ['parent_file_train'] + feature_labels]\n",
    "    \n",
    "    values_array = df.loc[:, features].values\n",
    "\n",
    "    # Print data before standardization to compare\n",
    "    print(\"Before Standardization \\n\")\n",
    "    print(\"Mean and Standard Deviation\")\n",
    "    print(f\"Mean = {np.mean(values_array)} ; Standard Deviation = {np.std(values_array)}\")\n",
    "    print(f\"Shape to verify: {values_array.shape} \\n\")\n",
    "    print(f\"Tail of the data pre standardization: \\n{values_array[-5:]} \\n\\n\")\n",
    "\n",
    "    # Invoke standardization\n",
    "    # Numeric columns: Std scaler\n",
    "    pipeline = ColumnTransformer([\n",
    "        ('transform_numeric',StandardScaler(),features),    \n",
    "    ], remainder='passthrough')\n",
    "\n",
    "\n",
    "    # Transform input vector (features)\n",
    "    df =  pd.DataFrame(pipeline.fit_transform(df),columns=org_features)\n",
    "    \n",
    "    #values_array = StandardScaler().fit_transform(values_array)\n",
    "    \n",
    "    values_array = df.loc[:, features].values  # To do the below computation\n",
    "    # Print data after standardization to compare\n",
    "    print(\"After Standardization \\n\")\n",
    "    print(\"Mean and Standard Deviation\")\n",
    "    print(f\"Mean = {np.mean(values_array)} ; Standard Deviation = {np.std(values_array)}\")\n",
    "    print(f\"Shape to verify: {values_array.shape}\")\n",
    "    print(f\"Tail of the data post standardization: \\n{values_array[-5:]}\")\n",
    "\n",
    "    return df"
   ]
  },
  {
   "cell_type": "markdown",
   "metadata": {
    "id": "Zqqna4hJwfQ1"
   },
   "source": [
    "Standardize data for all groups"
   ]
  },
  {
   "cell_type": "code",
   "execution_count": 31,
   "metadata": {
    "id": "_lW8YuZwwfQ1",
    "outputId": "4c0adc2f-7673-4a27-d1d5-f8c3a93f989b"
   },
   "outputs": [
    {
     "name": "stdout",
     "output_type": "stream",
     "text": [
      "Before Standardization \n",
      "\n",
      "Mean and Standard Deviation\n",
      "Mean = 207.03214462485482 ; Standard Deviation = 405.89809500083527\n",
      "Shape to verify: (2110, 10) \n",
      "\n",
      "Tail of the data pre standardization: \n",
      "[[ 5.46549109e+00  1.04113896e+02  6.95505405e+01  1.99893943e+02\n",
      "   4.43057705e+02  1.96756913e-01  3.32257430e-02 -2.08904800e-02\n",
      "   1.00267610e+03  3.64816420e-02]\n",
      " [ 6.87944281e+00  1.08028173e+02  7.55010015e+01  2.58536830e+02\n",
      "   3.79915372e+02  1.49580347e-01  2.42058080e-02 -8.14106130e-02\n",
      "   1.02367036e+03  1.41290270e-01]\n",
      " [ 4.46876994e+00  1.04678268e+02  7.11002256e+01  1.94904220e+02\n",
      "   4.93340814e+02  1.62627554e-01  3.44649850e-02 -2.81549870e-02\n",
      "   9.80207236e+02  5.17316800e-02]\n",
      " [ 8.58194493e+00  1.09335715e+02  7.67849889e+01  2.85988051e+02\n",
      "   5.20259229e+02  1.49757852e-01  2.25093080e-02 -1.08298994e-01\n",
      "   1.14621189e+03  1.90454480e-01]\n",
      " [ 2.82922212e+00  1.05455598e+02  7.46545323e+01  1.86190085e+02\n",
      "   4.86287854e+02  1.95173250e-01  3.43624990e-02 -8.18768770e-02\n",
      "   6.98359229e+02  1.16369388e-01]] \n",
      "\n",
      "\n",
      "After Standardization \n",
      "\n",
      "Mean and Standard Deviation\n",
      "Mean = -2.323904628500039e-17 ; Standard Deviation = 0.9999999999999954\n",
      "Shape to verify: (2110, 10)\n",
      "Tail of the data post standardization: \n",
      "[[-0.3236592426442692 -0.014224751911350841 -0.29255470973521885\n",
      "  -0.2745825090750125 0.20262229363583828 0.9875922653196642\n",
      "  -0.006539094496929467 0.4790819620249699 -0.4653827573202498\n",
      "  -0.48087177179174295]\n",
      " [0.05372541286536859 0.7116941236388707 0.7198335756963727\n",
      "  0.3655418807536725 -0.35001803740182325 -0.2559403494701924\n",
      "  -0.5650741239111888 -0.2153519890941189 -0.42472645464721626\n",
      "  0.2604247061584794]\n",
      " [-0.589684781109793 0.09044025565488019 -0.02889731335353392\n",
      "  -0.329048506939503 0.642714892870845 0.08797250413628938\n",
      "  0.07019760780983686 0.39572589440128714 -0.5088946807014681\n",
      "  -0.373010427990858]\n",
      " [0.5081243610819743 0.9541832320027501 0.9382862003666754\n",
      "  0.6651894073311713 0.878312807670642 -0.25126147443744273\n",
      "  -0.6701252886259336 -0.523880799779737 -0.1874194886536399\n",
      "  0.6081561516479206]\n",
      " [-1.0272811842299405 0.23459934087317236 0.575818604627095\n",
      "  -0.42416882236007514 0.5809853044367489 0.9458483072847371\n",
      "  0.06385144001322313 -0.22070210211823582 -1.0547055436512234\n",
      "  0.08416286200941674]]\n",
      "Before Standardization \n",
      "\n",
      "Mean and Standard Deviation\n",
      "Mean = 207.29693013792163 ; Standard Deviation = 410.78706249224183\n",
      "Shape to verify: (1848, 10) \n",
      "\n",
      "Tail of the data pre standardization: \n",
      "[[ 5.46549109e+00  1.04113896e+02  6.95505405e+01  1.99893943e+02\n",
      "   4.43057705e+02  1.96756913e-01  3.32257430e-02 -2.08904800e-02\n",
      "   1.00267610e+03  3.64816420e-02]\n",
      " [ 6.87944281e+00  1.08028173e+02  7.55010015e+01  2.58536830e+02\n",
      "   3.79915372e+02  1.49580347e-01  2.42058080e-02 -8.14106130e-02\n",
      "   1.02367036e+03  1.41290270e-01]\n",
      " [ 4.46876994e+00  1.04678268e+02  7.11002256e+01  1.94904220e+02\n",
      "   4.93340814e+02  1.62627554e-01  3.44649850e-02 -2.81549870e-02\n",
      "   9.80207236e+02  5.17316800e-02]\n",
      " [ 8.58194493e+00  1.09335715e+02  7.67849889e+01  2.85988051e+02\n",
      "   5.20259229e+02  1.49757852e-01  2.25093080e-02 -1.08298994e-01\n",
      "   1.14621189e+03  1.90454480e-01]\n",
      " [ 2.82922212e+00  1.05455598e+02  7.46545323e+01  1.86190085e+02\n",
      "   4.86287854e+02  1.95173250e-01  3.43624990e-02 -8.18768770e-02\n",
      "   6.98359229e+02  1.16369388e-01]] \n",
      "\n",
      "\n",
      "After Standardization \n",
      "\n",
      "Mean and Standard Deviation\n",
      "Mean = 1.3256741784163884e-16 ; Standard Deviation = 1.000000000000001\n",
      "Shape to verify: (1848, 10)\n",
      "Tail of the data post standardization: \n",
      "[[-0.43450810784976784 0.06085137957333774 -0.1893058229648554\n",
      "  -0.22757797205205652 0.23312905652337582 1.096757836300064\n",
      "  0.09195304391398637 0.4485358277975469 -0.47263524294679754\n",
      "  -0.4476836908523463]\n",
      " [-0.05520636900392004 0.7770208514288386 0.8385397924810536\n",
      "  0.4336315213949878 -0.32053229550213197 -0.1592076754109214\n",
      "  -0.4875841030115702 -0.39854978503188976 -0.4332611471634742\n",
      "  0.4581785505980486]\n",
      " [-0.7018850343999763 0.16411069093047 0.07837714289963922\n",
      "  -0.28383802936327024 0.674034741150777 0.18814363490179095\n",
      "  0.17157521115025992 0.3468562864786484 -0.5147748996860483\n",
      "  -0.31587742768016075]\n",
      " [0.4015008888879718 1.0162532264460056 1.0603277918891065\n",
      "  0.7431491595433994 0.9100679307616826 -0.15448202076797324\n",
      "  -0.5965854172958978 -0.7748999278410004 -0.2034383006487459\n",
      "  0.883105413200791]\n",
      " [-1.1417043916338099 0.3063336574371644 0.6923259744210967\n",
      "  -0.3820915197397139 0.6121911052941122 1.0545965202311331\n",
      "  0.16499041380528884 -0.4050759690734929 -1.0433721351551855\n",
      "  0.24278706558175014]]\n",
      "Before Standardization \n",
      "\n",
      "Mean and Standard Deviation\n",
      "Mean = 205.16449718917747 ; Standard Deviation = 369.5763759893764\n",
      "Shape to verify: (262, 10) \n",
      "\n",
      "Tail of the data pre standardization: \n",
      "[[ 3.60348984e+00  1.06815988e+02  7.13445156e+01  2.41345880e+02\n",
      "   5.23779452e+02  1.74441244e-01  4.91894680e-02 -2.49151480e-02\n",
      "   1.32443820e+03  5.42820370e-02]\n",
      " [ 2.42861500e+00  1.06760440e+02  7.36384252e+01  2.79496240e+02\n",
      "   5.01396651e+02  1.71398232e-01  4.19367510e-02 -5.47768610e-02\n",
      "   1.37909320e+03  5.06922570e-02]\n",
      " [ 1.80212908e+00  9.66808855e+01  6.49915839e+01  9.17385669e+01\n",
      "   4.85505564e+02  2.47473702e-01  1.06098460e-01 -1.13285950e-02\n",
      "   1.49884056e+02  1.25899440e-02]\n",
      " [ 6.70225411e+00  1.03473134e+02  7.23652835e+01  1.17576362e+02\n",
      "   1.55543119e+02  2.16493344e-01  4.82147780e-02 -5.62415540e-02\n",
      "   9.19498820e+02  6.87555620e-02]\n",
      " [ 6.09438752e+00  1.02679005e+02  7.10355755e+01  1.26187841e+02\n",
      "   5.24684265e+02  2.08209860e-01  5.39958830e-02 -4.01669450e-02\n",
      "   1.11999405e+03  5.08918460e-02]] \n",
      "\n",
      "\n",
      "After Standardization \n",
      "\n",
      "Mean and Standard Deviation\n",
      "Mean = 1.6776232650728988e-16 ; Standard Deviation = 0.9999999999999989\n",
      "Shape to verify: (262, 10)\n",
      "Tail of the data post standardization: \n",
      "[[-0.08572656753742806 -0.0700468882047832 -0.9734482029386643\n",
      "  -0.18137873869928514 0.7059999696557138 -0.38282357214547186\n",
      "  0.31271637529580454 0.754442828873238 0.4471387956391044\n",
      "  -0.7231708128717262]\n",
      " [-0.5812101997066613 -0.08492554827218537 -0.45703184960079546\n",
      "  0.18736106883069947 0.5075632020887801 -0.4872528756290075\n",
      "  -0.13920448391026177 0.5422882973054987 0.5962253479601756\n",
      "  -0.7389625646510201]\n",
      " [-0.845420061481054 -2.784781865046313 -2.403651770853038\n",
      "  -1.627398426871187 0.3666793271711436 2.12348554547569 3.85874754695067\n",
      "  0.8509694007860839 -2.756780672202693 -0.9065779252338294]\n",
      " [1.2211249533440673 -0.965446137654694 -0.7436478578988371\n",
      "  -1.3776649107241454 -2.5586328438220916 1.0603095844178316\n",
      "  0.25198289537930413 0.5318822882026202 -0.6574447388494526\n",
      "  -0.6595005282940076]\n",
      " [0.9647674784154917 -1.1781573654962978 -1.0429983350226963\n",
      "  -1.294431219480995 0.714021672766495 0.7760391101190065\n",
      "  0.6122067864756322 0.6460854199027193 -0.1105388567413209\n",
      "  -0.738084555428762]]\n"
     ]
    }
   ],
   "source": [
    "standardized_aggression_df = standardize(aggression_df)\n",
    "standardized_non_noisy_df = standardize(aggression_non_noisy_df)\n",
    "standardized_noisy_df = standardize(aggression_noisy_df)"
   ]
  },
  {
   "cell_type": "code",
   "execution_count": 32,
   "metadata": {},
   "outputs": [
    {
     "data": {
      "text/html": [
       "<div>\n",
       "<style scoped>\n",
       "    .dataframe tbody tr th:only-of-type {\n",
       "        vertical-align: middle;\n",
       "    }\n",
       "\n",
       "    .dataframe tbody tr th {\n",
       "        vertical-align: top;\n",
       "    }\n",
       "\n",
       "    .dataframe thead th {\n",
       "        text-align: right;\n",
       "    }\n",
       "</style>\n",
       "<table border=\"1\" class=\"dataframe\">\n",
       "  <thead>\n",
       "    <tr style=\"text-align: right;\">\n",
       "      <th></th>\n",
       "      <th>analyse_harmonics</th>\n",
       "      <th>get_max_intensity</th>\n",
       "      <th>analyse_intensity</th>\n",
       "      <th>analyse_pitch</th>\n",
       "      <th>analyse_pitch_range</th>\n",
       "      <th>analyse_shimmer</th>\n",
       "      <th>analyse_jitter</th>\n",
       "      <th>spectral_slope</th>\n",
       "      <th>mean_spectral_rolloff</th>\n",
       "      <th>get_energy</th>\n",
       "      <th>parent_file_train</th>\n",
       "      <th>parent_label_train</th>\n",
       "      <th>segment_label_train</th>\n",
       "      <th>noisy_train</th>\n",
       "    </tr>\n",
       "  </thead>\n",
       "  <tbody>\n",
       "    <tr>\n",
       "      <th>0</th>\n",
       "      <td>-1.229415</td>\n",
       "      <td>0.816248</td>\n",
       "      <td>0.877741</td>\n",
       "      <td>1.42237</td>\n",
       "      <td>0.857657</td>\n",
       "      <td>0.898334</td>\n",
       "      <td>0.355641</td>\n",
       "      <td>-0.331514</td>\n",
       "      <td>0.907009</td>\n",
       "      <td>0.498579</td>\n",
       "      <td>00g8dfgpqpt61</td>\n",
       "      <td>0</td>\n",
       "      <td>0</td>\n",
       "      <td>1</td>\n",
       "    </tr>\n",
       "    <tr>\n",
       "      <th>1</th>\n",
       "      <td>-1.369057</td>\n",
       "      <td>0.541133</td>\n",
       "      <td>1.180279</td>\n",
       "      <td>2.008275</td>\n",
       "      <td>0.626936</td>\n",
       "      <td>1.131041</td>\n",
       "      <td>1.008834</td>\n",
       "      <td>-0.322634</td>\n",
       "      <td>0.438397</td>\n",
       "      <td>1.124945</td>\n",
       "      <td>00g8dfgpqpt62</td>\n",
       "      <td>0</td>\n",
       "      <td>0</td>\n",
       "      <td>1</td>\n",
       "    </tr>\n",
       "    <tr>\n",
       "      <th>2</th>\n",
       "      <td>-1.194428</td>\n",
       "      <td>1.078107</td>\n",
       "      <td>1.085473</td>\n",
       "      <td>1.8399</td>\n",
       "      <td>0.79798</td>\n",
       "      <td>1.090856</td>\n",
       "      <td>0.310873</td>\n",
       "      <td>-0.620007</td>\n",
       "      <td>0.086267</td>\n",
       "      <td>0.898132</td>\n",
       "      <td>00g8dfgpqpt63</td>\n",
       "      <td>0</td>\n",
       "      <td>0</td>\n",
       "      <td>1</td>\n",
       "    </tr>\n",
       "    <tr>\n",
       "      <th>3</th>\n",
       "      <td>-0.570238</td>\n",
       "      <td>-0.770265</td>\n",
       "      <td>-0.652971</td>\n",
       "      <td>1.451482</td>\n",
       "      <td>0.250161</td>\n",
       "      <td>1.114803</td>\n",
       "      <td>0.136983</td>\n",
       "      <td>0.592854</td>\n",
       "      <td>0.016588</td>\n",
       "      <td>-0.582963</td>\n",
       "      <td>01avx2fm1t961</td>\n",
       "      <td>3</td>\n",
       "      <td>3</td>\n",
       "      <td>1</td>\n",
       "    </tr>\n",
       "    <tr>\n",
       "      <th>4</th>\n",
       "      <td>-0.770635</td>\n",
       "      <td>-1.140454</td>\n",
       "      <td>-1.310001</td>\n",
       "      <td>1.620578</td>\n",
       "      <td>0.873807</td>\n",
       "      <td>0.829075</td>\n",
       "      <td>0.810602</td>\n",
       "      <td>0.672384</td>\n",
       "      <td>0.279838</td>\n",
       "      <td>-0.674388</td>\n",
       "      <td>01avx2fm1t961</td>\n",
       "      <td>3</td>\n",
       "      <td>2</td>\n",
       "      <td>1</td>\n",
       "    </tr>\n",
       "    <tr>\n",
       "      <th>...</th>\n",
       "      <td>...</td>\n",
       "      <td>...</td>\n",
       "      <td>...</td>\n",
       "      <td>...</td>\n",
       "      <td>...</td>\n",
       "      <td>...</td>\n",
       "      <td>...</td>\n",
       "      <td>...</td>\n",
       "      <td>...</td>\n",
       "      <td>...</td>\n",
       "      <td>...</td>\n",
       "      <td>...</td>\n",
       "      <td>...</td>\n",
       "      <td>...</td>\n",
       "    </tr>\n",
       "    <tr>\n",
       "      <th>2105</th>\n",
       "      <td>-0.323659</td>\n",
       "      <td>-0.014225</td>\n",
       "      <td>-0.292555</td>\n",
       "      <td>-0.274583</td>\n",
       "      <td>0.202622</td>\n",
       "      <td>0.987592</td>\n",
       "      <td>-0.006539</td>\n",
       "      <td>0.479082</td>\n",
       "      <td>-0.465383</td>\n",
       "      <td>-0.480872</td>\n",
       "      <td>xdz15thrnem51</td>\n",
       "      <td>2</td>\n",
       "      <td>1</td>\n",
       "      <td>0</td>\n",
       "    </tr>\n",
       "    <tr>\n",
       "      <th>2106</th>\n",
       "      <td>0.053725</td>\n",
       "      <td>0.711694</td>\n",
       "      <td>0.719834</td>\n",
       "      <td>0.365542</td>\n",
       "      <td>-0.350018</td>\n",
       "      <td>-0.25594</td>\n",
       "      <td>-0.565074</td>\n",
       "      <td>-0.215352</td>\n",
       "      <td>-0.424726</td>\n",
       "      <td>0.260425</td>\n",
       "      <td>xdz15thrnem51</td>\n",
       "      <td>2</td>\n",
       "      <td>2</td>\n",
       "      <td>0</td>\n",
       "    </tr>\n",
       "    <tr>\n",
       "      <th>2107</th>\n",
       "      <td>-0.589685</td>\n",
       "      <td>0.09044</td>\n",
       "      <td>-0.028897</td>\n",
       "      <td>-0.329049</td>\n",
       "      <td>0.642715</td>\n",
       "      <td>0.087973</td>\n",
       "      <td>0.070198</td>\n",
       "      <td>0.395726</td>\n",
       "      <td>-0.508895</td>\n",
       "      <td>-0.37301</td>\n",
       "      <td>xdz15thrnem51</td>\n",
       "      <td>2</td>\n",
       "      <td>1</td>\n",
       "      <td>0</td>\n",
       "    </tr>\n",
       "    <tr>\n",
       "      <th>2108</th>\n",
       "      <td>0.508124</td>\n",
       "      <td>0.954183</td>\n",
       "      <td>0.938286</td>\n",
       "      <td>0.665189</td>\n",
       "      <td>0.878313</td>\n",
       "      <td>-0.251261</td>\n",
       "      <td>-0.670125</td>\n",
       "      <td>-0.523881</td>\n",
       "      <td>-0.187419</td>\n",
       "      <td>0.608156</td>\n",
       "      <td>xdz15thrnem51</td>\n",
       "      <td>2</td>\n",
       "      <td>2</td>\n",
       "      <td>0</td>\n",
       "    </tr>\n",
       "    <tr>\n",
       "      <th>2109</th>\n",
       "      <td>-1.027281</td>\n",
       "      <td>0.234599</td>\n",
       "      <td>0.575819</td>\n",
       "      <td>-0.424169</td>\n",
       "      <td>0.580985</td>\n",
       "      <td>0.945848</td>\n",
       "      <td>0.063851</td>\n",
       "      <td>-0.220702</td>\n",
       "      <td>-1.054706</td>\n",
       "      <td>0.084163</td>\n",
       "      <td>xdz15thrnem51</td>\n",
       "      <td>2</td>\n",
       "      <td>1</td>\n",
       "      <td>0</td>\n",
       "    </tr>\n",
       "  </tbody>\n",
       "</table>\n",
       "<p>2110 rows × 14 columns</p>\n",
       "</div>"
      ],
      "text/plain": [
       "     analyse_harmonics get_max_intensity analyse_intensity analyse_pitch  \\\n",
       "0            -1.229415          0.816248          0.877741       1.42237   \n",
       "1            -1.369057          0.541133          1.180279      2.008275   \n",
       "2            -1.194428          1.078107          1.085473        1.8399   \n",
       "3            -0.570238         -0.770265         -0.652971      1.451482   \n",
       "4            -0.770635         -1.140454         -1.310001      1.620578   \n",
       "...                ...               ...               ...           ...   \n",
       "2105         -0.323659         -0.014225         -0.292555     -0.274583   \n",
       "2106          0.053725          0.711694          0.719834      0.365542   \n",
       "2107         -0.589685           0.09044         -0.028897     -0.329049   \n",
       "2108          0.508124          0.954183          0.938286      0.665189   \n",
       "2109         -1.027281          0.234599          0.575819     -0.424169   \n",
       "\n",
       "     analyse_pitch_range analyse_shimmer analyse_jitter spectral_slope  \\\n",
       "0               0.857657        0.898334       0.355641      -0.331514   \n",
       "1               0.626936        1.131041       1.008834      -0.322634   \n",
       "2                0.79798        1.090856       0.310873      -0.620007   \n",
       "3               0.250161        1.114803       0.136983       0.592854   \n",
       "4               0.873807        0.829075       0.810602       0.672384   \n",
       "...                  ...             ...            ...            ...   \n",
       "2105            0.202622        0.987592      -0.006539       0.479082   \n",
       "2106           -0.350018        -0.25594      -0.565074      -0.215352   \n",
       "2107            0.642715        0.087973       0.070198       0.395726   \n",
       "2108            0.878313       -0.251261      -0.670125      -0.523881   \n",
       "2109            0.580985        0.945848       0.063851      -0.220702   \n",
       "\n",
       "     mean_spectral_rolloff get_energy parent_file_train parent_label_train  \\\n",
       "0                 0.907009   0.498579     00g8dfgpqpt61                  0   \n",
       "1                 0.438397   1.124945     00g8dfgpqpt62                  0   \n",
       "2                 0.086267   0.898132     00g8dfgpqpt63                  0   \n",
       "3                 0.016588  -0.582963     01avx2fm1t961                  3   \n",
       "4                 0.279838  -0.674388     01avx2fm1t961                  3   \n",
       "...                    ...        ...               ...                ...   \n",
       "2105             -0.465383  -0.480872     xdz15thrnem51                  2   \n",
       "2106             -0.424726   0.260425     xdz15thrnem51                  2   \n",
       "2107             -0.508895   -0.37301     xdz15thrnem51                  2   \n",
       "2108             -0.187419   0.608156     xdz15thrnem51                  2   \n",
       "2109             -1.054706   0.084163     xdz15thrnem51                  2   \n",
       "\n",
       "     segment_label_train noisy_train  \n",
       "0                      0           1  \n",
       "1                      0           1  \n",
       "2                      0           1  \n",
       "3                      3           1  \n",
       "4                      2           1  \n",
       "...                  ...         ...  \n",
       "2105                   1           0  \n",
       "2106                   2           0  \n",
       "2107                   1           0  \n",
       "2108                   2           0  \n",
       "2109                   1           0  \n",
       "\n",
       "[2110 rows x 14 columns]"
      ]
     },
     "execution_count": 32,
     "metadata": {},
     "output_type": "execute_result"
    }
   ],
   "source": [
    "standardized_aggression_df"
   ]
  },
  {
   "cell_type": "markdown",
   "metadata": {
    "id": "-Wg5-hAwwfQ2"
   },
   "source": [
    "# Modelling"
   ]
  },
  {
   "cell_type": "code",
   "execution_count": 33,
   "metadata": {
    "id": "fXSFRGBuwfQ2"
   },
   "outputs": [],
   "source": [
    "%matplotlib inline\n",
    "import copy\n",
    "import matplotlib.pyplot as plt\n",
    "import seaborn as sns\n",
    "\n",
    "from sklearn.metrics import accuracy_score, precision_score, recall_score, f1_score, confusion_matrix, classification_report\n",
    "from sklearn import svm, mixture\n",
    "from sklearn.model_selection import GridSearchCV, train_test_split\n",
    "\n",
    "def hyperparameter_tuning(ml_model, data, label, parameters):\n",
    "    clf = GridSearchCV(ml_model, parameters, refit=True, verbose=0, scoring='f1_weighted', n_jobs=-1, error_score='raise')\n",
    "    clf.fit(data, label)\n",
    "    print(clf.best_params_)\n",
    "\n",
    "def run_model(ml_model, data, label, label_name):\n",
    "    model = copy.deepcopy(ml_model)\n",
    "    \n",
    "    # Only train on this feature set\n",
    "    feature_set = data.drop(['parent_file_train']+feature_labels,axis=1).columns  # Only these features will be fed to the model\n",
    "    print('Feature set:',feature_set)\n",
    "    \n",
    "    actual_labels = np.empty([0], dtype=int)\n",
    "    predicted_labels = np.empty([0], dtype=int)\n",
    "\n",
    "    X_train, X_test, y_train, y_test = train_test_split(data, label, test_size=0.25)\n",
    "    \n",
    "    \n",
    "    model.fit(X_train[feature_set], y_train)\n",
    "    y_pred = model.predict(X_test[feature_set])\n",
    "    \n",
    "    X_test['segment_predictions'] = y_pred  # To store prediction with rest of the data\n",
    "    #X_test['segment_actual'] = y_test  # To store prediction with rest of the data\n",
    "\n",
    "    actual_labels = np.append(actual_labels, y_test)\n",
    "    predicted_labels = np.append(predicted_labels, y_pred)\n",
    "\n",
    "    acc_score = accuracy_score(y_test, y_pred)\n",
    "    prec_score = precision_score(y_test, y_pred, average='weighted')\n",
    "    rec_score = recall_score(y_test, y_pred, average='weighted')\n",
    "    fone_score = f1_score(y_test, y_pred, average='weighted')\n",
    "\n",
    "    print(f'F1 score = {fone_score}; Accuracy score = {acc_score} ; Precisison Score = {prec_score}; Recall score = {rec_score}')\n",
    "\n",
    "    return actual_labels, predicted_labels, X_test\n",
    "\n",
    "def confusion_matrix_graph(model_name, actual_labels, predicted_labels, label_names):\n",
    "    matrix = confusion_matrix(actual_labels, predicted_labels)\n",
    "\n",
    "    plt.figure(figsize=(14, 8))\n",
    "    ax = sns.heatmap(matrix, annot=True, xticklabels=label_names, yticklabels=label_names, cmap=\"Greens\")\n",
    "    ax.set_title(model_name);\n",
    "    ax.set_xlabel('Predicted')\n",
    "    ax.set_ylabel('Actual');\n",
    "\n",
    "    print(\"\\n\\n Aggregate report \\n\", classification_report(actual_labels, predicted_labels, target_names=label_names))\n",
    "\n",
    "    plt.show()    \n",
    "\n"
   ]
  },
  {
   "cell_type": "markdown",
   "metadata": {
    "id": "owzA-A0QwfQ3"
   },
   "source": [
    "Convert dataframes to numpy array"
   ]
  },
  {
   "cell_type": "code",
   "execution_count": 34,
   "metadata": {},
   "outputs": [
    {
     "data": {
      "text/html": [
       "<div>\n",
       "<style scoped>\n",
       "    .dataframe tbody tr th:only-of-type {\n",
       "        vertical-align: middle;\n",
       "    }\n",
       "\n",
       "    .dataframe tbody tr th {\n",
       "        vertical-align: top;\n",
       "    }\n",
       "\n",
       "    .dataframe thead th {\n",
       "        text-align: right;\n",
       "    }\n",
       "</style>\n",
       "<table border=\"1\" class=\"dataframe\">\n",
       "  <thead>\n",
       "    <tr style=\"text-align: right;\">\n",
       "      <th></th>\n",
       "      <th>analyse_harmonics</th>\n",
       "      <th>get_max_intensity</th>\n",
       "      <th>analyse_intensity</th>\n",
       "      <th>analyse_pitch</th>\n",
       "      <th>analyse_pitch_range</th>\n",
       "      <th>analyse_shimmer</th>\n",
       "      <th>analyse_jitter</th>\n",
       "      <th>spectral_slope</th>\n",
       "      <th>mean_spectral_rolloff</th>\n",
       "      <th>get_energy</th>\n",
       "      <th>parent_file_train</th>\n",
       "      <th>parent_label_train</th>\n",
       "      <th>segment_label_train</th>\n",
       "      <th>noisy_train</th>\n",
       "    </tr>\n",
       "  </thead>\n",
       "  <tbody>\n",
       "    <tr>\n",
       "      <th>0</th>\n",
       "      <td>-1.229415</td>\n",
       "      <td>0.816248</td>\n",
       "      <td>0.877741</td>\n",
       "      <td>1.42237</td>\n",
       "      <td>0.857657</td>\n",
       "      <td>0.898334</td>\n",
       "      <td>0.355641</td>\n",
       "      <td>-0.331514</td>\n",
       "      <td>0.907009</td>\n",
       "      <td>0.498579</td>\n",
       "      <td>00g8dfgpqpt61</td>\n",
       "      <td>0</td>\n",
       "      <td>0</td>\n",
       "      <td>1</td>\n",
       "    </tr>\n",
       "    <tr>\n",
       "      <th>1</th>\n",
       "      <td>-1.369057</td>\n",
       "      <td>0.541133</td>\n",
       "      <td>1.180279</td>\n",
       "      <td>2.008275</td>\n",
       "      <td>0.626936</td>\n",
       "      <td>1.131041</td>\n",
       "      <td>1.008834</td>\n",
       "      <td>-0.322634</td>\n",
       "      <td>0.438397</td>\n",
       "      <td>1.124945</td>\n",
       "      <td>00g8dfgpqpt62</td>\n",
       "      <td>0</td>\n",
       "      <td>0</td>\n",
       "      <td>1</td>\n",
       "    </tr>\n",
       "    <tr>\n",
       "      <th>2</th>\n",
       "      <td>-1.194428</td>\n",
       "      <td>1.078107</td>\n",
       "      <td>1.085473</td>\n",
       "      <td>1.8399</td>\n",
       "      <td>0.79798</td>\n",
       "      <td>1.090856</td>\n",
       "      <td>0.310873</td>\n",
       "      <td>-0.620007</td>\n",
       "      <td>0.086267</td>\n",
       "      <td>0.898132</td>\n",
       "      <td>00g8dfgpqpt63</td>\n",
       "      <td>0</td>\n",
       "      <td>0</td>\n",
       "      <td>1</td>\n",
       "    </tr>\n",
       "    <tr>\n",
       "      <th>3</th>\n",
       "      <td>-0.570238</td>\n",
       "      <td>-0.770265</td>\n",
       "      <td>-0.652971</td>\n",
       "      <td>1.451482</td>\n",
       "      <td>0.250161</td>\n",
       "      <td>1.114803</td>\n",
       "      <td>0.136983</td>\n",
       "      <td>0.592854</td>\n",
       "      <td>0.016588</td>\n",
       "      <td>-0.582963</td>\n",
       "      <td>01avx2fm1t961</td>\n",
       "      <td>3</td>\n",
       "      <td>3</td>\n",
       "      <td>1</td>\n",
       "    </tr>\n",
       "    <tr>\n",
       "      <th>4</th>\n",
       "      <td>-0.770635</td>\n",
       "      <td>-1.140454</td>\n",
       "      <td>-1.310001</td>\n",
       "      <td>1.620578</td>\n",
       "      <td>0.873807</td>\n",
       "      <td>0.829075</td>\n",
       "      <td>0.810602</td>\n",
       "      <td>0.672384</td>\n",
       "      <td>0.279838</td>\n",
       "      <td>-0.674388</td>\n",
       "      <td>01avx2fm1t961</td>\n",
       "      <td>3</td>\n",
       "      <td>2</td>\n",
       "      <td>1</td>\n",
       "    </tr>\n",
       "    <tr>\n",
       "      <th>...</th>\n",
       "      <td>...</td>\n",
       "      <td>...</td>\n",
       "      <td>...</td>\n",
       "      <td>...</td>\n",
       "      <td>...</td>\n",
       "      <td>...</td>\n",
       "      <td>...</td>\n",
       "      <td>...</td>\n",
       "      <td>...</td>\n",
       "      <td>...</td>\n",
       "      <td>...</td>\n",
       "      <td>...</td>\n",
       "      <td>...</td>\n",
       "      <td>...</td>\n",
       "    </tr>\n",
       "    <tr>\n",
       "      <th>2105</th>\n",
       "      <td>-0.323659</td>\n",
       "      <td>-0.014225</td>\n",
       "      <td>-0.292555</td>\n",
       "      <td>-0.274583</td>\n",
       "      <td>0.202622</td>\n",
       "      <td>0.987592</td>\n",
       "      <td>-0.006539</td>\n",
       "      <td>0.479082</td>\n",
       "      <td>-0.465383</td>\n",
       "      <td>-0.480872</td>\n",
       "      <td>xdz15thrnem51</td>\n",
       "      <td>2</td>\n",
       "      <td>1</td>\n",
       "      <td>0</td>\n",
       "    </tr>\n",
       "    <tr>\n",
       "      <th>2106</th>\n",
       "      <td>0.053725</td>\n",
       "      <td>0.711694</td>\n",
       "      <td>0.719834</td>\n",
       "      <td>0.365542</td>\n",
       "      <td>-0.350018</td>\n",
       "      <td>-0.25594</td>\n",
       "      <td>-0.565074</td>\n",
       "      <td>-0.215352</td>\n",
       "      <td>-0.424726</td>\n",
       "      <td>0.260425</td>\n",
       "      <td>xdz15thrnem51</td>\n",
       "      <td>2</td>\n",
       "      <td>2</td>\n",
       "      <td>0</td>\n",
       "    </tr>\n",
       "    <tr>\n",
       "      <th>2107</th>\n",
       "      <td>-0.589685</td>\n",
       "      <td>0.09044</td>\n",
       "      <td>-0.028897</td>\n",
       "      <td>-0.329049</td>\n",
       "      <td>0.642715</td>\n",
       "      <td>0.087973</td>\n",
       "      <td>0.070198</td>\n",
       "      <td>0.395726</td>\n",
       "      <td>-0.508895</td>\n",
       "      <td>-0.37301</td>\n",
       "      <td>xdz15thrnem51</td>\n",
       "      <td>2</td>\n",
       "      <td>1</td>\n",
       "      <td>0</td>\n",
       "    </tr>\n",
       "    <tr>\n",
       "      <th>2108</th>\n",
       "      <td>0.508124</td>\n",
       "      <td>0.954183</td>\n",
       "      <td>0.938286</td>\n",
       "      <td>0.665189</td>\n",
       "      <td>0.878313</td>\n",
       "      <td>-0.251261</td>\n",
       "      <td>-0.670125</td>\n",
       "      <td>-0.523881</td>\n",
       "      <td>-0.187419</td>\n",
       "      <td>0.608156</td>\n",
       "      <td>xdz15thrnem51</td>\n",
       "      <td>2</td>\n",
       "      <td>2</td>\n",
       "      <td>0</td>\n",
       "    </tr>\n",
       "    <tr>\n",
       "      <th>2109</th>\n",
       "      <td>-1.027281</td>\n",
       "      <td>0.234599</td>\n",
       "      <td>0.575819</td>\n",
       "      <td>-0.424169</td>\n",
       "      <td>0.580985</td>\n",
       "      <td>0.945848</td>\n",
       "      <td>0.063851</td>\n",
       "      <td>-0.220702</td>\n",
       "      <td>-1.054706</td>\n",
       "      <td>0.084163</td>\n",
       "      <td>xdz15thrnem51</td>\n",
       "      <td>2</td>\n",
       "      <td>1</td>\n",
       "      <td>0</td>\n",
       "    </tr>\n",
       "  </tbody>\n",
       "</table>\n",
       "<p>2110 rows × 14 columns</p>\n",
       "</div>"
      ],
      "text/plain": [
       "     analyse_harmonics get_max_intensity analyse_intensity analyse_pitch  \\\n",
       "0            -1.229415          0.816248          0.877741       1.42237   \n",
       "1            -1.369057          0.541133          1.180279      2.008275   \n",
       "2            -1.194428          1.078107          1.085473        1.8399   \n",
       "3            -0.570238         -0.770265         -0.652971      1.451482   \n",
       "4            -0.770635         -1.140454         -1.310001      1.620578   \n",
       "...                ...               ...               ...           ...   \n",
       "2105         -0.323659         -0.014225         -0.292555     -0.274583   \n",
       "2106          0.053725          0.711694          0.719834      0.365542   \n",
       "2107         -0.589685           0.09044         -0.028897     -0.329049   \n",
       "2108          0.508124          0.954183          0.938286      0.665189   \n",
       "2109         -1.027281          0.234599          0.575819     -0.424169   \n",
       "\n",
       "     analyse_pitch_range analyse_shimmer analyse_jitter spectral_slope  \\\n",
       "0               0.857657        0.898334       0.355641      -0.331514   \n",
       "1               0.626936        1.131041       1.008834      -0.322634   \n",
       "2                0.79798        1.090856       0.310873      -0.620007   \n",
       "3               0.250161        1.114803       0.136983       0.592854   \n",
       "4               0.873807        0.829075       0.810602       0.672384   \n",
       "...                  ...             ...            ...            ...   \n",
       "2105            0.202622        0.987592      -0.006539       0.479082   \n",
       "2106           -0.350018        -0.25594      -0.565074      -0.215352   \n",
       "2107            0.642715        0.087973       0.070198       0.395726   \n",
       "2108            0.878313       -0.251261      -0.670125      -0.523881   \n",
       "2109            0.580985        0.945848       0.063851      -0.220702   \n",
       "\n",
       "     mean_spectral_rolloff get_energy parent_file_train parent_label_train  \\\n",
       "0                 0.907009   0.498579     00g8dfgpqpt61                  0   \n",
       "1                 0.438397   1.124945     00g8dfgpqpt62                  0   \n",
       "2                 0.086267   0.898132     00g8dfgpqpt63                  0   \n",
       "3                 0.016588  -0.582963     01avx2fm1t961                  3   \n",
       "4                 0.279838  -0.674388     01avx2fm1t961                  3   \n",
       "...                    ...        ...               ...                ...   \n",
       "2105             -0.465383  -0.480872     xdz15thrnem51                  2   \n",
       "2106             -0.424726   0.260425     xdz15thrnem51                  2   \n",
       "2107             -0.508895   -0.37301     xdz15thrnem51                  2   \n",
       "2108             -0.187419   0.608156     xdz15thrnem51                  2   \n",
       "2109             -1.054706   0.084163     xdz15thrnem51                  2   \n",
       "\n",
       "     segment_label_train noisy_train  \n",
       "0                      0           1  \n",
       "1                      0           1  \n",
       "2                      0           1  \n",
       "3                      3           1  \n",
       "4                      2           1  \n",
       "...                  ...         ...  \n",
       "2105                   1           0  \n",
       "2106                   2           0  \n",
       "2107                   1           0  \n",
       "2108                   2           0  \n",
       "2109                   1           0  \n",
       "\n",
       "[2110 rows x 14 columns]"
      ]
     },
     "execution_count": 34,
     "metadata": {},
     "output_type": "execute_result"
    }
   ],
   "source": [
    "standardized_aggression_df"
   ]
  },
  {
   "cell_type": "code",
   "execution_count": 35,
   "metadata": {
    "id": "PEI74RrJwfQ3"
   },
   "outputs": [
    {
     "name": "stderr",
     "output_type": "stream",
     "text": [
      "/var/folders/7b/v9yf5j856tggrfg1tm641t9c0000gn/T/ipykernel_23664/2163191907.py:1: FutureWarning: In a future version of pandas all arguments of DataFrame.drop except for the argument 'labels' will be keyword-only\n",
      "  data_np = standardized_aggression_df.drop([\"parent_file_train\", \"parent_label_train\", \"segment_label_train\", \"noisy_train\"], 1).to_numpy()\n",
      "/var/folders/7b/v9yf5j856tggrfg1tm641t9c0000gn/T/ipykernel_23664/2163191907.py:4: FutureWarning: In a future version of pandas all arguments of DataFrame.drop except for the argument 'labels' will be keyword-only\n",
      "  data_non_noisy_np = standardized_non_noisy_df.drop([\"parent_file_train\", \"parent_label_train\", \"segment_label_train\", \"noisy_train\"], 1).to_numpy()\n",
      "/var/folders/7b/v9yf5j856tggrfg1tm641t9c0000gn/T/ipykernel_23664/2163191907.py:7: FutureWarning: In a future version of pandas all arguments of DataFrame.drop except for the argument 'labels' will be keyword-only\n",
      "  data_noisy_np = standardized_noisy_df.drop([\"parent_file_train\", \"parent_label_train\", \"segment_label_train\", \"noisy_train\"], 1).to_numpy()\n"
     ]
    }
   ],
   "source": [
    "data_np = standardized_aggression_df.drop([\"parent_file_train\", \"parent_label_train\", \"segment_label_train\", \"noisy_train\"], 1).to_numpy()\n",
    "label_np = label_df['segment_label_train'].to_numpy()\n",
    "\n",
    "data_non_noisy_np = standardized_non_noisy_df.drop([\"parent_file_train\", \"parent_label_train\", \"segment_label_train\", \"noisy_train\"], 1).to_numpy()\n",
    "label_non_noisy_np = label_non_noisy_df['segment_label_train'].to_numpy()\n",
    "\n",
    "data_noisy_np = standardized_noisy_df.drop([\"parent_file_train\", \"parent_label_train\", \"segment_label_train\", \"noisy_train\"], 1).to_numpy()\n",
    "label_noisy_np = label_noisy_df['segment_label_train'].to_numpy()"
   ]
  },
  {
   "cell_type": "markdown",
   "metadata": {
    "id": "-Pai7xowwfQ3"
   },
   "source": [
    "## SVM"
   ]
  },
  {
   "cell_type": "markdown",
   "metadata": {
    "id": "gEDqjCi3wfQ3"
   },
   "source": [
    "Hyperparameter Tuning for SVM"
   ]
  },
  {
   "cell_type": "code",
   "execution_count": null,
   "metadata": {
    "id": "ML9XM0tKwfQ4",
    "outputId": "3ce6e227-cc36-4f6b-c135-493eb11d4af3"
   },
   "outputs": [],
   "source": [
    "# original_parameters = {'C': [0.01, 0.1, 1, 10, 100, 1000, 10000], 'gamma': ['scale', 'auto'],\n",
    "#                    'kernel': ['rbf', 'linear', 'poly', 'sigmoid'], 'degree': [1,2,3,4,5,6]}\n",
    "\n",
    "quick_parameters = {'C': [ 0.001, 0.01, 0.1, 1, 10, 100], 'gamma': ['scale','auto'],\n",
    "                 'kernel': ['rbf', 'linear', 'poly', 'sigmoid']}\n",
    "\n",
    "svc = svm.SVC()\n",
    "hyperparameter_tuning(svc, data_np, label_np, quick_parameters)\n",
    "hyperparameter_tuning(svc, data_non_noisy_np, label_non_noisy_np, quick_parameters)\n",
    "hyperparameter_tuning(svc, data_noisy_np, label_noisy_np, quick_parameters)"
   ]
  },
  {
   "cell_type": "markdown",
   "metadata": {
    "id": "-kCoPOu0wfQ4"
   },
   "source": [
    "Results from hyper parameter tuning for SVM using `original_parameters`: **`{'C': 1, 'degree': 1, 'gamma': 'auto', 'kernel': 'rbf'}`**"
   ]
  },
  {
   "cell_type": "markdown",
   "metadata": {
    "id": "WmYQrN7wwfQ5"
   },
   "source": [
    "***NOTE: `orginal_parameters` were the actual parameters against which the parameters were tuned. However, the results took over 4 hours to be processed. Therefore, `quick_parameters` is just a smaller subset of the `original_parameters`.***"
   ]
  },
  {
   "cell_type": "markdown",
   "metadata": {},
   "source": [
    "{'C': 1, 'gamma': 'auto', 'kernel': 'rbf'}\n",
    "{'C': 10, 'gamma': 'scale', 'kernel': 'rbf'}\n",
    "{'C': 1, 'gamma': 'auto', 'kernel': 'rbf'}"
   ]
  },
  {
   "cell_type": "markdown",
   "metadata": {
    "id": "ZRvjng6VwfQ5"
   },
   "source": [
    "Run SVM model"
   ]
  },
  {
   "cell_type": "markdown",
   "metadata": {},
   "source": [
    "## Group 1 (All data) is our baseline for segments"
   ]
  },
  {
   "cell_type": "code",
   "execution_count": 121,
   "metadata": {
    "id": "IxW1-Vf2wfQ5",
    "outputId": "9737337e-5edb-4965-bfc8-00aded1fd52e",
    "scrolled": true,
    "tags": []
   },
   "outputs": [
    {
     "name": "stdout",
     "output_type": "stream",
     "text": [
      "Feature set: Index(['analyse_harmonics', 'get_max_intensity', 'analyse_intensity',\n",
      "       'analyse_pitch', 'analyse_pitch_range', 'analyse_shimmer',\n",
      "       'analyse_jitter', 'spectral_slope', 'mean_spectral_rolloff',\n",
      "       'get_energy'],\n",
      "      dtype='object')\n",
      "F1 score = 0.5416363138646112; Accuracy score = 0.5568181818181818 ; Precisison Score = 0.5512002751777957; Recall score = 0.5568181818181818\n",
      "\n",
      "\n",
      " Aggregate report \n",
      "               precision    recall  f1-score   support\n",
      "\n",
      "           0       0.65      0.78      0.71       235\n",
      "           1       0.50      0.48      0.49       145\n",
      "           2       0.29      0.27      0.28        85\n",
      "           3       0.65      0.27      0.38        63\n",
      "\n",
      "    accuracy                           0.56       528\n",
      "   macro avg       0.52      0.45      0.47       528\n",
      "weighted avg       0.55      0.56      0.54       528\n",
      "\n"
     ]
    },
    {
     "data": {
      "image/png": "[encoded data removed]",
      "text/plain": [
       "<Figure size 1008x576 with 2 Axes>"
      ]
     },
     "metadata": {
      "needs_background": "light"
     },
     "output_type": "display_data"
    },
    {
     "name": "stdout",
     "output_type": "stream",
     "text": [
      "Feature set: Index(['analyse_harmonics', 'get_max_intensity', 'analyse_intensity',\n",
      "       'analyse_pitch', 'analyse_pitch_range', 'analyse_shimmer',\n",
      "       'analyse_jitter', 'spectral_slope', 'mean_spectral_rolloff',\n",
      "       'get_energy'],\n",
      "      dtype='object')\n",
      "F1 score = 0.5669503012142729; Accuracy score = 0.5714285714285714 ; Precisison Score = 0.5965329014541454; Recall score = 0.5714285714285714\n",
      "\n",
      "\n",
      " Aggregate report \n",
      "               precision    recall  f1-score   support\n",
      "\n",
      "           0       0.62      0.72      0.67       177\n",
      "           1       0.52      0.53      0.52       157\n",
      "           2       0.47      0.46      0.47        82\n",
      "           3       1.00      0.35      0.52        46\n",
      "\n",
      "    accuracy                           0.57       462\n",
      "   macro avg       0.65      0.51      0.54       462\n",
      "weighted avg       0.60      0.57      0.57       462\n",
      "\n"
     ]
    },
    {
     "data": {
      "image/png": "[encoded data removed]",
      "text/plain": [
       "<Figure size 1008x576 with 2 Axes>"
      ]
     },
     "metadata": {
      "needs_background": "light"
     },
     "output_type": "display_data"
    },
    {
     "name": "stdout",
     "output_type": "stream",
     "text": [
      "Feature set: Index(['analyse_harmonics', 'get_max_intensity', 'analyse_intensity',\n",
      "       'analyse_pitch', 'analyse_pitch_range', 'analyse_shimmer',\n",
      "       'analyse_jitter', 'spectral_slope', 'mean_spectral_rolloff',\n",
      "       'get_energy'],\n",
      "      dtype='object')\n",
      "F1 score = 0.6493166963755197; Accuracy score = 0.7121212121212122 ; Precisison Score = 0.5978685478059695; Recall score = 0.7121212121212122\n",
      "\n",
      "\n",
      " Aggregate report \n",
      "               precision    recall  f1-score   support\n",
      "\n",
      "           0       0.77      0.95      0.85        38\n",
      "           1       0.00      0.00      0.00         5\n",
      "           2       0.00      0.00      0.00         7\n",
      "           3       0.65      0.69      0.67        16\n",
      "\n",
      "    accuracy                           0.71        66\n",
      "   macro avg       0.35      0.41      0.38        66\n",
      "weighted avg       0.60      0.71      0.65        66\n",
      "\n"
     ]
    },
    {
     "name": "stderr",
     "output_type": "stream",
     "text": [
      "c:\\Users\\Paige\\Documents\\CMPT724\\final_project\\venv\\lib\\site-packages\\sklearn\\metrics\\_classification.py:1318: UndefinedMetricWarning: Precision is ill-defined and being set to 0.0 in labels with no predicted samples. Use `zero_division` parameter to control this behavior.\n",
      "  _warn_prf(average, modifier, msg_start, len(result))\n",
      "c:\\Users\\Paige\\Documents\\CMPT724\\final_project\\venv\\lib\\site-packages\\sklearn\\metrics\\_classification.py:1318: UndefinedMetricWarning: Precision and F-score are ill-defined and being set to 0.0 in labels with no predicted samples. Use `zero_division` parameter to control this behavior.\n",
      "  _warn_prf(average, modifier, msg_start, len(result))\n",
      "c:\\Users\\Paige\\Documents\\CMPT724\\final_project\\venv\\lib\\site-packages\\sklearn\\metrics\\_classification.py:1318: UndefinedMetricWarning: Precision and F-score are ill-defined and being set to 0.0 in labels with no predicted samples. Use `zero_division` parameter to control this behavior.\n",
      "  _warn_prf(average, modifier, msg_start, len(result))\n",
      "c:\\Users\\Paige\\Documents\\CMPT724\\final_project\\venv\\lib\\site-packages\\sklearn\\metrics\\_classification.py:1318: UndefinedMetricWarning: Precision and F-score are ill-defined and being set to 0.0 in labels with no predicted samples. Use `zero_division` parameter to control this behavior.\n",
      "  _warn_prf(average, modifier, msg_start, len(result))\n"
     ]
    },
    {
     "data": {
      "image/png": "[encoded data removed]",
      "text/plain": [
       "<Figure size 1008x576 with 2 Axes>"
      ]
     },
     "metadata": {
      "needs_background": "light"
     },
     "output_type": "display_data"
    }
   ],
   "source": [
    "#lst_data_np = [data_np, data_non_noisy_np, data_noisy_np]\n",
    "lst_label_np = [label_np, label_non_noisy_np, label_noisy_np]\n",
    "label = 'segment_label_train'\n",
    "lst_df = [standardized_aggression_df, standardized_non_noisy_df, standardized_noisy_df]\n",
    "X_test_list = [None,None,None]\n",
    "gamma = ['auto', 'scale', 'auto']\n",
    "c = [1, 10, 1]\n",
    "\n",
    "for i in range(3):\n",
    "    svm_model = svm.SVC(kernel='rbf', gamma=gamma[i], C=c[i])\n",
    "    actual, predicted, X_test_list[i] = run_model(svm_model, lst_df[i], lst_label_np[i],label_name=label)\n",
    "\n",
    "    confusion_matrix_graph(f\"SVM - Group {i+1}\", actual, predicted, ['0', '1', '2', '3'])"
   ]
  },
  {
   "cell_type": "markdown",
   "metadata": {},
   "source": [
    "#### Parent label analysis"
   ]
  },
  {
   "cell_type": "markdown",
   "metadata": {},
   "source": [
    "## Group 1 (All data) is our baseline for Parent"
   ]
  },
  {
   "cell_type": "code",
   "execution_count": 122,
   "metadata": {},
   "outputs": [
    {
     "name": "stdout",
     "output_type": "stream",
     "text": [
      "\n",
      "\n",
      " Aggregate report \n",
      "               precision    recall  f1-score   support\n",
      "\n",
      "           0       0.47      0.70      0.56        69\n",
      "           1       0.29      0.25      0.27        51\n",
      "           2       0.19      0.20      0.19        41\n",
      "           3       0.62      0.23      0.33        44\n",
      "\n",
      "    accuracy                           0.39       205\n",
      "   macro avg       0.39      0.34      0.34       205\n",
      "weighted avg       0.40      0.39      0.37       205\n",
      "\n"
     ]
    },
    {
     "data": {
      "image/png": "[encoded data removed]",
      "text/plain": [
       "<Figure size 1008x576 with 2 Axes>"
      ]
     },
     "metadata": {
      "needs_background": "light"
     },
     "output_type": "display_data"
    },
    {
     "name": "stdout",
     "output_type": "stream",
     "text": [
      "\n",
      "\n",
      " Aggregate report \n",
      "               precision    recall  f1-score   support\n",
      "\n",
      "           0       0.55      0.68      0.61        53\n",
      "           1       0.33      0.40      0.36        50\n",
      "           2       0.41      0.41      0.41        44\n",
      "           3       1.00      0.23      0.37        31\n",
      "\n",
      "    accuracy                           0.46       178\n",
      "   macro avg       0.57      0.43      0.44       178\n",
      "weighted avg       0.53      0.46      0.45       178\n",
      "\n"
     ]
    },
    {
     "data": {
      "image/png": "[encoded data removed]",
      "text/plain": [
       "<Figure size 1008x576 with 2 Axes>"
      ]
     },
     "metadata": {
      "needs_background": "light"
     },
     "output_type": "display_data"
    },
    {
     "name": "stdout",
     "output_type": "stream",
     "text": [
      "\n",
      "\n",
      " Aggregate report \n",
      "               precision    recall  f1-score   support\n",
      "\n",
      "           0       0.59      1.00      0.74        17\n",
      "           1       0.00      0.00      0.00         8\n",
      "           2       0.00      0.00      0.00         3\n",
      "           3       0.82      0.64      0.72        14\n",
      "\n",
      "    accuracy                           0.62        42\n",
      "   macro avg       0.35      0.41      0.36        42\n",
      "weighted avg       0.51      0.62      0.54        42\n",
      "\n"
     ]
    },
    {
     "name": "stderr",
     "output_type": "stream",
     "text": [
      "c:\\Users\\Paige\\Documents\\CMPT724\\final_project\\venv\\lib\\site-packages\\sklearn\\metrics\\_classification.py:1318: UndefinedMetricWarning: Precision and F-score are ill-defined and being set to 0.0 in labels with no predicted samples. Use `zero_division` parameter to control this behavior.\n",
      "  _warn_prf(average, modifier, msg_start, len(result))\n",
      "c:\\Users\\Paige\\Documents\\CMPT724\\final_project\\venv\\lib\\site-packages\\sklearn\\metrics\\_classification.py:1318: UndefinedMetricWarning: Precision and F-score are ill-defined and being set to 0.0 in labels with no predicted samples. Use `zero_division` parameter to control this behavior.\n",
      "  _warn_prf(average, modifier, msg_start, len(result))\n",
      "c:\\Users\\Paige\\Documents\\CMPT724\\final_project\\venv\\lib\\site-packages\\sklearn\\metrics\\_classification.py:1318: UndefinedMetricWarning: Precision and F-score are ill-defined and being set to 0.0 in labels with no predicted samples. Use `zero_division` parameter to control this behavior.\n",
      "  _warn_prf(average, modifier, msg_start, len(result))\n"
     ]
    },
    {
     "data": {
      "image/png": "[encoded data removed]",
      "text/plain": [
       "<Figure size 1008x576 with 2 Axes>"
      ]
     },
     "metadata": {
      "needs_background": "light"
     },
     "output_type": "display_data"
    },
    {
     "data": {
      "text/html": [
       "<div>\n",
       "<style scoped>\n",
       "    .dataframe tbody tr th:only-of-type {\n",
       "        vertical-align: middle;\n",
       "    }\n",
       "\n",
       "    .dataframe tbody tr th {\n",
       "        vertical-align: top;\n",
       "    }\n",
       "\n",
       "    .dataframe thead th {\n",
       "        text-align: right;\n",
       "    }\n",
       "</style>\n",
       "<table border=\"1\" class=\"dataframe\">\n",
       "  <thead>\n",
       "    <tr style=\"text-align: right;\">\n",
       "      <th></th>\n",
       "      <th>parent_file_train</th>\n",
       "      <th>parent_label_train</th>\n",
       "      <th>segment_predictions</th>\n",
       "    </tr>\n",
       "  </thead>\n",
       "  <tbody>\n",
       "    <tr>\n",
       "      <th>0</th>\n",
       "      <td>01avx2fm1t961</td>\n",
       "      <td>3</td>\n",
       "      <td>2</td>\n",
       "    </tr>\n",
       "    <tr>\n",
       "      <th>1</th>\n",
       "      <td>0202on89vhz61</td>\n",
       "      <td>0</td>\n",
       "      <td>1</td>\n",
       "    </tr>\n",
       "    <tr>\n",
       "      <th>2</th>\n",
       "      <td>03mglec8fez51</td>\n",
       "      <td>1</td>\n",
       "      <td>1</td>\n",
       "    </tr>\n",
       "    <tr>\n",
       "      <th>3</th>\n",
       "      <td>0653ipqy7vd71</td>\n",
       "      <td>2</td>\n",
       "      <td>0</td>\n",
       "    </tr>\n",
       "    <tr>\n",
       "      <th>4</th>\n",
       "      <td>08ss0a3zs0061</td>\n",
       "      <td>2</td>\n",
       "      <td>0</td>\n",
       "    </tr>\n",
       "    <tr>\n",
       "      <th>...</th>\n",
       "      <td>...</td>\n",
       "      <td>...</td>\n",
       "      <td>...</td>\n",
       "    </tr>\n",
       "    <tr>\n",
       "      <th>200</th>\n",
       "      <td>x705shsub7m61</td>\n",
       "      <td>1</td>\n",
       "      <td>0</td>\n",
       "    </tr>\n",
       "    <tr>\n",
       "      <th>201</th>\n",
       "      <td>xbw64yf04th51</td>\n",
       "      <td>1</td>\n",
       "      <td>0</td>\n",
       "    </tr>\n",
       "    <tr>\n",
       "      <th>202</th>\n",
       "      <td>xc76oggvh2471</td>\n",
       "      <td>1</td>\n",
       "      <td>2</td>\n",
       "    </tr>\n",
       "    <tr>\n",
       "      <th>203</th>\n",
       "      <td>xdz15thrnem51</td>\n",
       "      <td>2</td>\n",
       "      <td>2</td>\n",
       "    </tr>\n",
       "    <tr>\n",
       "      <th>204</th>\n",
       "      <td>zvkhxd3vp3o51</td>\n",
       "      <td>2</td>\n",
       "      <td>0</td>\n",
       "    </tr>\n",
       "  </tbody>\n",
       "</table>\n",
       "<p>205 rows × 3 columns</p>\n",
       "</div>"
      ],
      "text/plain": [
       "    parent_file_train  parent_label_train  segment_predictions\n",
       "0       01avx2fm1t961                   3                    2\n",
       "1       0202on89vhz61                   0                    1\n",
       "2       03mglec8fez51                   1                    1\n",
       "3       0653ipqy7vd71                   2                    0\n",
       "4       08ss0a3zs0061                   2                    0\n",
       "..                ...                 ...                  ...\n",
       "200     x705shsub7m61                   1                    0\n",
       "201     xbw64yf04th51                   1                    0\n",
       "202     xc76oggvh2471                   1                    2\n",
       "203     xdz15thrnem51                   2                    2\n",
       "204     zvkhxd3vp3o51                   2                    0\n",
       "\n",
       "[205 rows x 3 columns]"
      ]
     },
     "execution_count": 122,
     "metadata": {},
     "output_type": "execute_result"
    }
   ],
   "source": [
    "max_parent_df_list = []\n",
    "\n",
    "for i in range(0,len(X_test_list)):\n",
    "    # Each dataset: agg, non oisy and noisy, find max segment predictions for each parent_file_train\n",
    "    df_i = X_test_list[i]\n",
    "    #display(df_i)\n",
    "    df_i_merged = df_i.groupby('parent_file_train')['segment_predictions'].max().reset_index()\n",
    "    \n",
    "    # Get parent label for each parent_file\n",
    "    #df_i = lst_df[i] \n",
    "    df_i_2 = df_i.groupby('parent_file_train')['parent_label_train'].max().reset_index()\n",
    "    df_i_merged = df_i_2.merge(df_i_merged, on='parent_file_train')\n",
    "    max_parent_df_list.append(df_i_merged)\n",
    "    \n",
    "    confusion_matrix_graph(f\"SVM - Group {i+1}\", df_i_merged['parent_label_train'], df_i_merged['segment_predictions'], ['0', '1', '2', '3'])\n",
    "\n",
    "max_parent_df_list[0]"
   ]
  },
  {
   "cell_type": "markdown",
   "metadata": {},
   "source": [
    "### Test combining level 1 and level 2 as they appear to have difficulty classifying"
   ]
  },
  {
   "cell_type": "code",
   "execution_count": 21,
   "metadata": {},
   "outputs": [
    {
     "data": {
      "text/html": [
       "<div>\n",
       "<style scoped>\n",
       "    .dataframe tbody tr th:only-of-type {\n",
       "        vertical-align: middle;\n",
       "    }\n",
       "\n",
       "    .dataframe tbody tr th {\n",
       "        vertical-align: top;\n",
       "    }\n",
       "\n",
       "    .dataframe thead th {\n",
       "        text-align: right;\n",
       "    }\n",
       "</style>\n",
       "<table border=\"1\" class=\"dataframe\">\n",
       "  <thead>\n",
       "    <tr style=\"text-align: right;\">\n",
       "      <th></th>\n",
       "      <th>analyse_harmonics</th>\n",
       "      <th>get_max_intensity</th>\n",
       "      <th>analyse_intensity</th>\n",
       "      <th>analyse_pitch</th>\n",
       "      <th>analyse_pitch_range</th>\n",
       "      <th>analyse_shimmer</th>\n",
       "      <th>analyse_jitter</th>\n",
       "      <th>spectral_slope</th>\n",
       "      <th>mean_spectral_rolloff</th>\n",
       "      <th>get_energy</th>\n",
       "      <th>parent_file_train</th>\n",
       "      <th>parent_label_train</th>\n",
       "      <th>segment_label_train</th>\n",
       "      <th>noisy_train</th>\n",
       "    </tr>\n",
       "  </thead>\n",
       "  <tbody>\n",
       "    <tr>\n",
       "      <th>0</th>\n",
       "      <td>-1.229415</td>\n",
       "      <td>0.816248</td>\n",
       "      <td>0.877741</td>\n",
       "      <td>1.42237</td>\n",
       "      <td>0.857657</td>\n",
       "      <td>0.898334</td>\n",
       "      <td>0.355641</td>\n",
       "      <td>-0.331514</td>\n",
       "      <td>0.907009</td>\n",
       "      <td>0.498579</td>\n",
       "      <td>00g8dfgpqpt61</td>\n",
       "      <td>0</td>\n",
       "      <td>0</td>\n",
       "      <td>1</td>\n",
       "    </tr>\n",
       "    <tr>\n",
       "      <th>1</th>\n",
       "      <td>-1.369057</td>\n",
       "      <td>0.541133</td>\n",
       "      <td>1.180279</td>\n",
       "      <td>2.008275</td>\n",
       "      <td>0.626936</td>\n",
       "      <td>1.131041</td>\n",
       "      <td>1.008834</td>\n",
       "      <td>-0.322634</td>\n",
       "      <td>0.438397</td>\n",
       "      <td>1.124945</td>\n",
       "      <td>00g8dfgpqpt62</td>\n",
       "      <td>0</td>\n",
       "      <td>0</td>\n",
       "      <td>1</td>\n",
       "    </tr>\n",
       "    <tr>\n",
       "      <th>2</th>\n",
       "      <td>-1.194428</td>\n",
       "      <td>1.078107</td>\n",
       "      <td>1.085473</td>\n",
       "      <td>1.8399</td>\n",
       "      <td>0.79798</td>\n",
       "      <td>1.090856</td>\n",
       "      <td>0.310873</td>\n",
       "      <td>-0.620007</td>\n",
       "      <td>0.086267</td>\n",
       "      <td>0.898132</td>\n",
       "      <td>00g8dfgpqpt63</td>\n",
       "      <td>0</td>\n",
       "      <td>0</td>\n",
       "      <td>1</td>\n",
       "    </tr>\n",
       "    <tr>\n",
       "      <th>3</th>\n",
       "      <td>-0.570238</td>\n",
       "      <td>-0.770265</td>\n",
       "      <td>-0.652971</td>\n",
       "      <td>1.451482</td>\n",
       "      <td>0.250161</td>\n",
       "      <td>1.114803</td>\n",
       "      <td>0.136983</td>\n",
       "      <td>0.592854</td>\n",
       "      <td>0.016588</td>\n",
       "      <td>-0.582963</td>\n",
       "      <td>01avx2fm1t961</td>\n",
       "      <td>3</td>\n",
       "      <td>3</td>\n",
       "      <td>1</td>\n",
       "    </tr>\n",
       "    <tr>\n",
       "      <th>4</th>\n",
       "      <td>-0.770635</td>\n",
       "      <td>-1.140454</td>\n",
       "      <td>-1.310001</td>\n",
       "      <td>1.620578</td>\n",
       "      <td>0.873807</td>\n",
       "      <td>0.829075</td>\n",
       "      <td>0.810602</td>\n",
       "      <td>0.672384</td>\n",
       "      <td>0.279838</td>\n",
       "      <td>-0.674388</td>\n",
       "      <td>01avx2fm1t961</td>\n",
       "      <td>3</td>\n",
       "      <td>2</td>\n",
       "      <td>1</td>\n",
       "    </tr>\n",
       "    <tr>\n",
       "      <th>...</th>\n",
       "      <td>...</td>\n",
       "      <td>...</td>\n",
       "      <td>...</td>\n",
       "      <td>...</td>\n",
       "      <td>...</td>\n",
       "      <td>...</td>\n",
       "      <td>...</td>\n",
       "      <td>...</td>\n",
       "      <td>...</td>\n",
       "      <td>...</td>\n",
       "      <td>...</td>\n",
       "      <td>...</td>\n",
       "      <td>...</td>\n",
       "      <td>...</td>\n",
       "    </tr>\n",
       "    <tr>\n",
       "      <th>2105</th>\n",
       "      <td>-0.323659</td>\n",
       "      <td>-0.014225</td>\n",
       "      <td>-0.292555</td>\n",
       "      <td>-0.274583</td>\n",
       "      <td>0.202622</td>\n",
       "      <td>0.987592</td>\n",
       "      <td>-0.006539</td>\n",
       "      <td>0.479082</td>\n",
       "      <td>-0.465383</td>\n",
       "      <td>-0.480872</td>\n",
       "      <td>xdz15thrnem51</td>\n",
       "      <td>2</td>\n",
       "      <td>1</td>\n",
       "      <td>0</td>\n",
       "    </tr>\n",
       "    <tr>\n",
       "      <th>2106</th>\n",
       "      <td>0.053725</td>\n",
       "      <td>0.711694</td>\n",
       "      <td>0.719834</td>\n",
       "      <td>0.365542</td>\n",
       "      <td>-0.350018</td>\n",
       "      <td>-0.25594</td>\n",
       "      <td>-0.565074</td>\n",
       "      <td>-0.215352</td>\n",
       "      <td>-0.424726</td>\n",
       "      <td>0.260425</td>\n",
       "      <td>xdz15thrnem51</td>\n",
       "      <td>2</td>\n",
       "      <td>2</td>\n",
       "      <td>0</td>\n",
       "    </tr>\n",
       "    <tr>\n",
       "      <th>2107</th>\n",
       "      <td>-0.589685</td>\n",
       "      <td>0.09044</td>\n",
       "      <td>-0.028897</td>\n",
       "      <td>-0.329049</td>\n",
       "      <td>0.642715</td>\n",
       "      <td>0.087973</td>\n",
       "      <td>0.070198</td>\n",
       "      <td>0.395726</td>\n",
       "      <td>-0.508895</td>\n",
       "      <td>-0.37301</td>\n",
       "      <td>xdz15thrnem51</td>\n",
       "      <td>2</td>\n",
       "      <td>1</td>\n",
       "      <td>0</td>\n",
       "    </tr>\n",
       "    <tr>\n",
       "      <th>2108</th>\n",
       "      <td>0.508124</td>\n",
       "      <td>0.954183</td>\n",
       "      <td>0.938286</td>\n",
       "      <td>0.665189</td>\n",
       "      <td>0.878313</td>\n",
       "      <td>-0.251261</td>\n",
       "      <td>-0.670125</td>\n",
       "      <td>-0.523881</td>\n",
       "      <td>-0.187419</td>\n",
       "      <td>0.608156</td>\n",
       "      <td>xdz15thrnem51</td>\n",
       "      <td>2</td>\n",
       "      <td>2</td>\n",
       "      <td>0</td>\n",
       "    </tr>\n",
       "    <tr>\n",
       "      <th>2109</th>\n",
       "      <td>-1.027281</td>\n",
       "      <td>0.234599</td>\n",
       "      <td>0.575819</td>\n",
       "      <td>-0.424169</td>\n",
       "      <td>0.580985</td>\n",
       "      <td>0.945848</td>\n",
       "      <td>0.063851</td>\n",
       "      <td>-0.220702</td>\n",
       "      <td>-1.054706</td>\n",
       "      <td>0.084163</td>\n",
       "      <td>xdz15thrnem51</td>\n",
       "      <td>2</td>\n",
       "      <td>1</td>\n",
       "      <td>0</td>\n",
       "    </tr>\n",
       "  </tbody>\n",
       "</table>\n",
       "<p>2110 rows × 14 columns</p>\n",
       "</div>"
      ],
      "text/plain": [
       "     analyse_harmonics get_max_intensity analyse_intensity analyse_pitch  \\\n",
       "0            -1.229415          0.816248          0.877741       1.42237   \n",
       "1            -1.369057          0.541133          1.180279      2.008275   \n",
       "2            -1.194428          1.078107          1.085473        1.8399   \n",
       "3            -0.570238         -0.770265         -0.652971      1.451482   \n",
       "4            -0.770635         -1.140454         -1.310001      1.620578   \n",
       "...                ...               ...               ...           ...   \n",
       "2105         -0.323659         -0.014225         -0.292555     -0.274583   \n",
       "2106          0.053725          0.711694          0.719834      0.365542   \n",
       "2107         -0.589685           0.09044         -0.028897     -0.329049   \n",
       "2108          0.508124          0.954183          0.938286      0.665189   \n",
       "2109         -1.027281          0.234599          0.575819     -0.424169   \n",
       "\n",
       "     analyse_pitch_range analyse_shimmer analyse_jitter spectral_slope  \\\n",
       "0               0.857657        0.898334       0.355641      -0.331514   \n",
       "1               0.626936        1.131041       1.008834      -0.322634   \n",
       "2                0.79798        1.090856       0.310873      -0.620007   \n",
       "3               0.250161        1.114803       0.136983       0.592854   \n",
       "4               0.873807        0.829075       0.810602       0.672384   \n",
       "...                  ...             ...            ...            ...   \n",
       "2105            0.202622        0.987592      -0.006539       0.479082   \n",
       "2106           -0.350018        -0.25594      -0.565074      -0.215352   \n",
       "2107            0.642715        0.087973       0.070198       0.395726   \n",
       "2108            0.878313       -0.251261      -0.670125      -0.523881   \n",
       "2109            0.580985        0.945848       0.063851      -0.220702   \n",
       "\n",
       "     mean_spectral_rolloff get_energy parent_file_train parent_label_train  \\\n",
       "0                 0.907009   0.498579     00g8dfgpqpt61                  0   \n",
       "1                 0.438397   1.124945     00g8dfgpqpt62                  0   \n",
       "2                 0.086267   0.898132     00g8dfgpqpt63                  0   \n",
       "3                 0.016588  -0.582963     01avx2fm1t961                  3   \n",
       "4                 0.279838  -0.674388     01avx2fm1t961                  3   \n",
       "...                    ...        ...               ...                ...   \n",
       "2105             -0.465383  -0.480872     xdz15thrnem51                  2   \n",
       "2106             -0.424726   0.260425     xdz15thrnem51                  2   \n",
       "2107             -0.508895   -0.37301     xdz15thrnem51                  2   \n",
       "2108             -0.187419   0.608156     xdz15thrnem51                  2   \n",
       "2109             -1.054706   0.084163     xdz15thrnem51                  2   \n",
       "\n",
       "     segment_label_train noisy_train  \n",
       "0                      0           1  \n",
       "1                      0           1  \n",
       "2                      0           1  \n",
       "3                      3           1  \n",
       "4                      2           1  \n",
       "...                  ...         ...  \n",
       "2105                   1           0  \n",
       "2106                   2           0  \n",
       "2107                   1           0  \n",
       "2108                   2           0  \n",
       "2109                   1           0  \n",
       "\n",
       "[2110 rows x 14 columns]"
      ]
     },
     "execution_count": 21,
     "metadata": {},
     "output_type": "execute_result"
    }
   ],
   "source": [
    "standardized_aggression_df"
   ]
  },
  {
   "cell_type": "markdown",
   "metadata": {},
   "source": [
    "combine the labels in all dataframes"
   ]
  },
  {
   "cell_type": "code",
   "execution_count": 36,
   "metadata": {},
   "outputs": [
    {
     "name": "stdout",
     "output_type": "stream",
     "text": [
      "[0 2 1]\n",
      "[0 2 1]\n"
     ]
    }
   ],
   "source": [
    "standardized_aggression_mergedlabels_df = standardized_aggression_df.copy()\n",
    "standardized_aggression_mergedlabels_df.loc[standardized_aggression_mergedlabels_df['segment_label_train'] == 2, 'segment_label_train' ] = 1\n",
    "standardized_aggression_mergedlabels_df.loc[standardized_aggression_mergedlabels_df['segment_label_train'] == 3, 'segment_label_train'] = 2\n",
    "standardized_aggression_mergedlabels_df.loc[standardized_aggression_mergedlabels_df['parent_label_train'] == 2, 'parent_label_train'] = 1\n",
    "standardized_aggression_mergedlabels_df.loc[standardized_aggression_mergedlabels_df['parent_label_train'] == 3, 'parent_label_train'] = 2\n",
    "print(standardized_aggression_mergedlabels_df['segment_label_train'].unique())\n",
    "print(standardized_aggression_mergedlabels_df['parent_label_train'].unique())"
   ]
  },
  {
   "cell_type": "code",
   "execution_count": 37,
   "metadata": {},
   "outputs": [],
   "source": [
    "standardized_mergedlabels_non_noisy_df = standardized_aggression_mergedlabels_df.loc[standardized_aggression_mergedlabels_df['noisy_train'] == 0]\n",
    "standardized_mergedlabels_noisy_df = standardized_aggression_mergedlabels_df.loc[standardized_aggression_mergedlabels_df['noisy_train'] == 1]"
   ]
  },
  {
   "cell_type": "markdown",
   "metadata": {},
   "source": [
    "convert to numpy arrays"
   ]
  },
  {
   "cell_type": "code",
   "execution_count": 38,
   "metadata": {},
   "outputs": [
    {
     "name": "stderr",
     "output_type": "stream",
     "text": [
      "/var/folders/7b/v9yf5j856tggrfg1tm641t9c0000gn/T/ipykernel_23664/2370931604.py:1: FutureWarning: In a future version of pandas all arguments of DataFrame.drop except for the argument 'labels' will be keyword-only\n",
      "  data_merged_np = standardized_aggression_mergedlabels_df.drop([\"parent_file_train\", \"parent_label_train\", \"segment_label_train\", \"noisy_train\"], 1).to_numpy()\n",
      "/var/folders/7b/v9yf5j856tggrfg1tm641t9c0000gn/T/ipykernel_23664/2370931604.py:5: FutureWarning: In a future version of pandas all arguments of DataFrame.drop except for the argument 'labels' will be keyword-only\n",
      "  data_merged_non_noisy_np = standardized_mergedlabels_non_noisy_df.drop([\"parent_file_train\", \"parent_label_train\", \"segment_label_train\", \"noisy_train\"], 1).to_numpy()\n",
      "/var/folders/7b/v9yf5j856tggrfg1tm641t9c0000gn/T/ipykernel_23664/2370931604.py:9: FutureWarning: In a future version of pandas all arguments of DataFrame.drop except for the argument 'labels' will be keyword-only\n",
      "  data_merged_noisy_np = standardized_mergedlabels_noisy_df.drop([\"parent_file_train\", \"parent_label_train\", \"segment_label_train\", \"noisy_train\"], 1).to_numpy()\n"
     ]
    }
   ],
   "source": [
    "data_merged_np = standardized_aggression_mergedlabels_df.drop([\"parent_file_train\", \"parent_label_train\", \"segment_label_train\", \"noisy_train\"], 1).to_numpy()\n",
    "label_merged_np = standardized_aggression_mergedlabels_df['segment_label_train'].to_numpy()\n",
    "label_merged_np=label_merged_np.astype('int')\n",
    "\n",
    "data_merged_non_noisy_np = standardized_mergedlabels_non_noisy_df.drop([\"parent_file_train\", \"parent_label_train\", \"segment_label_train\", \"noisy_train\"], 1).to_numpy()\n",
    "label_merged_non_noisy_np = standardized_mergedlabels_non_noisy_df['segment_label_train'].to_numpy()\n",
    "label_merged_non_noisy_np=label_merged_non_noisy_np.astype('int')\n",
    "\n",
    "data_merged_noisy_np = standardized_mergedlabels_noisy_df.drop([\"parent_file_train\", \"parent_label_train\", \"segment_label_train\", \"noisy_train\"], 1).to_numpy()\n",
    "label_merged_noisy_np = standardized_mergedlabels_noisy_df['segment_label_train'].to_numpy()\n",
    "label_merged_noisy_np=label_merged_noisy_np.astype('int')"
   ]
  },
  {
   "cell_type": "markdown",
   "metadata": {},
   "source": [
    "Get new hyper params"
   ]
  },
  {
   "cell_type": "code",
   "execution_count": 182,
   "metadata": {},
   "outputs": [
    {
     "name": "stdout",
     "output_type": "stream",
     "text": [
      "{'C': 10, 'gamma': 'scale', 'kernel': 'rbf'}\n",
      "{'C': 10, 'gamma': 'scale', 'kernel': 'rbf'}\n",
      "{'C': 0.1, 'gamma': 'scale', 'kernel': 'linear'}\n"
     ]
    }
   ],
   "source": [
    "quick_parameters = {'C': [ 0.001, 0.01, 0.1, 1, 10, 100], 'gamma': ['scale','auto'],\n",
    "                 'kernel': ['rbf', 'linear', 'poly', 'sigmoid']}\n",
    "\n",
    "svc = svm.SVC()\n",
    "hyperparameter_tuning(svc, data_merged_np, label_merged_np, quick_parameters)\n",
    "hyperparameter_tuning(svc, data_merged_non_noisy_np, label_merged_non_noisy_np, quick_parameters)\n",
    "hyperparameter_tuning(svc, data_merged_noisy_np, label_merged_noisy_np, quick_parameters)"
   ]
  },
  {
   "cell_type": "markdown",
   "metadata": {},
   "source": [
    "{'C': 10, 'gamma': 'scale', 'kernel': 'rbf'}\n",
    "{'C': 10, 'gamma': 'scale', 'kernel': 'rbf'}\n",
    "{'C': 0.1, 'gamma': 'scale', 'kernel': 'linear'}"
   ]
  },
  {
   "cell_type": "code",
   "execution_count": 189,
   "metadata": {},
   "outputs": [
    {
     "name": "stdout",
     "output_type": "stream",
     "text": [
      "Feature set: Index(['analyse_harmonics', 'get_max_intensity', 'analyse_intensity',\n",
      "       'analyse_pitch', 'analyse_pitch_range', 'analyse_shimmer',\n",
      "       'analyse_jitter', 'spectral_slope', 'mean_spectral_rolloff',\n",
      "       'get_energy'],\n",
      "      dtype='object')\n",
      "F1 score = 0.6542990896571458; Accuracy score = 0.6571969696969697 ; Precisison Score = 0.6567046612918173; Recall score = 0.6571969696969697\n",
      "\n",
      "\n",
      " Aggregate report \n",
      "               precision    recall  f1-score   support\n",
      "\n",
      "           0       0.68      0.66      0.67       224\n",
      "           1       0.64      0.70      0.67       253\n",
      "           2       0.62      0.41      0.49        51\n",
      "\n",
      "    accuracy                           0.66       528\n",
      "   macro avg       0.65      0.59      0.61       528\n",
      "weighted avg       0.66      0.66      0.65       528\n",
      "\n"
     ]
    },
    {
     "data": {
      "image/png": "[encoded data removed]",
      "text/plain": [
       "<Figure size 1008x576 with 2 Axes>"
      ]
     },
     "metadata": {
      "needs_background": "light"
     },
     "output_type": "display_data"
    },
    {
     "name": "stdout",
     "output_type": "stream",
     "text": [
      "Feature set: Index(['analyse_harmonics', 'get_max_intensity', 'analyse_intensity',\n",
      "       'analyse_pitch', 'analyse_pitch_range', 'analyse_shimmer',\n",
      "       'analyse_jitter', 'spectral_slope', 'mean_spectral_rolloff',\n",
      "       'get_energy'],\n",
      "      dtype='object')\n",
      "F1 score = 0.6550345443361341; Accuracy score = 0.6623376623376623 ; Precisison Score = 0.6809816371845502; Recall score = 0.6623376623376623\n",
      "\n",
      "\n",
      " Aggregate report \n",
      "               precision    recall  f1-score   support\n",
      "\n",
      "           0       0.70      0.62      0.66       205\n",
      "           1       0.63      0.76      0.69       222\n",
      "           2       0.91      0.29      0.43        35\n",
      "\n",
      "    accuracy                           0.66       462\n",
      "   macro avg       0.75      0.56      0.59       462\n",
      "weighted avg       0.68      0.66      0.66       462\n",
      "\n"
     ]
    },
    {
     "data": {
      "image/png": "[encoded data removed]",
      "text/plain": [
       "<Figure size 1008x576 with 2 Axes>"
      ]
     },
     "metadata": {
      "needs_background": "light"
     },
     "output_type": "display_data"
    },
    {
     "name": "stdout",
     "output_type": "stream",
     "text": [
      "Feature set: Index(['analyse_harmonics', 'get_max_intensity', 'analyse_intensity',\n",
      "       'analyse_pitch', 'analyse_pitch_range', 'analyse_shimmer',\n",
      "       'analyse_jitter', 'spectral_slope', 'mean_spectral_rolloff',\n",
      "       'get_energy'],\n",
      "      dtype='object')\n",
      "F1 score = 0.5103238962393892; Accuracy score = 0.5757575757575758 ; Precisison Score = 0.4678753989098816; Recall score = 0.5757575757575758\n",
      "\n",
      "\n",
      " Aggregate report \n",
      "               precision    recall  f1-score   support\n",
      "\n",
      "           0       0.73      0.79      0.76        34\n",
      "           1       0.00      0.00      0.00        16\n",
      "           2       0.38      0.69      0.49        16\n",
      "\n",
      "    accuracy                           0.58        66\n",
      "   macro avg       0.37      0.49      0.42        66\n",
      "weighted avg       0.47      0.58      0.51        66\n",
      "\n"
     ]
    },
    {
     "name": "stderr",
     "output_type": "stream",
     "text": [
      "c:\\Users\\Paige\\Documents\\CMPT724\\final_project\\venv\\lib\\site-packages\\sklearn\\metrics\\_classification.py:1318: UndefinedMetricWarning: Precision is ill-defined and being set to 0.0 in labels with no predicted samples. Use `zero_division` parameter to control this behavior.\n",
      "  _warn_prf(average, modifier, msg_start, len(result))\n",
      "c:\\Users\\Paige\\Documents\\CMPT724\\final_project\\venv\\lib\\site-packages\\sklearn\\metrics\\_classification.py:1318: UndefinedMetricWarning: Precision and F-score are ill-defined and being set to 0.0 in labels with no predicted samples. Use `zero_division` parameter to control this behavior.\n",
      "  _warn_prf(average, modifier, msg_start, len(result))\n",
      "c:\\Users\\Paige\\Documents\\CMPT724\\final_project\\venv\\lib\\site-packages\\sklearn\\metrics\\_classification.py:1318: UndefinedMetricWarning: Precision and F-score are ill-defined and being set to 0.0 in labels with no predicted samples. Use `zero_division` parameter to control this behavior.\n",
      "  _warn_prf(average, modifier, msg_start, len(result))\n",
      "c:\\Users\\Paige\\Documents\\CMPT724\\final_project\\venv\\lib\\site-packages\\sklearn\\metrics\\_classification.py:1318: UndefinedMetricWarning: Precision and F-score are ill-defined and being set to 0.0 in labels with no predicted samples. Use `zero_division` parameter to control this behavior.\n",
      "  _warn_prf(average, modifier, msg_start, len(result))\n"
     ]
    },
    {
     "data": {
      "image/png": "[encoded data removed]",
      "text/plain": [
       "<Figure size 1008x576 with 2 Axes>"
      ]
     },
     "metadata": {
      "needs_background": "light"
     },
     "output_type": "display_data"
    }
   ],
   "source": [
    "lst_label_np = [label_merged_np, label_merged_non_noisy_np, label_merged_noisy_np]\n",
    "label = 'segment_label_train'\n",
    "lst_df = [standardized_aggression_mergedlabels_df, standardized_mergedlabels_non_noisy_df, standardized_mergedlabels_noisy_df]\n",
    "X_test_list = [None,None,None]\n",
    "kernel = ['rbf', 'rbf', 'linear']\n",
    "c = [10, 10, 0.1]\n",
    "\n",
    "for i in range(3):\n",
    "    svm_model = svm.SVC(kernel=kernel[i], gamma='scale', C=c[i])\n",
    "    actual, predicted, X_test_list[i] = run_model(svm_model, lst_df[i], lst_label_np[i],label_name=label)\n",
    "\n",
    "    confusion_matrix_graph(f\"SVM - Group {i+1}\", actual, predicted, ['0', '1', '2'])"
   ]
  },
  {
   "cell_type": "markdown",
   "metadata": {},
   "source": [
    "Improvements in all but noisy, it seems to still not be able to predict anything but the extreme classes"
   ]
  },
  {
   "cell_type": "code",
   "execution_count": 191,
   "metadata": {},
   "outputs": [
    {
     "name": "stdout",
     "output_type": "stream",
     "text": [
      "\n",
      "\n",
      " Aggregate report \n",
      "               precision    recall  f1-score   support\n",
      "\n",
      "           0       0.55      0.57      0.56        63\n",
      "           1       0.61      0.73      0.67       100\n",
      "           2       0.77      0.40      0.52        43\n",
      "\n",
      "    accuracy                           0.61       206\n",
      "   macro avg       0.65      0.57      0.58       206\n",
      "weighted avg       0.63      0.61      0.60       206\n",
      "\n"
     ]
    },
    {
     "data": {
      "image/png": "[encoded data removed]",
      "text/plain": [
       "<Figure size 1008x576 with 2 Axes>"
      ]
     },
     "metadata": {
      "needs_background": "light"
     },
     "output_type": "display_data"
    },
    {
     "name": "stdout",
     "output_type": "stream",
     "text": [
      "\n",
      "\n",
      " Aggregate report \n",
      "               precision    recall  f1-score   support\n",
      "\n",
      "           0       0.58      0.62      0.60        47\n",
      "           1       0.63      0.81      0.71        88\n",
      "           2       1.00      0.18      0.31        33\n",
      "\n",
      "    accuracy                           0.63       168\n",
      "   macro avg       0.74      0.54      0.54       168\n",
      "weighted avg       0.69      0.63      0.60       168\n",
      "\n"
     ]
    },
    {
     "data": {
      "image/png": "[encoded data removed]",
      "text/plain": [
       "<Figure size 1008x576 with 2 Axes>"
      ]
     },
     "metadata": {
      "needs_background": "light"
     },
     "output_type": "display_data"
    },
    {
     "name": "stdout",
     "output_type": "stream",
     "text": [
      "\n",
      "\n",
      " Aggregate report \n",
      "               precision    recall  f1-score   support\n",
      "\n",
      "           0       0.65      0.72      0.68        18\n",
      "           1       0.00      0.00      0.00        10\n",
      "           2       0.56      1.00      0.71        10\n",
      "\n",
      "    accuracy                           0.61        38\n",
      "   macro avg       0.40      0.57      0.47        38\n",
      "weighted avg       0.45      0.61      0.51        38\n",
      "\n"
     ]
    },
    {
     "name": "stderr",
     "output_type": "stream",
     "text": [
      "c:\\Users\\Paige\\Documents\\CMPT724\\final_project\\venv\\lib\\site-packages\\sklearn\\metrics\\_classification.py:1318: UndefinedMetricWarning: Precision and F-score are ill-defined and being set to 0.0 in labels with no predicted samples. Use `zero_division` parameter to control this behavior.\n",
      "  _warn_prf(average, modifier, msg_start, len(result))\n",
      "c:\\Users\\Paige\\Documents\\CMPT724\\final_project\\venv\\lib\\site-packages\\sklearn\\metrics\\_classification.py:1318: UndefinedMetricWarning: Precision and F-score are ill-defined and being set to 0.0 in labels with no predicted samples. Use `zero_division` parameter to control this behavior.\n",
      "  _warn_prf(average, modifier, msg_start, len(result))\n",
      "c:\\Users\\Paige\\Documents\\CMPT724\\final_project\\venv\\lib\\site-packages\\sklearn\\metrics\\_classification.py:1318: UndefinedMetricWarning: Precision and F-score are ill-defined and being set to 0.0 in labels with no predicted samples. Use `zero_division` parameter to control this behavior.\n",
      "  _warn_prf(average, modifier, msg_start, len(result))\n"
     ]
    },
    {
     "data": {
      "image/png": "[encoded data removed]",
      "text/plain": [
       "<Figure size 1008x576 with 2 Axes>"
      ]
     },
     "metadata": {
      "needs_background": "light"
     },
     "output_type": "display_data"
    },
    {
     "data": {
      "text/html": [
       "<div>\n",
       "<style scoped>\n",
       "    .dataframe tbody tr th:only-of-type {\n",
       "        vertical-align: middle;\n",
       "    }\n",
       "\n",
       "    .dataframe tbody tr th {\n",
       "        vertical-align: top;\n",
       "    }\n",
       "\n",
       "    .dataframe thead th {\n",
       "        text-align: right;\n",
       "    }\n",
       "</style>\n",
       "<table border=\"1\" class=\"dataframe\">\n",
       "  <thead>\n",
       "    <tr style=\"text-align: right;\">\n",
       "      <th></th>\n",
       "      <th>parent_file_train</th>\n",
       "      <th>parent_label_train</th>\n",
       "      <th>segment_predictions</th>\n",
       "    </tr>\n",
       "  </thead>\n",
       "  <tbody>\n",
       "    <tr>\n",
       "      <th>0</th>\n",
       "      <td>01avx2fm1t961</td>\n",
       "      <td>2</td>\n",
       "      <td>1</td>\n",
       "    </tr>\n",
       "    <tr>\n",
       "      <th>1</th>\n",
       "      <td>0202on89vhz61</td>\n",
       "      <td>0</td>\n",
       "      <td>1</td>\n",
       "    </tr>\n",
       "    <tr>\n",
       "      <th>2</th>\n",
       "      <td>03mglec8fez51</td>\n",
       "      <td>1</td>\n",
       "      <td>1</td>\n",
       "    </tr>\n",
       "    <tr>\n",
       "      <th>3</th>\n",
       "      <td>0653ipqy7vd71</td>\n",
       "      <td>1</td>\n",
       "      <td>1</td>\n",
       "    </tr>\n",
       "    <tr>\n",
       "      <th>4</th>\n",
       "      <td>095x9borh0z61</td>\n",
       "      <td>1</td>\n",
       "      <td>1</td>\n",
       "    </tr>\n",
       "    <tr>\n",
       "      <th>...</th>\n",
       "      <td>...</td>\n",
       "      <td>...</td>\n",
       "      <td>...</td>\n",
       "    </tr>\n",
       "    <tr>\n",
       "      <th>201</th>\n",
       "      <td>wspxs1zbhm671</td>\n",
       "      <td>1</td>\n",
       "      <td>1</td>\n",
       "    </tr>\n",
       "    <tr>\n",
       "      <th>202</th>\n",
       "      <td>wunn1jjbpu961</td>\n",
       "      <td>0</td>\n",
       "      <td>0</td>\n",
       "    </tr>\n",
       "    <tr>\n",
       "      <th>203</th>\n",
       "      <td>wunqa6kfsvx51</td>\n",
       "      <td>0</td>\n",
       "      <td>0</td>\n",
       "    </tr>\n",
       "    <tr>\n",
       "      <th>204</th>\n",
       "      <td>xdz15thrnem51</td>\n",
       "      <td>1</td>\n",
       "      <td>1</td>\n",
       "    </tr>\n",
       "    <tr>\n",
       "      <th>205</th>\n",
       "      <td>zvkhxd3vp3o51</td>\n",
       "      <td>1</td>\n",
       "      <td>0</td>\n",
       "    </tr>\n",
       "  </tbody>\n",
       "</table>\n",
       "<p>206 rows × 3 columns</p>\n",
       "</div>"
      ],
      "text/plain": [
       "    parent_file_train  parent_label_train  segment_predictions\n",
       "0       01avx2fm1t961                   2                    1\n",
       "1       0202on89vhz61                   0                    1\n",
       "2       03mglec8fez51                   1                    1\n",
       "3       0653ipqy7vd71                   1                    1\n",
       "4       095x9borh0z61                   1                    1\n",
       "..                ...                 ...                  ...\n",
       "201     wspxs1zbhm671                   1                    1\n",
       "202     wunn1jjbpu961                   0                    0\n",
       "203     wunqa6kfsvx51                   0                    0\n",
       "204     xdz15thrnem51                   1                    1\n",
       "205     zvkhxd3vp3o51                   1                    0\n",
       "\n",
       "[206 rows x 3 columns]"
      ]
     },
     "execution_count": 191,
     "metadata": {},
     "output_type": "execute_result"
    }
   ],
   "source": [
    "max_parent_df_list = []\n",
    "\n",
    "for i in range(0,len(X_test_list)):\n",
    "    # Each dataset: agg, non oisy and noisy, find max segment predictions for each parent_file_train\n",
    "    df_i = X_test_list[i]\n",
    "    #display(df_i)\n",
    "    df_i_merged = df_i.groupby('parent_file_train')['segment_predictions'].max().reset_index()\n",
    "    \n",
    "    # Get parent label for each parent_file\n",
    "    #df_i = lst_df[i] \n",
    "    df_i_2 = df_i.groupby('parent_file_train')['parent_label_train'].max().reset_index()\n",
    "    df_i_merged = df_i_2.merge(df_i_merged, on='parent_file_train')\n",
    "    max_parent_df_list.append(df_i_merged)\n",
    "    \n",
    "    confusion_matrix_graph(f\"SVM - Group {i+1}\", df_i_merged['parent_label_train'], df_i_merged['segment_predictions'], ['0', '1', '2'])\n",
    "\n",
    "max_parent_df_list[0] "
   ]
  },
  {
   "cell_type": "markdown",
   "metadata": {},
   "source": [
    "again we see improvements"
   ]
  },
  {
   "cell_type": "markdown",
   "metadata": {},
   "source": [
    "### Try balancing levels with 4 classes"
   ]
  },
  {
   "cell_type": "code",
   "execution_count": 39,
   "metadata": {},
   "outputs": [],
   "source": [
    "from sklearn.utils import resample"
   ]
  },
  {
   "cell_type": "code",
   "execution_count": 40,
   "metadata": {},
   "outputs": [
    {
     "data": {
      "text/html": [
       "<div>\n",
       "<style scoped>\n",
       "    .dataframe tbody tr th:only-of-type {\n",
       "        vertical-align: middle;\n",
       "    }\n",
       "\n",
       "    .dataframe tbody tr th {\n",
       "        vertical-align: top;\n",
       "    }\n",
       "\n",
       "    .dataframe thead th {\n",
       "        text-align: right;\n",
       "    }\n",
       "</style>\n",
       "<table border=\"1\" class=\"dataframe\">\n",
       "  <thead>\n",
       "    <tr style=\"text-align: right;\">\n",
       "      <th></th>\n",
       "      <th>analyse_harmonics</th>\n",
       "      <th>get_max_intensity</th>\n",
       "      <th>analyse_intensity</th>\n",
       "      <th>analyse_pitch</th>\n",
       "      <th>analyse_pitch_range</th>\n",
       "      <th>analyse_shimmer</th>\n",
       "      <th>analyse_jitter</th>\n",
       "      <th>spectral_slope</th>\n",
       "      <th>mean_spectral_rolloff</th>\n",
       "      <th>get_energy</th>\n",
       "      <th>parent_file_train</th>\n",
       "      <th>parent_label_train</th>\n",
       "      <th>segment_label_train</th>\n",
       "      <th>noisy_train</th>\n",
       "    </tr>\n",
       "  </thead>\n",
       "  <tbody>\n",
       "    <tr>\n",
       "      <th>0</th>\n",
       "      <td>-1.229415</td>\n",
       "      <td>0.816248</td>\n",
       "      <td>0.877741</td>\n",
       "      <td>1.42237</td>\n",
       "      <td>0.857657</td>\n",
       "      <td>0.898334</td>\n",
       "      <td>0.355641</td>\n",
       "      <td>-0.331514</td>\n",
       "      <td>0.907009</td>\n",
       "      <td>0.498579</td>\n",
       "      <td>00g8dfgpqpt61</td>\n",
       "      <td>0</td>\n",
       "      <td>0</td>\n",
       "      <td>1</td>\n",
       "    </tr>\n",
       "    <tr>\n",
       "      <th>1</th>\n",
       "      <td>-1.369057</td>\n",
       "      <td>0.541133</td>\n",
       "      <td>1.180279</td>\n",
       "      <td>2.008275</td>\n",
       "      <td>0.626936</td>\n",
       "      <td>1.131041</td>\n",
       "      <td>1.008834</td>\n",
       "      <td>-0.322634</td>\n",
       "      <td>0.438397</td>\n",
       "      <td>1.124945</td>\n",
       "      <td>00g8dfgpqpt62</td>\n",
       "      <td>0</td>\n",
       "      <td>0</td>\n",
       "      <td>1</td>\n",
       "    </tr>\n",
       "    <tr>\n",
       "      <th>2</th>\n",
       "      <td>-1.194428</td>\n",
       "      <td>1.078107</td>\n",
       "      <td>1.085473</td>\n",
       "      <td>1.8399</td>\n",
       "      <td>0.79798</td>\n",
       "      <td>1.090856</td>\n",
       "      <td>0.310873</td>\n",
       "      <td>-0.620007</td>\n",
       "      <td>0.086267</td>\n",
       "      <td>0.898132</td>\n",
       "      <td>00g8dfgpqpt63</td>\n",
       "      <td>0</td>\n",
       "      <td>0</td>\n",
       "      <td>1</td>\n",
       "    </tr>\n",
       "    <tr>\n",
       "      <th>3</th>\n",
       "      <td>-0.570238</td>\n",
       "      <td>-0.770265</td>\n",
       "      <td>-0.652971</td>\n",
       "      <td>1.451482</td>\n",
       "      <td>0.250161</td>\n",
       "      <td>1.114803</td>\n",
       "      <td>0.136983</td>\n",
       "      <td>0.592854</td>\n",
       "      <td>0.016588</td>\n",
       "      <td>-0.582963</td>\n",
       "      <td>01avx2fm1t961</td>\n",
       "      <td>3</td>\n",
       "      <td>3</td>\n",
       "      <td>1</td>\n",
       "    </tr>\n",
       "    <tr>\n",
       "      <th>4</th>\n",
       "      <td>-0.770635</td>\n",
       "      <td>-1.140454</td>\n",
       "      <td>-1.310001</td>\n",
       "      <td>1.620578</td>\n",
       "      <td>0.873807</td>\n",
       "      <td>0.829075</td>\n",
       "      <td>0.810602</td>\n",
       "      <td>0.672384</td>\n",
       "      <td>0.279838</td>\n",
       "      <td>-0.674388</td>\n",
       "      <td>01avx2fm1t961</td>\n",
       "      <td>3</td>\n",
       "      <td>2</td>\n",
       "      <td>1</td>\n",
       "    </tr>\n",
       "    <tr>\n",
       "      <th>...</th>\n",
       "      <td>...</td>\n",
       "      <td>...</td>\n",
       "      <td>...</td>\n",
       "      <td>...</td>\n",
       "      <td>...</td>\n",
       "      <td>...</td>\n",
       "      <td>...</td>\n",
       "      <td>...</td>\n",
       "      <td>...</td>\n",
       "      <td>...</td>\n",
       "      <td>...</td>\n",
       "      <td>...</td>\n",
       "      <td>...</td>\n",
       "      <td>...</td>\n",
       "    </tr>\n",
       "    <tr>\n",
       "      <th>2105</th>\n",
       "      <td>-0.323659</td>\n",
       "      <td>-0.014225</td>\n",
       "      <td>-0.292555</td>\n",
       "      <td>-0.274583</td>\n",
       "      <td>0.202622</td>\n",
       "      <td>0.987592</td>\n",
       "      <td>-0.006539</td>\n",
       "      <td>0.479082</td>\n",
       "      <td>-0.465383</td>\n",
       "      <td>-0.480872</td>\n",
       "      <td>xdz15thrnem51</td>\n",
       "      <td>2</td>\n",
       "      <td>1</td>\n",
       "      <td>0</td>\n",
       "    </tr>\n",
       "    <tr>\n",
       "      <th>2106</th>\n",
       "      <td>0.053725</td>\n",
       "      <td>0.711694</td>\n",
       "      <td>0.719834</td>\n",
       "      <td>0.365542</td>\n",
       "      <td>-0.350018</td>\n",
       "      <td>-0.25594</td>\n",
       "      <td>-0.565074</td>\n",
       "      <td>-0.215352</td>\n",
       "      <td>-0.424726</td>\n",
       "      <td>0.260425</td>\n",
       "      <td>xdz15thrnem51</td>\n",
       "      <td>2</td>\n",
       "      <td>2</td>\n",
       "      <td>0</td>\n",
       "    </tr>\n",
       "    <tr>\n",
       "      <th>2107</th>\n",
       "      <td>-0.589685</td>\n",
       "      <td>0.09044</td>\n",
       "      <td>-0.028897</td>\n",
       "      <td>-0.329049</td>\n",
       "      <td>0.642715</td>\n",
       "      <td>0.087973</td>\n",
       "      <td>0.070198</td>\n",
       "      <td>0.395726</td>\n",
       "      <td>-0.508895</td>\n",
       "      <td>-0.37301</td>\n",
       "      <td>xdz15thrnem51</td>\n",
       "      <td>2</td>\n",
       "      <td>1</td>\n",
       "      <td>0</td>\n",
       "    </tr>\n",
       "    <tr>\n",
       "      <th>2108</th>\n",
       "      <td>0.508124</td>\n",
       "      <td>0.954183</td>\n",
       "      <td>0.938286</td>\n",
       "      <td>0.665189</td>\n",
       "      <td>0.878313</td>\n",
       "      <td>-0.251261</td>\n",
       "      <td>-0.670125</td>\n",
       "      <td>-0.523881</td>\n",
       "      <td>-0.187419</td>\n",
       "      <td>0.608156</td>\n",
       "      <td>xdz15thrnem51</td>\n",
       "      <td>2</td>\n",
       "      <td>2</td>\n",
       "      <td>0</td>\n",
       "    </tr>\n",
       "    <tr>\n",
       "      <th>2109</th>\n",
       "      <td>-1.027281</td>\n",
       "      <td>0.234599</td>\n",
       "      <td>0.575819</td>\n",
       "      <td>-0.424169</td>\n",
       "      <td>0.580985</td>\n",
       "      <td>0.945848</td>\n",
       "      <td>0.063851</td>\n",
       "      <td>-0.220702</td>\n",
       "      <td>-1.054706</td>\n",
       "      <td>0.084163</td>\n",
       "      <td>xdz15thrnem51</td>\n",
       "      <td>2</td>\n",
       "      <td>1</td>\n",
       "      <td>0</td>\n",
       "    </tr>\n",
       "  </tbody>\n",
       "</table>\n",
       "<p>2110 rows × 14 columns</p>\n",
       "</div>"
      ],
      "text/plain": [
       "     analyse_harmonics get_max_intensity analyse_intensity analyse_pitch  \\\n",
       "0            -1.229415          0.816248          0.877741       1.42237   \n",
       "1            -1.369057          0.541133          1.180279      2.008275   \n",
       "2            -1.194428          1.078107          1.085473        1.8399   \n",
       "3            -0.570238         -0.770265         -0.652971      1.451482   \n",
       "4            -0.770635         -1.140454         -1.310001      1.620578   \n",
       "...                ...               ...               ...           ...   \n",
       "2105         -0.323659         -0.014225         -0.292555     -0.274583   \n",
       "2106          0.053725          0.711694          0.719834      0.365542   \n",
       "2107         -0.589685           0.09044         -0.028897     -0.329049   \n",
       "2108          0.508124          0.954183          0.938286      0.665189   \n",
       "2109         -1.027281          0.234599          0.575819     -0.424169   \n",
       "\n",
       "     analyse_pitch_range analyse_shimmer analyse_jitter spectral_slope  \\\n",
       "0               0.857657        0.898334       0.355641      -0.331514   \n",
       "1               0.626936        1.131041       1.008834      -0.322634   \n",
       "2                0.79798        1.090856       0.310873      -0.620007   \n",
       "3               0.250161        1.114803       0.136983       0.592854   \n",
       "4               0.873807        0.829075       0.810602       0.672384   \n",
       "...                  ...             ...            ...            ...   \n",
       "2105            0.202622        0.987592      -0.006539       0.479082   \n",
       "2106           -0.350018        -0.25594      -0.565074      -0.215352   \n",
       "2107            0.642715        0.087973       0.070198       0.395726   \n",
       "2108            0.878313       -0.251261      -0.670125      -0.523881   \n",
       "2109            0.580985        0.945848       0.063851      -0.220702   \n",
       "\n",
       "     mean_spectral_rolloff get_energy parent_file_train parent_label_train  \\\n",
       "0                 0.907009   0.498579     00g8dfgpqpt61                  0   \n",
       "1                 0.438397   1.124945     00g8dfgpqpt62                  0   \n",
       "2                 0.086267   0.898132     00g8dfgpqpt63                  0   \n",
       "3                 0.016588  -0.582963     01avx2fm1t961                  3   \n",
       "4                 0.279838  -0.674388     01avx2fm1t961                  3   \n",
       "...                    ...        ...               ...                ...   \n",
       "2105             -0.465383  -0.480872     xdz15thrnem51                  2   \n",
       "2106             -0.424726   0.260425     xdz15thrnem51                  2   \n",
       "2107             -0.508895   -0.37301     xdz15thrnem51                  2   \n",
       "2108             -0.187419   0.608156     xdz15thrnem51                  2   \n",
       "2109             -1.054706   0.084163     xdz15thrnem51                  2   \n",
       "\n",
       "     segment_label_train noisy_train  \n",
       "0                      0           1  \n",
       "1                      0           1  \n",
       "2                      0           1  \n",
       "3                      3           1  \n",
       "4                      2           1  \n",
       "...                  ...         ...  \n",
       "2105                   1           0  \n",
       "2106                   2           0  \n",
       "2107                   1           0  \n",
       "2108                   2           0  \n",
       "2109                   1           0  \n",
       "\n",
       "[2110 rows x 14 columns]"
      ]
     },
     "execution_count": 40,
     "metadata": {},
     "output_type": "execute_result"
    }
   ],
   "source": [
    "standardized_aggression_df"
   ]
  },
  {
   "cell_type": "code",
   "execution_count": 41,
   "metadata": {},
   "outputs": [
    {
     "name": "stdout",
     "output_type": "stream",
     "text": [
      "(2110, 14)\n"
     ]
    }
   ],
   "source": [
    "#check initial size\n",
    "print(standardized_aggression_df.shape)"
   ]
  },
  {
   "cell_type": "code",
   "execution_count": 42,
   "metadata": {},
   "outputs": [
    {
     "name": "stdout",
     "output_type": "stream",
     "text": [
      "(915, 14)\n",
      "(612, 14)\n",
      "(364, 14)\n",
      "(219, 14)\n"
     ]
    }
   ],
   "source": [
    "# Separate classes\n",
    "level0 = standardized_aggression_df.loc[standardized_aggression_df['segment_label_train'] == 0]\n",
    "level1 = standardized_aggression_df.loc[standardized_aggression_df['segment_label_train'] == 1]\n",
    "level2 = standardized_aggression_df.loc[standardized_aggression_df['segment_label_train'] == 2]\n",
    "level3 = standardized_aggression_df.loc[standardized_aggression_df['segment_label_train'] == 3]\n",
    "\n",
    "print(level0.shape)\n",
    "print(level1.shape)\n",
    "print(level2.shape)\n",
    "print(level3.shape)"
   ]
  },
  {
   "cell_type": "code",
   "execution_count": 43,
   "metadata": {},
   "outputs": [
    {
     "name": "stdout",
     "output_type": "stream",
     "text": [
      "(600, 14)\n",
      "(612, 14)\n",
      "(600, 14)\n",
      "(600, 14)\n"
     ]
    }
   ],
   "source": [
    "# Downsample 0 class\n",
    "level0 = resample(level0, replace=False,n_samples=600)\n",
    "\n",
    "#level1 is close enough\n",
    "\n",
    "#Upsample 2 class\n",
    "level2 = resample(level2, replace=True, n_samples=600)\n",
    "\n",
    "#Upsample 3 class\n",
    "level3 = resample(level3, replace=True, n_samples=600)\n",
    "\n",
    "print(level0.shape)\n",
    "print(level1.shape)\n",
    "print(level2.shape)\n",
    "print(level3.shape)\n",
    "\n",
    "# Combine\n",
    "standardized_aggression_df_balanced = pd.concat([level0, level1, level2, level3])"
   ]
  },
  {
   "cell_type": "markdown",
   "metadata": {},
   "source": [
    "check that it is now balanced"
   ]
  },
  {
   "cell_type": "code",
   "execution_count": 44,
   "metadata": {},
   "outputs": [
    {
     "name": "stdout",
     "output_type": "stream",
     "text": [
      "(2412, 14)\n"
     ]
    }
   ],
   "source": [
    "print(standardized_aggression_df_balanced.shape)"
   ]
  },
  {
   "cell_type": "code",
   "execution_count": 45,
   "metadata": {},
   "outputs": [
    {
     "name": "stdout",
     "output_type": "stream",
     "text": [
      "(600, 14)\n",
      "(612, 14)\n",
      "(600, 14)\n",
      "(600, 14)\n",
      "(355, 14)\n",
      "(432, 14)\n",
      "(516, 14)\n",
      "(1109, 14)\n"
     ]
    }
   ],
   "source": [
    "level0 = standardized_aggression_df_balanced.loc[standardized_aggression_df_balanced['segment_label_train'] == 0]\n",
    "level1 = standardized_aggression_df_balanced.loc[standardized_aggression_df_balanced['segment_label_train'] == 1]\n",
    "level2 = standardized_aggression_df_balanced.loc[standardized_aggression_df_balanced['segment_label_train'] == 2]\n",
    "level3 = standardized_aggression_df_balanced.loc[standardized_aggression_df_balanced['segment_label_train'] == 3]\n",
    "\n",
    "print(level0.shape)\n",
    "print(level1.shape)\n",
    "print(level2.shape)\n",
    "print(level3.shape)\n",
    "\n",
    "#check parent balance\n",
    "\n",
    "level0 = standardized_aggression_df_balanced.loc[standardized_aggression_df_balanced['parent_label_train'] == 0]\n",
    "level1 = standardized_aggression_df_balanced.loc[standardized_aggression_df_balanced['parent_label_train'] == 1]\n",
    "level2 = standardized_aggression_df_balanced.loc[standardized_aggression_df_balanced['parent_label_train'] == 2]\n",
    "level3 = standardized_aggression_df_balanced.loc[standardized_aggression_df_balanced['parent_label_train'] == 3]\n",
    "\n",
    "print(level0.shape)\n",
    "print(level1.shape)\n",
    "print(level2.shape)\n",
    "print(level3.shape)"
   ]
  },
  {
   "cell_type": "markdown",
   "metadata": {},
   "source": [
    "now for non noisy"
   ]
  },
  {
   "cell_type": "code",
   "execution_count": 46,
   "metadata": {},
   "outputs": [
    {
     "name": "stdout",
     "output_type": "stream",
     "text": [
      "(1848, 14)\n"
     ]
    }
   ],
   "source": [
    "print(standardized_non_noisy_df.shape)"
   ]
  },
  {
   "cell_type": "code",
   "execution_count": 47,
   "metadata": {},
   "outputs": [
    {
     "name": "stdout",
     "output_type": "stream",
     "text": [
      "(778, 14)\n",
      "(593, 14)\n",
      "(331, 14)\n",
      "(146, 14)\n"
     ]
    }
   ],
   "source": [
    "# Separate classes\n",
    "level0 = standardized_non_noisy_df.loc[standardized_non_noisy_df['segment_label_train'] == 0]\n",
    "level1 = standardized_non_noisy_df.loc[standardized_non_noisy_df['segment_label_train'] == 1]\n",
    "level2 = standardized_non_noisy_df.loc[standardized_non_noisy_df['segment_label_train'] == 2]\n",
    "level3 = standardized_non_noisy_df.loc[standardized_non_noisy_df['segment_label_train'] == 3]\n",
    "\n",
    "print(level0.shape)\n",
    "print(level1.shape)\n",
    "print(level2.shape)\n",
    "print(level3.shape)"
   ]
  },
  {
   "cell_type": "code",
   "execution_count": 48,
   "metadata": {},
   "outputs": [
    {
     "name": "stdout",
     "output_type": "stream",
     "text": [
      "(600, 14)\n",
      "(593, 14)\n",
      "(600, 14)\n",
      "(600, 14)\n"
     ]
    }
   ],
   "source": [
    "# Downsample 0 class\n",
    "level0 = resample(level0, replace=False,n_samples=600)\n",
    "\n",
    "#level1 is close enough\n",
    "\n",
    "#Upsample 2 class\n",
    "level2 = resample(level2, replace=True, n_samples=600)\n",
    "\n",
    "#Upsample 3 class\n",
    "level3 = resample(level3, replace=True, n_samples=600)\n",
    "\n",
    "print(level0.shape)\n",
    "print(level1.shape)\n",
    "print(level2.shape)\n",
    "print(level3.shape)\n",
    "\n",
    "# Combine\n",
    "standardized_non_noisy_df_balanced = pd.concat([level0, level1, level2, level3])"
   ]
  },
  {
   "cell_type": "code",
   "execution_count": 49,
   "metadata": {},
   "outputs": [
    {
     "name": "stdout",
     "output_type": "stream",
     "text": [
      "(2393, 14)\n"
     ]
    }
   ],
   "source": [
    "print(standardized_non_noisy_df_balanced.shape)"
   ]
  },
  {
   "cell_type": "code",
   "execution_count": 50,
   "metadata": {},
   "outputs": [
    {
     "name": "stdout",
     "output_type": "stream",
     "text": [
      "(600, 14)\n",
      "(593, 14)\n",
      "(600, 14)\n",
      "(600, 14)\n",
      "(325, 14)\n",
      "(432, 14)\n",
      "(583, 14)\n",
      "(1053, 14)\n"
     ]
    }
   ],
   "source": [
    "level0 = standardized_non_noisy_df_balanced.loc[standardized_non_noisy_df_balanced['segment_label_train'] == 0]\n",
    "level1 = standardized_non_noisy_df_balanced.loc[standardized_non_noisy_df_balanced['segment_label_train'] == 1]\n",
    "level2 = standardized_non_noisy_df_balanced.loc[standardized_non_noisy_df_balanced['segment_label_train'] == 2]\n",
    "level3 = standardized_non_noisy_df_balanced.loc[standardized_non_noisy_df_balanced['segment_label_train'] == 3]\n",
    "\n",
    "print(level0.shape)\n",
    "print(level1.shape)\n",
    "print(level2.shape)\n",
    "print(level3.shape)\n",
    "\n",
    "#check parent label balance\n",
    "\n",
    "level0 = standardized_non_noisy_df_balanced.loc[standardized_non_noisy_df_balanced['parent_label_train'] == 0]\n",
    "level1 = standardized_non_noisy_df_balanced.loc[standardized_non_noisy_df_balanced['parent_label_train'] == 1]\n",
    "level2 = standardized_non_noisy_df_balanced.loc[standardized_non_noisy_df_balanced['parent_label_train'] == 2]\n",
    "level3 = standardized_non_noisy_df_balanced.loc[standardized_non_noisy_df_balanced['parent_label_train'] == 3]\n",
    "\n",
    "print(level0.shape)\n",
    "print(level1.shape)\n",
    "print(level2.shape)\n",
    "print(level3.shape)"
   ]
  },
  {
   "cell_type": "markdown",
   "metadata": {},
   "source": [
    "now for noisy"
   ]
  },
  {
   "cell_type": "code",
   "execution_count": 51,
   "metadata": {},
   "outputs": [
    {
     "name": "stdout",
     "output_type": "stream",
     "text": [
      "(262, 14)\n"
     ]
    }
   ],
   "source": [
    "print(standardized_noisy_df.shape)"
   ]
  },
  {
   "cell_type": "code",
   "execution_count": 52,
   "metadata": {},
   "outputs": [
    {
     "name": "stdout",
     "output_type": "stream",
     "text": [
      "(137, 14)\n",
      "(19, 14)\n",
      "(33, 14)\n",
      "(73, 14)\n"
     ]
    }
   ],
   "source": [
    "# Separate classes\n",
    "level0 = standardized_noisy_df.loc[standardized_noisy_df['segment_label_train'] == 0]\n",
    "level1 = standardized_noisy_df.loc[standardized_noisy_df['segment_label_train'] == 1]\n",
    "level2 = standardized_noisy_df.loc[standardized_noisy_df['segment_label_train'] == 2]\n",
    "level3 = standardized_noisy_df.loc[standardized_noisy_df['segment_label_train'] == 3]\n",
    "\n",
    "print(level0.shape)\n",
    "print(level1.shape)\n",
    "print(level2.shape)\n",
    "print(level3.shape)"
   ]
  },
  {
   "cell_type": "code",
   "execution_count": 53,
   "metadata": {},
   "outputs": [
    {
     "name": "stdout",
     "output_type": "stream",
     "text": [
      "(75, 14)\n",
      "(75, 14)\n",
      "(75, 14)\n",
      "(73, 14)\n"
     ]
    }
   ],
   "source": [
    "# Downsample 0 class\n",
    "level0 = resample(level0, replace=False,n_samples=75)\n",
    "\n",
    "#Upsample 2 class\n",
    "level1 = resample(level1, replace=True, n_samples=75)\n",
    "\n",
    "#Upsample 2 class\n",
    "level2 = resample(level2, replace=True, n_samples=75)\n",
    "\n",
    "#level3 close enough\n",
    "\n",
    "print(level0.shape)\n",
    "print(level1.shape)\n",
    "print(level2.shape)\n",
    "print(level3.shape)\n",
    "\n",
    "# Combine\n",
    "standardized_noisy_df_balanced = pd.concat([level0, level1, level2, level3])"
   ]
  },
  {
   "cell_type": "markdown",
   "metadata": {},
   "source": [
    "check"
   ]
  },
  {
   "cell_type": "code",
   "execution_count": 54,
   "metadata": {},
   "outputs": [
    {
     "name": "stdout",
     "output_type": "stream",
     "text": [
      "(298, 14)\n"
     ]
    }
   ],
   "source": [
    "print(standardized_noisy_df_balanced.shape)"
   ]
  },
  {
   "cell_type": "code",
   "execution_count": 55,
   "metadata": {},
   "outputs": [
    {
     "name": "stdout",
     "output_type": "stream",
     "text": [
      "(75, 14)\n",
      "(75, 14)\n",
      "(75, 14)\n",
      "(73, 14)\n",
      "(63, 14)\n",
      "(59, 14)\n",
      "(31, 14)\n",
      "(145, 14)\n"
     ]
    }
   ],
   "source": [
    "level0 = standardized_noisy_df_balanced.loc[standardized_noisy_df_balanced['segment_label_train'] == 0]\n",
    "level1 = standardized_noisy_df_balanced.loc[standardized_noisy_df_balanced['segment_label_train'] == 1]\n",
    "level2 = standardized_noisy_df_balanced.loc[standardized_noisy_df_balanced['segment_label_train'] == 2]\n",
    "level3 = standardized_noisy_df_balanced.loc[standardized_noisy_df_balanced['segment_label_train'] == 3]\n",
    "\n",
    "print(level0.shape)\n",
    "print(level1.shape)\n",
    "print(level2.shape)\n",
    "print(level3.shape)\n",
    "\n",
    "#check parent balance \n",
    "\n",
    "level0 = standardized_noisy_df_balanced.loc[standardized_noisy_df_balanced['parent_label_train'] == 0]\n",
    "level1 = standardized_noisy_df_balanced.loc[standardized_noisy_df_balanced['parent_label_train'] == 1]\n",
    "level2 = standardized_noisy_df_balanced.loc[standardized_noisy_df_balanced['parent_label_train'] == 2]\n",
    "level3 = standardized_noisy_df_balanced.loc[standardized_noisy_df_balanced['parent_label_train'] == 3]\n",
    "\n",
    "print(level0.shape)\n",
    "print(level1.shape)\n",
    "print(level2.shape)\n",
    "print(level3.shape)"
   ]
  },
  {
   "cell_type": "markdown",
   "metadata": {},
   "source": [
    "all parents are now more unbalanced, but this should be OK because we are not training on them"
   ]
  },
  {
   "cell_type": "markdown",
   "metadata": {},
   "source": [
    "rebuild the svm"
   ]
  },
  {
   "cell_type": "code",
   "execution_count": 56,
   "metadata": {},
   "outputs": [
    {
     "name": "stderr",
     "output_type": "stream",
     "text": [
      "/var/folders/7b/v9yf5j856tggrfg1tm641t9c0000gn/T/ipykernel_23664/917994061.py:1: FutureWarning: In a future version of pandas all arguments of DataFrame.drop except for the argument 'labels' will be keyword-only\n",
      "  data_balanced_np = standardized_aggression_df_balanced.drop([\"parent_file_train\", \"parent_label_train\", \"segment_label_train\", \"noisy_train\"], 1).to_numpy()\n",
      "/var/folders/7b/v9yf5j856tggrfg1tm641t9c0000gn/T/ipykernel_23664/917994061.py:5: FutureWarning: In a future version of pandas all arguments of DataFrame.drop except for the argument 'labels' will be keyword-only\n",
      "  data_balanced_non_noisy_np = standardized_non_noisy_df_balanced.drop([\"parent_file_train\", \"parent_label_train\", \"segment_label_train\", \"noisy_train\"], 1).to_numpy()\n",
      "/var/folders/7b/v9yf5j856tggrfg1tm641t9c0000gn/T/ipykernel_23664/917994061.py:9: FutureWarning: In a future version of pandas all arguments of DataFrame.drop except for the argument 'labels' will be keyword-only\n",
      "  data_balanced_noisy_np = standardized_noisy_df_balanced.drop([\"parent_file_train\", \"parent_label_train\", \"segment_label_train\", \"noisy_train\"], 1).to_numpy()\n"
     ]
    }
   ],
   "source": [
    "data_balanced_np = standardized_aggression_df_balanced.drop([\"parent_file_train\", \"parent_label_train\", \"segment_label_train\", \"noisy_train\"], 1).to_numpy()\n",
    "label_balanced_np = standardized_aggression_df_balanced['segment_label_train'].to_numpy()\n",
    "label_balanced_np=label_balanced_np.astype('int')\n",
    "\n",
    "data_balanced_non_noisy_np = standardized_non_noisy_df_balanced.drop([\"parent_file_train\", \"parent_label_train\", \"segment_label_train\", \"noisy_train\"], 1).to_numpy()\n",
    "label_balanced_non_noisy_np = standardized_non_noisy_df_balanced['segment_label_train'].to_numpy()\n",
    "label_balanced_non_noisy_np=label_balanced_non_noisy_np.astype('int')\n",
    "\n",
    "data_balanced_noisy_np = standardized_noisy_df_balanced.drop([\"parent_file_train\", \"parent_label_train\", \"segment_label_train\", \"noisy_train\"], 1).to_numpy()\n",
    "label_balanced_noisy_np = standardized_noisy_df_balanced['segment_label_train'].to_numpy()\n",
    "label_balanced_noisy_np=label_balanced_noisy_np.astype('int')"
   ]
  },
  {
   "cell_type": "markdown",
   "metadata": {},
   "source": [
    "#### SVC"
   ]
  },
  {
   "cell_type": "code",
   "execution_count": 313,
   "metadata": {},
   "outputs": [
    {
     "name": "stdout",
     "output_type": "stream",
     "text": [
      "{'C': 100000, 'gamma': 'auto', 'kernel': 'rbf'}\n"
     ]
    }
   ],
   "source": [
    "# original_parameters = {'C': [0.01, 0.1, 1, 10, 100, 1000, 10000], 'gamma': ['scale', 'auto'],\n",
    "#                    'kernel': ['rbf', 'linear', 'poly', 'sigmoid'], 'degree': [1,2,3,4,5,6]}\n",
    "\n",
    "quick_parameters = {'C': [1000, 10000,100000], 'gamma': ['scale','auto'],\n",
    "                 'kernel': ['rbf', 'linear', 'poly', 'sigmoid']}\n",
    "\n",
    "svc = svm.SVC()\n",
    "hyperparameter_tuning(svc, data_balanced_np, label_balanced_np, quick_parameters)"
   ]
  },
  {
   "cell_type": "code",
   "execution_count": 305,
   "metadata": {},
   "outputs": [
    {
     "name": "stdout",
     "output_type": "stream",
     "text": [
      "{'C': 1000, 'gamma': 'scale', 'kernel': 'rbf'}\n"
     ]
    }
   ],
   "source": [
    "quick_parameters = {'C': [100, 1000, 10000], 'gamma': ['scale','auto'],\n",
    "                 'kernel': ['rbf', 'linear', 'poly', 'sigmoid']}\n",
    "hyperparameter_tuning(svc, data_balanced_non_noisy_np, label_balanced_non_noisy_np, quick_parameters)"
   ]
  },
  {
   "cell_type": "markdown",
   "metadata": {},
   "source": [
    "{'C': 1000, 'gamma': 'scale', 'kernel': 'rbf'}"
   ]
  },
  {
   "cell_type": "code",
   "execution_count": 311,
   "metadata": {},
   "outputs": [
    {
     "name": "stdout",
     "output_type": "stream",
     "text": [
      "{'C': 1000, 'degree': 3, 'gamma': 'auto', 'kernel': 'poly'}\n"
     ]
    }
   ],
   "source": [
    "#up to 10,000 was tested, but it takes a very long time to run, so we dropped it to test the degrees\n",
    "quick_parameters = {'C': [ 100, 1000], 'gamma': ['scale','auto'],\n",
    "                 'kernel': ['rbf', 'linear', 'poly', 'sigmoid'], 'degree': [2,3,4]}\n",
    "hyperparameter_tuning(svc, data_balanced_noisy_np, label_balanced_noisy_np, quick_parameters)"
   ]
  },
  {
   "cell_type": "markdown",
   "metadata": {},
   "source": [
    "{'C': 1000, 'degree': 3, 'gamma': 'auto', 'kernel': 'poly'}"
   ]
  },
  {
   "cell_type": "code",
   "execution_count": 62,
   "metadata": {},
   "outputs": [
    {
     "name": "stdout",
     "output_type": "stream",
     "text": [
      "Feature set: Index(['analyse_harmonics', 'get_max_intensity', 'analyse_intensity',\n",
      "       'analyse_pitch', 'analyse_pitch_range', 'analyse_shimmer',\n",
      "       'analyse_jitter', 'spectral_slope', 'mean_spectral_rolloff',\n",
      "       'get_energy'],\n",
      "      dtype='object')\n",
      "F1 score = 0.6882589739474669; Accuracy score = 0.6965174129353234 ; Precisison Score = 0.6851773719176306; Recall score = 0.6965174129353234\n",
      "\n",
      "\n",
      " Aggregate report \n",
      "               precision    recall  f1-score   support\n",
      "\n",
      "           0       0.61      0.60      0.60       145\n",
      "           1       0.57      0.47      0.51       159\n",
      "           2       0.73      0.80      0.76       153\n",
      "           3       0.84      0.94      0.88       146\n",
      "\n",
      "    accuracy                           0.70       603\n",
      "   macro avg       0.69      0.70      0.69       603\n",
      "weighted avg       0.69      0.70      0.69       603\n",
      "\n"
     ]
    },
    {
     "data": {
      "image/png": "[encoded data removed]",
      "text/plain": [
       "<Figure size 1008x576 with 2 Axes>"
      ]
     },
     "metadata": {
      "needs_background": "light"
     },
     "output_type": "display_data"
    },
    {
     "name": "stdout",
     "output_type": "stream",
     "text": [
      "Feature set: Index(['analyse_harmonics', 'get_max_intensity', 'analyse_intensity',\n",
      "       'analyse_pitch', 'analyse_pitch_range', 'analyse_shimmer',\n",
      "       'analyse_jitter', 'spectral_slope', 'mean_spectral_rolloff',\n",
      "       'get_energy'],\n",
      "      dtype='object')\n",
      "F1 score = 0.7095721163455012; Accuracy score = 0.7180762852404643 ; Precisison Score = 0.7092971290732485; Recall score = 0.7180762852404643\n",
      "\n",
      "\n",
      " Aggregate report \n",
      "               precision    recall  f1-score   support\n",
      "\n",
      "           0       0.64      0.71      0.67       147\n",
      "           1       0.60      0.45      0.51       150\n",
      "           2       0.77      0.77      0.77       151\n",
      "           3       0.83      0.94      0.88       155\n",
      "\n",
      "    accuracy                           0.72       603\n",
      "   macro avg       0.71      0.72      0.71       603\n",
      "weighted avg       0.71      0.72      0.71       603\n",
      "\n"
     ]
    },
    {
     "data": {
      "image/png": "[encoded data removed]",
      "text/plain": [
       "<Figure size 1008x576 with 2 Axes>"
      ]
     },
     "metadata": {
      "needs_background": "light"
     },
     "output_type": "display_data"
    },
    {
     "name": "stdout",
     "output_type": "stream",
     "text": [
      "Feature set: Index(['analyse_harmonics', 'get_max_intensity', 'analyse_intensity',\n",
      "       'analyse_pitch', 'analyse_pitch_range', 'analyse_shimmer',\n",
      "       'analyse_jitter', 'spectral_slope', 'mean_spectral_rolloff',\n",
      "       'get_energy'],\n",
      "      dtype='object')\n",
      "F1 score = 0.7446261631089217; Accuracy score = 0.76 ; Precisison Score = 0.7696636363636364; Recall score = 0.76\n",
      "\n",
      "\n",
      " Aggregate report \n",
      "               precision    recall  f1-score   support\n",
      "\n",
      "           0       0.75      0.53      0.62        17\n",
      "           1       0.82      1.00      0.90        18\n",
      "           2       0.68      1.00      0.81        17\n",
      "           3       0.81      0.57      0.67        23\n",
      "\n",
      "    accuracy                           0.76        75\n",
      "   macro avg       0.77      0.77      0.75        75\n",
      "weighted avg       0.77      0.76      0.74        75\n",
      "\n"
     ]
    },
    {
     "data": {
      "image/png": "[encoded data removed]",
      "text/plain": [
       "<Figure size 1008x576 with 2 Axes>"
      ]
     },
     "metadata": {
      "needs_background": "light"
     },
     "output_type": "display_data"
    }
   ],
   "source": [
    "#lst_data_np = [data_np, data_non_noisy_np, data_noisy_np]\n",
    "lst_label_np = [label_balanced_np, label_balanced_non_noisy_np, label_balanced_noisy_np]\n",
    "label = 'segment_label_train'\n",
    "lst_df = [standardized_aggression_df_balanced, standardized_non_noisy_df_balanced, standardized_noisy_df_balanced]\n",
    "X_test_list = [None,None,None]\n",
    "kernel = ['rbf','rbf','poly']\n",
    "gamma = ['auto', 'scale', 'auto']\n",
    "c = [100000, 1000, 1000]\n",
    "\n",
    "for i in range(3):\n",
    "    svm_model = svm.SVC(kernel='rbf', gamma=gamma[i], C=c[i])\n",
    "    actual, predicted, X_test_list[i] = run_model(svm_model, lst_df[i], lst_label_np[i],label_name=label)\n",
    "\n",
    "    confusion_matrix_graph(f\"SVM - Group {i+1}\", actual, predicted, ['0', '1', '2', '3'])"
   ]
  },
  {
   "cell_type": "code",
   "execution_count": 63,
   "metadata": {},
   "outputs": [
    {
     "name": "stdout",
     "output_type": "stream",
     "text": [
      "\n",
      "\n",
      " Aggregate report \n",
      "               precision    recall  f1-score   support\n",
      "\n",
      "           0       0.65      0.50      0.57        64\n",
      "           1       0.43      0.38      0.40        52\n",
      "           2       0.59      0.78      0.67        50\n",
      "           3       0.75      0.81      0.78        47\n",
      "\n",
      "    accuracy                           0.61       213\n",
      "   macro avg       0.60      0.62      0.60       213\n",
      "weighted avg       0.60      0.61      0.60       213\n",
      "\n"
     ]
    },
    {
     "data": {
      "image/png": "[encoded data removed]",
      "text/plain": [
       "<Figure size 1008x576 with 2 Axes>"
      ]
     },
     "metadata": {
      "needs_background": "light"
     },
     "output_type": "display_data"
    },
    {
     "name": "stdout",
     "output_type": "stream",
     "text": [
      "\n",
      "\n",
      " Aggregate report \n",
      "               precision    recall  f1-score   support\n",
      "\n",
      "           0       0.73      0.72      0.72        60\n",
      "           1       0.50      0.40      0.44        48\n",
      "           2       0.60      0.74      0.66        46\n",
      "           3       0.76      0.76      0.76        50\n",
      "\n",
      "    accuracy                           0.66       204\n",
      "   macro avg       0.65      0.65      0.65       204\n",
      "weighted avg       0.65      0.66      0.65       204\n",
      "\n"
     ]
    },
    {
     "data": {
      "image/png": "[encoded data removed]",
      "text/plain": [
       "<Figure size 1008x576 with 2 Axes>"
      ]
     },
     "metadata": {
      "needs_background": "light"
     },
     "output_type": "display_data"
    },
    {
     "name": "stdout",
     "output_type": "stream",
     "text": [
      "\n",
      "\n",
      " Aggregate report \n",
      "               precision    recall  f1-score   support\n",
      "\n",
      "           0       1.00      0.50      0.67        12\n",
      "           1       0.50      1.00      0.67         4\n",
      "           2       0.27      0.60      0.37         5\n",
      "           3       0.73      0.53      0.62        15\n",
      "\n",
      "    accuracy                           0.58        36\n",
      "   macro avg       0.62      0.66      0.58        36\n",
      "weighted avg       0.73      0.58      0.60        36\n",
      "\n"
     ]
    },
    {
     "data": {
      "image/png": "[encoded data removed]",
      "text/plain": [
       "<Figure size 1008x576 with 2 Axes>"
      ]
     },
     "metadata": {
      "needs_background": "light"
     },
     "output_type": "display_data"
    },
    {
     "data": {
      "text/html": [
       "<div>\n",
       "<style scoped>\n",
       "    .dataframe tbody tr th:only-of-type {\n",
       "        vertical-align: middle;\n",
       "    }\n",
       "\n",
       "    .dataframe tbody tr th {\n",
       "        vertical-align: top;\n",
       "    }\n",
       "\n",
       "    .dataframe thead th {\n",
       "        text-align: right;\n",
       "    }\n",
       "</style>\n",
       "<table border=\"1\" class=\"dataframe\">\n",
       "  <thead>\n",
       "    <tr style=\"text-align: right;\">\n",
       "      <th></th>\n",
       "      <th>parent_file_train</th>\n",
       "      <th>parent_label_train</th>\n",
       "      <th>segment_predictions</th>\n",
       "    </tr>\n",
       "  </thead>\n",
       "  <tbody>\n",
       "    <tr>\n",
       "      <th>0</th>\n",
       "      <td>00g8dfgpqpt62</td>\n",
       "      <td>0</td>\n",
       "      <td>3</td>\n",
       "    </tr>\n",
       "    <tr>\n",
       "      <th>1</th>\n",
       "      <td>01avx2fm1t961</td>\n",
       "      <td>3</td>\n",
       "      <td>3</td>\n",
       "    </tr>\n",
       "    <tr>\n",
       "      <th>2</th>\n",
       "      <td>0202on89vhz61</td>\n",
       "      <td>0</td>\n",
       "      <td>3</td>\n",
       "    </tr>\n",
       "    <tr>\n",
       "      <th>3</th>\n",
       "      <td>03mglec8fez51</td>\n",
       "      <td>1</td>\n",
       "      <td>1</td>\n",
       "    </tr>\n",
       "    <tr>\n",
       "      <th>4</th>\n",
       "      <td>0653ipqy7vd71</td>\n",
       "      <td>2</td>\n",
       "      <td>2</td>\n",
       "    </tr>\n",
       "    <tr>\n",
       "      <th>...</th>\n",
       "      <td>...</td>\n",
       "      <td>...</td>\n",
       "      <td>...</td>\n",
       "    </tr>\n",
       "    <tr>\n",
       "      <th>208</th>\n",
       "      <td>xan1gwbxrwc61</td>\n",
       "      <td>0</td>\n",
       "      <td>2</td>\n",
       "    </tr>\n",
       "    <tr>\n",
       "      <th>209</th>\n",
       "      <td>xc76oggvh2471</td>\n",
       "      <td>1</td>\n",
       "      <td>2</td>\n",
       "    </tr>\n",
       "    <tr>\n",
       "      <th>210</th>\n",
       "      <td>xda96lajcd871</td>\n",
       "      <td>0</td>\n",
       "      <td>0</td>\n",
       "    </tr>\n",
       "    <tr>\n",
       "      <th>211</th>\n",
       "      <td>xdz15thrnem51</td>\n",
       "      <td>2</td>\n",
       "      <td>2</td>\n",
       "    </tr>\n",
       "    <tr>\n",
       "      <th>212</th>\n",
       "      <td>zvkhxd3vp3o51</td>\n",
       "      <td>2</td>\n",
       "      <td>2</td>\n",
       "    </tr>\n",
       "  </tbody>\n",
       "</table>\n",
       "<p>213 rows × 3 columns</p>\n",
       "</div>"
      ],
      "text/plain": [
       "    parent_file_train  parent_label_train  segment_predictions\n",
       "0       00g8dfgpqpt62                   0                    3\n",
       "1       01avx2fm1t961                   3                    3\n",
       "2       0202on89vhz61                   0                    3\n",
       "3       03mglec8fez51                   1                    1\n",
       "4       0653ipqy7vd71                   2                    2\n",
       "..                ...                 ...                  ...\n",
       "208     xan1gwbxrwc61                   0                    2\n",
       "209     xc76oggvh2471                   1                    2\n",
       "210     xda96lajcd871                   0                    0\n",
       "211     xdz15thrnem51                   2                    2\n",
       "212     zvkhxd3vp3o51                   2                    2\n",
       "\n",
       "[213 rows x 3 columns]"
      ]
     },
     "execution_count": 63,
     "metadata": {},
     "output_type": "execute_result"
    }
   ],
   "source": [
    "max_parent_df_list = []\n",
    "\n",
    "for i in range(0,len(X_test_list)):\n",
    "    # Each dataset: agg, non oisy and noisy, find max segment predictions for each parent_file_train\n",
    "    df_i = X_test_list[i]\n",
    "    #display(df_i)\n",
    "    df_i_merged = df_i.groupby('parent_file_train')['segment_predictions'].max().reset_index()\n",
    "    \n",
    "    # Get parent label for each parent_file\n",
    "    #df_i = lst_df[i] \n",
    "    df_i_2 = df_i.groupby('parent_file_train')['parent_label_train'].max().reset_index()\n",
    "    df_i_merged = df_i_2.merge(df_i_merged, on='parent_file_train')\n",
    "    max_parent_df_list.append(df_i_merged)\n",
    "    \n",
    "    confusion_matrix_graph(f\"SVM - Group {i+1}\", df_i_merged['parent_label_train'], df_i_merged['segment_predictions'], ['0', '1', '2', '3'])\n",
    "\n",
    "max_parent_df_list[0]    "
   ]
  },
  {
   "cell_type": "markdown",
   "metadata": {},
   "source": [
    "#### KNN"
   ]
  },
  {
   "cell_type": "code",
   "execution_count": 59,
   "metadata": {},
   "outputs": [],
   "source": [
    "from sklearn.neighbors import KNeighborsClassifier \n",
    "knn = KNeighborsClassifier()\n",
    "# knn.fit(X, y)\n",
    "# KNeighborsClassifier()\n",
    "k_range = list(range(1, 31))"
   ]
  },
  {
   "cell_type": "code",
   "execution_count": 63,
   "metadata": {},
   "outputs": [
    {
     "name": "stdout",
     "output_type": "stream",
     "text": [
      "{'algorithm': 'auto', 'leaf_size': 1, 'metric': 'manhattan', 'n_neighbors': 1, 'weights': 'uniform'}\n"
     ]
    }
   ],
   "source": [
    "# original_parameters = {'C': [0.01, 0.1, 1, 10, 100, 1000, 10000], 'gamma': ['scale', 'auto'],\n",
    "#                    'kernel': ['rbf', 'linear', 'poly', 'sigmoid'], 'degree': [1,2,3,4,5,6]}\n",
    "\n",
    "quick_parameters = {'n_neighbors':k_range, 'weights': ['uniform','distance'],\n",
    "                    'metric': ['euclidean', 'manhattan'],'algorithm':['auto', 'ball_tree', 'kd_tree', 'brute'],\n",
    "                    'leaf_size':k_range}\n",
    "hyperparameter_tuning(knn, data_balanced_np, label_balanced_np, quick_parameters)"
   ]
  },
  {
   "cell_type": "code",
   "execution_count": 64,
   "metadata": {},
   "outputs": [
    {
     "name": "stdout",
     "output_type": "stream",
     "text": [
      "{'algorithm': 'auto', 'leaf_size': 1, 'metric': 'manhattan', 'n_neighbors': 1, 'weights': 'uniform'}\n"
     ]
    }
   ],
   "source": [
    "quick_parameters = {'n_neighbors':k_range, 'weights': ['uniform','distance'],\n",
    "                    'metric': ['euclidean', 'manhattan'],'algorithm':['auto', 'ball_tree', 'kd_tree', 'brute'],\n",
    "                    'leaf_size':k_range}\n",
    "hyperparameter_tuning(knn, data_balanced_non_noisy_np, label_balanced_non_noisy_np, quick_parameters)"
   ]
  },
  {
   "cell_type": "code",
   "execution_count": 65,
   "metadata": {},
   "outputs": [
    {
     "name": "stdout",
     "output_type": "stream",
     "text": [
      "{'algorithm': 'auto', 'leaf_size': 1, 'metric': 'euclidean', 'n_neighbors': 1, 'weights': 'uniform'}\n"
     ]
    }
   ],
   "source": [
    "#up to 10,000 was tested, but it takes a very long time to run, so we dropped it to test the degrees\n",
    "quick_parameters = {'n_neighbors':k_range, 'weights': ['uniform','distance'],\n",
    "                    'metric': ['euclidean', 'manhattan'],'algorithm':['auto', 'ball_tree', 'kd_tree', 'brute'],\n",
    "                    'leaf_size':k_range}\n",
    "hyperparameter_tuning(knn, data_balanced_noisy_np, label_balanced_noisy_np, quick_parameters)"
   ]
  },
  {
   "cell_type": "code",
   "execution_count": 69,
   "metadata": {},
   "outputs": [
    {
     "name": "stdout",
     "output_type": "stream",
     "text": [
      "Feature set: Index(['analyse_harmonics', 'get_max_intensity', 'analyse_intensity',\n",
      "       'analyse_pitch', 'analyse_pitch_range', 'analyse_shimmer',\n",
      "       'analyse_jitter', 'spectral_slope', 'mean_spectral_rolloff',\n",
      "       'get_energy'],\n",
      "      dtype='object')\n",
      "F1 score = 0.6858457882104708; Accuracy score = 0.6981757877280266 ; Precisison Score = 0.6909190324180591; Recall score = 0.6981757877280266\n",
      "\n",
      "\n",
      " Aggregate report \n",
      "               precision    recall  f1-score   support\n",
      "\n",
      "           0       0.62      0.57      0.59       148\n",
      "           1       0.65      0.45      0.54       165\n",
      "           2       0.67      0.87      0.75       134\n",
      "           3       0.82      0.93      0.87       156\n",
      "\n",
      "    accuracy                           0.70       603\n",
      "   macro avg       0.69      0.71      0.69       603\n",
      "weighted avg       0.69      0.70      0.69       603\n",
      "\n"
     ]
    },
    {
     "data": {
      "image/png": "[encoded data removed]",
      "text/plain": [
       "<Figure size 1008x576 with 2 Axes>"
      ]
     },
     "metadata": {
      "needs_background": "light"
     },
     "output_type": "display_data"
    },
    {
     "name": "stdout",
     "output_type": "stream",
     "text": [
      "Feature set: Index(['analyse_harmonics', 'get_max_intensity', 'analyse_intensity',\n",
      "       'analyse_pitch', 'analyse_pitch_range', 'analyse_shimmer',\n",
      "       'analyse_jitter', 'spectral_slope', 'mean_spectral_rolloff',\n",
      "       'get_energy'],\n",
      "      dtype='object')\n",
      "F1 score = 0.6960959253488115; Accuracy score = 0.7078464106844741 ; Precisison Score = 0.6985315023744456; Recall score = 0.7078464106844741\n",
      "\n",
      "\n",
      " Aggregate report \n",
      "               precision    recall  f1-score   support\n",
      "\n",
      "           0       0.64      0.56      0.60       165\n",
      "           1       0.64      0.50      0.56       166\n",
      "           2       0.67      0.86      0.75       132\n",
      "           3       0.86      0.99      0.92       136\n",
      "\n",
      "    accuracy                           0.71       599\n",
      "   macro avg       0.70      0.73      0.71       599\n",
      "weighted avg       0.70      0.71      0.70       599\n",
      "\n"
     ]
    },
    {
     "data": {
      "image/png": "[encoded data removed]",
      "text/plain": [
       "<Figure size 1008x576 with 2 Axes>"
      ]
     },
     "metadata": {
      "needs_background": "light"
     },
     "output_type": "display_data"
    },
    {
     "name": "stdout",
     "output_type": "stream",
     "text": [
      "Feature set: Index(['analyse_harmonics', 'get_max_intensity', 'analyse_intensity',\n",
      "       'analyse_pitch', 'analyse_pitch_range', 'analyse_shimmer',\n",
      "       'analyse_jitter', 'spectral_slope', 'mean_spectral_rolloff',\n",
      "       'get_energy'],\n",
      "      dtype='object')\n",
      "F1 score = 0.869572217378669; Accuracy score = 0.8666666666666667 ; Precisison Score = 0.876495814700149; Recall score = 0.8666666666666667\n",
      "\n",
      "\n",
      " Aggregate report \n",
      "               precision    recall  f1-score   support\n",
      "\n",
      "           0       0.89      0.84      0.86        19\n",
      "           1       1.00      1.00      1.00        21\n",
      "           2       0.89      0.81      0.85        21\n",
      "           3       0.65      0.79      0.71        14\n",
      "\n",
      "    accuracy                           0.87        75\n",
      "   macro avg       0.86      0.86      0.86        75\n",
      "weighted avg       0.88      0.87      0.87        75\n",
      "\n"
     ]
    },
    {
     "data": {
      "image/png": "[encoded data removed]",
      "text/plain": [
       "<Figure size 1008x576 with 2 Axes>"
      ]
     },
     "metadata": {
      "needs_background": "light"
     },
     "output_type": "display_data"
    }
   ],
   "source": [
    "#lst_data_np = [data_np, data_non_noisy_np, data_noisy_np]\n",
    "lst_label_np = [label_balanced_np, label_balanced_non_noisy_np, label_balanced_noisy_np]\n",
    "label = 'segment_label_train'\n",
    "lst_df = [standardized_aggression_df_balanced, standardized_non_noisy_df_balanced, standardized_noisy_df_balanced]\n",
    "X_test_list = [None,None,None]\n",
    "metric = ['manhattan','manhattan','euclidean']\n",
    "\n",
    "for i in range(3):\n",
    "    knn = KNeighborsClassifier(n_neighbors= 1,algorithm='auto',leaf_size= 1, metric= metric[i],weights='uniform')\n",
    "    actual, predicted, X_test_list[i] = run_model(knn, lst_df[i], lst_label_np[i],label_name=label)\n",
    "\n",
    "    confusion_matrix_graph(f\"kNN - Group {i+1}\", actual, predicted, ['0', '1', '2', '3'])"
   ]
  },
  {
   "cell_type": "code",
   "execution_count": 70,
   "metadata": {},
   "outputs": [
    {
     "name": "stdout",
     "output_type": "stream",
     "text": [
      "\n",
      "\n",
      " Aggregate report \n",
      "               precision    recall  f1-score   support\n",
      "\n",
      "           0       0.68      0.52      0.59        52\n",
      "           1       0.63      0.46      0.53        52\n",
      "           2       0.52      0.73      0.61        45\n",
      "           3       0.65      0.76      0.70        49\n",
      "\n",
      "    accuracy                           0.61       198\n",
      "   macro avg       0.62      0.62      0.61       198\n",
      "weighted avg       0.62      0.61      0.61       198\n",
      "\n"
     ]
    },
    {
     "data": {
      "image/png": "[encoded data removed]",
      "text/plain": [
       "<Figure size 1008x576 with 2 Axes>"
      ]
     },
     "metadata": {
      "needs_background": "light"
     },
     "output_type": "display_data"
    },
    {
     "name": "stdout",
     "output_type": "stream",
     "text": [
      "\n",
      "\n",
      " Aggregate report \n",
      "               precision    recall  f1-score   support\n",
      "\n",
      "           0       0.55      0.52      0.53        46\n",
      "           1       0.58      0.38      0.46        50\n",
      "           2       0.50      0.70      0.58        44\n",
      "           3       0.68      0.69      0.68        39\n",
      "\n",
      "    accuracy                           0.56       179\n",
      "   macro avg       0.57      0.57      0.56       179\n",
      "weighted avg       0.57      0.56      0.56       179\n",
      "\n"
     ]
    },
    {
     "data": {
      "image/png": "[encoded data removed]",
      "text/plain": [
       "<Figure size 1008x576 with 2 Axes>"
      ]
     },
     "metadata": {
      "needs_background": "light"
     },
     "output_type": "display_data"
    },
    {
     "name": "stdout",
     "output_type": "stream",
     "text": [
      "\n",
      "\n",
      " Aggregate report \n",
      "               precision    recall  f1-score   support\n",
      "\n",
      "           0       1.00      0.92      0.96        13\n",
      "           1       0.75      0.60      0.67         5\n",
      "           2       0.33      0.67      0.44         3\n",
      "           3       0.71      0.67      0.69        15\n",
      "\n",
      "    accuracy                           0.75        36\n",
      "   macro avg       0.70      0.71      0.69        36\n",
      "weighted avg       0.79      0.75      0.76        36\n",
      "\n"
     ]
    },
    {
     "data": {
      "image/png": "[encoded data removed]",
      "text/plain": [
       "<Figure size 1008x576 with 2 Axes>"
      ]
     },
     "metadata": {
      "needs_background": "light"
     },
     "output_type": "display_data"
    },
    {
     "data": {
      "text/html": [
       "<div>\n",
       "<style scoped>\n",
       "    .dataframe tbody tr th:only-of-type {\n",
       "        vertical-align: middle;\n",
       "    }\n",
       "\n",
       "    .dataframe tbody tr th {\n",
       "        vertical-align: top;\n",
       "    }\n",
       "\n",
       "    .dataframe thead th {\n",
       "        text-align: right;\n",
       "    }\n",
       "</style>\n",
       "<table border=\"1\" class=\"dataframe\">\n",
       "  <thead>\n",
       "    <tr style=\"text-align: right;\">\n",
       "      <th></th>\n",
       "      <th>parent_file_train</th>\n",
       "      <th>parent_label_train</th>\n",
       "      <th>segment_predictions</th>\n",
       "    </tr>\n",
       "  </thead>\n",
       "  <tbody>\n",
       "    <tr>\n",
       "      <th>0</th>\n",
       "      <td>01avx2fm1t961</td>\n",
       "      <td>3</td>\n",
       "      <td>3</td>\n",
       "    </tr>\n",
       "    <tr>\n",
       "      <th>1</th>\n",
       "      <td>03mglec8fez51</td>\n",
       "      <td>1</td>\n",
       "      <td>2</td>\n",
       "    </tr>\n",
       "    <tr>\n",
       "      <th>2</th>\n",
       "      <td>0653ipqy7vd71</td>\n",
       "      <td>2</td>\n",
       "      <td>2</td>\n",
       "    </tr>\n",
       "    <tr>\n",
       "      <th>3</th>\n",
       "      <td>065hfyuu0ya61</td>\n",
       "      <td>0</td>\n",
       "      <td>0</td>\n",
       "    </tr>\n",
       "    <tr>\n",
       "      <th>4</th>\n",
       "      <td>095x9borh0z61</td>\n",
       "      <td>2</td>\n",
       "      <td>2</td>\n",
       "    </tr>\n",
       "    <tr>\n",
       "      <th>...</th>\n",
       "      <td>...</td>\n",
       "      <td>...</td>\n",
       "      <td>...</td>\n",
       "    </tr>\n",
       "    <tr>\n",
       "      <th>193</th>\n",
       "      <td>wunn1jjbpu961</td>\n",
       "      <td>0</td>\n",
       "      <td>0</td>\n",
       "    </tr>\n",
       "    <tr>\n",
       "      <th>194</th>\n",
       "      <td>wunqa6kfsvx51</td>\n",
       "      <td>0</td>\n",
       "      <td>2</td>\n",
       "    </tr>\n",
       "    <tr>\n",
       "      <th>195</th>\n",
       "      <td>xan1gwbxrwc61</td>\n",
       "      <td>0</td>\n",
       "      <td>0</td>\n",
       "    </tr>\n",
       "    <tr>\n",
       "      <th>196</th>\n",
       "      <td>xbw64yf04th51</td>\n",
       "      <td>1</td>\n",
       "      <td>1</td>\n",
       "    </tr>\n",
       "    <tr>\n",
       "      <th>197</th>\n",
       "      <td>xdz15thrnem51</td>\n",
       "      <td>2</td>\n",
       "      <td>2</td>\n",
       "    </tr>\n",
       "  </tbody>\n",
       "</table>\n",
       "<p>198 rows × 3 columns</p>\n",
       "</div>"
      ],
      "text/plain": [
       "    parent_file_train  parent_label_train  segment_predictions\n",
       "0       01avx2fm1t961                   3                    3\n",
       "1       03mglec8fez51                   1                    2\n",
       "2       0653ipqy7vd71                   2                    2\n",
       "3       065hfyuu0ya61                   0                    0\n",
       "4       095x9borh0z61                   2                    2\n",
       "..                ...                 ...                  ...\n",
       "193     wunn1jjbpu961                   0                    0\n",
       "194     wunqa6kfsvx51                   0                    2\n",
       "195     xan1gwbxrwc61                   0                    0\n",
       "196     xbw64yf04th51                   1                    1\n",
       "197     xdz15thrnem51                   2                    2\n",
       "\n",
       "[198 rows x 3 columns]"
      ]
     },
     "execution_count": 70,
     "metadata": {},
     "output_type": "execute_result"
    }
   ],
   "source": [
    "max_parent_df_list = []\n",
    "\n",
    "for i in range(0,len(X_test_list)):\n",
    "    # Each dataset: agg, non oisy and noisy, find max segment predictions for each parent_file_train\n",
    "    df_i = X_test_list[i]\n",
    "    #display(df_i)\n",
    "    df_i_merged = df_i.groupby('parent_file_train')['segment_predictions'].max().reset_index()\n",
    "    \n",
    "    # Get parent label for each parent_file\n",
    "    #df_i = lst_df[i] \n",
    "    df_i_2 = df_i.groupby('parent_file_train')['parent_label_train'].max().reset_index()\n",
    "    df_i_merged = df_i_2.merge(df_i_merged, on='parent_file_train')\n",
    "    max_parent_df_list.append(df_i_merged)\n",
    "    \n",
    "    confusion_matrix_graph(f\"kNN - Group {i+1}\", df_i_merged['parent_label_train'], df_i_merged['segment_predictions'], ['0', '1', '2', '3'])\n",
    "\n",
    "max_parent_df_list[0]    "
   ]
  },
  {
   "cell_type": "markdown",
   "metadata": {},
   "source": [
    "### test both balancing the data and combining levels 1 and 2"
   ]
  },
  {
   "cell_type": "code",
   "execution_count": 44,
   "metadata": {},
   "outputs": [
    {
     "name": "stdout",
     "output_type": "stream",
     "text": [
      "(2110, 14)\n"
     ]
    }
   ],
   "source": [
    "print(standardized_aggression_mergedlabels_df.shape)"
   ]
  },
  {
   "cell_type": "code",
   "execution_count": 45,
   "metadata": {},
   "outputs": [
    {
     "name": "stdout",
     "output_type": "stream",
     "text": [
      "(915, 14)\n",
      "(976, 14)\n",
      "(219, 14)\n"
     ]
    }
   ],
   "source": [
    "# Separate classes\n",
    "level0 = standardized_aggression_mergedlabels_df.loc[standardized_aggression_mergedlabels_df['segment_label_train'] == 0]\n",
    "level1 = standardized_aggression_mergedlabels_df.loc[standardized_aggression_mergedlabels_df['segment_label_train'] == 1]\n",
    "level2 = standardized_aggression_mergedlabels_df.loc[standardized_aggression_mergedlabels_df['segment_label_train'] == 2]\n",
    "\n",
    "print(level0.shape)\n",
    "print(level1.shape)\n",
    "print(level2.shape)"
   ]
  },
  {
   "cell_type": "code",
   "execution_count": 46,
   "metadata": {},
   "outputs": [
    {
     "name": "stdout",
     "output_type": "stream",
     "text": [
      "(915, 14)\n",
      "(976, 14)\n",
      "(900, 14)\n"
     ]
    }
   ],
   "source": [
    "#level0 close enough\n",
    "\n",
    "#level1 close enough\n",
    "\n",
    "#Upsample 2 class\n",
    "level2 = resample(level2, replace=True, n_samples=900)\n",
    "\n",
    "print(level0.shape)\n",
    "print(level1.shape)\n",
    "print(level2.shape)\n",
    "\n",
    "# Combine\n",
    "standardized_aggression_mergedlabels_df_balanced = pd.concat([level0, level1, level2])"
   ]
  },
  {
   "cell_type": "code",
   "execution_count": 47,
   "metadata": {},
   "outputs": [
    {
     "name": "stdout",
     "output_type": "stream",
     "text": [
      "(2791, 14)\n"
     ]
    }
   ],
   "source": [
    "print(standardized_aggression_mergedlabels_df_balanced.shape)"
   ]
  },
  {
   "cell_type": "code",
   "execution_count": 48,
   "metadata": {},
   "outputs": [
    {
     "name": "stdout",
     "output_type": "stream",
     "text": [
      "(915, 14)\n",
      "(976, 14)\n",
      "(900, 14)\n",
      "(536, 14)\n",
      "(956, 14)\n",
      "(1299, 14)\n"
     ]
    }
   ],
   "source": [
    "level0 = standardized_aggression_mergedlabels_df_balanced.loc[standardized_aggression_mergedlabels_df_balanced['segment_label_train'] == 0]\n",
    "level1 = standardized_aggression_mergedlabels_df_balanced.loc[standardized_aggression_mergedlabels_df_balanced['segment_label_train'] == 1]\n",
    "level2 = standardized_aggression_mergedlabels_df_balanced.loc[standardized_aggression_mergedlabels_df_balanced['segment_label_train'] == 2]\n",
    "\n",
    "print(level0.shape)\n",
    "print(level1.shape)\n",
    "print(level2.shape)\n",
    "\n",
    "#check parent label balance\n",
    "\n",
    "level0 = standardized_aggression_mergedlabels_df_balanced.loc[standardized_aggression_mergedlabels_df_balanced['parent_label_train'] == 0]\n",
    "level1 = standardized_aggression_mergedlabels_df_balanced.loc[standardized_aggression_mergedlabels_df_balanced['parent_label_train'] == 1]\n",
    "level2 = standardized_aggression_mergedlabels_df_balanced.loc[standardized_aggression_mergedlabels_df_balanced['parent_label_train'] == 2]\n",
    "\n",
    "print(level0.shape)\n",
    "print(level1.shape)\n",
    "print(level2.shape)"
   ]
  },
  {
   "cell_type": "markdown",
   "metadata": {},
   "source": [
    "non noisy"
   ]
  },
  {
   "cell_type": "code",
   "execution_count": 49,
   "metadata": {},
   "outputs": [
    {
     "name": "stdout",
     "output_type": "stream",
     "text": [
      "(1848, 14)\n"
     ]
    }
   ],
   "source": [
    "print(standardized_mergedlabels_non_noisy_df.shape)"
   ]
  },
  {
   "cell_type": "code",
   "execution_count": 50,
   "metadata": {},
   "outputs": [
    {
     "name": "stdout",
     "output_type": "stream",
     "text": [
      "(778, 14)\n",
      "(924, 14)\n",
      "(146, 14)\n"
     ]
    }
   ],
   "source": [
    "# Separate classes\n",
    "level0 = standardized_mergedlabels_non_noisy_df.loc[standardized_mergedlabels_non_noisy_df['segment_label_train'] == 0]\n",
    "level1 = standardized_mergedlabels_non_noisy_df.loc[standardized_mergedlabels_non_noisy_df['segment_label_train'] == 1]\n",
    "level2 = standardized_mergedlabels_non_noisy_df.loc[standardized_mergedlabels_non_noisy_df['segment_label_train'] == 2]\n",
    "\n",
    "print(level0.shape)\n",
    "print(level1.shape)\n",
    "print(level2.shape)"
   ]
  },
  {
   "cell_type": "code",
   "execution_count": 51,
   "metadata": {},
   "outputs": [
    {
     "name": "stdout",
     "output_type": "stream",
     "text": [
      "(778, 14)\n",
      "(775, 14)\n",
      "(775, 14)\n"
     ]
    }
   ],
   "source": [
    "#level0 close enough\n",
    "\n",
    "#level1 close enough\n",
    "# Downsample 0 class\n",
    "level1 = resample(level1, replace=False,n_samples=775)\n",
    "\n",
    "#Upsample 2 class\n",
    "level2 = resample(level2, replace=True, n_samples=775)\n",
    "\n",
    "print(level0.shape)\n",
    "print(level1.shape)\n",
    "print(level2.shape)\n",
    "\n",
    "# Combine\n",
    "standardized_mergedlabels_non_noisy_df_balanced = pd.concat([level0, level1, level2])"
   ]
  },
  {
   "cell_type": "code",
   "execution_count": 52,
   "metadata": {},
   "outputs": [
    {
     "name": "stdout",
     "output_type": "stream",
     "text": [
      "(2328, 14)\n"
     ]
    }
   ],
   "source": [
    "print(standardized_mergedlabels_non_noisy_df_balanced.shape)"
   ]
  },
  {
   "cell_type": "code",
   "execution_count": 53,
   "metadata": {},
   "outputs": [
    {
     "name": "stdout",
     "output_type": "stream",
     "text": [
      "(778, 14)\n",
      "(775, 14)\n",
      "(775, 14)\n",
      "(418, 14)\n",
      "(805, 14)\n",
      "(1105, 14)\n"
     ]
    }
   ],
   "source": [
    "level0 = standardized_mergedlabels_non_noisy_df_balanced.loc[standardized_mergedlabels_non_noisy_df_balanced['segment_label_train'] == 0]\n",
    "level1 = standardized_mergedlabels_non_noisy_df_balanced.loc[standardized_mergedlabels_non_noisy_df_balanced['segment_label_train'] == 1]\n",
    "level2 = standardized_mergedlabels_non_noisy_df_balanced.loc[standardized_mergedlabels_non_noisy_df_balanced['segment_label_train'] == 2]\n",
    "\n",
    "print(level0.shape)\n",
    "print(level1.shape)\n",
    "print(level2.shape)\n",
    "\n",
    "#check parent label balance\n",
    "\n",
    "level0 = standardized_mergedlabels_non_noisy_df_balanced.loc[standardized_mergedlabels_non_noisy_df_balanced['parent_label_train'] == 0]\n",
    "level1 = standardized_mergedlabels_non_noisy_df_balanced.loc[standardized_mergedlabels_non_noisy_df_balanced['parent_label_train'] == 1]\n",
    "level2 = standardized_mergedlabels_non_noisy_df_balanced.loc[standardized_mergedlabels_non_noisy_df_balanced['parent_label_train'] == 2]\n",
    "\n",
    "print(level0.shape)\n",
    "print(level1.shape)\n",
    "print(level2.shape)"
   ]
  },
  {
   "cell_type": "markdown",
   "metadata": {},
   "source": [
    "noisy"
   ]
  },
  {
   "cell_type": "code",
   "execution_count": 54,
   "metadata": {},
   "outputs": [
    {
     "name": "stdout",
     "output_type": "stream",
     "text": [
      "(262, 14)\n"
     ]
    }
   ],
   "source": [
    "print(standardized_mergedlabels_noisy_df.shape)"
   ]
  },
  {
   "cell_type": "code",
   "execution_count": 55,
   "metadata": {},
   "outputs": [
    {
     "name": "stdout",
     "output_type": "stream",
     "text": [
      "(137, 14)\n",
      "(52, 14)\n",
      "(73, 14)\n"
     ]
    }
   ],
   "source": [
    "# Separate classes\n",
    "level0 = standardized_mergedlabels_noisy_df.loc[standardized_mergedlabels_noisy_df['segment_label_train'] == 0]\n",
    "level1 = standardized_mergedlabels_noisy_df.loc[standardized_mergedlabels_noisy_df['segment_label_train'] == 1]\n",
    "level2 = standardized_mergedlabels_noisy_df.loc[standardized_mergedlabels_noisy_df['segment_label_train'] == 2]\n",
    "\n",
    "print(level0.shape)\n",
    "print(level1.shape)\n",
    "print(level2.shape)"
   ]
  },
  {
   "cell_type": "code",
   "execution_count": 56,
   "metadata": {},
   "outputs": [
    {
     "name": "stdout",
     "output_type": "stream",
     "text": [
      "(75, 14)\n",
      "(75, 14)\n",
      "(73, 14)\n"
     ]
    }
   ],
   "source": [
    "# Downsample 0 class\n",
    "level0 = resample(level0, replace=False,n_samples=75)\n",
    "\n",
    "#Upsample 2 class\n",
    "level1 = resample(level1, replace=True, n_samples=75)\n",
    "\n",
    "#level3 is close enough\n",
    "\n",
    "print(level0.shape)\n",
    "print(level1.shape)\n",
    "print(level2.shape)\n",
    "\n",
    "# Combine\n",
    "standardized_mergedlabels_noisy_df_balanced = pd.concat([level0, level1, level2])"
   ]
  },
  {
   "cell_type": "code",
   "execution_count": 57,
   "metadata": {},
   "outputs": [
    {
     "name": "stdout",
     "output_type": "stream",
     "text": [
      "(223, 14)\n"
     ]
    }
   ],
   "source": [
    "print(standardized_mergedlabels_noisy_df_balanced.shape)"
   ]
  },
  {
   "cell_type": "code",
   "execution_count": 58,
   "metadata": {},
   "outputs": [
    {
     "name": "stdout",
     "output_type": "stream",
     "text": [
      "(75, 14)\n",
      "(75, 14)\n",
      "(73, 14)\n",
      "(62, 14)\n",
      "(50, 14)\n",
      "(111, 14)\n"
     ]
    }
   ],
   "source": [
    "level0 = standardized_mergedlabels_noisy_df_balanced.loc[standardized_mergedlabels_noisy_df_balanced['segment_label_train'] == 0]\n",
    "level1 = standardized_mergedlabels_noisy_df_balanced.loc[standardized_mergedlabels_noisy_df_balanced['segment_label_train'] == 1]\n",
    "level2 = standardized_mergedlabels_noisy_df_balanced.loc[standardized_mergedlabels_noisy_df_balanced['segment_label_train'] == 2]\n",
    "\n",
    "print(level0.shape)\n",
    "print(level1.shape)\n",
    "print(level2.shape)\n",
    "\n",
    "#check parent label balance\n",
    "\n",
    "level0 = standardized_mergedlabels_noisy_df_balanced.loc[standardized_mergedlabels_noisy_df_balanced['parent_label_train'] == 0]\n",
    "level1 = standardized_mergedlabels_noisy_df_balanced.loc[standardized_mergedlabels_noisy_df_balanced['parent_label_train'] == 1]\n",
    "level2 = standardized_mergedlabels_noisy_df_balanced.loc[standardized_mergedlabels_noisy_df_balanced['parent_label_train'] == 2]\n",
    "\n",
    "print(level0.shape)\n",
    "print(level1.shape)\n",
    "print(level2.shape)"
   ]
  },
  {
   "cell_type": "markdown",
   "metadata": {},
   "source": [
    "rebuild the svm"
   ]
  },
  {
   "cell_type": "code",
   "execution_count": 59,
   "metadata": {},
   "outputs": [
    {
     "name": "stderr",
     "output_type": "stream",
     "text": [
      "C:\\Users\\Paige\\AppData\\Local\\Temp\\ipykernel_10700\\4173322112.py:1: FutureWarning: In a future version of pandas all arguments of DataFrame.drop except for the argument 'labels' will be keyword-only.\n",
      "  data_balanced_merged_np = standardized_aggression_mergedlabels_df_balanced.drop([\"parent_file_train\", \"parent_label_train\", \"segment_label_train\", \"noisy_train\"], 1).to_numpy()\n",
      "C:\\Users\\Paige\\AppData\\Local\\Temp\\ipykernel_10700\\4173322112.py:5: FutureWarning: In a future version of pandas all arguments of DataFrame.drop except for the argument 'labels' will be keyword-only.\n",
      "  data_balanced_merged_non_noisy_np = standardized_mergedlabels_non_noisy_df_balanced.drop([\"parent_file_train\", \"parent_label_train\", \"segment_label_train\", \"noisy_train\"], 1).to_numpy()\n",
      "C:\\Users\\Paige\\AppData\\Local\\Temp\\ipykernel_10700\\4173322112.py:9: FutureWarning: In a future version of pandas all arguments of DataFrame.drop except for the argument 'labels' will be keyword-only.\n",
      "  data_balanced_merged_noisy_np = standardized_mergedlabels_noisy_df_balanced.drop([\"parent_file_train\", \"parent_label_train\", \"segment_label_train\", \"noisy_train\"], 1).to_numpy()\n"
     ]
    }
   ],
   "source": [
    "data_balanced_merged_np = standardized_aggression_mergedlabels_df_balanced.drop([\"parent_file_train\", \"parent_label_train\", \"segment_label_train\", \"noisy_train\"], 1).to_numpy()\n",
    "label_balanced_merged_np = standardized_aggression_mergedlabels_df_balanced['segment_label_train'].to_numpy()\n",
    "label_balanced_merged_np=label_balanced_merged_np.astype('int')\n",
    "\n",
    "data_balanced_merged_non_noisy_np = standardized_mergedlabels_non_noisy_df_balanced.drop([\"parent_file_train\", \"parent_label_train\", \"segment_label_train\", \"noisy_train\"], 1).to_numpy()\n",
    "label_balanced_merged_non_noisy_np = standardized_mergedlabels_non_noisy_df_balanced['segment_label_train'].to_numpy()\n",
    "label_balanced_merged_non_noisy_np=label_balanced_merged_non_noisy_np.astype('int')\n",
    "\n",
    "data_balanced_merged_noisy_np = standardized_mergedlabels_noisy_df_balanced.drop([\"parent_file_train\", \"parent_label_train\", \"segment_label_train\", \"noisy_train\"], 1).to_numpy()\n",
    "label_balanced_merged_noisy_np = standardized_mergedlabels_noisy_df_balanced['segment_label_train'].to_numpy()\n",
    "label_balanced_merged_noisy_np=label_balanced_merged_noisy_np.astype('int')"
   ]
  },
  {
   "cell_type": "code",
   "execution_count": 286,
   "metadata": {},
   "outputs": [
    {
     "name": "stdout",
     "output_type": "stream",
     "text": [
      "{'C': 10, 'gamma': 'auto', 'kernel': 'rbf'}\n",
      "{'C': 10, 'gamma': 'scale', 'kernel': 'rbf'}\n",
      "{'C': 10, 'gamma': 'auto', 'kernel': 'rbf'}\n"
     ]
    }
   ],
   "source": [
    "# original_parameters = {'C': [0.01, 0.1, 1, 10, 100, 1000, 10000], 'gamma': ['scale', 'auto'],\n",
    "#                    'kernel': ['rbf', 'linear', 'poly', 'sigmoid'], 'degree': [1,2,3,4,5,6]}\n",
    "\n",
    "quick_parameters = {'C': [0.01, 0.1, 1, 10], 'gamma': ['scale','auto'],\n",
    "                 'kernel': ['rbf', 'linear', 'poly', 'sigmoid']}\n",
    "\n",
    "svc = svm.SVC()\n",
    "hyperparameter_tuning(svc, data_balanced_merged_np, label_balanced_merged_np, quick_parameters)\n",
    "hyperparameter_tuning(svc, data_balanced_merged_non_noisy_np, label_balanced_merged_non_noisy_np, quick_parameters)\n",
    "hyperparameter_tuning(svc, data_balanced_merged_noisy_np, label_balanced_merged_noisy_np, quick_parameters)"
   ]
  },
  {
   "cell_type": "markdown",
   "metadata": {},
   "source": [
    "{'C': 10, 'gamma': 'auto', 'kernel': 'rbf'}\n",
    "{'C': 10, 'gamma': 'scale', 'kernel': 'rbf'}\n",
    "{'C': 10, 'gamma': 'auto', 'kernel': 'rbf'}"
   ]
  },
  {
   "cell_type": "code",
   "execution_count": 60,
   "metadata": {},
   "outputs": [
    {
     "name": "stdout",
     "output_type": "stream",
     "text": [
      "Feature set: Index(['analyse_harmonics', 'get_max_intensity', 'analyse_intensity',\n",
      "       'analyse_pitch', 'analyse_pitch_range', 'analyse_shimmer',\n",
      "       'analyse_jitter', 'spectral_slope', 'mean_spectral_rolloff',\n",
      "       'get_energy'],\n",
      "      dtype='object')\n",
      "F1 score = 0.7052997420381426; Accuracy score = 0.7063037249283668 ; Precisison Score = 0.7077463532542837; Recall score = 0.7063037249283668\n",
      "\n",
      "\n",
      " Aggregate report \n",
      "               precision    recall  f1-score   support\n",
      "\n",
      "           0       0.73      0.63      0.68       243\n",
      "           1       0.62      0.66      0.64       248\n",
      "           2       0.79      0.85      0.82       207\n",
      "\n",
      "    accuracy                           0.71       698\n",
      "   macro avg       0.71      0.71      0.71       698\n",
      "weighted avg       0.71      0.71      0.71       698\n",
      "\n"
     ]
    },
    {
     "data": {
      "image/png": "[encoded data removed]",
      "text/plain": [
       "<Figure size 1008x576 with 2 Axes>"
      ]
     },
     "metadata": {
      "needs_background": "light"
     },
     "output_type": "display_data"
    },
    {
     "name": "stdout",
     "output_type": "stream",
     "text": [
      "Feature set: Index(['analyse_harmonics', 'get_max_intensity', 'analyse_intensity',\n",
      "       'analyse_pitch', 'analyse_pitch_range', 'analyse_shimmer',\n",
      "       'analyse_jitter', 'spectral_slope', 'mean_spectral_rolloff',\n",
      "       'get_energy'],\n",
      "      dtype='object')\n",
      "F1 score = 0.7546679251823717; Accuracy score = 0.7577319587628866 ; Precisison Score = 0.7557098774572135; Recall score = 0.7577319587628866\n",
      "\n",
      "\n",
      " Aggregate report \n",
      "               precision    recall  f1-score   support\n",
      "\n",
      "           0       0.78      0.70      0.74       203\n",
      "           1       0.67      0.66      0.66       192\n",
      "           2       0.81      0.93      0.86       187\n",
      "\n",
      "    accuracy                           0.76       582\n",
      "   macro avg       0.76      0.76      0.76       582\n",
      "weighted avg       0.76      0.76      0.75       582\n",
      "\n"
     ]
    },
    {
     "data": {
      "image/png": "[encoded data removed]",
      "text/plain": [
       "<Figure size 1008x576 with 2 Axes>"
      ]
     },
     "metadata": {
      "needs_background": "light"
     },
     "output_type": "display_data"
    },
    {
     "name": "stdout",
     "output_type": "stream",
     "text": [
      "Feature set: Index(['analyse_harmonics', 'get_max_intensity', 'analyse_intensity',\n",
      "       'analyse_pitch', 'analyse_pitch_range', 'analyse_shimmer',\n",
      "       'analyse_jitter', 'spectral_slope', 'mean_spectral_rolloff',\n",
      "       'get_energy'],\n",
      "      dtype='object')\n",
      "F1 score = 0.6955042332011574; Accuracy score = 0.6964285714285714 ; Precisison Score = 0.7012533274179237; Recall score = 0.6964285714285714\n",
      "\n",
      "\n",
      " Aggregate report \n",
      "               precision    recall  f1-score   support\n",
      "\n",
      "           0       0.79      0.65      0.71        17\n",
      "           1       0.63      0.63      0.63        19\n",
      "           2       0.70      0.80      0.74        20\n",
      "\n",
      "    accuracy                           0.70        56\n",
      "   macro avg       0.70      0.69      0.70        56\n",
      "weighted avg       0.70      0.70      0.70        56\n",
      "\n"
     ]
    },
    {
     "data": {
      "image/png": "[encoded data removed]",
      "text/plain": [
       "<Figure size 1008x576 with 2 Axes>"
      ]
     },
     "metadata": {
      "needs_background": "light"
     },
     "output_type": "display_data"
    }
   ],
   "source": [
    "#lst_data_np = [data_np, data_non_noisy_np, data_noisy_np]\n",
    "lst_label_np = [label_balanced_merged_np, label_balanced_merged_non_noisy_np, label_balanced_merged_noisy_np]\n",
    "label = 'segment_label_train'\n",
    "lst_df = [standardized_aggression_mergedlabels_df_balanced, standardized_mergedlabels_non_noisy_df_balanced, standardized_mergedlabels_noisy_df_balanced]\n",
    "X_test_list = [None,None,None]\n",
    "gamma = ['auto', 'scale', 'auto']\n",
    "\n",
    "for i in range(3):\n",
    "    svm_model = svm.SVC(kernel='rbf', gamma=gamma[i], C=10)\n",
    "    actual, predicted, X_test_list[i] = run_model(svm_model, lst_df[i], lst_label_np[i],label_name=label)\n",
    "\n",
    "    confusion_matrix_graph(f\"SVM - Group {i+1}\", actual, predicted, ['0', '1', '2'])"
   ]
  },
  {
   "cell_type": "code",
   "execution_count": 290,
   "metadata": {},
   "outputs": [
    {
     "name": "stdout",
     "output_type": "stream",
     "text": [
      "\n",
      "\n",
      " Aggregate report \n",
      "               precision    recall  f1-score   support\n",
      "\n",
      "           0       0.64      0.56      0.60        66\n",
      "           1       0.62      0.62      0.62        87\n",
      "           2       0.67      0.76      0.71        55\n",
      "\n",
      "    accuracy                           0.64       208\n",
      "   macro avg       0.64      0.65      0.64       208\n",
      "weighted avg       0.64      0.64      0.64       208\n",
      "\n"
     ]
    },
    {
     "data": {
      "image/png": "[encoded data removed]",
      "text/plain": [
       "<Figure size 1008x576 with 2 Axes>"
      ]
     },
     "metadata": {
      "needs_background": "light"
     },
     "output_type": "display_data"
    },
    {
     "name": "stdout",
     "output_type": "stream",
     "text": [
      "\n",
      "\n",
      " Aggregate report \n",
      "               precision    recall  f1-score   support\n",
      "\n",
      "           0       0.49      0.49      0.49        47\n",
      "           1       0.68      0.61      0.65        83\n",
      "           2       0.62      0.76      0.68        37\n",
      "\n",
      "    accuracy                           0.61       167\n",
      "   macro avg       0.60      0.62      0.61       167\n",
      "weighted avg       0.61      0.61      0.61       167\n",
      "\n"
     ]
    },
    {
     "data": {
      "image/png": "[encoded data removed]",
      "text/plain": [
       "<Figure size 1008x576 with 2 Axes>"
      ]
     },
     "metadata": {
      "needs_background": "light"
     },
     "output_type": "display_data"
    },
    {
     "name": "stdout",
     "output_type": "stream",
     "text": [
      "\n",
      "\n",
      " Aggregate report \n",
      "               precision    recall  f1-score   support\n",
      "\n",
      "           0       0.60      0.50      0.55        12\n",
      "           1       0.43      0.75      0.55         8\n",
      "           2       0.75      0.50      0.60        12\n",
      "\n",
      "    accuracy                           0.56        32\n",
      "   macro avg       0.59      0.58      0.56        32\n",
      "weighted avg       0.61      0.56      0.57        32\n",
      "\n"
     ]
    },
    {
     "data": {
      "image/png": "[encoded data removed]",
      "text/plain": [
       "<Figure size 1008x576 with 2 Axes>"
      ]
     },
     "metadata": {
      "needs_background": "light"
     },
     "output_type": "display_data"
    },
    {
     "data": {
      "text/html": [
       "<div>\n",
       "<style scoped>\n",
       "    .dataframe tbody tr th:only-of-type {\n",
       "        vertical-align: middle;\n",
       "    }\n",
       "\n",
       "    .dataframe tbody tr th {\n",
       "        vertical-align: top;\n",
       "    }\n",
       "\n",
       "    .dataframe thead th {\n",
       "        text-align: right;\n",
       "    }\n",
       "</style>\n",
       "<table border=\"1\" class=\"dataframe\">\n",
       "  <thead>\n",
       "    <tr style=\"text-align: right;\">\n",
       "      <th></th>\n",
       "      <th>parent_file_train</th>\n",
       "      <th>parent_label_train</th>\n",
       "      <th>segment_predictions</th>\n",
       "    </tr>\n",
       "  </thead>\n",
       "  <tbody>\n",
       "    <tr>\n",
       "      <th>0</th>\n",
       "      <td>00g8dfgpqpt61</td>\n",
       "      <td>0</td>\n",
       "      <td>2</td>\n",
       "    </tr>\n",
       "    <tr>\n",
       "      <th>1</th>\n",
       "      <td>01avx2fm1t961</td>\n",
       "      <td>2</td>\n",
       "      <td>1</td>\n",
       "    </tr>\n",
       "    <tr>\n",
       "      <th>2</th>\n",
       "      <td>03mglec8fez51</td>\n",
       "      <td>1</td>\n",
       "      <td>1</td>\n",
       "    </tr>\n",
       "    <tr>\n",
       "      <th>3</th>\n",
       "      <td>0653ipqy7vd71</td>\n",
       "      <td>1</td>\n",
       "      <td>2</td>\n",
       "    </tr>\n",
       "    <tr>\n",
       "      <th>4</th>\n",
       "      <td>065hfyuu0ya61</td>\n",
       "      <td>0</td>\n",
       "      <td>1</td>\n",
       "    </tr>\n",
       "    <tr>\n",
       "      <th>...</th>\n",
       "      <td>...</td>\n",
       "      <td>...</td>\n",
       "      <td>...</td>\n",
       "    </tr>\n",
       "    <tr>\n",
       "      <th>203</th>\n",
       "      <td>wunqa6kfsvx51</td>\n",
       "      <td>0</td>\n",
       "      <td>1</td>\n",
       "    </tr>\n",
       "    <tr>\n",
       "      <th>204</th>\n",
       "      <td>xan1gwbxrwc61</td>\n",
       "      <td>0</td>\n",
       "      <td>0</td>\n",
       "    </tr>\n",
       "    <tr>\n",
       "      <th>205</th>\n",
       "      <td>xbw64yf04th51</td>\n",
       "      <td>1</td>\n",
       "      <td>0</td>\n",
       "    </tr>\n",
       "    <tr>\n",
       "      <th>206</th>\n",
       "      <td>xdz15thrnem51</td>\n",
       "      <td>1</td>\n",
       "      <td>2</td>\n",
       "    </tr>\n",
       "    <tr>\n",
       "      <th>207</th>\n",
       "      <td>zvkhxd3vp3o51</td>\n",
       "      <td>1</td>\n",
       "      <td>1</td>\n",
       "    </tr>\n",
       "  </tbody>\n",
       "</table>\n",
       "<p>208 rows × 3 columns</p>\n",
       "</div>"
      ],
      "text/plain": [
       "    parent_file_train  parent_label_train  segment_predictions\n",
       "0       00g8dfgpqpt61                   0                    2\n",
       "1       01avx2fm1t961                   2                    1\n",
       "2       03mglec8fez51                   1                    1\n",
       "3       0653ipqy7vd71                   1                    2\n",
       "4       065hfyuu0ya61                   0                    1\n",
       "..                ...                 ...                  ...\n",
       "203     wunqa6kfsvx51                   0                    1\n",
       "204     xan1gwbxrwc61                   0                    0\n",
       "205     xbw64yf04th51                   1                    0\n",
       "206     xdz15thrnem51                   1                    2\n",
       "207     zvkhxd3vp3o51                   1                    1\n",
       "\n",
       "[208 rows x 3 columns]"
      ]
     },
     "execution_count": 290,
     "metadata": {},
     "output_type": "execute_result"
    }
   ],
   "source": [
    "max_parent_df_list = []\n",
    "\n",
    "for i in range(0,len(X_test_list)):\n",
    "    # Each dataset: agg, non oisy and noisy, find max segment predictions for each parent_file_train\n",
    "    df_i = X_test_list[i]\n",
    "    #display(df_i)\n",
    "    df_i_merged = df_i.groupby('parent_file_train')['segment_predictions'].max().reset_index()\n",
    "    \n",
    "    # Get parent label for each parent_file\n",
    "    #df_i = lst_df[i] \n",
    "    df_i_2 = df_i.groupby('parent_file_train')['parent_label_train'].max().reset_index()\n",
    "    df_i_merged = df_i_2.merge(df_i_merged, on='parent_file_train')\n",
    "    max_parent_df_list.append(df_i_merged)\n",
    "    \n",
    "    confusion_matrix_graph(f\"SVM - Group {i+1}\", df_i_merged['parent_label_train'], df_i_merged['segment_predictions'], ['0', '1', '2'])\n",
    "\n",
    "max_parent_df_list[0]    "
   ]
  },
  {
   "cell_type": "markdown",
   "metadata": {},
   "source": [
    "perhaps for noisy because everything is so loud we can only get binary classification?"
   ]
  },
  {
   "cell_type": "code",
   "execution_count": 294,
   "metadata": {},
   "outputs": [
    {
     "name": "stderr",
     "output_type": "stream",
     "text": [
      "C:\\Users\\Paige\\AppData\\Local\\Temp\\ipykernel_10828\\2694918186.py:3: SettingWithCopyWarning: \n",
      "A value is trying to be set on a copy of a slice from a DataFrame\n",
      "\n",
      "See the caveats in the documentation: https://pandas.pydata.org/pandas-docs/stable/user_guide/indexing.html#returning-a-view-versus-a-copy\n",
      "  standardized_binary_noisy_df.loc[standardized_binary_noisy_df['segment_label_train'] == 1, 'segment_label_train' ] = 0\n",
      "C:\\Users\\Paige\\AppData\\Local\\Temp\\ipykernel_10828\\2694918186.py:4: SettingWithCopyWarning: \n",
      "A value is trying to be set on a copy of a slice from a DataFrame\n",
      "\n",
      "See the caveats in the documentation: https://pandas.pydata.org/pandas-docs/stable/user_guide/indexing.html#returning-a-view-versus-a-copy\n",
      "  standardized_binary_noisy_df.loc[standardized_binary_noisy_df['segment_label_train'] == 2, 'segment_label_train'] = 1\n",
      "C:\\Users\\Paige\\AppData\\Local\\Temp\\ipykernel_10828\\2694918186.py:5: SettingWithCopyWarning: \n",
      "A value is trying to be set on a copy of a slice from a DataFrame\n",
      "\n",
      "See the caveats in the documentation: https://pandas.pydata.org/pandas-docs/stable/user_guide/indexing.html#returning-a-view-versus-a-copy\n",
      "  standardized_binary_noisy_df.loc[standardized_binary_noisy_df['segment_label_train'] == 3, 'segment_label_train'] = 1\n",
      "C:\\Users\\Paige\\AppData\\Local\\Temp\\ipykernel_10828\\2694918186.py:6: SettingWithCopyWarning: \n",
      "A value is trying to be set on a copy of a slice from a DataFrame\n",
      "\n",
      "See the caveats in the documentation: https://pandas.pydata.org/pandas-docs/stable/user_guide/indexing.html#returning-a-view-versus-a-copy\n",
      "  standardized_binary_noisy_df.loc[standardized_binary_noisy_df['parent_label_train'] == 1, 'parent_label_train'] = 0\n",
      "C:\\Users\\Paige\\AppData\\Local\\Temp\\ipykernel_10828\\2694918186.py:7: SettingWithCopyWarning: \n",
      "A value is trying to be set on a copy of a slice from a DataFrame\n",
      "\n",
      "See the caveats in the documentation: https://pandas.pydata.org/pandas-docs/stable/user_guide/indexing.html#returning-a-view-versus-a-copy\n",
      "  standardized_binary_noisy_df.loc[standardized_binary_noisy_df['parent_label_train'] == 3, 'parent_label_train'] = 1\n",
      "C:\\Users\\Paige\\AppData\\Local\\Temp\\ipykernel_10828\\2694918186.py:8: SettingWithCopyWarning: \n",
      "A value is trying to be set on a copy of a slice from a DataFrame\n",
      "\n",
      "See the caveats in the documentation: https://pandas.pydata.org/pandas-docs/stable/user_guide/indexing.html#returning-a-view-versus-a-copy\n",
      "  standardized_binary_noisy_df.loc[standardized_binary_noisy_df['parent_label_train'] == 2, 'parent_label_train'] = 1\n"
     ]
    },
    {
     "name": "stdout",
     "output_type": "stream",
     "text": [
      "[0 1]\n",
      "[0 1]\n"
     ]
    }
   ],
   "source": [
    "standardized_aggression_binary_df = standardized_aggression_df.copy()\n",
    "standardized_binary_noisy_df = standardized_aggression_binary_df.loc[standardized_aggression_binary_df['noisy_train'] == 1]\n",
    "standardized_binary_noisy_df.loc[standardized_binary_noisy_df['segment_label_train'] == 1, 'segment_label_train' ] = 0\n",
    "standardized_binary_noisy_df.loc[standardized_binary_noisy_df['segment_label_train'] == 2, 'segment_label_train'] = 1\n",
    "standardized_binary_noisy_df.loc[standardized_binary_noisy_df['segment_label_train'] == 3, 'segment_label_train'] = 1\n",
    "standardized_binary_noisy_df.loc[standardized_binary_noisy_df['parent_label_train'] == 1, 'parent_label_train'] = 0\n",
    "standardized_binary_noisy_df.loc[standardized_binary_noisy_df['parent_label_train'] == 3, 'parent_label_train'] = 1\n",
    "standardized_binary_noisy_df.loc[standardized_binary_noisy_df['parent_label_train'] == 2, 'parent_label_train'] = 1\n",
    "print(standardized_binary_noisy_df['segment_label_train'].unique())\n",
    "print(standardized_binary_noisy_df['parent_label_train'].unique())"
   ]
  },
  {
   "cell_type": "code",
   "execution_count": 295,
   "metadata": {},
   "outputs": [
    {
     "name": "stderr",
     "output_type": "stream",
     "text": [
      "C:\\Users\\Paige\\AppData\\Local\\Temp\\ipykernel_10828\\524940715.py:1: FutureWarning: In a future version of pandas all arguments of DataFrame.drop except for the argument 'labels' will be keyword-only.\n",
      "  data_binary_noisy_np = standardized_binary_noisy_df.drop([\"parent_file_train\", \"parent_label_train\", \"segment_label_train\", \"noisy_train\"], 1).to_numpy()\n"
     ]
    }
   ],
   "source": [
    "data_binary_noisy_np = standardized_binary_noisy_df.drop([\"parent_file_train\", \"parent_label_train\", \"segment_label_train\", \"noisy_train\"], 1).to_numpy()\n",
    "label_binary_noisy_np = standardized_binary_noisy_df['segment_label_train'].to_numpy()\n",
    "label_binary_noisy_np=label_binary_noisy_np.astype('int')"
   ]
  },
  {
   "cell_type": "code",
   "execution_count": 296,
   "metadata": {},
   "outputs": [
    {
     "name": "stdout",
     "output_type": "stream",
     "text": [
      "{'C': 0.1, 'gamma': 'scale', 'kernel': 'linear'}\n"
     ]
    }
   ],
   "source": [
    "quick_parameters = {'C': [ 0.001, 0.01, 0.1, 1, 10, 100], 'gamma': ['scale','auto'],\n",
    "                 'kernel': ['rbf', 'linear', 'poly', 'sigmoid']}\n",
    "\n",
    "svc = svm.SVC()\n",
    "hyperparameter_tuning(svc, data_binary_noisy_np, label_binary_noisy_np, quick_parameters)"
   ]
  },
  {
   "cell_type": "markdown",
   "metadata": {},
   "source": [
    "{'C': 0.1, 'gamma': 'scale', 'kernel': 'linear'}"
   ]
  },
  {
   "cell_type": "code",
   "execution_count": 299,
   "metadata": {},
   "outputs": [
    {
     "name": "stdout",
     "output_type": "stream",
     "text": [
      "(156, 14)\n",
      "(106, 14)\n"
     ]
    }
   ],
   "source": [
    "# Separate classes\n",
    "level0 = standardized_binary_noisy_df.loc[standardized_binary_noisy_df['segment_label_train'] == 0]\n",
    "level1 = standardized_binary_noisy_df.loc[standardized_binary_noisy_df['segment_label_train'] == 1]\n",
    "\n",
    "print(level0.shape)\n",
    "print(level1.shape)"
   ]
  },
  {
   "cell_type": "markdown",
   "metadata": {},
   "source": [
    "already pretty balanced no need to change it"
   ]
  },
  {
   "cell_type": "code",
   "execution_count": 303,
   "metadata": {},
   "outputs": [
    {
     "name": "stdout",
     "output_type": "stream",
     "text": [
      "Feature set: Index(['analyse_harmonics', 'get_max_intensity', 'analyse_intensity',\n",
      "       'analyse_pitch', 'analyse_pitch_range', 'analyse_shimmer',\n",
      "       'analyse_jitter', 'spectral_slope', 'mean_spectral_rolloff',\n",
      "       'get_energy'],\n",
      "      dtype='object')\n",
      "F1 score = 0.8190362269309637; Accuracy score = 0.8181818181818182 ; Precisison Score = 0.821401338642718; Recall score = 0.8181818181818182\n",
      "\n",
      "\n",
      " Aggregate report \n",
      "               precision    recall  f1-score   support\n",
      "\n",
      "           0       0.86      0.82      0.84        39\n",
      "           1       0.76      0.81      0.79        27\n",
      "\n",
      "    accuracy                           0.82        66\n",
      "   macro avg       0.81      0.82      0.81        66\n",
      "weighted avg       0.82      0.82      0.82        66\n",
      "\n"
     ]
    },
    {
     "data": {
      "image/png": "[encoded data removed]",
      "text/plain": [
       "<Figure size 1008x576 with 2 Axes>"
      ]
     },
     "metadata": {
      "needs_background": "light"
     },
     "output_type": "display_data"
    }
   ],
   "source": [
    "label = 'segment_label_train'\n",
    "X_test_list = [None]\n",
    "\n",
    "svm_model = svm.SVC(kernel='linear', gamma='scale', C=0.1)\n",
    "actual, predicted, X_test_list[0] = run_model(svm_model, standardized_binary_noisy_df,  label_binary_noisy_np,label_name=label)\n",
    "\n",
    "confusion_matrix_graph(f\"SVM - Group {i+1}\", actual, predicted, ['0', '1'])"
   ]
  },
  {
   "cell_type": "code",
   "execution_count": 304,
   "metadata": {},
   "outputs": [
    {
     "name": "stdout",
     "output_type": "stream",
     "text": [
      "\n",
      "\n",
      " Aggregate report \n",
      "               precision    recall  f1-score   support\n",
      "\n",
      "           0       0.79      0.71      0.75        21\n",
      "           1       0.65      0.73      0.69        15\n",
      "\n",
      "    accuracy                           0.72        36\n",
      "   macro avg       0.72      0.72      0.72        36\n",
      "weighted avg       0.73      0.72      0.72        36\n",
      "\n"
     ]
    },
    {
     "data": {
      "image/png": "[encoded data removed]",
      "text/plain": [
       "<Figure size 1008x576 with 2 Axes>"
      ]
     },
     "metadata": {
      "needs_background": "light"
     },
     "output_type": "display_data"
    },
    {
     "data": {
      "text/html": [
       "<div>\n",
       "<style scoped>\n",
       "    .dataframe tbody tr th:only-of-type {\n",
       "        vertical-align: middle;\n",
       "    }\n",
       "\n",
       "    .dataframe tbody tr th {\n",
       "        vertical-align: top;\n",
       "    }\n",
       "\n",
       "    .dataframe thead th {\n",
       "        text-align: right;\n",
       "    }\n",
       "</style>\n",
       "<table border=\"1\" class=\"dataframe\">\n",
       "  <thead>\n",
       "    <tr style=\"text-align: right;\">\n",
       "      <th></th>\n",
       "      <th>parent_file_train</th>\n",
       "      <th>parent_label_train</th>\n",
       "      <th>segment_predictions</th>\n",
       "    </tr>\n",
       "  </thead>\n",
       "  <tbody>\n",
       "    <tr>\n",
       "      <th>0</th>\n",
       "      <td>01avx2fm1t961</td>\n",
       "      <td>1</td>\n",
       "      <td>1</td>\n",
       "    </tr>\n",
       "    <tr>\n",
       "      <th>1</th>\n",
       "      <td>143mdsnmvu461</td>\n",
       "      <td>1</td>\n",
       "      <td>1</td>\n",
       "    </tr>\n",
       "    <tr>\n",
       "      <th>2</th>\n",
       "      <td>16dnw24q0jo51</td>\n",
       "      <td>0</td>\n",
       "      <td>0</td>\n",
       "    </tr>\n",
       "    <tr>\n",
       "      <th>3</th>\n",
       "      <td>1fhp1vuk9h461</td>\n",
       "      <td>0</td>\n",
       "      <td>0</td>\n",
       "    </tr>\n",
       "    <tr>\n",
       "      <th>4</th>\n",
       "      <td>1sm6gyfaqyb71</td>\n",
       "      <td>1</td>\n",
       "      <td>1</td>\n",
       "    </tr>\n",
       "    <tr>\n",
       "      <th>5</th>\n",
       "      <td>37gpiutnlqj51</td>\n",
       "      <td>0</td>\n",
       "      <td>0</td>\n",
       "    </tr>\n",
       "    <tr>\n",
       "      <th>6</th>\n",
       "      <td>3duf3yestck51</td>\n",
       "      <td>1</td>\n",
       "      <td>1</td>\n",
       "    </tr>\n",
       "    <tr>\n",
       "      <th>7</th>\n",
       "      <td>3nr00989hhp51</td>\n",
       "      <td>1</td>\n",
       "      <td>0</td>\n",
       "    </tr>\n",
       "    <tr>\n",
       "      <th>8</th>\n",
       "      <td>3nvn1lwacgg61</td>\n",
       "      <td>0</td>\n",
       "      <td>0</td>\n",
       "    </tr>\n",
       "    <tr>\n",
       "      <th>9</th>\n",
       "      <td>hv7owj844s461</td>\n",
       "      <td>1</td>\n",
       "      <td>1</td>\n",
       "    </tr>\n",
       "    <tr>\n",
       "      <th>10</th>\n",
       "      <td>i5es1l4jvlk51</td>\n",
       "      <td>0</td>\n",
       "      <td>0</td>\n",
       "    </tr>\n",
       "    <tr>\n",
       "      <th>11</th>\n",
       "      <td>i8diucxaym671</td>\n",
       "      <td>0</td>\n",
       "      <td>1</td>\n",
       "    </tr>\n",
       "    <tr>\n",
       "      <th>12</th>\n",
       "      <td>io3vkc3665a61</td>\n",
       "      <td>1</td>\n",
       "      <td>0</td>\n",
       "    </tr>\n",
       "    <tr>\n",
       "      <th>13</th>\n",
       "      <td>jfpb344h1zc71</td>\n",
       "      <td>1</td>\n",
       "      <td>1</td>\n",
       "    </tr>\n",
       "    <tr>\n",
       "      <th>14</th>\n",
       "      <td>jnvsmjehrco51</td>\n",
       "      <td>1</td>\n",
       "      <td>0</td>\n",
       "    </tr>\n",
       "    <tr>\n",
       "      <th>15</th>\n",
       "      <td>jqvgobjg9zm51</td>\n",
       "      <td>1</td>\n",
       "      <td>1</td>\n",
       "    </tr>\n",
       "    <tr>\n",
       "      <th>16</th>\n",
       "      <td>jsbaj77ymtj61</td>\n",
       "      <td>0</td>\n",
       "      <td>0</td>\n",
       "    </tr>\n",
       "    <tr>\n",
       "      <th>17</th>\n",
       "      <td>k0ppi5f7ezl51</td>\n",
       "      <td>1</td>\n",
       "      <td>1</td>\n",
       "    </tr>\n",
       "    <tr>\n",
       "      <th>18</th>\n",
       "      <td>k8cbglj7q2y51</td>\n",
       "      <td>0</td>\n",
       "      <td>0</td>\n",
       "    </tr>\n",
       "    <tr>\n",
       "      <th>19</th>\n",
       "      <td>l1jhg9hs0ub61</td>\n",
       "      <td>0</td>\n",
       "      <td>0</td>\n",
       "    </tr>\n",
       "    <tr>\n",
       "      <th>20</th>\n",
       "      <td>ld05uslat3n51</td>\n",
       "      <td>1</td>\n",
       "      <td>1</td>\n",
       "    </tr>\n",
       "    <tr>\n",
       "      <th>21</th>\n",
       "      <td>lpg39tdh1bv51</td>\n",
       "      <td>0</td>\n",
       "      <td>1</td>\n",
       "    </tr>\n",
       "    <tr>\n",
       "      <th>22</th>\n",
       "      <td>m8webkagg7m61</td>\n",
       "      <td>0</td>\n",
       "      <td>1</td>\n",
       "    </tr>\n",
       "    <tr>\n",
       "      <th>23</th>\n",
       "      <td>n54pklj4xx371</td>\n",
       "      <td>0</td>\n",
       "      <td>1</td>\n",
       "    </tr>\n",
       "    <tr>\n",
       "      <th>24</th>\n",
       "      <td>nd05z9f53yj51</td>\n",
       "      <td>0</td>\n",
       "      <td>0</td>\n",
       "    </tr>\n",
       "    <tr>\n",
       "      <th>25</th>\n",
       "      <td>nmktwl1ulji51</td>\n",
       "      <td>0</td>\n",
       "      <td>0</td>\n",
       "    </tr>\n",
       "    <tr>\n",
       "      <th>26</th>\n",
       "      <td>nw042g4ww2f61</td>\n",
       "      <td>0</td>\n",
       "      <td>1</td>\n",
       "    </tr>\n",
       "    <tr>\n",
       "      <th>27</th>\n",
       "      <td>oamgmjzzd9161</td>\n",
       "      <td>0</td>\n",
       "      <td>0</td>\n",
       "    </tr>\n",
       "    <tr>\n",
       "      <th>28</th>\n",
       "      <td>v1jki6msfys51</td>\n",
       "      <td>1</td>\n",
       "      <td>1</td>\n",
       "    </tr>\n",
       "    <tr>\n",
       "      <th>29</th>\n",
       "      <td>vbf40hc5l7571</td>\n",
       "      <td>1</td>\n",
       "      <td>1</td>\n",
       "    </tr>\n",
       "    <tr>\n",
       "      <th>30</th>\n",
       "      <td>vhxb8ug61sa71</td>\n",
       "      <td>0</td>\n",
       "      <td>0</td>\n",
       "    </tr>\n",
       "    <tr>\n",
       "      <th>31</th>\n",
       "      <td>vv6vetoibk971</td>\n",
       "      <td>0</td>\n",
       "      <td>0</td>\n",
       "    </tr>\n",
       "    <tr>\n",
       "      <th>32</th>\n",
       "      <td>w9e9hk5ihzp61</td>\n",
       "      <td>0</td>\n",
       "      <td>1</td>\n",
       "    </tr>\n",
       "    <tr>\n",
       "      <th>33</th>\n",
       "      <td>wjha1sf516b71</td>\n",
       "      <td>0</td>\n",
       "      <td>0</td>\n",
       "    </tr>\n",
       "    <tr>\n",
       "      <th>34</th>\n",
       "      <td>wkgibcp6fro51</td>\n",
       "      <td>0</td>\n",
       "      <td>0</td>\n",
       "    </tr>\n",
       "    <tr>\n",
       "      <th>35</th>\n",
       "      <td>wocoyi48sgs51</td>\n",
       "      <td>1</td>\n",
       "      <td>0</td>\n",
       "    </tr>\n",
       "  </tbody>\n",
       "</table>\n",
       "</div>"
      ],
      "text/plain": [
       "   parent_file_train  parent_label_train  segment_predictions\n",
       "0      01avx2fm1t961                   1                    1\n",
       "1      143mdsnmvu461                   1                    1\n",
       "2      16dnw24q0jo51                   0                    0\n",
       "3      1fhp1vuk9h461                   0                    0\n",
       "4      1sm6gyfaqyb71                   1                    1\n",
       "5      37gpiutnlqj51                   0                    0\n",
       "6      3duf3yestck51                   1                    1\n",
       "7      3nr00989hhp51                   1                    0\n",
       "8      3nvn1lwacgg61                   0                    0\n",
       "9      hv7owj844s461                   1                    1\n",
       "10     i5es1l4jvlk51                   0                    0\n",
       "11     i8diucxaym671                   0                    1\n",
       "12     io3vkc3665a61                   1                    0\n",
       "13     jfpb344h1zc71                   1                    1\n",
       "14     jnvsmjehrco51                   1                    0\n",
       "15     jqvgobjg9zm51                   1                    1\n",
       "16     jsbaj77ymtj61                   0                    0\n",
       "17     k0ppi5f7ezl51                   1                    1\n",
       "18     k8cbglj7q2y51                   0                    0\n",
       "19     l1jhg9hs0ub61                   0                    0\n",
       "20     ld05uslat3n51                   1                    1\n",
       "21     lpg39tdh1bv51                   0                    1\n",
       "22     m8webkagg7m61                   0                    1\n",
       "23     n54pklj4xx371                   0                    1\n",
       "24     nd05z9f53yj51                   0                    0\n",
       "25     nmktwl1ulji51                   0                    0\n",
       "26     nw042g4ww2f61                   0                    1\n",
       "27     oamgmjzzd9161                   0                    0\n",
       "28     v1jki6msfys51                   1                    1\n",
       "29     vbf40hc5l7571                   1                    1\n",
       "30     vhxb8ug61sa71                   0                    0\n",
       "31     vv6vetoibk971                   0                    0\n",
       "32     w9e9hk5ihzp61                   0                    1\n",
       "33     wjha1sf516b71                   0                    0\n",
       "34     wkgibcp6fro51                   0                    0\n",
       "35     wocoyi48sgs51                   1                    0"
      ]
     },
     "execution_count": 304,
     "metadata": {},
     "output_type": "execute_result"
    }
   ],
   "source": [
    "max_parent_df_list = []\n",
    "\n",
    "for i in range(0,len(X_test_list)):\n",
    "    # Each dataset: agg, non oisy and noisy, find max segment predictions for each parent_file_train\n",
    "    df_i = X_test_list[i]\n",
    "    #display(df_i)\n",
    "    df_i_merged = df_i.groupby('parent_file_train')['segment_predictions'].max().reset_index()\n",
    "    \n",
    "    # Get parent label for each parent_file\n",
    "    #df_i = lst_df[i] \n",
    "    df_i_2 = df_i.groupby('parent_file_train')['parent_label_train'].max().reset_index()\n",
    "    df_i_merged = df_i_2.merge(df_i_merged, on='parent_file_train')\n",
    "    max_parent_df_list.append(df_i_merged)\n",
    "    \n",
    "    confusion_matrix_graph(f\"SVM - Group {i+1}\", df_i_merged['parent_label_train'], df_i_merged['segment_predictions'], ['0', '1'])\n",
    "\n",
    "max_parent_df_list[0]"
   ]
  },
  {
   "cell_type": "markdown",
   "metadata": {},
   "source": [
    "This seems to be the way to go for noisy, middle levels cannot be teased out with the background sound and overlapping voices"
   ]
  },
  {
   "cell_type": "markdown",
   "metadata": {},
   "source": [
    "## Conclusions:"
   ]
  },
  {
   "cell_type": "markdown",
   "metadata": {},
   "source": [
    "### We can get slightly better models (approx 8%) by combining the levels, however, this is further from our original research question and it is more interesting to classify both noisy and non-noisy with the same levels. Because of this we will select balanced sampled original (4 class) classification, to conintue onto the other models"
   ]
  },
  {
   "cell_type": "markdown",
   "metadata": {},
   "source": [
    "# XG BOOST model"
   ]
  }
 ],
 "metadata": {
  "colab": {
   "name": "modelling.ipynb",
   "provenance": []
  },
  "kernelspec": {
   "display_name": "Python 3 (ipykernel)",
   "language": "python",
   "name": "python3"
  },
  "language_info": {
   "codemirror_mode": {
    "name": "ipython",
    "version": 3
   },
   "file_extension": ".py",
   "mimetype": "text/x-python",
   "name": "python",
   "nbconvert_exporter": "python",
   "pygments_lexer": "ipython3",
   "version": "3.9.7"
  }
 },
 "nbformat": 4,
 "nbformat_minor": 4
}
