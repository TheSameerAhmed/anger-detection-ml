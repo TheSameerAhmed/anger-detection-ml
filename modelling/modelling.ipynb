{
  "cells": [
    {
      "cell_type": "markdown",
      "metadata": {
        "id": "j_ozxaRrIh9Z"
      },
      "source": [
        "# Installing Packages"
      ]
    },
    {
      "cell_type": "code",
      "execution_count": null,
      "metadata": {
        "id": "2GHuvxosIa4X"
      },
      "outputs": [],
      "source": [
        "import sys\n",
        "!{sys.executable} -m pip install numpy\n",
        "!{sys.executable} -m pip install pandas\n",
        "!{sys.executable} -m pip install sklearn\n",
        "!{sys.executable} -m pip install yellowbrick\n",
        "!{sys.executable} -m pip install matplot\n",
        "!{sys.executable} -m pip install seaborn"
      ]
    },
    {
      "cell_type": "markdown",
      "metadata": {
        "id": "Fu_qT147Kqdi"
      },
      "source": [
        "# Preprocessing of Data"
      ]
    },
    {
      "cell_type": "code",
      "execution_count": 1,
      "metadata": {
        "id": "BfgCO5ddTvvc"
      },
      "outputs": [],
      "source": [
        "import os\n",
        "import numpy as np\n",
        "import pandas as pd\n",
        "\n",
        "# Helper function: simply reads a csv file and return it as a dataframe\n",
        "def read_data(data_file):\n",
        "  data_df = pd.read_csv(data_file)\n",
        "  return data_df\n",
        "\n",
        "def drop_features(data_df, features_to_drop):\n",
        "  return data_df.drop(columns=features_to_drop, inplace=True)\n",
        "\n",
        "def segregate_noisy_data(data_df):\n",
        "  non_noisy_df = data_df.loc[(data_df['noisy_train'] == 0)]\n",
        "  noisy_df = data_df.loc[(data_df['noisy_train'] == 1)]\n",
        "  return non_noisy_df, noisy_df\n",
        "\n",
        "def remove_noisy_data(data_df):\n",
        "  print(f'''Rows dropped because of low duration: \n",
        "        {len(data_df[data_df['noisy'] == 1])}\\n''')\n",
        "  \n",
        "  return data_df.drop(data_df[data_df['noisy'] == 1].index, inplace=True)\n",
        "\n",
        "# Helper function: cleans data based on xyz\n",
        "def preprocessing_data(data_df, labels):\n",
        "\n",
        "  # Clean data based on duration value\n",
        "  print(f'''Rows dropped because of low duration: \\\n",
        "        {len(data_df[data_df['duration'] < 2])}\\n''')\n",
        "  \n",
        "  data_df.drop(data_df[data_df['duration'] < 2].index, inplace=True)\n",
        "\n",
        "  # Extract filenames and labels\n",
        "  filenames = data_df['file_name'].values.tolist()\n",
        "  data_label = data_df.filter(items=labels)\n",
        "\n",
        "  return (data_df, filenames, data_label)\n"
      ]
    },
    {
      "cell_type": "markdown",
      "metadata": {
        "id": "TqSpDpc8RsyO"
      },
      "source": [
        "Read Data"
      ]
    },
    {
      "cell_type": "code",
      "execution_count": 2,
      "metadata": {
        "id": "ZBRuRV8TGev2"
      },
      "outputs": [],
      "source": [
        "# Fetch .csv file and store it as a dataframe\n",
        "aggression_data_df = read_data('./extracted/full-train-features.csv')"
      ]
    },
    {
      "cell_type": "markdown",
      "metadata": {
        "id": "eG5ZopxiGi3X"
      },
      "source": [
        "Setup features to drop and to set up as labels"
      ]
    },
    {
      "cell_type": "code",
      "execution_count": 3,
      "metadata": {
        "id": "rzj-CqoVGpF8"
      },
      "outputs": [],
      "source": [
        "feature_labels = ['parent_label_train', 'segment_label_train']\n",
        "\n",
        "features_to_drop = ['file_name', 'duration','get_number_sylls',\n",
        "                    'get_number_words', 'pauses', 'parent_file_train',\n",
        "                    'number_of_segments_train', 'number_of_voices_parent_train',\n",
        "                    'extra_sounds_train', 'parent_label_train',\n",
        "                    'segment_label_train', 'noisy_train', 'Notes_train']"
      ]
    },
    {
      "cell_type": "markdown",
      "metadata": {
        "id": "rLxvf37GGtVh"
      },
      "source": [
        "Run preprocessing of data"
      ]
    },
    {
      "cell_type": "code",
      "execution_count": 4,
      "metadata": {
        "colab": {
          "base_uri": "https://localhost:8080/"
        },
        "id": "dV19fTgKG0se",
        "outputId": "29bf7360-eb4f-4f90-e41e-5584e0819b40"
      },
      "outputs": [
        {
          "name": "stdout",
          "output_type": "stream",
          "text": [
            "Shape of the data before cleaning it: (2147, 23)\n",
            "\n",
            "                      file_name  duration  analyse_harmonics  \\\n",
            "2142  xdz15thrnem51_processed_5      10.0           5.465491   \n",
            "2143  xdz15thrnem51_processed_6      10.0           6.879443   \n",
            "2144  xdz15thrnem51_processed_7      10.0           4.468770   \n",
            "2145  xdz15thrnem51_processed_8      10.0           8.581945   \n",
            "2146  xdz15thrnem51_processed_9      10.0           2.829222   \n",
            "\n",
            "      get_number_sylls  get_number_words  pauses get_max_intensity  \\\n",
            "2142               1.3               1.0     0.1       104.1138965   \n",
            "2143               0.2               0.3     0.1        108.028173   \n",
            "2144               1.8               1.1     0.1       104.6782678   \n",
            "2145               0.3               0.1     0.1        109.335715   \n",
            "2146               0.6               0.6     0.1       105.4555978   \n",
            "\n",
            "      analyse_intensity  analyse_pitch  analyse_pitch_range  ...  \\\n",
            "2142          69.550541     199.893943           443.057705  ...   \n",
            "2143          75.501002     258.536830           379.915372  ...   \n",
            "2144          71.100226     194.904220           493.340814  ...   \n",
            "2145          76.784989     285.988051           520.259229  ...   \n",
            "2146          74.654532     186.190085           486.287854  ...   \n",
            "\n",
            "      mean_spectral_rolloff  get_energy  parent_file_train  \\\n",
            "2142            1002.676098    0.036482      xdz15thrnem51   \n",
            "2143            1023.670363    0.141290      xdz15thrnem51   \n",
            "2144             980.207236    0.051732      xdz15thrnem51   \n",
            "2145            1146.211888    0.190454      xdz15thrnem51   \n",
            "2146             698.359229    0.116369      xdz15thrnem51   \n",
            "\n",
            "      number_of_segments_train  number_of_voices_parent_train  \\\n",
            "2142                        14                              7   \n",
            "2143                        14                              7   \n",
            "2144                        14                              7   \n",
            "2145                        14                              7   \n",
            "2146                        14                              7   \n",
            "\n",
            "     extra_sounds_train  parent_label_train  segment_label_train noisy_train  \\\n",
            "2142                NaN                   2                    1           0   \n",
            "2143                NaN                   2                    2           0   \n",
            "2144                NaN                   2                    1           0   \n",
            "2145               cops                   2                    2           0   \n",
            "2146                NaN                   2                    1           0   \n",
            "\n",
            "      Notes_train  \n",
            "2142          NaN  \n",
            "2143          NaN  \n",
            "2144          NaN  \n",
            "2145          NaN  \n",
            "2146          NaN  \n",
            "\n",
            "[5 rows x 23 columns]\n",
            "Rows dropped because of low duration:         36\n",
            "\n",
            "Shape of the data after cleaning it: (2111, 23) \n",
            "\n"
          ]
        }
      ],
      "source": [
        "print(f'Shape of the data before cleaning it: {aggression_data_df.shape}\\n')\n",
        "print(aggression_data_df.tail())\n",
        "\n",
        "aggression_data_df, filenames, labels = preprocessing_data(aggression_data_df,\n",
        "                                                           feature_labels)\n",
        "\n",
        "print(f'Shape of the data after cleaning it: {aggression_data_df.shape} \\n')"
      ]
    },
    {
      "cell_type": "markdown",
      "metadata": {
        "id": "pOt02qQWG8lR"
      },
      "source": [
        "Segregate data based on noisy vs not noisy"
      ]
    },
    {
      "cell_type": "code",
      "execution_count": 5,
      "metadata": {
        "colab": {
          "base_uri": "https://localhost:8080/"
        },
        "id": "K-y5PqPrHHsY",
        "outputId": "577d9820-8b2e-42c4-f6a1-a1bd6ae02689"
      },
      "outputs": [
        {
          "name": "stdout",
          "output_type": "stream",
          "text": [
            "Shape of noisy data: (262, 23) \n",
            "\n",
            "Shape of non noisy data: (1849, 23)\n",
            "\n"
          ]
        }
      ],
      "source": [
        "non_noisy_df, noisy_df = segregate_noisy_data(aggression_data_df)\n",
        "\n",
        "print(f\"Shape of noisy data: {noisy_df.shape} \\n\")\n",
        "print(f\"Shape of non noisy data: {non_noisy_df.shape}\\n\")"
      ]
    },
    {
      "cell_type": "markdown",
      "metadata": {
        "id": "CctT48C0HJvp"
      },
      "source": [
        "Drop features"
      ]
    },
    {
      "cell_type": "code",
      "execution_count": 6,
      "metadata": {
        "colab": {
          "base_uri": "https://localhost:8080/"
        },
        "id": "J5P-qp1fRpXR",
        "outputId": "36c26193-a7a2-4213-b9a6-3e70b93587f3"
      },
      "outputs": [
        {
          "name": "stdout",
          "output_type": "stream",
          "text": [
            "Shape of the data before dropping features: (2111, 23) \n",
            "\n",
            "Shape of the data after dropping features: (2111, 10) \n",
            "\n",
            "      analyse_harmonics get_max_intensity  analyse_intensity  analyse_pitch  \\\n",
            "2142           5.465491       104.1138965          69.550541     199.893943   \n",
            "2143           6.879443        108.028173          75.501002     258.536830   \n",
            "2144           4.468770       104.6782678          71.100226     194.904220   \n",
            "2145           8.581945        109.335715          76.784989     285.988051   \n",
            "2146           2.829222       105.4555978          74.654532     186.190085   \n",
            "\n",
            "      analyse_pitch_range  analyse_shimmer  analyse_jitter  spectral_slope  \\\n",
            "2142           443.057705         0.196757        0.033226       -0.020890   \n",
            "2143           379.915372         0.149580        0.024206       -0.081411   \n",
            "2144           493.340814         0.162628        0.034465       -0.028155   \n",
            "2145           520.259229         0.149758        0.022509       -0.108299   \n",
            "2146           486.287854         0.195173        0.034362       -0.081877   \n",
            "\n",
            "      mean_spectral_rolloff  get_energy  \n",
            "2142            1002.676098    0.036482  \n",
            "2143            1023.670363    0.141290  \n",
            "2144             980.207236    0.051732  \n",
            "2145            1146.211888    0.190454  \n",
            "2146             698.359229    0.116369  \n"
          ]
        }
      ],
      "source": [
        "# remove features\n",
        "print(f'Shape of the data before dropping features: {aggression_data_df.shape} \\n')\n",
        "drop_features(aggression_data_df, features_to_drop)\n",
        "\n",
        "print(f'Shape of the data after dropping features: {aggression_data_df.shape} \\n')\n",
        "print(aggression_data_df.tail())"
      ]
    },
    {
      "cell_type": "markdown",
      "metadata": {
        "id": "b5-kkxKTXVdI"
      },
      "source": [
        "### Analyze what features to drop"
      ]
    },
    {
      "cell_type": "code",
      "execution_count": 7,
      "metadata": {
        "colab": {
          "base_uri": "https://localhost:8080/"
        },
        "id": "fW3JdssSXoRP",
        "outputId": "671d643d-89b8-4cc9-9f33-e55aa7ac86f7"
      },
      "outputs": [
        {
          "name": "stdout",
          "output_type": "stream",
          "text": [
            "analyse_harmonics        0\n",
            "get_max_intensity        0\n",
            "analyse_intensity        0\n",
            "analyse_pitch            1\n",
            "analyse_pitch_range      1\n",
            "analyse_shimmer          1\n",
            "analyse_jitter           1\n",
            "spectral_slope           0\n",
            "mean_spectral_rolloff    0\n",
            "get_energy               0\n",
            "dtype: int64\n"
          ]
        }
      ],
      "source": [
        "print(aggression_data_df.isnull().sum(axis = 0))"
      ]
    },
    {
      "cell_type": "code",
      "execution_count": null,
      "metadata": {
        "id": "9giLwP3VbnJ0"
      },
      "outputs": [],
      "source": []
    }
  ],
  "metadata": {
    "colab": {
      "name": "Modelling.ipynb",
      "provenance": []
    },
    "kernelspec": {
      "display_name": "Python 3",
      "name": "python3"
    },
    "language_info": {
      "codemirror_mode": {
        "name": "ipython",
        "version": 3
      },
      "file_extension": ".py",
      "mimetype": "text/x-python",
      "name": "python",
      "nbconvert_exporter": "python",
      "pygments_lexer": "ipython3",
      "version": "3.9.2"
    }
  },
  "nbformat": 4,
  "nbformat_minor": 0
}
