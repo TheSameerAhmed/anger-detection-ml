{
  "cells": [
    {
      "cell_type": "markdown",
      "metadata": {
        "id": "j_ozxaRrIh9Z"
      },
      "source": [
        "# Installing Packages"
      ]
    },
    {
      "cell_type": "code",
      "execution_count": null,
      "metadata": {
        "id": "2GHuvxosIa4X"
      },
      "outputs": [],
      "source": [
        "import sys\n",
        "!{sys.executable} -m pip install numpy\n",
        "!{sys.executable} -m pip install pandas\n",
        "!{sys.executable} -m pip install sklearn\n",
        "!{sys.executable} -m pip install yellowbrick\n",
        "!{sys.executable} -m pip install matplot\n",
        "!{sys.executable} -m pip install seaborn"
      ]
    },
    {
      "cell_type": "markdown",
      "metadata": {
        "id": "Fu_qT147Kqdi"
      },
      "source": [
        "# Preprocessing of Data"
      ]
    },
    {
      "cell_type": "code",
      "execution_count": 109,
      "metadata": {
        "id": "BfgCO5ddTvvc"
      },
      "outputs": [],
      "source": [
        "import os\n",
        "import numpy as np\n",
        "import pandas as pd\n",
        "\n",
        "# Helper function: simply reads a csv file and return it as a dataframe\n",
        "def read_data(data_file):\n",
        "  data_df = pd.read_csv(data_file)\n",
        "  return data_df\n",
        "\n",
        "def drop_features(data_df, features_to_drop):\n",
        "  return data_df.drop(columns=features_to_drop, inplace=True)\n",
        "\n",
        "def segregate_noisy_data(data_df):\n",
        "  non_noisy_df = data_df.loc[(data_df['noisy_train'] == 0)]\n",
        "  noisy_df = data_df.loc[(data_df['noisy_train'] == 1)]\n",
        "  return non_noisy_df, noisy_df\n",
        "\n",
        "def remove_noisy_data(data_df):\n",
        "  print(f'''Rows dropped because of low duration: \n",
        "        {len(data_df[data_df['noisy'] == 1])}\\n''')\n",
        "  \n",
        "  return data_df.drop(data_df[data_df['noisy'] == 1].index, inplace=True)\n",
        "\n",
        "# Helper function: cleans data based on xyz\n",
        "def preprocessing_data(data_df):\n",
        "\n",
        "  # Clean data based on duration value\n",
        "  print(f'''Rows dropped because of low duration: \\\n",
        "        {len(data_df[data_df['duration'] < 2])}\\n''')\n",
        "  \n",
        "  data_df.drop(data_df[data_df['duration'] < 2].index, inplace=True)\n",
        "\n",
        "  # Extract filenames\n",
        "  filenames = data_df['file_name'].values.tolist()\n",
        "\n",
        "  return (data_df, filenames)\n"
      ]
    },
    {
      "cell_type": "markdown",
      "metadata": {
        "id": "TqSpDpc8RsyO"
      },
      "source": [
        "Read Data"
      ]
    },
    {
      "cell_type": "code",
      "execution_count": 112,
      "metadata": {
        "id": "ZBRuRV8TGev2"
      },
      "outputs": [],
      "source": [
        "# Fetch .csv file and store it as a dataframe\n",
        "aggression_data_df = read_data('../extracted/full-train-features.csv')"
      ]
    },
    {
      "cell_type": "markdown",
      "metadata": {
        "id": "rLxvf37GGtVh"
      },
      "source": [
        "Extract data, filenames and labels after preprocessing data"
      ]
    },
    {
      "cell_type": "code",
      "execution_count": 113,
      "metadata": {
        "colab": {
          "base_uri": "https://localhost:8080/"
        },
        "id": "dV19fTgKG0se",
        "outputId": "29bf7360-eb4f-4f90-e41e-5584e0819b40"
      },
      "outputs": [
        {
          "name": "stdout",
          "output_type": "stream",
          "text": [
            "Shape of the data before cleaning it: (2147, 23)\n",
            "\n",
            "                      file_name  duration  analyse_harmonics  \\\n",
            "2142  xdz15thrnem51_processed_5      10.0           5.465491   \n",
            "2143  xdz15thrnem51_processed_6      10.0           6.879443   \n",
            "2144  xdz15thrnem51_processed_7      10.0           4.468770   \n",
            "2145  xdz15thrnem51_processed_8      10.0           8.581945   \n",
            "2146  xdz15thrnem51_processed_9      10.0           2.829222   \n",
            "\n",
            "      get_number_sylls  get_number_words  pauses get_max_intensity  \\\n",
            "2142               1.3               1.0     0.1       104.1138965   \n",
            "2143               0.2               0.3     0.1        108.028173   \n",
            "2144               1.8               1.1     0.1       104.6782678   \n",
            "2145               0.3               0.1     0.1        109.335715   \n",
            "2146               0.6               0.6     0.1       105.4555978   \n",
            "\n",
            "      analyse_intensity  analyse_pitch  analyse_pitch_range  ...  \\\n",
            "2142          69.550541     199.893943           443.057705  ...   \n",
            "2143          75.501002     258.536830           379.915372  ...   \n",
            "2144          71.100226     194.904220           493.340814  ...   \n",
            "2145          76.784989     285.988051           520.259229  ...   \n",
            "2146          74.654532     186.190085           486.287854  ...   \n",
            "\n",
            "      mean_spectral_rolloff  get_energy  parent_file_train  \\\n",
            "2142            1002.676098    0.036482      xdz15thrnem51   \n",
            "2143            1023.670363    0.141290      xdz15thrnem51   \n",
            "2144             980.207236    0.051732      xdz15thrnem51   \n",
            "2145            1146.211888    0.190454      xdz15thrnem51   \n",
            "2146             698.359229    0.116369      xdz15thrnem51   \n",
            "\n",
            "      number_of_segments_train  number_of_voices_parent_train  \\\n",
            "2142                        14                              7   \n",
            "2143                        14                              7   \n",
            "2144                        14                              7   \n",
            "2145                        14                              7   \n",
            "2146                        14                              7   \n",
            "\n",
            "     extra_sounds_train  parent_label_train  segment_label_train noisy_train  \\\n",
            "2142                NaN                   2                    1           0   \n",
            "2143                NaN                   2                    2           0   \n",
            "2144                NaN                   2                    1           0   \n",
            "2145               cops                   2                    2           0   \n",
            "2146                NaN                   2                    1           0   \n",
            "\n",
            "      Notes_train  \n",
            "2142          NaN  \n",
            "2143          NaN  \n",
            "2144          NaN  \n",
            "2145          NaN  \n",
            "2146          NaN  \n",
            "\n",
            "[5 rows x 23 columns]\n",
            "Rows dropped because of low duration:         36\n",
            "\n",
            "Shape of the data after cleaning it: (2111, 23) \n",
            "\n"
          ]
        }
      ],
      "source": [
        "print(f'Shape of the data before cleaning it: {aggression_data_df.shape}\\n')\n",
        "print(aggression_data_df.tail())\n",
        "\n",
        "aggression_data_df, filenames = preprocessing_data(aggression_data_df)\n",
        "\n",
        "print(f'Shape of the data after cleaning it: {aggression_data_df.shape} \\n')"
      ]
    },
    {
      "cell_type": "markdown",
      "metadata": {
        "id": "pOt02qQWG8lR"
      },
      "source": [
        "Segregate data based on noisy vs not noisy"
      ]
    },
    {
      "cell_type": "code",
      "execution_count": 114,
      "metadata": {
        "colab": {
          "base_uri": "https://localhost:8080/"
        },
        "id": "K-y5PqPrHHsY",
        "outputId": "577d9820-8b2e-42c4-f6a1-a1bd6ae02689"
      },
      "outputs": [
        {
          "name": "stdout",
          "output_type": "stream",
          "text": [
            "Shape of noisy data: (262, 23) \n",
            "\n",
            "Shape of non noisy data: (1849, 23)\n",
            "\n"
          ]
        }
      ],
      "source": [
        "non_noisy_df, noisy_df = segregate_noisy_data(aggression_data_df)\n",
        "\n",
        "print(f\"Shape of noisy data: {noisy_df.shape} \\n\")\n",
        "print(f\"Shape of non noisy data: {non_noisy_df.shape}\\n\")"
      ]
    },
    {
      "cell_type": "markdown",
      "metadata": {
        "id": "CctT48C0HJvp"
      },
      "source": [
        "Drop features"
      ]
    },
    {
      "cell_type": "code",
      "execution_count": 115,
      "metadata": {
        "colab": {
          "base_uri": "https://localhost:8080/"
        },
        "id": "J5P-qp1fRpXR",
        "outputId": "36c26193-a7a2-4213-b9a6-3e70b93587f3"
      },
      "outputs": [
        {
          "name": "stdout",
          "output_type": "stream",
          "text": [
            "Shape of the data before dropping features: (2111, 23) \n",
            "\n",
            "Shape of the data after dropping features: (2111, 12) \n",
            "\n",
            "      analyse_harmonics get_max_intensity  analyse_intensity  analyse_pitch  \\\n",
            "2142           5.465491       104.1138965          69.550541     199.893943   \n",
            "2143           6.879443        108.028173          75.501002     258.536830   \n",
            "2144           4.468770       104.6782678          71.100226     194.904220   \n",
            "2145           8.581945        109.335715          76.784989     285.988051   \n",
            "2146           2.829222       105.4555978          74.654532     186.190085   \n",
            "\n",
            "      analyse_pitch_range  analyse_shimmer  analyse_jitter  spectral_slope  \\\n",
            "2142           443.057705         0.196757        0.033226       -0.020890   \n",
            "2143           379.915372         0.149580        0.024206       -0.081411   \n",
            "2144           493.340814         0.162628        0.034465       -0.028155   \n",
            "2145           520.259229         0.149758        0.022509       -0.108299   \n",
            "2146           486.287854         0.195173        0.034362       -0.081877   \n",
            "\n",
            "      mean_spectral_rolloff  get_energy  parent_label_train  \\\n",
            "2142            1002.676098    0.036482                   2   \n",
            "2143            1023.670363    0.141290                   2   \n",
            "2144             980.207236    0.051732                   2   \n",
            "2145            1146.211888    0.190454                   2   \n",
            "2146             698.359229    0.116369                   2   \n",
            "\n",
            "      segment_label_train  \n",
            "2142                    1  \n",
            "2143                    2  \n",
            "2144                    1  \n",
            "2145                    2  \n",
            "2146                    1  \n"
          ]
        }
      ],
      "source": [
        "features_to_drop = ['file_name', 'duration','get_number_sylls',\n",
        "                    'get_number_words', 'pauses', 'parent_file_train',\n",
        "                    'number_of_segments_train', 'number_of_voices_parent_train',\n",
        "                    'extra_sounds_train', 'noisy_train', 'Notes_train']\n",
        "\n",
        "# remove features\n",
        "print(f'Shape of the data before dropping features: {aggression_data_df.shape} \\n')\n",
        "drop_features(aggression_data_df, features_to_drop)\n",
        "\n",
        "print(f'Shape of the data after dropping features: {aggression_data_df.shape} \\n')\n",
        "print(aggression_data_df.tail())"
      ]
    },
    {
      "cell_type": "markdown",
      "metadata": {
        "id": "b5-kkxKTXVdI"
      },
      "source": [
        "### Analyze what features to drop"
      ]
    },
    {
      "cell_type": "code",
      "execution_count": 116,
      "metadata": {
        "colab": {
          "base_uri": "https://localhost:8080/"
        },
        "id": "fW3JdssSXoRP",
        "outputId": "671d643d-89b8-4cc9-9f33-e55aa7ac86f7"
      },
      "outputs": [
        {
          "data": {
            "text/plain": [
              "analyse_harmonics        0\n",
              "get_max_intensity        0\n",
              "analyse_intensity        0\n",
              "analyse_pitch            1\n",
              "analyse_pitch_range      1\n",
              "analyse_shimmer          1\n",
              "analyse_jitter           1\n",
              "spectral_slope           0\n",
              "mean_spectral_rolloff    0\n",
              "get_energy               0\n",
              "parent_label_train       0\n",
              "segment_label_train      0\n",
              "dtype: int64"
            ]
          },
          "execution_count": 116,
          "metadata": {},
          "output_type": "execute_result"
        }
      ],
      "source": [
        "aggression_data_df.isnull().sum(axis = 0)"
      ]
    },
    {
      "cell_type": "markdown",
      "metadata": {},
      "source": [
        "Remove rows that has `NaN` as one of the feature values"
      ]
    },
    {
      "cell_type": "code",
      "execution_count": 117,
      "metadata": {},
      "outputs": [
        {
          "data": {
            "text/plain": [
              "(2110, 12)"
            ]
          },
          "execution_count": 117,
          "metadata": {},
          "output_type": "execute_result"
        }
      ],
      "source": [
        "aggression_data_df.dropna(inplace=True)\n",
        "aggression_data_df.shape\n"
      ]
    },
    {
      "cell_type": "markdown",
      "metadata": {},
      "source": [
        "Convert values in 'get_max_intensity' from string to float "
      ]
    },
    {
      "cell_type": "code",
      "execution_count": 118,
      "metadata": {
        "id": "9giLwP3VbnJ0"
      },
      "outputs": [
        {
          "data": {
            "text/html": [
              "<div>\n",
              "<style scoped>\n",
              "    .dataframe tbody tr th:only-of-type {\n",
              "        vertical-align: middle;\n",
              "    }\n",
              "\n",
              "    .dataframe tbody tr th {\n",
              "        vertical-align: top;\n",
              "    }\n",
              "\n",
              "    .dataframe thead th {\n",
              "        text-align: right;\n",
              "    }\n",
              "</style>\n",
              "<table border=\"1\" class=\"dataframe\">\n",
              "  <thead>\n",
              "    <tr style=\"text-align: right;\">\n",
              "      <th></th>\n",
              "      <th>analyse_harmonics</th>\n",
              "      <th>get_max_intensity</th>\n",
              "      <th>analyse_intensity</th>\n",
              "      <th>analyse_pitch</th>\n",
              "      <th>analyse_pitch_range</th>\n",
              "      <th>analyse_shimmer</th>\n",
              "      <th>analyse_jitter</th>\n",
              "      <th>spectral_slope</th>\n",
              "      <th>mean_spectral_rolloff</th>\n",
              "      <th>get_energy</th>\n",
              "      <th>parent_label_train</th>\n",
              "      <th>segment_label_train</th>\n",
              "    </tr>\n",
              "  </thead>\n",
              "  <tbody>\n",
              "    <tr>\n",
              "      <th>2142</th>\n",
              "      <td>5.465491</td>\n",
              "      <td>104.113896</td>\n",
              "      <td>69.550541</td>\n",
              "      <td>199.893943</td>\n",
              "      <td>443.057705</td>\n",
              "      <td>0.196757</td>\n",
              "      <td>0.033226</td>\n",
              "      <td>-0.020890</td>\n",
              "      <td>1002.676098</td>\n",
              "      <td>0.036482</td>\n",
              "      <td>2</td>\n",
              "      <td>1</td>\n",
              "    </tr>\n",
              "    <tr>\n",
              "      <th>2143</th>\n",
              "      <td>6.879443</td>\n",
              "      <td>108.028173</td>\n",
              "      <td>75.501002</td>\n",
              "      <td>258.536830</td>\n",
              "      <td>379.915372</td>\n",
              "      <td>0.149580</td>\n",
              "      <td>0.024206</td>\n",
              "      <td>-0.081411</td>\n",
              "      <td>1023.670363</td>\n",
              "      <td>0.141290</td>\n",
              "      <td>2</td>\n",
              "      <td>2</td>\n",
              "    </tr>\n",
              "    <tr>\n",
              "      <th>2144</th>\n",
              "      <td>4.468770</td>\n",
              "      <td>104.678268</td>\n",
              "      <td>71.100226</td>\n",
              "      <td>194.904220</td>\n",
              "      <td>493.340814</td>\n",
              "      <td>0.162628</td>\n",
              "      <td>0.034465</td>\n",
              "      <td>-0.028155</td>\n",
              "      <td>980.207236</td>\n",
              "      <td>0.051732</td>\n",
              "      <td>2</td>\n",
              "      <td>1</td>\n",
              "    </tr>\n",
              "    <tr>\n",
              "      <th>2145</th>\n",
              "      <td>8.581945</td>\n",
              "      <td>109.335715</td>\n",
              "      <td>76.784989</td>\n",
              "      <td>285.988051</td>\n",
              "      <td>520.259229</td>\n",
              "      <td>0.149758</td>\n",
              "      <td>0.022509</td>\n",
              "      <td>-0.108299</td>\n",
              "      <td>1146.211888</td>\n",
              "      <td>0.190454</td>\n",
              "      <td>2</td>\n",
              "      <td>2</td>\n",
              "    </tr>\n",
              "    <tr>\n",
              "      <th>2146</th>\n",
              "      <td>2.829222</td>\n",
              "      <td>105.455598</td>\n",
              "      <td>74.654532</td>\n",
              "      <td>186.190085</td>\n",
              "      <td>486.287854</td>\n",
              "      <td>0.195173</td>\n",
              "      <td>0.034362</td>\n",
              "      <td>-0.081877</td>\n",
              "      <td>698.359229</td>\n",
              "      <td>0.116369</td>\n",
              "      <td>2</td>\n",
              "      <td>1</td>\n",
              "    </tr>\n",
              "  </tbody>\n",
              "</table>\n",
              "</div>"
            ],
            "text/plain": [
              "      analyse_harmonics  get_max_intensity  analyse_intensity  analyse_pitch  \\\n",
              "2142           5.465491         104.113896          69.550541     199.893943   \n",
              "2143           6.879443         108.028173          75.501002     258.536830   \n",
              "2144           4.468770         104.678268          71.100226     194.904220   \n",
              "2145           8.581945         109.335715          76.784989     285.988051   \n",
              "2146           2.829222         105.455598          74.654532     186.190085   \n",
              "\n",
              "      analyse_pitch_range  analyse_shimmer  analyse_jitter  spectral_slope  \\\n",
              "2142           443.057705         0.196757        0.033226       -0.020890   \n",
              "2143           379.915372         0.149580        0.024206       -0.081411   \n",
              "2144           493.340814         0.162628        0.034465       -0.028155   \n",
              "2145           520.259229         0.149758        0.022509       -0.108299   \n",
              "2146           486.287854         0.195173        0.034362       -0.081877   \n",
              "\n",
              "      mean_spectral_rolloff  get_energy  parent_label_train  \\\n",
              "2142            1002.676098    0.036482                   2   \n",
              "2143            1023.670363    0.141290                   2   \n",
              "2144             980.207236    0.051732                   2   \n",
              "2145            1146.211888    0.190454                   2   \n",
              "2146             698.359229    0.116369                   2   \n",
              "\n",
              "      segment_label_train  \n",
              "2142                    1  \n",
              "2143                    2  \n",
              "2144                    1  \n",
              "2145                    2  \n",
              "2146                    1  "
            ]
          },
          "execution_count": 118,
          "metadata": {},
          "output_type": "execute_result"
        }
      ],
      "source": [
        "aggression_data_df['get_max_intensity'] = pd.to_numeric(aggression_data_df['get_max_intensity'])\n",
        "\n",
        "aggression_data_df.tail()"
      ]
    },
    {
      "cell_type": "markdown",
      "metadata": {},
      "source": [
        "Segregate data df and label df"
      ]
    },
    {
      "cell_type": "code",
      "execution_count": 119,
      "metadata": {},
      "outputs": [
        {
          "name": "stdout",
          "output_type": "stream",
          "text": [
            "(2110, 2)\n",
            "(2110, 10)\n"
          ]
        }
      ],
      "source": [
        "feature_labels = ['parent_label_train', 'segment_label_train']\n",
        "\n",
        "label_df = aggression_data_df.filter(items=feature_labels)\n",
        "aggression_df = aggression_data_df.drop(columns=feature_labels)\n",
        "\n",
        "print(label_df.shape)\n",
        "print(aggression_df.shape)"
      ]
    },
    {
      "cell_type": "markdown",
      "metadata": {},
      "source": [
        "# Standardization"
      ]
    },
    {
      "cell_type": "code",
      "execution_count": 120,
      "metadata": {},
      "outputs": [],
      "source": [
        "from sklearn.preprocessing import StandardScaler\n",
        "\n",
        "# Helper fucntion: returns a standardized dataframe\n",
        "def standardize(df):\n",
        "    features = df.columns\n",
        "    values_array = df.loc[:, features].values\n",
        "\n",
        "    # Print data before standardization to compare\n",
        "\n",
        "    print(\"Before Standardization \\n\")\n",
        "    print(\"Mean and Standard Deviation\")\n",
        "    print(f\"Mean = {np.mean(values_array)} ; Standard Deviation = {np.std(values_array)}\")\n",
        "    print(f\"Shape to verify: {values_array.shape} \\n\")\n",
        "    print(f\"Tail of the data pre standardization: \\n{values_array[-5:]} \\n\\n\")\n",
        "\n",
        "    # Invoke standardization\n",
        "\n",
        "    values_array = StandardScaler().fit_transform(values_array)\n",
        "\n",
        "    # Print data after standardization to compare\n",
        "\n",
        "    print(\"After Standardization \\n\")\n",
        "    print(\"Mean and Standard Deviation\")\n",
        "    print(f\"Mean = {np.mean(values_array)} ; Standard Deviation = {np.std(values_array)}\")\n",
        "    print(f\"Shape to verify: {values_array.shape}\")\n",
        "    print(f\"Tail of the data post standardization: \\n{values_array[-5:]}\")\n",
        "\n",
        "    return pd.DataFrame(values_array, columns=features)"
      ]
    },
    {
      "cell_type": "markdown",
      "metadata": {},
      "source": [
        "Run standardization"
      ]
    },
    {
      "cell_type": "code",
      "execution_count": 121,
      "metadata": {},
      "outputs": [
        {
          "name": "stdout",
          "output_type": "stream",
          "text": [
            "Before Standardization \n",
            "\n",
            "Mean and Standard Deviation\n",
            "Mean = 207.03214462485482 ; Standard Deviation = 405.89809500083527\n",
            "Shape to verify: (2110, 10) \n",
            "\n",
            "Tail of the data pre standardization: \n",
            "[[ 5.46549109e+00  1.04113896e+02  6.95505405e+01  1.99893943e+02\n",
            "   4.43057705e+02  1.96756913e-01  3.32257430e-02 -2.08904800e-02\n",
            "   1.00267610e+03  3.64816420e-02]\n",
            " [ 6.87944281e+00  1.08028173e+02  7.55010015e+01  2.58536830e+02\n",
            "   3.79915372e+02  1.49580347e-01  2.42058080e-02 -8.14106130e-02\n",
            "   1.02367036e+03  1.41290270e-01]\n",
            " [ 4.46876994e+00  1.04678268e+02  7.11002256e+01  1.94904220e+02\n",
            "   4.93340814e+02  1.62627554e-01  3.44649850e-02 -2.81549870e-02\n",
            "   9.80207236e+02  5.17316800e-02]\n",
            " [ 8.58194493e+00  1.09335715e+02  7.67849889e+01  2.85988051e+02\n",
            "   5.20259229e+02  1.49757852e-01  2.25093080e-02 -1.08298994e-01\n",
            "   1.14621189e+03  1.90454480e-01]\n",
            " [ 2.82922212e+00  1.05455598e+02  7.46545323e+01  1.86190085e+02\n",
            "   4.86287854e+02  1.95173250e-01  3.43624990e-02 -8.18768770e-02\n",
            "   6.98359229e+02  1.16369388e-01]] \n",
            "\n",
            "\n",
            "After Standardization \n",
            "\n",
            "Mean and Standard Deviation\n",
            "Mean = -4.0410013408157355e-17 ; Standard Deviation = 1.0\n",
            "Shape to verify: (2110, 10)\n",
            "Tail of the data post standardization: \n",
            "[[-0.32365924 -0.01422475 -0.29255471 -0.27458251  0.20262229  0.98759227\n",
            "  -0.00653909  0.47908196 -0.46538276 -0.48087177]\n",
            " [ 0.05372541  0.71169412  0.71983358  0.36554188 -0.35001804 -0.25594035\n",
            "  -0.56507412 -0.21535199 -0.42472645  0.26042471]\n",
            " [-0.58968478  0.09044026 -0.02889731 -0.32904851  0.64271489  0.0879725\n",
            "   0.07019761  0.39572589 -0.50889468 -0.37301043]\n",
            " [ 0.50812436  0.95418323  0.9382862   0.66518941  0.87831281 -0.25126147\n",
            "  -0.67012529 -0.5238808  -0.18741949  0.60815615]\n",
            " [-1.02728118  0.23459934  0.5758186  -0.42416882  0.5809853   0.94584831\n",
            "   0.06385144 -0.2207021  -1.05470554  0.08416286]]\n"
          ]
        },
        {
          "data": {
            "text/html": [
              "<div>\n",
              "<style scoped>\n",
              "    .dataframe tbody tr th:only-of-type {\n",
              "        vertical-align: middle;\n",
              "    }\n",
              "\n",
              "    .dataframe tbody tr th {\n",
              "        vertical-align: top;\n",
              "    }\n",
              "\n",
              "    .dataframe thead th {\n",
              "        text-align: right;\n",
              "    }\n",
              "</style>\n",
              "<table border=\"1\" class=\"dataframe\">\n",
              "  <thead>\n",
              "    <tr style=\"text-align: right;\">\n",
              "      <th></th>\n",
              "      <th>analyse_harmonics</th>\n",
              "      <th>get_max_intensity</th>\n",
              "      <th>analyse_intensity</th>\n",
              "      <th>analyse_pitch</th>\n",
              "      <th>analyse_pitch_range</th>\n",
              "      <th>analyse_shimmer</th>\n",
              "      <th>analyse_jitter</th>\n",
              "      <th>spectral_slope</th>\n",
              "      <th>mean_spectral_rolloff</th>\n",
              "      <th>get_energy</th>\n",
              "    </tr>\n",
              "  </thead>\n",
              "  <tbody>\n",
              "    <tr>\n",
              "      <th>2105</th>\n",
              "      <td>-0.323659</td>\n",
              "      <td>-0.014225</td>\n",
              "      <td>-0.292555</td>\n",
              "      <td>-0.274583</td>\n",
              "      <td>0.202622</td>\n",
              "      <td>0.987592</td>\n",
              "      <td>-0.006539</td>\n",
              "      <td>0.479082</td>\n",
              "      <td>-0.465383</td>\n",
              "      <td>-0.480872</td>\n",
              "    </tr>\n",
              "    <tr>\n",
              "      <th>2106</th>\n",
              "      <td>0.053725</td>\n",
              "      <td>0.711694</td>\n",
              "      <td>0.719834</td>\n",
              "      <td>0.365542</td>\n",
              "      <td>-0.350018</td>\n",
              "      <td>-0.255940</td>\n",
              "      <td>-0.565074</td>\n",
              "      <td>-0.215352</td>\n",
              "      <td>-0.424726</td>\n",
              "      <td>0.260425</td>\n",
              "    </tr>\n",
              "    <tr>\n",
              "      <th>2107</th>\n",
              "      <td>-0.589685</td>\n",
              "      <td>0.090440</td>\n",
              "      <td>-0.028897</td>\n",
              "      <td>-0.329049</td>\n",
              "      <td>0.642715</td>\n",
              "      <td>0.087973</td>\n",
              "      <td>0.070198</td>\n",
              "      <td>0.395726</td>\n",
              "      <td>-0.508895</td>\n",
              "      <td>-0.373010</td>\n",
              "    </tr>\n",
              "    <tr>\n",
              "      <th>2108</th>\n",
              "      <td>0.508124</td>\n",
              "      <td>0.954183</td>\n",
              "      <td>0.938286</td>\n",
              "      <td>0.665189</td>\n",
              "      <td>0.878313</td>\n",
              "      <td>-0.251261</td>\n",
              "      <td>-0.670125</td>\n",
              "      <td>-0.523881</td>\n",
              "      <td>-0.187419</td>\n",
              "      <td>0.608156</td>\n",
              "    </tr>\n",
              "    <tr>\n",
              "      <th>2109</th>\n",
              "      <td>-1.027281</td>\n",
              "      <td>0.234599</td>\n",
              "      <td>0.575819</td>\n",
              "      <td>-0.424169</td>\n",
              "      <td>0.580985</td>\n",
              "      <td>0.945848</td>\n",
              "      <td>0.063851</td>\n",
              "      <td>-0.220702</td>\n",
              "      <td>-1.054706</td>\n",
              "      <td>0.084163</td>\n",
              "    </tr>\n",
              "  </tbody>\n",
              "</table>\n",
              "</div>"
            ],
            "text/plain": [
              "      analyse_harmonics  get_max_intensity  analyse_intensity  analyse_pitch  \\\n",
              "2105          -0.323659          -0.014225          -0.292555      -0.274583   \n",
              "2106           0.053725           0.711694           0.719834       0.365542   \n",
              "2107          -0.589685           0.090440          -0.028897      -0.329049   \n",
              "2108           0.508124           0.954183           0.938286       0.665189   \n",
              "2109          -1.027281           0.234599           0.575819      -0.424169   \n",
              "\n",
              "      analyse_pitch_range  analyse_shimmer  analyse_jitter  spectral_slope  \\\n",
              "2105             0.202622         0.987592       -0.006539        0.479082   \n",
              "2106            -0.350018        -0.255940       -0.565074       -0.215352   \n",
              "2107             0.642715         0.087973        0.070198        0.395726   \n",
              "2108             0.878313        -0.251261       -0.670125       -0.523881   \n",
              "2109             0.580985         0.945848        0.063851       -0.220702   \n",
              "\n",
              "      mean_spectral_rolloff  get_energy  \n",
              "2105              -0.465383   -0.480872  \n",
              "2106              -0.424726    0.260425  \n",
              "2107              -0.508895   -0.373010  \n",
              "2108              -0.187419    0.608156  \n",
              "2109              -1.054706    0.084163  "
            ]
          },
          "execution_count": 121,
          "metadata": {},
          "output_type": "execute_result"
        }
      ],
      "source": [
        "standardized_aggression_df = standardize(aggression_df)\n",
        "standardized_aggression_df.tail()"
      ]
    },
    {
      "cell_type": "markdown",
      "metadata": {},
      "source": [
        "Reset label_df index"
      ]
    },
    {
      "cell_type": "code",
      "execution_count": 122,
      "metadata": {},
      "outputs": [
        {
          "data": {
            "text/html": [
              "<div>\n",
              "<style scoped>\n",
              "    .dataframe tbody tr th:only-of-type {\n",
              "        vertical-align: middle;\n",
              "    }\n",
              "\n",
              "    .dataframe tbody tr th {\n",
              "        vertical-align: top;\n",
              "    }\n",
              "\n",
              "    .dataframe thead th {\n",
              "        text-align: right;\n",
              "    }\n",
              "</style>\n",
              "<table border=\"1\" class=\"dataframe\">\n",
              "  <thead>\n",
              "    <tr style=\"text-align: right;\">\n",
              "      <th></th>\n",
              "      <th>parent_label_train</th>\n",
              "      <th>segment_label_train</th>\n",
              "    </tr>\n",
              "  </thead>\n",
              "  <tbody>\n",
              "    <tr>\n",
              "      <th>0</th>\n",
              "      <td>0</td>\n",
              "      <td>0</td>\n",
              "    </tr>\n",
              "    <tr>\n",
              "      <th>1</th>\n",
              "      <td>0</td>\n",
              "      <td>0</td>\n",
              "    </tr>\n",
              "    <tr>\n",
              "      <th>2</th>\n",
              "      <td>0</td>\n",
              "      <td>0</td>\n",
              "    </tr>\n",
              "    <tr>\n",
              "      <th>3</th>\n",
              "      <td>3</td>\n",
              "      <td>3</td>\n",
              "    </tr>\n",
              "    <tr>\n",
              "      <th>4</th>\n",
              "      <td>3</td>\n",
              "      <td>2</td>\n",
              "    </tr>\n",
              "    <tr>\n",
              "      <th>...</th>\n",
              "      <td>...</td>\n",
              "      <td>...</td>\n",
              "    </tr>\n",
              "    <tr>\n",
              "      <th>2105</th>\n",
              "      <td>2</td>\n",
              "      <td>1</td>\n",
              "    </tr>\n",
              "    <tr>\n",
              "      <th>2106</th>\n",
              "      <td>2</td>\n",
              "      <td>2</td>\n",
              "    </tr>\n",
              "    <tr>\n",
              "      <th>2107</th>\n",
              "      <td>2</td>\n",
              "      <td>1</td>\n",
              "    </tr>\n",
              "    <tr>\n",
              "      <th>2108</th>\n",
              "      <td>2</td>\n",
              "      <td>2</td>\n",
              "    </tr>\n",
              "    <tr>\n",
              "      <th>2109</th>\n",
              "      <td>2</td>\n",
              "      <td>1</td>\n",
              "    </tr>\n",
              "  </tbody>\n",
              "</table>\n",
              "<p>2110 rows × 2 columns</p>\n",
              "</div>"
            ],
            "text/plain": [
              "      parent_label_train  segment_label_train\n",
              "0                      0                    0\n",
              "1                      0                    0\n",
              "2                      0                    0\n",
              "3                      3                    3\n",
              "4                      3                    2\n",
              "...                  ...                  ...\n",
              "2105                   2                    1\n",
              "2106                   2                    2\n",
              "2107                   2                    1\n",
              "2108                   2                    2\n",
              "2109                   2                    1\n",
              "\n",
              "[2110 rows x 2 columns]"
            ]
          },
          "execution_count": 122,
          "metadata": {},
          "output_type": "execute_result"
        }
      ],
      "source": [
        "label_df.reset_index(drop=True, inplace=True)\n",
        "label_df"
      ]
    },
    {
      "cell_type": "code",
      "execution_count": null,
      "metadata": {},
      "outputs": [],
      "source": []
    }
  ],
  "metadata": {
    "colab": {
      "name": "Modelling.ipynb",
      "provenance": []
    },
    "kernelspec": {
      "display_name": "Python 3",
      "name": "python3"
    },
    "language_info": {
      "codemirror_mode": {
        "name": "ipython",
        "version": 3
      },
      "file_extension": ".py",
      "mimetype": "text/x-python",
      "name": "python",
      "nbconvert_exporter": "python",
      "pygments_lexer": "ipython3",
      "version": "3.9.2"
    }
  },
  "nbformat": 4,
  "nbformat_minor": 0
}
