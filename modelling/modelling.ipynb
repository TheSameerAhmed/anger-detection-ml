{
  "cells": [
    {
      "cell_type": "markdown",
      "metadata": {
        "id": "j_ozxaRrIh9Z"
      },
      "source": [
        "# Installing Packages"
      ]
    },
    {
      "cell_type": "code",
      "execution_count": null,
      "metadata": {
        "id": "2GHuvxosIa4X"
      },
      "outputs": [],
      "source": [
        "import sys\n",
        "!{sys.executable} -m pip install numpy\n",
        "!{sys.executable} -m pip install pandas\n",
        "!{sys.executable} -m pip install sklearn\n",
        "!{sys.executable} -m pip install yellowbrick\n",
        "!{sys.executable} -m pip install matplot\n",
        "!{sys.executable} -m pip install seaborn"
      ]
    },
    {
      "cell_type": "markdown",
      "metadata": {
        "id": "Fu_qT147Kqdi"
      },
      "source": [
        "# Preprocessing of Data"
      ]
    },
    {
      "cell_type": "code",
      "execution_count": null,
      "metadata": {
        "id": "BfgCO5ddTvvc"
      },
      "outputs": [],
      "source": [
        "import os\n",
        "import numpy as np\n",
        "import pandas as pd\n",
        "\n",
        "import copy\n",
        "\n",
        "# Helper function: simply reads a csv file and return it as a dataframe\n",
        "def read_data(data_file):\n",
        "  data_df = pd.read_csv(data_file)\n",
        "  return data_df\n",
        "\n",
        "def drop_features(data_df, features_to_drop):\n",
        "  return data_df.drop(columns=features_to_drop, inplace=True)\n",
        "\n",
        "def segregate_noisy_data(data_df):\n",
        "  copied_data = copy.deepcopy(data_df)\n",
        "  non_noisy_df = copied_data.loc[(copied_data['noisy_train'] == 0)]\n",
        "  noisy_df = copied_data.loc[(copied_data['noisy_train'] == 1)]\n",
        "  return non_noisy_df, noisy_df\n",
        "\n",
        "def remove_noisy_data(data_df):\n",
        "  print(f'''Rows dropped because of low duration: \n",
        "        {len(data_df[data_df['noisy'] == 1])}\\n''')\n",
        "  \n",
        "  return data_df.drop(data_df[data_df['noisy'] == 1].index, inplace=True)\n",
        "\n",
        "# Helper function: cleans data based on xyz\n",
        "def preprocessing_data(data_df):\n",
        "\n",
        "  # Clean data based on duration value\n",
        "  print(f'''Rows dropped because of low duration: \\\n",
        "        {len(data_df[data_df['duration'] < 2])}\\n''')\n",
        "  \n",
        "  data_df.drop(data_df[data_df['duration'] < 2].index, inplace=True)\n",
        "\n",
        "  # Extract filenames\n",
        "  filenames = data_df['file_name'].values.tolist()\n",
        "\n",
        "  return (data_df, filenames)\n"
      ]
    },
    {
      "cell_type": "markdown",
      "metadata": {
        "id": "TqSpDpc8RsyO"
      },
      "source": [
        "Read Data"
      ]
    },
    {
      "cell_type": "code",
      "execution_count": null,
      "metadata": {
        "id": "ZBRuRV8TGev2"
      },
      "outputs": [],
      "source": [
        "# Fetch .csv file and store it as a dataframe\n",
        "aggression_data_df = read_data('../extracted/full-train-features.csv')"
      ]
    },
    {
      "cell_type": "markdown",
      "metadata": {
        "id": "rLxvf37GGtVh"
      },
      "source": [
        "Extract data, filenames and labels after preprocessing data"
      ]
    },
    {
      "cell_type": "code",
      "execution_count": null,
      "metadata": {
        "colab": {
          "base_uri": "https://localhost:8080/"
        },
        "id": "dV19fTgKG0se",
        "outputId": "29bf7360-eb4f-4f90-e41e-5584e0819b40"
      },
      "outputs": [
        {
          "name": "stdout",
          "output_type": "stream",
          "text": [
            "Shape of the data before cleaning it: (2147, 23)\n",
            "\n",
            "                      file_name  duration  analyse_harmonics  \\\n",
            "2142  xdz15thrnem51_processed_5      10.0           5.465491   \n",
            "2143  xdz15thrnem51_processed_6      10.0           6.879443   \n",
            "2144  xdz15thrnem51_processed_7      10.0           4.468770   \n",
            "2145  xdz15thrnem51_processed_8      10.0           8.581945   \n",
            "2146  xdz15thrnem51_processed_9      10.0           2.829222   \n",
            "\n",
            "      get_number_sylls  get_number_words  pauses get_max_intensity  \\\n",
            "2142               1.3               1.0     0.1       104.1138965   \n",
            "2143               0.2               0.3     0.1        108.028173   \n",
            "2144               1.8               1.1     0.1       104.6782678   \n",
            "2145               0.3               0.1     0.1        109.335715   \n",
            "2146               0.6               0.6     0.1       105.4555978   \n",
            "\n",
            "      analyse_intensity  analyse_pitch  analyse_pitch_range  ...  \\\n",
            "2142          69.550541     199.893943           443.057705  ...   \n",
            "2143          75.501002     258.536830           379.915372  ...   \n",
            "2144          71.100226     194.904220           493.340814  ...   \n",
            "2145          76.784989     285.988051           520.259229  ...   \n",
            "2146          74.654532     186.190085           486.287854  ...   \n",
            "\n",
            "      mean_spectral_rolloff  get_energy  parent_file_train  \\\n",
            "2142            1002.676098    0.036482      xdz15thrnem51   \n",
            "2143            1023.670363    0.141290      xdz15thrnem51   \n",
            "2144             980.207236    0.051732      xdz15thrnem51   \n",
            "2145            1146.211888    0.190454      xdz15thrnem51   \n",
            "2146             698.359229    0.116369      xdz15thrnem51   \n",
            "\n",
            "      number_of_segments_train  number_of_voices_parent_train  \\\n",
            "2142                        14                              7   \n",
            "2143                        14                              7   \n",
            "2144                        14                              7   \n",
            "2145                        14                              7   \n",
            "2146                        14                              7   \n",
            "\n",
            "     extra_sounds_train  parent_label_train  segment_label_train noisy_train  \\\n",
            "2142                NaN                   2                    1           0   \n",
            "2143                NaN                   2                    2           0   \n",
            "2144                NaN                   2                    1           0   \n",
            "2145               cops                   2                    2           0   \n",
            "2146                NaN                   2                    1           0   \n",
            "\n",
            "      Notes_train  \n",
            "2142          NaN  \n",
            "2143          NaN  \n",
            "2144          NaN  \n",
            "2145          NaN  \n",
            "2146          NaN  \n",
            "\n",
            "[5 rows x 23 columns]\n",
            "Rows dropped because of low duration:         36\n",
            "\n",
            "Shape of the data after cleaning it: (2111, 23) \n",
            "\n"
          ]
        }
      ],
      "source": [
        "print(f'Shape of the data before cleaning it: {aggression_data_df.shape}\\n')\n",
        "print(aggression_data_df.tail())\n",
        "\n",
        "aggression_data_df, filenames = preprocessing_data(aggression_data_df)\n",
        "\n",
        "print(f'Shape of the data after cleaning it: {aggression_data_df.shape} \\n')"
      ]
    },
    {
      "cell_type": "markdown",
      "metadata": {
        "id": "pOt02qQWG8lR"
      },
      "source": [
        "Segregate data based on noisy vs not noisy"
      ]
    },
    {
      "cell_type": "code",
      "execution_count": null,
      "metadata": {
        "colab": {
          "base_uri": "https://localhost:8080/"
        },
        "id": "K-y5PqPrHHsY",
        "outputId": "577d9820-8b2e-42c4-f6a1-a1bd6ae02689"
      },
      "outputs": [
        {
          "name": "stdout",
          "output_type": "stream",
          "text": [
            "Shape of noisy data: (262, 23) \n",
            "\n",
            "Shape of non noisy data: (1849, 23)\n",
            "\n"
          ]
        }
      ],
      "source": [
        "non_noisy_df, noisy_df = segregate_noisy_data(aggression_data_df)\n",
        "\n",
        "print(f\"Shape of noisy data: {noisy_df.shape} \\n\")\n",
        "print(f\"Shape of non noisy data: {non_noisy_df.shape}\\n\")"
      ]
    },
    {
      "cell_type": "markdown",
      "metadata": {
        "id": "BBH3hHdnwfQr"
      },
      "source": [
        "**NOTE: Modelling of this project is split into 3 groups. Therefore, all the steps in this notebook below are repeated once for each group**\n",
        "1. Noisy and Non Noisy Data\n",
        "2. Noisy Data\n",
        "3. Non Noisy Data"
      ]
    },
    {
      "cell_type": "markdown",
      "metadata": {
        "id": "CctT48C0HJvp"
      },
      "source": [
        "Drop features"
      ]
    },
    {
      "cell_type": "code",
      "execution_count": null,
      "metadata": {
        "colab": {
          "base_uri": "https://localhost:8080/"
        },
        "id": "J5P-qp1fRpXR",
        "outputId": "36c26193-a7a2-4213-b9a6-3e70b93587f3"
      },
      "outputs": [
        {
          "name": "stdout",
          "output_type": "stream",
          "text": [
            "Shape of the data for Group 1 before dropping features: (2111, 23) \n",
            "\n",
            "Shape of the data for Group 2 before dropping features: (1849, 23) \n",
            "\n",
            "Shape of the data for Group 3 before dropping features: (262, 23) \n",
            "\n",
            "Shape of the data for Group 1 after dropping features: (2111, 14) \n",
            "\n",
            "Shape of the data for Group 2 after dropping features: (1849, 14) \n",
            "\n",
            "Shape of the data for Group 3 after dropping features: (262, 14) \n",
            "\n"
          ]
        }
      ],
      "source": [
        "features_to_drop = ['file_name', 'duration','get_number_sylls',\n",
        "                    'get_number_words', 'pauses',\n",
        "                    'number_of_segments_train', 'number_of_voices_parent_train',\n",
        "                    'extra_sounds_train', 'Notes_train']\n",
        "\n",
        "# remove features for Group 1\n",
        "print(f'Shape of the data for Group 1 before dropping features: {aggression_data_df.shape} \\n')\n",
        "drop_features(aggression_data_df, features_to_drop)\n",
        "\n",
        "# remove features for Group 2\n",
        "print(f'Shape of the data for Group 2 before dropping features: {non_noisy_df.shape} \\n')\n",
        "drop_features(non_noisy_df, features_to_drop)\n",
        "\n",
        "# remove features for Group 3\n",
        "print(f'Shape of the data for Group 3 before dropping features: {noisy_df.shape} \\n')\n",
        "drop_features(noisy_df, features_to_drop)\n",
        "\n",
        "\n",
        "print(f'Shape of the data for Group 1 after dropping features: {aggression_data_df.shape} \\n')\n",
        "print(f'Shape of the data for Group 2 after dropping features: {non_noisy_df.shape} \\n')\n",
        "print(f'Shape of the data for Group 3 after dropping features: {noisy_df.shape} \\n')"
      ]
    },
    {
      "cell_type": "markdown",
      "metadata": {
        "id": "b5-kkxKTXVdI"
      },
      "source": [
        "### Examine dataframe from each group"
      ]
    },
    {
      "cell_type": "code",
      "execution_count": null,
      "metadata": {
        "colab": {
          "base_uri": "https://localhost:8080/"
        },
        "id": "fW3JdssSXoRP",
        "outputId": "671d643d-89b8-4cc9-9f33-e55aa7ac86f7"
      },
      "outputs": [
        {
          "name": "stdout",
          "output_type": "stream",
          "text": [
            "<class 'pandas.core.frame.DataFrame'>\n",
            "Int64Index: 2111 entries, 0 to 2146\n",
            "Data columns (total 14 columns):\n",
            " #   Column                 Non-Null Count  Dtype  \n",
            "---  ------                 --------------  -----  \n",
            " 0   analyse_harmonics      2111 non-null   float64\n",
            " 1   get_max_intensity      2111 non-null   object \n",
            " 2   analyse_intensity      2111 non-null   float64\n",
            " 3   analyse_pitch          2110 non-null   float64\n",
            " 4   analyse_pitch_range    2110 non-null   float64\n",
            " 5   analyse_shimmer        2110 non-null   float64\n",
            " 6   analyse_jitter         2110 non-null   float64\n",
            " 7   spectral_slope         2111 non-null   float64\n",
            " 8   mean_spectral_rolloff  2111 non-null   float64\n",
            " 9   get_energy             2111 non-null   float64\n",
            " 10  parent_file_train      2111 non-null   object \n",
            " 11  parent_label_train     2111 non-null   int64  \n",
            " 12  segment_label_train    2111 non-null   int64  \n",
            " 13  noisy_train            2111 non-null   int64  \n",
            "dtypes: float64(9), int64(3), object(2)\n",
            "memory usage: 247.4+ KB\n",
            "None\n",
            "<class 'pandas.core.frame.DataFrame'>\n",
            "Int64Index: 1849 entries, 8 to 2146\n",
            "Data columns (total 14 columns):\n",
            " #   Column                 Non-Null Count  Dtype  \n",
            "---  ------                 --------------  -----  \n",
            " 0   analyse_harmonics      1849 non-null   float64\n",
            " 1   get_max_intensity      1849 non-null   object \n",
            " 2   analyse_intensity      1849 non-null   float64\n",
            " 3   analyse_pitch          1848 non-null   float64\n",
            " 4   analyse_pitch_range    1848 non-null   float64\n",
            " 5   analyse_shimmer        1848 non-null   float64\n",
            " 6   analyse_jitter         1848 non-null   float64\n",
            " 7   spectral_slope         1849 non-null   float64\n",
            " 8   mean_spectral_rolloff  1849 non-null   float64\n",
            " 9   get_energy             1849 non-null   float64\n",
            " 10  parent_file_train      1849 non-null   object \n",
            " 11  parent_label_train     1849 non-null   int64  \n",
            " 12  segment_label_train    1849 non-null   int64  \n",
            " 13  noisy_train            1849 non-null   int64  \n",
            "dtypes: float64(9), int64(3), object(2)\n",
            "memory usage: 216.7+ KB\n",
            "None\n",
            "<class 'pandas.core.frame.DataFrame'>\n",
            "Int64Index: 262 entries, 0 to 2135\n",
            "Data columns (total 14 columns):\n",
            " #   Column                 Non-Null Count  Dtype  \n",
            "---  ------                 --------------  -----  \n",
            " 0   analyse_harmonics      262 non-null    float64\n",
            " 1   get_max_intensity      262 non-null    object \n",
            " 2   analyse_intensity      262 non-null    float64\n",
            " 3   analyse_pitch          262 non-null    float64\n",
            " 4   analyse_pitch_range    262 non-null    float64\n",
            " 5   analyse_shimmer        262 non-null    float64\n",
            " 6   analyse_jitter         262 non-null    float64\n",
            " 7   spectral_slope         262 non-null    float64\n",
            " 8   mean_spectral_rolloff  262 non-null    float64\n",
            " 9   get_energy             262 non-null    float64\n",
            " 10  parent_file_train      262 non-null    object \n",
            " 11  parent_label_train     262 non-null    int64  \n",
            " 12  segment_label_train    262 non-null    int64  \n",
            " 13  noisy_train            262 non-null    int64  \n",
            "dtypes: float64(9), int64(3), object(2)\n",
            "memory usage: 30.7+ KB\n",
            "None\n"
          ]
        }
      ],
      "source": [
        "print(aggression_data_df.info())\n",
        "print(non_noisy_df.info())\n",
        "print(noisy_df.info())"
      ]
    },
    {
      "cell_type": "markdown",
      "metadata": {
        "id": "496Yc66HwfQw"
      },
      "source": [
        "Remove rows that have `NaN` as one of the feature values\n",
        "\n",
        "1 row in both group 1 and group 2 have `NaN`"
      ]
    },
    {
      "cell_type": "code",
      "execution_count": null,
      "metadata": {
        "id": "bly8Ynq0wfQw"
      },
      "outputs": [],
      "source": [
        "aggression_data_df.dropna(inplace=True)\n",
        "non_noisy_df.dropna(inplace=True)\n",
        "noisy_df.dropna(inplace=True)\n"
      ]
    },
    {
      "cell_type": "markdown",
      "metadata": {
        "id": "4fHjlKyCwfQx"
      },
      "source": [
        "Convert values in 'get_max_intensity' from string to float "
      ]
    },
    {
      "cell_type": "code",
      "execution_count": null,
      "metadata": {
        "id": "9giLwP3VbnJ0",
        "outputId": "6b6eaced-3f5c-48b9-d0de-0c0df72c8dc7"
      },
      "outputs": [
        {
          "data": {
            "text/html": [
              "<div>\n",
              "<style scoped>\n",
              "    .dataframe tbody tr th:only-of-type {\n",
              "        vertical-align: middle;\n",
              "    }\n",
              "\n",
              "    .dataframe tbody tr th {\n",
              "        vertical-align: top;\n",
              "    }\n",
              "\n",
              "    .dataframe thead th {\n",
              "        text-align: right;\n",
              "    }\n",
              "</style>\n",
              "<table border=\"1\" class=\"dataframe\">\n",
              "  <thead>\n",
              "    <tr style=\"text-align: right;\">\n",
              "      <th></th>\n",
              "      <th>analyse_harmonics</th>\n",
              "      <th>get_max_intensity</th>\n",
              "      <th>analyse_intensity</th>\n",
              "      <th>analyse_pitch</th>\n",
              "      <th>analyse_pitch_range</th>\n",
              "      <th>analyse_shimmer</th>\n",
              "      <th>analyse_jitter</th>\n",
              "      <th>spectral_slope</th>\n",
              "      <th>mean_spectral_rolloff</th>\n",
              "      <th>get_energy</th>\n",
              "      <th>parent_file_train</th>\n",
              "      <th>parent_label_train</th>\n",
              "      <th>segment_label_train</th>\n",
              "      <th>noisy_train</th>\n",
              "    </tr>\n",
              "  </thead>\n",
              "  <tbody>\n",
              "    <tr>\n",
              "      <th>0</th>\n",
              "      <td>2.071884</td>\n",
              "      <td>108.591944</td>\n",
              "      <td>76.429126</td>\n",
              "      <td>355.354649</td>\n",
              "      <td>517.899150</td>\n",
              "      <td>0.193371</td>\n",
              "      <td>0.039075</td>\n",
              "      <td>-0.091534</td>\n",
              "      <td>1711.357507</td>\n",
              "      <td>0.174962</td>\n",
              "      <td>00g8dfgpqpt61</td>\n",
              "      <td>0</td>\n",
              "      <td>0</td>\n",
              "      <td>1</td>\n",
              "    </tr>\n",
              "    <tr>\n",
              "      <th>1</th>\n",
              "      <td>1.548685</td>\n",
              "      <td>107.108480</td>\n",
              "      <td>78.207339</td>\n",
              "      <td>409.030438</td>\n",
              "      <td>491.537960</td>\n",
              "      <td>0.202199</td>\n",
              "      <td>0.049623</td>\n",
              "      <td>-0.090760</td>\n",
              "      <td>1469.373610</td>\n",
              "      <td>0.263521</td>\n",
              "      <td>00g8dfgpqpt62</td>\n",
              "      <td>0</td>\n",
              "      <td>0</td>\n",
              "      <td>1</td>\n",
              "    </tr>\n",
              "    <tr>\n",
              "      <th>2</th>\n",
              "      <td>2.202973</td>\n",
              "      <td>110.003934</td>\n",
              "      <td>77.650102</td>\n",
              "      <td>393.605328</td>\n",
              "      <td>511.080779</td>\n",
              "      <td>0.200674</td>\n",
              "      <td>0.038352</td>\n",
              "      <td>-0.116676</td>\n",
              "      <td>1287.538989</td>\n",
              "      <td>0.231453</td>\n",
              "      <td>00g8dfgpqpt63</td>\n",
              "      <td>0</td>\n",
              "      <td>0</td>\n",
              "      <td>1</td>\n",
              "    </tr>\n",
              "    <tr>\n",
              "      <th>3</th>\n",
              "      <td>4.541632</td>\n",
              "      <td>100.037201</td>\n",
              "      <td>67.432142</td>\n",
              "      <td>358.021668</td>\n",
              "      <td>448.489253</td>\n",
              "      <td>0.201583</td>\n",
              "      <td>0.035544</td>\n",
              "      <td>-0.010975</td>\n",
              "      <td>1251.558111</td>\n",
              "      <td>0.022047</td>\n",
              "      <td>01avx2fm1t961</td>\n",
              "      <td>3</td>\n",
              "      <td>3</td>\n",
              "      <td>1</td>\n",
              "    </tr>\n",
              "    <tr>\n",
              "      <th>4</th>\n",
              "      <td>3.790801</td>\n",
              "      <td>98.041081</td>\n",
              "      <td>63.570349</td>\n",
              "      <td>373.512829</td>\n",
              "      <td>519.744413</td>\n",
              "      <td>0.190743</td>\n",
              "      <td>0.046422</td>\n",
              "      <td>-0.004044</td>\n",
              "      <td>1387.495977</td>\n",
              "      <td>0.009121</td>\n",
              "      <td>01avx2fm1t961</td>\n",
              "      <td>3</td>\n",
              "      <td>2</td>\n",
              "      <td>1</td>\n",
              "    </tr>\n",
              "    <tr>\n",
              "      <th>5</th>\n",
              "      <td>3.859515</td>\n",
              "      <td>99.656235</td>\n",
              "      <td>66.680578</td>\n",
              "      <td>394.698825</td>\n",
              "      <td>461.355272</td>\n",
              "      <td>0.181399</td>\n",
              "      <td>0.038183</td>\n",
              "      <td>-0.011376</td>\n",
              "      <td>1164.256959</td>\n",
              "      <td>0.018612</td>\n",
              "      <td>01avx2fm1t961</td>\n",
              "      <td>3</td>\n",
              "      <td>2</td>\n",
              "      <td>1</td>\n",
              "    </tr>\n",
              "    <tr>\n",
              "      <th>6</th>\n",
              "      <td>4.301706</td>\n",
              "      <td>100.620469</td>\n",
              "      <td>67.893825</td>\n",
              "      <td>355.316875</td>\n",
              "      <td>439.101386</td>\n",
              "      <td>0.199342</td>\n",
              "      <td>0.043200</td>\n",
              "      <td>-0.014285</td>\n",
              "      <td>1043.864847</td>\n",
              "      <td>0.025372</td>\n",
              "      <td>01avx2fm1t961</td>\n",
              "      <td>3</td>\n",
              "      <td>2</td>\n",
              "      <td>1</td>\n",
              "    </tr>\n",
              "    <tr>\n",
              "      <th>7</th>\n",
              "      <td>4.134565</td>\n",
              "      <td>101.666306</td>\n",
              "      <td>68.782272</td>\n",
              "      <td>381.025067</td>\n",
              "      <td>513.486703</td>\n",
              "      <td>0.192137</td>\n",
              "      <td>0.038323</td>\n",
              "      <td>-0.017456</td>\n",
              "      <td>1025.571987</td>\n",
              "      <td>0.028210</td>\n",
              "      <td>01avx2fm1t961</td>\n",
              "      <td>3</td>\n",
              "      <td>2</td>\n",
              "      <td>1</td>\n",
              "    </tr>\n",
              "    <tr>\n",
              "      <th>64</th>\n",
              "      <td>4.832865</td>\n",
              "      <td>108.258940</td>\n",
              "      <td>77.036272</td>\n",
              "      <td>219.231909</td>\n",
              "      <td>499.293824</td>\n",
              "      <td>0.173476</td>\n",
              "      <td>0.024539</td>\n",
              "      <td>-0.089942</td>\n",
              "      <td>1778.052375</td>\n",
              "      <td>0.139028</td>\n",
              "      <td>09etqbnf0uc61</td>\n",
              "      <td>0</td>\n",
              "      <td>0</td>\n",
              "      <td>1</td>\n",
              "    </tr>\n",
              "    <tr>\n",
              "      <th>88</th>\n",
              "      <td>3.707670</td>\n",
              "      <td>107.282961</td>\n",
              "      <td>77.338457</td>\n",
              "      <td>107.077688</td>\n",
              "      <td>523.583154</td>\n",
              "      <td>0.161535</td>\n",
              "      <td>0.027049</td>\n",
              "      <td>-0.157909</td>\n",
              "      <td>903.503189</td>\n",
              "      <td>0.216111</td>\n",
              "      <td>0cho11mt05y51</td>\n",
              "      <td>0</td>\n",
              "      <td>0</td>\n",
              "      <td>1</td>\n",
              "    </tr>\n",
              "    <tr>\n",
              "      <th>89</th>\n",
              "      <td>3.047948</td>\n",
              "      <td>106.685870</td>\n",
              "      <td>77.365868</td>\n",
              "      <td>92.172487</td>\n",
              "      <td>522.085058</td>\n",
              "      <td>0.185772</td>\n",
              "      <td>0.061172</td>\n",
              "      <td>-0.155681</td>\n",
              "      <td>836.378479</td>\n",
              "      <td>0.173382</td>\n",
              "      <td>0cho11mt05y51</td>\n",
              "      <td>0</td>\n",
              "      <td>0</td>\n",
              "      <td>1</td>\n",
              "    </tr>\n",
              "    <tr>\n",
              "      <th>94</th>\n",
              "      <td>4.568911</td>\n",
              "      <td>112.671132</td>\n",
              "      <td>81.514422</td>\n",
              "      <td>263.882017</td>\n",
              "      <td>522.181492</td>\n",
              "      <td>0.196607</td>\n",
              "      <td>0.047764</td>\n",
              "      <td>-0.253143</td>\n",
              "      <td>1280.950082</td>\n",
              "      <td>0.565823</td>\n",
              "      <td>0d9lcxq7sxf61</td>\n",
              "      <td>0</td>\n",
              "      <td>0</td>\n",
              "      <td>1</td>\n",
              "    </tr>\n",
              "    <tr>\n",
              "      <th>125</th>\n",
              "      <td>2.212331</td>\n",
              "      <td>104.432908</td>\n",
              "      <td>71.687739</td>\n",
              "      <td>122.728438</td>\n",
              "      <td>522.254005</td>\n",
              "      <td>0.224069</td>\n",
              "      <td>0.041363</td>\n",
              "      <td>-0.037343</td>\n",
              "      <td>1389.920314</td>\n",
              "      <td>0.058946</td>\n",
              "      <td>0h3jkge4hj761</td>\n",
              "      <td>1</td>\n",
              "      <td>0</td>\n",
              "      <td>1</td>\n",
              "    </tr>\n",
              "    <tr>\n",
              "      <th>126</th>\n",
              "      <td>3.000411</td>\n",
              "      <td>105.012940</td>\n",
              "      <td>72.599253</td>\n",
              "      <td>96.780386</td>\n",
              "      <td>507.418102</td>\n",
              "      <td>0.204497</td>\n",
              "      <td>0.049593</td>\n",
              "      <td>-0.053967</td>\n",
              "      <td>980.707100</td>\n",
              "      <td>0.072417</td>\n",
              "      <td>0h3jkge4hj761</td>\n",
              "      <td>1</td>\n",
              "      <td>0</td>\n",
              "      <td>1</td>\n",
              "    </tr>\n",
              "    <tr>\n",
              "      <th>132</th>\n",
              "      <td>2.406680</td>\n",
              "      <td>107.533282</td>\n",
              "      <td>74.255969</td>\n",
              "      <td>194.785761</td>\n",
              "      <td>518.776525</td>\n",
              "      <td>0.206552</td>\n",
              "      <td>0.041101</td>\n",
              "      <td>-0.060477</td>\n",
              "      <td>1346.232249</td>\n",
              "      <td>0.106158</td>\n",
              "      <td>0h3jkge4hj761</td>\n",
              "      <td>1</td>\n",
              "      <td>0</td>\n",
              "      <td>1</td>\n",
              "    </tr>\n",
              "  </tbody>\n",
              "</table>\n",
              "</div>"
            ],
            "text/plain": [
              "     analyse_harmonics  get_max_intensity  analyse_intensity  analyse_pitch  \\\n",
              "0             2.071884         108.591944          76.429126     355.354649   \n",
              "1             1.548685         107.108480          78.207339     409.030438   \n",
              "2             2.202973         110.003934          77.650102     393.605328   \n",
              "3             4.541632         100.037201          67.432142     358.021668   \n",
              "4             3.790801          98.041081          63.570349     373.512829   \n",
              "5             3.859515          99.656235          66.680578     394.698825   \n",
              "6             4.301706         100.620469          67.893825     355.316875   \n",
              "7             4.134565         101.666306          68.782272     381.025067   \n",
              "64            4.832865         108.258940          77.036272     219.231909   \n",
              "88            3.707670         107.282961          77.338457     107.077688   \n",
              "89            3.047948         106.685870          77.365868      92.172487   \n",
              "94            4.568911         112.671132          81.514422     263.882017   \n",
              "125           2.212331         104.432908          71.687739     122.728438   \n",
              "126           3.000411         105.012940          72.599253      96.780386   \n",
              "132           2.406680         107.533282          74.255969     194.785761   \n",
              "\n",
              "     analyse_pitch_range  analyse_shimmer  analyse_jitter  spectral_slope  \\\n",
              "0             517.899150         0.193371        0.039075       -0.091534   \n",
              "1             491.537960         0.202199        0.049623       -0.090760   \n",
              "2             511.080779         0.200674        0.038352       -0.116676   \n",
              "3             448.489253         0.201583        0.035544       -0.010975   \n",
              "4             519.744413         0.190743        0.046422       -0.004044   \n",
              "5             461.355272         0.181399        0.038183       -0.011376   \n",
              "6             439.101386         0.199342        0.043200       -0.014285   \n",
              "7             513.486703         0.192137        0.038323       -0.017456   \n",
              "64            499.293824         0.173476        0.024539       -0.089942   \n",
              "88            523.583154         0.161535        0.027049       -0.157909   \n",
              "89            522.085058         0.185772        0.061172       -0.155681   \n",
              "94            522.181492         0.196607        0.047764       -0.253143   \n",
              "125           522.254005         0.224069        0.041363       -0.037343   \n",
              "126           507.418102         0.204497        0.049593       -0.053967   \n",
              "132           518.776525         0.206552        0.041101       -0.060477   \n",
              "\n",
              "     mean_spectral_rolloff  get_energy parent_file_train  parent_label_train  \\\n",
              "0              1711.357507    0.174962     00g8dfgpqpt61                   0   \n",
              "1              1469.373610    0.263521     00g8dfgpqpt62                   0   \n",
              "2              1287.538989    0.231453     00g8dfgpqpt63                   0   \n",
              "3              1251.558111    0.022047     01avx2fm1t961                   3   \n",
              "4              1387.495977    0.009121     01avx2fm1t961                   3   \n",
              "5              1164.256959    0.018612     01avx2fm1t961                   3   \n",
              "6              1043.864847    0.025372     01avx2fm1t961                   3   \n",
              "7              1025.571987    0.028210     01avx2fm1t961                   3   \n",
              "64             1778.052375    0.139028     09etqbnf0uc61                   0   \n",
              "88              903.503189    0.216111     0cho11mt05y51                   0   \n",
              "89              836.378479    0.173382     0cho11mt05y51                   0   \n",
              "94             1280.950082    0.565823     0d9lcxq7sxf61                   0   \n",
              "125            1389.920314    0.058946     0h3jkge4hj761                   1   \n",
              "126             980.707100    0.072417     0h3jkge4hj761                   1   \n",
              "132            1346.232249    0.106158     0h3jkge4hj761                   1   \n",
              "\n",
              "     segment_label_train  noisy_train  \n",
              "0                      0            1  \n",
              "1                      0            1  \n",
              "2                      0            1  \n",
              "3                      3            1  \n",
              "4                      2            1  \n",
              "5                      2            1  \n",
              "6                      2            1  \n",
              "7                      2            1  \n",
              "64                     0            1  \n",
              "88                     0            1  \n",
              "89                     0            1  \n",
              "94                     0            1  \n",
              "125                    0            1  \n",
              "126                    0            1  \n",
              "132                    0            1  "
            ]
          },
          "execution_count": 199,
          "metadata": {},
          "output_type": "execute_result"
        }
      ],
      "source": [
        "aggression_data_df['get_max_intensity'] = pd.to_numeric(aggression_data_df['get_max_intensity'])\n",
        "non_noisy_df['get_max_intensity'] = pd.to_numeric(non_noisy_df['get_max_intensity'])\n",
        "noisy_df['get_max_intensity'] = pd.to_numeric(noisy_df['get_max_intensity'])\n",
        "\n",
        "noisy_df.head(15)"
      ]
    },
    {
      "cell_type": "markdown",
      "metadata": {
        "id": "TZdWEIykwfQy"
      },
      "source": [
        "Segregate data df and label df and reset indexes from all groups"
      ]
    },
    {
      "cell_type": "code",
      "execution_count": null,
      "metadata": {
        "id": "_5pUaPxkwfQy",
        "outputId": "a2d11996-a31c-4175-cd55-3a981bef54a6"
      },
      "outputs": [
        {
          "name": "stdout",
          "output_type": "stream",
          "text": [
            "Shape of labelled data in Group 1:(2110, 3) \n",
            " Shape of data in Group 1: (2110, 11)\n",
            "\n",
            "Shape of labelled data in Group 2:(1848, 3) \n",
            " Shape of data in Group 2: (1848, 11)\n",
            "\n",
            "Shape of labelled data in Group 3:(262, 3) \n",
            " Shape of data in Group 3: (262, 11)\n",
            "\n"
          ]
        }
      ],
      "source": [
        "feature_labels = ['parent_label_train', 'segment_label_train', 'noisy_train']\n",
        "\n",
        "label_df = aggression_data_df.filter(items=feature_labels)\n",
        "aggression_df = aggression_data_df.drop(columns=feature_labels)\n",
        "\n",
        "label_non_noisy_df = non_noisy_df.filter(items=feature_labels)\n",
        "aggression_non_noisy_df = non_noisy_df.drop(columns=feature_labels)\n",
        "\n",
        "label_noisy_df = noisy_df.filter(items=feature_labels)\n",
        "aggression_noisy_df = noisy_df.drop(columns=feature_labels)\n",
        "\n",
        "label_df.reset_index(drop=True, inplace=True)\n",
        "aggression_df.reset_index(drop=True, inplace=True)\n",
        "\n",
        "label_non_noisy_df.reset_index(drop=True, inplace=True)\n",
        "aggression_non_noisy_df.reset_index(drop=True, inplace=True)\n",
        "\n",
        "label_noisy_df.reset_index(drop=True, inplace=True)\n",
        "aggression_noisy_df.reset_index(drop=True, inplace=True)\n",
        "\n",
        "print(f\"Shape of labelled data in Group 1:{label_df.shape} \\n Shape of data in Group 1: {aggression_df.shape}\\n\")\n",
        "print(f\"Shape of labelled data in Group 2:{label_non_noisy_df.shape} \\n Shape of data in Group 2: {aggression_non_noisy_df.shape}\\n\")\n",
        "print(f\"Shape of labelled data in Group 3:{label_noisy_df.shape} \\n Shape of data in Group 3: {aggression_noisy_df.shape}\\n\")"
      ]
    },
    {
      "cell_type": "markdown",
      "metadata": {
        "id": "52UlVRWUwfQz"
      },
      "source": [
        "ROUGH CODE BLOCK BELOW: Extra code to run model against parent labels and not segment labels"
      ]
    },
    {
      "cell_type": "code",
      "execution_count": null,
      "metadata": {
        "id": "qLinOTM0wfQz",
        "outputId": "d5786505-d2b9-4fa1-b325-7dd740a2234a"
      },
      "outputs": [
        {
          "data": {
            "text/html": [
              "<div>\n",
              "<style scoped>\n",
              "    .dataframe tbody tr th:only-of-type {\n",
              "        vertical-align: middle;\n",
              "    }\n",
              "\n",
              "    .dataframe tbody tr th {\n",
              "        vertical-align: top;\n",
              "    }\n",
              "\n",
              "    .dataframe thead th {\n",
              "        text-align: right;\n",
              "    }\n",
              "</style>\n",
              "<table border=\"1\" class=\"dataframe\">\n",
              "  <thead>\n",
              "    <tr style=\"text-align: right;\">\n",
              "      <th></th>\n",
              "      <th>filename</th>\n",
              "      <th>parent_label</th>\n",
              "    </tr>\n",
              "  </thead>\n",
              "  <tbody>\n",
              "    <tr>\n",
              "      <th>0</th>\n",
              "      <td>00g8dfgpqpt61</td>\n",
              "      <td>0</td>\n",
              "    </tr>\n",
              "    <tr>\n",
              "      <th>1</th>\n",
              "      <td>00g8dfgpqpt62</td>\n",
              "      <td>0</td>\n",
              "    </tr>\n",
              "    <tr>\n",
              "      <th>2</th>\n",
              "      <td>00g8dfgpqpt63</td>\n",
              "      <td>0</td>\n",
              "    </tr>\n",
              "    <tr>\n",
              "      <th>3</th>\n",
              "      <td>01avx2fm1t961</td>\n",
              "      <td>3</td>\n",
              "    </tr>\n",
              "    <tr>\n",
              "      <th>4</th>\n",
              "      <td>09etqbnf0uc61</td>\n",
              "      <td>0</td>\n",
              "    </tr>\n",
              "    <tr>\n",
              "      <th>...</th>\n",
              "      <td>...</td>\n",
              "      <td>...</td>\n",
              "    </tr>\n",
              "    <tr>\n",
              "      <th>69</th>\n",
              "      <td>wjha1sf516b71</td>\n",
              "      <td>0</td>\n",
              "    </tr>\n",
              "    <tr>\n",
              "      <th>70</th>\n",
              "      <td>wkgibcp6fro51</td>\n",
              "      <td>0</td>\n",
              "    </tr>\n",
              "    <tr>\n",
              "      <th>71</th>\n",
              "      <td>wocoyi48sgs51</td>\n",
              "      <td>2</td>\n",
              "    </tr>\n",
              "    <tr>\n",
              "      <th>72</th>\n",
              "      <td>xbw64yf04th51</td>\n",
              "      <td>1</td>\n",
              "    </tr>\n",
              "    <tr>\n",
              "      <th>73</th>\n",
              "      <td>xda96lajcd871</td>\n",
              "      <td>0</td>\n",
              "    </tr>\n",
              "  </tbody>\n",
              "</table>\n",
              "<p>74 rows × 2 columns</p>\n",
              "</div>"
            ],
            "text/plain": [
              "         filename  parent_label\n",
              "0   00g8dfgpqpt61             0\n",
              "1   00g8dfgpqpt62             0\n",
              "2   00g8dfgpqpt63             0\n",
              "3   01avx2fm1t961             3\n",
              "4   09etqbnf0uc61             0\n",
              "..            ...           ...\n",
              "69  wjha1sf516b71             0\n",
              "70  wkgibcp6fro51             0\n",
              "71  wocoyi48sgs51             2\n",
              "72  xbw64yf04th51             1\n",
              "73  xda96lajcd871             0\n",
              "\n",
              "[74 rows x 2 columns]"
            ]
          },
          "execution_count": 210,
          "metadata": {},
          "output_type": "execute_result"
        }
      ],
      "source": [
        "# print(aggression_noisy_df.tail(10))\n",
        "\n",
        "to_add = aggression_noisy_df.parent_file_train.unique()\n",
        "\n",
        "actual_noisy_test_df = pd.DataFrame(to_add, columns = ['filename'])\n",
        "actual_noisy_test_df[\"parent_label\"] = -1\n",
        "\n",
        "actual_noisy_test_df.head()\n",
        "\n",
        "for fn in to_add:    \n",
        "    actual_noisy_test_df.loc[actual_noisy_test_df['filename'] == fn, ['parent_label']] = noisy_df.loc[noisy_df.parent_file_train == fn, 'parent_label_train'].values[0]\n",
        "    # actual_noisy_test_df.at[0, fn] = aggression_noisy_df.iloc[0][fn]\n",
        "\n",
        "actual_noisy_test_df\n",
        "# print(noisy_df.loc[noisy_df.parent_file_train == '3nvn1lwacgg61', 'parent_label_train'].values[0])"
      ]
    },
    {
      "cell_type": "markdown",
      "metadata": {
        "id": "OWLPT3fowfQ0"
      },
      "source": [
        "# Standardization"
      ]
    },
    {
      "cell_type": "code",
      "execution_count": null,
      "metadata": {
        "id": "EGxLwcczwfQ0"
      },
      "outputs": [],
      "source": [
        "from sklearn.preprocessing import StandardScaler\n",
        "\n",
        "# Helper function: returns a standardized dataframe\n",
        "def standardize(df):\n",
        "    features = df.columns\n",
        "    values_array = df.loc[:, features].values\n",
        "\n",
        "    # Print data before standardization to compare\n",
        "\n",
        "    print(\"Before Standardization \\n\")\n",
        "    print(\"Mean and Standard Deviation\")\n",
        "    print(f\"Mean = {np.mean(values_array)} ; Standard Deviation = {np.std(values_array)}\")\n",
        "    print(f\"Shape to verify: {values_array.shape} \\n\")\n",
        "    print(f\"Tail of the data pre standardization: \\n{values_array[-5:]} \\n\\n\")\n",
        "\n",
        "    # Invoke standardization\n",
        "\n",
        "    values_array = StandardScaler().fit_transform(values_array)\n",
        "\n",
        "    # Print data after standardization to compare\n",
        "\n",
        "    print(\"After Standardization \\n\")\n",
        "    print(\"Mean and Standard Deviation\")\n",
        "    print(f\"Mean = {np.mean(values_array)} ; Standard Deviation = {np.std(values_array)}\")\n",
        "    print(f\"Shape to verify: {values_array.shape}\")\n",
        "    print(f\"Tail of the data post standardization: \\n{values_array[-5:]}\")\n",
        "\n",
        "    return pd.DataFrame(values_array, columns=features)"
      ]
    },
    {
      "cell_type": "markdown",
      "metadata": {
        "id": "Zqqna4hJwfQ1"
      },
      "source": [
        "Standardize data for all groups"
      ]
    },
    {
      "cell_type": "code",
      "execution_count": null,
      "metadata": {
        "id": "_lW8YuZwwfQ1",
        "outputId": "4c0adc2f-7673-4a27-d1d5-f8c3a93f989b"
      },
      "outputs": [
        {
          "name": "stdout",
          "output_type": "stream",
          "text": [
            "Before Standardization \n",
            "\n",
            "Mean and Standard Deviation\n",
            "Mean = 207.03214462485482 ; Standard Deviation = 405.89809500083527\n",
            "Shape to verify: (2110, 10) \n",
            "\n",
            "Tail of the data pre standardization: \n",
            "[[ 5.46549109e+00  1.04113896e+02  6.95505405e+01  1.99893943e+02\n",
            "   4.43057705e+02  1.96756913e-01  3.32257430e-02 -2.08904800e-02\n",
            "   1.00267610e+03  3.64816420e-02]\n",
            " [ 6.87944281e+00  1.08028173e+02  7.55010015e+01  2.58536830e+02\n",
            "   3.79915372e+02  1.49580347e-01  2.42058080e-02 -8.14106130e-02\n",
            "   1.02367036e+03  1.41290270e-01]\n",
            " [ 4.46876994e+00  1.04678268e+02  7.11002256e+01  1.94904220e+02\n",
            "   4.93340814e+02  1.62627554e-01  3.44649850e-02 -2.81549870e-02\n",
            "   9.80207236e+02  5.17316800e-02]\n",
            " [ 8.58194493e+00  1.09335715e+02  7.67849889e+01  2.85988051e+02\n",
            "   5.20259229e+02  1.49757852e-01  2.25093080e-02 -1.08298994e-01\n",
            "   1.14621189e+03  1.90454480e-01]\n",
            " [ 2.82922212e+00  1.05455598e+02  7.46545323e+01  1.86190085e+02\n",
            "   4.86287854e+02  1.95173250e-01  3.43624990e-02 -8.18768770e-02\n",
            "   6.98359229e+02  1.16369388e-01]] \n",
            "\n",
            "\n",
            "After Standardization \n",
            "\n",
            "Mean and Standard Deviation\n",
            "Mean = -4.0410013408157355e-17 ; Standard Deviation = 1.0\n",
            "Shape to verify: (2110, 10)\n",
            "Tail of the data post standardization: \n",
            "[[-0.32365924 -0.01422475 -0.29255471 -0.27458251  0.20262229  0.98759227\n",
            "  -0.00653909  0.47908196 -0.46538276 -0.48087177]\n",
            " [ 0.05372541  0.71169412  0.71983358  0.36554188 -0.35001804 -0.25594035\n",
            "  -0.56507412 -0.21535199 -0.42472645  0.26042471]\n",
            " [-0.58968478  0.09044026 -0.02889731 -0.32904851  0.64271489  0.0879725\n",
            "   0.07019761  0.39572589 -0.50889468 -0.37301043]\n",
            " [ 0.50812436  0.95418323  0.9382862   0.66518941  0.87831281 -0.25126147\n",
            "  -0.67012529 -0.5238808  -0.18741949  0.60815615]\n",
            " [-1.02728118  0.23459934  0.5758186  -0.42416882  0.5809853   0.94584831\n",
            "   0.06385144 -0.2207021  -1.05470554  0.08416286]]\n",
            "Before Standardization \n",
            "\n",
            "Mean and Standard Deviation\n",
            "Mean = 207.29693013792163 ; Standard Deviation = 410.78706249224183\n",
            "Shape to verify: (1848, 10) \n",
            "\n",
            "Tail of the data pre standardization: \n",
            "[[ 5.46549109e+00  1.04113896e+02  6.95505405e+01  1.99893943e+02\n",
            "   4.43057705e+02  1.96756913e-01  3.32257430e-02 -2.08904800e-02\n",
            "   1.00267610e+03  3.64816420e-02]\n",
            " [ 6.87944281e+00  1.08028173e+02  7.55010015e+01  2.58536830e+02\n",
            "   3.79915372e+02  1.49580347e-01  2.42058080e-02 -8.14106130e-02\n",
            "   1.02367036e+03  1.41290270e-01]\n",
            " [ 4.46876994e+00  1.04678268e+02  7.11002256e+01  1.94904220e+02\n",
            "   4.93340814e+02  1.62627554e-01  3.44649850e-02 -2.81549870e-02\n",
            "   9.80207236e+02  5.17316800e-02]\n",
            " [ 8.58194493e+00  1.09335715e+02  7.67849889e+01  2.85988051e+02\n",
            "   5.20259229e+02  1.49757852e-01  2.25093080e-02 -1.08298994e-01\n",
            "   1.14621189e+03  1.90454480e-01]\n",
            " [ 2.82922212e+00  1.05455598e+02  7.46545323e+01  1.86190085e+02\n",
            "   4.86287854e+02  1.95173250e-01  3.43624990e-02 -8.18768770e-02\n",
            "   6.98359229e+02  1.16369388e-01]] \n",
            "\n",
            "\n",
            "After Standardization \n",
            "\n",
            "Mean and Standard Deviation\n",
            "Mean = 1.4610727250478251e-16 ; Standard Deviation = 1.0\n",
            "Shape to verify: (1848, 10)\n",
            "Tail of the data post standardization: \n",
            "[[-0.43450811  0.06085138 -0.18930582 -0.22757797  0.23312906  1.09675784\n",
            "   0.09195304  0.44853583 -0.47263524 -0.44768369]\n",
            " [-0.05520637  0.77702085  0.83853979  0.43363152 -0.3205323  -0.15920768\n",
            "  -0.4875841  -0.39854979 -0.43326115  0.45817855]\n",
            " [-0.70188503  0.16411069  0.07837714 -0.28383803  0.67403474  0.18814363\n",
            "   0.17157521  0.34685629 -0.5147749  -0.31587743]\n",
            " [ 0.40150089  1.01625323  1.06032779  0.74314916  0.91006793 -0.15448202\n",
            "  -0.59658542 -0.77489993 -0.2034383   0.88310541]\n",
            " [-1.14170439  0.30633366  0.69232597 -0.38209152  0.61219111  1.05459652\n",
            "   0.16499041 -0.40507597 -1.04337214  0.24278707]]\n",
            "Before Standardization \n",
            "\n",
            "Mean and Standard Deviation\n",
            "Mean = 205.16449718917747 ; Standard Deviation = 369.5763759893764\n",
            "Shape to verify: (262, 10) \n",
            "\n",
            "Tail of the data pre standardization: \n",
            "[[ 3.60348984e+00  1.06815988e+02  7.13445156e+01  2.41345880e+02\n",
            "   5.23779452e+02  1.74441244e-01  4.91894680e-02 -2.49151480e-02\n",
            "   1.32443820e+03  5.42820370e-02]\n",
            " [ 2.42861500e+00  1.06760440e+02  7.36384252e+01  2.79496240e+02\n",
            "   5.01396651e+02  1.71398232e-01  4.19367510e-02 -5.47768610e-02\n",
            "   1.37909320e+03  5.06922570e-02]\n",
            " [ 1.80212908e+00  9.66808855e+01  6.49915839e+01  9.17385669e+01\n",
            "   4.85505564e+02  2.47473702e-01  1.06098460e-01 -1.13285950e-02\n",
            "   1.49884056e+02  1.25899440e-02]\n",
            " [ 6.70225411e+00  1.03473134e+02  7.23652835e+01  1.17576362e+02\n",
            "   1.55543119e+02  2.16493344e-01  4.82147780e-02 -5.62415540e-02\n",
            "   9.19498820e+02  6.87555620e-02]\n",
            " [ 6.09438752e+00  1.02679005e+02  7.10355755e+01  1.26187841e+02\n",
            "   5.24684265e+02  2.08209860e-01  5.39958830e-02 -4.01669450e-02\n",
            "   1.11999405e+03  5.08918460e-02]] \n",
            "\n",
            "\n",
            "After Standardization \n",
            "\n",
            "Mean and Standard Deviation\n",
            "Mean = 1.640757080667407e-16 ; Standard Deviation = 1.0\n",
            "Shape to verify: (262, 10)\n",
            "Tail of the data post standardization: \n",
            "[[-0.08572657 -0.07004689 -0.9734482  -0.18137874  0.70599997 -0.38282357\n",
            "   0.31271638  0.75444283  0.4471388  -0.72317081]\n",
            " [-0.5812102  -0.08492555 -0.45703185  0.18736107  0.5075632  -0.48725288\n",
            "  -0.13920448  0.5422883   0.59622535 -0.73896256]\n",
            " [-0.84542006 -2.78478187 -2.40365177 -1.62739843  0.36667933  2.12348555\n",
            "   3.85874755  0.8509694  -2.75678067 -0.90657793]\n",
            " [ 1.22112495 -0.96544614 -0.74364786 -1.37766491 -2.55863284  1.06030958\n",
            "   0.2519829   0.53188229 -0.65744474 -0.65950053]\n",
            " [ 0.96476748 -1.17815737 -1.04299834 -1.29443122  0.71402167  0.77603911\n",
            "   0.61220679  0.64608542 -0.11053886 -0.73808456]]\n"
          ]
        }
      ],
      "source": [
        "standardized_aggression_df = standardize(aggression_df)\n",
        "standardized_non_noisy_df = standardize(aggression_non_noisy_df)\n",
        "standardized_noisy_df = standardize(aggression_noisy_df)"
      ]
    },
    {
      "cell_type": "markdown",
      "metadata": {
        "id": "-Wg5-hAwwfQ2"
      },
      "source": [
        "# Modelling"
      ]
    },
    {
      "cell_type": "code",
      "execution_count": null,
      "metadata": {
        "id": "fXSFRGBuwfQ2"
      },
      "outputs": [],
      "source": [
        "%matplotlib inline\n",
        "import copy\n",
        "import matplotlib.pyplot as plt\n",
        "import seaborn as sns\n",
        "\n",
        "from sklearn.metrics import accuracy_score, precision_score, recall_score, f1_score, confusion_matrix, classification_report\n",
        "from sklearn import svm, mixture\n",
        "from sklearn.model_selection import GridSearchCV, train_test_split\n",
        "\n",
        "def hyperparameter_tuning(ml_model, data, label, parameters):\n",
        "    clf = GridSearchCV(ml_model, parameters, refit=True, verbose=0, scoring='f1_weighted', n_jobs=-1)\n",
        "    clf.fit(data, label)\n",
        "    print(clf.best_params_)\n",
        "\n",
        "def run_model(ml_model, data, label):\n",
        "    model = copy.deepcopy(ml_model)\n",
        "\n",
        "    actual_labels = np.empty([0], dtype=int)\n",
        "    predicted_labels = np.empty([0], dtype=int)\n",
        "\n",
        "    X_train, X_test, y_train, y_test = train_test_split(data, label, test_size=0.25)\n",
        "    \n",
        "    model.fit(X_train, y_train)\n",
        "    y_pred = model.predict(X_test)\n",
        "\n",
        "    actual_labels = np.append(actual_labels, y_test)\n",
        "    predicted_labels = np.append(predicted_labels, y_pred)\n",
        "\n",
        "    acc_score = accuracy_score(y_test, y_pred)\n",
        "    prec_score = precision_score(y_test, y_pred, average='weighted')\n",
        "    rec_score = recall_score(y_test, y_pred, average='weighted')\n",
        "    fone_score = f1_score(y_test, y_pred, average='weighted')\n",
        "\n",
        "    print(f'F1 score = {fone_score}; Accuracy score = {acc_score} ; Precisison Score = {prec_score}; Recall score = {rec_score}')\n",
        "\n",
        "    return actual_labels, predicted_labels\n",
        "\n",
        "def confusion_matrix_graph(model_name, actual_labels, predicted_labels, label_names):\n",
        "    matrix = confusion_matrix(actual_labels, predicted_labels)\n",
        "\n",
        "    plt.figure(figsize=(14, 8))\n",
        "    ax = sns.heatmap(matrix, annot=True, xticklabels=label_names, yticklabels=label_names, cmap=\"Greens\")\n",
        "    ax.set_title(model_name);\n",
        "    ax.set_xlabel('Predicted')\n",
        "    ax.set_ylabel('Actual');\n",
        "\n",
        "    print(\"\\n\\n Aggregate report \\n\", classification_report(actual_labels, predicted_labels, target_names=label_names))\n",
        "\n",
        "    plt.show()    \n",
        "\n"
      ]
    },
    {
      "cell_type": "markdown",
      "metadata": {
        "id": "owzA-A0QwfQ3"
      },
      "source": [
        "Convert dataframes to numpy array"
      ]
    },
    {
      "cell_type": "code",
      "execution_count": null,
      "metadata": {
        "id": "PEI74RrJwfQ3"
      },
      "outputs": [],
      "source": [
        "\n",
        "data_np = standardized_aggression_df.to_numpy()\n",
        "label_np = label_df['segment_label_train'].to_numpy()\n",
        "\n",
        "data_non_noisy_np = standardized_non_noisy_df.to_numpy()\n",
        "label_non_noisy_np = label_non_noisy_df['segment_label_train'].to_numpy()\n",
        "\n",
        "data_noisy_np = standardized_noisy_df.to_numpy()\n",
        "label_noisy_np = label_noisy_df['segment_label_train'].to_numpy()"
      ]
    },
    {
      "cell_type": "markdown",
      "metadata": {
        "id": "-Pai7xowwfQ3"
      },
      "source": [
        "## SVM"
      ]
    },
    {
      "cell_type": "markdown",
      "metadata": {
        "id": "gEDqjCi3wfQ3"
      },
      "source": [
        "Hyperparameter Tuning for SVM"
      ]
    },
    {
      "cell_type": "code",
      "execution_count": null,
      "metadata": {
        "id": "ML9XM0tKwfQ4",
        "outputId": "3ce6e227-cc36-4f6b-c135-493eb11d4af3"
      },
      "outputs": [
        {
          "name": "stdout",
          "output_type": "stream",
          "text": [
            "{'C': 1, 'degree': 1, 'gamma': 'auto', 'kernel': 'rbf'}\n"
          ]
        }
      ],
      "source": [
        "# original_parameters = {'C': [0.01, 0.1, 1, 10, 100, 1000, 10000], 'gamma': ['scale', 'auto'],\n",
        "#                    'kernel': ['rbf', 'linear', 'poly', 'sigmoid'], 'degree': [1,2,3,4,5,6]}\n",
        "\n",
        "quick_parameters = {'C': [ 0.1, 1, 10, 100], 'gamma': ['auto'],\n",
        "                 'kernel': ['rbf', 'linear', 'poly', 'sigmoid'], 'degree': [1]}\n",
        "\n",
        "svc = svm.SVC()\n",
        "hyperparameter_tuning(svc, data_np, label_np, quick_parameters)"
      ]
    },
    {
      "cell_type": "markdown",
      "metadata": {
        "id": "-kCoPOu0wfQ4"
      },
      "source": [
        "Results from hyper parameter tuning for SVM using `original_parameters`: **`{'C': 1, 'degree': 1, 'gamma': 'auto', 'kernel': 'rbf'}`**"
      ]
    },
    {
      "cell_type": "markdown",
      "metadata": {
        "id": "WmYQrN7wwfQ5"
      },
      "source": [
        "***NOTE: `orginal_parameters` were the actual parameters against which the parameters were tuned. However, the results took over 4 hours to be processed. Therefore, `quick_parameters` is just a smaller subset of the `original_parameters`.***"
      ]
    },
    {
      "cell_type": "markdown",
      "metadata": {
        "id": "ZRvjng6VwfQ5"
      },
      "source": [
        "Run SVM model"
      ]
    },
    {
      "cell_type": "code",
      "execution_count": null,
      "metadata": {
        "id": "IxW1-Vf2wfQ5",
        "outputId": "9737337e-5edb-4965-bfc8-00aded1fd52e"
      },
      "outputs": [
        {
          "name": "stdout",
          "output_type": "stream",
          "text": [
            "F1 score = 0.5742407229890937; Accuracy score = 0.5871212121212122 ; Precisison Score = 0.5771966214061278; Recall score = 0.5871212121212122\n",
            "\n",
            "\n",
            " Aggregate report \n",
            "               precision    recall  f1-score   support\n",
            "\n",
            "           0       0.68      0.79      0.73       244\n",
            "           1       0.47      0.50      0.49       145\n",
            "           2       0.38      0.27      0.32        86\n",
            "           3       0.70      0.40      0.51        53\n",
            "\n",
            "    accuracy                           0.59       528\n",
            "   macro avg       0.56      0.49      0.51       528\n",
            "weighted avg       0.58      0.59      0.57       528\n",
            "\n"
          ]
        },
        {
          "data": {
            "image/png": "[encoded data removed]",
            "text/plain": [
              "<Figure size 1008x576 with 2 Axes>"
            ]
          },
          "metadata": {
            "needs_background": "light"
          },
          "output_type": "display_data"
        },
        {
          "name": "stdout",
          "output_type": "stream",
          "text": [
            "F1 score = 0.5176183049348846; Accuracy score = 0.525974025974026 ; Precisison Score = 0.5201631528140005; Recall score = 0.525974025974026\n",
            "\n",
            "\n",
            " Aggregate report \n",
            "               precision    recall  f1-score   support\n",
            "\n",
            "           0       0.60      0.67      0.63       202\n",
            "           1       0.48      0.50      0.49       160\n",
            "           2       0.31      0.25      0.28        67\n",
            "           3       0.62      0.30      0.41        33\n",
            "\n",
            "    accuracy                           0.53       462\n",
            "   macro avg       0.51      0.43      0.45       462\n",
            "weighted avg       0.52      0.53      0.52       462\n",
            "\n"
          ]
        },
        {
          "data": {
            "image/png": "[encoded data removed]",
            "text/plain": [
              "<Figure size 1008x576 with 2 Axes>"
            ]
          },
          "metadata": {
            "needs_background": "light"
          },
          "output_type": "display_data"
        },
        {
          "name": "stderr",
          "output_type": "stream",
          "text": [
            "C:\\Users\\samee\\AppData\\Local\\Programs\\Python\\Python39\\lib\\site-packages\\sklearn\\metrics\\_classification.py:1318: UndefinedMetricWarning: Precision is ill-defined and being set to 0.0 in labels with no predicted samples. Use `zero_division` parameter to control this behavior.\n",
            "  _warn_prf(average, modifier, msg_start, len(result))\n",
            "C:\\Users\\samee\\AppData\\Local\\Programs\\Python\\Python39\\lib\\site-packages\\sklearn\\metrics\\_classification.py:1318: UndefinedMetricWarning: Precision and F-score are ill-defined and being set to 0.0 in labels with no predicted samples. Use `zero_division` parameter to control this behavior.\n",
            "  _warn_prf(average, modifier, msg_start, len(result))\n",
            "C:\\Users\\samee\\AppData\\Local\\Programs\\Python\\Python39\\lib\\site-packages\\sklearn\\metrics\\_classification.py:1318: UndefinedMetricWarning: Precision and F-score are ill-defined and being set to 0.0 in labels with no predicted samples. Use `zero_division` parameter to control this behavior.\n",
            "  _warn_prf(average, modifier, msg_start, len(result))\n",
            "C:\\Users\\samee\\AppData\\Local\\Programs\\Python\\Python39\\lib\\site-packages\\sklearn\\metrics\\_classification.py:1318: UndefinedMetricWarning: Precision and F-score are ill-defined and being set to 0.0 in labels with no predicted samples. Use `zero_division` parameter to control this behavior.\n",
            "  _warn_prf(average, modifier, msg_start, len(result))\n"
          ]
        },
        {
          "name": "stdout",
          "output_type": "stream",
          "text": [
            "F1 score = 0.5864290421252446; Accuracy score = 0.6666666666666666 ; Precisison Score = 0.5276021080368906; Recall score = 0.6666666666666666\n",
            "\n",
            "\n",
            " Aggregate report \n",
            "               precision    recall  f1-score   support\n",
            "\n",
            "           0       0.65      0.91      0.76        33\n",
            "           1       0.00      0.00      0.00         5\n",
            "           2       0.00      0.00      0.00         9\n",
            "           3       0.70      0.74      0.72        19\n",
            "\n",
            "    accuracy                           0.67        66\n",
            "   macro avg       0.34      0.41      0.37        66\n",
            "weighted avg       0.53      0.67      0.59        66\n",
            "\n"
          ]
        },
        {
          "data": {
            "image/png": "[encoded data removed]",
            "text/plain": [
              "<Figure size 1008x576 with 2 Axes>"
            ]
          },
          "metadata": {
            "needs_background": "light"
          },
          "output_type": "display_data"
        }
      ],
      "source": [
        "lst_data_np = [data_np, data_non_noisy_np, data_noisy_np]\n",
        "lst_label_np = [label_np, label_non_noisy_np, label_noisy_np]\n",
        "\n",
        "\n",
        "for i in range(3):\n",
        "    svm_model = svm.SVC(kernel='rbf', gamma='auto', C=1, degree=3)\n",
        "    actual, predicted = run_model(svm_model, lst_data_np[i], lst_label_np[i])\n",
        "\n",
        "    confusion_matrix_graph(f\"SVM - Group {i+1}\", actual, predicted, ['0', '1', '2', '3'])"
      ]
    },
    {
      "cell_type": "code",
      "execution_count": null,
      "metadata": {
        "id": "_a5CEF1-wfQ6"
      },
      "outputs": [],
      "source": [
        ""
      ]
    }
  ],
  "metadata": {
    "colab": {
      "name": "modelling.ipynb",
      "provenance": []
    },
    "kernelspec": {
      "display_name": "Python 3",
      "name": "python3"
    },
    "language_info": {
      "codemirror_mode": {
        "name": "ipython",
        "version": 3
      },
      "file_extension": ".py",
      "mimetype": "text/x-python",
      "name": "python",
      "nbconvert_exporter": "python",
      "pygments_lexer": "ipython3",
      "version": "3.9.2"
    }
  },
  "nbformat": 4,
  "nbformat_minor": 0
}