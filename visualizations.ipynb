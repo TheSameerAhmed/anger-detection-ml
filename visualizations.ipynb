{
  "cells": [
    {
      "cell_type": "markdown",
      "metadata": {
        "id": "OGpkBzocKzkg"
      },
      "source": [
        "# Visualizations"
      ]
    },
    {
      "cell_type": "markdown",
      "metadata": {},
      "source": [
        "Visualize the features on a per level basis in order to better understand which features may be useful for training\n",
        "\n",
        "Bar plots : binned in quantiles and coloured per label, this way we can see if there are patterns for certain features eblowing to a certain quantile given the level and see if there are relationships between features\n",
        "\n",
        "Radar plots : the average of the features, each colour is the level, seeing different shapes and points for each feature falling in different values indicates that this feature may be useful for classification"
      ]
    },
    {
      "cell_type": "markdown",
      "id": "d008ae57",
      "metadata": {
        "id": "j_ozxaRrIh9Z"
      },
      "source": [
        "### Install Packages"
      ]
    },
    {
      "cell_type": "code",
      "execution_count": null,
      "id": "3b5ed010",
      "metadata": {
        "id": "2GHuvxosIa4X",
        "scrolled": true,
        "tags": []
      },
      "outputs": [],
      "source": [
        "import sys\n",
        "# !{sys.executable} -m pip install numpy\n",
        "# !{sys.executable} -m pip install pandas\n",
        "# !{sys.executable} -m pip install sklearn\n",
        "# !{sys.executable} -m pip install seaborn\n",
        "# !{sys.executable} -m pip install matplot\n",
        "# !{sys.executable} -m pip install plotly\n",
        "# !{sys.executable} -m pip install --upgrade nbformat\n",
        "\n",
        "import pandas as pd\n",
        "import numpy as np\n",
        "import matplotlib.pyplot as plt\n",
        "from matplotlib.pyplot import figure"
      ]
    },
    {
      "cell_type": "markdown",
      "metadata": {
        "id": "Kf_nED8AK7Ax"
      },
      "source": [
        "## Import data"
      ]
    },
    {
      "cell_type": "code",
      "execution_count": null,
      "metadata": {},
      "outputs": [],
      "source": [
        "## DETERMINES IF PLOTS WILL BE RENDERED\n",
        "showPlots = True\n",
        "df_merged = pd.read_csv('./extracted/full-train-features.csv')\n",
        "df_merged"
      ]
    },
    {
      "cell_type": "markdown",
      "metadata": {},
      "source": [
        "Save this for modeling"
      ]
    },
    {
      "cell_type": "code",
      "execution_count": null,
      "metadata": {},
      "outputs": [],
      "source": [
        "#df_merged.to_csv(f\"extracted/full-train.csv\", index=False)"
      ]
    },
    {
      "cell_type": "code",
      "execution_count": null,
      "metadata": {},
      "outputs": [],
      "source": [
        "nrows = 5\n",
        "ncols = 2\n",
        "\n",
        "features = [\n",
        "  'get_max_intensity',\n",
        "  'analyse_intensity',\n",
        "  'analyse_pitch',\n",
        "  'analyse_pitch_range',\n",
        "  'analyse_shimmer',\n",
        "  'analyse_jitter',\n",
        "  'spectral_slope',\n",
        "  'mean_spectral_rolloff',\n",
        "  'get_energy',\n",
        "  'analyse_harmonics'\n",
        "]"
      ]
    },
    {
      "cell_type": "code",
      "execution_count": null,
      "metadata": {
        "id": "CXUn5cv_Elte"
      },
      "outputs": [],
      "source": [
        "def barPlotDataframes(dataframe, dataframeName,type):\n",
        "  '''\n",
        "    Produces a bar plot for each feature in counts of three bins\n",
        "    @TODO increase bins with more data\n",
        "    The bars are separated and colour coded by label\n",
        "    type is either : 'segment' or 'parent'\n",
        "  '''\n",
        "  fig, plots = plt.subplots(nrows, ncols, figsize = (25,50))\n",
        "  featureIdx = -1\n",
        "  for rowIdx in range(nrows):\n",
        "    for colIdx in range(ncols):\n",
        "      featureIdx += 1\n",
        "      if featureIdx > 13:\n",
        "        break\n",
        "      feature = features[featureIdx]\n",
        "      temp_df = dataframe[dataframe[feature] != 0]\n",
        "      temp_df[f'binned_{feature}'] = pd.qcut(temp_df[feature], q=4)\n",
        "      temp_df_0 = temp_df[temp_df[f'{type}_label_train'] == 0]\n",
        "      temp_df_1 = temp_df[temp_df[f'{type}_label_train'] == 1]\n",
        "      temp_df_2 = temp_df[temp_df[f'{type}_label_train'] == 2]\n",
        "      temp_df_3 = temp_df[temp_df[f'{type}_label_train'] == 3]\n",
        "\n",
        "      ind = np.arange(4)  # the x locations for the groups\n",
        "      width = 0.20     # the width of the bars\n",
        "\n",
        "      cats = []\n",
        "      counts_0 = []\n",
        "      for idx,name in enumerate(temp_df_0[f'binned_{feature}'].value_counts().sort_index(ascending=True).index.tolist()):\n",
        "        counts_0.append(temp_df_0[f'binned_{feature}'].value_counts().sort_index(ascending=True).iloc[idx])\n",
        "        counts_0_relative = [x / len(temp_df_0) for x in counts_0]\n",
        "\n",
        "      counts_1 = []\n",
        "      for idx,name in enumerate(temp_df_1[f'binned_{feature}'].value_counts().sort_index(ascending=True).index.tolist()):\n",
        "        cats.append(name)\n",
        "        counts_1.append(temp_df_1[f'binned_{feature}'].value_counts().sort_index(ascending=True).iloc[idx])\n",
        "        counts_1_relative = [x / len(temp_df_1) for x in counts_1]\n",
        "\n",
        "      counts_2 = []\n",
        "      for idx,name in enumerate(temp_df_2[f'binned_{feature}'].value_counts(normalize = True).sort_index(ascending=True).index.tolist()):\n",
        "        counts_2.append(temp_df_2[f'binned_{feature}'].value_counts().sort_index(ascending=True).iloc[idx])\n",
        "        counts_2_relative = [x / len(temp_df_2) for x in counts_2]\n",
        "\n",
        "      counts_3 = []\n",
        "      for idx,name in enumerate(temp_df_3[f'binned_{feature}'].value_counts(normalize = True).sort_index(ascending=True).index.tolist()):\n",
        "        counts_3.append(temp_df_3[f'binned_{feature}'].value_counts().sort_index(ascending=True).iloc[idx])\n",
        "        counts_3_relative = [x / len(temp_df_3) for x in counts_3]\n",
        "\n",
        "      # fig, ax = plt.subplots(figsize = (20, 10))\n",
        "\n",
        "      ax = plots[rowIdx][colIdx]\n",
        "\n",
        "      rects0 = ax.bar(ind, counts_0_relative,\n",
        "                width,\n",
        "                color = 'cornflowerblue')\n",
        "      rects1 = ax.bar(ind + width , counts_1_relative,\n",
        "                      width,\n",
        "                      color = 'salmon')\n",
        "      rects2 = ax.bar(ind + width + width, counts_2_relative,\n",
        "                      width,\n",
        "                      color = 'aquamarine')\n",
        "      rects3 = ax.bar(ind + width + width + width, counts_3_relative,\n",
        "                      width,\n",
        "                      color = 'mediumorchid')\n",
        "\n",
        "      # add some text for labels, title and axes ticks\n",
        "      ax.set_ylabel('counts')\n",
        "      ax.set_xticks(ind + width+(width/2))\n",
        "      ax.set_title(f'Counts of binned {feature} for {dataframeName}')\n",
        "      ax.set_xticklabels(cats)\n",
        "      \n",
        "      ax.legend((rects0[0], rects1[0], rects2[0], rects3[0]), ('none', 'annoyance', 'threatening', 'aggressive'), fontsize=10)"
      ]
    },
    {
      "cell_type": "markdown",
      "metadata": {
        "id": "BK8KInFJTM-c"
      },
      "source": [
        "## Binned bar plots"
      ]
    },
    {
      "cell_type": "markdown",
      "metadata": {},
      "source": [
        "## Group 1 - Segment Analysis"
      ]
    },
    {
      "cell_type": "code",
      "execution_count": null,
      "metadata": {
        "colab": {
          "base_uri": "https://localhost:8080/",
          "height": 1000
        },
        "id": "idPCml2eicsz",
        "outputId": "5d7246eb-f56a-404d-a9cb-b08c70e279e7"
      },
      "outputs": [],
      "source": [
        "barPlotDataframes(df_merged, 'all reddit data segment', 'segment')"
      ]
    },
    {
      "cell_type": "markdown",
      "metadata": {},
      "source": [
        "## Group 1 - Parent Analysis"
      ]
    },
    {
      "cell_type": "code",
      "execution_count": null,
      "metadata": {},
      "outputs": [],
      "source": [
        "barPlotDataframes(df_merged, 'all reddit data parent', 'parent')"
      ]
    },
    {
      "cell_type": "markdown",
      "metadata": {},
      "source": [
        "### No noise"
      ]
    },
    {
      "cell_type": "code",
      "execution_count": null,
      "metadata": {},
      "outputs": [],
      "source": [
        "no_noise = df_merged[df_merged.noisy_train != 1]"
      ]
    },
    {
      "cell_type": "markdown",
      "metadata": {},
      "source": [
        "segment"
      ]
    },
    {
      "cell_type": "code",
      "execution_count": null,
      "metadata": {},
      "outputs": [],
      "source": [
        "barPlotDataframes(no_noise, 'non-noisy data segment', 'segment')"
      ]
    },
    {
      "cell_type": "markdown",
      "metadata": {},
      "source": [
        "parent"
      ]
    },
    {
      "cell_type": "code",
      "execution_count": null,
      "metadata": {},
      "outputs": [],
      "source": [
        "barPlotDataframes(no_noise, 'non-noisy data parent', 'parent')"
      ]
    },
    {
      "cell_type": "markdown",
      "metadata": {},
      "source": [
        "### Noisy"
      ]
    },
    {
      "cell_type": "markdown",
      "metadata": {},
      "source": [
        "segment"
      ]
    },
    {
      "cell_type": "code",
      "execution_count": null,
      "metadata": {},
      "outputs": [],
      "source": [
        "noise = df_merged[df_merged.noisy_train == 1]"
      ]
    },
    {
      "cell_type": "code",
      "execution_count": null,
      "metadata": {},
      "outputs": [],
      "source": [
        "noise"
      ]
    },
    {
      "cell_type": "markdown",
      "metadata": {},
      "source": [
        "segment"
      ]
    },
    {
      "cell_type": "code",
      "execution_count": null,
      "metadata": {},
      "outputs": [],
      "source": [
        "barPlotDataframes(noise, 'noisy data segment', 'segment')"
      ]
    },
    {
      "cell_type": "markdown",
      "metadata": {},
      "source": [
        "parent"
      ]
    },
    {
      "cell_type": "code",
      "execution_count": null,
      "metadata": {},
      "outputs": [],
      "source": [
        "barPlotDataframes(noise, 'noisy data parent', 'parent')"
      ]
    },
    {
      "cell_type": "markdown",
      "metadata": {},
      "source": [
        "## Radar plots"
      ]
    },
    {
      "cell_type": "markdown",
      "metadata": {},
      "source": [
        "If there are issues with running this code please try `pip install --upgrade nbformat`"
      ]
    },
    {
      "cell_type": "code",
      "execution_count": null,
      "metadata": {},
      "outputs": [],
      "source": [
        "import plotly.graph_objects as go\n",
        "from plotly.subplots import make_subplots\n",
        "from sklearn.preprocessing import StandardScaler"
      ]
    },
    {
      "cell_type": "code",
      "execution_count": null,
      "metadata": {},
      "outputs": [],
      "source": [
        "def radarPlotDataframes(dataframe, dfname, type, min, max):\n",
        "\n",
        "  categories = [\t\n",
        "  'max intensity',\n",
        "  'avg intensity',\n",
        "  'avg pitch',\n",
        "  'pitch range',\n",
        "  'shimmer',\n",
        "  'jitter',\n",
        "  'spectral slope',\n",
        "  'spectral rolloff',\n",
        "  'energy',\n",
        "  'harmonics'\n",
        "]\n",
        "\n",
        "  ##scale the data\n",
        "  for feature in features:\n",
        "    scale = StandardScaler(copy = False)\n",
        "    scale.fit_transform(dataframe[feature].to_numpy().reshape(-1, 1))\n",
        "\n",
        "  #select first two ambiences to plot, cafe and fine dining\n",
        "  temp_df_0 = dataframe[dataframe[f'{type}_label_train'] ==0]\n",
        "  temp_df_0 = temp_df_0.drop(f'{type}_label_train', 1).values.tolist()\n",
        "  \n",
        "  #select first two ambiences to plot, cafe and fine dining\n",
        "  temp_df_1 = dataframe[dataframe[f'{type}_label_train'] ==1]\n",
        "  temp_df_1 = temp_df_1.drop(f'{type}_label_train', 1).values.tolist()\n",
        "\n",
        "  #select first two ambiences to plot, cafe and fine dining\n",
        "  temp_df_2 = dataframe[dataframe[f'{type}_label_train'] ==2]\n",
        "  temp_df_2 = temp_df_2.drop(f'{type}_label_train', 1).values.tolist()\n",
        "\n",
        "  #select first two ambiences to plot, cafe and fine dining\n",
        "  temp_df_3 = dataframe[dataframe[f'{type}_label_train'] ==3]\n",
        "  temp_df_3 = temp_df_3.drop(f'{type}_label_train', 1).values.tolist()\n",
        "\n",
        "  #create subplot layout\n",
        "  fig = make_subplots(rows=1, cols=1, \n",
        "                      specs=[[{\"type\": \"polar\"}]],\n",
        "                      subplot_titles=(f'{dfname}',))\n",
        "  \n",
        "  fig.add_trace(go.Scatterpolar(\n",
        "        r=temp_df_0[0],\n",
        "        theta=categories,\n",
        "        fill='toself',\n",
        "        name='none'),\n",
        "        row = 1,\n",
        "        col = 1\n",
        "  )\n",
        "  fig.add_trace(go.Scatterpolar(\n",
        "        r=temp_df_1[0],\n",
        "        theta=categories,\n",
        "        fill='toself',\n",
        "        name='annoyance'),\n",
        "        row = 1,\n",
        "        col = 1\n",
        "  )\n",
        "  fig.add_trace(go.Scatterpolar(\n",
        "        r=temp_df_2[0],\n",
        "        theta=categories,\n",
        "        fill='toself',\n",
        "        name='threatening'),\n",
        "        row = 1,\n",
        "        col = 1\n",
        "  )\n",
        "  fig.add_trace(go.Scatterpolar(\n",
        "        r=temp_df_3[0],\n",
        "        theta=categories,\n",
        "        fill='toself',\n",
        "        name='aggressive'),\n",
        "        row = 1,\n",
        "        col = 1\n",
        "  )\n",
        "  \n",
        "  #change the size and layout, make margins smaller\n",
        "  fig.update_layout(\n",
        "    polar=dict(\n",
        "      radialaxis=dict(\n",
        "        visible=True,\n",
        "        range=[min, max]\n",
        "      ),\n",
        "      angularaxis = dict(tickfont = dict(size = 20))\n",
        "    ),\n",
        "    margin=dict(l=0, r=0, t=100, b=50),\n",
        "    showlegend=True,\n",
        "    autosize=False,\n",
        "    width=1200, height = 1000,\n",
        "    legend=dict(\n",
        "      x=0,\n",
        "      y=1,\n",
        "      traceorder=\"reversed\",\n",
        "      font=dict(\n",
        "          size=20,\n",
        "          color=\"black\"\n",
        "      )\n",
        "    )\n",
        "  )\n",
        "  \n",
        "  #add titles\n",
        "  fig.update_annotations(y=1.05,\n",
        "                         selector={'text':f'{dfname}'},\n",
        "                         font={'size': 20})\n",
        "  \n",
        "  fig.show()"
      ]
    },
    {
      "cell_type": "markdown",
      "metadata": {},
      "source": [
        "aggregate averages"
      ]
    },
    {
      "cell_type": "code",
      "execution_count": null,
      "metadata": {},
      "outputs": [],
      "source": [
        "means_all_segment = df_merged.groupby('segment_label_train').mean().reset_index()\n",
        "means_all_segment = means_all_segment.drop(['duration','number_of_segments_train','number_of_voices_parent_train','parent_label_train','noisy_train'], axis=1)\n",
        "means_all_segment['segment_label_train'] = means_all_segment['segment_label_train']"
      ]
    },
    {
      "cell_type": "code",
      "execution_count": null,
      "metadata": {},
      "outputs": [],
      "source": [
        "means_all_parent = df_merged.groupby('parent_label_train').mean().reset_index()\n",
        "means_all_parent = means_all_parent.drop(['duration','number_of_segments_train','number_of_voices_parent_train','segment_label_train','noisy_train'], axis=1)\n",
        "means_all_parent['parent_label_train'] = means_all_parent['parent_label_train']"
      ]
    },
    {
      "cell_type": "code",
      "execution_count": null,
      "metadata": {},
      "outputs": [],
      "source": [
        "means_non_segment = no_noise.groupby('segment_label_train').mean().reset_index()\n",
        "means_non_segment = means_non_segment.drop(['duration','number_of_segments_train','number_of_voices_parent_train','parent_label_train','noisy_train'], axis=1)\n",
        "means_non_segment['segment_label_train'] = means_non_segment['segment_label_train']"
      ]
    },
    {
      "cell_type": "code",
      "execution_count": null,
      "metadata": {},
      "outputs": [],
      "source": [
        "means_non_parent = no_noise.groupby('parent_label_train').mean().reset_index()\n",
        "means_non_parent = means_non_parent.drop(['duration','number_of_segments_train','number_of_voices_parent_train','segment_label_train','noisy_train'], axis=1)\n",
        "means_non_parent['parent_label_train'] = means_non_parent['parent_label_train']"
      ]
    },
    {
      "cell_type": "code",
      "execution_count": null,
      "metadata": {},
      "outputs": [],
      "source": [
        "means_noise_segment = noise.groupby('segment_label_train').mean().reset_index()\n",
        "means_noise_segment = means_noise_segment.drop(['duration','number_of_segments_train','number_of_voices_parent_train','parent_label_train','noisy_train'], axis=1)\n",
        "means_noise_segment['segment_label_train'] = means_noise_segment['segment_label_train']"
      ]
    },
    {
      "cell_type": "code",
      "execution_count": null,
      "metadata": {},
      "outputs": [],
      "source": [
        "means_noise_parent = noise.groupby('parent_label_train').mean().reset_index()\n",
        "means_noise_parent = means_noise_parent.drop(['duration','number_of_segments_train','number_of_voices_parent_train','segment_label_train','noisy_train'], axis=1)\n",
        "means_noise_parent['parent_label_train'] = means_noise_parent['parent_label_train']"
      ]
    },
    {
      "cell_type": "code",
      "execution_count": null,
      "metadata": {},
      "outputs": [],
      "source": [
        "radarPlotDataframes(means_all_segment, 'All video voices', 'segment', -1.5, 2.5)"
      ]
    },
    {
      "cell_type": "code",
      "execution_count": null,
      "metadata": {},
      "outputs": [],
      "source": [
        "radarPlotDataframes(means_all_parent, 'All video voices', 'parent', -2.0, 2.5 )"
      ]
    },
    {
      "cell_type": "code",
      "execution_count": null,
      "metadata": {},
      "outputs": [],
      "source": [
        "radarPlotDataframes(means_non_segment, 'Non-Noisy voices', 'segment', -1.3, 2.5)"
      ]
    },
    {
      "cell_type": "code",
      "execution_count": null,
      "metadata": {},
      "outputs": [],
      "source": [
        "radarPlotDataframes(means_non_parent, 'All video voices', 'parent', -3.1, 3 )"
      ]
    },
    {
      "cell_type": "code",
      "execution_count": null,
      "metadata": {},
      "outputs": [],
      "source": [
        "radarPlotDataframes(means_noise_segment, 'Noisy voices', 'segment',-1.7, 1.8)"
      ]
    },
    {
      "cell_type": "code",
      "execution_count": null,
      "metadata": {},
      "outputs": [],
      "source": [
        "radarPlotDataframes(means_noise_parent, 'All video voices', 'parent', -1.8, 2.5)"
      ]
    }
  ],
  "metadata": {
    "colab": {
      "collapsed_sections": [],
      "name": "visualizations.ipynb",
      "provenance": []
    },
    "kernelspec": {
      "display_name": "Python 3",
      "name": "python3"
    },
    "language_info": {
      "codemirror_mode": {
        "name": "ipython",
        "version": 3
      },
      "file_extension": ".py",
      "mimetype": "text/x-python",
      "name": "python",
      "nbconvert_exporter": "python",
      "pygments_lexer": "ipython3",
      "version": "3.10.4"
    }
  },
  "nbformat": 4,
  "nbformat_minor": 0
}
