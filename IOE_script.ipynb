{
 "cells": [
  {
   "cell_type": "code",
   "execution_count": 8,
   "id": "777e01d4-d361-4cb4-9ada-18105e960909",
   "metadata": {},
   "outputs": [],
   "source": [
    "import pandas as pd\n",
    "import numpy as np\n",
    "import seaborn as sns\n",
    "from sklearn.metrics import cohen_kappa_score\n",
    "file_path='./CleanData/'"
   ]
  },
  {
   "cell_type": "markdown",
   "id": "f2d5a378-5247-4ec5-b14c-4fb9d66d6f49",
   "metadata": {},
   "source": [
    "# IOE on Raw Data"
   ]
  },
  {
   "cell_type": "markdown",
   "id": "facfdddf-1523-46cd-aeb4-effad45797e9",
   "metadata": {
    "tags": []
   },
   "source": [
    "## A"
   ]
  },
  {
   "cell_type": "code",
   "execution_count": 35,
   "id": "a9e94c0d-ef63-4ed5-a9d9-92eab4330cc2",
   "metadata": {},
   "outputs": [],
   "source": [
    "# Read Data\n",
    "anno_train = pd.read_excel(file_path+'labelled-reddit-2021-08-12-A-PK.xlsx')\n",
    "anno_val = pd.read_excel(file_path+'labelled-reddit-2021-08-12-A-CW.xlsx')"
   ]
  },
  {
   "cell_type": "code",
   "execution_count": 36,
   "id": "c2cf1afa-ded1-428a-9b15-b8c04c0a57e8",
   "metadata": {},
   "outputs": [
    {
     "data": {
      "text/html": [
       "<div>\n",
       "<style scoped>\n",
       "    .dataframe tbody tr th:only-of-type {\n",
       "        vertical-align: middle;\n",
       "    }\n",
       "\n",
       "    .dataframe tbody tr th {\n",
       "        vertical-align: top;\n",
       "    }\n",
       "\n",
       "    .dataframe thead th {\n",
       "        text-align: right;\n",
       "    }\n",
       "</style>\n",
       "<table border=\"1\" class=\"dataframe\">\n",
       "  <thead>\n",
       "    <tr style=\"text-align: right;\">\n",
       "      <th></th>\n",
       "      <th>file_name</th>\n",
       "      <th>parent_file</th>\n",
       "      <th>number_of_segments</th>\n",
       "      <th>number_of_voices_parent_file</th>\n",
       "      <th>extra_sounds</th>\n",
       "      <th>parent_label</th>\n",
       "      <th>segment_label</th>\n",
       "      <th>noisy</th>\n",
       "      <th>Notes</th>\n",
       "    </tr>\n",
       "  </thead>\n",
       "  <tbody>\n",
       "    <tr>\n",
       "      <th>0</th>\n",
       "      <td>00g8dfgpqpt61_processed_0</td>\n",
       "      <td>00g8dfgpqpt61</td>\n",
       "      <td>3.0</td>\n",
       "      <td>9999.0</td>\n",
       "      <td>clapping, coughing</td>\n",
       "      <td>0.0</td>\n",
       "      <td>0.0</td>\n",
       "      <td>1.0</td>\n",
       "      <td>Only laughing</td>\n",
       "    </tr>\n",
       "  </tbody>\n",
       "</table>\n",
       "</div>"
      ],
      "text/plain": [
       "                   file_name    parent_file  number_of_segments  \\\n",
       "0  00g8dfgpqpt61_processed_0  00g8dfgpqpt61                 3.0   \n",
       "\n",
       "   number_of_voices_parent_file        extra_sounds  parent_label  \\\n",
       "0                        9999.0  clapping, coughing           0.0   \n",
       "\n",
       "   segment_label  noisy          Notes  \n",
       "0            0.0    1.0  Only laughing  "
      ]
     },
     "metadata": {},
     "output_type": "display_data"
    },
    {
     "name": "stdout",
     "output_type": "stream",
     "text": [
      "Index(['file_name', 'parent_file', 'number_of_segments',\n",
      "       'number_of_voices_parent_file', 'extra_sounds', 'parent_label',\n",
      "       'segment_label', 'noisy', 'Notes'],\n",
      "      dtype='object')\n"
     ]
    }
   ],
   "source": [
    "display(anno_train.head(1))\n",
    "print(anno_train.columns)"
   ]
  },
  {
   "cell_type": "code",
   "execution_count": 37,
   "id": "d8cdf4ca-2e39-401d-9272-b325d695a03a",
   "metadata": {},
   "outputs": [
    {
     "data": {
      "text/html": [
       "<div>\n",
       "<style scoped>\n",
       "    .dataframe tbody tr th:only-of-type {\n",
       "        vertical-align: middle;\n",
       "    }\n",
       "\n",
       "    .dataframe tbody tr th {\n",
       "        vertical-align: top;\n",
       "    }\n",
       "\n",
       "    .dataframe thead th {\n",
       "        text-align: right;\n",
       "    }\n",
       "</style>\n",
       "<table border=\"1\" class=\"dataframe\">\n",
       "  <thead>\n",
       "    <tr style=\"text-align: right;\">\n",
       "      <th></th>\n",
       "      <th>file_name</th>\n",
       "      <th>parent_file</th>\n",
       "      <th>number_of_segments</th>\n",
       "      <th>number_of_voices_in_parent</th>\n",
       "      <th>segment_label</th>\n",
       "      <th>parent_label</th>\n",
       "      <th>Noisy</th>\n",
       "      <th>extra sounds</th>\n",
       "      <th>Notes</th>\n",
       "    </tr>\n",
       "  </thead>\n",
       "  <tbody>\n",
       "    <tr>\n",
       "      <th>0</th>\n",
       "      <td>00g8dfgpqpt61</td>\n",
       "      <td>00g8dfgpqpt61_processed_0</td>\n",
       "      <td>3</td>\n",
       "      <td>NaN</td>\n",
       "      <td>0.0</td>\n",
       "      <td>0.0</td>\n",
       "      <td>1.0</td>\n",
       "      <td>NaN</td>\n",
       "      <td>NaN</td>\n",
       "    </tr>\n",
       "  </tbody>\n",
       "</table>\n",
       "</div>"
      ],
      "text/plain": [
       "       file_name                parent_file  number_of_segments  \\\n",
       "0  00g8dfgpqpt61  00g8dfgpqpt61_processed_0                   3   \n",
       "\n",
       "   number_of_voices_in_parent  segment_label  parent_label  Noisy  \\\n",
       "0                         NaN            0.0           0.0    1.0   \n",
       "\n",
       "  extra sounds  Notes  \n",
       "0          NaN    NaN  "
      ]
     },
     "metadata": {},
     "output_type": "display_data"
    },
    {
     "name": "stdout",
     "output_type": "stream",
     "text": [
      "Index(['file_name', 'parent_file', 'number_of_segments',\n",
      "       'number_of_voices_in_parent', 'segment_label', 'parent_label', 'Noisy',\n",
      "       'extra sounds', 'Notes'],\n",
      "      dtype='object')\n"
     ]
    }
   ],
   "source": [
    "display(anno_val.head(1))\n",
    "print(anno_val.columns)"
   ]
  },
  {
   "cell_type": "code",
   "execution_count": 38,
   "id": "4b00ffe4-b2b2-415c-ba48-95bcb9d50295",
   "metadata": {},
   "outputs": [
    {
     "data": {
      "text/html": [
       "<div>\n",
       "<style scoped>\n",
       "    .dataframe tbody tr th:only-of-type {\n",
       "        vertical-align: middle;\n",
       "    }\n",
       "\n",
       "    .dataframe tbody tr th {\n",
       "        vertical-align: top;\n",
       "    }\n",
       "\n",
       "    .dataframe thead th {\n",
       "        text-align: right;\n",
       "    }\n",
       "</style>\n",
       "<table border=\"1\" class=\"dataframe\">\n",
       "  <thead>\n",
       "    <tr style=\"text-align: right;\">\n",
       "      <th></th>\n",
       "      <th>parent_file</th>\n",
       "      <th>file_name</th>\n",
       "      <th>number_of_segments</th>\n",
       "      <th>number_of_voices_in_parent</th>\n",
       "      <th>segment_label</th>\n",
       "      <th>parent_label</th>\n",
       "      <th>noisy</th>\n",
       "      <th>extra sounds</th>\n",
       "      <th>Notes</th>\n",
       "    </tr>\n",
       "  </thead>\n",
       "  <tbody>\n",
       "    <tr>\n",
       "      <th>0</th>\n",
       "      <td>00g8dfgpqpt61</td>\n",
       "      <td>00g8dfgpqpt61_processed_0</td>\n",
       "      <td>3</td>\n",
       "      <td>NaN</td>\n",
       "      <td>0.0</td>\n",
       "      <td>0.0</td>\n",
       "      <td>1.0</td>\n",
       "      <td>NaN</td>\n",
       "      <td>NaN</td>\n",
       "    </tr>\n",
       "  </tbody>\n",
       "</table>\n",
       "</div>"
      ],
      "text/plain": [
       "     parent_file                  file_name  number_of_segments  \\\n",
       "0  00g8dfgpqpt61  00g8dfgpqpt61_processed_0                   3   \n",
       "\n",
       "   number_of_voices_in_parent  segment_label  parent_label  noisy  \\\n",
       "0                         NaN            0.0           0.0    1.0   \n",
       "\n",
       "  extra sounds  Notes  \n",
       "0          NaN    NaN  "
      ]
     },
     "execution_count": 38,
     "metadata": {},
     "output_type": "execute_result"
    }
   ],
   "source": [
    "# Correct val file column names\n",
    "# Run for: A-CW\n",
    "anno_val.columns=['parent_file','file_name', 'number_of_segments',\n",
    "       'number_of_voices_in_parent', 'segment_label', 'parent_label', 'noisy',\n",
    "       'extra sounds', 'Notes']\n",
    "anno_val.head(1)"
   ]
  },
  {
   "cell_type": "code",
   "execution_count": 39,
   "id": "b4428fcf-6029-40e5-bae5-f1433f818365",
   "metadata": {},
   "outputs": [
    {
     "name": "stdout",
     "output_type": "stream",
     "text": [
      "<class 'pandas.core.frame.DataFrame'>\n",
      "RangeIndex: 942 entries, 0 to 941\n",
      "Data columns (total 9 columns):\n",
      " #   Column                        Non-Null Count  Dtype  \n",
      "---  ------                        --------------  -----  \n",
      " 0   file_name                     942 non-null    object \n",
      " 1   parent_file                   942 non-null    object \n",
      " 2   number_of_segments            942 non-null    float64\n",
      " 3   number_of_voices_parent_file  942 non-null    float64\n",
      " 4   extra_sounds                  410 non-null    object \n",
      " 5   parent_label                  942 non-null    float64\n",
      " 6   segment_label                 942 non-null    float64\n",
      " 7   noisy                         942 non-null    float64\n",
      " 8   Notes                         15 non-null     object \n",
      "dtypes: float64(5), object(4)\n",
      "memory usage: 66.4+ KB\n"
     ]
    }
   ],
   "source": [
    "# Check for nulls\n",
    "anno_train.info()"
   ]
  },
  {
   "cell_type": "code",
   "execution_count": 40,
   "id": "fbb57b4f-125f-41ce-bc30-1136b5a2f166",
   "metadata": {},
   "outputs": [
    {
     "name": "stdout",
     "output_type": "stream",
     "text": [
      "<class 'pandas.core.frame.DataFrame'>\n",
      "RangeIndex: 934 entries, 0 to 933\n",
      "Data columns (total 9 columns):\n",
      " #   Column                      Non-Null Count  Dtype  \n",
      "---  ------                      --------------  -----  \n",
      " 0   parent_file                 934 non-null    object \n",
      " 1   file_name                   934 non-null    object \n",
      " 2   number_of_segments          934 non-null    int64  \n",
      " 3   number_of_voices_in_parent  0 non-null      float64\n",
      " 4   segment_label               933 non-null    float64\n",
      " 5   parent_label                933 non-null    float64\n",
      " 6   noisy                       933 non-null    float64\n",
      " 7   extra sounds                39 non-null     object \n",
      " 8   Notes                       0 non-null      float64\n",
      "dtypes: float64(5), int64(1), object(3)\n",
      "memory usage: 65.8+ KB\n"
     ]
    }
   ],
   "source": [
    "# Check for nulls\n",
    "anno_val.info()"
   ]
  },
  {
   "cell_type": "code",
   "execution_count": 41,
   "id": "f8e250c0-9699-4547-b396-eeca92d225ce",
   "metadata": {},
   "outputs": [],
   "source": [
    "segment_label = 'segment_label'\n",
    "parent_label = 'parent_label'\n",
    "\n",
    "anno_train['file_name'] = anno_train['file_name'].str.strip()\n",
    "anno_val['file_name'] = anno_val['file_name'].str.strip()"
   ]
  },
  {
   "cell_type": "code",
   "execution_count": 42,
   "id": "d2e6a9b7-b879-40ca-96b7-ad5b6a4b4c37",
   "metadata": {},
   "outputs": [
    {
     "data": {
      "text/html": [
       "<div>\n",
       "<style scoped>\n",
       "    .dataframe tbody tr th:only-of-type {\n",
       "        vertical-align: middle;\n",
       "    }\n",
       "\n",
       "    .dataframe tbody tr th {\n",
       "        vertical-align: top;\n",
       "    }\n",
       "\n",
       "    .dataframe thead th {\n",
       "        text-align: right;\n",
       "    }\n",
       "</style>\n",
       "<table border=\"1\" class=\"dataframe\">\n",
       "  <thead>\n",
       "    <tr style=\"text-align: right;\">\n",
       "      <th></th>\n",
       "      <th>file_name</th>\n",
       "      <th>parent_file_train</th>\n",
       "      <th>number_of_segments_train</th>\n",
       "      <th>number_of_voices_parent_file</th>\n",
       "      <th>extra_sounds</th>\n",
       "      <th>parent_label_train</th>\n",
       "      <th>segment_label_train</th>\n",
       "      <th>noisy_train</th>\n",
       "      <th>Notes_train</th>\n",
       "      <th>parent_file_val</th>\n",
       "      <th>number_of_segments_val</th>\n",
       "      <th>number_of_voices_in_parent</th>\n",
       "      <th>segment_label_val</th>\n",
       "      <th>parent_label_val</th>\n",
       "      <th>noisy_val</th>\n",
       "      <th>extra sounds</th>\n",
       "      <th>Notes_val</th>\n",
       "    </tr>\n",
       "  </thead>\n",
       "  <tbody>\n",
       "    <tr>\n",
       "      <th>0</th>\n",
       "      <td>00g8dfgpqpt61_processed_0</td>\n",
       "      <td>00g8dfgpqpt61</td>\n",
       "      <td>3.0</td>\n",
       "      <td>9999.0</td>\n",
       "      <td>clapping, coughing</td>\n",
       "      <td>0.0</td>\n",
       "      <td>0.0</td>\n",
       "      <td>1.0</td>\n",
       "      <td>Only laughing</td>\n",
       "      <td>00g8dfgpqpt61</td>\n",
       "      <td>3.0</td>\n",
       "      <td>NaN</td>\n",
       "      <td>0.0</td>\n",
       "      <td>0.0</td>\n",
       "      <td>1.0</td>\n",
       "      <td>NaN</td>\n",
       "      <td>NaN</td>\n",
       "    </tr>\n",
       "    <tr>\n",
       "      <th>1</th>\n",
       "      <td>00g8dfgpqpt61_processed_1</td>\n",
       "      <td>00g8dfgpqpt62</td>\n",
       "      <td>3.0</td>\n",
       "      <td>9999.0</td>\n",
       "      <td>clapping</td>\n",
       "      <td>0.0</td>\n",
       "      <td>0.0</td>\n",
       "      <td>1.0</td>\n",
       "      <td>Only laughing</td>\n",
       "      <td>00g8dfgpqpt61</td>\n",
       "      <td>3.0</td>\n",
       "      <td>NaN</td>\n",
       "      <td>0.0</td>\n",
       "      <td>0.0</td>\n",
       "      <td>1.0</td>\n",
       "      <td>NaN</td>\n",
       "      <td>NaN</td>\n",
       "    </tr>\n",
       "    <tr>\n",
       "      <th>2</th>\n",
       "      <td>00g8dfgpqpt61_processed_2</td>\n",
       "      <td>00g8dfgpqpt63</td>\n",
       "      <td>3.0</td>\n",
       "      <td>9999.0</td>\n",
       "      <td>NaN</td>\n",
       "      <td>0.0</td>\n",
       "      <td>0.0</td>\n",
       "      <td>1.0</td>\n",
       "      <td>Only laughing</td>\n",
       "      <td>00g8dfgpqpt61</td>\n",
       "      <td>3.0</td>\n",
       "      <td>NaN</td>\n",
       "      <td>0.0</td>\n",
       "      <td>0.0</td>\n",
       "      <td>1.0</td>\n",
       "      <td>NaN</td>\n",
       "      <td>NaN</td>\n",
       "    </tr>\n",
       "    <tr>\n",
       "      <th>3</th>\n",
       "      <td>01avx2fm1t961_processed_0</td>\n",
       "      <td>01avx2fm1t961</td>\n",
       "      <td>5.0</td>\n",
       "      <td>9999.0</td>\n",
       "      <td>baby crying</td>\n",
       "      <td>3.0</td>\n",
       "      <td>3.0</td>\n",
       "      <td>1.0</td>\n",
       "      <td>NaN</td>\n",
       "      <td>01avx2fm1t961</td>\n",
       "      <td>5.0</td>\n",
       "      <td>NaN</td>\n",
       "      <td>3.0</td>\n",
       "      <td>3.0</td>\n",
       "      <td>1.0</td>\n",
       "      <td>NaN</td>\n",
       "      <td>NaN</td>\n",
       "    </tr>\n",
       "    <tr>\n",
       "      <th>4</th>\n",
       "      <td>01avx2fm1t961_processed_1</td>\n",
       "      <td>01avx2fm1t961</td>\n",
       "      <td>5.0</td>\n",
       "      <td>9999.0</td>\n",
       "      <td>baby crying</td>\n",
       "      <td>3.0</td>\n",
       "      <td>2.0</td>\n",
       "      <td>1.0</td>\n",
       "      <td>NaN</td>\n",
       "      <td>01avx2fm1t961</td>\n",
       "      <td>5.0</td>\n",
       "      <td>NaN</td>\n",
       "      <td>3.0</td>\n",
       "      <td>3.0</td>\n",
       "      <td>1.0</td>\n",
       "      <td>NaN</td>\n",
       "      <td>NaN</td>\n",
       "    </tr>\n",
       "    <tr>\n",
       "      <th>...</th>\n",
       "      <td>...</td>\n",
       "      <td>...</td>\n",
       "      <td>...</td>\n",
       "      <td>...</td>\n",
       "      <td>...</td>\n",
       "      <td>...</td>\n",
       "      <td>...</td>\n",
       "      <td>...</td>\n",
       "      <td>...</td>\n",
       "      <td>...</td>\n",
       "      <td>...</td>\n",
       "      <td>...</td>\n",
       "      <td>...</td>\n",
       "      <td>...</td>\n",
       "      <td>...</td>\n",
       "      <td>...</td>\n",
       "      <td>...</td>\n",
       "    </tr>\n",
       "    <tr>\n",
       "      <th>937</th>\n",
       "      <td>zvkhxd3vp3o51_processed_4</td>\n",
       "      <td>zvkhxd3vp3o51</td>\n",
       "      <td>9.0</td>\n",
       "      <td>3.0</td>\n",
       "      <td>crowd, kids screaming</td>\n",
       "      <td>2.0</td>\n",
       "      <td>2.0</td>\n",
       "      <td>0.0</td>\n",
       "      <td>NaN</td>\n",
       "      <td>zvkhxd3vp3o51</td>\n",
       "      <td>9.0</td>\n",
       "      <td>NaN</td>\n",
       "      <td>3.0</td>\n",
       "      <td>3.0</td>\n",
       "      <td>1.0</td>\n",
       "      <td>NaN</td>\n",
       "      <td>NaN</td>\n",
       "    </tr>\n",
       "    <tr>\n",
       "      <th>938</th>\n",
       "      <td>zvkhxd3vp3o51_processed_5</td>\n",
       "      <td>zvkhxd3vp3o51</td>\n",
       "      <td>9.0</td>\n",
       "      <td>3.0</td>\n",
       "      <td>crowd, kids screaming</td>\n",
       "      <td>2.0</td>\n",
       "      <td>2.0</td>\n",
       "      <td>0.0</td>\n",
       "      <td>NaN</td>\n",
       "      <td>zvkhxd3vp3o51</td>\n",
       "      <td>9.0</td>\n",
       "      <td>NaN</td>\n",
       "      <td>2.0</td>\n",
       "      <td>3.0</td>\n",
       "      <td>1.0</td>\n",
       "      <td>NaN</td>\n",
       "      <td>NaN</td>\n",
       "    </tr>\n",
       "    <tr>\n",
       "      <th>939</th>\n",
       "      <td>zvkhxd3vp3o51_processed_6</td>\n",
       "      <td>zvkhxd3vp3o51</td>\n",
       "      <td>9.0</td>\n",
       "      <td>3.0</td>\n",
       "      <td>crowd, kids screaming</td>\n",
       "      <td>2.0</td>\n",
       "      <td>2.0</td>\n",
       "      <td>0.0</td>\n",
       "      <td>NaN</td>\n",
       "      <td>zvkhxd3vp3o51</td>\n",
       "      <td>9.0</td>\n",
       "      <td>NaN</td>\n",
       "      <td>3.0</td>\n",
       "      <td>3.0</td>\n",
       "      <td>1.0</td>\n",
       "      <td>NaN</td>\n",
       "      <td>NaN</td>\n",
       "    </tr>\n",
       "    <tr>\n",
       "      <th>940</th>\n",
       "      <td>zvkhxd3vp3o51_processed_7</td>\n",
       "      <td>zvkhxd3vp3o51</td>\n",
       "      <td>9.0</td>\n",
       "      <td>3.0</td>\n",
       "      <td>crowd, kids screaming</td>\n",
       "      <td>2.0</td>\n",
       "      <td>2.0</td>\n",
       "      <td>0.0</td>\n",
       "      <td>NaN</td>\n",
       "      <td>zvkhxd3vp3o51</td>\n",
       "      <td>9.0</td>\n",
       "      <td>NaN</td>\n",
       "      <td>3.0</td>\n",
       "      <td>3.0</td>\n",
       "      <td>1.0</td>\n",
       "      <td>NaN</td>\n",
       "      <td>NaN</td>\n",
       "    </tr>\n",
       "    <tr>\n",
       "      <th>941</th>\n",
       "      <td>zvkhxd3vp3o51_processed_8</td>\n",
       "      <td>zvkhxd3vp3o51</td>\n",
       "      <td>9.0</td>\n",
       "      <td>3.0</td>\n",
       "      <td>crowd, kids screaming</td>\n",
       "      <td>2.0</td>\n",
       "      <td>2.0</td>\n",
       "      <td>0.0</td>\n",
       "      <td>NaN</td>\n",
       "      <td>zvkhxd3vp3o51</td>\n",
       "      <td>9.0</td>\n",
       "      <td>NaN</td>\n",
       "      <td>0.0</td>\n",
       "      <td>3.0</td>\n",
       "      <td>1.0</td>\n",
       "      <td>NaN</td>\n",
       "      <td>NaN</td>\n",
       "    </tr>\n",
       "  </tbody>\n",
       "</table>\n",
       "<p>942 rows × 17 columns</p>\n",
       "</div>"
      ],
      "text/plain": [
       "                     file_name parent_file_train  number_of_segments_train  \\\n",
       "0    00g8dfgpqpt61_processed_0     00g8dfgpqpt61                       3.0   \n",
       "1    00g8dfgpqpt61_processed_1     00g8dfgpqpt62                       3.0   \n",
       "2    00g8dfgpqpt61_processed_2     00g8dfgpqpt63                       3.0   \n",
       "3    01avx2fm1t961_processed_0     01avx2fm1t961                       5.0   \n",
       "4    01avx2fm1t961_processed_1     01avx2fm1t961                       5.0   \n",
       "..                         ...               ...                       ...   \n",
       "937  zvkhxd3vp3o51_processed_4     zvkhxd3vp3o51                       9.0   \n",
       "938  zvkhxd3vp3o51_processed_5     zvkhxd3vp3o51                       9.0   \n",
       "939  zvkhxd3vp3o51_processed_6     zvkhxd3vp3o51                       9.0   \n",
       "940  zvkhxd3vp3o51_processed_7     zvkhxd3vp3o51                       9.0   \n",
       "941  zvkhxd3vp3o51_processed_8     zvkhxd3vp3o51                       9.0   \n",
       "\n",
       "     number_of_voices_parent_file           extra_sounds  parent_label_train  \\\n",
       "0                          9999.0     clapping, coughing                 0.0   \n",
       "1                          9999.0               clapping                 0.0   \n",
       "2                          9999.0                    NaN                 0.0   \n",
       "3                          9999.0            baby crying                 3.0   \n",
       "4                          9999.0            baby crying                 3.0   \n",
       "..                            ...                    ...                 ...   \n",
       "937                           3.0  crowd, kids screaming                 2.0   \n",
       "938                           3.0  crowd, kids screaming                 2.0   \n",
       "939                           3.0  crowd, kids screaming                 2.0   \n",
       "940                           3.0  crowd, kids screaming                 2.0   \n",
       "941                           3.0  crowd, kids screaming                 2.0   \n",
       "\n",
       "     segment_label_train  noisy_train    Notes_train parent_file_val  \\\n",
       "0                    0.0          1.0  Only laughing   00g8dfgpqpt61   \n",
       "1                    0.0          1.0  Only laughing   00g8dfgpqpt61   \n",
       "2                    0.0          1.0  Only laughing   00g8dfgpqpt61   \n",
       "3                    3.0          1.0            NaN   01avx2fm1t961   \n",
       "4                    2.0          1.0            NaN   01avx2fm1t961   \n",
       "..                   ...          ...            ...             ...   \n",
       "937                  2.0          0.0            NaN   zvkhxd3vp3o51   \n",
       "938                  2.0          0.0            NaN   zvkhxd3vp3o51   \n",
       "939                  2.0          0.0            NaN   zvkhxd3vp3o51   \n",
       "940                  2.0          0.0            NaN   zvkhxd3vp3o51   \n",
       "941                  2.0          0.0            NaN   zvkhxd3vp3o51   \n",
       "\n",
       "     number_of_segments_val  number_of_voices_in_parent  segment_label_val  \\\n",
       "0                       3.0                         NaN                0.0   \n",
       "1                       3.0                         NaN                0.0   \n",
       "2                       3.0                         NaN                0.0   \n",
       "3                       5.0                         NaN                3.0   \n",
       "4                       5.0                         NaN                3.0   \n",
       "..                      ...                         ...                ...   \n",
       "937                     9.0                         NaN                3.0   \n",
       "938                     9.0                         NaN                2.0   \n",
       "939                     9.0                         NaN                3.0   \n",
       "940                     9.0                         NaN                3.0   \n",
       "941                     9.0                         NaN                0.0   \n",
       "\n",
       "     parent_label_val  noisy_val extra sounds  Notes_val  \n",
       "0                 0.0        1.0          NaN        NaN  \n",
       "1                 0.0        1.0          NaN        NaN  \n",
       "2                 0.0        1.0          NaN        NaN  \n",
       "3                 3.0        1.0          NaN        NaN  \n",
       "4                 3.0        1.0          NaN        NaN  \n",
       "..                ...        ...          ...        ...  \n",
       "937               3.0        1.0          NaN        NaN  \n",
       "938               3.0        1.0          NaN        NaN  \n",
       "939               3.0        1.0          NaN        NaN  \n",
       "940               3.0        1.0          NaN        NaN  \n",
       "941               3.0        1.0          NaN        NaN  \n",
       "\n",
       "[942 rows x 17 columns]"
      ]
     },
     "execution_count": 42,
     "metadata": {},
     "output_type": "execute_result"
    }
   ],
   "source": [
    "# join \n",
    "df_merged = pd.merge(anno_train,anno_val,on='file_name',how='left',suffixes=('_train', '_val'))\n",
    "df_merged"
   ]
  },
  {
   "cell_type": "code",
   "execution_count": 43,
   "id": "00445bbe-57d1-41f5-9bd4-4b8e647bfb1b",
   "metadata": {},
   "outputs": [
    {
     "name": "stdout",
     "output_type": "stream",
     "text": [
      "<class 'pandas.core.frame.DataFrame'>\n",
      "Int64Index: 920 entries, 0 to 941\n",
      "Data columns (total 17 columns):\n",
      " #   Column                        Non-Null Count  Dtype  \n",
      "---  ------                        --------------  -----  \n",
      " 0   file_name                     920 non-null    object \n",
      " 1   parent_file_train             920 non-null    object \n",
      " 2   number_of_segments_train      920 non-null    float64\n",
      " 3   number_of_voices_parent_file  920 non-null    float64\n",
      " 4   extra_sounds                  398 non-null    object \n",
      " 5   parent_label_train            920 non-null    float64\n",
      " 6   segment_label_train           920 non-null    float64\n",
      " 7   noisy_train                   920 non-null    float64\n",
      " 8   Notes_train                   12 non-null     object \n",
      " 9   parent_file_val               920 non-null    object \n",
      " 10  number_of_segments_val        920 non-null    float64\n",
      " 11  number_of_voices_in_parent    0 non-null      float64\n",
      " 12  segment_label_val             920 non-null    float64\n",
      " 13  parent_label_val              920 non-null    float64\n",
      " 14  noisy_val                     920 non-null    float64\n",
      " 15  extra sounds                  39 non-null     object \n",
      " 16  Notes_val                     0 non-null      float64\n",
      "dtypes: float64(11), object(6)\n",
      "memory usage: 129.4+ KB\n"
     ]
    }
   ],
   "source": [
    "# Remove Nan Rows\n",
    "df_merged = df_merged[~(df_merged['segment_label_train'].isna() | df_merged['segment_label_val'].isna())]\n",
    "df_merged.info()"
   ]
  },
  {
   "cell_type": "markdown",
   "id": "42efd082-3aa5-4079-9d27-125c404a1c99",
   "metadata": {
    "tags": []
   },
   "source": [
    "#### <b> Match or No Match & Weighted Match <b>\n",
    "#### 100%"
   ]
  },
  {
   "cell_type": "code",
   "execution_count": 149,
   "id": "feddf008-ab6f-403b-a70d-25ee20c91d1e",
   "metadata": {},
   "outputs": [
    {
     "name": "stdout",
     "output_type": "stream",
     "text": [
      "100%\n",
      "Segment: \n",
      "Matches: 513\n",
      "Total: 920\n",
      "Segment Unweighted IOE: 55.760869565217384\n",
      "Segment Weighted IOE (Mean Absolute Error): 0.6032608695652174 \n",
      "\n",
      "Parent: \n",
      "Matches: 568\n",
      "Total: 920\n",
      "Parent IOE: 61.73913043478261\n",
      "Parent Weighted IOE (Mean Absolute Error): 0.4706521739130435 \n",
      "\n",
      "Noisy: \n",
      "Matches: 743\n",
      "Total: 920\n",
      "Noisy IOE: 80.76086956521739\n"
     ]
    },
    {
     "name": "stderr",
     "output_type": "stream",
     "text": [
      "/var/folders/7b/v9yf5j856tggrfg1tm641t9c0000gn/T/ipykernel_20427/17326261.py:3: SettingWithCopyWarning: \n",
      "A value is trying to be set on a copy of a slice from a DataFrame.\n",
      "Try using .loc[row_indexer,col_indexer] = value instead\n",
      "\n",
      "See the caveats in the documentation: https://pandas.pydata.org/pandas-docs/stable/user_guide/indexing.html#returning-a-view-versus-a-copy\n",
      "  df_merged['match_s'] = np.where(df_merged[segment_label+'_train'] == df_merged[segment_label+'_val'], 1, 0)\n",
      "/var/folders/7b/v9yf5j856tggrfg1tm641t9c0000gn/T/ipykernel_20427/17326261.py:4: SettingWithCopyWarning: \n",
      "A value is trying to be set on a copy of a slice from a DataFrame.\n",
      "Try using .loc[row_indexer,col_indexer] = value instead\n",
      "\n",
      "See the caveats in the documentation: https://pandas.pydata.org/pandas-docs/stable/user_guide/indexing.html#returning-a-view-versus-a-copy\n",
      "  df_merged['match_s_diff'] = df_merged[segment_label+'_train'] - df_merged[segment_label+'_val']\n",
      "/var/folders/7b/v9yf5j856tggrfg1tm641t9c0000gn/T/ipykernel_20427/17326261.py:5: SettingWithCopyWarning: \n",
      "A value is trying to be set on a copy of a slice from a DataFrame.\n",
      "Try using .loc[row_indexer,col_indexer] = value instead\n",
      "\n",
      "See the caveats in the documentation: https://pandas.pydata.org/pandas-docs/stable/user_guide/indexing.html#returning-a-view-versus-a-copy\n",
      "  df_merged['match_s_diff_abs'] = df_merged['match_s_diff'].abs()\n",
      "/var/folders/7b/v9yf5j856tggrfg1tm641t9c0000gn/T/ipykernel_20427/17326261.py:13: SettingWithCopyWarning: \n",
      "A value is trying to be set on a copy of a slice from a DataFrame.\n",
      "Try using .loc[row_indexer,col_indexer] = value instead\n",
      "\n",
      "See the caveats in the documentation: https://pandas.pydata.org/pandas-docs/stable/user_guide/indexing.html#returning-a-view-versus-a-copy\n",
      "  df_merged['match_p'] = np.where(df_merged[parent_label+'_train'] == df_merged[parent_label+'_val'], 1, 0)\n",
      "/var/folders/7b/v9yf5j856tggrfg1tm641t9c0000gn/T/ipykernel_20427/17326261.py:14: SettingWithCopyWarning: \n",
      "A value is trying to be set on a copy of a slice from a DataFrame.\n",
      "Try using .loc[row_indexer,col_indexer] = value instead\n",
      "\n",
      "See the caveats in the documentation: https://pandas.pydata.org/pandas-docs/stable/user_guide/indexing.html#returning-a-view-versus-a-copy\n",
      "  df_merged['match_p_diff'] = df_merged[parent_label+'_train'] - df_merged[parent_label+'_val']\n",
      "/var/folders/7b/v9yf5j856tggrfg1tm641t9c0000gn/T/ipykernel_20427/17326261.py:15: SettingWithCopyWarning: \n",
      "A value is trying to be set on a copy of a slice from a DataFrame.\n",
      "Try using .loc[row_indexer,col_indexer] = value instead\n",
      "\n",
      "See the caveats in the documentation: https://pandas.pydata.org/pandas-docs/stable/user_guide/indexing.html#returning-a-view-versus-a-copy\n",
      "  df_merged['match_p_diff_abs'] = df_merged['match_p_diff'].abs()\n",
      "/var/folders/7b/v9yf5j856tggrfg1tm641t9c0000gn/T/ipykernel_20427/17326261.py:23: SettingWithCopyWarning: \n",
      "A value is trying to be set on a copy of a slice from a DataFrame.\n",
      "Try using .loc[row_indexer,col_indexer] = value instead\n",
      "\n",
      "See the caveats in the documentation: https://pandas.pydata.org/pandas-docs/stable/user_guide/indexing.html#returning-a-view-versus-a-copy\n",
      "  df_merged['match_n'] = np.where(df_merged['noisy'+'_train'] == df_merged['noisy'+'_val'], 1, 0)\n",
      "/var/folders/7b/v9yf5j856tggrfg1tm641t9c0000gn/T/ipykernel_20427/17326261.py:24: SettingWithCopyWarning: \n",
      "A value is trying to be set on a copy of a slice from a DataFrame.\n",
      "Try using .loc[row_indexer,col_indexer] = value instead\n",
      "\n",
      "See the caveats in the documentation: https://pandas.pydata.org/pandas-docs/stable/user_guide/indexing.html#returning-a-view-versus-a-copy\n",
      "  df_merged['match_n_diff'] = df_merged['noisy'+'_train'] - df_merged['noisy'+'_val']\n",
      "/var/folders/7b/v9yf5j856tggrfg1tm641t9c0000gn/T/ipykernel_20427/17326261.py:25: SettingWithCopyWarning: \n",
      "A value is trying to be set on a copy of a slice from a DataFrame.\n",
      "Try using .loc[row_indexer,col_indexer] = value instead\n",
      "\n",
      "See the caveats in the documentation: https://pandas.pydata.org/pandas-docs/stable/user_guide/indexing.html#returning-a-view-versus-a-copy\n",
      "  df_merged['match_n_diff_abs'] = df_merged['match_n_diff'].abs()\n"
     ]
    }
   ],
   "source": [
    "# IOE on segment label\n",
    "print('100%')\n",
    "df_merged['match_s'] = np.where(df_merged[segment_label+'_train'] == df_merged[segment_label+'_val'], 1, 0)\n",
    "df_merged['match_s_diff'] = df_merged[segment_label+'_train'] - df_merged[segment_label+'_val'] \n",
    "df_merged['match_s_diff_abs'] = df_merged['match_s_diff'].abs()\n",
    "print('Segment: ')\n",
    "print('Matches:',df_merged['match_s'].sum())\n",
    "print('Total:',df_merged['match_s'].count())\n",
    "print('Segment Unweighted IOE:', df_merged['match_s'].sum()/df_merged['match_s'].count()*100)\n",
    "print('Segment Weighted IOE (Mean Absolute Error):', df_merged['match_s_diff_abs'].mean(),'\\n')\n",
    "\n",
    "# IOE on parent label\n",
    "df_merged['match_p'] = np.where(df_merged[parent_label+'_train'] == df_merged[parent_label+'_val'], 1, 0)\n",
    "df_merged['match_p_diff'] = df_merged[parent_label+'_train'] - df_merged[parent_label+'_val'] \n",
    "df_merged['match_p_diff_abs'] = df_merged['match_p_diff'].abs()\n",
    "print('Parent: ')\n",
    "print('Matches:',df_merged['match_p'].sum())\n",
    "print('Total:',df_merged['match_p'].count())\n",
    "print('Parent IOE:', df_merged['match_p'].sum()/df_merged['match_p'].count()*100)\n",
    "print('Parent Weighted IOE (Mean Absolute Error):', df_merged['match_p_diff_abs'].mean(),'\\n')\n",
    "\n",
    "# IOE on Noise\n",
    "df_merged['match_n'] = np.where(df_merged['noisy'+'_train'] == df_merged['noisy'+'_val'], 1, 0)\n",
    "df_merged['match_n_diff'] = df_merged['noisy'+'_train'] - df_merged['noisy'+'_val'] \n",
    "df_merged['match_n_diff_abs'] = df_merged['match_n_diff'].abs()\n",
    "print('Noisy: ')\n",
    "print('Matches:',df_merged['match_n'].sum())\n",
    "print('Total:',df_merged['match_n'].count())\n",
    "print('Noisy IOE:', df_merged['match_n'].sum()/df_merged['match_n'].count()*100)"
   ]
  },
  {
   "cell_type": "markdown",
   "id": "98c51588-8585-49f1-9933-38f9a3dbaf72",
   "metadata": {},
   "source": [
    "#### Distribution of train - val difference values (error)\n",
    "##### Segment"
   ]
  },
  {
   "cell_type": "code",
   "execution_count": 150,
   "id": "ea76aa09-72d3-4c38-96df-0dcbf289f3df",
   "metadata": {},
   "outputs": [
    {
     "data": {
      "text/html": [
       "<div>\n",
       "<style scoped>\n",
       "    .dataframe tbody tr th:only-of-type {\n",
       "        vertical-align: middle;\n",
       "    }\n",
       "\n",
       "    .dataframe tbody tr th {\n",
       "        vertical-align: top;\n",
       "    }\n",
       "\n",
       "    .dataframe thead th {\n",
       "        text-align: right;\n",
       "    }\n",
       "</style>\n",
       "<table border=\"1\" class=\"dataframe\">\n",
       "  <thead>\n",
       "    <tr style=\"text-align: right;\">\n",
       "      <th></th>\n",
       "      <th>match_s_diff</th>\n",
       "      <th>match_s</th>\n",
       "    </tr>\n",
       "  </thead>\n",
       "  <tbody>\n",
       "    <tr>\n",
       "      <th>0</th>\n",
       "      <td>-3.0</td>\n",
       "      <td>40</td>\n",
       "    </tr>\n",
       "    <tr>\n",
       "      <th>1</th>\n",
       "      <td>-2.0</td>\n",
       "      <td>37</td>\n",
       "    </tr>\n",
       "    <tr>\n",
       "      <th>2</th>\n",
       "      <td>-1.0</td>\n",
       "      <td>180</td>\n",
       "    </tr>\n",
       "    <tr>\n",
       "      <th>3</th>\n",
       "      <td>0.0</td>\n",
       "      <td>513</td>\n",
       "    </tr>\n",
       "    <tr>\n",
       "      <th>4</th>\n",
       "      <td>1.0</td>\n",
       "      <td>121</td>\n",
       "    </tr>\n",
       "    <tr>\n",
       "      <th>5</th>\n",
       "      <td>2.0</td>\n",
       "      <td>27</td>\n",
       "    </tr>\n",
       "    <tr>\n",
       "      <th>6</th>\n",
       "      <td>3.0</td>\n",
       "      <td>2</td>\n",
       "    </tr>\n",
       "  </tbody>\n",
       "</table>\n",
       "</div>"
      ],
      "text/plain": [
       "   match_s_diff  match_s\n",
       "0          -3.0       40\n",
       "1          -2.0       37\n",
       "2          -1.0      180\n",
       "3           0.0      513\n",
       "4           1.0      121\n",
       "5           2.0       27\n",
       "6           3.0        2"
      ]
     },
     "metadata": {},
     "output_type": "display_data"
    },
    {
     "data": {
      "text/plain": [
       "<seaborn.axisgrid.FacetGrid at 0x7ff690c8c4f0>"
      ]
     },
     "metadata": {},
     "output_type": "display_data"
    },
    {
     "data": {
      "image/png": "[encoded data removed]",
      "text/plain": [
       "<Figure size 360x360 with 1 Axes>"
      ]
     },
     "metadata": {
      "needs_background": "light"
     },
     "output_type": "display_data"
    }
   ],
   "source": [
    "# train - val difference histogram\n",
    "temp = df_merged.groupby('match_s_diff')['match_s'].count().reset_index()\n",
    "display(temp)\n",
    "display (sns.displot(df_merged['match_s_diff']))"
   ]
  },
  {
   "cell_type": "markdown",
   "id": "d8c0edf0-1b21-47be-90d4-8d7abf12f05b",
   "metadata": {},
   "source": [
    "##### Parent"
   ]
  },
  {
   "cell_type": "code",
   "execution_count": 151,
   "id": "13d95a17-f915-4b4e-bf23-01c26aee7bb7",
   "metadata": {},
   "outputs": [
    {
     "data": {
      "text/html": [
       "<div>\n",
       "<style scoped>\n",
       "    .dataframe tbody tr th:only-of-type {\n",
       "        vertical-align: middle;\n",
       "    }\n",
       "\n",
       "    .dataframe tbody tr th {\n",
       "        vertical-align: top;\n",
       "    }\n",
       "\n",
       "    .dataframe thead th {\n",
       "        text-align: right;\n",
       "    }\n",
       "</style>\n",
       "<table border=\"1\" class=\"dataframe\">\n",
       "  <thead>\n",
       "    <tr style=\"text-align: right;\">\n",
       "      <th></th>\n",
       "      <th>match_p_diff</th>\n",
       "      <th>match_p</th>\n",
       "    </tr>\n",
       "  </thead>\n",
       "  <tbody>\n",
       "    <tr>\n",
       "      <th>0</th>\n",
       "      <td>-3.0</td>\n",
       "      <td>38</td>\n",
       "    </tr>\n",
       "    <tr>\n",
       "      <th>1</th>\n",
       "      <td>-2.0</td>\n",
       "      <td>5</td>\n",
       "    </tr>\n",
       "    <tr>\n",
       "      <th>2</th>\n",
       "      <td>-1.0</td>\n",
       "      <td>239</td>\n",
       "    </tr>\n",
       "    <tr>\n",
       "      <th>3</th>\n",
       "      <td>0.0</td>\n",
       "      <td>568</td>\n",
       "    </tr>\n",
       "    <tr>\n",
       "      <th>4</th>\n",
       "      <td>1.0</td>\n",
       "      <td>70</td>\n",
       "    </tr>\n",
       "  </tbody>\n",
       "</table>\n",
       "</div>"
      ],
      "text/plain": [
       "   match_p_diff  match_p\n",
       "0          -3.0       38\n",
       "1          -2.0        5\n",
       "2          -1.0      239\n",
       "3           0.0      568\n",
       "4           1.0       70"
      ]
     },
     "metadata": {},
     "output_type": "display_data"
    },
    {
     "data": {
      "text/plain": [
       "<seaborn.axisgrid.FacetGrid at 0x7ff6a3264a30>"
      ]
     },
     "metadata": {},
     "output_type": "display_data"
    },
    {
     "data": {
      "image/png": "[encoded data removed]",
      "text/plain": [
       "<Figure size 360x360 with 1 Axes>"
      ]
     },
     "metadata": {
      "needs_background": "light"
     },
     "output_type": "display_data"
    }
   ],
   "source": [
    "temp = df_merged.groupby('match_p_diff')['match_p'].count().reset_index()\n",
    "display(temp)\n",
    "display (sns.displot(df_merged['match_p_diff']))"
   ]
  },
  {
   "cell_type": "markdown",
   "id": "69e345dd-f3e0-41b8-8535-a75da8e90e9e",
   "metadata": {},
   "source": [
    "##### Noisy"
   ]
  },
  {
   "cell_type": "code",
   "execution_count": 152,
   "id": "581a93b2-19c5-4f12-acf5-e28bed828a75",
   "metadata": {},
   "outputs": [
    {
     "data": {
      "text/html": [
       "<div>\n",
       "<style scoped>\n",
       "    .dataframe tbody tr th:only-of-type {\n",
       "        vertical-align: middle;\n",
       "    }\n",
       "\n",
       "    .dataframe tbody tr th {\n",
       "        vertical-align: top;\n",
       "    }\n",
       "\n",
       "    .dataframe thead th {\n",
       "        text-align: right;\n",
       "    }\n",
       "</style>\n",
       "<table border=\"1\" class=\"dataframe\">\n",
       "  <thead>\n",
       "    <tr style=\"text-align: right;\">\n",
       "      <th></th>\n",
       "      <th>match_n_diff</th>\n",
       "      <th>match_n</th>\n",
       "    </tr>\n",
       "  </thead>\n",
       "  <tbody>\n",
       "    <tr>\n",
       "      <th>0</th>\n",
       "      <td>-1.0</td>\n",
       "      <td>151</td>\n",
       "    </tr>\n",
       "    <tr>\n",
       "      <th>1</th>\n",
       "      <td>0.0</td>\n",
       "      <td>743</td>\n",
       "    </tr>\n",
       "    <tr>\n",
       "      <th>2</th>\n",
       "      <td>1.0</td>\n",
       "      <td>26</td>\n",
       "    </tr>\n",
       "  </tbody>\n",
       "</table>\n",
       "</div>"
      ],
      "text/plain": [
       "   match_n_diff  match_n\n",
       "0          -1.0      151\n",
       "1           0.0      743\n",
       "2           1.0       26"
      ]
     },
     "metadata": {},
     "output_type": "display_data"
    },
    {
     "data": {
      "text/plain": [
       "<seaborn.axisgrid.FacetGrid at 0x7ff6b07d5a00>"
      ]
     },
     "metadata": {},
     "output_type": "display_data"
    },
    {
     "data": {
      "image/png": "[encoded data removed]",
      "text/plain": [
       "<Figure size 360x360 with 1 Axes>"
      ]
     },
     "metadata": {
      "needs_background": "light"
     },
     "output_type": "display_data"
    }
   ],
   "source": [
    "temp = df_merged.groupby('match_n_diff')['match_n'].count().reset_index()\n",
    "display(temp)\n",
    "display (sns.displot(df_merged['match_n_diff']))"
   ]
  },
  {
   "cell_type": "markdown",
   "id": "af3b5641-190e-4d92-a530-184d4ce98bd4",
   "metadata": {
    "tags": []
   },
   "source": [
    "#### <b> Match or No Match <b>\n",
    "#### 50%"
   ]
  },
  {
   "cell_type": "code",
   "execution_count": 153,
   "id": "b311bc43-38a3-4466-8e7d-a489ac0bd868",
   "metadata": {},
   "outputs": [
    {
     "name": "stdout",
     "output_type": "stream",
     "text": [
      "50%\n",
      "Segment: \n",
      "Matches: 262\n",
      "Total: 460\n",
      "Segment IOE: 56.95652173913044 \n",
      "\n",
      "Parent: \n",
      "Matches: 288\n",
      "Total: 460\n",
      "Parent IOE: 62.60869565217392 \n",
      "\n",
      "Noisy: \n",
      "Matches: 377\n",
      "Total: 460\n",
      "Noisy IOE: 81.95652173913044\n"
     ]
    }
   ],
   "source": [
    "# IOE on segment label\n",
    "print('50%')\n",
    "df_sample = df_merged.sample(frac=0.50)\n",
    "print('Segment: ')\n",
    "print('Matches:',df_sample['match_s'].sum())\n",
    "print('Total:',df_sample['match_s'].count())\n",
    "print('Segment IOE:', df_sample['match_s'].sum()/df_sample['match_s'].count()*100,'\\n')\n",
    "\n",
    "# IOE on parent label\n",
    "print('Parent: ')\n",
    "print('Matches:',df_sample['match_p'].sum())\n",
    "print('Total:',df_sample['match_p'].count())\n",
    "print('Parent IOE:', df_sample['match_p'].sum()/df_sample['match_p'].count()*100,'\\n')\n",
    "\n",
    "# IOE on Noise\n",
    "print('Noisy: ')\n",
    "print('Matches:',df_sample['match_n'].sum())\n",
    "print('Total:',df_sample['match_n'].count())\n",
    "print('Noisy IOE:', df_sample['match_n'].sum()/df_sample['match_n'].count()*100)"
   ]
  },
  {
   "cell_type": "markdown",
   "id": "d135eccc-e3df-4625-8d7b-4ba3bed0e9f7",
   "metadata": {
    "tags": []
   },
   "source": [
    "#### <b>Cohen's Kappa<b>"
   ]
  },
  {
   "cell_type": "code",
   "execution_count": 154,
   "id": "dd26eb0c-7b5d-4fae-aed3-ec62abfc73d7",
   "metadata": {},
   "outputs": [
    {
     "name": "stdout",
     "output_type": "stream",
     "text": [
      "Cohen k (Segment): 0.3430946340915709\n",
      "Cohen k (Parent): 0.4919925769172244\n",
      "Cohen k (Noisy): 0.39748693889028663\n"
     ]
    }
   ],
   "source": [
    "# Calculate Cohen's k\n",
    "print('Cohen k (Segment):',cohen_kappa_score(df_merged[segment_label+'_train'], df_merged[segment_label+'_val']))\n",
    "print('Cohen k (Parent):',cohen_kappa_score(df_merged[parent_label+'_train'], df_merged[parent_label+'_val']))\n",
    "print('Cohen k (Noisy):',cohen_kappa_score(df_merged['noisy'+'_train'], df_merged['noisy'+'_val']))"
   ]
  },
  {
   "cell_type": "markdown",
   "id": "9265c514-5cb1-42ae-8bd6-d8b290e2c876",
   "metadata": {
    "tags": []
   },
   "source": [
    "## E"
   ]
  },
  {
   "cell_type": "code",
   "execution_count": 155,
   "id": "061c9660-f4b7-4db5-8457-e5b46dfbe98d",
   "metadata": {},
   "outputs": [],
   "source": [
    "# Read Data\n",
    "anno_train = pd.read_excel(file_path+'labelled-reddit-2021-08-12-E-VP.xlsx')\n",
    "anno_val = pd.read_excel(file_path+'labelled-reddit-2021-08-12-E-PK.xlsx')"
   ]
  },
  {
   "cell_type": "code",
   "execution_count": 156,
   "id": "d6b3a4d7-e09a-4182-8f6a-43f65a876145",
   "metadata": {},
   "outputs": [
    {
     "data": {
      "text/html": [
       "<div>\n",
       "<style scoped>\n",
       "    .dataframe tbody tr th:only-of-type {\n",
       "        vertical-align: middle;\n",
       "    }\n",
       "\n",
       "    .dataframe tbody tr th {\n",
       "        vertical-align: top;\n",
       "    }\n",
       "\n",
       "    .dataframe thead th {\n",
       "        text-align: right;\n",
       "    }\n",
       "</style>\n",
       "<table border=\"1\" class=\"dataframe\">\n",
       "  <thead>\n",
       "    <tr style=\"text-align: right;\">\n",
       "      <th></th>\n",
       "      <th>File name</th>\n",
       "      <th>Parent file</th>\n",
       "      <th>Number of Segments</th>\n",
       "      <th>Number of voices parent</th>\n",
       "      <th>Segment label</th>\n",
       "      <th>extra sounds</th>\n",
       "      <th>Parent label</th>\n",
       "      <th>Notes</th>\n",
       "      <th>Noisy</th>\n",
       "    </tr>\n",
       "  </thead>\n",
       "  <tbody>\n",
       "    <tr>\n",
       "      <th>0</th>\n",
       "      <td>hpawo16k1s961_processed_0</td>\n",
       "      <td>hpawo16k1s961</td>\n",
       "      <td>2</td>\n",
       "      <td>1</td>\n",
       "      <td>2</td>\n",
       "      <td>Crowd yelling, wind blowing</td>\n",
       "      <td>2</td>\n",
       "      <td>The crowd is yelling and may be aggressive</td>\n",
       "      <td>1</td>\n",
       "    </tr>\n",
       "  </tbody>\n",
       "</table>\n",
       "</div>"
      ],
      "text/plain": [
       "                   File name    Parent file  Number of Segments  \\\n",
       "0  hpawo16k1s961_processed_0  hpawo16k1s961                   2   \n",
       "\n",
       "   Number of voices parent  Segment label                 extra sounds  \\\n",
       "0                        1              2  Crowd yelling, wind blowing   \n",
       "\n",
       "   Parent label                                       Notes  Noisy  \n",
       "0             2  The crowd is yelling and may be aggressive      1  "
      ]
     },
     "metadata": {},
     "output_type": "display_data"
    },
    {
     "name": "stdout",
     "output_type": "stream",
     "text": [
      "Index(['File name', 'Parent file', 'Number of Segments',\n",
      "       'Number of voices parent', 'Segment label', 'extra sounds',\n",
      "       'Parent label', 'Notes', 'Noisy'],\n",
      "      dtype='object')\n"
     ]
    }
   ],
   "source": [
    "display(anno_train.head(1))\n",
    "print(anno_train.columns)"
   ]
  },
  {
   "cell_type": "code",
   "execution_count": 157,
   "id": "a8149a34-7afb-4720-8c0c-985e6654c8bb",
   "metadata": {},
   "outputs": [
    {
     "data": {
      "text/html": [
       "<div>\n",
       "<style scoped>\n",
       "    .dataframe tbody tr th:only-of-type {\n",
       "        vertical-align: middle;\n",
       "    }\n",
       "\n",
       "    .dataframe tbody tr th {\n",
       "        vertical-align: top;\n",
       "    }\n",
       "\n",
       "    .dataframe thead th {\n",
       "        text-align: right;\n",
       "    }\n",
       "</style>\n",
       "<table border=\"1\" class=\"dataframe\">\n",
       "  <thead>\n",
       "    <tr style=\"text-align: right;\">\n",
       "      <th></th>\n",
       "      <th>File Name</th>\n",
       "      <th>Parent file</th>\n",
       "      <th>Number of Segments</th>\n",
       "      <th>Noisy</th>\n",
       "      <th>Number of voices parent</th>\n",
       "      <th>extra sounds</th>\n",
       "      <th>Parent label</th>\n",
       "      <th>Segment label</th>\n",
       "      <th>Notes</th>\n",
       "    </tr>\n",
       "  </thead>\n",
       "  <tbody>\n",
       "    <tr>\n",
       "      <th>0</th>\n",
       "      <td>hpawo16k1s961_processed_0</td>\n",
       "      <td>hpawo16k1s961</td>\n",
       "      <td>2</td>\n",
       "      <td>1</td>\n",
       "      <td>1</td>\n",
       "      <td>crowd protesting</td>\n",
       "      <td>0</td>\n",
       "      <td>0</td>\n",
       "      <td>NaN</td>\n",
       "    </tr>\n",
       "  </tbody>\n",
       "</table>\n",
       "</div>"
      ],
      "text/plain": [
       "                   File Name    Parent file  Number of Segments  Noisy  \\\n",
       "0  hpawo16k1s961_processed_0  hpawo16k1s961                   2      1   \n",
       "\n",
       "   Number of voices parent      extra sounds  Parent label  Segment label  \\\n",
       "0                        1  crowd protesting             0              0   \n",
       "\n",
       "  Notes  \n",
       "0   NaN  "
      ]
     },
     "metadata": {},
     "output_type": "display_data"
    },
    {
     "name": "stdout",
     "output_type": "stream",
     "text": [
      "Index(['File Name', 'Parent file', 'Number of Segments', 'Noisy',\n",
      "       'Number of voices parent', 'extra sounds', 'Parent label',\n",
      "       'Segment label', 'Notes'],\n",
      "      dtype='object')\n"
     ]
    }
   ],
   "source": [
    "display(anno_val.head(1))\n",
    "print(anno_val.columns)"
   ]
  },
  {
   "cell_type": "code",
   "execution_count": 158,
   "id": "385da97d-5f4a-4834-90d1-def14d5b3a5d",
   "metadata": {},
   "outputs": [
    {
     "data": {
      "text/html": [
       "<div>\n",
       "<style scoped>\n",
       "    .dataframe tbody tr th:only-of-type {\n",
       "        vertical-align: middle;\n",
       "    }\n",
       "\n",
       "    .dataframe tbody tr th {\n",
       "        vertical-align: top;\n",
       "    }\n",
       "\n",
       "    .dataframe thead th {\n",
       "        text-align: right;\n",
       "    }\n",
       "</style>\n",
       "<table border=\"1\" class=\"dataframe\">\n",
       "  <thead>\n",
       "    <tr style=\"text-align: right;\">\n",
       "      <th></th>\n",
       "      <th>File Name</th>\n",
       "      <th>Parent file</th>\n",
       "      <th>Number of Segments</th>\n",
       "      <th>Number of voices parent</th>\n",
       "      <th>Segment label</th>\n",
       "      <th>extra sounds</th>\n",
       "      <th>Parent label</th>\n",
       "      <th>Notes</th>\n",
       "      <th>Noisy</th>\n",
       "    </tr>\n",
       "  </thead>\n",
       "  <tbody>\n",
       "    <tr>\n",
       "      <th>0</th>\n",
       "      <td>hpawo16k1s961_processed_0</td>\n",
       "      <td>hpawo16k1s961</td>\n",
       "      <td>2</td>\n",
       "      <td>1</td>\n",
       "      <td>2</td>\n",
       "      <td>Crowd yelling, wind blowing</td>\n",
       "      <td>2</td>\n",
       "      <td>The crowd is yelling and may be aggressive</td>\n",
       "      <td>1</td>\n",
       "    </tr>\n",
       "  </tbody>\n",
       "</table>\n",
       "</div>"
      ],
      "text/plain": [
       "                   File Name    Parent file  Number of Segments  \\\n",
       "0  hpawo16k1s961_processed_0  hpawo16k1s961                   2   \n",
       "\n",
       "   Number of voices parent  Segment label                 extra sounds  \\\n",
       "0                        1              2  Crowd yelling, wind blowing   \n",
       "\n",
       "   Parent label                                       Notes  Noisy  \n",
       "0             2  The crowd is yelling and may be aggressive      1  "
      ]
     },
     "execution_count": 158,
     "metadata": {},
     "output_type": "execute_result"
    }
   ],
   "source": [
    "# Correct val file column names\n",
    "# Run for: E-VP\n",
    "anno_train.columns=['File Name', 'Parent file', 'Number of Segments',\n",
    "       'Number of voices parent', 'Segment label', 'extra sounds',\n",
    "       'Parent label', 'Notes', 'Noisy']\n",
    "anno_train.head(1)"
   ]
  },
  {
   "cell_type": "code",
   "execution_count": 159,
   "id": "1f2c531d-55bb-4143-83fd-09d0dd06c697",
   "metadata": {},
   "outputs": [
    {
     "name": "stdout",
     "output_type": "stream",
     "text": [
      "<class 'pandas.core.frame.DataFrame'>\n",
      "RangeIndex: 1058 entries, 0 to 1057\n",
      "Data columns (total 9 columns):\n",
      " #   Column                   Non-Null Count  Dtype \n",
      "---  ------                   --------------  ----- \n",
      " 0   File Name                1058 non-null   object\n",
      " 1   Parent file              1058 non-null   object\n",
      " 2   Number of Segments       1058 non-null   int64 \n",
      " 3   Number of voices parent  1058 non-null   int64 \n",
      " 4   Segment label            1058 non-null   int64 \n",
      " 5   extra sounds             839 non-null    object\n",
      " 6   Parent label             1058 non-null   int64 \n",
      " 7   Notes                    1057 non-null   object\n",
      " 8   Noisy                    1058 non-null   int64 \n",
      "dtypes: int64(5), object(4)\n",
      "memory usage: 74.5+ KB\n"
     ]
    }
   ],
   "source": [
    "# Check for nulls\n",
    "anno_train.info()"
   ]
  },
  {
   "cell_type": "code",
   "execution_count": 160,
   "id": "246f93ed-4e59-47e9-9b34-b295d0d3388b",
   "metadata": {},
   "outputs": [
    {
     "name": "stdout",
     "output_type": "stream",
     "text": [
      "<class 'pandas.core.frame.DataFrame'>\n",
      "RangeIndex: 1052 entries, 0 to 1051\n",
      "Data columns (total 9 columns):\n",
      " #   Column                   Non-Null Count  Dtype \n",
      "---  ------                   --------------  ----- \n",
      " 0   File Name                1052 non-null   object\n",
      " 1   Parent file              1052 non-null   object\n",
      " 2   Number of Segments       1052 non-null   int64 \n",
      " 3   Noisy                    1052 non-null   int64 \n",
      " 4   Number of voices parent  1052 non-null   int64 \n",
      " 5   extra sounds             570 non-null    object\n",
      " 6   Parent label             1052 non-null   int64 \n",
      " 7   Segment label            1052 non-null   int64 \n",
      " 8   Notes                    8 non-null      object\n",
      "dtypes: int64(5), object(4)\n",
      "memory usage: 74.1+ KB\n"
     ]
    }
   ],
   "source": [
    "# Check for nulls\n",
    "anno_val.info()"
   ]
  },
  {
   "cell_type": "code",
   "execution_count": 161,
   "id": "4390b18c-ee30-4462-a8aa-82d1573775eb",
   "metadata": {},
   "outputs": [],
   "source": [
    "segment_label = 'Segment label'\n",
    "parent_label = 'Parent label'\n",
    "file_name= 'File Name'\n",
    "\n",
    "anno_train[file_name] = anno_train[file_name].str.strip()\n",
    "anno_val[file_name] = anno_val[file_name].str.strip()"
   ]
  },
  {
   "cell_type": "code",
   "execution_count": 162,
   "id": "6544a209-7dca-4b55-9bf9-91f844d65a03",
   "metadata": {},
   "outputs": [
    {
     "data": {
      "text/html": [
       "<div>\n",
       "<style scoped>\n",
       "    .dataframe tbody tr th:only-of-type {\n",
       "        vertical-align: middle;\n",
       "    }\n",
       "\n",
       "    .dataframe tbody tr th {\n",
       "        vertical-align: top;\n",
       "    }\n",
       "\n",
       "    .dataframe thead th {\n",
       "        text-align: right;\n",
       "    }\n",
       "</style>\n",
       "<table border=\"1\" class=\"dataframe\">\n",
       "  <thead>\n",
       "    <tr style=\"text-align: right;\">\n",
       "      <th></th>\n",
       "      <th>File Name</th>\n",
       "      <th>Parent file_train</th>\n",
       "      <th>Number of Segments_train</th>\n",
       "      <th>Number of voices parent_train</th>\n",
       "      <th>Segment label_train</th>\n",
       "      <th>extra sounds_train</th>\n",
       "      <th>Parent label_train</th>\n",
       "      <th>Notes_train</th>\n",
       "      <th>Noisy_train</th>\n",
       "      <th>Parent file_val</th>\n",
       "      <th>Number of Segments_val</th>\n",
       "      <th>Noisy_val</th>\n",
       "      <th>Number of voices parent_val</th>\n",
       "      <th>extra sounds_val</th>\n",
       "      <th>Parent label_val</th>\n",
       "      <th>Segment label_val</th>\n",
       "      <th>Notes_val</th>\n",
       "    </tr>\n",
       "  </thead>\n",
       "  <tbody>\n",
       "    <tr>\n",
       "      <th>0</th>\n",
       "      <td>hpawo16k1s961_processed_0</td>\n",
       "      <td>hpawo16k1s961</td>\n",
       "      <td>2</td>\n",
       "      <td>1</td>\n",
       "      <td>2</td>\n",
       "      <td>Crowd yelling, wind blowing</td>\n",
       "      <td>2</td>\n",
       "      <td>The crowd is yelling and may be aggressive</td>\n",
       "      <td>1</td>\n",
       "      <td>hpawo16k1s961</td>\n",
       "      <td>2.0</td>\n",
       "      <td>1.0</td>\n",
       "      <td>1.0</td>\n",
       "      <td>crowd protesting</td>\n",
       "      <td>0.0</td>\n",
       "      <td>0.0</td>\n",
       "      <td>NaN</td>\n",
       "    </tr>\n",
       "    <tr>\n",
       "      <th>1</th>\n",
       "      <td>hpawo16k1s961_processed_1</td>\n",
       "      <td>hpawo16k1s961</td>\n",
       "      <td>2</td>\n",
       "      <td>1</td>\n",
       "      <td>2</td>\n",
       "      <td>Crowd yelling, wind blowing</td>\n",
       "      <td>2</td>\n",
       "      <td>The crowd is yelling and may be aggressive</td>\n",
       "      <td>1</td>\n",
       "      <td>hpawo16k1s961</td>\n",
       "      <td>2.0</td>\n",
       "      <td>1.0</td>\n",
       "      <td>1.0</td>\n",
       "      <td>crowd protesting</td>\n",
       "      <td>0.0</td>\n",
       "      <td>0.0</td>\n",
       "      <td>NaN</td>\n",
       "    </tr>\n",
       "    <tr>\n",
       "      <th>2</th>\n",
       "      <td>hqztlcsmm1k51_processed_0</td>\n",
       "      <td>hqztlcsmm1k51</td>\n",
       "      <td>3</td>\n",
       "      <td>1</td>\n",
       "      <td>0</td>\n",
       "      <td>Clicking</td>\n",
       "      <td>0</td>\n",
       "      <td>The man uses suggestive language, but there is...</td>\n",
       "      <td>0</td>\n",
       "      <td>hqztlcsmm1k51</td>\n",
       "      <td>3.0</td>\n",
       "      <td>0.0</td>\n",
       "      <td>1.0</td>\n",
       "      <td>NaN</td>\n",
       "      <td>0.0</td>\n",
       "      <td>0.0</td>\n",
       "      <td>NaN</td>\n",
       "    </tr>\n",
       "    <tr>\n",
       "      <th>3</th>\n",
       "      <td>hqztlcsmm1k51_processed_1</td>\n",
       "      <td>hqztlcsmm1k51</td>\n",
       "      <td>3</td>\n",
       "      <td>1</td>\n",
       "      <td>0</td>\n",
       "      <td>Clicking</td>\n",
       "      <td>0</td>\n",
       "      <td>There is no aggression heard in the audio file</td>\n",
       "      <td>0</td>\n",
       "      <td>hqztlcsmm1k51</td>\n",
       "      <td>3.0</td>\n",
       "      <td>0.0</td>\n",
       "      <td>1.0</td>\n",
       "      <td>NaN</td>\n",
       "      <td>0.0</td>\n",
       "      <td>0.0</td>\n",
       "      <td>NaN</td>\n",
       "    </tr>\n",
       "    <tr>\n",
       "      <th>4</th>\n",
       "      <td>hqztlcsmm1k51_processed_2</td>\n",
       "      <td>hqztlcsmm1k51</td>\n",
       "      <td>3</td>\n",
       "      <td>1</td>\n",
       "      <td>0</td>\n",
       "      <td>NaN</td>\n",
       "      <td>0</td>\n",
       "      <td>There is no aggression heard in the audio file</td>\n",
       "      <td>0</td>\n",
       "      <td>hqztlcsmm1k51</td>\n",
       "      <td>3.0</td>\n",
       "      <td>0.0</td>\n",
       "      <td>1.0</td>\n",
       "      <td>NaN</td>\n",
       "      <td>0.0</td>\n",
       "      <td>0.0</td>\n",
       "      <td>NaN</td>\n",
       "    </tr>\n",
       "    <tr>\n",
       "      <th>...</th>\n",
       "      <td>...</td>\n",
       "      <td>...</td>\n",
       "      <td>...</td>\n",
       "      <td>...</td>\n",
       "      <td>...</td>\n",
       "      <td>...</td>\n",
       "      <td>...</td>\n",
       "      <td>...</td>\n",
       "      <td>...</td>\n",
       "      <td>...</td>\n",
       "      <td>...</td>\n",
       "      <td>...</td>\n",
       "      <td>...</td>\n",
       "      <td>...</td>\n",
       "      <td>...</td>\n",
       "      <td>...</td>\n",
       "      <td>...</td>\n",
       "    </tr>\n",
       "    <tr>\n",
       "      <th>1053</th>\n",
       "      <td>loch7b5a0cz51_processed_5</td>\n",
       "      <td>loch7b5a0cz51</td>\n",
       "      <td>19</td>\n",
       "      <td>2</td>\n",
       "      <td>2</td>\n",
       "      <td>chatter, music</td>\n",
       "      <td>2</td>\n",
       "      <td>Someone is yelling in the background</td>\n",
       "      <td>1</td>\n",
       "      <td>loch7b5a0cz51</td>\n",
       "      <td>19.0</td>\n",
       "      <td>0.0</td>\n",
       "      <td>2.0</td>\n",
       "      <td>crowd</td>\n",
       "      <td>0.0</td>\n",
       "      <td>0.0</td>\n",
       "      <td>NaN</td>\n",
       "    </tr>\n",
       "    <tr>\n",
       "      <th>1054</th>\n",
       "      <td>loch7b5a0cz51_processed_6</td>\n",
       "      <td>loch7b5a0cz51</td>\n",
       "      <td>19</td>\n",
       "      <td>2</td>\n",
       "      <td>2</td>\n",
       "      <td>chatter, music</td>\n",
       "      <td>2</td>\n",
       "      <td>Someone is yelling in the background</td>\n",
       "      <td>1</td>\n",
       "      <td>loch7b5a0cz51</td>\n",
       "      <td>19.0</td>\n",
       "      <td>0.0</td>\n",
       "      <td>1.0</td>\n",
       "      <td>crowd</td>\n",
       "      <td>0.0</td>\n",
       "      <td>0.0</td>\n",
       "      <td>NaN</td>\n",
       "    </tr>\n",
       "    <tr>\n",
       "      <th>1055</th>\n",
       "      <td>loch7b5a0cz51_processed_7</td>\n",
       "      <td>loch7b5a0cz51</td>\n",
       "      <td>19</td>\n",
       "      <td>2</td>\n",
       "      <td>0</td>\n",
       "      <td>chatter, music</td>\n",
       "      <td>2</td>\n",
       "      <td>There is no aggression heard in the audio file</td>\n",
       "      <td>1</td>\n",
       "      <td>loch7b5a0cz51</td>\n",
       "      <td>19.0</td>\n",
       "      <td>0.0</td>\n",
       "      <td>1.0</td>\n",
       "      <td>crowd</td>\n",
       "      <td>0.0</td>\n",
       "      <td>0.0</td>\n",
       "      <td>NaN</td>\n",
       "    </tr>\n",
       "    <tr>\n",
       "      <th>1056</th>\n",
       "      <td>loch7b5a0cz51_processed_8</td>\n",
       "      <td>loch7b5a0cz51</td>\n",
       "      <td>19</td>\n",
       "      <td>2</td>\n",
       "      <td>1</td>\n",
       "      <td>chatter, music</td>\n",
       "      <td>2</td>\n",
       "      <td>One man in the background raises his voice agg...</td>\n",
       "      <td>1</td>\n",
       "      <td>loch7b5a0cz51</td>\n",
       "      <td>19.0</td>\n",
       "      <td>0.0</td>\n",
       "      <td>1.0</td>\n",
       "      <td>crowd</td>\n",
       "      <td>0.0</td>\n",
       "      <td>0.0</td>\n",
       "      <td>NaN</td>\n",
       "    </tr>\n",
       "    <tr>\n",
       "      <th>1057</th>\n",
       "      <td>loch7b5a0cz51_processed_9</td>\n",
       "      <td>loch7b5a0cz51</td>\n",
       "      <td>19</td>\n",
       "      <td>2</td>\n",
       "      <td>0</td>\n",
       "      <td>chatter, music</td>\n",
       "      <td>2</td>\n",
       "      <td>There is no aggression heard in the audio file</td>\n",
       "      <td>1</td>\n",
       "      <td>loch7b5a0cz51</td>\n",
       "      <td>19.0</td>\n",
       "      <td>0.0</td>\n",
       "      <td>1.0</td>\n",
       "      <td>crowd</td>\n",
       "      <td>0.0</td>\n",
       "      <td>0.0</td>\n",
       "      <td>NaN</td>\n",
       "    </tr>\n",
       "  </tbody>\n",
       "</table>\n",
       "<p>1058 rows × 17 columns</p>\n",
       "</div>"
      ],
      "text/plain": [
       "                      File Name Parent file_train  Number of Segments_train  \\\n",
       "0     hpawo16k1s961_processed_0     hpawo16k1s961                         2   \n",
       "1     hpawo16k1s961_processed_1     hpawo16k1s961                         2   \n",
       "2     hqztlcsmm1k51_processed_0     hqztlcsmm1k51                         3   \n",
       "3     hqztlcsmm1k51_processed_1     hqztlcsmm1k51                         3   \n",
       "4     hqztlcsmm1k51_processed_2     hqztlcsmm1k51                         3   \n",
       "...                         ...               ...                       ...   \n",
       "1053  loch7b5a0cz51_processed_5     loch7b5a0cz51                        19   \n",
       "1054  loch7b5a0cz51_processed_6     loch7b5a0cz51                        19   \n",
       "1055  loch7b5a0cz51_processed_7     loch7b5a0cz51                        19   \n",
       "1056  loch7b5a0cz51_processed_8     loch7b5a0cz51                        19   \n",
       "1057  loch7b5a0cz51_processed_9     loch7b5a0cz51                        19   \n",
       "\n",
       "      Number of voices parent_train  Segment label_train  \\\n",
       "0                                 1                    2   \n",
       "1                                 1                    2   \n",
       "2                                 1                    0   \n",
       "3                                 1                    0   \n",
       "4                                 1                    0   \n",
       "...                             ...                  ...   \n",
       "1053                              2                    2   \n",
       "1054                              2                    2   \n",
       "1055                              2                    0   \n",
       "1056                              2                    1   \n",
       "1057                              2                    0   \n",
       "\n",
       "               extra sounds_train  Parent label_train  \\\n",
       "0     Crowd yelling, wind blowing                   2   \n",
       "1     Crowd yelling, wind blowing                   2   \n",
       "2                        Clicking                   0   \n",
       "3                        Clicking                   0   \n",
       "4                             NaN                   0   \n",
       "...                           ...                 ...   \n",
       "1053               chatter, music                   2   \n",
       "1054               chatter, music                   2   \n",
       "1055               chatter, music                   2   \n",
       "1056               chatter, music                   2   \n",
       "1057               chatter, music                   2   \n",
       "\n",
       "                                            Notes_train  Noisy_train  \\\n",
       "0            The crowd is yelling and may be aggressive            1   \n",
       "1            The crowd is yelling and may be aggressive            1   \n",
       "2     The man uses suggestive language, but there is...            0   \n",
       "3        There is no aggression heard in the audio file            0   \n",
       "4        There is no aggression heard in the audio file            0   \n",
       "...                                                 ...          ...   \n",
       "1053               Someone is yelling in the background            1   \n",
       "1054               Someone is yelling in the background            1   \n",
       "1055     There is no aggression heard in the audio file            1   \n",
       "1056  One man in the background raises his voice agg...            1   \n",
       "1057     There is no aggression heard in the audio file            1   \n",
       "\n",
       "     Parent file_val  Number of Segments_val  Noisy_val  \\\n",
       "0      hpawo16k1s961                     2.0        1.0   \n",
       "1      hpawo16k1s961                     2.0        1.0   \n",
       "2      hqztlcsmm1k51                     3.0        0.0   \n",
       "3      hqztlcsmm1k51                     3.0        0.0   \n",
       "4      hqztlcsmm1k51                     3.0        0.0   \n",
       "...              ...                     ...        ...   \n",
       "1053   loch7b5a0cz51                    19.0        0.0   \n",
       "1054   loch7b5a0cz51                    19.0        0.0   \n",
       "1055   loch7b5a0cz51                    19.0        0.0   \n",
       "1056   loch7b5a0cz51                    19.0        0.0   \n",
       "1057   loch7b5a0cz51                    19.0        0.0   \n",
       "\n",
       "      Number of voices parent_val  extra sounds_val  Parent label_val  \\\n",
       "0                             1.0  crowd protesting               0.0   \n",
       "1                             1.0  crowd protesting               0.0   \n",
       "2                             1.0               NaN               0.0   \n",
       "3                             1.0               NaN               0.0   \n",
       "4                             1.0               NaN               0.0   \n",
       "...                           ...               ...               ...   \n",
       "1053                          2.0             crowd               0.0   \n",
       "1054                          1.0             crowd               0.0   \n",
       "1055                          1.0             crowd               0.0   \n",
       "1056                          1.0             crowd               0.0   \n",
       "1057                          1.0             crowd               0.0   \n",
       "\n",
       "      Segment label_val Notes_val  \n",
       "0                   0.0       NaN  \n",
       "1                   0.0       NaN  \n",
       "2                   0.0       NaN  \n",
       "3                   0.0       NaN  \n",
       "4                   0.0       NaN  \n",
       "...                 ...       ...  \n",
       "1053                0.0       NaN  \n",
       "1054                0.0       NaN  \n",
       "1055                0.0       NaN  \n",
       "1056                0.0       NaN  \n",
       "1057                0.0       NaN  \n",
       "\n",
       "[1058 rows x 17 columns]"
      ]
     },
     "execution_count": 162,
     "metadata": {},
     "output_type": "execute_result"
    }
   ],
   "source": [
    "# join \n",
    "df_merged = pd.merge(anno_train,anno_val,on=file_name,how='left',suffixes=('_train', '_val'))\n",
    "df_merged"
   ]
  },
  {
   "cell_type": "code",
   "execution_count": 163,
   "id": "1f605ec6-33fb-4049-91bb-95679b4e0455",
   "metadata": {},
   "outputs": [
    {
     "name": "stdout",
     "output_type": "stream",
     "text": [
      "<class 'pandas.core.frame.DataFrame'>\n",
      "Int64Index: 1050 entries, 0 to 1057\n",
      "Data columns (total 17 columns):\n",
      " #   Column                         Non-Null Count  Dtype  \n",
      "---  ------                         --------------  -----  \n",
      " 0   File Name                      1050 non-null   object \n",
      " 1   Parent file_train              1050 non-null   object \n",
      " 2   Number of Segments_train       1050 non-null   int64  \n",
      " 3   Number of voices parent_train  1050 non-null   int64  \n",
      " 4   Segment label_train            1050 non-null   int64  \n",
      " 5   extra sounds_train             838 non-null    object \n",
      " 6   Parent label_train             1050 non-null   int64  \n",
      " 7   Notes_train                    1049 non-null   object \n",
      " 8   Noisy_train                    1050 non-null   int64  \n",
      " 9   Parent file_val                1050 non-null   object \n",
      " 10  Number of Segments_val         1050 non-null   float64\n",
      " 11  Noisy_val                      1050 non-null   float64\n",
      " 12  Number of voices parent_val    1050 non-null   float64\n",
      " 13  extra sounds_val               570 non-null    object \n",
      " 14  Parent label_val               1050 non-null   float64\n",
      " 15  Segment label_val              1050 non-null   float64\n",
      " 16  Notes_val                      8 non-null      object \n",
      "dtypes: float64(5), int64(5), object(7)\n",
      "memory usage: 147.7+ KB\n"
     ]
    }
   ],
   "source": [
    "# Remove Nan Rows\n",
    "df_merged = df_merged[~(df_merged[segment_label+'_train'].isna() | df_merged[segment_label+'_val'].isna())]\n",
    "df_merged.info()"
   ]
  },
  {
   "cell_type": "markdown",
   "id": "e5aecc04-ad86-487e-b71b-9914e16b059c",
   "metadata": {
    "tags": []
   },
   "source": [
    "#### <b> Match or No Match & Weighted Match<b>\n",
    "#### 100%"
   ]
  },
  {
   "cell_type": "code",
   "execution_count": 164,
   "id": "fa1ce575-e235-4f91-8dfd-9b9571afe948",
   "metadata": {},
   "outputs": [
    {
     "name": "stdout",
     "output_type": "stream",
     "text": [
      "100%\n",
      "Segment: \n",
      "Matches: 543\n",
      "Total: 1050\n",
      "Segment Unweighted IOE: 51.714285714285715\n",
      "Segment Weighted IOE (Mean Absolute Error): 0.6495238095238095 \n",
      "\n",
      "Parent: \n",
      "Matches: 295\n",
      "Total: 1050\n",
      "Parent IOE: 28.095238095238095\n",
      "Parent Weighted IOE (Mean Absolute Error): 1.0104761904761905 \n",
      "\n",
      "Noisy: \n",
      "Matches: 844\n",
      "Total: 1050\n",
      "Noisy IOE: 80.38095238095238\n"
     ]
    },
    {
     "name": "stderr",
     "output_type": "stream",
     "text": [
      "/var/folders/7b/v9yf5j856tggrfg1tm641t9c0000gn/T/ipykernel_20427/3516274235.py:3: SettingWithCopyWarning: \n",
      "A value is trying to be set on a copy of a slice from a DataFrame.\n",
      "Try using .loc[row_indexer,col_indexer] = value instead\n",
      "\n",
      "See the caveats in the documentation: https://pandas.pydata.org/pandas-docs/stable/user_guide/indexing.html#returning-a-view-versus-a-copy\n",
      "  df_merged['match_s'] = np.where(df_merged[segment_label+'_train'] == df_merged[segment_label+'_val'], 1, 0)\n",
      "/var/folders/7b/v9yf5j856tggrfg1tm641t9c0000gn/T/ipykernel_20427/3516274235.py:4: SettingWithCopyWarning: \n",
      "A value is trying to be set on a copy of a slice from a DataFrame.\n",
      "Try using .loc[row_indexer,col_indexer] = value instead\n",
      "\n",
      "See the caveats in the documentation: https://pandas.pydata.org/pandas-docs/stable/user_guide/indexing.html#returning-a-view-versus-a-copy\n",
      "  df_merged['match_s_diff'] = df_merged[segment_label+'_train'] - df_merged[segment_label+'_val']\n",
      "/var/folders/7b/v9yf5j856tggrfg1tm641t9c0000gn/T/ipykernel_20427/3516274235.py:5: SettingWithCopyWarning: \n",
      "A value is trying to be set on a copy of a slice from a DataFrame.\n",
      "Try using .loc[row_indexer,col_indexer] = value instead\n",
      "\n",
      "See the caveats in the documentation: https://pandas.pydata.org/pandas-docs/stable/user_guide/indexing.html#returning-a-view-versus-a-copy\n",
      "  df_merged['match_s_diff_abs'] = df_merged['match_s_diff'].abs()\n",
      "/var/folders/7b/v9yf5j856tggrfg1tm641t9c0000gn/T/ipykernel_20427/3516274235.py:13: SettingWithCopyWarning: \n",
      "A value is trying to be set on a copy of a slice from a DataFrame.\n",
      "Try using .loc[row_indexer,col_indexer] = value instead\n",
      "\n",
      "See the caveats in the documentation: https://pandas.pydata.org/pandas-docs/stable/user_guide/indexing.html#returning-a-view-versus-a-copy\n",
      "  df_merged['match_p'] = np.where(df_merged[parent_label+'_train'] == df_merged[parent_label+'_val'], 1, 0)\n",
      "/var/folders/7b/v9yf5j856tggrfg1tm641t9c0000gn/T/ipykernel_20427/3516274235.py:14: SettingWithCopyWarning: \n",
      "A value is trying to be set on a copy of a slice from a DataFrame.\n",
      "Try using .loc[row_indexer,col_indexer] = value instead\n",
      "\n",
      "See the caveats in the documentation: https://pandas.pydata.org/pandas-docs/stable/user_guide/indexing.html#returning-a-view-versus-a-copy\n",
      "  df_merged['match_p_diff'] = df_merged[parent_label+'_train'] - df_merged[parent_label+'_val']\n",
      "/var/folders/7b/v9yf5j856tggrfg1tm641t9c0000gn/T/ipykernel_20427/3516274235.py:15: SettingWithCopyWarning: \n",
      "A value is trying to be set on a copy of a slice from a DataFrame.\n",
      "Try using .loc[row_indexer,col_indexer] = value instead\n",
      "\n",
      "See the caveats in the documentation: https://pandas.pydata.org/pandas-docs/stable/user_guide/indexing.html#returning-a-view-versus-a-copy\n",
      "  df_merged['match_p_diff_abs'] = df_merged['match_p_diff'].abs()\n",
      "/var/folders/7b/v9yf5j856tggrfg1tm641t9c0000gn/T/ipykernel_20427/3516274235.py:23: SettingWithCopyWarning: \n",
      "A value is trying to be set on a copy of a slice from a DataFrame.\n",
      "Try using .loc[row_indexer,col_indexer] = value instead\n",
      "\n",
      "See the caveats in the documentation: https://pandas.pydata.org/pandas-docs/stable/user_guide/indexing.html#returning-a-view-versus-a-copy\n",
      "  df_merged['match_n'] = np.where(df_merged['Noisy'+'_train'] == df_merged['Noisy'+'_val'], 1, 0)\n",
      "/var/folders/7b/v9yf5j856tggrfg1tm641t9c0000gn/T/ipykernel_20427/3516274235.py:24: SettingWithCopyWarning: \n",
      "A value is trying to be set on a copy of a slice from a DataFrame.\n",
      "Try using .loc[row_indexer,col_indexer] = value instead\n",
      "\n",
      "See the caveats in the documentation: https://pandas.pydata.org/pandas-docs/stable/user_guide/indexing.html#returning-a-view-versus-a-copy\n",
      "  df_merged['match_n_diff'] = df_merged['Noisy'+'_train'] - df_merged['Noisy'+'_val']\n",
      "/var/folders/7b/v9yf5j856tggrfg1tm641t9c0000gn/T/ipykernel_20427/3516274235.py:25: SettingWithCopyWarning: \n",
      "A value is trying to be set on a copy of a slice from a DataFrame.\n",
      "Try using .loc[row_indexer,col_indexer] = value instead\n",
      "\n",
      "See the caveats in the documentation: https://pandas.pydata.org/pandas-docs/stable/user_guide/indexing.html#returning-a-view-versus-a-copy\n",
      "  df_merged['match_n_diff_abs'] = df_merged['match_n_diff'].abs()\n"
     ]
    }
   ],
   "source": [
    "# IOE on segment label\n",
    "print('100%')\n",
    "df_merged['match_s'] = np.where(df_merged[segment_label+'_train'] == df_merged[segment_label+'_val'], 1, 0)\n",
    "df_merged['match_s_diff'] = df_merged[segment_label+'_train'] - df_merged[segment_label+'_val'] \n",
    "df_merged['match_s_diff_abs'] = df_merged['match_s_diff'].abs()\n",
    "print('Segment: ')\n",
    "print('Matches:',df_merged['match_s'].sum())\n",
    "print('Total:',df_merged['match_s'].count())\n",
    "print('Segment Unweighted IOE:', df_merged['match_s'].sum()/df_merged['match_s'].count()*100)\n",
    "print('Segment Weighted IOE (Mean Absolute Error):', df_merged['match_s_diff_abs'].mean(),'\\n')\n",
    "\n",
    "# IOE on parent label\n",
    "df_merged['match_p'] = np.where(df_merged[parent_label+'_train'] == df_merged[parent_label+'_val'], 1, 0)\n",
    "df_merged['match_p_diff'] = df_merged[parent_label+'_train'] - df_merged[parent_label+'_val'] \n",
    "df_merged['match_p_diff_abs'] = df_merged['match_p_diff'].abs()\n",
    "print('Parent: ')\n",
    "print('Matches:',df_merged['match_p'].sum())\n",
    "print('Total:',df_merged['match_p'].count())\n",
    "print('Parent IOE:', df_merged['match_p'].sum()/df_merged['match_p'].count()*100)\n",
    "print('Parent Weighted IOE (Mean Absolute Error):', df_merged['match_p_diff_abs'].mean(),'\\n')\n",
    "\n",
    "# IOE on Noise\n",
    "df_merged['match_n'] = np.where(df_merged['Noisy'+'_train'] == df_merged['Noisy'+'_val'], 1, 0)\n",
    "df_merged['match_n_diff'] = df_merged['Noisy'+'_train'] - df_merged['Noisy'+'_val'] \n",
    "df_merged['match_n_diff_abs'] = df_merged['match_n_diff'].abs()\n",
    "print('Noisy: ')\n",
    "print('Matches:',df_merged['match_n'].sum())\n",
    "print('Total:',df_merged['match_n'].count())\n",
    "print('Noisy IOE:', df_merged['match_n'].sum()/df_merged['match_n'].count()*100)\n",
    "#print('Noisy Weighted IOE (Mean Absolute Error):', df_merged['match_n_diff_abs'].mean(),'\\n')"
   ]
  },
  {
   "cell_type": "markdown",
   "id": "c669fb09-da9e-4052-9432-a7565a310dbe",
   "metadata": {},
   "source": [
    "#### Distribution of train - val difference values (error)\n",
    "##### Segment"
   ]
  },
  {
   "cell_type": "code",
   "execution_count": 165,
   "id": "e62b6e3b-a431-4ea3-87d2-fc2c476c0138",
   "metadata": {},
   "outputs": [
    {
     "data": {
      "text/html": [
       "<div>\n",
       "<style scoped>\n",
       "    .dataframe tbody tr th:only-of-type {\n",
       "        vertical-align: middle;\n",
       "    }\n",
       "\n",
       "    .dataframe tbody tr th {\n",
       "        vertical-align: top;\n",
       "    }\n",
       "\n",
       "    .dataframe thead th {\n",
       "        text-align: right;\n",
       "    }\n",
       "</style>\n",
       "<table border=\"1\" class=\"dataframe\">\n",
       "  <thead>\n",
       "    <tr style=\"text-align: right;\">\n",
       "      <th></th>\n",
       "      <th>match_s_diff</th>\n",
       "      <th>match_s</th>\n",
       "    </tr>\n",
       "  </thead>\n",
       "  <tbody>\n",
       "    <tr>\n",
       "      <th>0</th>\n",
       "      <td>-2.0</td>\n",
       "      <td>4</td>\n",
       "    </tr>\n",
       "    <tr>\n",
       "      <th>1</th>\n",
       "      <td>-1.0</td>\n",
       "      <td>74</td>\n",
       "    </tr>\n",
       "    <tr>\n",
       "      <th>2</th>\n",
       "      <td>0.0</td>\n",
       "      <td>543</td>\n",
       "    </tr>\n",
       "    <tr>\n",
       "      <th>3</th>\n",
       "      <td>1.0</td>\n",
       "      <td>282</td>\n",
       "    </tr>\n",
       "    <tr>\n",
       "      <th>4</th>\n",
       "      <td>2.0</td>\n",
       "      <td>123</td>\n",
       "    </tr>\n",
       "    <tr>\n",
       "      <th>5</th>\n",
       "      <td>3.0</td>\n",
       "      <td>24</td>\n",
       "    </tr>\n",
       "  </tbody>\n",
       "</table>\n",
       "</div>"
      ],
      "text/plain": [
       "   match_s_diff  match_s\n",
       "0          -2.0        4\n",
       "1          -1.0       74\n",
       "2           0.0      543\n",
       "3           1.0      282\n",
       "4           2.0      123\n",
       "5           3.0       24"
      ]
     },
     "metadata": {},
     "output_type": "display_data"
    },
    {
     "data": {
      "text/plain": [
       "<seaborn.axisgrid.FacetGrid at 0x7ff6b07c8b50>"
      ]
     },
     "metadata": {},
     "output_type": "display_data"
    },
    {
     "data": {
      "image/png": "[encoded data removed]",
      "text/plain": [
       "<Figure size 360x360 with 1 Axes>"
      ]
     },
     "metadata": {
      "needs_background": "light"
     },
     "output_type": "display_data"
    }
   ],
   "source": [
    "# train - val difference histogram\n",
    "temp = df_merged.groupby('match_s_diff')['match_s'].count().reset_index()\n",
    "display(temp)\n",
    "display (sns.displot(df_merged['match_s_diff']))"
   ]
  },
  {
   "cell_type": "markdown",
   "id": "dc6f7fe4-2fbf-4f61-87f0-a4f04095bd53",
   "metadata": {},
   "source": [
    "##### Parent"
   ]
  },
  {
   "cell_type": "code",
   "execution_count": 166,
   "id": "9b076ae8-321f-47ac-8ba0-2ad8c100a8e6",
   "metadata": {},
   "outputs": [
    {
     "data": {
      "text/html": [
       "<div>\n",
       "<style scoped>\n",
       "    .dataframe tbody tr th:only-of-type {\n",
       "        vertical-align: middle;\n",
       "    }\n",
       "\n",
       "    .dataframe tbody tr th {\n",
       "        vertical-align: top;\n",
       "    }\n",
       "\n",
       "    .dataframe thead th {\n",
       "        text-align: right;\n",
       "    }\n",
       "</style>\n",
       "<table border=\"1\" class=\"dataframe\">\n",
       "  <thead>\n",
       "    <tr style=\"text-align: right;\">\n",
       "      <th></th>\n",
       "      <th>match_p_diff</th>\n",
       "      <th>match_p</th>\n",
       "    </tr>\n",
       "  </thead>\n",
       "  <tbody>\n",
       "    <tr>\n",
       "      <th>0</th>\n",
       "      <td>0.0</td>\n",
       "      <td>295</td>\n",
       "    </tr>\n",
       "    <tr>\n",
       "      <th>1</th>\n",
       "      <td>1.0</td>\n",
       "      <td>472</td>\n",
       "    </tr>\n",
       "    <tr>\n",
       "      <th>2</th>\n",
       "      <td>2.0</td>\n",
       "      <td>260</td>\n",
       "    </tr>\n",
       "    <tr>\n",
       "      <th>3</th>\n",
       "      <td>3.0</td>\n",
       "      <td>23</td>\n",
       "    </tr>\n",
       "  </tbody>\n",
       "</table>\n",
       "</div>"
      ],
      "text/plain": [
       "   match_p_diff  match_p\n",
       "0           0.0      295\n",
       "1           1.0      472\n",
       "2           2.0      260\n",
       "3           3.0       23"
      ]
     },
     "metadata": {},
     "output_type": "display_data"
    },
    {
     "data": {
      "text/plain": [
       "<seaborn.axisgrid.FacetGrid at 0x7ff6b0782c10>"
      ]
     },
     "metadata": {},
     "output_type": "display_data"
    },
    {
     "data": {
      "image/png": "[encoded data removed]",
      "text/plain": [
       "<Figure size 360x360 with 1 Axes>"
      ]
     },
     "metadata": {
      "needs_background": "light"
     },
     "output_type": "display_data"
    }
   ],
   "source": [
    "temp = df_merged.groupby('match_p_diff')['match_p'].count().reset_index()\n",
    "display(temp)\n",
    "display (sns.displot(df_merged['match_p_diff']))"
   ]
  },
  {
   "cell_type": "markdown",
   "id": "f9041076-1ed2-4dd8-b728-a7fd43e95a51",
   "metadata": {},
   "source": [
    "##### Noisy"
   ]
  },
  {
   "cell_type": "code",
   "execution_count": 167,
   "id": "85bf5419-dc5d-4882-89d8-d2565b4d5c50",
   "metadata": {},
   "outputs": [
    {
     "data": {
      "text/html": [
       "<div>\n",
       "<style scoped>\n",
       "    .dataframe tbody tr th:only-of-type {\n",
       "        vertical-align: middle;\n",
       "    }\n",
       "\n",
       "    .dataframe tbody tr th {\n",
       "        vertical-align: top;\n",
       "    }\n",
       "\n",
       "    .dataframe thead th {\n",
       "        text-align: right;\n",
       "    }\n",
       "</style>\n",
       "<table border=\"1\" class=\"dataframe\">\n",
       "  <thead>\n",
       "    <tr style=\"text-align: right;\">\n",
       "      <th></th>\n",
       "      <th>match_n_diff</th>\n",
       "      <th>match_n</th>\n",
       "    </tr>\n",
       "  </thead>\n",
       "  <tbody>\n",
       "    <tr>\n",
       "      <th>0</th>\n",
       "      <td>-3.0</td>\n",
       "      <td>1</td>\n",
       "    </tr>\n",
       "    <tr>\n",
       "      <th>1</th>\n",
       "      <td>-1.0</td>\n",
       "      <td>54</td>\n",
       "    </tr>\n",
       "    <tr>\n",
       "      <th>2</th>\n",
       "      <td>0.0</td>\n",
       "      <td>844</td>\n",
       "    </tr>\n",
       "    <tr>\n",
       "      <th>3</th>\n",
       "      <td>1.0</td>\n",
       "      <td>151</td>\n",
       "    </tr>\n",
       "  </tbody>\n",
       "</table>\n",
       "</div>"
      ],
      "text/plain": [
       "   match_n_diff  match_n\n",
       "0          -3.0        1\n",
       "1          -1.0       54\n",
       "2           0.0      844\n",
       "3           1.0      151"
      ]
     },
     "metadata": {},
     "output_type": "display_data"
    },
    {
     "data": {
      "text/plain": [
       "<seaborn.axisgrid.FacetGrid at 0x7ff6c2dcb9d0>"
      ]
     },
     "metadata": {},
     "output_type": "display_data"
    },
    {
     "data": {
      "image/png": "[encoded data removed]",
      "text/plain": [
       "<Figure size 360x360 with 1 Axes>"
      ]
     },
     "metadata": {
      "needs_background": "light"
     },
     "output_type": "display_data"
    }
   ],
   "source": [
    "temp = df_merged.groupby('match_n_diff')['match_n'].count().reset_index()\n",
    "display(temp)\n",
    "display (sns.displot(df_merged['match_n_diff']))"
   ]
  },
  {
   "cell_type": "markdown",
   "id": "e3803ffc-d55a-452c-92f9-2d3dbb1cb7bf",
   "metadata": {
    "tags": []
   },
   "source": [
    "#### <b> Match or No Match <b>\n",
    "#### 50%"
   ]
  },
  {
   "cell_type": "code",
   "execution_count": 168,
   "id": "e2bb25fd-b84e-4633-abe1-423c3ec14992",
   "metadata": {},
   "outputs": [
    {
     "name": "stdout",
     "output_type": "stream",
     "text": [
      "50%\n",
      "Segment: \n",
      "Matches: 264\n",
      "Total: 525\n",
      "Segment IOE: 50.28571428571429 \n",
      "\n",
      "Parent: \n",
      "Matches: 143\n",
      "Total: 525\n",
      "Parent IOE: 27.23809523809524 \n",
      "\n",
      "Noisy: \n",
      "Matches: 424\n",
      "Total: 525\n",
      "Noisy IOE: 80.76190476190476\n"
     ]
    }
   ],
   "source": [
    "# IOE on segment label\n",
    "print('50%')\n",
    "df_sample = df_merged.sample(frac=0.50)\n",
    "print('Segment: ')\n",
    "print('Matches:',df_sample['match_s'].sum())\n",
    "print('Total:',df_sample['match_s'].count())\n",
    "print('Segment IOE:', df_sample['match_s'].sum()/df_sample['match_s'].count()*100,'\\n')\n",
    "\n",
    "# IOE on parent label\n",
    "print('Parent: ')\n",
    "print('Matches:',df_sample['match_p'].sum())\n",
    "print('Total:',df_sample['match_p'].count())\n",
    "print('Parent IOE:', df_sample['match_p'].sum()/df_sample['match_p'].count()*100,'\\n')\n",
    "\n",
    "# IOE on Noise\n",
    "print('Noisy: ')\n",
    "print('Matches:',df_sample['match_n'].sum())\n",
    "print('Total:',df_sample['match_n'].count())\n",
    "print('Noisy IOE:', df_sample['match_n'].sum()/df_sample['match_n'].count()*100)"
   ]
  },
  {
   "cell_type": "markdown",
   "id": "02affcbd-da5e-4e68-b32a-5e6beb3ad29d",
   "metadata": {
    "tags": []
   },
   "source": [
    "#### <b>Cohen's Kappa<b>"
   ]
  },
  {
   "cell_type": "code",
   "execution_count": 169,
   "id": "e3bb192e-7688-4764-b567-29319324e11f",
   "metadata": {},
   "outputs": [
    {
     "name": "stdout",
     "output_type": "stream",
     "text": [
      "Cohen k (Segment): 0.3170096479523761\n",
      "Cohen k (Parent): 0.09224154218743741\n",
      "Cohen k (Noisy): 0.3679984572500482\n"
     ]
    }
   ],
   "source": [
    "# Calculate Cohen's k\n",
    "print('Cohen k (Segment):',cohen_kappa_score(df_merged[segment_label+'_train'], df_merged[segment_label+'_val']))\n",
    "print('Cohen k (Parent):',cohen_kappa_score(df_merged[parent_label+'_train'], df_merged[parent_label+'_val']))\n",
    "print('Cohen k (Noisy):',cohen_kappa_score(df_merged['Noisy'+'_train'], df_merged['Noisy'+'_val']))"
   ]
  },
  {
   "cell_type": "markdown",
   "id": "37ff5278-12be-44e9-9314-f9703fe73ae7",
   "metadata": {
    "tags": []
   },
   "source": [
    "## H"
   ]
  },
  {
   "cell_type": "markdown",
   "id": "bd8c43b7-4ae0-476b-b24e-6c1fbe1f6199",
   "metadata": {
    "tags": []
   },
   "source": [
    "#### train =  TL, val = KK_SA"
   ]
  },
  {
   "cell_type": "code",
   "execution_count": 170,
   "id": "b739b13f-59e1-4daa-9e27-ecdd84b8a27d",
   "metadata": {},
   "outputs": [],
   "source": [
    "# Read Data\n",
    "anno_train = pd.read_excel(file_path+'labelled-reddit-2021-08-31-H-TL_updated.xlsx')\n",
    "anno_val = pd.read_excel(file_path+'labelled-reddit-2021-08-31-H-KK_SA.xlsx')"
   ]
  },
  {
   "cell_type": "code",
   "execution_count": 171,
   "id": "a7f5a177-2b92-43e9-81e8-9ce26a4d0efe",
   "metadata": {},
   "outputs": [
    {
     "data": {
      "text/html": [
       "<div>\n",
       "<style scoped>\n",
       "    .dataframe tbody tr th:only-of-type {\n",
       "        vertical-align: middle;\n",
       "    }\n",
       "\n",
       "    .dataframe tbody tr th {\n",
       "        vertical-align: top;\n",
       "    }\n",
       "\n",
       "    .dataframe thead th {\n",
       "        text-align: right;\n",
       "    }\n",
       "</style>\n",
       "<table border=\"1\" class=\"dataframe\">\n",
       "  <thead>\n",
       "    <tr style=\"text-align: right;\">\n",
       "      <th></th>\n",
       "      <th>file_name</th>\n",
       "      <th>parent_file</th>\n",
       "      <th>number_of_segments</th>\n",
       "      <th>number_of_voices_parent_file</th>\n",
       "      <th>noisy</th>\n",
       "      <th>extra sounds</th>\n",
       "      <th>Parent label</th>\n",
       "      <th>Segment label</th>\n",
       "      <th>Notes</th>\n",
       "    </tr>\n",
       "  </thead>\n",
       "  <tbody>\n",
       "    <tr>\n",
       "      <th>0</th>\n",
       "      <td>uortapdfw0x51_processed_0</td>\n",
       "      <td>uortapdfw0x51</td>\n",
       "      <td>8.0</td>\n",
       "      <td>2.0</td>\n",
       "      <td>NaN</td>\n",
       "      <td>NaN</td>\n",
       "      <td>2.0</td>\n",
       "      <td>2.0</td>\n",
       "      <td>NaN</td>\n",
       "    </tr>\n",
       "  </tbody>\n",
       "</table>\n",
       "</div>"
      ],
      "text/plain": [
       "                   file_name    parent_file  number_of_segments  \\\n",
       "0  uortapdfw0x51_processed_0  uortapdfw0x51                 8.0   \n",
       "\n",
       "   number_of_voices_parent_file  noisy extra sounds  Parent label  \\\n",
       "0                           2.0    NaN          NaN           2.0   \n",
       "\n",
       "   Segment label Notes  \n",
       "0            2.0   NaN  "
      ]
     },
     "metadata": {},
     "output_type": "display_data"
    },
    {
     "name": "stdout",
     "output_type": "stream",
     "text": [
      "Index(['file_name', 'parent_file', 'number_of_segments',\n",
      "       'number_of_voices_parent_file', 'noisy', 'extra sounds', 'Parent label',\n",
      "       'Segment label', 'Notes'],\n",
      "      dtype='object')\n"
     ]
    }
   ],
   "source": [
    "display(anno_train.head(1))\n",
    "print(anno_train.columns)"
   ]
  },
  {
   "cell_type": "code",
   "execution_count": 172,
   "id": "04c4738b-ce24-46c2-bb09-c1731b9e3b6e",
   "metadata": {},
   "outputs": [
    {
     "data": {
      "text/html": [
       "<div>\n",
       "<style scoped>\n",
       "    .dataframe tbody tr th:only-of-type {\n",
       "        vertical-align: middle;\n",
       "    }\n",
       "\n",
       "    .dataframe tbody tr th {\n",
       "        vertical-align: top;\n",
       "    }\n",
       "\n",
       "    .dataframe thead th {\n",
       "        text-align: right;\n",
       "    }\n",
       "</style>\n",
       "<table border=\"1\" class=\"dataframe\">\n",
       "  <thead>\n",
       "    <tr style=\"text-align: right;\">\n",
       "      <th></th>\n",
       "      <th>file_name</th>\n",
       "      <th>parent_file</th>\n",
       "      <th>number_of_segments</th>\n",
       "      <th>number_of_voices_parent_file</th>\n",
       "      <th>noisy</th>\n",
       "      <th>extra_sounds</th>\n",
       "      <th>parent_label</th>\n",
       "      <th>segment_label</th>\n",
       "      <th>notes</th>\n",
       "    </tr>\n",
       "  </thead>\n",
       "  <tbody>\n",
       "    <tr>\n",
       "      <th>0</th>\n",
       "      <td>uortapdfw0x51_processed_0</td>\n",
       "      <td>uortapdfw0x51</td>\n",
       "      <td>8</td>\n",
       "      <td>4</td>\n",
       "      <td>0.0</td>\n",
       "      <td>NaN</td>\n",
       "      <td>3.0</td>\n",
       "      <td>1</td>\n",
       "      <td>NaN</td>\n",
       "    </tr>\n",
       "  </tbody>\n",
       "</table>\n",
       "</div>"
      ],
      "text/plain": [
       "                   file_name    parent_file  number_of_segments  \\\n",
       "0  uortapdfw0x51_processed_0  uortapdfw0x51                   8   \n",
       "\n",
       "   number_of_voices_parent_file  noisy extra_sounds  parent_label  \\\n",
       "0                             4    0.0          NaN           3.0   \n",
       "\n",
       "   segment_label notes  \n",
       "0              1   NaN  "
      ]
     },
     "metadata": {},
     "output_type": "display_data"
    },
    {
     "name": "stdout",
     "output_type": "stream",
     "text": [
      "Index(['file_name', 'parent_file', 'number_of_segments',\n",
      "       'number_of_voices_parent_file', 'noisy', 'extra_sounds', 'parent_label',\n",
      "       'segment_label', 'notes'],\n",
      "      dtype='object')\n"
     ]
    }
   ],
   "source": [
    "display(anno_val.head(1))\n",
    "print(anno_val.columns)"
   ]
  },
  {
   "cell_type": "code",
   "execution_count": 173,
   "id": "54231284-f90d-4b26-a73c-35e5d6ec3dca",
   "metadata": {},
   "outputs": [],
   "source": [
    "# Correct train file column names\n",
    "# Run for H-TL\n",
    "anno_train.columns=['file_name', 'parent_file', 'number_of_segments',\n",
    "       'number_of_voices_parent_file', 'noisy', 'extra sounds', 'parent_label',\n",
    "       'segment_label', 'Notes']"
   ]
  },
  {
   "cell_type": "code",
   "execution_count": 174,
   "id": "099d6517-4082-4089-8ae3-5a61986b2c18",
   "metadata": {},
   "outputs": [
    {
     "name": "stdout",
     "output_type": "stream",
     "text": [
      "<class 'pandas.core.frame.DataFrame'>\n",
      "RangeIndex: 650 entries, 0 to 649\n",
      "Data columns (total 9 columns):\n",
      " #   Column                        Non-Null Count  Dtype  \n",
      "---  ------                        --------------  -----  \n",
      " 0   file_name                     650 non-null    object \n",
      " 1   parent_file                   650 non-null    object \n",
      " 2   number_of_segments            650 non-null    float64\n",
      " 3   number_of_voices_parent_file  621 non-null    float64\n",
      " 4   noisy                         0 non-null      float64\n",
      " 5   extra sounds                  104 non-null    object \n",
      " 6   parent_label                  634 non-null    float64\n",
      " 7   segment_label                 633 non-null    float64\n",
      " 8   Notes                         25 non-null     object \n",
      "dtypes: float64(5), object(4)\n",
      "memory usage: 45.8+ KB\n"
     ]
    }
   ],
   "source": [
    "# Check for nulls\n",
    "anno_train.info()"
   ]
  },
  {
   "cell_type": "code",
   "execution_count": 175,
   "id": "0825136d-ea4d-45ce-9f2d-9b82483ae239",
   "metadata": {},
   "outputs": [
    {
     "name": "stdout",
     "output_type": "stream",
     "text": [
      "<class 'pandas.core.frame.DataFrame'>\n",
      "RangeIndex: 436 entries, 0 to 435\n",
      "Data columns (total 9 columns):\n",
      " #   Column                        Non-Null Count  Dtype  \n",
      "---  ------                        --------------  -----  \n",
      " 0   file_name                     436 non-null    object \n",
      " 1   parent_file                   436 non-null    object \n",
      " 2   number_of_segments            436 non-null    int64  \n",
      " 3   number_of_voices_parent_file  436 non-null    int64  \n",
      " 4   noisy                         435 non-null    float64\n",
      " 5   extra_sounds                  67 non-null     object \n",
      " 6   parent_label                  435 non-null    float64\n",
      " 7   segment_label                 436 non-null    int64  \n",
      " 8   notes                         22 non-null     object \n",
      "dtypes: float64(2), int64(3), object(4)\n",
      "memory usage: 30.8+ KB\n"
     ]
    }
   ],
   "source": [
    "# Check for nulls\n",
    "anno_val.info()"
   ]
  },
  {
   "cell_type": "code",
   "execution_count": 176,
   "id": "dfeadafa-faea-45df-9532-271cc8b71525",
   "metadata": {},
   "outputs": [],
   "source": [
    "segment_label = 'segment_label'\n",
    "parent_label = 'parent_label'\n",
    "\n",
    "anno_train['file_name'] = anno_train['file_name'].str.strip()\n",
    "anno_val['file_name'] = anno_val['file_name'].str.strip()"
   ]
  },
  {
   "cell_type": "code",
   "execution_count": 177,
   "id": "2a92e537-c95d-47e4-a0b1-41a254aff305",
   "metadata": {},
   "outputs": [
    {
     "data": {
      "text/html": [
       "<div>\n",
       "<style scoped>\n",
       "    .dataframe tbody tr th:only-of-type {\n",
       "        vertical-align: middle;\n",
       "    }\n",
       "\n",
       "    .dataframe tbody tr th {\n",
       "        vertical-align: top;\n",
       "    }\n",
       "\n",
       "    .dataframe thead th {\n",
       "        text-align: right;\n",
       "    }\n",
       "</style>\n",
       "<table border=\"1\" class=\"dataframe\">\n",
       "  <thead>\n",
       "    <tr style=\"text-align: right;\">\n",
       "      <th></th>\n",
       "      <th>file_name</th>\n",
       "      <th>parent_file_train</th>\n",
       "      <th>number_of_segments_train</th>\n",
       "      <th>number_of_voices_parent_file_train</th>\n",
       "      <th>noisy_train</th>\n",
       "      <th>extra sounds</th>\n",
       "      <th>parent_label_train</th>\n",
       "      <th>segment_label_train</th>\n",
       "      <th>Notes</th>\n",
       "      <th>parent_file_val</th>\n",
       "      <th>number_of_segments_val</th>\n",
       "      <th>number_of_voices_parent_file_val</th>\n",
       "      <th>noisy_val</th>\n",
       "      <th>extra_sounds</th>\n",
       "      <th>parent_label_val</th>\n",
       "      <th>segment_label_val</th>\n",
       "      <th>notes</th>\n",
       "    </tr>\n",
       "  </thead>\n",
       "  <tbody>\n",
       "    <tr>\n",
       "      <th>0</th>\n",
       "      <td>uortapdfw0x51_processed_0</td>\n",
       "      <td>uortapdfw0x51</td>\n",
       "      <td>8.0</td>\n",
       "      <td>2.0</td>\n",
       "      <td>NaN</td>\n",
       "      <td>NaN</td>\n",
       "      <td>2.0</td>\n",
       "      <td>2.0</td>\n",
       "      <td>NaN</td>\n",
       "      <td>uortapdfw0x51</td>\n",
       "      <td>8.0</td>\n",
       "      <td>4.0</td>\n",
       "      <td>0.0</td>\n",
       "      <td>NaN</td>\n",
       "      <td>3.0</td>\n",
       "      <td>1.0</td>\n",
       "      <td>NaN</td>\n",
       "    </tr>\n",
       "    <tr>\n",
       "      <th>1</th>\n",
       "      <td>uortapdfw0x51_processed_1</td>\n",
       "      <td>uortapdfw0x51</td>\n",
       "      <td>8.0</td>\n",
       "      <td>2.0</td>\n",
       "      <td>NaN</td>\n",
       "      <td>NaN</td>\n",
       "      <td>2.0</td>\n",
       "      <td>1.0</td>\n",
       "      <td>NaN</td>\n",
       "      <td>uortapdfw0x51</td>\n",
       "      <td>8.0</td>\n",
       "      <td>4.0</td>\n",
       "      <td>0.0</td>\n",
       "      <td>NaN</td>\n",
       "      <td>3.0</td>\n",
       "      <td>0.0</td>\n",
       "      <td>woman2 is crying</td>\n",
       "    </tr>\n",
       "    <tr>\n",
       "      <th>2</th>\n",
       "      <td>uortapdfw0x51_processed_2</td>\n",
       "      <td>uortapdfw0x51</td>\n",
       "      <td>8.0</td>\n",
       "      <td>2.0</td>\n",
       "      <td>NaN</td>\n",
       "      <td>NaN</td>\n",
       "      <td>2.0</td>\n",
       "      <td>0.0</td>\n",
       "      <td>NaN</td>\n",
       "      <td>uortapdfw0x51</td>\n",
       "      <td>8.0</td>\n",
       "      <td>4.0</td>\n",
       "      <td>0.0</td>\n",
       "      <td>someone walking</td>\n",
       "      <td>3.0</td>\n",
       "      <td>0.0</td>\n",
       "      <td>no talking here</td>\n",
       "    </tr>\n",
       "    <tr>\n",
       "      <th>3</th>\n",
       "      <td>uortapdfw0x51_processed_3</td>\n",
       "      <td>uortapdfw0x51</td>\n",
       "      <td>8.0</td>\n",
       "      <td>2.0</td>\n",
       "      <td>NaN</td>\n",
       "      <td>NaN</td>\n",
       "      <td>2.0</td>\n",
       "      <td>0.0</td>\n",
       "      <td>NaN</td>\n",
       "      <td>uortapdfw0x51</td>\n",
       "      <td>8.0</td>\n",
       "      <td>4.0</td>\n",
       "      <td>0.0</td>\n",
       "      <td>NaN</td>\n",
       "      <td>3.0</td>\n",
       "      <td>0.0</td>\n",
       "      <td>no talking here</td>\n",
       "    </tr>\n",
       "    <tr>\n",
       "      <th>4</th>\n",
       "      <td>uortapdfw0x51_processed_4</td>\n",
       "      <td>uortapdfw0x51</td>\n",
       "      <td>8.0</td>\n",
       "      <td>2.0</td>\n",
       "      <td>NaN</td>\n",
       "      <td>NaN</td>\n",
       "      <td>2.0</td>\n",
       "      <td>2.0</td>\n",
       "      <td>NaN</td>\n",
       "      <td>uortapdfw0x51</td>\n",
       "      <td>8.0</td>\n",
       "      <td>4.0</td>\n",
       "      <td>0.0</td>\n",
       "      <td>NaN</td>\n",
       "      <td>3.0</td>\n",
       "      <td>3.0</td>\n",
       "      <td>NaN</td>\n",
       "    </tr>\n",
       "    <tr>\n",
       "      <th>...</th>\n",
       "      <td>...</td>\n",
       "      <td>...</td>\n",
       "      <td>...</td>\n",
       "      <td>...</td>\n",
       "      <td>...</td>\n",
       "      <td>...</td>\n",
       "      <td>...</td>\n",
       "      <td>...</td>\n",
       "      <td>...</td>\n",
       "      <td>...</td>\n",
       "      <td>...</td>\n",
       "      <td>...</td>\n",
       "      <td>...</td>\n",
       "      <td>...</td>\n",
       "      <td>...</td>\n",
       "      <td>...</td>\n",
       "      <td>...</td>\n",
       "    </tr>\n",
       "    <tr>\n",
       "      <th>645</th>\n",
       "      <td>zl1fow9ffo171_processed_12</td>\n",
       "      <td>zl1fow9ffo171</td>\n",
       "      <td>17.0</td>\n",
       "      <td>2.0</td>\n",
       "      <td>NaN</td>\n",
       "      <td>NaN</td>\n",
       "      <td>2.0</td>\n",
       "      <td>1.0</td>\n",
       "      <td>NaN</td>\n",
       "      <td>NaN</td>\n",
       "      <td>NaN</td>\n",
       "      <td>NaN</td>\n",
       "      <td>NaN</td>\n",
       "      <td>NaN</td>\n",
       "      <td>NaN</td>\n",
       "      <td>NaN</td>\n",
       "      <td>NaN</td>\n",
       "    </tr>\n",
       "    <tr>\n",
       "      <th>646</th>\n",
       "      <td>zl1fow9ffo171_processed_13</td>\n",
       "      <td>zl1fow9ffo171</td>\n",
       "      <td>17.0</td>\n",
       "      <td>2.0</td>\n",
       "      <td>NaN</td>\n",
       "      <td>NaN</td>\n",
       "      <td>2.0</td>\n",
       "      <td>1.0</td>\n",
       "      <td>NaN</td>\n",
       "      <td>NaN</td>\n",
       "      <td>NaN</td>\n",
       "      <td>NaN</td>\n",
       "      <td>NaN</td>\n",
       "      <td>NaN</td>\n",
       "      <td>NaN</td>\n",
       "      <td>NaN</td>\n",
       "      <td>NaN</td>\n",
       "    </tr>\n",
       "    <tr>\n",
       "      <th>647</th>\n",
       "      <td>zl1fow9ffo171_processed_14</td>\n",
       "      <td>zl1fow9ffo171</td>\n",
       "      <td>17.0</td>\n",
       "      <td>2.0</td>\n",
       "      <td>NaN</td>\n",
       "      <td>NaN</td>\n",
       "      <td>2.0</td>\n",
       "      <td>1.0</td>\n",
       "      <td>NaN</td>\n",
       "      <td>NaN</td>\n",
       "      <td>NaN</td>\n",
       "      <td>NaN</td>\n",
       "      <td>NaN</td>\n",
       "      <td>NaN</td>\n",
       "      <td>NaN</td>\n",
       "      <td>NaN</td>\n",
       "      <td>NaN</td>\n",
       "    </tr>\n",
       "    <tr>\n",
       "      <th>648</th>\n",
       "      <td>zl1fow9ffo171_processed_15</td>\n",
       "      <td>zl1fow9ffo171</td>\n",
       "      <td>17.0</td>\n",
       "      <td>2.0</td>\n",
       "      <td>NaN</td>\n",
       "      <td>NaN</td>\n",
       "      <td>2.0</td>\n",
       "      <td>1.0</td>\n",
       "      <td>NaN</td>\n",
       "      <td>NaN</td>\n",
       "      <td>NaN</td>\n",
       "      <td>NaN</td>\n",
       "      <td>NaN</td>\n",
       "      <td>NaN</td>\n",
       "      <td>NaN</td>\n",
       "      <td>NaN</td>\n",
       "      <td>NaN</td>\n",
       "    </tr>\n",
       "    <tr>\n",
       "      <th>649</th>\n",
       "      <td>zl1fow9ffo171_processed_16</td>\n",
       "      <td>zl1fow9ffo171</td>\n",
       "      <td>17.0</td>\n",
       "      <td>2.0</td>\n",
       "      <td>NaN</td>\n",
       "      <td>NaN</td>\n",
       "      <td>2.0</td>\n",
       "      <td>1.0</td>\n",
       "      <td>NaN</td>\n",
       "      <td>NaN</td>\n",
       "      <td>NaN</td>\n",
       "      <td>NaN</td>\n",
       "      <td>NaN</td>\n",
       "      <td>NaN</td>\n",
       "      <td>NaN</td>\n",
       "      <td>NaN</td>\n",
       "      <td>NaN</td>\n",
       "    </tr>\n",
       "  </tbody>\n",
       "</table>\n",
       "<p>650 rows × 17 columns</p>\n",
       "</div>"
      ],
      "text/plain": [
       "                      file_name parent_file_train  number_of_segments_train  \\\n",
       "0     uortapdfw0x51_processed_0     uortapdfw0x51                       8.0   \n",
       "1     uortapdfw0x51_processed_1     uortapdfw0x51                       8.0   \n",
       "2     uortapdfw0x51_processed_2     uortapdfw0x51                       8.0   \n",
       "3     uortapdfw0x51_processed_3     uortapdfw0x51                       8.0   \n",
       "4     uortapdfw0x51_processed_4     uortapdfw0x51                       8.0   \n",
       "..                          ...               ...                       ...   \n",
       "645  zl1fow9ffo171_processed_12     zl1fow9ffo171                      17.0   \n",
       "646  zl1fow9ffo171_processed_13     zl1fow9ffo171                      17.0   \n",
       "647  zl1fow9ffo171_processed_14     zl1fow9ffo171                      17.0   \n",
       "648  zl1fow9ffo171_processed_15     zl1fow9ffo171                      17.0   \n",
       "649  zl1fow9ffo171_processed_16     zl1fow9ffo171                      17.0   \n",
       "\n",
       "     number_of_voices_parent_file_train  noisy_train extra sounds  \\\n",
       "0                                   2.0          NaN          NaN   \n",
       "1                                   2.0          NaN          NaN   \n",
       "2                                   2.0          NaN          NaN   \n",
       "3                                   2.0          NaN          NaN   \n",
       "4                                   2.0          NaN          NaN   \n",
       "..                                  ...          ...          ...   \n",
       "645                                 2.0          NaN          NaN   \n",
       "646                                 2.0          NaN          NaN   \n",
       "647                                 2.0          NaN          NaN   \n",
       "648                                 2.0          NaN          NaN   \n",
       "649                                 2.0          NaN          NaN   \n",
       "\n",
       "     parent_label_train  segment_label_train Notes parent_file_val  \\\n",
       "0                   2.0                  2.0   NaN   uortapdfw0x51   \n",
       "1                   2.0                  1.0   NaN   uortapdfw0x51   \n",
       "2                   2.0                  0.0   NaN   uortapdfw0x51   \n",
       "3                   2.0                  0.0   NaN   uortapdfw0x51   \n",
       "4                   2.0                  2.0   NaN   uortapdfw0x51   \n",
       "..                  ...                  ...   ...             ...   \n",
       "645                 2.0                  1.0   NaN             NaN   \n",
       "646                 2.0                  1.0   NaN             NaN   \n",
       "647                 2.0                  1.0   NaN             NaN   \n",
       "648                 2.0                  1.0   NaN             NaN   \n",
       "649                 2.0                  1.0   NaN             NaN   \n",
       "\n",
       "     number_of_segments_val  number_of_voices_parent_file_val  noisy_val  \\\n",
       "0                       8.0                               4.0        0.0   \n",
       "1                       8.0                               4.0        0.0   \n",
       "2                       8.0                               4.0        0.0   \n",
       "3                       8.0                               4.0        0.0   \n",
       "4                       8.0                               4.0        0.0   \n",
       "..                      ...                               ...        ...   \n",
       "645                     NaN                               NaN        NaN   \n",
       "646                     NaN                               NaN        NaN   \n",
       "647                     NaN                               NaN        NaN   \n",
       "648                     NaN                               NaN        NaN   \n",
       "649                     NaN                               NaN        NaN   \n",
       "\n",
       "        extra_sounds  parent_label_val  segment_label_val             notes  \n",
       "0                NaN               3.0                1.0               NaN  \n",
       "1                NaN               3.0                0.0  woman2 is crying  \n",
       "2    someone walking               3.0                0.0   no talking here  \n",
       "3                NaN               3.0                0.0   no talking here  \n",
       "4                NaN               3.0                3.0               NaN  \n",
       "..               ...               ...                ...               ...  \n",
       "645              NaN               NaN                NaN               NaN  \n",
       "646              NaN               NaN                NaN               NaN  \n",
       "647              NaN               NaN                NaN               NaN  \n",
       "648              NaN               NaN                NaN               NaN  \n",
       "649              NaN               NaN                NaN               NaN  \n",
       "\n",
       "[650 rows x 17 columns]"
      ]
     },
     "execution_count": 177,
     "metadata": {},
     "output_type": "execute_result"
    }
   ],
   "source": [
    "# join \n",
    "df_merged = pd.merge(anno_train,anno_val,on='file_name',how='left',suffixes=('_train', '_val'))\n",
    "df_merged"
   ]
  },
  {
   "cell_type": "code",
   "execution_count": 178,
   "id": "c84acd18-1ba3-4d3d-b268-f9646980885c",
   "metadata": {},
   "outputs": [
    {
     "name": "stdout",
     "output_type": "stream",
     "text": [
      "<class 'pandas.core.frame.DataFrame'>\n",
      "Int64Index: 372 entries, 0 to 378\n",
      "Data columns (total 17 columns):\n",
      " #   Column                              Non-Null Count  Dtype  \n",
      "---  ------                              --------------  -----  \n",
      " 0   file_name                           372 non-null    object \n",
      " 1   parent_file_train                   372 non-null    object \n",
      " 2   number_of_segments_train            372 non-null    float64\n",
      " 3   number_of_voices_parent_file_train  359 non-null    float64\n",
      " 4   noisy_train                         0 non-null      float64\n",
      " 5   extra sounds                        49 non-null     object \n",
      " 6   parent_label_train                  372 non-null    float64\n",
      " 7   segment_label_train                 372 non-null    float64\n",
      " 8   Notes                               8 non-null      object \n",
      " 9   parent_file_val                     372 non-null    object \n",
      " 10  number_of_segments_val              372 non-null    float64\n",
      " 11  number_of_voices_parent_file_val    372 non-null    float64\n",
      " 12  noisy_val                           371 non-null    float64\n",
      " 13  extra_sounds                        37 non-null     object \n",
      " 14  parent_label_val                    372 non-null    float64\n",
      " 15  segment_label_val                   372 non-null    float64\n",
      " 16  notes                               21 non-null     object \n",
      "dtypes: float64(10), object(7)\n",
      "memory usage: 52.3+ KB\n"
     ]
    }
   ],
   "source": [
    "# Remove Nan Rows\n",
    "df_merged = df_merged[~(df_merged[segment_label+'_train'].isna() | df_merged[segment_label+'_val'].isna())]\n",
    "df_merged.info()"
   ]
  },
  {
   "cell_type": "markdown",
   "id": "fe714fbb-8dcd-45bf-8ca4-864a49beaff8",
   "metadata": {
    "tags": []
   },
   "source": [
    "#### <b> Match or No Match & Weighted Match <b>\n",
    "#### 100%"
   ]
  },
  {
   "cell_type": "code",
   "execution_count": 179,
   "id": "b2afb28f-2303-4f7f-b103-d2f83638bc3d",
   "metadata": {},
   "outputs": [
    {
     "name": "stdout",
     "output_type": "stream",
     "text": [
      "100%\n",
      "Segment: \n",
      "Matches: 132\n",
      "Total: 372\n",
      "Segment Unweighted IOE: 35.483870967741936\n",
      "Segment Weighted IOE (Mean Absolute Error): 0.8870967741935484 \n",
      "\n",
      "Parent: \n",
      "Matches: 132\n",
      "Total: 372\n",
      "Parent IOE: 35.483870967741936\n",
      "Parent Weighted IOE (Mean Absolute Error): 0.8091397849462365 \n",
      "\n",
      "Noisy: \n",
      "Matches: 0\n",
      "Total: 372\n",
      "Noisy IOE: 0.0\n"
     ]
    },
    {
     "name": "stderr",
     "output_type": "stream",
     "text": [
      "/var/folders/7b/v9yf5j856tggrfg1tm641t9c0000gn/T/ipykernel_20427/17326261.py:3: SettingWithCopyWarning: \n",
      "A value is trying to be set on a copy of a slice from a DataFrame.\n",
      "Try using .loc[row_indexer,col_indexer] = value instead\n",
      "\n",
      "See the caveats in the documentation: https://pandas.pydata.org/pandas-docs/stable/user_guide/indexing.html#returning-a-view-versus-a-copy\n",
      "  df_merged['match_s'] = np.where(df_merged[segment_label+'_train'] == df_merged[segment_label+'_val'], 1, 0)\n",
      "/var/folders/7b/v9yf5j856tggrfg1tm641t9c0000gn/T/ipykernel_20427/17326261.py:4: SettingWithCopyWarning: \n",
      "A value is trying to be set on a copy of a slice from a DataFrame.\n",
      "Try using .loc[row_indexer,col_indexer] = value instead\n",
      "\n",
      "See the caveats in the documentation: https://pandas.pydata.org/pandas-docs/stable/user_guide/indexing.html#returning-a-view-versus-a-copy\n",
      "  df_merged['match_s_diff'] = df_merged[segment_label+'_train'] - df_merged[segment_label+'_val']\n",
      "/var/folders/7b/v9yf5j856tggrfg1tm641t9c0000gn/T/ipykernel_20427/17326261.py:5: SettingWithCopyWarning: \n",
      "A value is trying to be set on a copy of a slice from a DataFrame.\n",
      "Try using .loc[row_indexer,col_indexer] = value instead\n",
      "\n",
      "See the caveats in the documentation: https://pandas.pydata.org/pandas-docs/stable/user_guide/indexing.html#returning-a-view-versus-a-copy\n",
      "  df_merged['match_s_diff_abs'] = df_merged['match_s_diff'].abs()\n",
      "/var/folders/7b/v9yf5j856tggrfg1tm641t9c0000gn/T/ipykernel_20427/17326261.py:13: SettingWithCopyWarning: \n",
      "A value is trying to be set on a copy of a slice from a DataFrame.\n",
      "Try using .loc[row_indexer,col_indexer] = value instead\n",
      "\n",
      "See the caveats in the documentation: https://pandas.pydata.org/pandas-docs/stable/user_guide/indexing.html#returning-a-view-versus-a-copy\n",
      "  df_merged['match_p'] = np.where(df_merged[parent_label+'_train'] == df_merged[parent_label+'_val'], 1, 0)\n",
      "/var/folders/7b/v9yf5j856tggrfg1tm641t9c0000gn/T/ipykernel_20427/17326261.py:14: SettingWithCopyWarning: \n",
      "A value is trying to be set on a copy of a slice from a DataFrame.\n",
      "Try using .loc[row_indexer,col_indexer] = value instead\n",
      "\n",
      "See the caveats in the documentation: https://pandas.pydata.org/pandas-docs/stable/user_guide/indexing.html#returning-a-view-versus-a-copy\n",
      "  df_merged['match_p_diff'] = df_merged[parent_label+'_train'] - df_merged[parent_label+'_val']\n",
      "/var/folders/7b/v9yf5j856tggrfg1tm641t9c0000gn/T/ipykernel_20427/17326261.py:15: SettingWithCopyWarning: \n",
      "A value is trying to be set on a copy of a slice from a DataFrame.\n",
      "Try using .loc[row_indexer,col_indexer] = value instead\n",
      "\n",
      "See the caveats in the documentation: https://pandas.pydata.org/pandas-docs/stable/user_guide/indexing.html#returning-a-view-versus-a-copy\n",
      "  df_merged['match_p_diff_abs'] = df_merged['match_p_diff'].abs()\n",
      "/var/folders/7b/v9yf5j856tggrfg1tm641t9c0000gn/T/ipykernel_20427/17326261.py:23: SettingWithCopyWarning: \n",
      "A value is trying to be set on a copy of a slice from a DataFrame.\n",
      "Try using .loc[row_indexer,col_indexer] = value instead\n",
      "\n",
      "See the caveats in the documentation: https://pandas.pydata.org/pandas-docs/stable/user_guide/indexing.html#returning-a-view-versus-a-copy\n",
      "  df_merged['match_n'] = np.where(df_merged['noisy'+'_train'] == df_merged['noisy'+'_val'], 1, 0)\n",
      "/var/folders/7b/v9yf5j856tggrfg1tm641t9c0000gn/T/ipykernel_20427/17326261.py:24: SettingWithCopyWarning: \n",
      "A value is trying to be set on a copy of a slice from a DataFrame.\n",
      "Try using .loc[row_indexer,col_indexer] = value instead\n",
      "\n",
      "See the caveats in the documentation: https://pandas.pydata.org/pandas-docs/stable/user_guide/indexing.html#returning-a-view-versus-a-copy\n",
      "  df_merged['match_n_diff'] = df_merged['noisy'+'_train'] - df_merged['noisy'+'_val']\n",
      "/var/folders/7b/v9yf5j856tggrfg1tm641t9c0000gn/T/ipykernel_20427/17326261.py:25: SettingWithCopyWarning: \n",
      "A value is trying to be set on a copy of a slice from a DataFrame.\n",
      "Try using .loc[row_indexer,col_indexer] = value instead\n",
      "\n",
      "See the caveats in the documentation: https://pandas.pydata.org/pandas-docs/stable/user_guide/indexing.html#returning-a-view-versus-a-copy\n",
      "  df_merged['match_n_diff_abs'] = df_merged['match_n_diff'].abs()\n"
     ]
    }
   ],
   "source": [
    "# IOE on segment label\n",
    "print('100%')\n",
    "df_merged['match_s'] = np.where(df_merged[segment_label+'_train'] == df_merged[segment_label+'_val'], 1, 0)\n",
    "df_merged['match_s_diff'] = df_merged[segment_label+'_train'] - df_merged[segment_label+'_val'] \n",
    "df_merged['match_s_diff_abs'] = df_merged['match_s_diff'].abs()\n",
    "print('Segment: ')\n",
    "print('Matches:',df_merged['match_s'].sum())\n",
    "print('Total:',df_merged['match_s'].count())\n",
    "print('Segment Unweighted IOE:', df_merged['match_s'].sum()/df_merged['match_s'].count()*100)\n",
    "print('Segment Weighted IOE (Mean Absolute Error):', df_merged['match_s_diff_abs'].mean(),'\\n')\n",
    "\n",
    "# IOE on parent label\n",
    "df_merged['match_p'] = np.where(df_merged[parent_label+'_train'] == df_merged[parent_label+'_val'], 1, 0)\n",
    "df_merged['match_p_diff'] = df_merged[parent_label+'_train'] - df_merged[parent_label+'_val'] \n",
    "df_merged['match_p_diff_abs'] = df_merged['match_p_diff'].abs()\n",
    "print('Parent: ')\n",
    "print('Matches:',df_merged['match_p'].sum())\n",
    "print('Total:',df_merged['match_p'].count())\n",
    "print('Parent IOE:', df_merged['match_p'].sum()/df_merged['match_p'].count()*100)\n",
    "print('Parent Weighted IOE (Mean Absolute Error):', df_merged['match_p_diff_abs'].mean(),'\\n')\n",
    "\n",
    "# IOE on Noise\n",
    "df_merged['match_n'] = np.where(df_merged['noisy'+'_train'] == df_merged['noisy'+'_val'], 1, 0)\n",
    "df_merged['match_n_diff'] = df_merged['noisy'+'_train'] - df_merged['noisy'+'_val'] \n",
    "df_merged['match_n_diff_abs'] = df_merged['match_n_diff'].abs()\n",
    "print('Noisy: ')\n",
    "print('Matches:',df_merged['match_n'].sum())\n",
    "print('Total:',df_merged['match_n'].count())\n",
    "print('Noisy IOE:', df_merged['match_n'].sum()/df_merged['match_n'].count()*100)"
   ]
  },
  {
   "cell_type": "markdown",
   "id": "3c16b190-cc5f-4131-b27b-8320af7d8ca4",
   "metadata": {},
   "source": [
    "#### Distribution of train - val difference values (error)\n",
    "##### Segment"
   ]
  },
  {
   "cell_type": "code",
   "execution_count": 180,
   "id": "ba4dbea2-e612-486f-a015-9c0743900032",
   "metadata": {},
   "outputs": [
    {
     "data": {
      "text/html": [
       "<div>\n",
       "<style scoped>\n",
       "    .dataframe tbody tr th:only-of-type {\n",
       "        vertical-align: middle;\n",
       "    }\n",
       "\n",
       "    .dataframe tbody tr th {\n",
       "        vertical-align: top;\n",
       "    }\n",
       "\n",
       "    .dataframe thead th {\n",
       "        text-align: right;\n",
       "    }\n",
       "</style>\n",
       "<table border=\"1\" class=\"dataframe\">\n",
       "  <thead>\n",
       "    <tr style=\"text-align: right;\">\n",
       "      <th></th>\n",
       "      <th>match_s_diff</th>\n",
       "      <th>match_s</th>\n",
       "    </tr>\n",
       "  </thead>\n",
       "  <tbody>\n",
       "    <tr>\n",
       "      <th>0</th>\n",
       "      <td>-3.0</td>\n",
       "      <td>7</td>\n",
       "    </tr>\n",
       "    <tr>\n",
       "      <th>1</th>\n",
       "      <td>-2.0</td>\n",
       "      <td>18</td>\n",
       "    </tr>\n",
       "    <tr>\n",
       "      <th>2</th>\n",
       "      <td>-1.0</td>\n",
       "      <td>40</td>\n",
       "    </tr>\n",
       "    <tr>\n",
       "      <th>3</th>\n",
       "      <td>0.0</td>\n",
       "      <td>132</td>\n",
       "    </tr>\n",
       "    <tr>\n",
       "      <th>4</th>\n",
       "      <td>1.0</td>\n",
       "      <td>118</td>\n",
       "    </tr>\n",
       "    <tr>\n",
       "      <th>5</th>\n",
       "      <td>2.0</td>\n",
       "      <td>56</td>\n",
       "    </tr>\n",
       "    <tr>\n",
       "      <th>6</th>\n",
       "      <td>3.0</td>\n",
       "      <td>1</td>\n",
       "    </tr>\n",
       "  </tbody>\n",
       "</table>\n",
       "</div>"
      ],
      "text/plain": [
       "   match_s_diff  match_s\n",
       "0          -3.0        7\n",
       "1          -2.0       18\n",
       "2          -1.0       40\n",
       "3           0.0      132\n",
       "4           1.0      118\n",
       "5           2.0       56\n",
       "6           3.0        1"
      ]
     },
     "metadata": {},
     "output_type": "display_data"
    },
    {
     "data": {
      "text/plain": [
       "<seaborn.axisgrid.FacetGrid at 0x7ff6b07a54f0>"
      ]
     },
     "metadata": {},
     "output_type": "display_data"
    },
    {
     "data": {
      "image/png": "[encoded data removed]",
      "text/plain": [
       "<Figure size 360x360 with 1 Axes>"
      ]
     },
     "metadata": {
      "needs_background": "light"
     },
     "output_type": "display_data"
    }
   ],
   "source": [
    "# train - val difference histogram\n",
    "temp = df_merged.groupby('match_s_diff')['match_s'].count().reset_index()\n",
    "display(temp)\n",
    "display (sns.displot(df_merged['match_s_diff']))"
   ]
  },
  {
   "cell_type": "markdown",
   "id": "005a80c1-1409-4908-bafa-f62b5fd13b7b",
   "metadata": {},
   "source": [
    "##### Parent"
   ]
  },
  {
   "cell_type": "code",
   "execution_count": 181,
   "id": "502132e0-5068-45ef-8b23-b978b00b2f22",
   "metadata": {},
   "outputs": [
    {
     "data": {
      "text/html": [
       "<div>\n",
       "<style scoped>\n",
       "    .dataframe tbody tr th:only-of-type {\n",
       "        vertical-align: middle;\n",
       "    }\n",
       "\n",
       "    .dataframe tbody tr th {\n",
       "        vertical-align: top;\n",
       "    }\n",
       "\n",
       "    .dataframe thead th {\n",
       "        text-align: right;\n",
       "    }\n",
       "</style>\n",
       "<table border=\"1\" class=\"dataframe\">\n",
       "  <thead>\n",
       "    <tr style=\"text-align: right;\">\n",
       "      <th></th>\n",
       "      <th>match_p_diff</th>\n",
       "      <th>match_p</th>\n",
       "    </tr>\n",
       "  </thead>\n",
       "  <tbody>\n",
       "    <tr>\n",
       "      <th>0</th>\n",
       "      <td>-3.0</td>\n",
       "      <td>4</td>\n",
       "    </tr>\n",
       "    <tr>\n",
       "      <th>1</th>\n",
       "      <td>-2.0</td>\n",
       "      <td>13</td>\n",
       "    </tr>\n",
       "    <tr>\n",
       "      <th>2</th>\n",
       "      <td>-1.0</td>\n",
       "      <td>47</td>\n",
       "    </tr>\n",
       "    <tr>\n",
       "      <th>3</th>\n",
       "      <td>0.0</td>\n",
       "      <td>132</td>\n",
       "    </tr>\n",
       "    <tr>\n",
       "      <th>4</th>\n",
       "      <td>1.0</td>\n",
       "      <td>136</td>\n",
       "    </tr>\n",
       "    <tr>\n",
       "      <th>5</th>\n",
       "      <td>2.0</td>\n",
       "      <td>40</td>\n",
       "    </tr>\n",
       "  </tbody>\n",
       "</table>\n",
       "</div>"
      ],
      "text/plain": [
       "   match_p_diff  match_p\n",
       "0          -3.0        4\n",
       "1          -2.0       13\n",
       "2          -1.0       47\n",
       "3           0.0      132\n",
       "4           1.0      136\n",
       "5           2.0       40"
      ]
     },
     "metadata": {},
     "output_type": "display_data"
    },
    {
     "data": {
      "text/plain": [
       "<seaborn.axisgrid.FacetGrid at 0x7ff6a314f9a0>"
      ]
     },
     "metadata": {},
     "output_type": "display_data"
    },
    {
     "data": {
      "image/png": "[encoded data removed]",
      "text/plain": [
       "<Figure size 360x360 with 1 Axes>"
      ]
     },
     "metadata": {
      "needs_background": "light"
     },
     "output_type": "display_data"
    }
   ],
   "source": [
    "temp = df_merged.groupby('match_p_diff')['match_p'].count().reset_index()\n",
    "display(temp)\n",
    "display (sns.displot(df_merged['match_p_diff']))"
   ]
  },
  {
   "cell_type": "markdown",
   "id": "a221f3e1-4014-4e5a-817f-be1fe252ad9d",
   "metadata": {},
   "source": [
    "##### Noisy"
   ]
  },
  {
   "cell_type": "code",
   "execution_count": 182,
   "id": "b04d2a8d-8d10-4b51-a9d8-ea850fe6ed48",
   "metadata": {},
   "outputs": [
    {
     "data": {
      "text/html": [
       "<div>\n",
       "<style scoped>\n",
       "    .dataframe tbody tr th:only-of-type {\n",
       "        vertical-align: middle;\n",
       "    }\n",
       "\n",
       "    .dataframe tbody tr th {\n",
       "        vertical-align: top;\n",
       "    }\n",
       "\n",
       "    .dataframe thead th {\n",
       "        text-align: right;\n",
       "    }\n",
       "</style>\n",
       "<table border=\"1\" class=\"dataframe\">\n",
       "  <thead>\n",
       "    <tr style=\"text-align: right;\">\n",
       "      <th></th>\n",
       "      <th>match_n_diff</th>\n",
       "      <th>match_n</th>\n",
       "    </tr>\n",
       "  </thead>\n",
       "  <tbody>\n",
       "  </tbody>\n",
       "</table>\n",
       "</div>"
      ],
      "text/plain": [
       "Empty DataFrame\n",
       "Columns: [match_n_diff, match_n]\n",
       "Index: []"
      ]
     },
     "metadata": {},
     "output_type": "display_data"
    },
    {
     "data": {
      "text/plain": [
       "<seaborn.axisgrid.FacetGrid at 0x7ff6a313c2b0>"
      ]
     },
     "metadata": {},
     "output_type": "display_data"
    },
    {
     "data": {
      "image/png": "[encoded data removed]",
      "text/plain": [
       "<Figure size 360x360 with 1 Axes>"
      ]
     },
     "metadata": {
      "needs_background": "light"
     },
     "output_type": "display_data"
    }
   ],
   "source": [
    "temp = df_merged.groupby('match_n_diff')['match_n'].count().reset_index()\n",
    "display(temp)\n",
    "display (sns.displot(df_merged['match_n_diff']))"
   ]
  },
  {
   "cell_type": "markdown",
   "id": "33998409-680f-4adf-8681-0bac341de5ad",
   "metadata": {
    "tags": []
   },
   "source": [
    "#### <b> Match or No Match <b>\n",
    "#### 50%"
   ]
  },
  {
   "cell_type": "code",
   "execution_count": 183,
   "id": "797b5c74-c997-4a4d-a910-06916520e37d",
   "metadata": {},
   "outputs": [
    {
     "name": "stdout",
     "output_type": "stream",
     "text": [
      "50%\n",
      "Segment: \n",
      "Matches: 65\n",
      "Total: 186\n",
      "Segment IOE: 34.946236559139784 \n",
      "\n",
      "Parent: \n",
      "Matches: 64\n",
      "Total: 186\n",
      "Parent IOE: 34.40860215053764 \n",
      "\n",
      "Noisy: \n",
      "Matches: 0\n",
      "Total: 186\n",
      "Noisy IOE: 0.0\n"
     ]
    }
   ],
   "source": [
    "# IOE on segment label\n",
    "print('50%')\n",
    "df_sample = df_merged.sample(frac=0.50)\n",
    "print('Segment: ')\n",
    "print('Matches:',df_sample['match_s'].sum())\n",
    "print('Total:',df_sample['match_s'].count())\n",
    "print('Segment IOE:', df_sample['match_s'].sum()/df_sample['match_s'].count()*100,'\\n')\n",
    "\n",
    "# IOE on parent label\n",
    "print('Parent: ')\n",
    "print('Matches:',df_sample['match_p'].sum())\n",
    "print('Total:',df_sample['match_p'].count())\n",
    "print('Parent IOE:', df_sample['match_p'].sum()/df_sample['match_p'].count()*100,'\\n')\n",
    "\n",
    "# IOE on Noise\n",
    "print('Noisy: ')\n",
    "print('Matches:',df_sample['match_n'].sum())\n",
    "print('Total:',df_sample['match_n'].count())\n",
    "print('Noisy IOE:', df_sample['match_n'].sum()/df_sample['match_n'].count()*100)"
   ]
  },
  {
   "cell_type": "markdown",
   "id": "707fab8e-7fb7-4cc9-a547-cab568546577",
   "metadata": {
    "tags": []
   },
   "source": [
    "#### <b>Cohen's Kappa<b>"
   ]
  },
  {
   "cell_type": "code",
   "execution_count": 184,
   "id": "03c0b69d-c193-47c2-bc3e-d48bcbb5b2d2",
   "metadata": {},
   "outputs": [
    {
     "name": "stdout",
     "output_type": "stream",
     "text": [
      "Cohen k (Segment): 0.12199439445345928\n",
      "Cohen k (Parent): 0.13087496592811798\n"
     ]
    }
   ],
   "source": [
    "# Calculate Cohen's k\n",
    "print('Cohen k (Segment):',cohen_kappa_score(df_merged[segment_label+'_train'], df_merged[segment_label+'_val']))\n",
    "print('Cohen k (Parent):',cohen_kappa_score(df_merged[parent_label+'_train'], df_merged[parent_label+'_val']))\n",
    "#print('Cohen k (Noisy):',cohen_kappa_score(df_merged['Noisy'+'_train'], df_merged['Noisy'+'_val']))"
   ]
  },
  {
   "cell_type": "markdown",
   "id": "54a024de-da25-4a49-be74-4315c183bbfd",
   "metadata": {
    "tags": []
   },
   "source": [
    "#### train =  KK, val = SA_tie_breaker"
   ]
  },
  {
   "cell_type": "code",
   "execution_count": 185,
   "id": "9faf9bb2-678d-4e99-842d-78c5cda18e80",
   "metadata": {},
   "outputs": [],
   "source": [
    "# Read Data\n",
    "anno_train = pd.read_excel(file_path+'labelled-reddit-2021-08-31-H-KK_SA.xlsx')\n",
    "anno_val = pd.read_excel(file_path+'labelled-reddit-2021-08-31-H-SA_tie_breaker.xlsx')"
   ]
  },
  {
   "cell_type": "code",
   "execution_count": 186,
   "id": "e9a8509c-5c67-471c-a32b-fd43497bd221",
   "metadata": {},
   "outputs": [
    {
     "data": {
      "text/html": [
       "<div>\n",
       "<style scoped>\n",
       "    .dataframe tbody tr th:only-of-type {\n",
       "        vertical-align: middle;\n",
       "    }\n",
       "\n",
       "    .dataframe tbody tr th {\n",
       "        vertical-align: top;\n",
       "    }\n",
       "\n",
       "    .dataframe thead th {\n",
       "        text-align: right;\n",
       "    }\n",
       "</style>\n",
       "<table border=\"1\" class=\"dataframe\">\n",
       "  <thead>\n",
       "    <tr style=\"text-align: right;\">\n",
       "      <th></th>\n",
       "      <th>file_name</th>\n",
       "      <th>parent_file</th>\n",
       "      <th>number_of_segments</th>\n",
       "      <th>number_of_voices_parent_file</th>\n",
       "      <th>noisy</th>\n",
       "      <th>extra_sounds</th>\n",
       "      <th>parent_label</th>\n",
       "      <th>segment_label</th>\n",
       "      <th>notes</th>\n",
       "    </tr>\n",
       "  </thead>\n",
       "  <tbody>\n",
       "    <tr>\n",
       "      <th>0</th>\n",
       "      <td>uortapdfw0x51_processed_0</td>\n",
       "      <td>uortapdfw0x51</td>\n",
       "      <td>8</td>\n",
       "      <td>4</td>\n",
       "      <td>0.0</td>\n",
       "      <td>NaN</td>\n",
       "      <td>3.0</td>\n",
       "      <td>1</td>\n",
       "      <td>NaN</td>\n",
       "    </tr>\n",
       "  </tbody>\n",
       "</table>\n",
       "</div>"
      ],
      "text/plain": [
       "                   file_name    parent_file  number_of_segments  \\\n",
       "0  uortapdfw0x51_processed_0  uortapdfw0x51                   8   \n",
       "\n",
       "   number_of_voices_parent_file  noisy extra_sounds  parent_label  \\\n",
       "0                             4    0.0          NaN           3.0   \n",
       "\n",
       "   segment_label notes  \n",
       "0              1   NaN  "
      ]
     },
     "metadata": {},
     "output_type": "display_data"
    },
    {
     "name": "stdout",
     "output_type": "stream",
     "text": [
      "Index(['file_name', 'parent_file', 'number_of_segments',\n",
      "       'number_of_voices_parent_file', 'noisy', 'extra_sounds', 'parent_label',\n",
      "       'segment_label', 'notes'],\n",
      "      dtype='object')\n"
     ]
    }
   ],
   "source": [
    "display(anno_train.head(1))\n",
    "print(anno_train.columns)"
   ]
  },
  {
   "cell_type": "code",
   "execution_count": 187,
   "id": "7ee61236-255f-4fb3-a575-165da955bac7",
   "metadata": {},
   "outputs": [
    {
     "data": {
      "text/html": [
       "<div>\n",
       "<style scoped>\n",
       "    .dataframe tbody tr th:only-of-type {\n",
       "        vertical-align: middle;\n",
       "    }\n",
       "\n",
       "    .dataframe tbody tr th {\n",
       "        vertical-align: top;\n",
       "    }\n",
       "\n",
       "    .dataframe thead th {\n",
       "        text-align: right;\n",
       "    }\n",
       "</style>\n",
       "<table border=\"1\" class=\"dataframe\">\n",
       "  <thead>\n",
       "    <tr style=\"text-align: right;\">\n",
       "      <th></th>\n",
       "      <th>file_name</th>\n",
       "      <th>parent_file</th>\n",
       "      <th>number_of_segments</th>\n",
       "      <th>number_of_voices_parent_file</th>\n",
       "      <th>noisy</th>\n",
       "      <th>extra_sounds</th>\n",
       "      <th>parent_label</th>\n",
       "      <th>segment_label</th>\n",
       "      <th>notes</th>\n",
       "    </tr>\n",
       "  </thead>\n",
       "  <tbody>\n",
       "    <tr>\n",
       "      <th>0</th>\n",
       "      <td>uortapdfw0x51_processed_0</td>\n",
       "      <td>uortapdfw0x51</td>\n",
       "      <td>8</td>\n",
       "      <td>5</td>\n",
       "      <td>0</td>\n",
       "      <td>door slam</td>\n",
       "      <td>1</td>\n",
       "      <td>0</td>\n",
       "      <td>NaN</td>\n",
       "    </tr>\n",
       "  </tbody>\n",
       "</table>\n",
       "</div>"
      ],
      "text/plain": [
       "                   file_name    parent_file  number_of_segments  \\\n",
       "0  uortapdfw0x51_processed_0  uortapdfw0x51                   8   \n",
       "\n",
       "   number_of_voices_parent_file  noisy extra_sounds  parent_label  \\\n",
       "0                             5      0    door slam             1   \n",
       "\n",
       "   segment_label notes  \n",
       "0              0   NaN  "
      ]
     },
     "metadata": {},
     "output_type": "display_data"
    },
    {
     "name": "stdout",
     "output_type": "stream",
     "text": [
      "Index(['file_name', 'parent_file', 'number_of_segments',\n",
      "       'number_of_voices_parent_file', 'noisy', 'extra_sounds', 'parent_label',\n",
      "       'segment_label', 'notes'],\n",
      "      dtype='object')\n"
     ]
    }
   ],
   "source": [
    "display(anno_val.head(1))\n",
    "print(anno_val.columns)"
   ]
  },
  {
   "cell_type": "code",
   "execution_count": 188,
   "id": "d96b9826-7d7a-4a87-82e3-9f75361011fd",
   "metadata": {},
   "outputs": [],
   "source": [
    "# Correct train file column names\n",
    "# Run for H-TL\n",
    "# anno_train.columns=['file_name', 'parent_file', 'number_of_segments',\n",
    "#        'number_of_voices_parent_file', 'noisy', 'extra sounds', 'parent_label',\n",
    "#        'segment_label', 'Notes']"
   ]
  },
  {
   "cell_type": "code",
   "execution_count": 189,
   "id": "96069990-bebf-4329-89b0-15683eebf825",
   "metadata": {},
   "outputs": [
    {
     "name": "stdout",
     "output_type": "stream",
     "text": [
      "<class 'pandas.core.frame.DataFrame'>\n",
      "RangeIndex: 436 entries, 0 to 435\n",
      "Data columns (total 9 columns):\n",
      " #   Column                        Non-Null Count  Dtype  \n",
      "---  ------                        --------------  -----  \n",
      " 0   file_name                     436 non-null    object \n",
      " 1   parent_file                   436 non-null    object \n",
      " 2   number_of_segments            436 non-null    int64  \n",
      " 3   number_of_voices_parent_file  436 non-null    int64  \n",
      " 4   noisy                         435 non-null    float64\n",
      " 5   extra_sounds                  67 non-null     object \n",
      " 6   parent_label                  435 non-null    float64\n",
      " 7   segment_label                 436 non-null    int64  \n",
      " 8   notes                         22 non-null     object \n",
      "dtypes: float64(2), int64(3), object(4)\n",
      "memory usage: 30.8+ KB\n"
     ]
    }
   ],
   "source": [
    "# Check for nulls\n",
    "anno_train.info()"
   ]
  },
  {
   "cell_type": "code",
   "execution_count": 190,
   "id": "269a64d8-a71a-43d7-ad24-de477b5deb0b",
   "metadata": {},
   "outputs": [
    {
     "name": "stdout",
     "output_type": "stream",
     "text": [
      "<class 'pandas.core.frame.DataFrame'>\n",
      "RangeIndex: 100 entries, 0 to 99\n",
      "Data columns (total 9 columns):\n",
      " #   Column                        Non-Null Count  Dtype \n",
      "---  ------                        --------------  ----- \n",
      " 0   file_name                     100 non-null    object\n",
      " 1   parent_file                   100 non-null    object\n",
      " 2   number_of_segments            100 non-null    int64 \n",
      " 3   number_of_voices_parent_file  100 non-null    int64 \n",
      " 4   noisy                         100 non-null    int64 \n",
      " 5   extra_sounds                  22 non-null     object\n",
      " 6   parent_label                  100 non-null    int64 \n",
      " 7   segment_label                 100 non-null    int64 \n",
      " 8   notes                         5 non-null      object\n",
      "dtypes: int64(5), object(4)\n",
      "memory usage: 7.2+ KB\n"
     ]
    }
   ],
   "source": [
    "# Check for nulls\n",
    "anno_val.info()"
   ]
  },
  {
   "cell_type": "code",
   "execution_count": 191,
   "id": "20a71221-6673-4602-b451-ef35c18f0c27",
   "metadata": {},
   "outputs": [],
   "source": [
    "segment_label = 'segment_label'\n",
    "parent_label = 'parent_label'\n",
    "\n",
    "anno_train['file_name'] = anno_train['file_name'].str.strip()\n",
    "anno_val['file_name'] = anno_val['file_name'].str.strip()"
   ]
  },
  {
   "cell_type": "code",
   "execution_count": 192,
   "id": "9bb06137-7dbb-46fd-a3e1-9283faea0361",
   "metadata": {},
   "outputs": [
    {
     "data": {
      "text/html": [
       "<div>\n",
       "<style scoped>\n",
       "    .dataframe tbody tr th:only-of-type {\n",
       "        vertical-align: middle;\n",
       "    }\n",
       "\n",
       "    .dataframe tbody tr th {\n",
       "        vertical-align: top;\n",
       "    }\n",
       "\n",
       "    .dataframe thead th {\n",
       "        text-align: right;\n",
       "    }\n",
       "</style>\n",
       "<table border=\"1\" class=\"dataframe\">\n",
       "  <thead>\n",
       "    <tr style=\"text-align: right;\">\n",
       "      <th></th>\n",
       "      <th>file_name</th>\n",
       "      <th>parent_file_train</th>\n",
       "      <th>number_of_segments_train</th>\n",
       "      <th>number_of_voices_parent_file_train</th>\n",
       "      <th>noisy_train</th>\n",
       "      <th>extra_sounds_train</th>\n",
       "      <th>parent_label_train</th>\n",
       "      <th>segment_label_train</th>\n",
       "      <th>notes_train</th>\n",
       "      <th>parent_file_val</th>\n",
       "      <th>number_of_segments_val</th>\n",
       "      <th>number_of_voices_parent_file_val</th>\n",
       "      <th>noisy_val</th>\n",
       "      <th>extra_sounds_val</th>\n",
       "      <th>parent_label_val</th>\n",
       "      <th>segment_label_val</th>\n",
       "      <th>notes_val</th>\n",
       "    </tr>\n",
       "  </thead>\n",
       "  <tbody>\n",
       "    <tr>\n",
       "      <th>0</th>\n",
       "      <td>uortapdfw0x51_processed_0</td>\n",
       "      <td>uortapdfw0x51</td>\n",
       "      <td>8</td>\n",
       "      <td>4</td>\n",
       "      <td>0.0</td>\n",
       "      <td>NaN</td>\n",
       "      <td>3.0</td>\n",
       "      <td>1</td>\n",
       "      <td>NaN</td>\n",
       "      <td>uortapdfw0x51</td>\n",
       "      <td>8.0</td>\n",
       "      <td>5.0</td>\n",
       "      <td>0.0</td>\n",
       "      <td>door slam</td>\n",
       "      <td>1.0</td>\n",
       "      <td>0.0</td>\n",
       "      <td>NaN</td>\n",
       "    </tr>\n",
       "    <tr>\n",
       "      <th>1</th>\n",
       "      <td>uortapdfw0x51_processed_1</td>\n",
       "      <td>uortapdfw0x51</td>\n",
       "      <td>8</td>\n",
       "      <td>4</td>\n",
       "      <td>0.0</td>\n",
       "      <td>NaN</td>\n",
       "      <td>3.0</td>\n",
       "      <td>0</td>\n",
       "      <td>woman2 is crying</td>\n",
       "      <td>uortapdfw0x51</td>\n",
       "      <td>8.0</td>\n",
       "      <td>5.0</td>\n",
       "      <td>0.0</td>\n",
       "      <td>screechy noise</td>\n",
       "      <td>1.0</td>\n",
       "      <td>1.0</td>\n",
       "      <td>NaN</td>\n",
       "    </tr>\n",
       "    <tr>\n",
       "      <th>2</th>\n",
       "      <td>uortapdfw0x51_processed_2</td>\n",
       "      <td>uortapdfw0x51</td>\n",
       "      <td>8</td>\n",
       "      <td>4</td>\n",
       "      <td>0.0</td>\n",
       "      <td>someone walking</td>\n",
       "      <td>3.0</td>\n",
       "      <td>0</td>\n",
       "      <td>no talking here</td>\n",
       "      <td>uortapdfw0x51</td>\n",
       "      <td>8.0</td>\n",
       "      <td>5.0</td>\n",
       "      <td>0.0</td>\n",
       "      <td>no voice present</td>\n",
       "      <td>1.0</td>\n",
       "      <td>0.0</td>\n",
       "      <td>empty</td>\n",
       "    </tr>\n",
       "    <tr>\n",
       "      <th>3</th>\n",
       "      <td>uortapdfw0x51_processed_3</td>\n",
       "      <td>uortapdfw0x51</td>\n",
       "      <td>8</td>\n",
       "      <td>4</td>\n",
       "      <td>0.0</td>\n",
       "      <td>NaN</td>\n",
       "      <td>3.0</td>\n",
       "      <td>0</td>\n",
       "      <td>no talking here</td>\n",
       "      <td>uortapdfw0x51</td>\n",
       "      <td>8.0</td>\n",
       "      <td>5.0</td>\n",
       "      <td>0.0</td>\n",
       "      <td>NaN</td>\n",
       "      <td>1.0</td>\n",
       "      <td>0.0</td>\n",
       "      <td>NaN</td>\n",
       "    </tr>\n",
       "    <tr>\n",
       "      <th>4</th>\n",
       "      <td>uortapdfw0x51_processed_4</td>\n",
       "      <td>uortapdfw0x51</td>\n",
       "      <td>8</td>\n",
       "      <td>4</td>\n",
       "      <td>0.0</td>\n",
       "      <td>NaN</td>\n",
       "      <td>3.0</td>\n",
       "      <td>3</td>\n",
       "      <td>NaN</td>\n",
       "      <td>uortapdfw0x51</td>\n",
       "      <td>8.0</td>\n",
       "      <td>5.0</td>\n",
       "      <td>0.0</td>\n",
       "      <td>shout</td>\n",
       "      <td>1.0</td>\n",
       "      <td>0.0</td>\n",
       "      <td>NaN</td>\n",
       "    </tr>\n",
       "    <tr>\n",
       "      <th>...</th>\n",
       "      <td>...</td>\n",
       "      <td>...</td>\n",
       "      <td>...</td>\n",
       "      <td>...</td>\n",
       "      <td>...</td>\n",
       "      <td>...</td>\n",
       "      <td>...</td>\n",
       "      <td>...</td>\n",
       "      <td>...</td>\n",
       "      <td>...</td>\n",
       "      <td>...</td>\n",
       "      <td>...</td>\n",
       "      <td>...</td>\n",
       "      <td>...</td>\n",
       "      <td>...</td>\n",
       "      <td>...</td>\n",
       "      <td>...</td>\n",
       "    </tr>\n",
       "    <tr>\n",
       "      <th>431</th>\n",
       "      <td>xdz15thrnem51_processed_9</td>\n",
       "      <td>xdz15thrnem51</td>\n",
       "      <td>14</td>\n",
       "      <td>7</td>\n",
       "      <td>0.0</td>\n",
       "      <td>NaN</td>\n",
       "      <td>2.0</td>\n",
       "      <td>1</td>\n",
       "      <td>NaN</td>\n",
       "      <td>NaN</td>\n",
       "      <td>NaN</td>\n",
       "      <td>NaN</td>\n",
       "      <td>NaN</td>\n",
       "      <td>NaN</td>\n",
       "      <td>NaN</td>\n",
       "      <td>NaN</td>\n",
       "      <td>NaN</td>\n",
       "    </tr>\n",
       "    <tr>\n",
       "      <th>432</th>\n",
       "      <td>xdz15thrnem51_processed_10</td>\n",
       "      <td>xdz15thrnem51</td>\n",
       "      <td>14</td>\n",
       "      <td>7</td>\n",
       "      <td>0.0</td>\n",
       "      <td>NaN</td>\n",
       "      <td>2.0</td>\n",
       "      <td>0</td>\n",
       "      <td>NaN</td>\n",
       "      <td>NaN</td>\n",
       "      <td>NaN</td>\n",
       "      <td>NaN</td>\n",
       "      <td>NaN</td>\n",
       "      <td>NaN</td>\n",
       "      <td>NaN</td>\n",
       "      <td>NaN</td>\n",
       "      <td>NaN</td>\n",
       "    </tr>\n",
       "    <tr>\n",
       "      <th>433</th>\n",
       "      <td>xdz15thrnem51_processed_11</td>\n",
       "      <td>xdz15thrnem51</td>\n",
       "      <td>14</td>\n",
       "      <td>7</td>\n",
       "      <td>0.0</td>\n",
       "      <td>cops</td>\n",
       "      <td>2.0</td>\n",
       "      <td>2</td>\n",
       "      <td>NaN</td>\n",
       "      <td>NaN</td>\n",
       "      <td>NaN</td>\n",
       "      <td>NaN</td>\n",
       "      <td>NaN</td>\n",
       "      <td>NaN</td>\n",
       "      <td>NaN</td>\n",
       "      <td>NaN</td>\n",
       "      <td>NaN</td>\n",
       "    </tr>\n",
       "    <tr>\n",
       "      <th>434</th>\n",
       "      <td>xdz15thrnem51_processed_12</td>\n",
       "      <td>xdz15thrnem51</td>\n",
       "      <td>14</td>\n",
       "      <td>7</td>\n",
       "      <td>0.0</td>\n",
       "      <td>cops</td>\n",
       "      <td>2.0</td>\n",
       "      <td>1</td>\n",
       "      <td>NaN</td>\n",
       "      <td>NaN</td>\n",
       "      <td>NaN</td>\n",
       "      <td>NaN</td>\n",
       "      <td>NaN</td>\n",
       "      <td>NaN</td>\n",
       "      <td>NaN</td>\n",
       "      <td>NaN</td>\n",
       "      <td>NaN</td>\n",
       "    </tr>\n",
       "    <tr>\n",
       "      <th>435</th>\n",
       "      <td>xdz15thrnem51_processed_13</td>\n",
       "      <td>xdz15thrnem51</td>\n",
       "      <td>14</td>\n",
       "      <td>7</td>\n",
       "      <td>0.0</td>\n",
       "      <td>cops</td>\n",
       "      <td>2.0</td>\n",
       "      <td>2</td>\n",
       "      <td>NaN</td>\n",
       "      <td>NaN</td>\n",
       "      <td>NaN</td>\n",
       "      <td>NaN</td>\n",
       "      <td>NaN</td>\n",
       "      <td>NaN</td>\n",
       "      <td>NaN</td>\n",
       "      <td>NaN</td>\n",
       "      <td>NaN</td>\n",
       "    </tr>\n",
       "  </tbody>\n",
       "</table>\n",
       "<p>436 rows × 17 columns</p>\n",
       "</div>"
      ],
      "text/plain": [
       "                      file_name parent_file_train  number_of_segments_train  \\\n",
       "0     uortapdfw0x51_processed_0     uortapdfw0x51                         8   \n",
       "1     uortapdfw0x51_processed_1     uortapdfw0x51                         8   \n",
       "2     uortapdfw0x51_processed_2     uortapdfw0x51                         8   \n",
       "3     uortapdfw0x51_processed_3     uortapdfw0x51                         8   \n",
       "4     uortapdfw0x51_processed_4     uortapdfw0x51                         8   \n",
       "..                          ...               ...                       ...   \n",
       "431   xdz15thrnem51_processed_9     xdz15thrnem51                        14   \n",
       "432  xdz15thrnem51_processed_10     xdz15thrnem51                        14   \n",
       "433  xdz15thrnem51_processed_11     xdz15thrnem51                        14   \n",
       "434  xdz15thrnem51_processed_12     xdz15thrnem51                        14   \n",
       "435  xdz15thrnem51_processed_13     xdz15thrnem51                        14   \n",
       "\n",
       "     number_of_voices_parent_file_train  noisy_train extra_sounds_train  \\\n",
       "0                                     4          0.0                NaN   \n",
       "1                                     4          0.0                NaN   \n",
       "2                                     4          0.0    someone walking   \n",
       "3                                     4          0.0                NaN   \n",
       "4                                     4          0.0                NaN   \n",
       "..                                  ...          ...                ...   \n",
       "431                                   7          0.0                NaN   \n",
       "432                                   7          0.0                NaN   \n",
       "433                                   7          0.0               cops   \n",
       "434                                   7          0.0               cops   \n",
       "435                                   7          0.0               cops   \n",
       "\n",
       "     parent_label_train  segment_label_train       notes_train  \\\n",
       "0                   3.0                    1               NaN   \n",
       "1                   3.0                    0  woman2 is crying   \n",
       "2                   3.0                    0   no talking here   \n",
       "3                   3.0                    0   no talking here   \n",
       "4                   3.0                    3               NaN   \n",
       "..                  ...                  ...               ...   \n",
       "431                 2.0                    1               NaN   \n",
       "432                 2.0                    0               NaN   \n",
       "433                 2.0                    2               NaN   \n",
       "434                 2.0                    1               NaN   \n",
       "435                 2.0                    2               NaN   \n",
       "\n",
       "    parent_file_val  number_of_segments_val  number_of_voices_parent_file_val  \\\n",
       "0     uortapdfw0x51                     8.0                               5.0   \n",
       "1     uortapdfw0x51                     8.0                               5.0   \n",
       "2     uortapdfw0x51                     8.0                               5.0   \n",
       "3     uortapdfw0x51                     8.0                               5.0   \n",
       "4     uortapdfw0x51                     8.0                               5.0   \n",
       "..              ...                     ...                               ...   \n",
       "431             NaN                     NaN                               NaN   \n",
       "432             NaN                     NaN                               NaN   \n",
       "433             NaN                     NaN                               NaN   \n",
       "434             NaN                     NaN                               NaN   \n",
       "435             NaN                     NaN                               NaN   \n",
       "\n",
       "     noisy_val  extra_sounds_val  parent_label_val  segment_label_val  \\\n",
       "0          0.0         door slam               1.0                0.0   \n",
       "1          0.0    screechy noise               1.0                1.0   \n",
       "2          0.0  no voice present               1.0                0.0   \n",
       "3          0.0               NaN               1.0                0.0   \n",
       "4          0.0             shout               1.0                0.0   \n",
       "..         ...               ...               ...                ...   \n",
       "431        NaN               NaN               NaN                NaN   \n",
       "432        NaN               NaN               NaN                NaN   \n",
       "433        NaN               NaN               NaN                NaN   \n",
       "434        NaN               NaN               NaN                NaN   \n",
       "435        NaN               NaN               NaN                NaN   \n",
       "\n",
       "    notes_val  \n",
       "0         NaN  \n",
       "1         NaN  \n",
       "2       empty  \n",
       "3         NaN  \n",
       "4         NaN  \n",
       "..        ...  \n",
       "431       NaN  \n",
       "432       NaN  \n",
       "433       NaN  \n",
       "434       NaN  \n",
       "435       NaN  \n",
       "\n",
       "[436 rows x 17 columns]"
      ]
     },
     "execution_count": 192,
     "metadata": {},
     "output_type": "execute_result"
    }
   ],
   "source": [
    "# join \n",
    "df_merged = pd.merge(anno_train,anno_val,on='file_name',how='left',suffixes=('_train', '_val'))\n",
    "df_merged"
   ]
  },
  {
   "cell_type": "code",
   "execution_count": 193,
   "id": "621b7b70-d781-4dd2-aba5-e9974af74d17",
   "metadata": {},
   "outputs": [
    {
     "name": "stdout",
     "output_type": "stream",
     "text": [
      "<class 'pandas.core.frame.DataFrame'>\n",
      "Int64Index: 100 entries, 0 to 99\n",
      "Data columns (total 17 columns):\n",
      " #   Column                              Non-Null Count  Dtype  \n",
      "---  ------                              --------------  -----  \n",
      " 0   file_name                           100 non-null    object \n",
      " 1   parent_file_train                   100 non-null    object \n",
      " 2   number_of_segments_train            100 non-null    int64  \n",
      " 3   number_of_voices_parent_file_train  100 non-null    int64  \n",
      " 4   noisy_train                         100 non-null    float64\n",
      " 5   extra_sounds_train                  7 non-null      object \n",
      " 6   parent_label_train                  100 non-null    float64\n",
      " 7   segment_label_train                 100 non-null    int64  \n",
      " 8   notes_train                         5 non-null      object \n",
      " 9   parent_file_val                     100 non-null    object \n",
      " 10  number_of_segments_val              100 non-null    float64\n",
      " 11  number_of_voices_parent_file_val    100 non-null    float64\n",
      " 12  noisy_val                           100 non-null    float64\n",
      " 13  extra_sounds_val                    22 non-null     object \n",
      " 14  parent_label_val                    100 non-null    float64\n",
      " 15  segment_label_val                   100 non-null    float64\n",
      " 16  notes_val                           5 non-null      object \n",
      "dtypes: float64(7), int64(3), object(7)\n",
      "memory usage: 14.1+ KB\n"
     ]
    }
   ],
   "source": [
    "# Remove Nan Rows\n",
    "df_merged = df_merged[~(df_merged[segment_label+'_train'].isna() | df_merged[segment_label+'_val'].isna())]\n",
    "df_merged.info()"
   ]
  },
  {
   "cell_type": "markdown",
   "id": "317dba93-f6e0-4f04-a5b3-42f98653ac7a",
   "metadata": {
    "tags": []
   },
   "source": [
    "#### <b> Match or No Match & Weighted Match <b>\n",
    "#### 100%"
   ]
  },
  {
   "cell_type": "code",
   "execution_count": 194,
   "id": "745ebccf-683e-4fa7-9c59-8466a9eff54f",
   "metadata": {},
   "outputs": [
    {
     "name": "stdout",
     "output_type": "stream",
     "text": [
      "100%\n",
      "Segment: \n",
      "Matches: 28\n",
      "Total: 100\n",
      "Segment Unweighted IOE: 28.000000000000004\n",
      "Segment Weighted IOE (Mean Absolute Error): 0.99 \n",
      "\n",
      "Parent: \n",
      "Matches: 10\n",
      "Total: 100\n",
      "Parent IOE: 10.0\n",
      "Parent Weighted IOE (Mean Absolute Error): 1.04 \n",
      "\n",
      "Noisy: \n",
      "Matches: 97\n",
      "Total: 100\n",
      "Noisy IOE: 97.0\n"
     ]
    },
    {
     "name": "stderr",
     "output_type": "stream",
     "text": [
      "/var/folders/7b/v9yf5j856tggrfg1tm641t9c0000gn/T/ipykernel_20427/17326261.py:3: SettingWithCopyWarning: \n",
      "A value is trying to be set on a copy of a slice from a DataFrame.\n",
      "Try using .loc[row_indexer,col_indexer] = value instead\n",
      "\n",
      "See the caveats in the documentation: https://pandas.pydata.org/pandas-docs/stable/user_guide/indexing.html#returning-a-view-versus-a-copy\n",
      "  df_merged['match_s'] = np.where(df_merged[segment_label+'_train'] == df_merged[segment_label+'_val'], 1, 0)\n",
      "/var/folders/7b/v9yf5j856tggrfg1tm641t9c0000gn/T/ipykernel_20427/17326261.py:4: SettingWithCopyWarning: \n",
      "A value is trying to be set on a copy of a slice from a DataFrame.\n",
      "Try using .loc[row_indexer,col_indexer] = value instead\n",
      "\n",
      "See the caveats in the documentation: https://pandas.pydata.org/pandas-docs/stable/user_guide/indexing.html#returning-a-view-versus-a-copy\n",
      "  df_merged['match_s_diff'] = df_merged[segment_label+'_train'] - df_merged[segment_label+'_val']\n",
      "/var/folders/7b/v9yf5j856tggrfg1tm641t9c0000gn/T/ipykernel_20427/17326261.py:5: SettingWithCopyWarning: \n",
      "A value is trying to be set on a copy of a slice from a DataFrame.\n",
      "Try using .loc[row_indexer,col_indexer] = value instead\n",
      "\n",
      "See the caveats in the documentation: https://pandas.pydata.org/pandas-docs/stable/user_guide/indexing.html#returning-a-view-versus-a-copy\n",
      "  df_merged['match_s_diff_abs'] = df_merged['match_s_diff'].abs()\n",
      "/var/folders/7b/v9yf5j856tggrfg1tm641t9c0000gn/T/ipykernel_20427/17326261.py:13: SettingWithCopyWarning: \n",
      "A value is trying to be set on a copy of a slice from a DataFrame.\n",
      "Try using .loc[row_indexer,col_indexer] = value instead\n",
      "\n",
      "See the caveats in the documentation: https://pandas.pydata.org/pandas-docs/stable/user_guide/indexing.html#returning-a-view-versus-a-copy\n",
      "  df_merged['match_p'] = np.where(df_merged[parent_label+'_train'] == df_merged[parent_label+'_val'], 1, 0)\n",
      "/var/folders/7b/v9yf5j856tggrfg1tm641t9c0000gn/T/ipykernel_20427/17326261.py:14: SettingWithCopyWarning: \n",
      "A value is trying to be set on a copy of a slice from a DataFrame.\n",
      "Try using .loc[row_indexer,col_indexer] = value instead\n",
      "\n",
      "See the caveats in the documentation: https://pandas.pydata.org/pandas-docs/stable/user_guide/indexing.html#returning-a-view-versus-a-copy\n",
      "  df_merged['match_p_diff'] = df_merged[parent_label+'_train'] - df_merged[parent_label+'_val']\n",
      "/var/folders/7b/v9yf5j856tggrfg1tm641t9c0000gn/T/ipykernel_20427/17326261.py:15: SettingWithCopyWarning: \n",
      "A value is trying to be set on a copy of a slice from a DataFrame.\n",
      "Try using .loc[row_indexer,col_indexer] = value instead\n",
      "\n",
      "See the caveats in the documentation: https://pandas.pydata.org/pandas-docs/stable/user_guide/indexing.html#returning-a-view-versus-a-copy\n",
      "  df_merged['match_p_diff_abs'] = df_merged['match_p_diff'].abs()\n",
      "/var/folders/7b/v9yf5j856tggrfg1tm641t9c0000gn/T/ipykernel_20427/17326261.py:23: SettingWithCopyWarning: \n",
      "A value is trying to be set on a copy of a slice from a DataFrame.\n",
      "Try using .loc[row_indexer,col_indexer] = value instead\n",
      "\n",
      "See the caveats in the documentation: https://pandas.pydata.org/pandas-docs/stable/user_guide/indexing.html#returning-a-view-versus-a-copy\n",
      "  df_merged['match_n'] = np.where(df_merged['noisy'+'_train'] == df_merged['noisy'+'_val'], 1, 0)\n",
      "/var/folders/7b/v9yf5j856tggrfg1tm641t9c0000gn/T/ipykernel_20427/17326261.py:24: SettingWithCopyWarning: \n",
      "A value is trying to be set on a copy of a slice from a DataFrame.\n",
      "Try using .loc[row_indexer,col_indexer] = value instead\n",
      "\n",
      "See the caveats in the documentation: https://pandas.pydata.org/pandas-docs/stable/user_guide/indexing.html#returning-a-view-versus-a-copy\n",
      "  df_merged['match_n_diff'] = df_merged['noisy'+'_train'] - df_merged['noisy'+'_val']\n",
      "/var/folders/7b/v9yf5j856tggrfg1tm641t9c0000gn/T/ipykernel_20427/17326261.py:25: SettingWithCopyWarning: \n",
      "A value is trying to be set on a copy of a slice from a DataFrame.\n",
      "Try using .loc[row_indexer,col_indexer] = value instead\n",
      "\n",
      "See the caveats in the documentation: https://pandas.pydata.org/pandas-docs/stable/user_guide/indexing.html#returning-a-view-versus-a-copy\n",
      "  df_merged['match_n_diff_abs'] = df_merged['match_n_diff'].abs()\n"
     ]
    }
   ],
   "source": [
    "# IOE on segment label\n",
    "print('100%')\n",
    "df_merged['match_s'] = np.where(df_merged[segment_label+'_train'] == df_merged[segment_label+'_val'], 1, 0)\n",
    "df_merged['match_s_diff'] = df_merged[segment_label+'_train'] - df_merged[segment_label+'_val'] \n",
    "df_merged['match_s_diff_abs'] = df_merged['match_s_diff'].abs()\n",
    "print('Segment: ')\n",
    "print('Matches:',df_merged['match_s'].sum())\n",
    "print('Total:',df_merged['match_s'].count())\n",
    "print('Segment Unweighted IOE:', df_merged['match_s'].sum()/df_merged['match_s'].count()*100)\n",
    "print('Segment Weighted IOE (Mean Absolute Error):', df_merged['match_s_diff_abs'].mean(),'\\n')\n",
    "\n",
    "# IOE on parent label\n",
    "df_merged['match_p'] = np.where(df_merged[parent_label+'_train'] == df_merged[parent_label+'_val'], 1, 0)\n",
    "df_merged['match_p_diff'] = df_merged[parent_label+'_train'] - df_merged[parent_label+'_val'] \n",
    "df_merged['match_p_diff_abs'] = df_merged['match_p_diff'].abs()\n",
    "print('Parent: ')\n",
    "print('Matches:',df_merged['match_p'].sum())\n",
    "print('Total:',df_merged['match_p'].count())\n",
    "print('Parent IOE:', df_merged['match_p'].sum()/df_merged['match_p'].count()*100)\n",
    "print('Parent Weighted IOE (Mean Absolute Error):', df_merged['match_p_diff_abs'].mean(),'\\n')\n",
    "\n",
    "# IOE on Noise\n",
    "df_merged['match_n'] = np.where(df_merged['noisy'+'_train'] == df_merged['noisy'+'_val'], 1, 0)\n",
    "df_merged['match_n_diff'] = df_merged['noisy'+'_train'] - df_merged['noisy'+'_val'] \n",
    "df_merged['match_n_diff_abs'] = df_merged['match_n_diff'].abs()\n",
    "print('Noisy: ')\n",
    "print('Matches:',df_merged['match_n'].sum())\n",
    "print('Total:',df_merged['match_n'].count())\n",
    "print('Noisy IOE:', df_merged['match_n'].sum()/df_merged['match_n'].count()*100)"
   ]
  },
  {
   "cell_type": "markdown",
   "id": "ae3f3b8e-8d6f-439f-92a9-49af12ed87cb",
   "metadata": {},
   "source": [
    "#### Distribution of train - val difference values (error)\n",
    "##### Segment"
   ]
  },
  {
   "cell_type": "code",
   "execution_count": 195,
   "id": "0fc8b758-f028-4db5-bcae-b712dfdd773f",
   "metadata": {},
   "outputs": [
    {
     "data": {
      "text/html": [
       "<div>\n",
       "<style scoped>\n",
       "    .dataframe tbody tr th:only-of-type {\n",
       "        vertical-align: middle;\n",
       "    }\n",
       "\n",
       "    .dataframe tbody tr th {\n",
       "        vertical-align: top;\n",
       "    }\n",
       "\n",
       "    .dataframe thead th {\n",
       "        text-align: right;\n",
       "    }\n",
       "</style>\n",
       "<table border=\"1\" class=\"dataframe\">\n",
       "  <thead>\n",
       "    <tr style=\"text-align: right;\">\n",
       "      <th></th>\n",
       "      <th>match_s_diff</th>\n",
       "      <th>match_s</th>\n",
       "    </tr>\n",
       "  </thead>\n",
       "  <tbody>\n",
       "    <tr>\n",
       "      <th>0</th>\n",
       "      <td>-1.0</td>\n",
       "      <td>4</td>\n",
       "    </tr>\n",
       "    <tr>\n",
       "      <th>1</th>\n",
       "      <td>0.0</td>\n",
       "      <td>28</td>\n",
       "    </tr>\n",
       "    <tr>\n",
       "      <th>2</th>\n",
       "      <td>1.0</td>\n",
       "      <td>43</td>\n",
       "    </tr>\n",
       "    <tr>\n",
       "      <th>3</th>\n",
       "      <td>2.0</td>\n",
       "      <td>23</td>\n",
       "    </tr>\n",
       "    <tr>\n",
       "      <th>4</th>\n",
       "      <td>3.0</td>\n",
       "      <td>2</td>\n",
       "    </tr>\n",
       "  </tbody>\n",
       "</table>\n",
       "</div>"
      ],
      "text/plain": [
       "   match_s_diff  match_s\n",
       "0          -1.0        4\n",
       "1           0.0       28\n",
       "2           1.0       43\n",
       "3           2.0       23\n",
       "4           3.0        2"
      ]
     },
     "metadata": {},
     "output_type": "display_data"
    },
    {
     "data": {
      "text/plain": [
       "<seaborn.axisgrid.FacetGrid at 0x7ff6a319c8b0>"
      ]
     },
     "metadata": {},
     "output_type": "display_data"
    },
    {
     "data": {
      "image/png": "[encoded data removed]",
      "text/plain": [
       "<Figure size 360x360 with 1 Axes>"
      ]
     },
     "metadata": {
      "needs_background": "light"
     },
     "output_type": "display_data"
    }
   ],
   "source": [
    "# train - val difference histogram\n",
    "temp = df_merged.groupby('match_s_diff')['match_s'].count().reset_index()\n",
    "display(temp)\n",
    "display (sns.displot(df_merged['match_s_diff']))"
   ]
  },
  {
   "cell_type": "markdown",
   "id": "cb0db97c-3bf7-40ea-9a48-9b5c3e7891cc",
   "metadata": {},
   "source": [
    "##### Parent"
   ]
  },
  {
   "cell_type": "code",
   "execution_count": 196,
   "id": "6d256222-6c6f-4149-b064-1f45bc600ade",
   "metadata": {},
   "outputs": [
    {
     "data": {
      "text/html": [
       "<div>\n",
       "<style scoped>\n",
       "    .dataframe tbody tr th:only-of-type {\n",
       "        vertical-align: middle;\n",
       "    }\n",
       "\n",
       "    .dataframe tbody tr th {\n",
       "        vertical-align: top;\n",
       "    }\n",
       "\n",
       "    .dataframe thead th {\n",
       "        text-align: right;\n",
       "    }\n",
       "</style>\n",
       "<table border=\"1\" class=\"dataframe\">\n",
       "  <thead>\n",
       "    <tr style=\"text-align: right;\">\n",
       "      <th></th>\n",
       "      <th>match_p_diff</th>\n",
       "      <th>match_p</th>\n",
       "    </tr>\n",
       "  </thead>\n",
       "  <tbody>\n",
       "    <tr>\n",
       "      <th>0</th>\n",
       "      <td>-1.0</td>\n",
       "      <td>4</td>\n",
       "    </tr>\n",
       "    <tr>\n",
       "      <th>1</th>\n",
       "      <td>0.0</td>\n",
       "      <td>10</td>\n",
       "    </tr>\n",
       "    <tr>\n",
       "      <th>2</th>\n",
       "      <td>1.0</td>\n",
       "      <td>74</td>\n",
       "    </tr>\n",
       "    <tr>\n",
       "      <th>3</th>\n",
       "      <td>2.0</td>\n",
       "      <td>10</td>\n",
       "    </tr>\n",
       "    <tr>\n",
       "      <th>4</th>\n",
       "      <td>3.0</td>\n",
       "      <td>2</td>\n",
       "    </tr>\n",
       "  </tbody>\n",
       "</table>\n",
       "</div>"
      ],
      "text/plain": [
       "   match_p_diff  match_p\n",
       "0          -1.0        4\n",
       "1           0.0       10\n",
       "2           1.0       74\n",
       "3           2.0       10\n",
       "4           3.0        2"
      ]
     },
     "metadata": {},
     "output_type": "display_data"
    },
    {
     "data": {
      "text/plain": [
       "<seaborn.axisgrid.FacetGrid at 0x7ff6c1b8a040>"
      ]
     },
     "metadata": {},
     "output_type": "display_data"
    },
    {
     "data": {
      "image/png": "[encoded data removed]",
      "text/plain": [
       "<Figure size 360x360 with 1 Axes>"
      ]
     },
     "metadata": {
      "needs_background": "light"
     },
     "output_type": "display_data"
    }
   ],
   "source": [
    "temp = df_merged.groupby('match_p_diff')['match_p'].count().reset_index()\n",
    "display(temp)\n",
    "display (sns.displot(df_merged['match_p_diff']))"
   ]
  },
  {
   "cell_type": "markdown",
   "id": "7952ee4d-0a9c-4d55-bbcf-a7883c51f82c",
   "metadata": {},
   "source": [
    "##### Noisy"
   ]
  },
  {
   "cell_type": "code",
   "execution_count": 197,
   "id": "13252600-c447-47c4-99ff-aaf3ac8afb88",
   "metadata": {},
   "outputs": [
    {
     "data": {
      "text/html": [
       "<div>\n",
       "<style scoped>\n",
       "    .dataframe tbody tr th:only-of-type {\n",
       "        vertical-align: middle;\n",
       "    }\n",
       "\n",
       "    .dataframe tbody tr th {\n",
       "        vertical-align: top;\n",
       "    }\n",
       "\n",
       "    .dataframe thead th {\n",
       "        text-align: right;\n",
       "    }\n",
       "</style>\n",
       "<table border=\"1\" class=\"dataframe\">\n",
       "  <thead>\n",
       "    <tr style=\"text-align: right;\">\n",
       "      <th></th>\n",
       "      <th>match_n_diff</th>\n",
       "      <th>match_n</th>\n",
       "    </tr>\n",
       "  </thead>\n",
       "  <tbody>\n",
       "    <tr>\n",
       "      <th>0</th>\n",
       "      <td>-1.0</td>\n",
       "      <td>3</td>\n",
       "    </tr>\n",
       "    <tr>\n",
       "      <th>1</th>\n",
       "      <td>0.0</td>\n",
       "      <td>97</td>\n",
       "    </tr>\n",
       "  </tbody>\n",
       "</table>\n",
       "</div>"
      ],
      "text/plain": [
       "   match_n_diff  match_n\n",
       "0          -1.0        3\n",
       "1           0.0       97"
      ]
     },
     "metadata": {},
     "output_type": "display_data"
    },
    {
     "data": {
      "text/plain": [
       "<seaborn.axisgrid.FacetGrid at 0x7ff6a31af9d0>"
      ]
     },
     "metadata": {},
     "output_type": "display_data"
    },
    {
     "data": {
      "image/png": "[encoded data removed]",
      "text/plain": [
       "<Figure size 360x360 with 1 Axes>"
      ]
     },
     "metadata": {
      "needs_background": "light"
     },
     "output_type": "display_data"
    }
   ],
   "source": [
    "temp = df_merged.groupby('match_n_diff')['match_n'].count().reset_index()\n",
    "display(temp)\n",
    "display (sns.displot(df_merged['match_n_diff']))"
   ]
  },
  {
   "cell_type": "markdown",
   "id": "d8e180f4-2f0b-42a1-8a90-7ca92d55a8ff",
   "metadata": {
    "tags": []
   },
   "source": [
    "#### <b> Match or No Match <b>\n",
    "#### 50%"
   ]
  },
  {
   "cell_type": "code",
   "execution_count": 198,
   "id": "e5e40716-c4f2-4024-8fcd-1648bd1c410a",
   "metadata": {},
   "outputs": [
    {
     "name": "stdout",
     "output_type": "stream",
     "text": [
      "50%\n",
      "Segment: \n",
      "Matches: 13\n",
      "Total: 50\n",
      "Segment IOE: 26.0 \n",
      "\n",
      "Parent: \n",
      "Matches: 6\n",
      "Total: 50\n",
      "Parent IOE: 12.0 \n",
      "\n",
      "Noisy: \n",
      "Matches: 48\n",
      "Total: 50\n",
      "Noisy IOE: 96.0\n"
     ]
    }
   ],
   "source": [
    "# IOE on segment label\n",
    "print('50%')\n",
    "df_sample = df_merged.sample(frac=0.50)\n",
    "print('Segment: ')\n",
    "print('Matches:',df_sample['match_s'].sum())\n",
    "print('Total:',df_sample['match_s'].count())\n",
    "print('Segment IOE:', df_sample['match_s'].sum()/df_sample['match_s'].count()*100,'\\n')\n",
    "\n",
    "# IOE on parent label\n",
    "print('Parent: ')\n",
    "print('Matches:',df_sample['match_p'].sum())\n",
    "print('Total:',df_sample['match_p'].count())\n",
    "print('Parent IOE:', df_sample['match_p'].sum()/df_sample['match_p'].count()*100,'\\n')\n",
    "\n",
    "# IOE on Noise\n",
    "print('Noisy: ')\n",
    "print('Matches:',df_sample['match_n'].sum())\n",
    "print('Total:',df_sample['match_n'].count())\n",
    "print('Noisy IOE:', df_sample['match_n'].sum()/df_sample['match_n'].count()*100)"
   ]
  },
  {
   "cell_type": "markdown",
   "id": "2e010932-1030-4b2e-bf3c-7a4a4b5c6a61",
   "metadata": {
    "tags": []
   },
   "source": [
    "#### <b>Cohen's Kappa<b>"
   ]
  },
  {
   "cell_type": "code",
   "execution_count": 199,
   "id": "7f92d3f8-765c-426d-957f-4a72c5393079",
   "metadata": {},
   "outputs": [
    {
     "name": "stdout",
     "output_type": "stream",
     "text": [
      "Cohen k (Segment): 0.04912836767036444\n",
      "Cohen k (Parent): -0.16039195461578126\n"
     ]
    }
   ],
   "source": [
    "# Calculate Cohen's k\n",
    "print('Cohen k (Segment):',cohen_kappa_score(df_merged[segment_label+'_train'], df_merged[segment_label+'_val']))\n",
    "print('Cohen k (Parent):',cohen_kappa_score(df_merged[parent_label+'_train'], df_merged[parent_label+'_val']))\n",
    "#print('Cohen k (Noisy):',cohen_kappa_score(df_merged['noisy'+'_train'], df_merged['noisy'+'_val']))"
   ]
  },
  {
   "cell_type": "markdown",
   "id": "1751f46d-f007-475d-8649-6fe766a30337",
   "metadata": {
    "tags": []
   },
   "source": [
    "#### train =  TL, val = SA_tie_breaker"
   ]
  },
  {
   "cell_type": "code",
   "execution_count": 230,
   "id": "81674d09-e157-4243-80fd-6304040ff33a",
   "metadata": {},
   "outputs": [],
   "source": [
    "# Read Data\n",
    "anno_train = pd.read_excel(file_path+'labelled-reddit-2021-08-31-H-TL_updated.xlsx')\n",
    "anno_val = pd.read_excel(file_path+'labelled-reddit-2021-08-31-H-SA_tie_breaker.xlsx')"
   ]
  },
  {
   "cell_type": "code",
   "execution_count": 231,
   "id": "62362ef0-e27c-4c00-91df-70a9e09e995a",
   "metadata": {},
   "outputs": [
    {
     "data": {
      "text/html": [
       "<div>\n",
       "<style scoped>\n",
       "    .dataframe tbody tr th:only-of-type {\n",
       "        vertical-align: middle;\n",
       "    }\n",
       "\n",
       "    .dataframe tbody tr th {\n",
       "        vertical-align: top;\n",
       "    }\n",
       "\n",
       "    .dataframe thead th {\n",
       "        text-align: right;\n",
       "    }\n",
       "</style>\n",
       "<table border=\"1\" class=\"dataframe\">\n",
       "  <thead>\n",
       "    <tr style=\"text-align: right;\">\n",
       "      <th></th>\n",
       "      <th>file_name</th>\n",
       "      <th>parent_file</th>\n",
       "      <th>number_of_segments</th>\n",
       "      <th>number_of_voices_parent_file</th>\n",
       "      <th>noisy</th>\n",
       "      <th>extra sounds</th>\n",
       "      <th>Parent label</th>\n",
       "      <th>Segment label</th>\n",
       "      <th>Notes</th>\n",
       "    </tr>\n",
       "  </thead>\n",
       "  <tbody>\n",
       "    <tr>\n",
       "      <th>0</th>\n",
       "      <td>uortapdfw0x51_processed_0</td>\n",
       "      <td>uortapdfw0x51</td>\n",
       "      <td>8.0</td>\n",
       "      <td>2.0</td>\n",
       "      <td>NaN</td>\n",
       "      <td>NaN</td>\n",
       "      <td>2.0</td>\n",
       "      <td>2.0</td>\n",
       "      <td>NaN</td>\n",
       "    </tr>\n",
       "  </tbody>\n",
       "</table>\n",
       "</div>"
      ],
      "text/plain": [
       "                   file_name    parent_file  number_of_segments  \\\n",
       "0  uortapdfw0x51_processed_0  uortapdfw0x51                 8.0   \n",
       "\n",
       "   number_of_voices_parent_file  noisy extra sounds  Parent label  \\\n",
       "0                           2.0    NaN          NaN           2.0   \n",
       "\n",
       "   Segment label Notes  \n",
       "0            2.0   NaN  "
      ]
     },
     "metadata": {},
     "output_type": "display_data"
    },
    {
     "name": "stdout",
     "output_type": "stream",
     "text": [
      "Index(['file_name', 'parent_file', 'number_of_segments',\n",
      "       'number_of_voices_parent_file', 'noisy', 'extra sounds', 'Parent label',\n",
      "       'Segment label', 'Notes'],\n",
      "      dtype='object')\n"
     ]
    }
   ],
   "source": [
    "display(anno_train.head(1))\n",
    "print(anno_train.columns)"
   ]
  },
  {
   "cell_type": "code",
   "execution_count": 232,
   "id": "e9fd02cc-4b6b-4c2d-a105-829b02202a82",
   "metadata": {},
   "outputs": [
    {
     "data": {
      "text/html": [
       "<div>\n",
       "<style scoped>\n",
       "    .dataframe tbody tr th:only-of-type {\n",
       "        vertical-align: middle;\n",
       "    }\n",
       "\n",
       "    .dataframe tbody tr th {\n",
       "        vertical-align: top;\n",
       "    }\n",
       "\n",
       "    .dataframe thead th {\n",
       "        text-align: right;\n",
       "    }\n",
       "</style>\n",
       "<table border=\"1\" class=\"dataframe\">\n",
       "  <thead>\n",
       "    <tr style=\"text-align: right;\">\n",
       "      <th></th>\n",
       "      <th>file_name</th>\n",
       "      <th>parent_file</th>\n",
       "      <th>number_of_segments</th>\n",
       "      <th>number_of_voices_parent_file</th>\n",
       "      <th>noisy</th>\n",
       "      <th>extra_sounds</th>\n",
       "      <th>parent_label</th>\n",
       "      <th>segment_label</th>\n",
       "      <th>notes</th>\n",
       "    </tr>\n",
       "  </thead>\n",
       "  <tbody>\n",
       "    <tr>\n",
       "      <th>0</th>\n",
       "      <td>uortapdfw0x51_processed_0</td>\n",
       "      <td>uortapdfw0x51</td>\n",
       "      <td>8</td>\n",
       "      <td>5</td>\n",
       "      <td>0</td>\n",
       "      <td>door slam</td>\n",
       "      <td>1</td>\n",
       "      <td>0</td>\n",
       "      <td>NaN</td>\n",
       "    </tr>\n",
       "  </tbody>\n",
       "</table>\n",
       "</div>"
      ],
      "text/plain": [
       "                   file_name    parent_file  number_of_segments  \\\n",
       "0  uortapdfw0x51_processed_0  uortapdfw0x51                   8   \n",
       "\n",
       "   number_of_voices_parent_file  noisy extra_sounds  parent_label  \\\n",
       "0                             5      0    door slam             1   \n",
       "\n",
       "   segment_label notes  \n",
       "0              0   NaN  "
      ]
     },
     "metadata": {},
     "output_type": "display_data"
    },
    {
     "name": "stdout",
     "output_type": "stream",
     "text": [
      "Index(['file_name', 'parent_file', 'number_of_segments',\n",
      "       'number_of_voices_parent_file', 'noisy', 'extra_sounds', 'parent_label',\n",
      "       'segment_label', 'notes'],\n",
      "      dtype='object')\n"
     ]
    }
   ],
   "source": [
    "display(anno_val.head(1))\n",
    "print(anno_val.columns)"
   ]
  },
  {
   "cell_type": "code",
   "execution_count": 233,
   "id": "6895a762-9af3-4294-a6b2-137de61d1429",
   "metadata": {},
   "outputs": [],
   "source": [
    "# Correct train file column names\n",
    "# Run for H-TL\n",
    "anno_train.columns=['file_name', 'parent_file', 'number_of_segments',\n",
    "       'number_of_voices_parent_file', 'noisy', 'extra sounds', 'parent_label',\n",
    "       'segment_label', 'Notes']"
   ]
  },
  {
   "cell_type": "code",
   "execution_count": 234,
   "id": "48ae628e-35a5-45ba-9361-f48e1d69a39f",
   "metadata": {},
   "outputs": [
    {
     "name": "stdout",
     "output_type": "stream",
     "text": [
      "<class 'pandas.core.frame.DataFrame'>\n",
      "RangeIndex: 650 entries, 0 to 649\n",
      "Data columns (total 9 columns):\n",
      " #   Column                        Non-Null Count  Dtype  \n",
      "---  ------                        --------------  -----  \n",
      " 0   file_name                     650 non-null    object \n",
      " 1   parent_file                   650 non-null    object \n",
      " 2   number_of_segments            650 non-null    float64\n",
      " 3   number_of_voices_parent_file  621 non-null    float64\n",
      " 4   noisy                         0 non-null      float64\n",
      " 5   extra sounds                  104 non-null    object \n",
      " 6   parent_label                  634 non-null    float64\n",
      " 7   segment_label                 633 non-null    float64\n",
      " 8   Notes                         25 non-null     object \n",
      "dtypes: float64(5), object(4)\n",
      "memory usage: 45.8+ KB\n"
     ]
    }
   ],
   "source": [
    "# Check for nulls\n",
    "anno_train.info()"
   ]
  },
  {
   "cell_type": "code",
   "execution_count": 235,
   "id": "6a29d988-0543-48e7-94d5-c1a1ff182c1c",
   "metadata": {},
   "outputs": [
    {
     "name": "stdout",
     "output_type": "stream",
     "text": [
      "<class 'pandas.core.frame.DataFrame'>\n",
      "RangeIndex: 100 entries, 0 to 99\n",
      "Data columns (total 9 columns):\n",
      " #   Column                        Non-Null Count  Dtype \n",
      "---  ------                        --------------  ----- \n",
      " 0   file_name                     100 non-null    object\n",
      " 1   parent_file                   100 non-null    object\n",
      " 2   number_of_segments            100 non-null    int64 \n",
      " 3   number_of_voices_parent_file  100 non-null    int64 \n",
      " 4   noisy                         100 non-null    int64 \n",
      " 5   extra_sounds                  22 non-null     object\n",
      " 6   parent_label                  100 non-null    int64 \n",
      " 7   segment_label                 100 non-null    int64 \n",
      " 8   notes                         5 non-null      object\n",
      "dtypes: int64(5), object(4)\n",
      "memory usage: 7.2+ KB\n"
     ]
    }
   ],
   "source": [
    "# Check for nulls\n",
    "anno_val.info()"
   ]
  },
  {
   "cell_type": "code",
   "execution_count": 236,
   "id": "a09ea80c-d0e1-49a2-a183-297ff2467579",
   "metadata": {},
   "outputs": [],
   "source": [
    "segment_label = 'segment_label'\n",
    "parent_label = 'parent_label'\n",
    "\n",
    "anno_train['file_name'] = anno_train['file_name'].str.strip()\n",
    "anno_val['file_name'] = anno_val['file_name'].str.strip()"
   ]
  },
  {
   "cell_type": "code",
   "execution_count": 237,
   "id": "bf616a0c-d0ac-4d69-b640-90d4913609f0",
   "metadata": {},
   "outputs": [
    {
     "data": {
      "text/html": [
       "<div>\n",
       "<style scoped>\n",
       "    .dataframe tbody tr th:only-of-type {\n",
       "        vertical-align: middle;\n",
       "    }\n",
       "\n",
       "    .dataframe tbody tr th {\n",
       "        vertical-align: top;\n",
       "    }\n",
       "\n",
       "    .dataframe thead th {\n",
       "        text-align: right;\n",
       "    }\n",
       "</style>\n",
       "<table border=\"1\" class=\"dataframe\">\n",
       "  <thead>\n",
       "    <tr style=\"text-align: right;\">\n",
       "      <th></th>\n",
       "      <th>file_name</th>\n",
       "      <th>parent_file_train</th>\n",
       "      <th>number_of_segments_train</th>\n",
       "      <th>number_of_voices_parent_file_train</th>\n",
       "      <th>noisy_train</th>\n",
       "      <th>extra sounds</th>\n",
       "      <th>parent_label_train</th>\n",
       "      <th>segment_label_train</th>\n",
       "      <th>Notes</th>\n",
       "      <th>parent_file_val</th>\n",
       "      <th>number_of_segments_val</th>\n",
       "      <th>number_of_voices_parent_file_val</th>\n",
       "      <th>noisy_val</th>\n",
       "      <th>extra_sounds</th>\n",
       "      <th>parent_label_val</th>\n",
       "      <th>segment_label_val</th>\n",
       "      <th>notes</th>\n",
       "    </tr>\n",
       "  </thead>\n",
       "  <tbody>\n",
       "    <tr>\n",
       "      <th>0</th>\n",
       "      <td>uortapdfw0x51_processed_0</td>\n",
       "      <td>uortapdfw0x51</td>\n",
       "      <td>8.0</td>\n",
       "      <td>2.0</td>\n",
       "      <td>NaN</td>\n",
       "      <td>NaN</td>\n",
       "      <td>2.0</td>\n",
       "      <td>2.0</td>\n",
       "      <td>NaN</td>\n",
       "      <td>uortapdfw0x51</td>\n",
       "      <td>8.0</td>\n",
       "      <td>5.0</td>\n",
       "      <td>0.0</td>\n",
       "      <td>door slam</td>\n",
       "      <td>1.0</td>\n",
       "      <td>0.0</td>\n",
       "      <td>NaN</td>\n",
       "    </tr>\n",
       "    <tr>\n",
       "      <th>1</th>\n",
       "      <td>uortapdfw0x51_processed_1</td>\n",
       "      <td>uortapdfw0x51</td>\n",
       "      <td>8.0</td>\n",
       "      <td>2.0</td>\n",
       "      <td>NaN</td>\n",
       "      <td>NaN</td>\n",
       "      <td>2.0</td>\n",
       "      <td>1.0</td>\n",
       "      <td>NaN</td>\n",
       "      <td>uortapdfw0x51</td>\n",
       "      <td>8.0</td>\n",
       "      <td>5.0</td>\n",
       "      <td>0.0</td>\n",
       "      <td>screechy noise</td>\n",
       "      <td>1.0</td>\n",
       "      <td>1.0</td>\n",
       "      <td>NaN</td>\n",
       "    </tr>\n",
       "    <tr>\n",
       "      <th>2</th>\n",
       "      <td>uortapdfw0x51_processed_2</td>\n",
       "      <td>uortapdfw0x51</td>\n",
       "      <td>8.0</td>\n",
       "      <td>2.0</td>\n",
       "      <td>NaN</td>\n",
       "      <td>NaN</td>\n",
       "      <td>2.0</td>\n",
       "      <td>0.0</td>\n",
       "      <td>NaN</td>\n",
       "      <td>uortapdfw0x51</td>\n",
       "      <td>8.0</td>\n",
       "      <td>5.0</td>\n",
       "      <td>0.0</td>\n",
       "      <td>no voice present</td>\n",
       "      <td>1.0</td>\n",
       "      <td>0.0</td>\n",
       "      <td>empty</td>\n",
       "    </tr>\n",
       "    <tr>\n",
       "      <th>3</th>\n",
       "      <td>uortapdfw0x51_processed_3</td>\n",
       "      <td>uortapdfw0x51</td>\n",
       "      <td>8.0</td>\n",
       "      <td>2.0</td>\n",
       "      <td>NaN</td>\n",
       "      <td>NaN</td>\n",
       "      <td>2.0</td>\n",
       "      <td>0.0</td>\n",
       "      <td>NaN</td>\n",
       "      <td>uortapdfw0x51</td>\n",
       "      <td>8.0</td>\n",
       "      <td>5.0</td>\n",
       "      <td>0.0</td>\n",
       "      <td>NaN</td>\n",
       "      <td>1.0</td>\n",
       "      <td>0.0</td>\n",
       "      <td>NaN</td>\n",
       "    </tr>\n",
       "    <tr>\n",
       "      <th>4</th>\n",
       "      <td>uortapdfw0x51_processed_4</td>\n",
       "      <td>uortapdfw0x51</td>\n",
       "      <td>8.0</td>\n",
       "      <td>2.0</td>\n",
       "      <td>NaN</td>\n",
       "      <td>NaN</td>\n",
       "      <td>2.0</td>\n",
       "      <td>2.0</td>\n",
       "      <td>NaN</td>\n",
       "      <td>uortapdfw0x51</td>\n",
       "      <td>8.0</td>\n",
       "      <td>5.0</td>\n",
       "      <td>0.0</td>\n",
       "      <td>shout</td>\n",
       "      <td>1.0</td>\n",
       "      <td>0.0</td>\n",
       "      <td>NaN</td>\n",
       "    </tr>\n",
       "    <tr>\n",
       "      <th>...</th>\n",
       "      <td>...</td>\n",
       "      <td>...</td>\n",
       "      <td>...</td>\n",
       "      <td>...</td>\n",
       "      <td>...</td>\n",
       "      <td>...</td>\n",
       "      <td>...</td>\n",
       "      <td>...</td>\n",
       "      <td>...</td>\n",
       "      <td>...</td>\n",
       "      <td>...</td>\n",
       "      <td>...</td>\n",
       "      <td>...</td>\n",
       "      <td>...</td>\n",
       "      <td>...</td>\n",
       "      <td>...</td>\n",
       "      <td>...</td>\n",
       "    </tr>\n",
       "    <tr>\n",
       "      <th>645</th>\n",
       "      <td>zl1fow9ffo171_processed_12</td>\n",
       "      <td>zl1fow9ffo171</td>\n",
       "      <td>17.0</td>\n",
       "      <td>2.0</td>\n",
       "      <td>NaN</td>\n",
       "      <td>NaN</td>\n",
       "      <td>2.0</td>\n",
       "      <td>1.0</td>\n",
       "      <td>NaN</td>\n",
       "      <td>NaN</td>\n",
       "      <td>NaN</td>\n",
       "      <td>NaN</td>\n",
       "      <td>NaN</td>\n",
       "      <td>NaN</td>\n",
       "      <td>NaN</td>\n",
       "      <td>NaN</td>\n",
       "      <td>NaN</td>\n",
       "    </tr>\n",
       "    <tr>\n",
       "      <th>646</th>\n",
       "      <td>zl1fow9ffo171_processed_13</td>\n",
       "      <td>zl1fow9ffo171</td>\n",
       "      <td>17.0</td>\n",
       "      <td>2.0</td>\n",
       "      <td>NaN</td>\n",
       "      <td>NaN</td>\n",
       "      <td>2.0</td>\n",
       "      <td>1.0</td>\n",
       "      <td>NaN</td>\n",
       "      <td>NaN</td>\n",
       "      <td>NaN</td>\n",
       "      <td>NaN</td>\n",
       "      <td>NaN</td>\n",
       "      <td>NaN</td>\n",
       "      <td>NaN</td>\n",
       "      <td>NaN</td>\n",
       "      <td>NaN</td>\n",
       "    </tr>\n",
       "    <tr>\n",
       "      <th>647</th>\n",
       "      <td>zl1fow9ffo171_processed_14</td>\n",
       "      <td>zl1fow9ffo171</td>\n",
       "      <td>17.0</td>\n",
       "      <td>2.0</td>\n",
       "      <td>NaN</td>\n",
       "      <td>NaN</td>\n",
       "      <td>2.0</td>\n",
       "      <td>1.0</td>\n",
       "      <td>NaN</td>\n",
       "      <td>NaN</td>\n",
       "      <td>NaN</td>\n",
       "      <td>NaN</td>\n",
       "      <td>NaN</td>\n",
       "      <td>NaN</td>\n",
       "      <td>NaN</td>\n",
       "      <td>NaN</td>\n",
       "      <td>NaN</td>\n",
       "    </tr>\n",
       "    <tr>\n",
       "      <th>648</th>\n",
       "      <td>zl1fow9ffo171_processed_15</td>\n",
       "      <td>zl1fow9ffo171</td>\n",
       "      <td>17.0</td>\n",
       "      <td>2.0</td>\n",
       "      <td>NaN</td>\n",
       "      <td>NaN</td>\n",
       "      <td>2.0</td>\n",
       "      <td>1.0</td>\n",
       "      <td>NaN</td>\n",
       "      <td>NaN</td>\n",
       "      <td>NaN</td>\n",
       "      <td>NaN</td>\n",
       "      <td>NaN</td>\n",
       "      <td>NaN</td>\n",
       "      <td>NaN</td>\n",
       "      <td>NaN</td>\n",
       "      <td>NaN</td>\n",
       "    </tr>\n",
       "    <tr>\n",
       "      <th>649</th>\n",
       "      <td>zl1fow9ffo171_processed_16</td>\n",
       "      <td>zl1fow9ffo171</td>\n",
       "      <td>17.0</td>\n",
       "      <td>2.0</td>\n",
       "      <td>NaN</td>\n",
       "      <td>NaN</td>\n",
       "      <td>2.0</td>\n",
       "      <td>1.0</td>\n",
       "      <td>NaN</td>\n",
       "      <td>NaN</td>\n",
       "      <td>NaN</td>\n",
       "      <td>NaN</td>\n",
       "      <td>NaN</td>\n",
       "      <td>NaN</td>\n",
       "      <td>NaN</td>\n",
       "      <td>NaN</td>\n",
       "      <td>NaN</td>\n",
       "    </tr>\n",
       "  </tbody>\n",
       "</table>\n",
       "<p>650 rows × 17 columns</p>\n",
       "</div>"
      ],
      "text/plain": [
       "                      file_name parent_file_train  number_of_segments_train  \\\n",
       "0     uortapdfw0x51_processed_0     uortapdfw0x51                       8.0   \n",
       "1     uortapdfw0x51_processed_1     uortapdfw0x51                       8.0   \n",
       "2     uortapdfw0x51_processed_2     uortapdfw0x51                       8.0   \n",
       "3     uortapdfw0x51_processed_3     uortapdfw0x51                       8.0   \n",
       "4     uortapdfw0x51_processed_4     uortapdfw0x51                       8.0   \n",
       "..                          ...               ...                       ...   \n",
       "645  zl1fow9ffo171_processed_12     zl1fow9ffo171                      17.0   \n",
       "646  zl1fow9ffo171_processed_13     zl1fow9ffo171                      17.0   \n",
       "647  zl1fow9ffo171_processed_14     zl1fow9ffo171                      17.0   \n",
       "648  zl1fow9ffo171_processed_15     zl1fow9ffo171                      17.0   \n",
       "649  zl1fow9ffo171_processed_16     zl1fow9ffo171                      17.0   \n",
       "\n",
       "     number_of_voices_parent_file_train  noisy_train extra sounds  \\\n",
       "0                                   2.0          NaN          NaN   \n",
       "1                                   2.0          NaN          NaN   \n",
       "2                                   2.0          NaN          NaN   \n",
       "3                                   2.0          NaN          NaN   \n",
       "4                                   2.0          NaN          NaN   \n",
       "..                                  ...          ...          ...   \n",
       "645                                 2.0          NaN          NaN   \n",
       "646                                 2.0          NaN          NaN   \n",
       "647                                 2.0          NaN          NaN   \n",
       "648                                 2.0          NaN          NaN   \n",
       "649                                 2.0          NaN          NaN   \n",
       "\n",
       "     parent_label_train  segment_label_train Notes parent_file_val  \\\n",
       "0                   2.0                  2.0   NaN   uortapdfw0x51   \n",
       "1                   2.0                  1.0   NaN   uortapdfw0x51   \n",
       "2                   2.0                  0.0   NaN   uortapdfw0x51   \n",
       "3                   2.0                  0.0   NaN   uortapdfw0x51   \n",
       "4                   2.0                  2.0   NaN   uortapdfw0x51   \n",
       "..                  ...                  ...   ...             ...   \n",
       "645                 2.0                  1.0   NaN             NaN   \n",
       "646                 2.0                  1.0   NaN             NaN   \n",
       "647                 2.0                  1.0   NaN             NaN   \n",
       "648                 2.0                  1.0   NaN             NaN   \n",
       "649                 2.0                  1.0   NaN             NaN   \n",
       "\n",
       "     number_of_segments_val  number_of_voices_parent_file_val  noisy_val  \\\n",
       "0                       8.0                               5.0        0.0   \n",
       "1                       8.0                               5.0        0.0   \n",
       "2                       8.0                               5.0        0.0   \n",
       "3                       8.0                               5.0        0.0   \n",
       "4                       8.0                               5.0        0.0   \n",
       "..                      ...                               ...        ...   \n",
       "645                     NaN                               NaN        NaN   \n",
       "646                     NaN                               NaN        NaN   \n",
       "647                     NaN                               NaN        NaN   \n",
       "648                     NaN                               NaN        NaN   \n",
       "649                     NaN                               NaN        NaN   \n",
       "\n",
       "         extra_sounds  parent_label_val  segment_label_val  notes  \n",
       "0           door slam               1.0                0.0    NaN  \n",
       "1      screechy noise               1.0                1.0    NaN  \n",
       "2    no voice present               1.0                0.0  empty  \n",
       "3                 NaN               1.0                0.0    NaN  \n",
       "4               shout               1.0                0.0    NaN  \n",
       "..                ...               ...                ...    ...  \n",
       "645               NaN               NaN                NaN    NaN  \n",
       "646               NaN               NaN                NaN    NaN  \n",
       "647               NaN               NaN                NaN    NaN  \n",
       "648               NaN               NaN                NaN    NaN  \n",
       "649               NaN               NaN                NaN    NaN  \n",
       "\n",
       "[650 rows x 17 columns]"
      ]
     },
     "execution_count": 237,
     "metadata": {},
     "output_type": "execute_result"
    }
   ],
   "source": [
    "# join \n",
    "df_merged = pd.merge(anno_train,anno_val,on='file_name',how='left',suffixes=('_train', '_val'))\n",
    "df_merged"
   ]
  },
  {
   "cell_type": "code",
   "execution_count": 238,
   "id": "ce006c60-ddcb-4a10-803b-60bd82e322ba",
   "metadata": {},
   "outputs": [
    {
     "name": "stdout",
     "output_type": "stream",
     "text": [
      "<class 'pandas.core.frame.DataFrame'>\n",
      "Int64Index: 100 entries, 0 to 99\n",
      "Data columns (total 17 columns):\n",
      " #   Column                              Non-Null Count  Dtype  \n",
      "---  ------                              --------------  -----  \n",
      " 0   file_name                           100 non-null    object \n",
      " 1   parent_file_train                   100 non-null    object \n",
      " 2   number_of_segments_train            100 non-null    float64\n",
      " 3   number_of_voices_parent_file_train  100 non-null    float64\n",
      " 4   noisy_train                         0 non-null      float64\n",
      " 5   extra sounds                        5 non-null      object \n",
      " 6   parent_label_train                  100 non-null    float64\n",
      " 7   segment_label_train                 100 non-null    float64\n",
      " 8   Notes                               0 non-null      object \n",
      " 9   parent_file_val                     100 non-null    object \n",
      " 10  number_of_segments_val              100 non-null    float64\n",
      " 11  number_of_voices_parent_file_val    100 non-null    float64\n",
      " 12  noisy_val                           100 non-null    float64\n",
      " 13  extra_sounds                        22 non-null     object \n",
      " 14  parent_label_val                    100 non-null    float64\n",
      " 15  segment_label_val                   100 non-null    float64\n",
      " 16  notes                               5 non-null      object \n",
      "dtypes: float64(10), object(7)\n",
      "memory usage: 14.1+ KB\n"
     ]
    }
   ],
   "source": [
    "# Remove Nan Rows\n",
    "df_merged = df_merged[~(df_merged[segment_label+'_train'].isna() | df_merged[segment_label+'_val'].isna())]\n",
    "df_merged.info()"
   ]
  },
  {
   "cell_type": "markdown",
   "id": "c5afacb0-c5b1-4190-9add-c1d667e9b924",
   "metadata": {
    "tags": []
   },
   "source": [
    "#### <b> Match or No Match & Weighted Match <b>\n",
    "#### 100%"
   ]
  },
  {
   "cell_type": "code",
   "execution_count": 239,
   "id": "40532a7e-b826-43b3-9fef-6bc8242b1ab9",
   "metadata": {},
   "outputs": [
    {
     "name": "stdout",
     "output_type": "stream",
     "text": [
      "100%\n",
      "Segment: \n",
      "Matches: 19\n",
      "Total: 100\n",
      "Segment Unweighted IOE: 19.0\n",
      "Segment Weighted IOE (Mean Absolute Error): 1.14 \n",
      "\n",
      "Parent: \n",
      "Matches: 38\n",
      "Total: 100\n",
      "Parent IOE: 38.0\n",
      "Parent Weighted IOE (Mean Absolute Error): 0.79 \n",
      "\n",
      "Noisy: \n",
      "Matches: 0\n",
      "Total: 100\n",
      "Noisy IOE: 0.0\n"
     ]
    },
    {
     "name": "stderr",
     "output_type": "stream",
     "text": [
      "/var/folders/7b/v9yf5j856tggrfg1tm641t9c0000gn/T/ipykernel_20427/17326261.py:3: SettingWithCopyWarning: \n",
      "A value is trying to be set on a copy of a slice from a DataFrame.\n",
      "Try using .loc[row_indexer,col_indexer] = value instead\n",
      "\n",
      "See the caveats in the documentation: https://pandas.pydata.org/pandas-docs/stable/user_guide/indexing.html#returning-a-view-versus-a-copy\n",
      "  df_merged['match_s'] = np.where(df_merged[segment_label+'_train'] == df_merged[segment_label+'_val'], 1, 0)\n",
      "/var/folders/7b/v9yf5j856tggrfg1tm641t9c0000gn/T/ipykernel_20427/17326261.py:4: SettingWithCopyWarning: \n",
      "A value is trying to be set on a copy of a slice from a DataFrame.\n",
      "Try using .loc[row_indexer,col_indexer] = value instead\n",
      "\n",
      "See the caveats in the documentation: https://pandas.pydata.org/pandas-docs/stable/user_guide/indexing.html#returning-a-view-versus-a-copy\n",
      "  df_merged['match_s_diff'] = df_merged[segment_label+'_train'] - df_merged[segment_label+'_val']\n",
      "/var/folders/7b/v9yf5j856tggrfg1tm641t9c0000gn/T/ipykernel_20427/17326261.py:5: SettingWithCopyWarning: \n",
      "A value is trying to be set on a copy of a slice from a DataFrame.\n",
      "Try using .loc[row_indexer,col_indexer] = value instead\n",
      "\n",
      "See the caveats in the documentation: https://pandas.pydata.org/pandas-docs/stable/user_guide/indexing.html#returning-a-view-versus-a-copy\n",
      "  df_merged['match_s_diff_abs'] = df_merged['match_s_diff'].abs()\n",
      "/var/folders/7b/v9yf5j856tggrfg1tm641t9c0000gn/T/ipykernel_20427/17326261.py:13: SettingWithCopyWarning: \n",
      "A value is trying to be set on a copy of a slice from a DataFrame.\n",
      "Try using .loc[row_indexer,col_indexer] = value instead\n",
      "\n",
      "See the caveats in the documentation: https://pandas.pydata.org/pandas-docs/stable/user_guide/indexing.html#returning-a-view-versus-a-copy\n",
      "  df_merged['match_p'] = np.where(df_merged[parent_label+'_train'] == df_merged[parent_label+'_val'], 1, 0)\n",
      "/var/folders/7b/v9yf5j856tggrfg1tm641t9c0000gn/T/ipykernel_20427/17326261.py:14: SettingWithCopyWarning: \n",
      "A value is trying to be set on a copy of a slice from a DataFrame.\n",
      "Try using .loc[row_indexer,col_indexer] = value instead\n",
      "\n",
      "See the caveats in the documentation: https://pandas.pydata.org/pandas-docs/stable/user_guide/indexing.html#returning-a-view-versus-a-copy\n",
      "  df_merged['match_p_diff'] = df_merged[parent_label+'_train'] - df_merged[parent_label+'_val']\n",
      "/var/folders/7b/v9yf5j856tggrfg1tm641t9c0000gn/T/ipykernel_20427/17326261.py:15: SettingWithCopyWarning: \n",
      "A value is trying to be set on a copy of a slice from a DataFrame.\n",
      "Try using .loc[row_indexer,col_indexer] = value instead\n",
      "\n",
      "See the caveats in the documentation: https://pandas.pydata.org/pandas-docs/stable/user_guide/indexing.html#returning-a-view-versus-a-copy\n",
      "  df_merged['match_p_diff_abs'] = df_merged['match_p_diff'].abs()\n",
      "/var/folders/7b/v9yf5j856tggrfg1tm641t9c0000gn/T/ipykernel_20427/17326261.py:23: SettingWithCopyWarning: \n",
      "A value is trying to be set on a copy of a slice from a DataFrame.\n",
      "Try using .loc[row_indexer,col_indexer] = value instead\n",
      "\n",
      "See the caveats in the documentation: https://pandas.pydata.org/pandas-docs/stable/user_guide/indexing.html#returning-a-view-versus-a-copy\n",
      "  df_merged['match_n'] = np.where(df_merged['noisy'+'_train'] == df_merged['noisy'+'_val'], 1, 0)\n",
      "/var/folders/7b/v9yf5j856tggrfg1tm641t9c0000gn/T/ipykernel_20427/17326261.py:24: SettingWithCopyWarning: \n",
      "A value is trying to be set on a copy of a slice from a DataFrame.\n",
      "Try using .loc[row_indexer,col_indexer] = value instead\n",
      "\n",
      "See the caveats in the documentation: https://pandas.pydata.org/pandas-docs/stable/user_guide/indexing.html#returning-a-view-versus-a-copy\n",
      "  df_merged['match_n_diff'] = df_merged['noisy'+'_train'] - df_merged['noisy'+'_val']\n",
      "/var/folders/7b/v9yf5j856tggrfg1tm641t9c0000gn/T/ipykernel_20427/17326261.py:25: SettingWithCopyWarning: \n",
      "A value is trying to be set on a copy of a slice from a DataFrame.\n",
      "Try using .loc[row_indexer,col_indexer] = value instead\n",
      "\n",
      "See the caveats in the documentation: https://pandas.pydata.org/pandas-docs/stable/user_guide/indexing.html#returning-a-view-versus-a-copy\n",
      "  df_merged['match_n_diff_abs'] = df_merged['match_n_diff'].abs()\n"
     ]
    }
   ],
   "source": [
    "# IOE on segment label\n",
    "print('100%')\n",
    "df_merged['match_s'] = np.where(df_merged[segment_label+'_train'] == df_merged[segment_label+'_val'], 1, 0)\n",
    "df_merged['match_s_diff'] = df_merged[segment_label+'_train'] - df_merged[segment_label+'_val'] \n",
    "df_merged['match_s_diff_abs'] = df_merged['match_s_diff'].abs()\n",
    "print('Segment: ')\n",
    "print('Matches:',df_merged['match_s'].sum())\n",
    "print('Total:',df_merged['match_s'].count())\n",
    "print('Segment Unweighted IOE:', df_merged['match_s'].sum()/df_merged['match_s'].count()*100)\n",
    "print('Segment Weighted IOE (Mean Absolute Error):', df_merged['match_s_diff_abs'].mean(),'\\n')\n",
    "\n",
    "# IOE on parent label\n",
    "df_merged['match_p'] = np.where(df_merged[parent_label+'_train'] == df_merged[parent_label+'_val'], 1, 0)\n",
    "df_merged['match_p_diff'] = df_merged[parent_label+'_train'] - df_merged[parent_label+'_val'] \n",
    "df_merged['match_p_diff_abs'] = df_merged['match_p_diff'].abs()\n",
    "print('Parent: ')\n",
    "print('Matches:',df_merged['match_p'].sum())\n",
    "print('Total:',df_merged['match_p'].count())\n",
    "print('Parent IOE:', df_merged['match_p'].sum()/df_merged['match_p'].count()*100)\n",
    "print('Parent Weighted IOE (Mean Absolute Error):', df_merged['match_p_diff_abs'].mean(),'\\n')\n",
    "\n",
    "# IOE on Noise\n",
    "df_merged['match_n'] = np.where(df_merged['noisy'+'_train'] == df_merged['noisy'+'_val'], 1, 0)\n",
    "df_merged['match_n_diff'] = df_merged['noisy'+'_train'] - df_merged['noisy'+'_val'] \n",
    "df_merged['match_n_diff_abs'] = df_merged['match_n_diff'].abs()\n",
    "print('Noisy: ')\n",
    "print('Matches:',df_merged['match_n'].sum())\n",
    "print('Total:',df_merged['match_n'].count())\n",
    "print('Noisy IOE:', df_merged['match_n'].sum()/df_merged['match_n'].count()*100)"
   ]
  },
  {
   "cell_type": "markdown",
   "id": "e6fb8dbe-0fa4-4b3d-a843-30e7e6e710a5",
   "metadata": {},
   "source": [
    "#### Distribution of train - val difference values (error)\n",
    "##### Segment"
   ]
  },
  {
   "cell_type": "code",
   "execution_count": 240,
   "id": "e09aec16-896d-46f6-91c0-91717b79d77d",
   "metadata": {},
   "outputs": [
    {
     "data": {
      "text/html": [
       "<div>\n",
       "<style scoped>\n",
       "    .dataframe tbody tr th:only-of-type {\n",
       "        vertical-align: middle;\n",
       "    }\n",
       "\n",
       "    .dataframe tbody tr th {\n",
       "        vertical-align: top;\n",
       "    }\n",
       "\n",
       "    .dataframe thead th {\n",
       "        text-align: right;\n",
       "    }\n",
       "</style>\n",
       "<table border=\"1\" class=\"dataframe\">\n",
       "  <thead>\n",
       "    <tr style=\"text-align: right;\">\n",
       "      <th></th>\n",
       "      <th>match_s_diff</th>\n",
       "      <th>match_s</th>\n",
       "    </tr>\n",
       "  </thead>\n",
       "  <tbody>\n",
       "    <tr>\n",
       "      <th>0</th>\n",
       "      <td>-1.0</td>\n",
       "      <td>2</td>\n",
       "    </tr>\n",
       "    <tr>\n",
       "      <th>1</th>\n",
       "      <td>0.0</td>\n",
       "      <td>19</td>\n",
       "    </tr>\n",
       "    <tr>\n",
       "      <th>2</th>\n",
       "      <td>1.0</td>\n",
       "      <td>47</td>\n",
       "    </tr>\n",
       "    <tr>\n",
       "      <th>3</th>\n",
       "      <td>2.0</td>\n",
       "      <td>31</td>\n",
       "    </tr>\n",
       "    <tr>\n",
       "      <th>4</th>\n",
       "      <td>3.0</td>\n",
       "      <td>1</td>\n",
       "    </tr>\n",
       "  </tbody>\n",
       "</table>\n",
       "</div>"
      ],
      "text/plain": [
       "   match_s_diff  match_s\n",
       "0          -1.0        2\n",
       "1           0.0       19\n",
       "2           1.0       47\n",
       "3           2.0       31\n",
       "4           3.0        1"
      ]
     },
     "metadata": {},
     "output_type": "display_data"
    },
    {
     "data": {
      "text/plain": [
       "<seaborn.axisgrid.FacetGrid at 0x7ff6b0783970>"
      ]
     },
     "metadata": {},
     "output_type": "display_data"
    },
    {
     "data": {
      "image/png": "[encoded data removed]",
      "text/plain": [
       "<Figure size 360x360 with 1 Axes>"
      ]
     },
     "metadata": {
      "needs_background": "light"
     },
     "output_type": "display_data"
    }
   ],
   "source": [
    "# train - val difference histogram\n",
    "temp = df_merged.groupby('match_s_diff')['match_s'].count().reset_index()\n",
    "display(temp)\n",
    "display (sns.displot(df_merged['match_s_diff']))"
   ]
  },
  {
   "cell_type": "markdown",
   "id": "0f194cc7-2c56-4d6e-84c0-903ca07f040a",
   "metadata": {},
   "source": [
    "##### Parent"
   ]
  },
  {
   "cell_type": "code",
   "execution_count": 241,
   "id": "9ef8de77-7436-403a-9668-6086084a4443",
   "metadata": {},
   "outputs": [
    {
     "data": {
      "text/html": [
       "<div>\n",
       "<style scoped>\n",
       "    .dataframe tbody tr th:only-of-type {\n",
       "        vertical-align: middle;\n",
       "    }\n",
       "\n",
       "    .dataframe tbody tr th {\n",
       "        vertical-align: top;\n",
       "    }\n",
       "\n",
       "    .dataframe thead th {\n",
       "        text-align: right;\n",
       "    }\n",
       "</style>\n",
       "<table border=\"1\" class=\"dataframe\">\n",
       "  <thead>\n",
       "    <tr style=\"text-align: right;\">\n",
       "      <th></th>\n",
       "      <th>match_p_diff</th>\n",
       "      <th>match_p</th>\n",
       "    </tr>\n",
       "  </thead>\n",
       "  <tbody>\n",
       "    <tr>\n",
       "      <th>0</th>\n",
       "      <td>0.0</td>\n",
       "      <td>38</td>\n",
       "    </tr>\n",
       "    <tr>\n",
       "      <th>1</th>\n",
       "      <td>1.0</td>\n",
       "      <td>47</td>\n",
       "    </tr>\n",
       "    <tr>\n",
       "      <th>2</th>\n",
       "      <td>2.0</td>\n",
       "      <td>13</td>\n",
       "    </tr>\n",
       "    <tr>\n",
       "      <th>3</th>\n",
       "      <td>3.0</td>\n",
       "      <td>2</td>\n",
       "    </tr>\n",
       "  </tbody>\n",
       "</table>\n",
       "</div>"
      ],
      "text/plain": [
       "   match_p_diff  match_p\n",
       "0           0.0       38\n",
       "1           1.0       47\n",
       "2           2.0       13\n",
       "3           3.0        2"
      ]
     },
     "metadata": {},
     "output_type": "display_data"
    },
    {
     "data": {
      "text/plain": [
       "<seaborn.axisgrid.FacetGrid at 0x7ff690cc1fd0>"
      ]
     },
     "metadata": {},
     "output_type": "display_data"
    },
    {
     "data": {
      "image/png": "[encoded data removed]",
      "text/plain": [
       "<Figure size 360x360 with 1 Axes>"
      ]
     },
     "metadata": {
      "needs_background": "light"
     },
     "output_type": "display_data"
    }
   ],
   "source": [
    "temp = df_merged.groupby('match_p_diff')['match_p'].count().reset_index()\n",
    "display(temp)\n",
    "display (sns.displot(df_merged['match_p_diff']))"
   ]
  },
  {
   "cell_type": "markdown",
   "id": "4ff6ec15-6875-4eac-99f8-fc8969a2b09d",
   "metadata": {},
   "source": [
    "##### Noisy"
   ]
  },
  {
   "cell_type": "code",
   "execution_count": 242,
   "id": "17fd4ddb-1858-4f33-a8d2-4f964494060d",
   "metadata": {},
   "outputs": [
    {
     "data": {
      "text/html": [
       "<div>\n",
       "<style scoped>\n",
       "    .dataframe tbody tr th:only-of-type {\n",
       "        vertical-align: middle;\n",
       "    }\n",
       "\n",
       "    .dataframe tbody tr th {\n",
       "        vertical-align: top;\n",
       "    }\n",
       "\n",
       "    .dataframe thead th {\n",
       "        text-align: right;\n",
       "    }\n",
       "</style>\n",
       "<table border=\"1\" class=\"dataframe\">\n",
       "  <thead>\n",
       "    <tr style=\"text-align: right;\">\n",
       "      <th></th>\n",
       "      <th>match_n_diff</th>\n",
       "      <th>match_n</th>\n",
       "    </tr>\n",
       "  </thead>\n",
       "  <tbody>\n",
       "  </tbody>\n",
       "</table>\n",
       "</div>"
      ],
      "text/plain": [
       "Empty DataFrame\n",
       "Columns: [match_n_diff, match_n]\n",
       "Index: []"
      ]
     },
     "metadata": {},
     "output_type": "display_data"
    },
    {
     "data": {
      "text/plain": [
       "<seaborn.axisgrid.FacetGrid at 0x7ff690a1cca0>"
      ]
     },
     "metadata": {},
     "output_type": "display_data"
    },
    {
     "data": {
      "image/png": "[encoded data removed]",
      "text/plain": [
       "<Figure size 360x360 with 1 Axes>"
      ]
     },
     "metadata": {
      "needs_background": "light"
     },
     "output_type": "display_data"
    }
   ],
   "source": [
    "temp = df_merged.groupby('match_n_diff')['match_n'].count().reset_index()\n",
    "display(temp)\n",
    "display (sns.displot(df_merged['match_n_diff']))"
   ]
  },
  {
   "cell_type": "markdown",
   "id": "8586d120-51c6-45cb-b4f9-318a8b63ed75",
   "metadata": {
    "tags": []
   },
   "source": [
    "#### <b> Match or No Match <b>\n",
    "#### 50%"
   ]
  },
  {
   "cell_type": "code",
   "execution_count": 243,
   "id": "75a20588-a960-4ff2-8419-945c9ecbdac9",
   "metadata": {},
   "outputs": [
    {
     "name": "stdout",
     "output_type": "stream",
     "text": [
      "50%\n",
      "Segment: \n",
      "Matches: 14\n",
      "Total: 50\n",
      "Segment IOE: 28.000000000000004 \n",
      "\n",
      "Parent: \n",
      "Matches: 22\n",
      "Total: 50\n",
      "Parent IOE: 44.0 \n",
      "\n",
      "Noisy: \n",
      "Matches: 0\n",
      "Total: 50\n",
      "Noisy IOE: 0.0\n"
     ]
    }
   ],
   "source": [
    "# IOE on segment label\n",
    "print('50%')\n",
    "df_sample = df_merged.sample(frac=0.50)\n",
    "print('Segment: ')\n",
    "print('Matches:',df_sample['match_s'].sum())\n",
    "print('Total:',df_sample['match_s'].count())\n",
    "print('Segment IOE:', df_sample['match_s'].sum()/df_sample['match_s'].count()*100,'\\n')\n",
    "\n",
    "# IOE on parent label\n",
    "print('Parent: ')\n",
    "print('Matches:',df_sample['match_p'].sum())\n",
    "print('Total:',df_sample['match_p'].count())\n",
    "print('Parent IOE:', df_sample['match_p'].sum()/df_sample['match_p'].count()*100,'\\n')\n",
    "\n",
    "# IOE on Noise\n",
    "print('Noisy: ')\n",
    "print('Matches:',df_sample['match_n'].sum())\n",
    "print('Total:',df_sample['match_n'].count())\n",
    "print('Noisy IOE:', df_sample['match_n'].sum()/df_sample['match_n'].count()*100)"
   ]
  },
  {
   "cell_type": "markdown",
   "id": "bb98e048-bac7-4472-af9f-65bb98017f8e",
   "metadata": {
    "tags": []
   },
   "source": [
    "#### <b>Cohen's Kappa<b>"
   ]
  },
  {
   "cell_type": "code",
   "execution_count": 244,
   "id": "ecb02677-487c-47b5-ad4d-0b8948fada18",
   "metadata": {},
   "outputs": [
    {
     "name": "stdout",
     "output_type": "stream",
     "text": [
      "Cohen k (Segment): 0.03398926654740597\n",
      "Cohen k (Parent): 0.14846861694822122\n"
     ]
    }
   ],
   "source": [
    "# Calculate Cohen's k\n",
    "print('Cohen k (Segment):',cohen_kappa_score(df_merged[segment_label+'_train'], df_merged[segment_label+'_val']))\n",
    "print('Cohen k (Parent):',cohen_kappa_score(df_merged[parent_label+'_train'], df_merged[parent_label+'_val']))\n",
    "#print('Cohen k (Noisy):',cohen_kappa_score(df_merged['noisy'+'_train'], df_merged['noisy'+'_val']))"
   ]
  },
  {
   "cell_type": "markdown",
   "id": "83b69483-acf1-4b6c-a2b8-4c5c477c25c1",
   "metadata": {
    "tags": []
   },
   "source": [
    "## F"
   ]
  },
  {
   "cell_type": "code",
   "execution_count": 215,
   "id": "b1d989e3-0ec3-49fd-9a4d-5b33380d3e66",
   "metadata": {},
   "outputs": [],
   "source": [
    "# Read Data\n",
    "anno_train = pd.read_excel(file_path+'labelled-reddit-2021-08-12-F-CW.xlsx')\n",
    "anno_val = pd.read_excel(file_path+'labelled-reddit-2021-08-12-F-SA.xlsx')"
   ]
  },
  {
   "cell_type": "code",
   "execution_count": 216,
   "id": "ee77b4ba-3980-42cf-a6c8-9f67049950fc",
   "metadata": {},
   "outputs": [
    {
     "data": {
      "text/html": [
       "<div>\n",
       "<style scoped>\n",
       "    .dataframe tbody tr th:only-of-type {\n",
       "        vertical-align: middle;\n",
       "    }\n",
       "\n",
       "    .dataframe tbody tr th {\n",
       "        vertical-align: top;\n",
       "    }\n",
       "\n",
       "    .dataframe thead th {\n",
       "        text-align: right;\n",
       "    }\n",
       "</style>\n",
       "<table border=\"1\" class=\"dataframe\">\n",
       "  <thead>\n",
       "    <tr style=\"text-align: right;\">\n",
       "      <th></th>\n",
       "      <th>parent_file</th>\n",
       "      <th>file_name</th>\n",
       "      <th>segment_label</th>\n",
       "      <th>parent_label</th>\n",
       "      <th>Noisy</th>\n",
       "      <th>extra sounds</th>\n",
       "      <th>Notes</th>\n",
       "    </tr>\n",
       "  </thead>\n",
       "  <tbody>\n",
       "    <tr>\n",
       "      <th>0</th>\n",
       "      <td>lpg39tdh1bv51</td>\n",
       "      <td>lpg39tdh1bv51_processed_0</td>\n",
       "      <td>0</td>\n",
       "      <td>0.0</td>\n",
       "      <td>1</td>\n",
       "      <td>NaN</td>\n",
       "      <td>NaN</td>\n",
       "    </tr>\n",
       "  </tbody>\n",
       "</table>\n",
       "</div>"
      ],
      "text/plain": [
       "     parent_file                  file_name  segment_label   parent_label  \\\n",
       "0  lpg39tdh1bv51  lpg39tdh1bv51_processed_0               0           0.0   \n",
       "\n",
       "   Noisy  extra sounds Notes  \n",
       "0      1           NaN   NaN  "
      ]
     },
     "metadata": {},
     "output_type": "display_data"
    },
    {
     "name": "stdout",
     "output_type": "stream",
     "text": [
      "Index(['parent_file', 'file_name', 'segment_label ', 'parent_label', 'Noisy',\n",
      "       'extra sounds', 'Notes'],\n",
      "      dtype='object')\n"
     ]
    }
   ],
   "source": [
    "display(anno_train.head(1))\n",
    "print(anno_train.columns)"
   ]
  },
  {
   "cell_type": "code",
   "execution_count": 217,
   "id": "4d2f09bb-f184-45fe-8321-7816f33dccb7",
   "metadata": {},
   "outputs": [
    {
     "data": {
      "text/html": [
       "<div>\n",
       "<style scoped>\n",
       "    .dataframe tbody tr th:only-of-type {\n",
       "        vertical-align: middle;\n",
       "    }\n",
       "\n",
       "    .dataframe tbody tr th {\n",
       "        vertical-align: top;\n",
       "    }\n",
       "\n",
       "    .dataframe thead th {\n",
       "        text-align: right;\n",
       "    }\n",
       "</style>\n",
       "<table border=\"1\" class=\"dataframe\">\n",
       "  <thead>\n",
       "    <tr style=\"text-align: right;\">\n",
       "      <th></th>\n",
       "      <th>file_name</th>\n",
       "      <th>parent_file</th>\n",
       "      <th>number_of_segments</th>\n",
       "      <th>number_of_voices_parent_file</th>\n",
       "      <th>extra_sounds</th>\n",
       "      <th>parent_label</th>\n",
       "      <th>segment_label</th>\n",
       "      <th>noisy</th>\n",
       "      <th>notes</th>\n",
       "    </tr>\n",
       "  </thead>\n",
       "  <tbody>\n",
       "    <tr>\n",
       "      <th>0</th>\n",
       "      <td>lpg39tdh1bv51_processed_0</td>\n",
       "      <td>lpg39tdh1bv51</td>\n",
       "      <td>4.0</td>\n",
       "      <td>6.0</td>\n",
       "      <td>NaN</td>\n",
       "      <td>0.0</td>\n",
       "      <td>0.0</td>\n",
       "      <td>1.0</td>\n",
       "      <td>NaN</td>\n",
       "    </tr>\n",
       "  </tbody>\n",
       "</table>\n",
       "</div>"
      ],
      "text/plain": [
       "                   file_name    parent_file  number_of_segments  \\\n",
       "0  lpg39tdh1bv51_processed_0  lpg39tdh1bv51                 4.0   \n",
       "\n",
       "   number_of_voices_parent_file extra_sounds  parent_label  segment_label  \\\n",
       "0                           6.0          NaN           0.0            0.0   \n",
       "\n",
       "   noisy notes  \n",
       "0    1.0   NaN  "
      ]
     },
     "metadata": {},
     "output_type": "display_data"
    },
    {
     "name": "stdout",
     "output_type": "stream",
     "text": [
      "Index(['file_name', 'parent_file', 'number_of_segments',\n",
      "       'number_of_voices_parent_file', 'extra_sounds', 'parent_label',\n",
      "       'segment_label', 'noisy', 'notes'],\n",
      "      dtype='object')\n"
     ]
    }
   ],
   "source": [
    "display(anno_val.head(1))\n",
    "print(anno_val.columns)"
   ]
  },
  {
   "cell_type": "code",
   "execution_count": 218,
   "id": "e6cbff9c-a654-4774-a6a4-949411f9494e",
   "metadata": {},
   "outputs": [],
   "source": [
    "# Correct train file column names\n",
    "anno_train.columns=['parent_file', 'file_name', 'segment_label', 'parent_label', 'Noisy',\n",
    "       'extra sounds', 'Notes']"
   ]
  },
  {
   "cell_type": "code",
   "execution_count": 219,
   "id": "3a9f1dc1-b227-4234-beb2-caf6f1e64108",
   "metadata": {},
   "outputs": [
    {
     "name": "stdout",
     "output_type": "stream",
     "text": [
      "<class 'pandas.core.frame.DataFrame'>\n",
      "RangeIndex: 830 entries, 0 to 829\n",
      "Data columns (total 7 columns):\n",
      " #   Column         Non-Null Count  Dtype  \n",
      "---  ------         --------------  -----  \n",
      " 0   parent_file    830 non-null    object \n",
      " 1   file_name      830 non-null    object \n",
      " 2   segment_label  830 non-null    int64  \n",
      " 3   parent_label   829 non-null    float64\n",
      " 4   Noisy          830 non-null    int64  \n",
      " 5   extra sounds   0 non-null      float64\n",
      " 6   Notes          1 non-null      object \n",
      "dtypes: float64(2), int64(2), object(3)\n",
      "memory usage: 45.5+ KB\n"
     ]
    }
   ],
   "source": [
    "# Check for nulls\n",
    "anno_train.info()"
   ]
  },
  {
   "cell_type": "code",
   "execution_count": 220,
   "id": "f5ffa3f7-83cc-4330-a61d-36194100f1c4",
   "metadata": {},
   "outputs": [
    {
     "name": "stdout",
     "output_type": "stream",
     "text": [
      "<class 'pandas.core.frame.DataFrame'>\n",
      "RangeIndex: 814 entries, 0 to 813\n",
      "Data columns (total 9 columns):\n",
      " #   Column                        Non-Null Count  Dtype  \n",
      "---  ------                        --------------  -----  \n",
      " 0   file_name                     814 non-null    object \n",
      " 1   parent_file                   814 non-null    object \n",
      " 2   number_of_segments            814 non-null    float64\n",
      " 3   number_of_voices_parent_file  407 non-null    float64\n",
      " 4   extra_sounds                  203 non-null    object \n",
      " 5   parent_label                  407 non-null    float64\n",
      " 6   segment_label                 407 non-null    float64\n",
      " 7   noisy                         407 non-null    float64\n",
      " 8   notes                         37 non-null     object \n",
      "dtypes: float64(5), object(4)\n",
      "memory usage: 57.4+ KB\n"
     ]
    }
   ],
   "source": [
    "# Check for nulls\n",
    "anno_val.info()"
   ]
  },
  {
   "cell_type": "code",
   "execution_count": 221,
   "id": "a2f27ff8-a670-4bbd-b57d-8cd377bd67cb",
   "metadata": {},
   "outputs": [],
   "source": [
    "segment_label = 'segment_label'\n",
    "parent_label = 'parent_label'\n",
    "\n",
    "anno_train['file_name'] = anno_train['file_name'].str.strip()\n",
    "anno_val['file_name'] = anno_val['file_name'].str.strip()"
   ]
  },
  {
   "cell_type": "code",
   "execution_count": 222,
   "id": "14f52683-bfaa-4a6c-acae-1addc058d317",
   "metadata": {},
   "outputs": [
    {
     "data": {
      "text/html": [
       "<div>\n",
       "<style scoped>\n",
       "    .dataframe tbody tr th:only-of-type {\n",
       "        vertical-align: middle;\n",
       "    }\n",
       "\n",
       "    .dataframe tbody tr th {\n",
       "        vertical-align: top;\n",
       "    }\n",
       "\n",
       "    .dataframe thead th {\n",
       "        text-align: right;\n",
       "    }\n",
       "</style>\n",
       "<table border=\"1\" class=\"dataframe\">\n",
       "  <thead>\n",
       "    <tr style=\"text-align: right;\">\n",
       "      <th></th>\n",
       "      <th>parent_file_train</th>\n",
       "      <th>file_name</th>\n",
       "      <th>segment_label_train</th>\n",
       "      <th>parent_label_train</th>\n",
       "      <th>Noisy</th>\n",
       "      <th>extra sounds</th>\n",
       "      <th>Notes</th>\n",
       "      <th>parent_file_val</th>\n",
       "      <th>number_of_segments</th>\n",
       "      <th>number_of_voices_parent_file</th>\n",
       "      <th>extra_sounds</th>\n",
       "      <th>parent_label_val</th>\n",
       "      <th>segment_label_val</th>\n",
       "      <th>noisy</th>\n",
       "      <th>notes</th>\n",
       "    </tr>\n",
       "  </thead>\n",
       "  <tbody>\n",
       "    <tr>\n",
       "      <th>0</th>\n",
       "      <td>lpg39tdh1bv51</td>\n",
       "      <td>lpg39tdh1bv51_processed_0</td>\n",
       "      <td>0</td>\n",
       "      <td>0.0</td>\n",
       "      <td>1</td>\n",
       "      <td>NaN</td>\n",
       "      <td>NaN</td>\n",
       "      <td>lpg39tdh1bv51</td>\n",
       "      <td>4.0</td>\n",
       "      <td>6.0</td>\n",
       "      <td>NaN</td>\n",
       "      <td>0.0</td>\n",
       "      <td>0.0</td>\n",
       "      <td>1.0</td>\n",
       "      <td>NaN</td>\n",
       "    </tr>\n",
       "    <tr>\n",
       "      <th>1</th>\n",
       "      <td>lpg39tdh1bv51</td>\n",
       "      <td>lpg39tdh1bv51_processed_1</td>\n",
       "      <td>0</td>\n",
       "      <td>0.0</td>\n",
       "      <td>1</td>\n",
       "      <td>NaN</td>\n",
       "      <td>NaN</td>\n",
       "      <td>lpg39tdh1bv51</td>\n",
       "      <td>4.0</td>\n",
       "      <td>6.0</td>\n",
       "      <td>NaN</td>\n",
       "      <td>0.0</td>\n",
       "      <td>0.0</td>\n",
       "      <td>1.0</td>\n",
       "      <td>excessive laughing</td>\n",
       "    </tr>\n",
       "    <tr>\n",
       "      <th>2</th>\n",
       "      <td>lpg39tdh1bv51</td>\n",
       "      <td>lpg39tdh1bv51_processed_2</td>\n",
       "      <td>0</td>\n",
       "      <td>0.0</td>\n",
       "      <td>1</td>\n",
       "      <td>NaN</td>\n",
       "      <td>NaN</td>\n",
       "      <td>lpg39tdh1bv51</td>\n",
       "      <td>4.0</td>\n",
       "      <td>6.0</td>\n",
       "      <td>NaN</td>\n",
       "      <td>0.0</td>\n",
       "      <td>0.0</td>\n",
       "      <td>1.0</td>\n",
       "      <td>excessive laughing</td>\n",
       "    </tr>\n",
       "    <tr>\n",
       "      <th>3</th>\n",
       "      <td>ltdu6anws3m61</td>\n",
       "      <td>ltdu6anws3m61_processed_0</td>\n",
       "      <td>1</td>\n",
       "      <td>1.0</td>\n",
       "      <td>0</td>\n",
       "      <td>NaN</td>\n",
       "      <td>NaN</td>\n",
       "      <td>ltdu6anws3m61</td>\n",
       "      <td>4.0</td>\n",
       "      <td>2.0</td>\n",
       "      <td>NaN</td>\n",
       "      <td>1.0</td>\n",
       "      <td>1.0</td>\n",
       "      <td>0.0</td>\n",
       "      <td>NaN</td>\n",
       "    </tr>\n",
       "    <tr>\n",
       "      <th>4</th>\n",
       "      <td>ltdu6anws3m61</td>\n",
       "      <td>ltdu6anws3m61_processed_1</td>\n",
       "      <td>1</td>\n",
       "      <td>1.0</td>\n",
       "      <td>0</td>\n",
       "      <td>NaN</td>\n",
       "      <td>NaN</td>\n",
       "      <td>ltdu6anws3m61</td>\n",
       "      <td>4.0</td>\n",
       "      <td>2.0</td>\n",
       "      <td>NaN</td>\n",
       "      <td>1.0</td>\n",
       "      <td>1.0</td>\n",
       "      <td>0.0</td>\n",
       "      <td>NaN</td>\n",
       "    </tr>\n",
       "    <tr>\n",
       "      <th>...</th>\n",
       "      <td>...</td>\n",
       "      <td>...</td>\n",
       "      <td>...</td>\n",
       "      <td>...</td>\n",
       "      <td>...</td>\n",
       "      <td>...</td>\n",
       "      <td>...</td>\n",
       "      <td>...</td>\n",
       "      <td>...</td>\n",
       "      <td>...</td>\n",
       "      <td>...</td>\n",
       "      <td>...</td>\n",
       "      <td>...</td>\n",
       "      <td>...</td>\n",
       "      <td>...</td>\n",
       "    </tr>\n",
       "    <tr>\n",
       "      <th>826</th>\n",
       "      <td>qerwydudwbc61</td>\n",
       "      <td>qerwydudwbc61_processed_2</td>\n",
       "      <td>1</td>\n",
       "      <td>2.0</td>\n",
       "      <td>0</td>\n",
       "      <td>NaN</td>\n",
       "      <td>NaN</td>\n",
       "      <td>qerwydudwbc61</td>\n",
       "      <td>7.0</td>\n",
       "      <td>NaN</td>\n",
       "      <td>NaN</td>\n",
       "      <td>NaN</td>\n",
       "      <td>NaN</td>\n",
       "      <td>NaN</td>\n",
       "      <td>NaN</td>\n",
       "    </tr>\n",
       "    <tr>\n",
       "      <th>827</th>\n",
       "      <td>qerwydudwbc61</td>\n",
       "      <td>qerwydudwbc61_processed_3</td>\n",
       "      <td>1</td>\n",
       "      <td>2.0</td>\n",
       "      <td>0</td>\n",
       "      <td>NaN</td>\n",
       "      <td>NaN</td>\n",
       "      <td>qerwydudwbc61</td>\n",
       "      <td>7.0</td>\n",
       "      <td>NaN</td>\n",
       "      <td>NaN</td>\n",
       "      <td>NaN</td>\n",
       "      <td>NaN</td>\n",
       "      <td>NaN</td>\n",
       "      <td>NaN</td>\n",
       "    </tr>\n",
       "    <tr>\n",
       "      <th>828</th>\n",
       "      <td>qerwydudwbc61</td>\n",
       "      <td>qerwydudwbc61_processed_4</td>\n",
       "      <td>1</td>\n",
       "      <td>2.0</td>\n",
       "      <td>0</td>\n",
       "      <td>NaN</td>\n",
       "      <td>NaN</td>\n",
       "      <td>qerwydudwbc61</td>\n",
       "      <td>7.0</td>\n",
       "      <td>NaN</td>\n",
       "      <td>NaN</td>\n",
       "      <td>NaN</td>\n",
       "      <td>NaN</td>\n",
       "      <td>NaN</td>\n",
       "      <td>NaN</td>\n",
       "    </tr>\n",
       "    <tr>\n",
       "      <th>829</th>\n",
       "      <td>qerwydudwbc61</td>\n",
       "      <td>qerwydudwbc61_processed_5</td>\n",
       "      <td>2</td>\n",
       "      <td>2.0</td>\n",
       "      <td>0</td>\n",
       "      <td>NaN</td>\n",
       "      <td>NaN</td>\n",
       "      <td>qerwydudwbc61</td>\n",
       "      <td>7.0</td>\n",
       "      <td>NaN</td>\n",
       "      <td>NaN</td>\n",
       "      <td>NaN</td>\n",
       "      <td>NaN</td>\n",
       "      <td>NaN</td>\n",
       "      <td>NaN</td>\n",
       "    </tr>\n",
       "    <tr>\n",
       "      <th>830</th>\n",
       "      <td>qerwydudwbc61</td>\n",
       "      <td>qerwydudwbc61_processed_6</td>\n",
       "      <td>2</td>\n",
       "      <td>2.0</td>\n",
       "      <td>0</td>\n",
       "      <td>NaN</td>\n",
       "      <td>NaN</td>\n",
       "      <td>qerwydudwbc61</td>\n",
       "      <td>7.0</td>\n",
       "      <td>NaN</td>\n",
       "      <td>NaN</td>\n",
       "      <td>NaN</td>\n",
       "      <td>NaN</td>\n",
       "      <td>NaN</td>\n",
       "      <td>NaN</td>\n",
       "    </tr>\n",
       "  </tbody>\n",
       "</table>\n",
       "<p>831 rows × 15 columns</p>\n",
       "</div>"
      ],
      "text/plain": [
       "    parent_file_train                  file_name  segment_label_train  \\\n",
       "0       lpg39tdh1bv51  lpg39tdh1bv51_processed_0                    0   \n",
       "1       lpg39tdh1bv51  lpg39tdh1bv51_processed_1                    0   \n",
       "2       lpg39tdh1bv51  lpg39tdh1bv51_processed_2                    0   \n",
       "3       ltdu6anws3m61  ltdu6anws3m61_processed_0                    1   \n",
       "4       ltdu6anws3m61  ltdu6anws3m61_processed_1                    1   \n",
       "..                ...                        ...                  ...   \n",
       "826     qerwydudwbc61  qerwydudwbc61_processed_2                    1   \n",
       "827     qerwydudwbc61  qerwydudwbc61_processed_3                    1   \n",
       "828     qerwydudwbc61  qerwydudwbc61_processed_4                    1   \n",
       "829     qerwydudwbc61  qerwydudwbc61_processed_5                    2   \n",
       "830     qerwydudwbc61  qerwydudwbc61_processed_6                    2   \n",
       "\n",
       "     parent_label_train  Noisy  extra sounds Notes parent_file_val  \\\n",
       "0                   0.0      1           NaN   NaN   lpg39tdh1bv51   \n",
       "1                   0.0      1           NaN   NaN   lpg39tdh1bv51   \n",
       "2                   0.0      1           NaN   NaN   lpg39tdh1bv51   \n",
       "3                   1.0      0           NaN   NaN   ltdu6anws3m61   \n",
       "4                   1.0      0           NaN   NaN   ltdu6anws3m61   \n",
       "..                  ...    ...           ...   ...             ...   \n",
       "826                 2.0      0           NaN   NaN   qerwydudwbc61   \n",
       "827                 2.0      0           NaN   NaN   qerwydudwbc61   \n",
       "828                 2.0      0           NaN   NaN   qerwydudwbc61   \n",
       "829                 2.0      0           NaN   NaN   qerwydudwbc61   \n",
       "830                 2.0      0           NaN   NaN   qerwydudwbc61   \n",
       "\n",
       "     number_of_segments  number_of_voices_parent_file extra_sounds  \\\n",
       "0                   4.0                           6.0          NaN   \n",
       "1                   4.0                           6.0          NaN   \n",
       "2                   4.0                           6.0          NaN   \n",
       "3                   4.0                           2.0          NaN   \n",
       "4                   4.0                           2.0          NaN   \n",
       "..                  ...                           ...          ...   \n",
       "826                 7.0                           NaN          NaN   \n",
       "827                 7.0                           NaN          NaN   \n",
       "828                 7.0                           NaN          NaN   \n",
       "829                 7.0                           NaN          NaN   \n",
       "830                 7.0                           NaN          NaN   \n",
       "\n",
       "     parent_label_val  segment_label_val  noisy               notes  \n",
       "0                 0.0                0.0    1.0                 NaN  \n",
       "1                 0.0                0.0    1.0  excessive laughing  \n",
       "2                 0.0                0.0    1.0  excessive laughing  \n",
       "3                 1.0                1.0    0.0                 NaN  \n",
       "4                 1.0                1.0    0.0                 NaN  \n",
       "..                ...                ...    ...                 ...  \n",
       "826               NaN                NaN    NaN                 NaN  \n",
       "827               NaN                NaN    NaN                 NaN  \n",
       "828               NaN                NaN    NaN                 NaN  \n",
       "829               NaN                NaN    NaN                 NaN  \n",
       "830               NaN                NaN    NaN                 NaN  \n",
       "\n",
       "[831 rows x 15 columns]"
      ]
     },
     "execution_count": 222,
     "metadata": {},
     "output_type": "execute_result"
    }
   ],
   "source": [
    "# join \n",
    "df_merged = pd.merge(anno_train,anno_val,on='file_name',how='left',suffixes=('_train', '_val'))\n",
    "df_merged"
   ]
  },
  {
   "cell_type": "code",
   "execution_count": 223,
   "id": "547eba10-0ce2-48ae-bac3-ecae5fd32751",
   "metadata": {},
   "outputs": [
    {
     "name": "stdout",
     "output_type": "stream",
     "text": [
      "<class 'pandas.core.frame.DataFrame'>\n",
      "Int64Index: 402 entries, 0 to 405\n",
      "Data columns (total 15 columns):\n",
      " #   Column                        Non-Null Count  Dtype  \n",
      "---  ------                        --------------  -----  \n",
      " 0   parent_file_train             402 non-null    object \n",
      " 1   file_name                     402 non-null    object \n",
      " 2   segment_label_train           402 non-null    int64  \n",
      " 3   parent_label_train            401 non-null    float64\n",
      " 4   Noisy                         402 non-null    int64  \n",
      " 5   extra sounds                  0 non-null      float64\n",
      " 6   Notes                         1 non-null      object \n",
      " 7   parent_file_val               402 non-null    object \n",
      " 8   number_of_segments            402 non-null    float64\n",
      " 9   number_of_voices_parent_file  402 non-null    float64\n",
      " 10  extra_sounds                  201 non-null    object \n",
      " 11  parent_label_val              402 non-null    float64\n",
      " 12  segment_label_val             402 non-null    float64\n",
      " 13  noisy                         402 non-null    float64\n",
      " 14  notes                         36 non-null     object \n",
      "dtypes: float64(7), int64(2), object(6)\n",
      "memory usage: 50.2+ KB\n"
     ]
    }
   ],
   "source": [
    "# Remove Nan Rows\n",
    "df_merged = df_merged[~(df_merged[segment_label+'_train'].isna() | df_merged[segment_label+'_val'].isna())]\n",
    "df_merged.info()"
   ]
  },
  {
   "cell_type": "markdown",
   "id": "66e2eff3-840a-4aa2-8645-7249438450b5",
   "metadata": {
    "tags": []
   },
   "source": [
    "#### <b> Match or No Match & Weighted Match <b>\n",
    "#### 100%"
   ]
  },
  {
   "cell_type": "code",
   "execution_count": 224,
   "id": "d7435b50-4b17-478e-885c-70c696f9f7fc",
   "metadata": {},
   "outputs": [
    {
     "name": "stdout",
     "output_type": "stream",
     "text": [
      "100%\n",
      "Segment: \n",
      "Matches: 216\n",
      "Total: 402\n",
      "Segment Unweighted IOE: 53.73134328358209\n",
      "Segment Weighted IOE (Mean Absolute Error): 0.6890547263681592 \n",
      "\n",
      "Parent: \n",
      "Matches: 257\n",
      "Total: 402\n",
      "Parent IOE: 63.93034825870647\n",
      "Parent Weighted IOE (Mean Absolute Error): 0.43640897755610975 \n",
      "\n"
     ]
    },
    {
     "name": "stderr",
     "output_type": "stream",
     "text": [
      "/var/folders/7b/v9yf5j856tggrfg1tm641t9c0000gn/T/ipykernel_20427/3790046935.py:3: SettingWithCopyWarning: \n",
      "A value is trying to be set on a copy of a slice from a DataFrame.\n",
      "Try using .loc[row_indexer,col_indexer] = value instead\n",
      "\n",
      "See the caveats in the documentation: https://pandas.pydata.org/pandas-docs/stable/user_guide/indexing.html#returning-a-view-versus-a-copy\n",
      "  df_merged['match_s'] = np.where(df_merged[segment_label+'_train'] == df_merged[segment_label+'_val'], 1, 0)\n",
      "/var/folders/7b/v9yf5j856tggrfg1tm641t9c0000gn/T/ipykernel_20427/3790046935.py:4: SettingWithCopyWarning: \n",
      "A value is trying to be set on a copy of a slice from a DataFrame.\n",
      "Try using .loc[row_indexer,col_indexer] = value instead\n",
      "\n",
      "See the caveats in the documentation: https://pandas.pydata.org/pandas-docs/stable/user_guide/indexing.html#returning-a-view-versus-a-copy\n",
      "  df_merged['match_s_diff'] = df_merged[segment_label+'_train'] - df_merged[segment_label+'_val']\n",
      "/var/folders/7b/v9yf5j856tggrfg1tm641t9c0000gn/T/ipykernel_20427/3790046935.py:5: SettingWithCopyWarning: \n",
      "A value is trying to be set on a copy of a slice from a DataFrame.\n",
      "Try using .loc[row_indexer,col_indexer] = value instead\n",
      "\n",
      "See the caveats in the documentation: https://pandas.pydata.org/pandas-docs/stable/user_guide/indexing.html#returning-a-view-versus-a-copy\n",
      "  df_merged['match_s_diff_abs'] = df_merged['match_s_diff'].abs()\n",
      "/var/folders/7b/v9yf5j856tggrfg1tm641t9c0000gn/T/ipykernel_20427/3790046935.py:13: SettingWithCopyWarning: \n",
      "A value is trying to be set on a copy of a slice from a DataFrame.\n",
      "Try using .loc[row_indexer,col_indexer] = value instead\n",
      "\n",
      "See the caveats in the documentation: https://pandas.pydata.org/pandas-docs/stable/user_guide/indexing.html#returning-a-view-versus-a-copy\n",
      "  df_merged['match_p'] = np.where(df_merged[parent_label+'_train'] == df_merged[parent_label+'_val'], 1, 0)\n",
      "/var/folders/7b/v9yf5j856tggrfg1tm641t9c0000gn/T/ipykernel_20427/3790046935.py:14: SettingWithCopyWarning: \n",
      "A value is trying to be set on a copy of a slice from a DataFrame.\n",
      "Try using .loc[row_indexer,col_indexer] = value instead\n",
      "\n",
      "See the caveats in the documentation: https://pandas.pydata.org/pandas-docs/stable/user_guide/indexing.html#returning-a-view-versus-a-copy\n",
      "  df_merged['match_p_diff'] = df_merged[parent_label+'_train'] - df_merged[parent_label+'_val']\n",
      "/var/folders/7b/v9yf5j856tggrfg1tm641t9c0000gn/T/ipykernel_20427/3790046935.py:15: SettingWithCopyWarning: \n",
      "A value is trying to be set on a copy of a slice from a DataFrame.\n",
      "Try using .loc[row_indexer,col_indexer] = value instead\n",
      "\n",
      "See the caveats in the documentation: https://pandas.pydata.org/pandas-docs/stable/user_guide/indexing.html#returning-a-view-versus-a-copy\n",
      "  df_merged['match_p_diff_abs'] = df_merged['match_p_diff'].abs()\n"
     ]
    }
   ],
   "source": [
    "# IOE on segment label\n",
    "print('100%')\n",
    "df_merged['match_s'] = np.where(df_merged[segment_label+'_train'] == df_merged[segment_label+'_val'], 1, 0)\n",
    "df_merged['match_s_diff'] = df_merged[segment_label+'_train'] - df_merged[segment_label+'_val'] \n",
    "df_merged['match_s_diff_abs'] = df_merged['match_s_diff'].abs()\n",
    "print('Segment: ')\n",
    "print('Matches:',df_merged['match_s'].sum())\n",
    "print('Total:',df_merged['match_s'].count())\n",
    "print('Segment Unweighted IOE:', df_merged['match_s'].sum()/df_merged['match_s'].count()*100)\n",
    "print('Segment Weighted IOE (Mean Absolute Error):', df_merged['match_s_diff_abs'].mean(),'\\n')\n",
    "\n",
    "# IOE on parent label\n",
    "df_merged['match_p'] = np.where(df_merged[parent_label+'_train'] == df_merged[parent_label+'_val'], 1, 0)\n",
    "df_merged['match_p_diff'] = df_merged[parent_label+'_train'] - df_merged[parent_label+'_val'] \n",
    "df_merged['match_p_diff_abs'] = df_merged['match_p_diff'].abs()\n",
    "print('Parent: ')\n",
    "print('Matches:',df_merged['match_p'].sum())\n",
    "print('Total:',df_merged['match_p'].count())\n",
    "print('Parent IOE:', df_merged['match_p'].sum()/df_merged['match_p'].count()*100)\n",
    "print('Parent Weighted IOE (Mean Absolute Error):', df_merged['match_p_diff_abs'].mean(),'\\n')\n",
    "\n",
    "# IOE on Noise\n",
    "# df_merged['match_n'] = np.where(df_merged['noisy'+'_train'] == df_merged['noisy'+'_val'], 1, 0)\n",
    "# df_merged['match_n_diff'] = df_merged['noisy'+'_train'] - df_merged['noisy'+'_val'] \n",
    "# df_merged['match_n_diff_abs'] = df_merged['match_n_diff'].abs()\n",
    "# print('Noisy: ')\n",
    "# print('Matches:',df_merged['match_n'].sum())\n",
    "# print('Total:',df_merged['match_n'].count())\n",
    "# print('Noisy IOE:', df_merged['match_n'].sum()/df_merged['match_n'].count()*100)"
   ]
  },
  {
   "cell_type": "markdown",
   "id": "65481fb1-b644-4269-96c7-dfce1242760a",
   "metadata": {},
   "source": [
    "#### Distribution of train - val difference values (error)\n",
    "##### Segment"
   ]
  },
  {
   "cell_type": "code",
   "execution_count": 225,
   "id": "3a8e49d6-198f-4b53-bb54-b560d7cb73e6",
   "metadata": {},
   "outputs": [
    {
     "data": {
      "text/html": [
       "<div>\n",
       "<style scoped>\n",
       "    .dataframe tbody tr th:only-of-type {\n",
       "        vertical-align: middle;\n",
       "    }\n",
       "\n",
       "    .dataframe tbody tr th {\n",
       "        vertical-align: top;\n",
       "    }\n",
       "\n",
       "    .dataframe thead th {\n",
       "        text-align: right;\n",
       "    }\n",
       "</style>\n",
       "<table border=\"1\" class=\"dataframe\">\n",
       "  <thead>\n",
       "    <tr style=\"text-align: right;\">\n",
       "      <th></th>\n",
       "      <th>match_s_diff</th>\n",
       "      <th>match_s</th>\n",
       "    </tr>\n",
       "  </thead>\n",
       "  <tbody>\n",
       "    <tr>\n",
       "      <th>0</th>\n",
       "      <td>-2.0</td>\n",
       "      <td>4</td>\n",
       "    </tr>\n",
       "    <tr>\n",
       "      <th>1</th>\n",
       "      <td>-1.0</td>\n",
       "      <td>28</td>\n",
       "    </tr>\n",
       "    <tr>\n",
       "      <th>2</th>\n",
       "      <td>0.0</td>\n",
       "      <td>216</td>\n",
       "    </tr>\n",
       "    <tr>\n",
       "      <th>3</th>\n",
       "      <td>1.0</td>\n",
       "      <td>92</td>\n",
       "    </tr>\n",
       "    <tr>\n",
       "      <th>4</th>\n",
       "      <td>2.0</td>\n",
       "      <td>37</td>\n",
       "    </tr>\n",
       "    <tr>\n",
       "      <th>5</th>\n",
       "      <td>3.0</td>\n",
       "      <td>25</td>\n",
       "    </tr>\n",
       "  </tbody>\n",
       "</table>\n",
       "</div>"
      ],
      "text/plain": [
       "   match_s_diff  match_s\n",
       "0          -2.0        4\n",
       "1          -1.0       28\n",
       "2           0.0      216\n",
       "3           1.0       92\n",
       "4           2.0       37\n",
       "5           3.0       25"
      ]
     },
     "metadata": {},
     "output_type": "display_data"
    },
    {
     "data": {
      "text/plain": [
       "<seaborn.axisgrid.FacetGrid at 0x7ff6b07b95b0>"
      ]
     },
     "metadata": {},
     "output_type": "display_data"
    },
    {
     "data": {
      "image/png": "[encoded data removed]",
      "text/plain": [
       "<Figure size 360x360 with 1 Axes>"
      ]
     },
     "metadata": {
      "needs_background": "light"
     },
     "output_type": "display_data"
    }
   ],
   "source": [
    "# train - val difference histogram\n",
    "temp = df_merged.groupby('match_s_diff')['match_s'].count().reset_index()\n",
    "display(temp)\n",
    "display (sns.displot(df_merged['match_s_diff']))"
   ]
  },
  {
   "cell_type": "markdown",
   "id": "1104b9b4-d941-462e-80af-2c7cb8219d4f",
   "metadata": {},
   "source": [
    "##### Parent"
   ]
  },
  {
   "cell_type": "code",
   "execution_count": 226,
   "id": "04c8640a-dfb7-4dbd-b4ac-8d968fa93932",
   "metadata": {},
   "outputs": [
    {
     "data": {
      "text/html": [
       "<div>\n",
       "<style scoped>\n",
       "    .dataframe tbody tr th:only-of-type {\n",
       "        vertical-align: middle;\n",
       "    }\n",
       "\n",
       "    .dataframe tbody tr th {\n",
       "        vertical-align: top;\n",
       "    }\n",
       "\n",
       "    .dataframe thead th {\n",
       "        text-align: right;\n",
       "    }\n",
       "</style>\n",
       "<table border=\"1\" class=\"dataframe\">\n",
       "  <thead>\n",
       "    <tr style=\"text-align: right;\">\n",
       "      <th></th>\n",
       "      <th>match_p_diff</th>\n",
       "      <th>match_p</th>\n",
       "    </tr>\n",
       "  </thead>\n",
       "  <tbody>\n",
       "    <tr>\n",
       "      <th>0</th>\n",
       "      <td>-1.0</td>\n",
       "      <td>33</td>\n",
       "    </tr>\n",
       "    <tr>\n",
       "      <th>1</th>\n",
       "      <td>0.0</td>\n",
       "      <td>257</td>\n",
       "    </tr>\n",
       "    <tr>\n",
       "      <th>2</th>\n",
       "      <td>1.0</td>\n",
       "      <td>90</td>\n",
       "    </tr>\n",
       "    <tr>\n",
       "      <th>3</th>\n",
       "      <td>2.0</td>\n",
       "      <td>11</td>\n",
       "    </tr>\n",
       "    <tr>\n",
       "      <th>4</th>\n",
       "      <td>3.0</td>\n",
       "      <td>10</td>\n",
       "    </tr>\n",
       "  </tbody>\n",
       "</table>\n",
       "</div>"
      ],
      "text/plain": [
       "   match_p_diff  match_p\n",
       "0          -1.0       33\n",
       "1           0.0      257\n",
       "2           1.0       90\n",
       "3           2.0       11\n",
       "4           3.0       10"
      ]
     },
     "metadata": {},
     "output_type": "display_data"
    },
    {
     "data": {
      "text/plain": [
       "<seaborn.axisgrid.FacetGrid at 0x7ff6783164f0>"
      ]
     },
     "metadata": {},
     "output_type": "display_data"
    },
    {
     "data": {
      "image/png": "[encoded data removed]",
      "text/plain": [
       "<Figure size 360x360 with 1 Axes>"
      ]
     },
     "metadata": {
      "needs_background": "light"
     },
     "output_type": "display_data"
    }
   ],
   "source": [
    "temp = df_merged.groupby('match_p_diff')['match_p'].count().reset_index()\n",
    "display(temp)\n",
    "display (sns.displot(df_merged['match_p_diff']))"
   ]
  },
  {
   "cell_type": "markdown",
   "id": "e4fe0f0d-c176-40c2-9e6c-2048a97dca79",
   "metadata": {},
   "source": [
    "##### Noisy"
   ]
  },
  {
   "cell_type": "code",
   "execution_count": 227,
   "id": "d2ab12b7-cba8-40b4-ac54-0aa4ed334695",
   "metadata": {},
   "outputs": [],
   "source": [
    "# temp = df_merged.groupby('match_n_diff')['match_n'].count().reset_index()\n",
    "# display(temp)\n",
    "# display (sns.displot(df_merged['match_n_diff']))"
   ]
  },
  {
   "cell_type": "markdown",
   "id": "f3cd7d12-5f11-44d0-8d9a-946d2f11e88a",
   "metadata": {
    "tags": []
   },
   "source": [
    "#### <b> Match or No Match <b>\n",
    "#### 50%"
   ]
  },
  {
   "cell_type": "code",
   "execution_count": 228,
   "id": "09e5e56c-0f3a-41c9-9963-e2d426db1176",
   "metadata": {},
   "outputs": [
    {
     "name": "stdout",
     "output_type": "stream",
     "text": [
      "50%\n",
      "Segment: \n",
      "Matches: 106\n",
      "Total: 201\n",
      "Segment IOE: 52.736318407960205 \n",
      "\n",
      "Parent: \n",
      "Matches: 131\n",
      "Total: 201\n",
      "Parent IOE: 65.17412935323384 \n",
      "\n"
     ]
    }
   ],
   "source": [
    "# IOE on segment label\n",
    "print('50%')\n",
    "df_sample = df_merged.sample(frac=0.50)\n",
    "print('Segment: ')\n",
    "print('Matches:',df_sample['match_s'].sum())\n",
    "print('Total:',df_sample['match_s'].count())\n",
    "print('Segment IOE:', df_sample['match_s'].sum()/df_sample['match_s'].count()*100,'\\n')\n",
    "\n",
    "# IOE on parent label\n",
    "print('Parent: ')\n",
    "print('Matches:',df_sample['match_p'].sum())\n",
    "print('Total:',df_sample['match_p'].count())\n",
    "print('Parent IOE:', df_sample['match_p'].sum()/df_sample['match_p'].count()*100,'\\n')\n",
    "\n",
    "# IOE on Noise\n",
    "# print('Noisy: ')\n",
    "# print('Matches:',df_sample['match_n'].sum())\n",
    "# print('Total:',df_sample['match_n'].count())\n",
    "# print('Noisy IOE:', df_sample['match_n'].sum()/df_sample['match_n'].count()*100)"
   ]
  },
  {
   "cell_type": "markdown",
   "id": "5877187d-269c-4b7a-aa2d-4210c581a299",
   "metadata": {
    "tags": []
   },
   "source": [
    "#### <b>Cohen's Kappa<b>"
   ]
  },
  {
   "cell_type": "code",
   "execution_count": 229,
   "id": "e09a40b9-6072-4052-9ae3-6487e594da9c",
   "metadata": {},
   "outputs": [
    {
     "name": "stdout",
     "output_type": "stream",
     "text": [
      "Cohen k (Segment): 0.3003069321754753\n"
     ]
    }
   ],
   "source": [
    "# Calculate Cohen's k\n",
    "print('Cohen k (Segment):',cohen_kappa_score(df_merged[segment_label+'_train'], df_merged[segment_label+'_val']))\n",
    "#print('Cohen k (Parent):',cohen_kappa_score(df_merged[parent_label+'_train'], df_merged[parent_label+'_val']))\n",
    "#print('Cohen k (Noisy):',cohen_kappa_score(df_merged['noisy'+'_train'], df_merged['noisy'+'_val']))"
   ]
  },
  {
   "cell_type": "markdown",
   "id": "93f2bb1d-5a80-4f04-9ae3-08dfc367b501",
   "metadata": {},
   "source": [
    "# IOE on Cleaned Data\n",
    "## Full Dataset"
   ]
  },
  {
   "cell_type": "code",
   "execution_count": 9,
   "id": "6c5c5533-84fb-478d-898d-c1e14ac36b63",
   "metadata": {},
   "outputs": [],
   "source": [
    "file_path='./CleanData/ValDrop/'"
   ]
  },
  {
   "cell_type": "code",
   "execution_count": 10,
   "id": "36898ad5-3ba6-42ba-a405-9aea45a6ba42",
   "metadata": {},
   "outputs": [],
   "source": [
    "# Read Data\n",
    "anno_train = pd.read_csv(file_path+'full_train.csv')\n",
    "anno_val = pd.read_csv(file_path+'full_val.csv')"
   ]
  },
  {
   "cell_type": "code",
   "execution_count": 11,
   "id": "b6fbb102-e23d-4a55-a589-5fdd2a0ac0cb",
   "metadata": {},
   "outputs": [
    {
     "data": {
      "text/html": [
       "<div>\n",
       "<style scoped>\n",
       "    .dataframe tbody tr th:only-of-type {\n",
       "        vertical-align: middle;\n",
       "    }\n",
       "\n",
       "    .dataframe tbody tr th {\n",
       "        vertical-align: top;\n",
       "    }\n",
       "\n",
       "    .dataframe thead th {\n",
       "        text-align: right;\n",
       "    }\n",
       "</style>\n",
       "<table border=\"1\" class=\"dataframe\">\n",
       "  <thead>\n",
       "    <tr style=\"text-align: right;\">\n",
       "      <th></th>\n",
       "      <th>file_name</th>\n",
       "      <th>parent_file_train</th>\n",
       "      <th>number_of_segments_train</th>\n",
       "      <th>number_of_voices_parent_train</th>\n",
       "      <th>extra_sounds_train</th>\n",
       "      <th>parent_label_train</th>\n",
       "      <th>segment_label_train</th>\n",
       "      <th>noisy_train</th>\n",
       "      <th>Notes_train</th>\n",
       "    </tr>\n",
       "  </thead>\n",
       "  <tbody>\n",
       "    <tr>\n",
       "      <th>0</th>\n",
       "      <td>00g8dfgpqpt61_processed_0</td>\n",
       "      <td>00g8dfgpqpt61</td>\n",
       "      <td>3</td>\n",
       "      <td>9999</td>\n",
       "      <td>clapping, coughing</td>\n",
       "      <td>0</td>\n",
       "      <td>0</td>\n",
       "      <td>1</td>\n",
       "      <td>Only laughing</td>\n",
       "    </tr>\n",
       "  </tbody>\n",
       "</table>\n",
       "</div>"
      ],
      "text/plain": [
       "                   file_name parent_file_train  number_of_segments_train  \\\n",
       "0  00g8dfgpqpt61_processed_0     00g8dfgpqpt61                         3   \n",
       "\n",
       "   number_of_voices_parent_train  extra_sounds_train  parent_label_train  \\\n",
       "0                           9999  clapping, coughing                   0   \n",
       "\n",
       "   segment_label_train  noisy_train    Notes_train  \n",
       "0                    0            1  Only laughing  "
      ]
     },
     "metadata": {},
     "output_type": "display_data"
    },
    {
     "name": "stdout",
     "output_type": "stream",
     "text": [
      "Index(['file_name', 'parent_file_train', 'number_of_segments_train',\n",
      "       'number_of_voices_parent_train', 'extra_sounds_train',\n",
      "       'parent_label_train', 'segment_label_train', 'noisy_train',\n",
      "       'Notes_train'],\n",
      "      dtype='object')\n"
     ]
    }
   ],
   "source": [
    "display(anno_train.head(1))\n",
    "print(anno_train.columns)"
   ]
  },
  {
   "cell_type": "code",
   "execution_count": 12,
   "id": "50010277-3e0e-4f1b-bede-b2126b51bb4c",
   "metadata": {},
   "outputs": [
    {
     "data": {
      "text/html": [
       "<div>\n",
       "<style scoped>\n",
       "    .dataframe tbody tr th:only-of-type {\n",
       "        vertical-align: middle;\n",
       "    }\n",
       "\n",
       "    .dataframe tbody tr th {\n",
       "        vertical-align: top;\n",
       "    }\n",
       "\n",
       "    .dataframe thead th {\n",
       "        text-align: right;\n",
       "    }\n",
       "</style>\n",
       "<table border=\"1\" class=\"dataframe\">\n",
       "  <thead>\n",
       "    <tr style=\"text-align: right;\">\n",
       "      <th></th>\n",
       "      <th>file_name</th>\n",
       "      <th>parent_file_val</th>\n",
       "      <th>number_of_segments_val</th>\n",
       "      <th>number_of_voices_parent_val</th>\n",
       "      <th>segment_label_val</th>\n",
       "      <th>parent_label_val</th>\n",
       "      <th>noisy_val</th>\n",
       "      <th>extra_sounds_val</th>\n",
       "      <th>Notes_val</th>\n",
       "    </tr>\n",
       "  </thead>\n",
       "  <tbody>\n",
       "    <tr>\n",
       "      <th>0</th>\n",
       "      <td>00g8dfgpqpt61_processed_0</td>\n",
       "      <td>00g8dfgpqpt61</td>\n",
       "      <td>3.0</td>\n",
       "      <td>NaN</td>\n",
       "      <td>0</td>\n",
       "      <td>0.0</td>\n",
       "      <td>1.0</td>\n",
       "      <td>NaN</td>\n",
       "      <td>NaN</td>\n",
       "    </tr>\n",
       "  </tbody>\n",
       "</table>\n",
       "</div>"
      ],
      "text/plain": [
       "                   file_name parent_file_val  number_of_segments_val  \\\n",
       "0  00g8dfgpqpt61_processed_0   00g8dfgpqpt61                     3.0   \n",
       "\n",
       "   number_of_voices_parent_val  segment_label_val  parent_label_val  \\\n",
       "0                          NaN                  0               0.0   \n",
       "\n",
       "   noisy_val extra_sounds_val Notes_val  \n",
       "0        1.0              NaN       NaN  "
      ]
     },
     "metadata": {},
     "output_type": "display_data"
    },
    {
     "name": "stdout",
     "output_type": "stream",
     "text": [
      "Index(['file_name', 'parent_file_val', 'number_of_segments_val',\n",
      "       'number_of_voices_parent_val', 'segment_label_val', 'parent_label_val',\n",
      "       'noisy_val', 'extra_sounds_val', 'Notes_val'],\n",
      "      dtype='object')\n"
     ]
    }
   ],
   "source": [
    "display(anno_val.head(1))\n",
    "print(anno_val.columns)"
   ]
  },
  {
   "cell_type": "code",
   "execution_count": 13,
   "id": "4e5defd7-adbd-4561-8fa3-084d1ffac27b",
   "metadata": {},
   "outputs": [
    {
     "name": "stdout",
     "output_type": "stream",
     "text": [
      "<class 'pandas.core.frame.DataFrame'>\n",
      "RangeIndex: 2148 entries, 0 to 2147\n",
      "Data columns (total 9 columns):\n",
      " #   Column                         Non-Null Count  Dtype \n",
      "---  ------                         --------------  ----- \n",
      " 0   file_name                      2148 non-null   object\n",
      " 1   parent_file_train              2148 non-null   object\n",
      " 2   number_of_segments_train       2148 non-null   int64 \n",
      " 3   number_of_voices_parent_train  2148 non-null   int64 \n",
      " 4   extra_sounds_train             1093 non-null   object\n",
      " 5   parent_label_train             2148 non-null   int64 \n",
      " 6   segment_label_train            2148 non-null   int64 \n",
      " 7   noisy_train                    2148 non-null   int64 \n",
      " 8   Notes_train                    795 non-null    object\n",
      "dtypes: int64(5), object(4)\n",
      "memory usage: 151.2+ KB\n"
     ]
    }
   ],
   "source": [
    "# Check for nulls\n",
    "anno_train.info()"
   ]
  },
  {
   "cell_type": "code",
   "execution_count": 14,
   "id": "ef2f41e1-899c-4ce8-bf69-cc875fb64d5f",
   "metadata": {},
   "outputs": [
    {
     "name": "stdout",
     "output_type": "stream",
     "text": [
      "<class 'pandas.core.frame.DataFrame'>\n",
      "RangeIndex: 2148 entries, 0 to 2147\n",
      "Data columns (total 9 columns):\n",
      " #   Column                       Non-Null Count  Dtype  \n",
      "---  ------                       --------------  -----  \n",
      " 0   file_name                    2148 non-null   object \n",
      " 1   parent_file_val              2148 non-null   object \n",
      " 2   number_of_segments_val       1813 non-null   float64\n",
      " 3   number_of_voices_parent_val  1008 non-null   float64\n",
      " 4   segment_label_val            2148 non-null   int64  \n",
      " 5   parent_label_val             2147 non-null   float64\n",
      " 6   noisy_val                    1871 non-null   float64\n",
      " 7   extra_sounds_val             381 non-null    object \n",
      " 8   Notes_val                    5 non-null      object \n",
      "dtypes: float64(4), int64(1), object(4)\n",
      "memory usage: 151.2+ KB\n"
     ]
    }
   ],
   "source": [
    "# Check for nulls\n",
    "anno_val.info()"
   ]
  },
  {
   "cell_type": "code",
   "execution_count": 15,
   "id": "a5b3d58c-7ed2-4897-820d-475c311ee19e",
   "metadata": {},
   "outputs": [],
   "source": [
    "segment_label = 'segment_label'\n",
    "parent_label = 'parent_label'\n",
    "\n",
    "anno_train['file_name'] = anno_train['file_name'].str.strip()\n",
    "anno_val['file_name'] = anno_val['file_name'].str.strip()"
   ]
  },
  {
   "cell_type": "code",
   "execution_count": 16,
   "id": "1f10364d-f3c1-4025-bec8-60d0ba860184",
   "metadata": {},
   "outputs": [
    {
     "data": {
      "text/html": [
       "<div>\n",
       "<style scoped>\n",
       "    .dataframe tbody tr th:only-of-type {\n",
       "        vertical-align: middle;\n",
       "    }\n",
       "\n",
       "    .dataframe tbody tr th {\n",
       "        vertical-align: top;\n",
       "    }\n",
       "\n",
       "    .dataframe thead th {\n",
       "        text-align: right;\n",
       "    }\n",
       "</style>\n",
       "<table border=\"1\" class=\"dataframe\">\n",
       "  <thead>\n",
       "    <tr style=\"text-align: right;\">\n",
       "      <th></th>\n",
       "      <th>file_name</th>\n",
       "      <th>parent_file_train</th>\n",
       "      <th>number_of_segments_train</th>\n",
       "      <th>number_of_voices_parent_train</th>\n",
       "      <th>extra_sounds_train</th>\n",
       "      <th>parent_label_train</th>\n",
       "      <th>segment_label_train</th>\n",
       "      <th>noisy_train</th>\n",
       "      <th>Notes_train</th>\n",
       "      <th>parent_file_val</th>\n",
       "      <th>number_of_segments_val</th>\n",
       "      <th>number_of_voices_parent_val</th>\n",
       "      <th>segment_label_val</th>\n",
       "      <th>parent_label_val</th>\n",
       "      <th>noisy_val</th>\n",
       "      <th>extra_sounds_val</th>\n",
       "      <th>Notes_val</th>\n",
       "    </tr>\n",
       "  </thead>\n",
       "  <tbody>\n",
       "    <tr>\n",
       "      <th>0</th>\n",
       "      <td>00g8dfgpqpt61_processed_0</td>\n",
       "      <td>00g8dfgpqpt61</td>\n",
       "      <td>3</td>\n",
       "      <td>9999</td>\n",
       "      <td>clapping, coughing</td>\n",
       "      <td>0</td>\n",
       "      <td>0</td>\n",
       "      <td>1</td>\n",
       "      <td>Only laughing</td>\n",
       "      <td>00g8dfgpqpt61</td>\n",
       "      <td>3.0</td>\n",
       "      <td>NaN</td>\n",
       "      <td>0</td>\n",
       "      <td>0.0</td>\n",
       "      <td>1.0</td>\n",
       "      <td>NaN</td>\n",
       "      <td>NaN</td>\n",
       "    </tr>\n",
       "    <tr>\n",
       "      <th>1</th>\n",
       "      <td>00g8dfgpqpt61_processed_1</td>\n",
       "      <td>00g8dfgpqpt62</td>\n",
       "      <td>3</td>\n",
       "      <td>9999</td>\n",
       "      <td>clapping</td>\n",
       "      <td>0</td>\n",
       "      <td>0</td>\n",
       "      <td>1</td>\n",
       "      <td>Only laughing</td>\n",
       "      <td>00g8dfgpqpt61</td>\n",
       "      <td>3.0</td>\n",
       "      <td>NaN</td>\n",
       "      <td>0</td>\n",
       "      <td>0.0</td>\n",
       "      <td>1.0</td>\n",
       "      <td>NaN</td>\n",
       "      <td>NaN</td>\n",
       "    </tr>\n",
       "    <tr>\n",
       "      <th>2</th>\n",
       "      <td>00g8dfgpqpt61_processed_2</td>\n",
       "      <td>00g8dfgpqpt63</td>\n",
       "      <td>3</td>\n",
       "      <td>9999</td>\n",
       "      <td>NaN</td>\n",
       "      <td>0</td>\n",
       "      <td>0</td>\n",
       "      <td>1</td>\n",
       "      <td>Only laughing</td>\n",
       "      <td>00g8dfgpqpt61</td>\n",
       "      <td>3.0</td>\n",
       "      <td>NaN</td>\n",
       "      <td>0</td>\n",
       "      <td>0.0</td>\n",
       "      <td>1.0</td>\n",
       "      <td>NaN</td>\n",
       "      <td>NaN</td>\n",
       "    </tr>\n",
       "    <tr>\n",
       "      <th>3</th>\n",
       "      <td>01avx2fm1t961_processed_0</td>\n",
       "      <td>01avx2fm1t961</td>\n",
       "      <td>5</td>\n",
       "      <td>9999</td>\n",
       "      <td>baby crying</td>\n",
       "      <td>3</td>\n",
       "      <td>3</td>\n",
       "      <td>1</td>\n",
       "      <td>NaN</td>\n",
       "      <td>01avx2fm1t961</td>\n",
       "      <td>5.0</td>\n",
       "      <td>NaN</td>\n",
       "      <td>3</td>\n",
       "      <td>3.0</td>\n",
       "      <td>1.0</td>\n",
       "      <td>NaN</td>\n",
       "      <td>NaN</td>\n",
       "    </tr>\n",
       "    <tr>\n",
       "      <th>4</th>\n",
       "      <td>01avx2fm1t961_processed_1</td>\n",
       "      <td>01avx2fm1t961</td>\n",
       "      <td>5</td>\n",
       "      <td>9999</td>\n",
       "      <td>baby crying</td>\n",
       "      <td>3</td>\n",
       "      <td>2</td>\n",
       "      <td>1</td>\n",
       "      <td>NaN</td>\n",
       "      <td>01avx2fm1t961</td>\n",
       "      <td>5.0</td>\n",
       "      <td>NaN</td>\n",
       "      <td>3</td>\n",
       "      <td>3.0</td>\n",
       "      <td>1.0</td>\n",
       "      <td>NaN</td>\n",
       "      <td>NaN</td>\n",
       "    </tr>\n",
       "    <tr>\n",
       "      <th>...</th>\n",
       "      <td>...</td>\n",
       "      <td>...</td>\n",
       "      <td>...</td>\n",
       "      <td>...</td>\n",
       "      <td>...</td>\n",
       "      <td>...</td>\n",
       "      <td>...</td>\n",
       "      <td>...</td>\n",
       "      <td>...</td>\n",
       "      <td>...</td>\n",
       "      <td>...</td>\n",
       "      <td>...</td>\n",
       "      <td>...</td>\n",
       "      <td>...</td>\n",
       "      <td>...</td>\n",
       "      <td>...</td>\n",
       "      <td>...</td>\n",
       "    </tr>\n",
       "    <tr>\n",
       "      <th>2145</th>\n",
       "      <td>xdz15thrnem51_processed_8</td>\n",
       "      <td>xdz15thrnem51</td>\n",
       "      <td>14</td>\n",
       "      <td>7</td>\n",
       "      <td>cops</td>\n",
       "      <td>2</td>\n",
       "      <td>2</td>\n",
       "      <td>0</td>\n",
       "      <td>NaN</td>\n",
       "      <td>xdz15thrnem51</td>\n",
       "      <td>14.0</td>\n",
       "      <td>3.0</td>\n",
       "      <td>3</td>\n",
       "      <td>3.0</td>\n",
       "      <td>NaN</td>\n",
       "      <td>NaN</td>\n",
       "      <td>NaN</td>\n",
       "    </tr>\n",
       "    <tr>\n",
       "      <th>2146</th>\n",
       "      <td>xdz15thrnem51_processed_9</td>\n",
       "      <td>xdz15thrnem51</td>\n",
       "      <td>14</td>\n",
       "      <td>7</td>\n",
       "      <td>NaN</td>\n",
       "      <td>2</td>\n",
       "      <td>1</td>\n",
       "      <td>0</td>\n",
       "      <td>NaN</td>\n",
       "      <td>xdz15thrnem51</td>\n",
       "      <td>14.0</td>\n",
       "      <td>3.0</td>\n",
       "      <td>2</td>\n",
       "      <td>3.0</td>\n",
       "      <td>NaN</td>\n",
       "      <td>NaN</td>\n",
       "      <td>NaN</td>\n",
       "    </tr>\n",
       "    <tr>\n",
       "      <th>2147</th>\n",
       "      <td>xdz15thrnem51_processed_11</td>\n",
       "      <td>xdz15thrnem51</td>\n",
       "      <td>14</td>\n",
       "      <td>7</td>\n",
       "      <td>cops</td>\n",
       "      <td>2</td>\n",
       "      <td>2</td>\n",
       "      <td>0</td>\n",
       "      <td>NaN</td>\n",
       "      <td>xdz15thrnem51</td>\n",
       "      <td>14.0</td>\n",
       "      <td>3.0</td>\n",
       "      <td>3</td>\n",
       "      <td>3.0</td>\n",
       "      <td>NaN</td>\n",
       "      <td>NaN</td>\n",
       "      <td>NaN</td>\n",
       "    </tr>\n",
       "    <tr>\n",
       "      <th>2148</th>\n",
       "      <td>xdz15thrnem51_processed_12</td>\n",
       "      <td>xdz15thrnem51</td>\n",
       "      <td>14</td>\n",
       "      <td>7</td>\n",
       "      <td>cops</td>\n",
       "      <td>2</td>\n",
       "      <td>1</td>\n",
       "      <td>0</td>\n",
       "      <td>NaN</td>\n",
       "      <td>xdz15thrnem51</td>\n",
       "      <td>14.0</td>\n",
       "      <td>3.0</td>\n",
       "      <td>2</td>\n",
       "      <td>3.0</td>\n",
       "      <td>NaN</td>\n",
       "      <td>NaN</td>\n",
       "      <td>NaN</td>\n",
       "    </tr>\n",
       "    <tr>\n",
       "      <th>2149</th>\n",
       "      <td>xdz15thrnem51_processed_13</td>\n",
       "      <td>xdz15thrnem51</td>\n",
       "      <td>14</td>\n",
       "      <td>7</td>\n",
       "      <td>cops</td>\n",
       "      <td>2</td>\n",
       "      <td>2</td>\n",
       "      <td>0</td>\n",
       "      <td>NaN</td>\n",
       "      <td>xdz15thrnem51</td>\n",
       "      <td>14.0</td>\n",
       "      <td>3.0</td>\n",
       "      <td>3</td>\n",
       "      <td>3.0</td>\n",
       "      <td>NaN</td>\n",
       "      <td>NaN</td>\n",
       "      <td>NaN</td>\n",
       "    </tr>\n",
       "  </tbody>\n",
       "</table>\n",
       "<p>2150 rows × 17 columns</p>\n",
       "</div>"
      ],
      "text/plain": [
       "                       file_name parent_file_train  number_of_segments_train  \\\n",
       "0      00g8dfgpqpt61_processed_0     00g8dfgpqpt61                         3   \n",
       "1      00g8dfgpqpt61_processed_1     00g8dfgpqpt62                         3   \n",
       "2      00g8dfgpqpt61_processed_2     00g8dfgpqpt63                         3   \n",
       "3      01avx2fm1t961_processed_0     01avx2fm1t961                         5   \n",
       "4      01avx2fm1t961_processed_1     01avx2fm1t961                         5   \n",
       "...                          ...               ...                       ...   \n",
       "2145   xdz15thrnem51_processed_8     xdz15thrnem51                        14   \n",
       "2146   xdz15thrnem51_processed_9     xdz15thrnem51                        14   \n",
       "2147  xdz15thrnem51_processed_11     xdz15thrnem51                        14   \n",
       "2148  xdz15thrnem51_processed_12     xdz15thrnem51                        14   \n",
       "2149  xdz15thrnem51_processed_13     xdz15thrnem51                        14   \n",
       "\n",
       "      number_of_voices_parent_train  extra_sounds_train  parent_label_train  \\\n",
       "0                              9999  clapping, coughing                   0   \n",
       "1                              9999            clapping                   0   \n",
       "2                              9999                 NaN                   0   \n",
       "3                              9999         baby crying                   3   \n",
       "4                              9999         baby crying                   3   \n",
       "...                             ...                 ...                 ...   \n",
       "2145                              7                cops                   2   \n",
       "2146                              7                 NaN                   2   \n",
       "2147                              7                cops                   2   \n",
       "2148                              7                cops                   2   \n",
       "2149                              7                cops                   2   \n",
       "\n",
       "      segment_label_train  noisy_train    Notes_train parent_file_val  \\\n",
       "0                       0            1  Only laughing   00g8dfgpqpt61   \n",
       "1                       0            1  Only laughing   00g8dfgpqpt61   \n",
       "2                       0            1  Only laughing   00g8dfgpqpt61   \n",
       "3                       3            1            NaN   01avx2fm1t961   \n",
       "4                       2            1            NaN   01avx2fm1t961   \n",
       "...                   ...          ...            ...             ...   \n",
       "2145                    2            0            NaN   xdz15thrnem51   \n",
       "2146                    1            0            NaN   xdz15thrnem51   \n",
       "2147                    2            0            NaN   xdz15thrnem51   \n",
       "2148                    1            0            NaN   xdz15thrnem51   \n",
       "2149                    2            0            NaN   xdz15thrnem51   \n",
       "\n",
       "      number_of_segments_val  number_of_voices_parent_val  segment_label_val  \\\n",
       "0                        3.0                          NaN                  0   \n",
       "1                        3.0                          NaN                  0   \n",
       "2                        3.0                          NaN                  0   \n",
       "3                        5.0                          NaN                  3   \n",
       "4                        5.0                          NaN                  3   \n",
       "...                      ...                          ...                ...   \n",
       "2145                    14.0                          3.0                  3   \n",
       "2146                    14.0                          3.0                  2   \n",
       "2147                    14.0                          3.0                  3   \n",
       "2148                    14.0                          3.0                  2   \n",
       "2149                    14.0                          3.0                  3   \n",
       "\n",
       "      parent_label_val  noisy_val extra_sounds_val Notes_val  \n",
       "0                  0.0        1.0              NaN       NaN  \n",
       "1                  0.0        1.0              NaN       NaN  \n",
       "2                  0.0        1.0              NaN       NaN  \n",
       "3                  3.0        1.0              NaN       NaN  \n",
       "4                  3.0        1.0              NaN       NaN  \n",
       "...                ...        ...              ...       ...  \n",
       "2145               3.0        NaN              NaN       NaN  \n",
       "2146               3.0        NaN              NaN       NaN  \n",
       "2147               3.0        NaN              NaN       NaN  \n",
       "2148               3.0        NaN              NaN       NaN  \n",
       "2149               3.0        NaN              NaN       NaN  \n",
       "\n",
       "[2150 rows x 17 columns]"
      ]
     },
     "execution_count": 16,
     "metadata": {},
     "output_type": "execute_result"
    }
   ],
   "source": [
    "# join \n",
    "df_merged = pd.merge(anno_train,anno_val,on='file_name')#,how='left',suffixes=('_train', '_val'))\n",
    "df_merged"
   ]
  },
  {
   "cell_type": "code",
   "execution_count": 17,
   "id": "c97a674e-4856-4c07-a71e-e2a4024ea068",
   "metadata": {},
   "outputs": [
    {
     "name": "stdout",
     "output_type": "stream",
     "text": [
      "<class 'pandas.core.frame.DataFrame'>\n",
      "Int64Index: 2150 entries, 0 to 2149\n",
      "Data columns (total 17 columns):\n",
      " #   Column                         Non-Null Count  Dtype  \n",
      "---  ------                         --------------  -----  \n",
      " 0   file_name                      2150 non-null   object \n",
      " 1   parent_file_train              2150 non-null   object \n",
      " 2   number_of_segments_train       2150 non-null   int64  \n",
      " 3   number_of_voices_parent_train  2150 non-null   int64  \n",
      " 4   extra_sounds_train             1093 non-null   object \n",
      " 5   parent_label_train             2150 non-null   int64  \n",
      " 6   segment_label_train            2150 non-null   int64  \n",
      " 7   noisy_train                    2150 non-null   int64  \n",
      " 8   Notes_train                    795 non-null    object \n",
      " 9   parent_file_val                2150 non-null   object \n",
      " 10  number_of_segments_val         1813 non-null   float64\n",
      " 11  number_of_voices_parent_val    1008 non-null   float64\n",
      " 12  segment_label_val              2150 non-null   int64  \n",
      " 13  parent_label_val               2149 non-null   float64\n",
      " 14  noisy_val                      1873 non-null   float64\n",
      " 15  extra_sounds_val               381 non-null    object \n",
      " 16  Notes_val                      5 non-null      object \n",
      "dtypes: float64(4), int64(6), object(7)\n",
      "memory usage: 302.3+ KB\n"
     ]
    }
   ],
   "source": [
    "# Remove Nan Rows\n",
    "df_merged = df_merged[~(df_merged['segment_label_train'].isna() | df_merged['segment_label_val'].isna())]\n",
    "df_merged.info()"
   ]
  },
  {
   "cell_type": "markdown",
   "id": "1cbf17d5-8aac-44bd-8661-6ab507b93fdf",
   "metadata": {
    "tags": []
   },
   "source": [
    "#### <b> Match or No Match & Weighted Match <b>\n",
    "#### 100%"
   ]
  },
  {
   "cell_type": "code",
   "execution_count": 25,
   "id": "bd1b12ac-e6ec-4146-a490-8a3d0f995854",
   "metadata": {},
   "outputs": [
    {
     "name": "stdout",
     "output_type": "stream",
     "text": [
      "100%\n",
      "Segment: \n",
      "Matches: 1290\n",
      "Total: 2150\n",
      "Segment Unweighted IOE: 60.0\n",
      "Segment Weighted IOE (Mean Absolute Error): 0.4 \n",
      "\n",
      "Parent: \n",
      "Matches: 1140\n",
      "Total: 2150\n",
      "Parent IOE: 53.02325581395348\n",
      "Parent Weighted IOE (Mean Absolute Error): 0.4695207073057236 \n",
      "\n",
      "Noisy: \n",
      "Matches: 1581\n",
      "Total: 2150\n",
      "Noisy IOE: 73.53488372093024\n"
     ]
    }
   ],
   "source": [
    "# IOE on segment label\n",
    "print('100%')\n",
    "df_merged['match_s'] = np.where(df_merged[segment_label+'_train'] == df_merged[segment_label+'_val'], 1, 0)\n",
    "df_merged['match_s_diff'] = df_merged[segment_label+'_train'] - df_merged[segment_label+'_val'] \n",
    "df_merged['match_s_diff_abs'] = df_merged['match_s_diff'].abs()\n",
    "print('Segment: ')\n",
    "print('Matches:',df_merged['match_s'].sum())\n",
    "print('Total:',df_merged['match_s'].count())\n",
    "print('Segment Unweighted IOE:', df_merged['match_s'].sum()/df_merged['match_s'].count()*100)\n",
    "print('Segment Weighted IOE (Mean Absolute Error):', df_merged['match_s_diff_abs'].mean(),'\\n')\n",
    "\n",
    "# IOE on parent label\n",
    "df_merged['match_p'] = np.where(df_merged[parent_label+'_train'] == df_merged[parent_label+'_val'], 1, 0)\n",
    "df_merged['match_p_diff'] = df_merged[parent_label+'_train'] - df_merged[parent_label+'_val'] \n",
    "df_merged['match_p_diff_abs'] = df_merged['match_p_diff'].abs()\n",
    "print('Parent: ')\n",
    "print('Matches:',df_merged['match_p'].sum())\n",
    "print('Total:',df_merged['match_p'].count())\n",
    "print('Parent IOE:', df_merged['match_p'].sum()/df_merged['match_p'].count()*100)\n",
    "print('Parent Weighted IOE (Mean Absolute Error):', df_merged['match_p_diff_abs'].mean(),'\\n')\n",
    "\n",
    "# IOE on Noise\n",
    "df_merged['match_n'] = np.where(df_merged['noisy'+'_train'] == df_merged['noisy'+'_val'], 1, 0)\n",
    "df_merged['match_n_diff'] = df_merged['noisy'+'_train'] - df_merged['noisy'+'_val'] \n",
    "df_merged['match_n_diff_abs'] = df_merged['match_n_diff'].abs()\n",
    "print('Noisy: ')\n",
    "print('Matches:',df_merged['match_n'].sum())\n",
    "print('Total:',df_merged['match_n'].count())\n",
    "print('Noisy IOE:', df_merged['match_n'].sum()/df_merged['match_n'].count()*100)"
   ]
  },
  {
   "cell_type": "markdown",
   "id": "75d8430d-19bb-4afa-9878-3f254980cec4",
   "metadata": {},
   "source": [
    "#### Distribution of train - val difference values (error)\n",
    "##### Segment"
   ]
  },
  {
   "cell_type": "code",
   "execution_count": 26,
   "id": "8cf00e15-cab9-421e-8db7-b0893243d177",
   "metadata": {},
   "outputs": [
    {
     "data": {
      "text/html": [
       "<div>\n",
       "<style scoped>\n",
       "    .dataframe tbody tr th:only-of-type {\n",
       "        vertical-align: middle;\n",
       "    }\n",
       "\n",
       "    .dataframe tbody tr th {\n",
       "        vertical-align: top;\n",
       "    }\n",
       "\n",
       "    .dataframe thead th {\n",
       "        text-align: right;\n",
       "    }\n",
       "</style>\n",
       "<table border=\"1\" class=\"dataframe\">\n",
       "  <thead>\n",
       "    <tr style=\"text-align: right;\">\n",
       "      <th></th>\n",
       "      <th>match_s_diff</th>\n",
       "      <th>match_s</th>\n",
       "    </tr>\n",
       "  </thead>\n",
       "  <tbody>\n",
       "    <tr>\n",
       "      <th>0</th>\n",
       "      <td>-1</td>\n",
       "      <td>451</td>\n",
       "    </tr>\n",
       "    <tr>\n",
       "      <th>1</th>\n",
       "      <td>0</td>\n",
       "      <td>1290</td>\n",
       "    </tr>\n",
       "    <tr>\n",
       "      <th>2</th>\n",
       "      <td>1</td>\n",
       "      <td>409</td>\n",
       "    </tr>\n",
       "  </tbody>\n",
       "</table>\n",
       "</div>"
      ],
      "text/plain": [
       "   match_s_diff  match_s\n",
       "0            -1      451\n",
       "1             0     1290\n",
       "2             1      409"
      ]
     },
     "metadata": {},
     "output_type": "display_data"
    },
    {
     "data": {
      "text/plain": [
       "<seaborn.axisgrid.FacetGrid at 0x7fd118c66550>"
      ]
     },
     "metadata": {},
     "output_type": "display_data"
    },
    {
     "data": {
      "image/png": "[encoded data removed]",
      "text/plain": [
       "<Figure size 360x360 with 1 Axes>"
      ]
     },
     "metadata": {
      "needs_background": "light"
     },
     "output_type": "display_data"
    }
   ],
   "source": [
    "# train - val difference histogram\n",
    "temp = df_merged.groupby('match_s_diff')['match_s'].count().reset_index()\n",
    "display(temp)\n",
    "display (sns.displot(df_merged['match_s_diff']))"
   ]
  },
  {
   "cell_type": "markdown",
   "id": "e2d70f21-a1fa-4296-a5fd-a5958a2ccbf8",
   "metadata": {},
   "source": [
    "##### Parent"
   ]
  },
  {
   "cell_type": "code",
   "execution_count": 27,
   "id": "c079408c-96fa-4cc8-bdca-9b1d7fa03d5a",
   "metadata": {},
   "outputs": [
    {
     "data": {
      "text/html": [
       "<div>\n",
       "<style scoped>\n",
       "    .dataframe tbody tr th:only-of-type {\n",
       "        vertical-align: middle;\n",
       "    }\n",
       "\n",
       "    .dataframe tbody tr th {\n",
       "        vertical-align: top;\n",
       "    }\n",
       "\n",
       "    .dataframe thead th {\n",
       "        text-align: right;\n",
       "    }\n",
       "</style>\n",
       "<table border=\"1\" class=\"dataframe\">\n",
       "  <thead>\n",
       "    <tr style=\"text-align: right;\">\n",
       "      <th></th>\n",
       "      <th>match_p_diff</th>\n",
       "      <th>match_p</th>\n",
       "    </tr>\n",
       "  </thead>\n",
       "  <tbody>\n",
       "    <tr>\n",
       "      <th>0</th>\n",
       "      <td>-1.0</td>\n",
       "      <td>418</td>\n",
       "    </tr>\n",
       "    <tr>\n",
       "      <th>1</th>\n",
       "      <td>0.0</td>\n",
       "      <td>1140</td>\n",
       "    </tr>\n",
       "    <tr>\n",
       "      <th>2</th>\n",
       "      <td>1.0</td>\n",
       "      <td>591</td>\n",
       "    </tr>\n",
       "  </tbody>\n",
       "</table>\n",
       "</div>"
      ],
      "text/plain": [
       "   match_p_diff  match_p\n",
       "0          -1.0      418\n",
       "1           0.0     1140\n",
       "2           1.0      591"
      ]
     },
     "metadata": {},
     "output_type": "display_data"
    },
    {
     "data": {
      "text/plain": [
       "<seaborn.axisgrid.FacetGrid at 0x7fd138db0850>"
      ]
     },
     "metadata": {},
     "output_type": "display_data"
    },
    {
     "data": {
      "image/png": "[encoded data removed]",
      "text/plain": [
       "<Figure size 360x360 with 1 Axes>"
      ]
     },
     "metadata": {
      "needs_background": "light"
     },
     "output_type": "display_data"
    }
   ],
   "source": [
    "temp = df_merged.groupby('match_p_diff')['match_p'].count().reset_index()\n",
    "display(temp)\n",
    "display (sns.displot(df_merged['match_p_diff']))"
   ]
  },
  {
   "cell_type": "markdown",
   "id": "9f5eb03f-bad6-419a-8ec5-4e9f2640826d",
   "metadata": {},
   "source": [
    "##### Noisy"
   ]
  },
  {
   "cell_type": "code",
   "execution_count": 28,
   "id": "c08647a8-b60b-4f86-8f56-a5928f592afb",
   "metadata": {},
   "outputs": [
    {
     "data": {
      "text/html": [
       "<div>\n",
       "<style scoped>\n",
       "    .dataframe tbody tr th:only-of-type {\n",
       "        vertical-align: middle;\n",
       "    }\n",
       "\n",
       "    .dataframe tbody tr th {\n",
       "        vertical-align: top;\n",
       "    }\n",
       "\n",
       "    .dataframe thead th {\n",
       "        text-align: right;\n",
       "    }\n",
       "</style>\n",
       "<table border=\"1\" class=\"dataframe\">\n",
       "  <thead>\n",
       "    <tr style=\"text-align: right;\">\n",
       "      <th></th>\n",
       "      <th>match_n_diff</th>\n",
       "      <th>match_n</th>\n",
       "    </tr>\n",
       "  </thead>\n",
       "  <tbody>\n",
       "    <tr>\n",
       "      <th>0</th>\n",
       "      <td>-3.0</td>\n",
       "      <td>1</td>\n",
       "    </tr>\n",
       "    <tr>\n",
       "      <th>1</th>\n",
       "      <td>-1.0</td>\n",
       "      <td>210</td>\n",
       "    </tr>\n",
       "    <tr>\n",
       "      <th>2</th>\n",
       "      <td>0.0</td>\n",
       "      <td>1581</td>\n",
       "    </tr>\n",
       "    <tr>\n",
       "      <th>3</th>\n",
       "      <td>1.0</td>\n",
       "      <td>81</td>\n",
       "    </tr>\n",
       "  </tbody>\n",
       "</table>\n",
       "</div>"
      ],
      "text/plain": [
       "   match_n_diff  match_n\n",
       "0          -3.0        1\n",
       "1          -1.0      210\n",
       "2           0.0     1581\n",
       "3           1.0       81"
      ]
     },
     "metadata": {},
     "output_type": "display_data"
    },
    {
     "data": {
      "text/plain": [
       "<seaborn.axisgrid.FacetGrid at 0x7fd0f8c1c910>"
      ]
     },
     "metadata": {},
     "output_type": "display_data"
    },
    {
     "data": {
      "image/png": "[encoded data removed]",
      "text/plain": [
       "<Figure size 360x360 with 1 Axes>"
      ]
     },
     "metadata": {
      "needs_background": "light"
     },
     "output_type": "display_data"
    }
   ],
   "source": [
    "temp = df_merged.groupby('match_n_diff')['match_n'].count().reset_index()\n",
    "display(temp)\n",
    "display (sns.displot(df_merged['match_n_diff']))"
   ]
  },
  {
   "cell_type": "markdown",
   "id": "dd394b5a-72e1-4fe3-a4d2-b0edd31488f8",
   "metadata": {
    "tags": []
   },
   "source": [
    "#### <b> Match or No Match <b>\n",
    "#### 50%"
   ]
  },
  {
   "cell_type": "code",
   "execution_count": 29,
   "id": "6374ea7d-c873-4d0d-95b9-20637f93dfc5",
   "metadata": {},
   "outputs": [
    {
     "name": "stdout",
     "output_type": "stream",
     "text": [
      "50%\n",
      "Segment: \n",
      "Matches: 629\n",
      "Total: 1075\n",
      "Segment IOE: 58.51162790697675 \n",
      "\n",
      "Parent: \n",
      "Matches: 561\n",
      "Total: 1075\n",
      "Parent IOE: 52.18604651162791 \n",
      "\n",
      "Noisy: \n",
      "Matches: 796\n",
      "Total: 1075\n",
      "Noisy IOE: 74.04651162790698\n"
     ]
    }
   ],
   "source": [
    "# IOE on segment label\n",
    "print('50%')\n",
    "df_sample = df_merged.sample(frac=0.50)\n",
    "print('Segment: ')\n",
    "print('Matches:',df_sample['match_s'].sum())\n",
    "print('Total:',df_sample['match_s'].count())\n",
    "print('Segment IOE:', df_sample['match_s'].sum()/df_sample['match_s'].count()*100,'\\n')\n",
    "\n",
    "# IOE on parent label\n",
    "print('Parent: ')\n",
    "print('Matches:',df_sample['match_p'].sum())\n",
    "print('Total:',df_sample['match_p'].count())\n",
    "print('Parent IOE:', df_sample['match_p'].sum()/df_sample['match_p'].count()*100,'\\n')\n",
    "\n",
    "# IOE on Noise\n",
    "print('Noisy: ')\n",
    "print('Matches:',df_sample['match_n'].sum())\n",
    "print('Total:',df_sample['match_n'].count())\n",
    "print('Noisy IOE:', df_sample['match_n'].sum()/df_sample['match_n'].count()*100)"
   ]
  },
  {
   "cell_type": "markdown",
   "id": "7c21876b-b247-40b5-b9a7-45434788d810",
   "metadata": {
    "tags": []
   },
   "source": [
    "#### <b>Cohen's Kappa<b>"
   ]
  },
  {
   "cell_type": "code",
   "execution_count": 33,
   "id": "8ee79a6d-e4f6-471f-9515-292ef075959d",
   "metadata": {},
   "outputs": [
    {
     "name": "stdout",
     "output_type": "stream",
     "text": [
      "Cohen k (Segment): 0.4193162000730487\n"
     ]
    }
   ],
   "source": [
    "# Calculate Cohen's k\n",
    "print('Cohen k (Segment):',cohen_kappa_score(df_merged[segment_label+'_train'], df_merged[segment_label+'_val']))\n",
    "#print('Cohen k (Parent):',cohen_kappa_score(df_merged[parent_label+'_train'], df_merged[parent_label+'_val']))\n",
    "#print('Cohen k (Noisy):',cohen_kappa_score(df_merged['noisy'+'_train'], df_merged['noisy'+'_val']))"
   ]
  },
  {
   "cell_type": "markdown",
   "id": "dfb26ee7-cbbf-44fe-8e07-467f21cac5e7",
   "metadata": {},
   "source": [
    "#### <b>Label Variances <b>"
   ]
  },
  {
   "cell_type": "code",
   "execution_count": 22,
   "id": "0f3daf99-de8d-4592-997f-983e1258515b",
   "metadata": {},
   "outputs": [
    {
     "data": {
      "text/html": [
       "<div>\n",
       "<style scoped>\n",
       "    .dataframe tbody tr th:only-of-type {\n",
       "        vertical-align: middle;\n",
       "    }\n",
       "\n",
       "    .dataframe tbody tr th {\n",
       "        vertical-align: top;\n",
       "    }\n",
       "\n",
       "    .dataframe thead th {\n",
       "        text-align: right;\n",
       "    }\n",
       "</style>\n",
       "<table border=\"1\" class=\"dataframe\">\n",
       "  <thead>\n",
       "    <tr style=\"text-align: right;\">\n",
       "      <th></th>\n",
       "      <th>segment_label_train</th>\n",
       "      <th>segment_label_val</th>\n",
       "      <th>%age</th>\n",
       "    </tr>\n",
       "  </thead>\n",
       "  <tbody>\n",
       "    <tr>\n",
       "      <th>1</th>\n",
       "      <td>0</td>\n",
       "      <td>1</td>\n",
       "      <td>11.441860</td>\n",
       "    </tr>\n",
       "    <tr>\n",
       "      <th>2</th>\n",
       "      <td>1</td>\n",
       "      <td>0</td>\n",
       "      <td>7.395349</td>\n",
       "    </tr>\n",
       "    <tr>\n",
       "      <th>4</th>\n",
       "      <td>1</td>\n",
       "      <td>2</td>\n",
       "      <td>6.558140</td>\n",
       "    </tr>\n",
       "    <tr>\n",
       "      <th>5</th>\n",
       "      <td>2</td>\n",
       "      <td>1</td>\n",
       "      <td>7.116279</td>\n",
       "    </tr>\n",
       "    <tr>\n",
       "      <th>7</th>\n",
       "      <td>2</td>\n",
       "      <td>3</td>\n",
       "      <td>2.930233</td>\n",
       "    </tr>\n",
       "    <tr>\n",
       "      <th>8</th>\n",
       "      <td>3</td>\n",
       "      <td>2</td>\n",
       "      <td>4.511628</td>\n",
       "    </tr>\n",
       "    <tr>\n",
       "      <th>10</th>\n",
       "      <td>3</td>\n",
       "      <td>4</td>\n",
       "      <td>0.046512</td>\n",
       "    </tr>\n",
       "  </tbody>\n",
       "</table>\n",
       "</div>"
      ],
      "text/plain": [
       "    segment_label_train  segment_label_val       %age\n",
       "1                     0                  1  11.441860\n",
       "2                     1                  0   7.395349\n",
       "4                     1                  2   6.558140\n",
       "5                     2                  1   7.116279\n",
       "7                     2                  3   2.930233\n",
       "8                     3                  2   4.511628\n",
       "10                    3                  4   0.046512"
      ]
     },
     "execution_count": 22,
     "metadata": {},
     "output_type": "execute_result"
    }
   ],
   "source": [
    "df_var = df_merged.groupby(['segment_label_train','segment_label_val'])['file_name'].count().reset_index().rename(columns={'file_name':'%age'})\n",
    "df_var['%age'] = df_var['%age']/df_var['%age'].sum()*100\n",
    "df_var=df_var[df_var['segment_label_train']!=df_var['segment_label_val']]\n",
    "df_var"
   ]
  },
  {
   "cell_type": "code",
   "execution_count": 23,
   "id": "52bf87d4-22d2-48cf-8f5f-9ba191e9032b",
   "metadata": {},
   "outputs": [
    {
     "data": {
      "text/html": [
       "<div>\n",
       "<style scoped>\n",
       "    .dataframe tbody tr th:only-of-type {\n",
       "        vertical-align: middle;\n",
       "    }\n",
       "\n",
       "    .dataframe tbody tr th {\n",
       "        vertical-align: top;\n",
       "    }\n",
       "\n",
       "    .dataframe thead th {\n",
       "        text-align: right;\n",
       "    }\n",
       "</style>\n",
       "<table border=\"1\" class=\"dataframe\">\n",
       "  <thead>\n",
       "    <tr style=\"text-align: right;\">\n",
       "      <th></th>\n",
       "      <th>parent_label_train</th>\n",
       "      <th>parent_label_val</th>\n",
       "      <th>%age</th>\n",
       "    </tr>\n",
       "  </thead>\n",
       "  <tbody>\n",
       "    <tr>\n",
       "      <th>1</th>\n",
       "      <td>0</td>\n",
       "      <td>1.0</td>\n",
       "      <td>6.514658</td>\n",
       "    </tr>\n",
       "    <tr>\n",
       "      <th>2</th>\n",
       "      <td>1</td>\n",
       "      <td>0.0</td>\n",
       "      <td>6.421591</td>\n",
       "    </tr>\n",
       "    <tr>\n",
       "      <th>4</th>\n",
       "      <td>1</td>\n",
       "      <td>2.0</td>\n",
       "      <td>7.957189</td>\n",
       "    </tr>\n",
       "    <tr>\n",
       "      <th>5</th>\n",
       "      <td>2</td>\n",
       "      <td>1.0</td>\n",
       "      <td>9.585854</td>\n",
       "    </tr>\n",
       "    <tr>\n",
       "      <th>7</th>\n",
       "      <td>2</td>\n",
       "      <td>3.0</td>\n",
       "      <td>4.094928</td>\n",
       "    </tr>\n",
       "    <tr>\n",
       "      <th>8</th>\n",
       "      <td>3</td>\n",
       "      <td>2.0</td>\n",
       "      <td>11.493718</td>\n",
       "    </tr>\n",
       "    <tr>\n",
       "      <th>10</th>\n",
       "      <td>3</td>\n",
       "      <td>4.0</td>\n",
       "      <td>0.884132</td>\n",
       "    </tr>\n",
       "  </tbody>\n",
       "</table>\n",
       "</div>"
      ],
      "text/plain": [
       "    parent_label_train  parent_label_val       %age\n",
       "1                    0               1.0   6.514658\n",
       "2                    1               0.0   6.421591\n",
       "4                    1               2.0   7.957189\n",
       "5                    2               1.0   9.585854\n",
       "7                    2               3.0   4.094928\n",
       "8                    3               2.0  11.493718\n",
       "10                   3               4.0   0.884132"
      ]
     },
     "execution_count": 23,
     "metadata": {},
     "output_type": "execute_result"
    }
   ],
   "source": [
    "df_var = df_merged.groupby(['parent_label_train','parent_label_val'])['file_name'].count().reset_index().rename(columns={'file_name':'%age'})\n",
    "df_var['%age'] = df_var['%age']/df_var['%age'].sum()*100\n",
    "df_var=df_var[df_var['parent_label_train']!=df_var['parent_label_val']]\n",
    "df_var"
   ]
  },
  {
   "cell_type": "markdown",
   "id": "14378110-69f9-4c3f-bb09-d1dfdeac0767",
   "metadata": {
    "tags": []
   },
   "source": [
    "## A"
   ]
  },
  {
   "cell_type": "code",
   "execution_count": 265,
   "id": "8cf9c8db-257d-4bf0-a820-a07c59662164",
   "metadata": {},
   "outputs": [],
   "source": [
    "# Read Data\n",
    "anno_train = pd.read_csv(file_path+'A-cleaned.csv')\n",
    "anno_val = pd.read_csv(file_path+'A-cleaned-val.csv')"
   ]
  },
  {
   "cell_type": "code",
   "execution_count": 266,
   "id": "9515ebf0-c50e-49f3-b9f9-e66e66214ada",
   "metadata": {},
   "outputs": [
    {
     "data": {
      "text/html": [
       "<div>\n",
       "<style scoped>\n",
       "    .dataframe tbody tr th:only-of-type {\n",
       "        vertical-align: middle;\n",
       "    }\n",
       "\n",
       "    .dataframe tbody tr th {\n",
       "        vertical-align: top;\n",
       "    }\n",
       "\n",
       "    .dataframe thead th {\n",
       "        text-align: right;\n",
       "    }\n",
       "</style>\n",
       "<table border=\"1\" class=\"dataframe\">\n",
       "  <thead>\n",
       "    <tr style=\"text-align: right;\">\n",
       "      <th></th>\n",
       "      <th>file_name</th>\n",
       "      <th>parent_file_train</th>\n",
       "      <th>number_of_segments_train</th>\n",
       "      <th>number_of_voices_parent_train</th>\n",
       "      <th>extra_sounds_train</th>\n",
       "      <th>parent_label_train</th>\n",
       "      <th>segment_label_train</th>\n",
       "      <th>noisy_train</th>\n",
       "      <th>Notes_train</th>\n",
       "    </tr>\n",
       "  </thead>\n",
       "  <tbody>\n",
       "    <tr>\n",
       "      <th>0</th>\n",
       "      <td>00g8dfgpqpt61_processed_0</td>\n",
       "      <td>00g8dfgpqpt61</td>\n",
       "      <td>3.0</td>\n",
       "      <td>9999.0</td>\n",
       "      <td>clapping, coughing</td>\n",
       "      <td>0.0</td>\n",
       "      <td>0.0</td>\n",
       "      <td>1.0</td>\n",
       "      <td>Only laughing</td>\n",
       "    </tr>\n",
       "  </tbody>\n",
       "</table>\n",
       "</div>"
      ],
      "text/plain": [
       "                   file_name parent_file_train  number_of_segments_train  \\\n",
       "0  00g8dfgpqpt61_processed_0     00g8dfgpqpt61                       3.0   \n",
       "\n",
       "   number_of_voices_parent_train  extra_sounds_train  parent_label_train  \\\n",
       "0                         9999.0  clapping, coughing                 0.0   \n",
       "\n",
       "   segment_label_train  noisy_train    Notes_train  \n",
       "0                  0.0          1.0  Only laughing  "
      ]
     },
     "metadata": {},
     "output_type": "display_data"
    },
    {
     "name": "stdout",
     "output_type": "stream",
     "text": [
      "Index(['file_name', 'parent_file_train', 'number_of_segments_train',\n",
      "       'number_of_voices_parent_train', 'extra_sounds_train',\n",
      "       'parent_label_train', 'segment_label_train', 'noisy_train',\n",
      "       'Notes_train'],\n",
      "      dtype='object')\n"
     ]
    }
   ],
   "source": [
    "display(anno_train.head(1))\n",
    "print(anno_train.columns)"
   ]
  },
  {
   "cell_type": "code",
   "execution_count": 267,
   "id": "5c2106ad-b7ff-4683-966a-6794c76c3979",
   "metadata": {},
   "outputs": [
    {
     "data": {
      "text/html": [
       "<div>\n",
       "<style scoped>\n",
       "    .dataframe tbody tr th:only-of-type {\n",
       "        vertical-align: middle;\n",
       "    }\n",
       "\n",
       "    .dataframe tbody tr th {\n",
       "        vertical-align: top;\n",
       "    }\n",
       "\n",
       "    .dataframe thead th {\n",
       "        text-align: right;\n",
       "    }\n",
       "</style>\n",
       "<table border=\"1\" class=\"dataframe\">\n",
       "  <thead>\n",
       "    <tr style=\"text-align: right;\">\n",
       "      <th></th>\n",
       "      <th>file_name</th>\n",
       "      <th>noisy</th>\n",
       "      <th>parent_file_val</th>\n",
       "      <th>number_of_segments_val</th>\n",
       "      <th>number_of_voices_parent_val</th>\n",
       "      <th>segment_label_val</th>\n",
       "      <th>parent_label_val</th>\n",
       "      <th>Noisy</th>\n",
       "      <th>extra_sounds_val</th>\n",
       "      <th>Notes_val</th>\n",
       "    </tr>\n",
       "  </thead>\n",
       "  <tbody>\n",
       "    <tr>\n",
       "      <th>0</th>\n",
       "      <td>00g8dfgpqpt61_processed_0</td>\n",
       "      <td>1.0</td>\n",
       "      <td>00g8dfgpqpt61</td>\n",
       "      <td>3.0</td>\n",
       "      <td>NaN</td>\n",
       "      <td>0.0</td>\n",
       "      <td>0.0</td>\n",
       "      <td>1.0</td>\n",
       "      <td>NaN</td>\n",
       "      <td>NaN</td>\n",
       "    </tr>\n",
       "  </tbody>\n",
       "</table>\n",
       "</div>"
      ],
      "text/plain": [
       "                   file_name  noisy parent_file_val  number_of_segments_val  \\\n",
       "0  00g8dfgpqpt61_processed_0    1.0   00g8dfgpqpt61                     3.0   \n",
       "\n",
       "   number_of_voices_parent_val  segment_label_val  parent_label_val  Noisy  \\\n",
       "0                          NaN                0.0               0.0    1.0   \n",
       "\n",
       "  extra_sounds_val  Notes_val  \n",
       "0              NaN        NaN  "
      ]
     },
     "metadata": {},
     "output_type": "display_data"
    },
    {
     "name": "stdout",
     "output_type": "stream",
     "text": [
      "Index(['file_name', 'noisy', 'parent_file_val', 'number_of_segments_val',\n",
      "       'number_of_voices_parent_val', 'segment_label_val', 'parent_label_val',\n",
      "       'Noisy', 'extra_sounds_val', 'Notes_val'],\n",
      "      dtype='object')\n"
     ]
    }
   ],
   "source": [
    "display(anno_val.head(1))\n",
    "print(anno_val.columns)"
   ]
  },
  {
   "cell_type": "code",
   "execution_count": 268,
   "id": "f79b1fab-a714-4aec-817f-25709862c7a2",
   "metadata": {},
   "outputs": [],
   "source": [
    "# # Correct val file column names\n",
    "# # Run for: A-CW\n",
    "# anno_val.columns=['parent_file','file_name', 'number_of_segments',\n",
    "#        'number_of_voices_in_parent', 'segment_label', 'parent_label', 'noisy',\n",
    "#        'extra sounds', 'Notes']\n",
    "# anno_val.head(1)"
   ]
  },
  {
   "cell_type": "code",
   "execution_count": 269,
   "id": "0828641d-3d9f-4a38-ad3f-e5bc16aa66f4",
   "metadata": {},
   "outputs": [
    {
     "name": "stdout",
     "output_type": "stream",
     "text": [
      "<class 'pandas.core.frame.DataFrame'>\n",
      "RangeIndex: 805 entries, 0 to 804\n",
      "Data columns (total 9 columns):\n",
      " #   Column                         Non-Null Count  Dtype  \n",
      "---  ------                         --------------  -----  \n",
      " 0   file_name                      805 non-null    object \n",
      " 1   parent_file_train              805 non-null    object \n",
      " 2   number_of_segments_train       805 non-null    float64\n",
      " 3   number_of_voices_parent_train  805 non-null    float64\n",
      " 4   extra_sounds_train             351 non-null    object \n",
      " 5   parent_label_train             805 non-null    float64\n",
      " 6   segment_label_train            805 non-null    float64\n",
      " 7   noisy_train                    805 non-null    float64\n",
      " 8   Notes_train                    11 non-null     object \n",
      "dtypes: float64(5), object(4)\n",
      "memory usage: 56.7+ KB\n"
     ]
    }
   ],
   "source": [
    "# Check for nulls\n",
    "anno_train.info()"
   ]
  },
  {
   "cell_type": "code",
   "execution_count": 270,
   "id": "2a78a9c3-c89c-415f-87c7-645a94036447",
   "metadata": {},
   "outputs": [
    {
     "name": "stdout",
     "output_type": "stream",
     "text": [
      "<class 'pandas.core.frame.DataFrame'>\n",
      "RangeIndex: 805 entries, 0 to 804\n",
      "Data columns (total 10 columns):\n",
      " #   Column                       Non-Null Count  Dtype  \n",
      "---  ------                       --------------  -----  \n",
      " 0   file_name                    805 non-null    object \n",
      " 1   noisy                        805 non-null    float64\n",
      " 2   parent_file_val              805 non-null    object \n",
      " 3   number_of_segments_val       805 non-null    float64\n",
      " 4   number_of_voices_parent_val  0 non-null      float64\n",
      " 5   segment_label_val            805 non-null    float64\n",
      " 6   parent_label_val             805 non-null    float64\n",
      " 7   Noisy                        805 non-null    float64\n",
      " 8   extra_sounds_val             39 non-null     object \n",
      " 9   Notes_val                    0 non-null      float64\n",
      "dtypes: float64(7), object(3)\n",
      "memory usage: 63.0+ KB\n"
     ]
    }
   ],
   "source": [
    "# Check for nulls\n",
    "anno_val.info()"
   ]
  },
  {
   "cell_type": "code",
   "execution_count": 271,
   "id": "3a9105ad-c5b0-4c89-b77d-704feacffee5",
   "metadata": {},
   "outputs": [],
   "source": [
    "# segment_label = 'segment_label'\n",
    "# parent_label = 'parent_label'\n",
    "\n",
    "anno_train['file_name'] = anno_train['file_name'].str.strip()\n",
    "anno_val['file_name'] = anno_val['file_name'].str.strip()"
   ]
  },
  {
   "cell_type": "code",
   "execution_count": 272,
   "id": "028f1fae-8d6c-4072-b973-c75f13f15472",
   "metadata": {},
   "outputs": [
    {
     "data": {
      "text/html": [
       "<div>\n",
       "<style scoped>\n",
       "    .dataframe tbody tr th:only-of-type {\n",
       "        vertical-align: middle;\n",
       "    }\n",
       "\n",
       "    .dataframe tbody tr th {\n",
       "        vertical-align: top;\n",
       "    }\n",
       "\n",
       "    .dataframe thead th {\n",
       "        text-align: right;\n",
       "    }\n",
       "</style>\n",
       "<table border=\"1\" class=\"dataframe\">\n",
       "  <thead>\n",
       "    <tr style=\"text-align: right;\">\n",
       "      <th></th>\n",
       "      <th>file_name</th>\n",
       "      <th>parent_file_train</th>\n",
       "      <th>number_of_segments_train</th>\n",
       "      <th>number_of_voices_parent_train</th>\n",
       "      <th>extra_sounds_train</th>\n",
       "      <th>parent_label_train</th>\n",
       "      <th>segment_label_train</th>\n",
       "      <th>noisy_train</th>\n",
       "      <th>Notes_train</th>\n",
       "      <th>noisy</th>\n",
       "      <th>parent_file_val</th>\n",
       "      <th>number_of_segments_val</th>\n",
       "      <th>number_of_voices_parent_val</th>\n",
       "      <th>segment_label_val</th>\n",
       "      <th>parent_label_val</th>\n",
       "      <th>Noisy</th>\n",
       "      <th>extra_sounds_val</th>\n",
       "      <th>Notes_val</th>\n",
       "    </tr>\n",
       "  </thead>\n",
       "  <tbody>\n",
       "    <tr>\n",
       "      <th>0</th>\n",
       "      <td>00g8dfgpqpt61_processed_0</td>\n",
       "      <td>00g8dfgpqpt61</td>\n",
       "      <td>3.0</td>\n",
       "      <td>9999.0</td>\n",
       "      <td>clapping, coughing</td>\n",
       "      <td>0.0</td>\n",
       "      <td>0.0</td>\n",
       "      <td>1.0</td>\n",
       "      <td>Only laughing</td>\n",
       "      <td>1.0</td>\n",
       "      <td>00g8dfgpqpt61</td>\n",
       "      <td>3.0</td>\n",
       "      <td>NaN</td>\n",
       "      <td>0.0</td>\n",
       "      <td>0.0</td>\n",
       "      <td>1.0</td>\n",
       "      <td>NaN</td>\n",
       "      <td>NaN</td>\n",
       "    </tr>\n",
       "    <tr>\n",
       "      <th>1</th>\n",
       "      <td>00g8dfgpqpt61_processed_1</td>\n",
       "      <td>00g8dfgpqpt62</td>\n",
       "      <td>3.0</td>\n",
       "      <td>9999.0</td>\n",
       "      <td>clapping</td>\n",
       "      <td>0.0</td>\n",
       "      <td>0.0</td>\n",
       "      <td>1.0</td>\n",
       "      <td>Only laughing</td>\n",
       "      <td>1.0</td>\n",
       "      <td>00g8dfgpqpt61</td>\n",
       "      <td>3.0</td>\n",
       "      <td>NaN</td>\n",
       "      <td>0.0</td>\n",
       "      <td>0.0</td>\n",
       "      <td>1.0</td>\n",
       "      <td>NaN</td>\n",
       "      <td>NaN</td>\n",
       "    </tr>\n",
       "    <tr>\n",
       "      <th>2</th>\n",
       "      <td>00g8dfgpqpt61_processed_2</td>\n",
       "      <td>00g8dfgpqpt63</td>\n",
       "      <td>3.0</td>\n",
       "      <td>9999.0</td>\n",
       "      <td>NaN</td>\n",
       "      <td>0.0</td>\n",
       "      <td>0.0</td>\n",
       "      <td>1.0</td>\n",
       "      <td>Only laughing</td>\n",
       "      <td>1.0</td>\n",
       "      <td>00g8dfgpqpt61</td>\n",
       "      <td>3.0</td>\n",
       "      <td>NaN</td>\n",
       "      <td>0.0</td>\n",
       "      <td>0.0</td>\n",
       "      <td>1.0</td>\n",
       "      <td>NaN</td>\n",
       "      <td>NaN</td>\n",
       "    </tr>\n",
       "    <tr>\n",
       "      <th>3</th>\n",
       "      <td>01avx2fm1t961_processed_0</td>\n",
       "      <td>01avx2fm1t961</td>\n",
       "      <td>5.0</td>\n",
       "      <td>9999.0</td>\n",
       "      <td>baby crying</td>\n",
       "      <td>3.0</td>\n",
       "      <td>3.0</td>\n",
       "      <td>1.0</td>\n",
       "      <td>NaN</td>\n",
       "      <td>1.0</td>\n",
       "      <td>01avx2fm1t961</td>\n",
       "      <td>5.0</td>\n",
       "      <td>NaN</td>\n",
       "      <td>3.0</td>\n",
       "      <td>3.0</td>\n",
       "      <td>1.0</td>\n",
       "      <td>NaN</td>\n",
       "      <td>NaN</td>\n",
       "    </tr>\n",
       "    <tr>\n",
       "      <th>4</th>\n",
       "      <td>01avx2fm1t961_processed_1</td>\n",
       "      <td>01avx2fm1t961</td>\n",
       "      <td>5.0</td>\n",
       "      <td>9999.0</td>\n",
       "      <td>baby crying</td>\n",
       "      <td>3.0</td>\n",
       "      <td>2.0</td>\n",
       "      <td>1.0</td>\n",
       "      <td>NaN</td>\n",
       "      <td>1.0</td>\n",
       "      <td>01avx2fm1t961</td>\n",
       "      <td>5.0</td>\n",
       "      <td>NaN</td>\n",
       "      <td>3.0</td>\n",
       "      <td>3.0</td>\n",
       "      <td>1.0</td>\n",
       "      <td>NaN</td>\n",
       "      <td>NaN</td>\n",
       "    </tr>\n",
       "    <tr>\n",
       "      <th>...</th>\n",
       "      <td>...</td>\n",
       "      <td>...</td>\n",
       "      <td>...</td>\n",
       "      <td>...</td>\n",
       "      <td>...</td>\n",
       "      <td>...</td>\n",
       "      <td>...</td>\n",
       "      <td>...</td>\n",
       "      <td>...</td>\n",
       "      <td>...</td>\n",
       "      <td>...</td>\n",
       "      <td>...</td>\n",
       "      <td>...</td>\n",
       "      <td>...</td>\n",
       "      <td>...</td>\n",
       "      <td>...</td>\n",
       "      <td>...</td>\n",
       "      <td>...</td>\n",
       "    </tr>\n",
       "    <tr>\n",
       "      <th>800</th>\n",
       "      <td>zvkhxd3vp3o51_processed_1</td>\n",
       "      <td>zvkhxd3vp3o51</td>\n",
       "      <td>9.0</td>\n",
       "      <td>2.0</td>\n",
       "      <td>crowd</td>\n",
       "      <td>2.0</td>\n",
       "      <td>2.0</td>\n",
       "      <td>0.0</td>\n",
       "      <td>NaN</td>\n",
       "      <td>0.0</td>\n",
       "      <td>zvkhxd3vp3o51</td>\n",
       "      <td>9.0</td>\n",
       "      <td>NaN</td>\n",
       "      <td>3.0</td>\n",
       "      <td>3.0</td>\n",
       "      <td>1.0</td>\n",
       "      <td>NaN</td>\n",
       "      <td>NaN</td>\n",
       "    </tr>\n",
       "    <tr>\n",
       "      <th>801</th>\n",
       "      <td>zvkhxd3vp3o51_processed_4</td>\n",
       "      <td>zvkhxd3vp3o51</td>\n",
       "      <td>9.0</td>\n",
       "      <td>3.0</td>\n",
       "      <td>crowd, kids screaming</td>\n",
       "      <td>2.0</td>\n",
       "      <td>2.0</td>\n",
       "      <td>0.0</td>\n",
       "      <td>NaN</td>\n",
       "      <td>0.0</td>\n",
       "      <td>zvkhxd3vp3o51</td>\n",
       "      <td>9.0</td>\n",
       "      <td>NaN</td>\n",
       "      <td>3.0</td>\n",
       "      <td>3.0</td>\n",
       "      <td>1.0</td>\n",
       "      <td>NaN</td>\n",
       "      <td>NaN</td>\n",
       "    </tr>\n",
       "    <tr>\n",
       "      <th>802</th>\n",
       "      <td>zvkhxd3vp3o51_processed_5</td>\n",
       "      <td>zvkhxd3vp3o51</td>\n",
       "      <td>9.0</td>\n",
       "      <td>3.0</td>\n",
       "      <td>crowd, kids screaming</td>\n",
       "      <td>2.0</td>\n",
       "      <td>2.0</td>\n",
       "      <td>0.0</td>\n",
       "      <td>NaN</td>\n",
       "      <td>0.0</td>\n",
       "      <td>zvkhxd3vp3o51</td>\n",
       "      <td>9.0</td>\n",
       "      <td>NaN</td>\n",
       "      <td>2.0</td>\n",
       "      <td>3.0</td>\n",
       "      <td>1.0</td>\n",
       "      <td>NaN</td>\n",
       "      <td>NaN</td>\n",
       "    </tr>\n",
       "    <tr>\n",
       "      <th>803</th>\n",
       "      <td>zvkhxd3vp3o51_processed_6</td>\n",
       "      <td>zvkhxd3vp3o51</td>\n",
       "      <td>9.0</td>\n",
       "      <td>3.0</td>\n",
       "      <td>crowd, kids screaming</td>\n",
       "      <td>2.0</td>\n",
       "      <td>2.0</td>\n",
       "      <td>0.0</td>\n",
       "      <td>NaN</td>\n",
       "      <td>0.0</td>\n",
       "      <td>zvkhxd3vp3o51</td>\n",
       "      <td>9.0</td>\n",
       "      <td>NaN</td>\n",
       "      <td>3.0</td>\n",
       "      <td>3.0</td>\n",
       "      <td>1.0</td>\n",
       "      <td>NaN</td>\n",
       "      <td>NaN</td>\n",
       "    </tr>\n",
       "    <tr>\n",
       "      <th>804</th>\n",
       "      <td>zvkhxd3vp3o51_processed_7</td>\n",
       "      <td>zvkhxd3vp3o51</td>\n",
       "      <td>9.0</td>\n",
       "      <td>3.0</td>\n",
       "      <td>crowd, kids screaming</td>\n",
       "      <td>2.0</td>\n",
       "      <td>2.0</td>\n",
       "      <td>0.0</td>\n",
       "      <td>NaN</td>\n",
       "      <td>0.0</td>\n",
       "      <td>zvkhxd3vp3o51</td>\n",
       "      <td>9.0</td>\n",
       "      <td>NaN</td>\n",
       "      <td>3.0</td>\n",
       "      <td>3.0</td>\n",
       "      <td>1.0</td>\n",
       "      <td>NaN</td>\n",
       "      <td>NaN</td>\n",
       "    </tr>\n",
       "  </tbody>\n",
       "</table>\n",
       "<p>805 rows × 18 columns</p>\n",
       "</div>"
      ],
      "text/plain": [
       "                     file_name parent_file_train  number_of_segments_train  \\\n",
       "0    00g8dfgpqpt61_processed_0     00g8dfgpqpt61                       3.0   \n",
       "1    00g8dfgpqpt61_processed_1     00g8dfgpqpt62                       3.0   \n",
       "2    00g8dfgpqpt61_processed_2     00g8dfgpqpt63                       3.0   \n",
       "3    01avx2fm1t961_processed_0     01avx2fm1t961                       5.0   \n",
       "4    01avx2fm1t961_processed_1     01avx2fm1t961                       5.0   \n",
       "..                         ...               ...                       ...   \n",
       "800  zvkhxd3vp3o51_processed_1     zvkhxd3vp3o51                       9.0   \n",
       "801  zvkhxd3vp3o51_processed_4     zvkhxd3vp3o51                       9.0   \n",
       "802  zvkhxd3vp3o51_processed_5     zvkhxd3vp3o51                       9.0   \n",
       "803  zvkhxd3vp3o51_processed_6     zvkhxd3vp3o51                       9.0   \n",
       "804  zvkhxd3vp3o51_processed_7     zvkhxd3vp3o51                       9.0   \n",
       "\n",
       "     number_of_voices_parent_train     extra_sounds_train  parent_label_train  \\\n",
       "0                           9999.0     clapping, coughing                 0.0   \n",
       "1                           9999.0               clapping                 0.0   \n",
       "2                           9999.0                    NaN                 0.0   \n",
       "3                           9999.0            baby crying                 3.0   \n",
       "4                           9999.0            baby crying                 3.0   \n",
       "..                             ...                    ...                 ...   \n",
       "800                            2.0                  crowd                 2.0   \n",
       "801                            3.0  crowd, kids screaming                 2.0   \n",
       "802                            3.0  crowd, kids screaming                 2.0   \n",
       "803                            3.0  crowd, kids screaming                 2.0   \n",
       "804                            3.0  crowd, kids screaming                 2.0   \n",
       "\n",
       "     segment_label_train  noisy_train    Notes_train  noisy parent_file_val  \\\n",
       "0                    0.0          1.0  Only laughing    1.0   00g8dfgpqpt61   \n",
       "1                    0.0          1.0  Only laughing    1.0   00g8dfgpqpt61   \n",
       "2                    0.0          1.0  Only laughing    1.0   00g8dfgpqpt61   \n",
       "3                    3.0          1.0            NaN    1.0   01avx2fm1t961   \n",
       "4                    2.0          1.0            NaN    1.0   01avx2fm1t961   \n",
       "..                   ...          ...            ...    ...             ...   \n",
       "800                  2.0          0.0            NaN    0.0   zvkhxd3vp3o51   \n",
       "801                  2.0          0.0            NaN    0.0   zvkhxd3vp3o51   \n",
       "802                  2.0          0.0            NaN    0.0   zvkhxd3vp3o51   \n",
       "803                  2.0          0.0            NaN    0.0   zvkhxd3vp3o51   \n",
       "804                  2.0          0.0            NaN    0.0   zvkhxd3vp3o51   \n",
       "\n",
       "     number_of_segments_val  number_of_voices_parent_val  segment_label_val  \\\n",
       "0                       3.0                          NaN                0.0   \n",
       "1                       3.0                          NaN                0.0   \n",
       "2                       3.0                          NaN                0.0   \n",
       "3                       5.0                          NaN                3.0   \n",
       "4                       5.0                          NaN                3.0   \n",
       "..                      ...                          ...                ...   \n",
       "800                     9.0                          NaN                3.0   \n",
       "801                     9.0                          NaN                3.0   \n",
       "802                     9.0                          NaN                2.0   \n",
       "803                     9.0                          NaN                3.0   \n",
       "804                     9.0                          NaN                3.0   \n",
       "\n",
       "     parent_label_val  Noisy extra_sounds_val  Notes_val  \n",
       "0                 0.0    1.0              NaN        NaN  \n",
       "1                 0.0    1.0              NaN        NaN  \n",
       "2                 0.0    1.0              NaN        NaN  \n",
       "3                 3.0    1.0              NaN        NaN  \n",
       "4                 3.0    1.0              NaN        NaN  \n",
       "..                ...    ...              ...        ...  \n",
       "800               3.0    1.0              NaN        NaN  \n",
       "801               3.0    1.0              NaN        NaN  \n",
       "802               3.0    1.0              NaN        NaN  \n",
       "803               3.0    1.0              NaN        NaN  \n",
       "804               3.0    1.0              NaN        NaN  \n",
       "\n",
       "[805 rows x 18 columns]"
      ]
     },
     "execution_count": 272,
     "metadata": {},
     "output_type": "execute_result"
    }
   ],
   "source": [
    "# join \n",
    "df_merged = pd.merge(anno_train,anno_val,on='file_name')#,how='left',suffixes=('_train', '_val'))\n",
    "df_merged"
   ]
  },
  {
   "cell_type": "code",
   "execution_count": 273,
   "id": "30f58c46-93a0-4d1a-8cf4-95717314ba83",
   "metadata": {},
   "outputs": [
    {
     "name": "stdout",
     "output_type": "stream",
     "text": [
      "<class 'pandas.core.frame.DataFrame'>\n",
      "Int64Index: 805 entries, 0 to 804\n",
      "Data columns (total 18 columns):\n",
      " #   Column                         Non-Null Count  Dtype  \n",
      "---  ------                         --------------  -----  \n",
      " 0   file_name                      805 non-null    object \n",
      " 1   parent_file_train              805 non-null    object \n",
      " 2   number_of_segments_train       805 non-null    float64\n",
      " 3   number_of_voices_parent_train  805 non-null    float64\n",
      " 4   extra_sounds_train             351 non-null    object \n",
      " 5   parent_label_train             805 non-null    float64\n",
      " 6   segment_label_train            805 non-null    float64\n",
      " 7   noisy_train                    805 non-null    float64\n",
      " 8   Notes_train                    11 non-null     object \n",
      " 9   noisy                          805 non-null    float64\n",
      " 10  parent_file_val                805 non-null    object \n",
      " 11  number_of_segments_val         805 non-null    float64\n",
      " 12  number_of_voices_parent_val    0 non-null      float64\n",
      " 13  segment_label_val              805 non-null    float64\n",
      " 14  parent_label_val               805 non-null    float64\n",
      " 15  Noisy                          805 non-null    float64\n",
      " 16  extra_sounds_val               39 non-null     object \n",
      " 17  Notes_val                      0 non-null      float64\n",
      "dtypes: float64(12), object(6)\n",
      "memory usage: 119.5+ KB\n"
     ]
    }
   ],
   "source": [
    "# Remove Nan Rows\n",
    "df_merged = df_merged[~(df_merged['segment_label_train'].isna() | df_merged['segment_label_val'].isna())]\n",
    "df_merged.info()"
   ]
  },
  {
   "cell_type": "markdown",
   "id": "c7eaa65d-4ad1-47ee-b6f0-77f2b9dc28f5",
   "metadata": {
    "tags": []
   },
   "source": [
    "#### <b> Match or No Match & Weighted Match <b>\n",
    "#### 100%"
   ]
  },
  {
   "cell_type": "code",
   "execution_count": 276,
   "id": "411d66ea-4dbc-4674-8fca-50f641c5f410",
   "metadata": {},
   "outputs": [
    {
     "name": "stdout",
     "output_type": "stream",
     "text": [
      "100%\n",
      "Segment: \n",
      "Matches: 505\n",
      "Total: 805\n",
      "Segment Unweighted IOE: 62.732919254658384\n",
      "Segment Weighted IOE (Mean Absolute Error): 0.37267080745341613 \n",
      "\n",
      "Parent: \n",
      "Matches: 511\n",
      "Total: 805\n",
      "Parent IOE: 63.47826086956522\n",
      "Parent Weighted IOE (Mean Absolute Error): 0.3652173913043478 \n",
      "\n",
      "Noisy: \n",
      "Matches: 641\n",
      "Total: 805\n",
      "Noisy IOE: 79.62732919254658\n"
     ]
    }
   ],
   "source": [
    "# IOE on segment label\n",
    "print('100%')\n",
    "df_merged['match_s'] = np.where(df_merged[segment_label+'_train'] == df_merged[segment_label+'_val'], 1, 0)\n",
    "df_merged['match_s_diff'] = df_merged[segment_label+'_train'] - df_merged[segment_label+'_val'] \n",
    "df_merged['match_s_diff_abs'] = df_merged['match_s_diff'].abs()\n",
    "print('Segment: ')\n",
    "print('Matches:',df_merged['match_s'].sum())\n",
    "print('Total:',df_merged['match_s'].count())\n",
    "print('Segment Unweighted IOE:', df_merged['match_s'].sum()/df_merged['match_s'].count()*100)\n",
    "print('Segment Weighted IOE (Mean Absolute Error):', df_merged['match_s_diff_abs'].mean(),'\\n')\n",
    "\n",
    "# IOE on parent label\n",
    "df_merged['match_p'] = np.where(df_merged[parent_label+'_train'] == df_merged[parent_label+'_val'], 1, 0)\n",
    "df_merged['match_p_diff'] = df_merged[parent_label+'_train'] - df_merged[parent_label+'_val'] \n",
    "df_merged['match_p_diff_abs'] = df_merged['match_p_diff'].abs()\n",
    "print('Parent: ')\n",
    "print('Matches:',df_merged['match_p'].sum())\n",
    "print('Total:',df_merged['match_p'].count())\n",
    "print('Parent IOE:', df_merged['match_p'].sum()/df_merged['match_p'].count()*100)\n",
    "print('Parent Weighted IOE (Mean Absolute Error):', df_merged['match_p_diff_abs'].mean(),'\\n')\n",
    "\n",
    "# IOE on Noise\n",
    "df_merged['match_n'] = np.where(df_merged['noisy'+'_train'] == df_merged['Noisy'], 1, 0)\n",
    "df_merged['match_n_diff'] = df_merged['noisy'+'_train'] - df_merged['Noisy'] \n",
    "df_merged['match_n_diff_abs'] = df_merged['match_n_diff'].abs()\n",
    "print('Noisy: ')\n",
    "print('Matches:',df_merged['match_n'].sum())\n",
    "print('Total:',df_merged['match_n'].count())\n",
    "print('Noisy IOE:', df_merged['match_n'].sum()/df_merged['match_n'].count()*100)"
   ]
  },
  {
   "cell_type": "markdown",
   "id": "84a05a12-8278-418e-99e3-50d5897af55d",
   "metadata": {},
   "source": [
    "#### Distribution of train - val difference values (error)\n",
    "##### Segment"
   ]
  },
  {
   "cell_type": "code",
   "execution_count": 277,
   "id": "6905a177-5189-4dad-b2c6-1ee496e3975e",
   "metadata": {},
   "outputs": [
    {
     "data": {
      "text/html": [
       "<div>\n",
       "<style scoped>\n",
       "    .dataframe tbody tr th:only-of-type {\n",
       "        vertical-align: middle;\n",
       "    }\n",
       "\n",
       "    .dataframe tbody tr th {\n",
       "        vertical-align: top;\n",
       "    }\n",
       "\n",
       "    .dataframe thead th {\n",
       "        text-align: right;\n",
       "    }\n",
       "</style>\n",
       "<table border=\"1\" class=\"dataframe\">\n",
       "  <thead>\n",
       "    <tr style=\"text-align: right;\">\n",
       "      <th></th>\n",
       "      <th>match_s_diff</th>\n",
       "      <th>match_s</th>\n",
       "    </tr>\n",
       "  </thead>\n",
       "  <tbody>\n",
       "    <tr>\n",
       "      <th>0</th>\n",
       "      <td>-1.0</td>\n",
       "      <td>180</td>\n",
       "    </tr>\n",
       "    <tr>\n",
       "      <th>1</th>\n",
       "      <td>0.0</td>\n",
       "      <td>505</td>\n",
       "    </tr>\n",
       "    <tr>\n",
       "      <th>2</th>\n",
       "      <td>1.0</td>\n",
       "      <td>120</td>\n",
       "    </tr>\n",
       "  </tbody>\n",
       "</table>\n",
       "</div>"
      ],
      "text/plain": [
       "   match_s_diff  match_s\n",
       "0          -1.0      180\n",
       "1           0.0      505\n",
       "2           1.0      120"
      ]
     },
     "metadata": {},
     "output_type": "display_data"
    },
    {
     "data": {
      "text/plain": [
       "<seaborn.axisgrid.FacetGrid at 0x7ff6c2ffb190>"
      ]
     },
     "metadata": {},
     "output_type": "display_data"
    },
    {
     "data": {
      "image/png": "[encoded data removed]",
      "text/plain": [
       "<Figure size 360x360 with 1 Axes>"
      ]
     },
     "metadata": {
      "needs_background": "light"
     },
     "output_type": "display_data"
    }
   ],
   "source": [
    "# train - val difference histogram\n",
    "temp = df_merged.groupby('match_s_diff')['match_s'].count().reset_index()\n",
    "display(temp)\n",
    "display (sns.displot(df_merged['match_s_diff']))"
   ]
  },
  {
   "cell_type": "markdown",
   "id": "8b31b661-154a-4d1e-81de-b913737a9a9b",
   "metadata": {},
   "source": [
    "##### Parent"
   ]
  },
  {
   "cell_type": "code",
   "execution_count": 278,
   "id": "60e275e9-93d6-4d07-b2d5-173e31019bdd",
   "metadata": {},
   "outputs": [
    {
     "data": {
      "text/html": [
       "<div>\n",
       "<style scoped>\n",
       "    .dataframe tbody tr th:only-of-type {\n",
       "        vertical-align: middle;\n",
       "    }\n",
       "\n",
       "    .dataframe tbody tr th {\n",
       "        vertical-align: top;\n",
       "    }\n",
       "\n",
       "    .dataframe thead th {\n",
       "        text-align: right;\n",
       "    }\n",
       "</style>\n",
       "<table border=\"1\" class=\"dataframe\">\n",
       "  <thead>\n",
       "    <tr style=\"text-align: right;\">\n",
       "      <th></th>\n",
       "      <th>match_p_diff</th>\n",
       "      <th>match_p</th>\n",
       "    </tr>\n",
       "  </thead>\n",
       "  <tbody>\n",
       "    <tr>\n",
       "      <th>0</th>\n",
       "      <td>-1.0</td>\n",
       "      <td>231</td>\n",
       "    </tr>\n",
       "    <tr>\n",
       "      <th>1</th>\n",
       "      <td>0.0</td>\n",
       "      <td>511</td>\n",
       "    </tr>\n",
       "    <tr>\n",
       "      <th>2</th>\n",
       "      <td>1.0</td>\n",
       "      <td>63</td>\n",
       "    </tr>\n",
       "  </tbody>\n",
       "</table>\n",
       "</div>"
      ],
      "text/plain": [
       "   match_p_diff  match_p\n",
       "0          -1.0      231\n",
       "1           0.0      511\n",
       "2           1.0       63"
      ]
     },
     "metadata": {},
     "output_type": "display_data"
    },
    {
     "data": {
      "text/plain": [
       "<seaborn.axisgrid.FacetGrid at 0x7ff6b07ed580>"
      ]
     },
     "metadata": {},
     "output_type": "display_data"
    },
    {
     "data": {
      "image/png": "[encoded data removed]",
      "text/plain": [
       "<Figure size 360x360 with 1 Axes>"
      ]
     },
     "metadata": {
      "needs_background": "light"
     },
     "output_type": "display_data"
    }
   ],
   "source": [
    "temp = df_merged.groupby('match_p_diff')['match_p'].count().reset_index()\n",
    "display(temp)\n",
    "display (sns.displot(df_merged['match_p_diff']))"
   ]
  },
  {
   "cell_type": "markdown",
   "id": "dcbe1c6f-cba4-4de3-bdc5-479e353357c3",
   "metadata": {},
   "source": [
    "##### Noisy"
   ]
  },
  {
   "cell_type": "code",
   "execution_count": 279,
   "id": "65994f3b-4bd7-4962-b51d-0c948262d261",
   "metadata": {},
   "outputs": [
    {
     "data": {
      "text/html": [
       "<div>\n",
       "<style scoped>\n",
       "    .dataframe tbody tr th:only-of-type {\n",
       "        vertical-align: middle;\n",
       "    }\n",
       "\n",
       "    .dataframe tbody tr th {\n",
       "        vertical-align: top;\n",
       "    }\n",
       "\n",
       "    .dataframe thead th {\n",
       "        text-align: right;\n",
       "    }\n",
       "</style>\n",
       "<table border=\"1\" class=\"dataframe\">\n",
       "  <thead>\n",
       "    <tr style=\"text-align: right;\">\n",
       "      <th></th>\n",
       "      <th>match_n_diff</th>\n",
       "      <th>match_n</th>\n",
       "    </tr>\n",
       "  </thead>\n",
       "  <tbody>\n",
       "    <tr>\n",
       "      <th>0</th>\n",
       "      <td>-1.0</td>\n",
       "      <td>140</td>\n",
       "    </tr>\n",
       "    <tr>\n",
       "      <th>1</th>\n",
       "      <td>0.0</td>\n",
       "      <td>641</td>\n",
       "    </tr>\n",
       "    <tr>\n",
       "      <th>2</th>\n",
       "      <td>1.0</td>\n",
       "      <td>24</td>\n",
       "    </tr>\n",
       "  </tbody>\n",
       "</table>\n",
       "</div>"
      ],
      "text/plain": [
       "   match_n_diff  match_n\n",
       "0          -1.0      140\n",
       "1           0.0      641\n",
       "2           1.0       24"
      ]
     },
     "metadata": {},
     "output_type": "display_data"
    },
    {
     "data": {
      "text/plain": [
       "<seaborn.axisgrid.FacetGrid at 0x7ff6c2ff6910>"
      ]
     },
     "metadata": {},
     "output_type": "display_data"
    },
    {
     "data": {
      "image/png": "[encoded data removed]",
      "text/plain": [
       "<Figure size 360x360 with 1 Axes>"
      ]
     },
     "metadata": {
      "needs_background": "light"
     },
     "output_type": "display_data"
    }
   ],
   "source": [
    "temp = df_merged.groupby('match_n_diff')['match_n'].count().reset_index()\n",
    "display(temp)\n",
    "display (sns.displot(df_merged['match_n_diff']))"
   ]
  },
  {
   "cell_type": "markdown",
   "id": "a8c125a7-eac9-48cf-b506-1fba5501238f",
   "metadata": {
    "tags": []
   },
   "source": [
    "#### <b> Match or No Match <b>\n",
    "#### 50%"
   ]
  },
  {
   "cell_type": "code",
   "execution_count": 280,
   "id": "a3e44603-9b42-437a-85a7-6e1f5ea2895a",
   "metadata": {},
   "outputs": [
    {
     "name": "stdout",
     "output_type": "stream",
     "text": [
      "50%\n",
      "Segment: \n",
      "Matches: 257\n",
      "Total: 402\n",
      "Segment IOE: 63.93034825870647 \n",
      "\n",
      "Parent: \n",
      "Matches: 250\n",
      "Total: 402\n",
      "Parent IOE: 62.189054726368155 \n",
      "\n",
      "Noisy: \n",
      "Matches: 324\n",
      "Total: 402\n",
      "Noisy IOE: 80.59701492537313\n"
     ]
    }
   ],
   "source": [
    "# IOE on segment label\n",
    "print('50%')\n",
    "df_sample = df_merged.sample(frac=0.50)\n",
    "print('Segment: ')\n",
    "print('Matches:',df_sample['match_s'].sum())\n",
    "print('Total:',df_sample['match_s'].count())\n",
    "print('Segment IOE:', df_sample['match_s'].sum()/df_sample['match_s'].count()*100,'\\n')\n",
    "\n",
    "# IOE on parent label\n",
    "print('Parent: ')\n",
    "print('Matches:',df_sample['match_p'].sum())\n",
    "print('Total:',df_sample['match_p'].count())\n",
    "print('Parent IOE:', df_sample['match_p'].sum()/df_sample['match_p'].count()*100,'\\n')\n",
    "\n",
    "# IOE on Noise\n",
    "print('Noisy: ')\n",
    "print('Matches:',df_sample['match_n'].sum())\n",
    "print('Total:',df_sample['match_n'].count())\n",
    "print('Noisy IOE:', df_sample['match_n'].sum()/df_sample['match_n'].count()*100)"
   ]
  },
  {
   "cell_type": "markdown",
   "id": "754f593d-ed99-42c8-96e3-54c720ed53f4",
   "metadata": {
    "tags": []
   },
   "source": [
    "#### <b>Cohen's Kappa<b>"
   ]
  },
  {
   "cell_type": "code",
   "execution_count": 282,
   "id": "38a96f73-a43e-4bb2-ae62-ab94987a2b59",
   "metadata": {},
   "outputs": [
    {
     "name": "stdout",
     "output_type": "stream",
     "text": [
      "Cohen k (Segment): 0.43361976772547317\n",
      "Cohen k (Parent): 0.5128412550404782\n",
      "Cohen k (Noisy): 0.35359094381010203\n"
     ]
    }
   ],
   "source": [
    "# Calculate Cohen's k\n",
    "print('Cohen k (Segment):',cohen_kappa_score(df_merged[segment_label+'_train'], df_merged[segment_label+'_val']))\n",
    "print('Cohen k (Parent):',cohen_kappa_score(df_merged[parent_label+'_train'], df_merged[parent_label+'_val']))\n",
    "print('Cohen k (Noisy):',cohen_kappa_score(df_merged['noisy'+'_train'], df_merged['Noisy']))"
   ]
  },
  {
   "cell_type": "markdown",
   "id": "6a9b0072-a7e2-4fc8-89ca-8eaa32eb37d7",
   "metadata": {
    "tags": []
   },
   "source": [
    "## E"
   ]
  },
  {
   "cell_type": "code",
   "execution_count": 155,
   "id": "ef60facf-df89-40e2-9dfa-a0bf5df4a142",
   "metadata": {},
   "outputs": [],
   "source": [
    "# # Read Data\n",
    "# anno_train = pd.read_excel(file_path+'labelled-reddit-2021-08-12-E-VP.xlsx')\n",
    "# anno_val = pd.read_excel(file_path+'labelled-reddit-2021-08-12-E-PK.xlsx')"
   ]
  },
  {
   "cell_type": "code",
   "execution_count": 284,
   "id": "c0836e61-e4de-4fe8-968d-f9f465416b29",
   "metadata": {},
   "outputs": [],
   "source": [
    "# Read Data\n",
    "anno_train = pd.read_csv(file_path+'E-cleaned.csv')\n",
    "anno_val = pd.read_csv(file_path+'E-cleaned-val.csv')"
   ]
  },
  {
   "cell_type": "code",
   "execution_count": 285,
   "id": "52db1a7c-5b51-429b-b40b-8e99936a517a",
   "metadata": {},
   "outputs": [
    {
     "data": {
      "text/html": [
       "<div>\n",
       "<style scoped>\n",
       "    .dataframe tbody tr th:only-of-type {\n",
       "        vertical-align: middle;\n",
       "    }\n",
       "\n",
       "    .dataframe tbody tr th {\n",
       "        vertical-align: top;\n",
       "    }\n",
       "\n",
       "    .dataframe thead th {\n",
       "        text-align: right;\n",
       "    }\n",
       "</style>\n",
       "<table border=\"1\" class=\"dataframe\">\n",
       "  <thead>\n",
       "    <tr style=\"text-align: right;\">\n",
       "      <th></th>\n",
       "      <th>file_name</th>\n",
       "      <th>parent_file_train</th>\n",
       "      <th>number_of_segments_train</th>\n",
       "      <th>number_of_voices_parent_train</th>\n",
       "      <th>segment_label_train</th>\n",
       "      <th>extra_sounds_train</th>\n",
       "      <th>parent_label_train</th>\n",
       "      <th>notes_train</th>\n",
       "      <th>noisy_train</th>\n",
       "    </tr>\n",
       "  </thead>\n",
       "  <tbody>\n",
       "    <tr>\n",
       "      <th>0</th>\n",
       "      <td>hqztlcsmm1k51_processed_0</td>\n",
       "      <td>hqztlcsmm1k51</td>\n",
       "      <td>3.0</td>\n",
       "      <td>1.0</td>\n",
       "      <td>0.0</td>\n",
       "      <td>Clicking</td>\n",
       "      <td>0.0</td>\n",
       "      <td>The man uses suggestive language, but there is...</td>\n",
       "      <td>0.0</td>\n",
       "    </tr>\n",
       "  </tbody>\n",
       "</table>\n",
       "</div>"
      ],
      "text/plain": [
       "                   file_name parent_file_train  number_of_segments_train  \\\n",
       "0  hqztlcsmm1k51_processed_0     hqztlcsmm1k51                       3.0   \n",
       "\n",
       "   number_of_voices_parent_train  segment_label_train extra_sounds_train  \\\n",
       "0                            1.0                  0.0           Clicking   \n",
       "\n",
       "   parent_label_train                                        notes_train  \\\n",
       "0                 0.0  The man uses suggestive language, but there is...   \n",
       "\n",
       "   noisy_train  \n",
       "0          0.0  "
      ]
     },
     "metadata": {},
     "output_type": "display_data"
    },
    {
     "name": "stdout",
     "output_type": "stream",
     "text": [
      "Index(['file_name', 'parent_file_train', 'number_of_segments_train',\n",
      "       'number_of_voices_parent_train', 'segment_label_train',\n",
      "       'extra_sounds_train', 'parent_label_train', 'notes_train',\n",
      "       'noisy_train'],\n",
      "      dtype='object')\n"
     ]
    }
   ],
   "source": [
    "display(anno_train.head(1))\n",
    "print(anno_train.columns)"
   ]
  },
  {
   "cell_type": "code",
   "execution_count": 286,
   "id": "f2c76adb-b7a0-492a-8962-4a3fd827ca8d",
   "metadata": {},
   "outputs": [
    {
     "data": {
      "text/html": [
       "<div>\n",
       "<style scoped>\n",
       "    .dataframe tbody tr th:only-of-type {\n",
       "        vertical-align: middle;\n",
       "    }\n",
       "\n",
       "    .dataframe tbody tr th {\n",
       "        vertical-align: top;\n",
       "    }\n",
       "\n",
       "    .dataframe thead th {\n",
       "        text-align: right;\n",
       "    }\n",
       "</style>\n",
       "<table border=\"1\" class=\"dataframe\">\n",
       "  <thead>\n",
       "    <tr style=\"text-align: right;\">\n",
       "      <th></th>\n",
       "      <th>file_name</th>\n",
       "      <th>parent_file_val</th>\n",
       "      <th>number_of_segments_val</th>\n",
       "      <th>noisy_val</th>\n",
       "      <th>number_of_voices_parent_val</th>\n",
       "      <th>extra_sounds_val</th>\n",
       "      <th>parent_label_val</th>\n",
       "      <th>segment_label_val</th>\n",
       "      <th>notes_val</th>\n",
       "    </tr>\n",
       "  </thead>\n",
       "  <tbody>\n",
       "    <tr>\n",
       "      <th>0</th>\n",
       "      <td>hqztlcsmm1k51_processed_0</td>\n",
       "      <td>hqztlcsmm1k51</td>\n",
       "      <td>3.0</td>\n",
       "      <td>0.0</td>\n",
       "      <td>1.0</td>\n",
       "      <td>NaN</td>\n",
       "      <td>0.0</td>\n",
       "      <td>0.0</td>\n",
       "      <td>NaN</td>\n",
       "    </tr>\n",
       "  </tbody>\n",
       "</table>\n",
       "</div>"
      ],
      "text/plain": [
       "                   file_name parent_file_val  number_of_segments_val  \\\n",
       "0  hqztlcsmm1k51_processed_0   hqztlcsmm1k51                     3.0   \n",
       "\n",
       "   noisy_val  number_of_voices_parent_val extra_sounds_val  parent_label_val  \\\n",
       "0        0.0                          1.0              NaN               0.0   \n",
       "\n",
       "   segment_label_val notes_val  \n",
       "0                0.0       NaN  "
      ]
     },
     "metadata": {},
     "output_type": "display_data"
    },
    {
     "name": "stdout",
     "output_type": "stream",
     "text": [
      "Index(['file_name', 'parent_file_val', 'number_of_segments_val', 'noisy_val',\n",
      "       'number_of_voices_parent_val', 'extra_sounds_val', 'parent_label_val',\n",
      "       'segment_label_val', 'notes_val'],\n",
      "      dtype='object')\n"
     ]
    }
   ],
   "source": [
    "display(anno_val.head(1))\n",
    "print(anno_val.columns)"
   ]
  },
  {
   "cell_type": "code",
   "execution_count": 287,
   "id": "e59705ac-04ce-4745-bf38-1cf906e0a32f",
   "metadata": {},
   "outputs": [],
   "source": [
    "# # Correct val file column names\n",
    "# # Run for: E-VP\n",
    "# anno_train.columns=['File Name', 'Parent file', 'Number of Segments',\n",
    "#        'Number of voices parent', 'Segment label', 'extra sounds',\n",
    "#        'Parent label', 'Notes', 'Noisy']\n",
    "# anno_train.head(1)"
   ]
  },
  {
   "cell_type": "code",
   "execution_count": 288,
   "id": "6e7ddbc8-8a89-4c1d-aa88-4059df864d0a",
   "metadata": {},
   "outputs": [
    {
     "name": "stdout",
     "output_type": "stream",
     "text": [
      "<class 'pandas.core.frame.DataFrame'>\n",
      "RangeIndex: 731 entries, 0 to 730\n",
      "Data columns (total 9 columns):\n",
      " #   Column                         Non-Null Count  Dtype  \n",
      "---  ------                         --------------  -----  \n",
      " 0   file_name                      731 non-null    object \n",
      " 1   parent_file_train              731 non-null    object \n",
      " 2   number_of_segments_train       731 non-null    float64\n",
      " 3   number_of_voices_parent_train  731 non-null    float64\n",
      " 4   segment_label_train            731 non-null    float64\n",
      " 5   extra_sounds_train             548 non-null    object \n",
      " 6   parent_label_train             731 non-null    float64\n",
      " 7   notes_train                    731 non-null    object \n",
      " 8   noisy_train                    731 non-null    float64\n",
      "dtypes: float64(5), object(4)\n",
      "memory usage: 51.5+ KB\n"
     ]
    }
   ],
   "source": [
    "# Check for nulls\n",
    "anno_train.info()"
   ]
  },
  {
   "cell_type": "code",
   "execution_count": 289,
   "id": "585f5f13-a4be-497c-8564-e0ef0066ccd6",
   "metadata": {},
   "outputs": [
    {
     "name": "stdout",
     "output_type": "stream",
     "text": [
      "<class 'pandas.core.frame.DataFrame'>\n",
      "RangeIndex: 731 entries, 0 to 730\n",
      "Data columns (total 9 columns):\n",
      " #   Column                       Non-Null Count  Dtype  \n",
      "---  ------                       --------------  -----  \n",
      " 0   file_name                    731 non-null    object \n",
      " 1   parent_file_val              731 non-null    object \n",
      " 2   number_of_segments_val       731 non-null    float64\n",
      " 3   noisy_val                    731 non-null    float64\n",
      " 4   number_of_voices_parent_val  731 non-null    float64\n",
      " 5   extra_sounds_val             342 non-null    object \n",
      " 6   parent_label_val             731 non-null    float64\n",
      " 7   segment_label_val            731 non-null    float64\n",
      " 8   notes_val                    4 non-null      object \n",
      "dtypes: float64(5), object(4)\n",
      "memory usage: 51.5+ KB\n"
     ]
    }
   ],
   "source": [
    "# Check for nulls\n",
    "anno_val.info()"
   ]
  },
  {
   "cell_type": "code",
   "execution_count": 291,
   "id": "a31435fb-d0f8-45f6-98b7-07cd2b5c444b",
   "metadata": {},
   "outputs": [],
   "source": [
    "# segment_label = 'Segment label'\n",
    "# parent_label = 'Parent label'\n",
    "# file_name= 'File Name'\n",
    "\n",
    "anno_train[file_name] = anno_train['file_name'].str.strip()\n",
    "anno_val[file_name] = anno_val['file_name'].str.strip()"
   ]
  },
  {
   "cell_type": "code",
   "execution_count": 292,
   "id": "30501ecd-e320-42c1-9e6f-028149634d32",
   "metadata": {},
   "outputs": [
    {
     "data": {
      "text/html": [
       "<div>\n",
       "<style scoped>\n",
       "    .dataframe tbody tr th:only-of-type {\n",
       "        vertical-align: middle;\n",
       "    }\n",
       "\n",
       "    .dataframe tbody tr th {\n",
       "        vertical-align: top;\n",
       "    }\n",
       "\n",
       "    .dataframe thead th {\n",
       "        text-align: right;\n",
       "    }\n",
       "</style>\n",
       "<table border=\"1\" class=\"dataframe\">\n",
       "  <thead>\n",
       "    <tr style=\"text-align: right;\">\n",
       "      <th></th>\n",
       "      <th>file_name_x</th>\n",
       "      <th>parent_file_train</th>\n",
       "      <th>number_of_segments_train</th>\n",
       "      <th>number_of_voices_parent_train</th>\n",
       "      <th>segment_label_train</th>\n",
       "      <th>extra_sounds_train</th>\n",
       "      <th>parent_label_train</th>\n",
       "      <th>notes_train</th>\n",
       "      <th>noisy_train</th>\n",
       "      <th>File Name</th>\n",
       "      <th>file_name_y</th>\n",
       "      <th>parent_file_val</th>\n",
       "      <th>number_of_segments_val</th>\n",
       "      <th>noisy_val</th>\n",
       "      <th>number_of_voices_parent_val</th>\n",
       "      <th>extra_sounds_val</th>\n",
       "      <th>parent_label_val</th>\n",
       "      <th>segment_label_val</th>\n",
       "      <th>notes_val</th>\n",
       "    </tr>\n",
       "  </thead>\n",
       "  <tbody>\n",
       "    <tr>\n",
       "      <th>0</th>\n",
       "      <td>hqztlcsmm1k51_processed_0</td>\n",
       "      <td>hqztlcsmm1k51</td>\n",
       "      <td>3.0</td>\n",
       "      <td>1.0</td>\n",
       "      <td>0.0</td>\n",
       "      <td>Clicking</td>\n",
       "      <td>0.0</td>\n",
       "      <td>The man uses suggestive language, but there is...</td>\n",
       "      <td>0.0</td>\n",
       "      <td>hqztlcsmm1k51_processed_0</td>\n",
       "      <td>hqztlcsmm1k51_processed_0</td>\n",
       "      <td>hqztlcsmm1k51</td>\n",
       "      <td>3.0</td>\n",
       "      <td>0.0</td>\n",
       "      <td>1.0</td>\n",
       "      <td>NaN</td>\n",
       "      <td>0.0</td>\n",
       "      <td>0.0</td>\n",
       "      <td>NaN</td>\n",
       "    </tr>\n",
       "    <tr>\n",
       "      <th>1</th>\n",
       "      <td>hqztlcsmm1k51_processed_1</td>\n",
       "      <td>hqztlcsmm1k51</td>\n",
       "      <td>3.0</td>\n",
       "      <td>1.0</td>\n",
       "      <td>0.0</td>\n",
       "      <td>Clicking</td>\n",
       "      <td>0.0</td>\n",
       "      <td>There is no aggression heard in the audio file</td>\n",
       "      <td>0.0</td>\n",
       "      <td>hqztlcsmm1k51_processed_1</td>\n",
       "      <td>hqztlcsmm1k51_processed_1</td>\n",
       "      <td>hqztlcsmm1k51</td>\n",
       "      <td>3.0</td>\n",
       "      <td>0.0</td>\n",
       "      <td>1.0</td>\n",
       "      <td>NaN</td>\n",
       "      <td>0.0</td>\n",
       "      <td>0.0</td>\n",
       "      <td>NaN</td>\n",
       "    </tr>\n",
       "    <tr>\n",
       "      <th>2</th>\n",
       "      <td>hqztlcsmm1k51_processed_2</td>\n",
       "      <td>hqztlcsmm1k51</td>\n",
       "      <td>3.0</td>\n",
       "      <td>1.0</td>\n",
       "      <td>0.0</td>\n",
       "      <td>NaN</td>\n",
       "      <td>0.0</td>\n",
       "      <td>There is no aggression heard in the audio file</td>\n",
       "      <td>0.0</td>\n",
       "      <td>hqztlcsmm1k51_processed_2</td>\n",
       "      <td>hqztlcsmm1k51_processed_2</td>\n",
       "      <td>hqztlcsmm1k51</td>\n",
       "      <td>3.0</td>\n",
       "      <td>0.0</td>\n",
       "      <td>1.0</td>\n",
       "      <td>NaN</td>\n",
       "      <td>0.0</td>\n",
       "      <td>0.0</td>\n",
       "      <td>NaN</td>\n",
       "    </tr>\n",
       "    <tr>\n",
       "      <th>3</th>\n",
       "      <td>hr8n7irrnqk51_processed_0</td>\n",
       "      <td>hr8n7irrnqk51</td>\n",
       "      <td>11.0</td>\n",
       "      <td>2.0</td>\n",
       "      <td>0.0</td>\n",
       "      <td>NaN</td>\n",
       "      <td>1.0</td>\n",
       "      <td>There is no aggression heard in the audio file</td>\n",
       "      <td>0.0</td>\n",
       "      <td>hr8n7irrnqk51_processed_0</td>\n",
       "      <td>hr8n7irrnqk51_processed_0</td>\n",
       "      <td>hr8n7irrnqk51</td>\n",
       "      <td>11.0</td>\n",
       "      <td>0.0</td>\n",
       "      <td>2.0</td>\n",
       "      <td>NaN</td>\n",
       "      <td>0.0</td>\n",
       "      <td>0.0</td>\n",
       "      <td>NaN</td>\n",
       "    </tr>\n",
       "    <tr>\n",
       "      <th>4</th>\n",
       "      <td>hr8n7irrnqk51_processed_1</td>\n",
       "      <td>hr8n7irrnqk51</td>\n",
       "      <td>11.0</td>\n",
       "      <td>2.0</td>\n",
       "      <td>0.0</td>\n",
       "      <td>NaN</td>\n",
       "      <td>1.0</td>\n",
       "      <td>There is no aggression heard in the audio file</td>\n",
       "      <td>0.0</td>\n",
       "      <td>hr8n7irrnqk51_processed_1</td>\n",
       "      <td>hr8n7irrnqk51_processed_1</td>\n",
       "      <td>hr8n7irrnqk51</td>\n",
       "      <td>11.0</td>\n",
       "      <td>0.0</td>\n",
       "      <td>1.0</td>\n",
       "      <td>NaN</td>\n",
       "      <td>0.0</td>\n",
       "      <td>0.0</td>\n",
       "      <td>NaN</td>\n",
       "    </tr>\n",
       "    <tr>\n",
       "      <th>...</th>\n",
       "      <td>...</td>\n",
       "      <td>...</td>\n",
       "      <td>...</td>\n",
       "      <td>...</td>\n",
       "      <td>...</td>\n",
       "      <td>...</td>\n",
       "      <td>...</td>\n",
       "      <td>...</td>\n",
       "      <td>...</td>\n",
       "      <td>...</td>\n",
       "      <td>...</td>\n",
       "      <td>...</td>\n",
       "      <td>...</td>\n",
       "      <td>...</td>\n",
       "      <td>...</td>\n",
       "      <td>...</td>\n",
       "      <td>...</td>\n",
       "      <td>...</td>\n",
       "      <td>...</td>\n",
       "    </tr>\n",
       "    <tr>\n",
       "      <th>726</th>\n",
       "      <td>lng2m9l4j2w61_processed_1</td>\n",
       "      <td>lng2m9l4j2w61</td>\n",
       "      <td>6.0</td>\n",
       "      <td>2.0</td>\n",
       "      <td>0.0</td>\n",
       "      <td>NaN</td>\n",
       "      <td>0.0</td>\n",
       "      <td>There is no aggression heard in the audio file</td>\n",
       "      <td>0.0</td>\n",
       "      <td>lng2m9l4j2w61_processed_1</td>\n",
       "      <td>lng2m9l4j2w61_processed_1</td>\n",
       "      <td>lng2m9l4j2w61</td>\n",
       "      <td>6.0</td>\n",
       "      <td>0.0</td>\n",
       "      <td>1.0</td>\n",
       "      <td>NaN</td>\n",
       "      <td>0.0</td>\n",
       "      <td>0.0</td>\n",
       "      <td>NaN</td>\n",
       "    </tr>\n",
       "    <tr>\n",
       "      <th>727</th>\n",
       "      <td>lng2m9l4j2w61_processed_2</td>\n",
       "      <td>lng2m9l4j2w61</td>\n",
       "      <td>6.0</td>\n",
       "      <td>2.0</td>\n",
       "      <td>0.0</td>\n",
       "      <td>NaN</td>\n",
       "      <td>0.0</td>\n",
       "      <td>There is no aggression heard in the audio file</td>\n",
       "      <td>0.0</td>\n",
       "      <td>lng2m9l4j2w61_processed_2</td>\n",
       "      <td>lng2m9l4j2w61_processed_2</td>\n",
       "      <td>lng2m9l4j2w61</td>\n",
       "      <td>6.0</td>\n",
       "      <td>0.0</td>\n",
       "      <td>2.0</td>\n",
       "      <td>NaN</td>\n",
       "      <td>0.0</td>\n",
       "      <td>0.0</td>\n",
       "      <td>NaN</td>\n",
       "    </tr>\n",
       "    <tr>\n",
       "      <th>728</th>\n",
       "      <td>lng2m9l4j2w61_processed_3</td>\n",
       "      <td>lng2m9l4j2w61</td>\n",
       "      <td>6.0</td>\n",
       "      <td>2.0</td>\n",
       "      <td>0.0</td>\n",
       "      <td>NaN</td>\n",
       "      <td>0.0</td>\n",
       "      <td>There is no aggression heard in the audio file</td>\n",
       "      <td>0.0</td>\n",
       "      <td>lng2m9l4j2w61_processed_3</td>\n",
       "      <td>lng2m9l4j2w61_processed_3</td>\n",
       "      <td>lng2m9l4j2w61</td>\n",
       "      <td>6.0</td>\n",
       "      <td>0.0</td>\n",
       "      <td>2.0</td>\n",
       "      <td>NaN</td>\n",
       "      <td>0.0</td>\n",
       "      <td>0.0</td>\n",
       "      <td>NaN</td>\n",
       "    </tr>\n",
       "    <tr>\n",
       "      <th>729</th>\n",
       "      <td>lng2m9l4j2w61_processed_4</td>\n",
       "      <td>lng2m9l4j2w61</td>\n",
       "      <td>6.0</td>\n",
       "      <td>2.0</td>\n",
       "      <td>0.0</td>\n",
       "      <td>NaN</td>\n",
       "      <td>0.0</td>\n",
       "      <td>There is no aggression heard in the audio file</td>\n",
       "      <td>0.0</td>\n",
       "      <td>lng2m9l4j2w61_processed_4</td>\n",
       "      <td>lng2m9l4j2w61_processed_4</td>\n",
       "      <td>lng2m9l4j2w61</td>\n",
       "      <td>6.0</td>\n",
       "      <td>0.0</td>\n",
       "      <td>2.0</td>\n",
       "      <td>NaN</td>\n",
       "      <td>0.0</td>\n",
       "      <td>0.0</td>\n",
       "      <td>NaN</td>\n",
       "    </tr>\n",
       "    <tr>\n",
       "      <th>730</th>\n",
       "      <td>lng2m9l4j2w61_processed_5</td>\n",
       "      <td>lng2m9l4j2w61</td>\n",
       "      <td>6.0</td>\n",
       "      <td>2.0</td>\n",
       "      <td>0.0</td>\n",
       "      <td>NaN</td>\n",
       "      <td>0.0</td>\n",
       "      <td>There is no aggression heard in the audio file</td>\n",
       "      <td>0.0</td>\n",
       "      <td>lng2m9l4j2w61_processed_5</td>\n",
       "      <td>lng2m9l4j2w61_processed_5</td>\n",
       "      <td>lng2m9l4j2w61</td>\n",
       "      <td>6.0</td>\n",
       "      <td>0.0</td>\n",
       "      <td>1.0</td>\n",
       "      <td>NaN</td>\n",
       "      <td>0.0</td>\n",
       "      <td>0.0</td>\n",
       "      <td>NaN</td>\n",
       "    </tr>\n",
       "  </tbody>\n",
       "</table>\n",
       "<p>731 rows × 19 columns</p>\n",
       "</div>"
      ],
      "text/plain": [
       "                   file_name_x parent_file_train  number_of_segments_train  \\\n",
       "0    hqztlcsmm1k51_processed_0     hqztlcsmm1k51                       3.0   \n",
       "1    hqztlcsmm1k51_processed_1     hqztlcsmm1k51                       3.0   \n",
       "2    hqztlcsmm1k51_processed_2     hqztlcsmm1k51                       3.0   \n",
       "3    hr8n7irrnqk51_processed_0     hr8n7irrnqk51                      11.0   \n",
       "4    hr8n7irrnqk51_processed_1     hr8n7irrnqk51                      11.0   \n",
       "..                         ...               ...                       ...   \n",
       "726  lng2m9l4j2w61_processed_1     lng2m9l4j2w61                       6.0   \n",
       "727  lng2m9l4j2w61_processed_2     lng2m9l4j2w61                       6.0   \n",
       "728  lng2m9l4j2w61_processed_3     lng2m9l4j2w61                       6.0   \n",
       "729  lng2m9l4j2w61_processed_4     lng2m9l4j2w61                       6.0   \n",
       "730  lng2m9l4j2w61_processed_5     lng2m9l4j2w61                       6.0   \n",
       "\n",
       "     number_of_voices_parent_train  segment_label_train extra_sounds_train  \\\n",
       "0                              1.0                  0.0           Clicking   \n",
       "1                              1.0                  0.0           Clicking   \n",
       "2                              1.0                  0.0                NaN   \n",
       "3                              2.0                  0.0                NaN   \n",
       "4                              2.0                  0.0                NaN   \n",
       "..                             ...                  ...                ...   \n",
       "726                            2.0                  0.0                NaN   \n",
       "727                            2.0                  0.0                NaN   \n",
       "728                            2.0                  0.0                NaN   \n",
       "729                            2.0                  0.0                NaN   \n",
       "730                            2.0                  0.0                NaN   \n",
       "\n",
       "     parent_label_train                                        notes_train  \\\n",
       "0                   0.0  The man uses suggestive language, but there is...   \n",
       "1                   0.0     There is no aggression heard in the audio file   \n",
       "2                   0.0     There is no aggression heard in the audio file   \n",
       "3                   1.0     There is no aggression heard in the audio file   \n",
       "4                   1.0     There is no aggression heard in the audio file   \n",
       "..                  ...                                                ...   \n",
       "726                 0.0     There is no aggression heard in the audio file   \n",
       "727                 0.0     There is no aggression heard in the audio file   \n",
       "728                 0.0     There is no aggression heard in the audio file   \n",
       "729                 0.0     There is no aggression heard in the audio file   \n",
       "730                 0.0     There is no aggression heard in the audio file   \n",
       "\n",
       "     noisy_train                  File Name                file_name_y  \\\n",
       "0            0.0  hqztlcsmm1k51_processed_0  hqztlcsmm1k51_processed_0   \n",
       "1            0.0  hqztlcsmm1k51_processed_1  hqztlcsmm1k51_processed_1   \n",
       "2            0.0  hqztlcsmm1k51_processed_2  hqztlcsmm1k51_processed_2   \n",
       "3            0.0  hr8n7irrnqk51_processed_0  hr8n7irrnqk51_processed_0   \n",
       "4            0.0  hr8n7irrnqk51_processed_1  hr8n7irrnqk51_processed_1   \n",
       "..           ...                        ...                        ...   \n",
       "726          0.0  lng2m9l4j2w61_processed_1  lng2m9l4j2w61_processed_1   \n",
       "727          0.0  lng2m9l4j2w61_processed_2  lng2m9l4j2w61_processed_2   \n",
       "728          0.0  lng2m9l4j2w61_processed_3  lng2m9l4j2w61_processed_3   \n",
       "729          0.0  lng2m9l4j2w61_processed_4  lng2m9l4j2w61_processed_4   \n",
       "730          0.0  lng2m9l4j2w61_processed_5  lng2m9l4j2w61_processed_5   \n",
       "\n",
       "    parent_file_val  number_of_segments_val  noisy_val  \\\n",
       "0     hqztlcsmm1k51                     3.0        0.0   \n",
       "1     hqztlcsmm1k51                     3.0        0.0   \n",
       "2     hqztlcsmm1k51                     3.0        0.0   \n",
       "3     hr8n7irrnqk51                    11.0        0.0   \n",
       "4     hr8n7irrnqk51                    11.0        0.0   \n",
       "..              ...                     ...        ...   \n",
       "726   lng2m9l4j2w61                     6.0        0.0   \n",
       "727   lng2m9l4j2w61                     6.0        0.0   \n",
       "728   lng2m9l4j2w61                     6.0        0.0   \n",
       "729   lng2m9l4j2w61                     6.0        0.0   \n",
       "730   lng2m9l4j2w61                     6.0        0.0   \n",
       "\n",
       "     number_of_voices_parent_val extra_sounds_val  parent_label_val  \\\n",
       "0                            1.0              NaN               0.0   \n",
       "1                            1.0              NaN               0.0   \n",
       "2                            1.0              NaN               0.0   \n",
       "3                            2.0              NaN               0.0   \n",
       "4                            1.0              NaN               0.0   \n",
       "..                           ...              ...               ...   \n",
       "726                          1.0              NaN               0.0   \n",
       "727                          2.0              NaN               0.0   \n",
       "728                          2.0              NaN               0.0   \n",
       "729                          2.0              NaN               0.0   \n",
       "730                          1.0              NaN               0.0   \n",
       "\n",
       "     segment_label_val notes_val  \n",
       "0                  0.0       NaN  \n",
       "1                  0.0       NaN  \n",
       "2                  0.0       NaN  \n",
       "3                  0.0       NaN  \n",
       "4                  0.0       NaN  \n",
       "..                 ...       ...  \n",
       "726                0.0       NaN  \n",
       "727                0.0       NaN  \n",
       "728                0.0       NaN  \n",
       "729                0.0       NaN  \n",
       "730                0.0       NaN  \n",
       "\n",
       "[731 rows x 19 columns]"
      ]
     },
     "execution_count": 292,
     "metadata": {},
     "output_type": "execute_result"
    }
   ],
   "source": [
    "# join \n",
    "df_merged = pd.merge(anno_train,anno_val,on=file_name)#,how='left',suffixes=('_train', '_val'))\n",
    "df_merged"
   ]
  },
  {
   "cell_type": "code",
   "execution_count": 293,
   "id": "20fa6908-f998-446b-8d3c-6b061e135b6d",
   "metadata": {},
   "outputs": [
    {
     "name": "stdout",
     "output_type": "stream",
     "text": [
      "<class 'pandas.core.frame.DataFrame'>\n",
      "Int64Index: 731 entries, 0 to 730\n",
      "Data columns (total 19 columns):\n",
      " #   Column                         Non-Null Count  Dtype  \n",
      "---  ------                         --------------  -----  \n",
      " 0   file_name_x                    731 non-null    object \n",
      " 1   parent_file_train              731 non-null    object \n",
      " 2   number_of_segments_train       731 non-null    float64\n",
      " 3   number_of_voices_parent_train  731 non-null    float64\n",
      " 4   segment_label_train            731 non-null    float64\n",
      " 5   extra_sounds_train             548 non-null    object \n",
      " 6   parent_label_train             731 non-null    float64\n",
      " 7   notes_train                    731 non-null    object \n",
      " 8   noisy_train                    731 non-null    float64\n",
      " 9   File Name                      731 non-null    object \n",
      " 10  file_name_y                    731 non-null    object \n",
      " 11  parent_file_val                731 non-null    object \n",
      " 12  number_of_segments_val         731 non-null    float64\n",
      " 13  noisy_val                      731 non-null    float64\n",
      " 14  number_of_voices_parent_val    731 non-null    float64\n",
      " 15  extra_sounds_val               342 non-null    object \n",
      " 16  parent_label_val               731 non-null    float64\n",
      " 17  segment_label_val              731 non-null    float64\n",
      " 18  notes_val                      4 non-null      object \n",
      "dtypes: float64(10), object(9)\n",
      "memory usage: 114.2+ KB\n"
     ]
    }
   ],
   "source": [
    "# Remove Nan Rows\n",
    "df_merged = df_merged[~(df_merged[segment_label+'_train'].isna() | df_merged[segment_label+'_val'].isna())]\n",
    "df_merged.info()"
   ]
  },
  {
   "cell_type": "markdown",
   "id": "c9a124be-e286-4b86-a8c8-0b97f40011f5",
   "metadata": {
    "tags": []
   },
   "source": [
    "#### <b> Match or No Match & Weighted Match<b>\n",
    "#### 100%"
   ]
  },
  {
   "cell_type": "code",
   "execution_count": 296,
   "id": "f1475af0-3293-416c-93e2-2b73576e2c64",
   "metadata": {},
   "outputs": [
    {
     "name": "stdout",
     "output_type": "stream",
     "text": [
      "100%\n",
      "Segment: \n",
      "Matches: 442\n",
      "Total: 731\n",
      "Segment Unweighted IOE: 60.46511627906976\n",
      "Segment Weighted IOE (Mean Absolute Error): 0.3953488372093023 \n",
      "\n",
      "Parent: \n",
      "Matches: 280\n",
      "Total: 731\n",
      "Parent IOE: 38.303693570451436\n",
      "Parent Weighted IOE (Mean Absolute Error): 0.6169630642954856 \n",
      "\n",
      "Noisy: \n",
      "Matches: 674\n",
      "Total: 731\n",
      "Noisy IOE: 92.20246238030096\n"
     ]
    }
   ],
   "source": [
    "# IOE on segment label\n",
    "print('100%')\n",
    "df_merged['match_s'] = np.where(df_merged[segment_label+'_train'] == df_merged[segment_label+'_val'], 1, 0)\n",
    "df_merged['match_s_diff'] = df_merged[segment_label+'_train'] - df_merged[segment_label+'_val'] \n",
    "df_merged['match_s_diff_abs'] = df_merged['match_s_diff'].abs()\n",
    "print('Segment: ')\n",
    "print('Matches:',df_merged['match_s'].sum())\n",
    "print('Total:',df_merged['match_s'].count())\n",
    "print('Segment Unweighted IOE:', df_merged['match_s'].sum()/df_merged['match_s'].count()*100)\n",
    "print('Segment Weighted IOE (Mean Absolute Error):', df_merged['match_s_diff_abs'].mean(),'\\n')\n",
    "\n",
    "# IOE on parent label\n",
    "df_merged['match_p'] = np.where(df_merged[parent_label+'_train'] == df_merged[parent_label+'_val'], 1, 0)\n",
    "df_merged['match_p_diff'] = df_merged[parent_label+'_train'] - df_merged[parent_label+'_val'] \n",
    "df_merged['match_p_diff_abs'] = df_merged['match_p_diff'].abs()\n",
    "print('Parent: ')\n",
    "print('Matches:',df_merged['match_p'].sum())\n",
    "print('Total:',df_merged['match_p'].count())\n",
    "print('Parent IOE:', df_merged['match_p'].sum()/df_merged['match_p'].count()*100)\n",
    "print('Parent Weighted IOE (Mean Absolute Error):', df_merged['match_p_diff_abs'].mean(),'\\n')\n",
    "\n",
    "# IOE on Noise\n",
    "df_merged['match_n'] = np.where(df_merged['noisy'+'_train'] == df_merged['noisy'+'_val'], 1, 0)\n",
    "df_merged['match_n_diff'] = df_merged['noisy'+'_train'] - df_merged['noisy'+'_val'] \n",
    "df_merged['match_n_diff_abs'] = df_merged['match_n_diff'].abs()\n",
    "print('Noisy: ')\n",
    "print('Matches:',df_merged['match_n'].sum())\n",
    "print('Total:',df_merged['match_n'].count())\n",
    "print('Noisy IOE:', df_merged['match_n'].sum()/df_merged['match_n'].count()*100)\n",
    "#print('Noisy Weighted IOE (Mean Absolute Error):', df_merged['match_n_diff_abs'].mean(),'\\n')"
   ]
  },
  {
   "cell_type": "markdown",
   "id": "89a41739-3f0f-4f28-9517-ab126341079e",
   "metadata": {},
   "source": [
    "#### Distribution of train - val difference values (error)\n",
    "##### Segment"
   ]
  },
  {
   "cell_type": "code",
   "execution_count": 297,
   "id": "e98b7183-58b4-49c5-a2fc-7b3931d85a7a",
   "metadata": {},
   "outputs": [
    {
     "data": {
      "text/html": [
       "<div>\n",
       "<style scoped>\n",
       "    .dataframe tbody tr th:only-of-type {\n",
       "        vertical-align: middle;\n",
       "    }\n",
       "\n",
       "    .dataframe tbody tr th {\n",
       "        vertical-align: top;\n",
       "    }\n",
       "\n",
       "    .dataframe thead th {\n",
       "        text-align: right;\n",
       "    }\n",
       "</style>\n",
       "<table border=\"1\" class=\"dataframe\">\n",
       "  <thead>\n",
       "    <tr style=\"text-align: right;\">\n",
       "      <th></th>\n",
       "      <th>match_s_diff</th>\n",
       "      <th>match_s</th>\n",
       "    </tr>\n",
       "  </thead>\n",
       "  <tbody>\n",
       "    <tr>\n",
       "      <th>0</th>\n",
       "      <td>-1.0</td>\n",
       "      <td>68</td>\n",
       "    </tr>\n",
       "    <tr>\n",
       "      <th>1</th>\n",
       "      <td>0.0</td>\n",
       "      <td>442</td>\n",
       "    </tr>\n",
       "    <tr>\n",
       "      <th>2</th>\n",
       "      <td>1.0</td>\n",
       "      <td>221</td>\n",
       "    </tr>\n",
       "  </tbody>\n",
       "</table>\n",
       "</div>"
      ],
      "text/plain": [
       "   match_s_diff  match_s\n",
       "0          -1.0       68\n",
       "1           0.0      442\n",
       "2           1.0      221"
      ]
     },
     "metadata": {},
     "output_type": "display_data"
    },
    {
     "data": {
      "text/plain": [
       "<seaborn.axisgrid.FacetGrid at 0x7ff6a347fa30>"
      ]
     },
     "metadata": {},
     "output_type": "display_data"
    },
    {
     "data": {
      "image/png": "[encoded data removed]",
      "text/plain": [
       "<Figure size 360x360 with 1 Axes>"
      ]
     },
     "metadata": {
      "needs_background": "light"
     },
     "output_type": "display_data"
    }
   ],
   "source": [
    "# train - val difference histogram\n",
    "temp = df_merged.groupby('match_s_diff')['match_s'].count().reset_index()\n",
    "display(temp)\n",
    "display (sns.displot(df_merged['match_s_diff']))"
   ]
  },
  {
   "cell_type": "markdown",
   "id": "177a737c-1222-4c8c-9890-dec89f1509b5",
   "metadata": {},
   "source": [
    "##### Parent"
   ]
  },
  {
   "cell_type": "code",
   "execution_count": 298,
   "id": "f142a20d-b618-467e-aadf-35441c0fb96b",
   "metadata": {},
   "outputs": [
    {
     "data": {
      "text/html": [
       "<div>\n",
       "<style scoped>\n",
       "    .dataframe tbody tr th:only-of-type {\n",
       "        vertical-align: middle;\n",
       "    }\n",
       "\n",
       "    .dataframe tbody tr th {\n",
       "        vertical-align: top;\n",
       "    }\n",
       "\n",
       "    .dataframe thead th {\n",
       "        text-align: right;\n",
       "    }\n",
       "</style>\n",
       "<table border=\"1\" class=\"dataframe\">\n",
       "  <thead>\n",
       "    <tr style=\"text-align: right;\">\n",
       "      <th></th>\n",
       "      <th>match_p_diff</th>\n",
       "      <th>match_p</th>\n",
       "    </tr>\n",
       "  </thead>\n",
       "  <tbody>\n",
       "    <tr>\n",
       "      <th>0</th>\n",
       "      <td>0.0</td>\n",
       "      <td>280</td>\n",
       "    </tr>\n",
       "    <tr>\n",
       "      <th>1</th>\n",
       "      <td>1.0</td>\n",
       "      <td>451</td>\n",
       "    </tr>\n",
       "  </tbody>\n",
       "</table>\n",
       "</div>"
      ],
      "text/plain": [
       "   match_p_diff  match_p\n",
       "0           0.0      280\n",
       "1           1.0      451"
      ]
     },
     "metadata": {},
     "output_type": "display_data"
    },
    {
     "data": {
      "text/plain": [
       "<seaborn.axisgrid.FacetGrid at 0x7ff6a3167340>"
      ]
     },
     "metadata": {},
     "output_type": "display_data"
    },
    {
     "data": {
      "image/png": "[encoded data removed]",
      "text/plain": [
       "<Figure size 360x360 with 1 Axes>"
      ]
     },
     "metadata": {
      "needs_background": "light"
     },
     "output_type": "display_data"
    }
   ],
   "source": [
    "temp = df_merged.groupby('match_p_diff')['match_p'].count().reset_index()\n",
    "display(temp)\n",
    "display (sns.displot(df_merged['match_p_diff']))"
   ]
  },
  {
   "cell_type": "markdown",
   "id": "205af800-d32a-4a76-a822-d8ce7b7cd162",
   "metadata": {},
   "source": [
    "##### Noisy"
   ]
  },
  {
   "cell_type": "code",
   "execution_count": 299,
   "id": "60070d14-4a7a-4071-a783-64090445fe6a",
   "metadata": {},
   "outputs": [
    {
     "data": {
      "text/html": [
       "<div>\n",
       "<style scoped>\n",
       "    .dataframe tbody tr th:only-of-type {\n",
       "        vertical-align: middle;\n",
       "    }\n",
       "\n",
       "    .dataframe tbody tr th {\n",
       "        vertical-align: top;\n",
       "    }\n",
       "\n",
       "    .dataframe thead th {\n",
       "        text-align: right;\n",
       "    }\n",
       "</style>\n",
       "<table border=\"1\" class=\"dataframe\">\n",
       "  <thead>\n",
       "    <tr style=\"text-align: right;\">\n",
       "      <th></th>\n",
       "      <th>match_n_diff</th>\n",
       "      <th>match_n</th>\n",
       "    </tr>\n",
       "  </thead>\n",
       "  <tbody>\n",
       "    <tr>\n",
       "      <th>0</th>\n",
       "      <td>-3.0</td>\n",
       "      <td>1</td>\n",
       "    </tr>\n",
       "    <tr>\n",
       "      <th>1</th>\n",
       "      <td>-1.0</td>\n",
       "      <td>19</td>\n",
       "    </tr>\n",
       "    <tr>\n",
       "      <th>2</th>\n",
       "      <td>0.0</td>\n",
       "      <td>674</td>\n",
       "    </tr>\n",
       "    <tr>\n",
       "      <th>3</th>\n",
       "      <td>1.0</td>\n",
       "      <td>37</td>\n",
       "    </tr>\n",
       "  </tbody>\n",
       "</table>\n",
       "</div>"
      ],
      "text/plain": [
       "   match_n_diff  match_n\n",
       "0          -3.0        1\n",
       "1          -1.0       19\n",
       "2           0.0      674\n",
       "3           1.0       37"
      ]
     },
     "metadata": {},
     "output_type": "display_data"
    },
    {
     "data": {
      "text/plain": [
       "<seaborn.axisgrid.FacetGrid at 0x7ff69065f100>"
      ]
     },
     "metadata": {},
     "output_type": "display_data"
    },
    {
     "data": {
      "image/png": "[encoded data removed]",
      "text/plain": [
       "<Figure size 360x360 with 1 Axes>"
      ]
     },
     "metadata": {
      "needs_background": "light"
     },
     "output_type": "display_data"
    }
   ],
   "source": [
    "temp = df_merged.groupby('match_n_diff')['match_n'].count().reset_index()\n",
    "display(temp)\n",
    "display (sns.displot(df_merged['match_n_diff']))"
   ]
  },
  {
   "cell_type": "markdown",
   "id": "afca79b8-659d-41d5-a98e-026cfbf9d9e6",
   "metadata": {
    "tags": []
   },
   "source": [
    "#### <b> Match or No Match <b>\n",
    "#### 50%"
   ]
  },
  {
   "cell_type": "code",
   "execution_count": 300,
   "id": "4a8e4405-40bb-4f5c-9152-441f19550383",
   "metadata": {},
   "outputs": [
    {
     "name": "stdout",
     "output_type": "stream",
     "text": [
      "50%\n",
      "Segment: \n",
      "Matches: 209\n",
      "Total: 366\n",
      "Segment IOE: 57.103825136612016 \n",
      "\n",
      "Parent: \n",
      "Matches: 132\n",
      "Total: 366\n",
      "Parent IOE: 36.0655737704918 \n",
      "\n",
      "Noisy: \n",
      "Matches: 339\n",
      "Total: 366\n",
      "Noisy IOE: 92.62295081967213\n"
     ]
    }
   ],
   "source": [
    "# IOE on segment label\n",
    "print('50%')\n",
    "df_sample = df_merged.sample(frac=0.50)\n",
    "print('Segment: ')\n",
    "print('Matches:',df_sample['match_s'].sum())\n",
    "print('Total:',df_sample['match_s'].count())\n",
    "print('Segment IOE:', df_sample['match_s'].sum()/df_sample['match_s'].count()*100,'\\n')\n",
    "\n",
    "# IOE on parent label\n",
    "print('Parent: ')\n",
    "print('Matches:',df_sample['match_p'].sum())\n",
    "print('Total:',df_sample['match_p'].count())\n",
    "print('Parent IOE:', df_sample['match_p'].sum()/df_sample['match_p'].count()*100,'\\n')\n",
    "\n",
    "# IOE on Noise\n",
    "print('Noisy: ')\n",
    "print('Matches:',df_sample['match_n'].sum())\n",
    "print('Total:',df_sample['match_n'].count())\n",
    "print('Noisy IOE:', df_sample['match_n'].sum()/df_sample['match_n'].count()*100)"
   ]
  },
  {
   "cell_type": "markdown",
   "id": "b0fa9707-8919-45de-9269-ff062215e3c7",
   "metadata": {
    "tags": []
   },
   "source": [
    "#### <b>Cohen's Kappa<b>"
   ]
  },
  {
   "cell_type": "code",
   "execution_count": 302,
   "id": "3f8b1238-08a6-4b78-86f1-98d9990cb4b0",
   "metadata": {},
   "outputs": [
    {
     "name": "stdout",
     "output_type": "stream",
     "text": [
      "Cohen k (Segment): 0.443664364171668\n",
      "Cohen k (Parent): 0.19112963771707292\n",
      "Cohen k (Noisy): 0.6072966834114022\n"
     ]
    }
   ],
   "source": [
    "# Calculate Cohen's k\n",
    "print('Cohen k (Segment):',cohen_kappa_score(df_merged[segment_label+'_train'], df_merged[segment_label+'_val']))\n",
    "print('Cohen k (Parent):',cohen_kappa_score(df_merged[parent_label+'_train'], df_merged[parent_label+'_val']))\n",
    "print('Cohen k (Noisy):',cohen_kappa_score(df_merged['noisy'+'_train'], df_merged['noisy'+'_val']))"
   ]
  },
  {
   "cell_type": "markdown",
   "id": "327c7824-d3d0-44a6-b569-0f9ec1c56aff",
   "metadata": {
    "tags": []
   },
   "source": [
    "## H"
   ]
  },
  {
   "cell_type": "code",
   "execution_count": 303,
   "id": "5ad3255c-1c23-49fc-b14e-55b04997502a",
   "metadata": {},
   "outputs": [],
   "source": [
    "# # Read Data\n",
    "# anno_train = pd.read_excel(file_path+'labelled-reddit-2021-08-31-H-TL_updated.xlsx')\n",
    "# anno_val = pd.read_excel(file_path+'labelled-reddit-2021-08-31-H-KK_SA.xlsx')"
   ]
  },
  {
   "cell_type": "code",
   "execution_count": 304,
   "id": "7617e9a5-fcd7-458c-b19a-99f7a6d67a12",
   "metadata": {},
   "outputs": [],
   "source": [
    "# Read Data\n",
    "anno_train = pd.read_csv(file_path+'H-cleaned.csv')\n",
    "anno_val = pd.read_csv(file_path+'H-cleaned-val.csv')"
   ]
  },
  {
   "cell_type": "code",
   "execution_count": 305,
   "id": "6b43217f-178c-411a-a2ed-eb1b39e2f81e",
   "metadata": {},
   "outputs": [
    {
     "data": {
      "text/html": [
       "<div>\n",
       "<style scoped>\n",
       "    .dataframe tbody tr th:only-of-type {\n",
       "        vertical-align: middle;\n",
       "    }\n",
       "\n",
       "    .dataframe tbody tr th {\n",
       "        vertical-align: top;\n",
       "    }\n",
       "\n",
       "    .dataframe thead th {\n",
       "        text-align: right;\n",
       "    }\n",
       "</style>\n",
       "<table border=\"1\" class=\"dataframe\">\n",
       "  <thead>\n",
       "    <tr style=\"text-align: right;\">\n",
       "      <th></th>\n",
       "      <th>file_name</th>\n",
       "      <th>parent_file_train</th>\n",
       "      <th>number_of_segments_train</th>\n",
       "      <th>number_of_voices_parent_train</th>\n",
       "      <th>noisy_train</th>\n",
       "      <th>extra_sounds_train</th>\n",
       "      <th>parent_label_train</th>\n",
       "      <th>segment_label_train</th>\n",
       "      <th>notes_train</th>\n",
       "    </tr>\n",
       "  </thead>\n",
       "  <tbody>\n",
       "    <tr>\n",
       "      <th>0</th>\n",
       "      <td>uortapdfw0x51_processed_0</td>\n",
       "      <td>uortapdfw0x51</td>\n",
       "      <td>8</td>\n",
       "      <td>4</td>\n",
       "      <td>0.0</td>\n",
       "      <td>NaN</td>\n",
       "      <td>3.0</td>\n",
       "      <td>1</td>\n",
       "      <td>NaN</td>\n",
       "    </tr>\n",
       "  </tbody>\n",
       "</table>\n",
       "</div>"
      ],
      "text/plain": [
       "                   file_name parent_file_train  number_of_segments_train  \\\n",
       "0  uortapdfw0x51_processed_0     uortapdfw0x51                         8   \n",
       "\n",
       "   number_of_voices_parent_train  noisy_train extra_sounds_train  \\\n",
       "0                              4          0.0                NaN   \n",
       "\n",
       "   parent_label_train  segment_label_train notes_train  \n",
       "0                 3.0                    1         NaN  "
      ]
     },
     "metadata": {},
     "output_type": "display_data"
    },
    {
     "name": "stdout",
     "output_type": "stream",
     "text": [
      "Index(['file_name', 'parent_file_train', 'number_of_segments_train',\n",
      "       'number_of_voices_parent_train', 'noisy_train', 'extra_sounds_train',\n",
      "       'parent_label_train', 'segment_label_train', 'notes_train'],\n",
      "      dtype='object')\n"
     ]
    }
   ],
   "source": [
    "display(anno_train.head(1))\n",
    "print(anno_train.columns)"
   ]
  },
  {
   "cell_type": "code",
   "execution_count": 306,
   "id": "d324ccd3-1c6b-4ab2-a56c-0eef4d8bd299",
   "metadata": {},
   "outputs": [
    {
     "data": {
      "text/html": [
       "<div>\n",
       "<style scoped>\n",
       "    .dataframe tbody tr th:only-of-type {\n",
       "        vertical-align: middle;\n",
       "    }\n",
       "\n",
       "    .dataframe tbody tr th {\n",
       "        vertical-align: top;\n",
       "    }\n",
       "\n",
       "    .dataframe thead th {\n",
       "        text-align: right;\n",
       "    }\n",
       "</style>\n",
       "<table border=\"1\" class=\"dataframe\">\n",
       "  <thead>\n",
       "    <tr style=\"text-align: right;\">\n",
       "      <th></th>\n",
       "      <th>file_name</th>\n",
       "      <th>parent_file_val</th>\n",
       "      <th>number_of_segments_val</th>\n",
       "      <th>number_of_voices_parent_val</th>\n",
       "      <th>noisy_val</th>\n",
       "      <th>extra_sounds_val</th>\n",
       "      <th>parent_label_val</th>\n",
       "      <th>segment_label_val</th>\n",
       "      <th>notes_val</th>\n",
       "    </tr>\n",
       "  </thead>\n",
       "  <tbody>\n",
       "    <tr>\n",
       "      <th>0</th>\n",
       "      <td>uortapdfw0x51_processed_0</td>\n",
       "      <td>uortapdfw0x51</td>\n",
       "      <td>8.0</td>\n",
       "      <td>2.0</td>\n",
       "      <td>NaN</td>\n",
       "      <td>NaN</td>\n",
       "      <td>2.0</td>\n",
       "      <td>2.0</td>\n",
       "      <td>NaN</td>\n",
       "    </tr>\n",
       "  </tbody>\n",
       "</table>\n",
       "</div>"
      ],
      "text/plain": [
       "                   file_name parent_file_val  number_of_segments_val  \\\n",
       "0  uortapdfw0x51_processed_0   uortapdfw0x51                     8.0   \n",
       "\n",
       "   number_of_voices_parent_val  noisy_val extra_sounds_val  parent_label_val  \\\n",
       "0                          2.0        NaN              NaN               2.0   \n",
       "\n",
       "   segment_label_val notes_val  \n",
       "0                2.0       NaN  "
      ]
     },
     "metadata": {},
     "output_type": "display_data"
    },
    {
     "name": "stdout",
     "output_type": "stream",
     "text": [
      "Index(['file_name', 'parent_file_val', 'number_of_segments_val',\n",
      "       'number_of_voices_parent_val', 'noisy_val', 'extra_sounds_val',\n",
      "       'parent_label_val', 'segment_label_val', 'notes_val'],\n",
      "      dtype='object')\n"
     ]
    }
   ],
   "source": [
    "display(anno_val.head(1))\n",
    "print(anno_val.columns)"
   ]
  },
  {
   "cell_type": "code",
   "execution_count": 307,
   "id": "69e027b8-5c21-4b5f-8e15-e8bcdc9bf1ad",
   "metadata": {},
   "outputs": [],
   "source": [
    "# # Correct train file column names\n",
    "# # Run for H-TL\n",
    "# anno_train.columns=['file_name', 'parent_file', 'number_of_segments',\n",
    "#        'number_of_voices_parent_file', 'noisy', 'extra sounds', 'parent_label',\n",
    "#        'segment_label', 'Notes']"
   ]
  },
  {
   "cell_type": "code",
   "execution_count": 308,
   "id": "aac4a875-2538-485d-9ad9-8919d658863f",
   "metadata": {},
   "outputs": [
    {
     "name": "stdout",
     "output_type": "stream",
     "text": [
      "<class 'pandas.core.frame.DataFrame'>\n",
      "RangeIndex: 277 entries, 0 to 276\n",
      "Data columns (total 9 columns):\n",
      " #   Column                         Non-Null Count  Dtype  \n",
      "---  ------                         --------------  -----  \n",
      " 0   file_name                      277 non-null    object \n",
      " 1   parent_file_train              277 non-null    object \n",
      " 2   number_of_segments_train       277 non-null    int64  \n",
      " 3   number_of_voices_parent_train  277 non-null    int64  \n",
      " 4   noisy_train                    277 non-null    float64\n",
      " 5   extra_sounds_train             30 non-null     object \n",
      " 6   parent_label_train             277 non-null    float64\n",
      " 7   segment_label_train            277 non-null    int64  \n",
      " 8   notes_train                    20 non-null     object \n",
      "dtypes: float64(2), int64(3), object(4)\n",
      "memory usage: 19.6+ KB\n"
     ]
    }
   ],
   "source": [
    "# Check for nulls\n",
    "anno_train.info()"
   ]
  },
  {
   "cell_type": "code",
   "execution_count": 309,
   "id": "e71c8789-ba68-4efe-9240-df6ddb4dcd76",
   "metadata": {},
   "outputs": [
    {
     "name": "stdout",
     "output_type": "stream",
     "text": [
      "<class 'pandas.core.frame.DataFrame'>\n",
      "RangeIndex: 277 entries, 0 to 276\n",
      "Data columns (total 9 columns):\n",
      " #   Column                       Non-Null Count  Dtype  \n",
      "---  ------                       --------------  -----  \n",
      " 0   file_name                    277 non-null    object \n",
      " 1   parent_file_val              277 non-null    object \n",
      " 2   number_of_segments_val       277 non-null    float64\n",
      " 3   number_of_voices_parent_val  277 non-null    float64\n",
      " 4   noisy_val                    0 non-null      float64\n",
      " 5   extra_sounds_val             31 non-null     object \n",
      " 6   parent_label_val             277 non-null    float64\n",
      " 7   segment_label_val            277 non-null    float64\n",
      " 8   notes_val                    5 non-null      object \n",
      "dtypes: float64(5), object(4)\n",
      "memory usage: 19.6+ KB\n"
     ]
    }
   ],
   "source": [
    "# Check for nulls\n",
    "anno_val.info()"
   ]
  },
  {
   "cell_type": "code",
   "execution_count": 310,
   "id": "088de255-c161-4a52-a72f-e1cbb947202b",
   "metadata": {},
   "outputs": [],
   "source": [
    "# segment_label = 'segment_label'\n",
    "# parent_label = 'parent_label'\n",
    "\n",
    "anno_train['file_name'] = anno_train['file_name'].str.strip()\n",
    "anno_val['file_name'] = anno_val['file_name'].str.strip()"
   ]
  },
  {
   "cell_type": "code",
   "execution_count": 311,
   "id": "a769ec8d-fe86-4127-a996-459e982c19d8",
   "metadata": {},
   "outputs": [
    {
     "data": {
      "text/html": [
       "<div>\n",
       "<style scoped>\n",
       "    .dataframe tbody tr th:only-of-type {\n",
       "        vertical-align: middle;\n",
       "    }\n",
       "\n",
       "    .dataframe tbody tr th {\n",
       "        vertical-align: top;\n",
       "    }\n",
       "\n",
       "    .dataframe thead th {\n",
       "        text-align: right;\n",
       "    }\n",
       "</style>\n",
       "<table border=\"1\" class=\"dataframe\">\n",
       "  <thead>\n",
       "    <tr style=\"text-align: right;\">\n",
       "      <th></th>\n",
       "      <th>file_name</th>\n",
       "      <th>parent_file_train</th>\n",
       "      <th>number_of_segments_train</th>\n",
       "      <th>number_of_voices_parent_train</th>\n",
       "      <th>noisy_train</th>\n",
       "      <th>extra_sounds_train</th>\n",
       "      <th>parent_label_train</th>\n",
       "      <th>segment_label_train</th>\n",
       "      <th>notes_train</th>\n",
       "      <th>parent_file_val</th>\n",
       "      <th>number_of_segments_val</th>\n",
       "      <th>number_of_voices_parent_val</th>\n",
       "      <th>noisy_val</th>\n",
       "      <th>extra_sounds_val</th>\n",
       "      <th>parent_label_val</th>\n",
       "      <th>segment_label_val</th>\n",
       "      <th>notes_val</th>\n",
       "    </tr>\n",
       "  </thead>\n",
       "  <tbody>\n",
       "    <tr>\n",
       "      <th>0</th>\n",
       "      <td>uortapdfw0x51_processed_0</td>\n",
       "      <td>uortapdfw0x51</td>\n",
       "      <td>8</td>\n",
       "      <td>4</td>\n",
       "      <td>0.0</td>\n",
       "      <td>NaN</td>\n",
       "      <td>3.0</td>\n",
       "      <td>1</td>\n",
       "      <td>NaN</td>\n",
       "      <td>uortapdfw0x51</td>\n",
       "      <td>8.0</td>\n",
       "      <td>2.0</td>\n",
       "      <td>NaN</td>\n",
       "      <td>NaN</td>\n",
       "      <td>2.0</td>\n",
       "      <td>2.0</td>\n",
       "      <td>NaN</td>\n",
       "    </tr>\n",
       "    <tr>\n",
       "      <th>1</th>\n",
       "      <td>uortapdfw0x51_processed_1</td>\n",
       "      <td>uortapdfw0x51</td>\n",
       "      <td>8</td>\n",
       "      <td>4</td>\n",
       "      <td>0.0</td>\n",
       "      <td>NaN</td>\n",
       "      <td>3.0</td>\n",
       "      <td>0</td>\n",
       "      <td>woman2 is crying</td>\n",
       "      <td>uortapdfw0x51</td>\n",
       "      <td>8.0</td>\n",
       "      <td>2.0</td>\n",
       "      <td>NaN</td>\n",
       "      <td>NaN</td>\n",
       "      <td>2.0</td>\n",
       "      <td>1.0</td>\n",
       "      <td>NaN</td>\n",
       "    </tr>\n",
       "    <tr>\n",
       "      <th>2</th>\n",
       "      <td>uortapdfw0x51_processed_2</td>\n",
       "      <td>uortapdfw0x51</td>\n",
       "      <td>8</td>\n",
       "      <td>4</td>\n",
       "      <td>0.0</td>\n",
       "      <td>someone walking</td>\n",
       "      <td>3.0</td>\n",
       "      <td>0</td>\n",
       "      <td>no talking here</td>\n",
       "      <td>uortapdfw0x51</td>\n",
       "      <td>8.0</td>\n",
       "      <td>2.0</td>\n",
       "      <td>NaN</td>\n",
       "      <td>NaN</td>\n",
       "      <td>2.0</td>\n",
       "      <td>0.0</td>\n",
       "      <td>NaN</td>\n",
       "    </tr>\n",
       "    <tr>\n",
       "      <th>3</th>\n",
       "      <td>uortapdfw0x51_processed_3</td>\n",
       "      <td>uortapdfw0x51</td>\n",
       "      <td>8</td>\n",
       "      <td>4</td>\n",
       "      <td>0.0</td>\n",
       "      <td>NaN</td>\n",
       "      <td>3.0</td>\n",
       "      <td>0</td>\n",
       "      <td>no talking here</td>\n",
       "      <td>uortapdfw0x51</td>\n",
       "      <td>8.0</td>\n",
       "      <td>2.0</td>\n",
       "      <td>NaN</td>\n",
       "      <td>NaN</td>\n",
       "      <td>2.0</td>\n",
       "      <td>0.0</td>\n",
       "      <td>NaN</td>\n",
       "    </tr>\n",
       "    <tr>\n",
       "      <th>4</th>\n",
       "      <td>uortapdfw0x51_processed_4</td>\n",
       "      <td>uortapdfw0x51</td>\n",
       "      <td>8</td>\n",
       "      <td>4</td>\n",
       "      <td>0.0</td>\n",
       "      <td>NaN</td>\n",
       "      <td>3.0</td>\n",
       "      <td>3</td>\n",
       "      <td>NaN</td>\n",
       "      <td>uortapdfw0x51</td>\n",
       "      <td>8.0</td>\n",
       "      <td>2.0</td>\n",
       "      <td>NaN</td>\n",
       "      <td>NaN</td>\n",
       "      <td>2.0</td>\n",
       "      <td>2.0</td>\n",
       "      <td>NaN</td>\n",
       "    </tr>\n",
       "    <tr>\n",
       "      <th>...</th>\n",
       "      <td>...</td>\n",
       "      <td>...</td>\n",
       "      <td>...</td>\n",
       "      <td>...</td>\n",
       "      <td>...</td>\n",
       "      <td>...</td>\n",
       "      <td>...</td>\n",
       "      <td>...</td>\n",
       "      <td>...</td>\n",
       "      <td>...</td>\n",
       "      <td>...</td>\n",
       "      <td>...</td>\n",
       "      <td>...</td>\n",
       "      <td>...</td>\n",
       "      <td>...</td>\n",
       "      <td>...</td>\n",
       "      <td>...</td>\n",
       "    </tr>\n",
       "    <tr>\n",
       "      <th>272</th>\n",
       "      <td>xdz15thrnem51_processed_8</td>\n",
       "      <td>xdz15thrnem51</td>\n",
       "      <td>14</td>\n",
       "      <td>7</td>\n",
       "      <td>0.0</td>\n",
       "      <td>cops</td>\n",
       "      <td>2.0</td>\n",
       "      <td>2</td>\n",
       "      <td>NaN</td>\n",
       "      <td>xdz15thrnem51</td>\n",
       "      <td>14.0</td>\n",
       "      <td>3.0</td>\n",
       "      <td>NaN</td>\n",
       "      <td>NaN</td>\n",
       "      <td>3.0</td>\n",
       "      <td>3.0</td>\n",
       "      <td>unknown language</td>\n",
       "    </tr>\n",
       "    <tr>\n",
       "      <th>273</th>\n",
       "      <td>xdz15thrnem51_processed_9</td>\n",
       "      <td>xdz15thrnem51</td>\n",
       "      <td>14</td>\n",
       "      <td>7</td>\n",
       "      <td>0.0</td>\n",
       "      <td>NaN</td>\n",
       "      <td>2.0</td>\n",
       "      <td>1</td>\n",
       "      <td>NaN</td>\n",
       "      <td>xdz15thrnem51</td>\n",
       "      <td>14.0</td>\n",
       "      <td>3.0</td>\n",
       "      <td>NaN</td>\n",
       "      <td>NaN</td>\n",
       "      <td>3.0</td>\n",
       "      <td>2.0</td>\n",
       "      <td>unknown language</td>\n",
       "    </tr>\n",
       "    <tr>\n",
       "      <th>274</th>\n",
       "      <td>xdz15thrnem51_processed_11</td>\n",
       "      <td>xdz15thrnem51</td>\n",
       "      <td>14</td>\n",
       "      <td>7</td>\n",
       "      <td>0.0</td>\n",
       "      <td>cops</td>\n",
       "      <td>2.0</td>\n",
       "      <td>2</td>\n",
       "      <td>NaN</td>\n",
       "      <td>xdz15thrnem51</td>\n",
       "      <td>14.0</td>\n",
       "      <td>3.0</td>\n",
       "      <td>NaN</td>\n",
       "      <td>NaN</td>\n",
       "      <td>3.0</td>\n",
       "      <td>3.0</td>\n",
       "      <td>NaN</td>\n",
       "    </tr>\n",
       "    <tr>\n",
       "      <th>275</th>\n",
       "      <td>xdz15thrnem51_processed_12</td>\n",
       "      <td>xdz15thrnem51</td>\n",
       "      <td>14</td>\n",
       "      <td>7</td>\n",
       "      <td>0.0</td>\n",
       "      <td>cops</td>\n",
       "      <td>2.0</td>\n",
       "      <td>1</td>\n",
       "      <td>NaN</td>\n",
       "      <td>xdz15thrnem51</td>\n",
       "      <td>14.0</td>\n",
       "      <td>3.0</td>\n",
       "      <td>NaN</td>\n",
       "      <td>NaN</td>\n",
       "      <td>3.0</td>\n",
       "      <td>2.0</td>\n",
       "      <td>NaN</td>\n",
       "    </tr>\n",
       "    <tr>\n",
       "      <th>276</th>\n",
       "      <td>xdz15thrnem51_processed_13</td>\n",
       "      <td>xdz15thrnem51</td>\n",
       "      <td>14</td>\n",
       "      <td>7</td>\n",
       "      <td>0.0</td>\n",
       "      <td>cops</td>\n",
       "      <td>2.0</td>\n",
       "      <td>2</td>\n",
       "      <td>NaN</td>\n",
       "      <td>xdz15thrnem51</td>\n",
       "      <td>14.0</td>\n",
       "      <td>3.0</td>\n",
       "      <td>NaN</td>\n",
       "      <td>NaN</td>\n",
       "      <td>3.0</td>\n",
       "      <td>3.0</td>\n",
       "      <td>NaN</td>\n",
       "    </tr>\n",
       "  </tbody>\n",
       "</table>\n",
       "<p>277 rows × 17 columns</p>\n",
       "</div>"
      ],
      "text/plain": [
       "                      file_name parent_file_train  number_of_segments_train  \\\n",
       "0     uortapdfw0x51_processed_0     uortapdfw0x51                         8   \n",
       "1     uortapdfw0x51_processed_1     uortapdfw0x51                         8   \n",
       "2     uortapdfw0x51_processed_2     uortapdfw0x51                         8   \n",
       "3     uortapdfw0x51_processed_3     uortapdfw0x51                         8   \n",
       "4     uortapdfw0x51_processed_4     uortapdfw0x51                         8   \n",
       "..                          ...               ...                       ...   \n",
       "272   xdz15thrnem51_processed_8     xdz15thrnem51                        14   \n",
       "273   xdz15thrnem51_processed_9     xdz15thrnem51                        14   \n",
       "274  xdz15thrnem51_processed_11     xdz15thrnem51                        14   \n",
       "275  xdz15thrnem51_processed_12     xdz15thrnem51                        14   \n",
       "276  xdz15thrnem51_processed_13     xdz15thrnem51                        14   \n",
       "\n",
       "     number_of_voices_parent_train  noisy_train extra_sounds_train  \\\n",
       "0                                4          0.0                NaN   \n",
       "1                                4          0.0                NaN   \n",
       "2                                4          0.0    someone walking   \n",
       "3                                4          0.0                NaN   \n",
       "4                                4          0.0                NaN   \n",
       "..                             ...          ...                ...   \n",
       "272                              7          0.0               cops   \n",
       "273                              7          0.0                NaN   \n",
       "274                              7          0.0               cops   \n",
       "275                              7          0.0               cops   \n",
       "276                              7          0.0               cops   \n",
       "\n",
       "     parent_label_train  segment_label_train       notes_train  \\\n",
       "0                   3.0                    1               NaN   \n",
       "1                   3.0                    0  woman2 is crying   \n",
       "2                   3.0                    0   no talking here   \n",
       "3                   3.0                    0   no talking here   \n",
       "4                   3.0                    3               NaN   \n",
       "..                  ...                  ...               ...   \n",
       "272                 2.0                    2               NaN   \n",
       "273                 2.0                    1               NaN   \n",
       "274                 2.0                    2               NaN   \n",
       "275                 2.0                    1               NaN   \n",
       "276                 2.0                    2               NaN   \n",
       "\n",
       "    parent_file_val  number_of_segments_val  number_of_voices_parent_val  \\\n",
       "0     uortapdfw0x51                     8.0                          2.0   \n",
       "1     uortapdfw0x51                     8.0                          2.0   \n",
       "2     uortapdfw0x51                     8.0                          2.0   \n",
       "3     uortapdfw0x51                     8.0                          2.0   \n",
       "4     uortapdfw0x51                     8.0                          2.0   \n",
       "..              ...                     ...                          ...   \n",
       "272   xdz15thrnem51                    14.0                          3.0   \n",
       "273   xdz15thrnem51                    14.0                          3.0   \n",
       "274   xdz15thrnem51                    14.0                          3.0   \n",
       "275   xdz15thrnem51                    14.0                          3.0   \n",
       "276   xdz15thrnem51                    14.0                          3.0   \n",
       "\n",
       "     noisy_val extra_sounds_val  parent_label_val  segment_label_val  \\\n",
       "0          NaN              NaN               2.0                2.0   \n",
       "1          NaN              NaN               2.0                1.0   \n",
       "2          NaN              NaN               2.0                0.0   \n",
       "3          NaN              NaN               2.0                0.0   \n",
       "4          NaN              NaN               2.0                2.0   \n",
       "..         ...              ...               ...                ...   \n",
       "272        NaN              NaN               3.0                3.0   \n",
       "273        NaN              NaN               3.0                2.0   \n",
       "274        NaN              NaN               3.0                3.0   \n",
       "275        NaN              NaN               3.0                2.0   \n",
       "276        NaN              NaN               3.0                3.0   \n",
       "\n",
       "            notes_val  \n",
       "0                 NaN  \n",
       "1                 NaN  \n",
       "2                 NaN  \n",
       "3                 NaN  \n",
       "4                 NaN  \n",
       "..                ...  \n",
       "272  unknown language  \n",
       "273  unknown language  \n",
       "274               NaN  \n",
       "275               NaN  \n",
       "276               NaN  \n",
       "\n",
       "[277 rows x 17 columns]"
      ]
     },
     "execution_count": 311,
     "metadata": {},
     "output_type": "execute_result"
    }
   ],
   "source": [
    "# join \n",
    "df_merged = pd.merge(anno_train,anno_val,on='file_name')#,how='left',suffixes=('_train', '_val'))\n",
    "df_merged"
   ]
  },
  {
   "cell_type": "code",
   "execution_count": 312,
   "id": "01cf52f1-6040-4988-89c1-869fb329aac5",
   "metadata": {},
   "outputs": [
    {
     "name": "stdout",
     "output_type": "stream",
     "text": [
      "<class 'pandas.core.frame.DataFrame'>\n",
      "Int64Index: 277 entries, 0 to 276\n",
      "Data columns (total 17 columns):\n",
      " #   Column                         Non-Null Count  Dtype  \n",
      "---  ------                         --------------  -----  \n",
      " 0   file_name                      277 non-null    object \n",
      " 1   parent_file_train              277 non-null    object \n",
      " 2   number_of_segments_train       277 non-null    int64  \n",
      " 3   number_of_voices_parent_train  277 non-null    int64  \n",
      " 4   noisy_train                    277 non-null    float64\n",
      " 5   extra_sounds_train             30 non-null     object \n",
      " 6   parent_label_train             277 non-null    float64\n",
      " 7   segment_label_train            277 non-null    int64  \n",
      " 8   notes_train                    20 non-null     object \n",
      " 9   parent_file_val                277 non-null    object \n",
      " 10  number_of_segments_val         277 non-null    float64\n",
      " 11  number_of_voices_parent_val    277 non-null    float64\n",
      " 12  noisy_val                      0 non-null      float64\n",
      " 13  extra_sounds_val               31 non-null     object \n",
      " 14  parent_label_val               277 non-null    float64\n",
      " 15  segment_label_val              277 non-null    float64\n",
      " 16  notes_val                      5 non-null      object \n",
      "dtypes: float64(7), int64(3), object(7)\n",
      "memory usage: 39.0+ KB\n"
     ]
    }
   ],
   "source": [
    "# Remove Nan Rows\n",
    "df_merged = df_merged[~(df_merged[segment_label+'_train'].isna() | df_merged[segment_label+'_val'].isna())]\n",
    "df_merged.info()"
   ]
  },
  {
   "cell_type": "markdown",
   "id": "e2625bab-064c-47a0-8c2c-c44d8a227651",
   "metadata": {
    "tags": []
   },
   "source": [
    "#### <b> Match or No Match & Weighted Match <b>\n",
    "#### 100%"
   ]
  },
  {
   "cell_type": "code",
   "execution_count": 313,
   "id": "a5480297-4b58-4f49-882b-38d4556b6674",
   "metadata": {},
   "outputs": [
    {
     "name": "stdout",
     "output_type": "stream",
     "text": [
      "100%\n",
      "Segment: \n",
      "Matches: 128\n",
      "Total: 277\n",
      "Segment Unweighted IOE: 46.20938628158845\n",
      "Segment Weighted IOE (Mean Absolute Error): 0.5379061371841155 \n",
      "\n",
      "Parent: \n",
      "Matches: 122\n",
      "Total: 277\n",
      "Parent IOE: 44.04332129963899\n",
      "Parent Weighted IOE (Mean Absolute Error): 0.5595667870036101 \n",
      "\n",
      "Noisy: \n",
      "Matches: 0\n",
      "Total: 277\n",
      "Noisy IOE: 0.0\n"
     ]
    }
   ],
   "source": [
    "# IOE on segment label\n",
    "print('100%')\n",
    "df_merged['match_s'] = np.where(df_merged[segment_label+'_train'] == df_merged[segment_label+'_val'], 1, 0)\n",
    "df_merged['match_s_diff'] = df_merged[segment_label+'_train'] - df_merged[segment_label+'_val'] \n",
    "df_merged['match_s_diff_abs'] = df_merged['match_s_diff'].abs()\n",
    "print('Segment: ')\n",
    "print('Matches:',df_merged['match_s'].sum())\n",
    "print('Total:',df_merged['match_s'].count())\n",
    "print('Segment Unweighted IOE:', df_merged['match_s'].sum()/df_merged['match_s'].count()*100)\n",
    "print('Segment Weighted IOE (Mean Absolute Error):', df_merged['match_s_diff_abs'].mean(),'\\n')\n",
    "\n",
    "# IOE on parent label\n",
    "df_merged['match_p'] = np.where(df_merged[parent_label+'_train'] == df_merged[parent_label+'_val'], 1, 0)\n",
    "df_merged['match_p_diff'] = df_merged[parent_label+'_train'] - df_merged[parent_label+'_val'] \n",
    "df_merged['match_p_diff_abs'] = df_merged['match_p_diff'].abs()\n",
    "print('Parent: ')\n",
    "print('Matches:',df_merged['match_p'].sum())\n",
    "print('Total:',df_merged['match_p'].count())\n",
    "print('Parent IOE:', df_merged['match_p'].sum()/df_merged['match_p'].count()*100)\n",
    "print('Parent Weighted IOE (Mean Absolute Error):', df_merged['match_p_diff_abs'].mean(),'\\n')\n",
    "\n",
    "# IOE on Noise\n",
    "df_merged['match_n'] = np.where(df_merged['noisy'+'_train'] == df_merged['noisy'+'_val'], 1, 0)\n",
    "df_merged['match_n_diff'] = df_merged['noisy'+'_train'] - df_merged['noisy'+'_val'] \n",
    "df_merged['match_n_diff_abs'] = df_merged['match_n_diff'].abs()\n",
    "print('Noisy: ')\n",
    "print('Matches:',df_merged['match_n'].sum())\n",
    "print('Total:',df_merged['match_n'].count())\n",
    "print('Noisy IOE:', df_merged['match_n'].sum()/df_merged['match_n'].count()*100)"
   ]
  },
  {
   "cell_type": "markdown",
   "id": "32318c5a-f717-4bed-9f12-0414408e56cc",
   "metadata": {},
   "source": [
    "#### Distribution of train - val difference values (error)\n",
    "##### Segment"
   ]
  },
  {
   "cell_type": "code",
   "execution_count": 316,
   "id": "3f9d82b5-05a2-4beb-acdd-f6e2876c8e70",
   "metadata": {},
   "outputs": [
    {
     "data": {
      "text/html": [
       "<div>\n",
       "<style scoped>\n",
       "    .dataframe tbody tr th:only-of-type {\n",
       "        vertical-align: middle;\n",
       "    }\n",
       "\n",
       "    .dataframe tbody tr th {\n",
       "        vertical-align: top;\n",
       "    }\n",
       "\n",
       "    .dataframe thead th {\n",
       "        text-align: right;\n",
       "    }\n",
       "</style>\n",
       "<table border=\"1\" class=\"dataframe\">\n",
       "  <thead>\n",
       "    <tr style=\"text-align: right;\">\n",
       "      <th></th>\n",
       "      <th>match_s_diff</th>\n",
       "      <th>match_s</th>\n",
       "    </tr>\n",
       "  </thead>\n",
       "  <tbody>\n",
       "    <tr>\n",
       "      <th>0</th>\n",
       "      <td>-1.0</td>\n",
       "      <td>109</td>\n",
       "    </tr>\n",
       "    <tr>\n",
       "      <th>1</th>\n",
       "      <td>0.0</td>\n",
       "      <td>128</td>\n",
       "    </tr>\n",
       "    <tr>\n",
       "      <th>2</th>\n",
       "      <td>1.0</td>\n",
       "      <td>40</td>\n",
       "    </tr>\n",
       "  </tbody>\n",
       "</table>\n",
       "</div>"
      ],
      "text/plain": [
       "   match_s_diff  match_s\n",
       "0          -1.0      109\n",
       "1           0.0      128\n",
       "2           1.0       40"
      ]
     },
     "metadata": {},
     "output_type": "display_data"
    },
    {
     "data": {
      "text/plain": [
       "<seaborn.axisgrid.FacetGrid at 0x7ff6c30d4e20>"
      ]
     },
     "metadata": {},
     "output_type": "display_data"
    },
    {
     "data": {
      "image/png": "[encoded data removed]",
      "text/plain": [
       "<Figure size 360x360 with 1 Axes>"
      ]
     },
     "metadata": {
      "needs_background": "light"
     },
     "output_type": "display_data"
    }
   ],
   "source": [
    "# train - val difference histogram\n",
    "temp = df_merged.groupby('match_s_diff')['match_s'].count().reset_index()\n",
    "display(temp)\n",
    "display (sns.displot(df_merged['match_s_diff']))"
   ]
  },
  {
   "cell_type": "markdown",
   "id": "12aff771-7356-4565-88ab-cad9ce12250f",
   "metadata": {},
   "source": [
    "##### Parent"
   ]
  },
  {
   "cell_type": "code",
   "execution_count": 317,
   "id": "cb6e8d75-e950-492b-8a1a-2c3fbc77ba75",
   "metadata": {},
   "outputs": [
    {
     "data": {
      "text/html": [
       "<div>\n",
       "<style scoped>\n",
       "    .dataframe tbody tr th:only-of-type {\n",
       "        vertical-align: middle;\n",
       "    }\n",
       "\n",
       "    .dataframe tbody tr th {\n",
       "        vertical-align: top;\n",
       "    }\n",
       "\n",
       "    .dataframe thead th {\n",
       "        text-align: right;\n",
       "    }\n",
       "</style>\n",
       "<table border=\"1\" class=\"dataframe\">\n",
       "  <thead>\n",
       "    <tr style=\"text-align: right;\">\n",
       "      <th></th>\n",
       "      <th>match_p_diff</th>\n",
       "      <th>match_p</th>\n",
       "    </tr>\n",
       "  </thead>\n",
       "  <tbody>\n",
       "    <tr>\n",
       "      <th>0</th>\n",
       "      <td>-1.0</td>\n",
       "      <td>111</td>\n",
       "    </tr>\n",
       "    <tr>\n",
       "      <th>1</th>\n",
       "      <td>0.0</td>\n",
       "      <td>122</td>\n",
       "    </tr>\n",
       "    <tr>\n",
       "      <th>2</th>\n",
       "      <td>1.0</td>\n",
       "      <td>44</td>\n",
       "    </tr>\n",
       "  </tbody>\n",
       "</table>\n",
       "</div>"
      ],
      "text/plain": [
       "   match_p_diff  match_p\n",
       "0          -1.0      111\n",
       "1           0.0      122\n",
       "2           1.0       44"
      ]
     },
     "metadata": {},
     "output_type": "display_data"
    },
    {
     "data": {
      "text/plain": [
       "<seaborn.axisgrid.FacetGrid at 0x7ff6782e84f0>"
      ]
     },
     "metadata": {},
     "output_type": "display_data"
    },
    {
     "data": {
      "image/png": "[encoded data removed]",
      "text/plain": [
       "<Figure size 360x360 with 1 Axes>"
      ]
     },
     "metadata": {
      "needs_background": "light"
     },
     "output_type": "display_data"
    }
   ],
   "source": [
    "temp = df_merged.groupby('match_p_diff')['match_p'].count().reset_index()\n",
    "display(temp)\n",
    "display (sns.displot(df_merged['match_p_diff']))"
   ]
  },
  {
   "cell_type": "markdown",
   "id": "78f3a756-f2f6-4925-b0b9-ebc26f02ff8b",
   "metadata": {},
   "source": [
    "##### Noisy"
   ]
  },
  {
   "cell_type": "code",
   "execution_count": 318,
   "id": "593609bf-cca4-4956-90c1-95e4f4e074de",
   "metadata": {},
   "outputs": [
    {
     "data": {
      "text/html": [
       "<div>\n",
       "<style scoped>\n",
       "    .dataframe tbody tr th:only-of-type {\n",
       "        vertical-align: middle;\n",
       "    }\n",
       "\n",
       "    .dataframe tbody tr th {\n",
       "        vertical-align: top;\n",
       "    }\n",
       "\n",
       "    .dataframe thead th {\n",
       "        text-align: right;\n",
       "    }\n",
       "</style>\n",
       "<table border=\"1\" class=\"dataframe\">\n",
       "  <thead>\n",
       "    <tr style=\"text-align: right;\">\n",
       "      <th></th>\n",
       "      <th>match_n_diff</th>\n",
       "      <th>match_n</th>\n",
       "    </tr>\n",
       "  </thead>\n",
       "  <tbody>\n",
       "  </tbody>\n",
       "</table>\n",
       "</div>"
      ],
      "text/plain": [
       "Empty DataFrame\n",
       "Columns: [match_n_diff, match_n]\n",
       "Index: []"
      ]
     },
     "metadata": {},
     "output_type": "display_data"
    },
    {
     "data": {
      "text/plain": [
       "<seaborn.axisgrid.FacetGrid at 0x7ff6b078f760>"
      ]
     },
     "metadata": {},
     "output_type": "display_data"
    },
    {
     "data": {
      "image/png": "[encoded data removed]",
      "text/plain": [
       "<Figure size 360x360 with 1 Axes>"
      ]
     },
     "metadata": {
      "needs_background": "light"
     },
     "output_type": "display_data"
    }
   ],
   "source": [
    "temp = df_merged.groupby('match_n_diff')['match_n'].count().reset_index()\n",
    "display(temp)\n",
    "display (sns.displot(df_merged['match_n_diff']))"
   ]
  },
  {
   "cell_type": "markdown",
   "id": "69ad03d6-7f1a-43c0-b638-7fb7b940849c",
   "metadata": {
    "tags": []
   },
   "source": [
    "#### <b> Match or No Match <b>\n",
    "#### 50%"
   ]
  },
  {
   "cell_type": "code",
   "execution_count": 319,
   "id": "33e83c36-4ed7-412b-bbd7-8118d46c46aa",
   "metadata": {},
   "outputs": [
    {
     "name": "stdout",
     "output_type": "stream",
     "text": [
      "50%\n",
      "Segment: \n",
      "Matches: 66\n",
      "Total: 138\n",
      "Segment IOE: 47.82608695652174 \n",
      "\n",
      "Parent: \n",
      "Matches: 63\n",
      "Total: 138\n",
      "Parent IOE: 45.65217391304348 \n",
      "\n",
      "Noisy: \n",
      "Matches: 0\n",
      "Total: 138\n",
      "Noisy IOE: 0.0\n"
     ]
    }
   ],
   "source": [
    "# IOE on segment label\n",
    "print('50%')\n",
    "df_sample = df_merged.sample(frac=0.50)\n",
    "print('Segment: ')\n",
    "print('Matches:',df_sample['match_s'].sum())\n",
    "print('Total:',df_sample['match_s'].count())\n",
    "print('Segment IOE:', df_sample['match_s'].sum()/df_sample['match_s'].count()*100,'\\n')\n",
    "\n",
    "# IOE on parent label\n",
    "print('Parent: ')\n",
    "print('Matches:',df_sample['match_p'].sum())\n",
    "print('Total:',df_sample['match_p'].count())\n",
    "print('Parent IOE:', df_sample['match_p'].sum()/df_sample['match_p'].count()*100,'\\n')\n",
    "\n",
    "# IOE on Noise\n",
    "print('Noisy: ')\n",
    "print('Matches:',df_sample['match_n'].sum())\n",
    "print('Total:',df_sample['match_n'].count())\n",
    "print('Noisy IOE:', df_sample['match_n'].sum()/df_sample['match_n'].count()*100)"
   ]
  },
  {
   "cell_type": "markdown",
   "id": "b23aac93-4142-4d72-a7ce-ca77e7858afc",
   "metadata": {
    "tags": []
   },
   "source": [
    "#### <b>Cohen's Kappa<b>"
   ]
  },
  {
   "cell_type": "code",
   "execution_count": 322,
   "id": "b8133303-5d54-4928-92d0-72006640e850",
   "metadata": {},
   "outputs": [
    {
     "name": "stdout",
     "output_type": "stream",
     "text": [
      "Cohen k (Segment): 0.2365334813170551\n",
      "Cohen k (Parent): 0.23828194301529293\n"
     ]
    }
   ],
   "source": [
    "# Calculate Cohen's k\n",
    "print('Cohen k (Segment):',cohen_kappa_score(df_merged[segment_label+'_train'], df_merged[segment_label+'_val']))\n",
    "print('Cohen k (Parent):',cohen_kappa_score(df_merged[parent_label+'_train'], df_merged[parent_label+'_val']))\n",
    "#print('Cohen k (Noisy):',cohen_kappa_score(df_merged['noisy'+'_train'], df_merged['noisy'+'_val']))"
   ]
  },
  {
   "cell_type": "markdown",
   "id": "05aca747-f9c4-4a35-99b1-e8b9ceaad721",
   "metadata": {
    "tags": []
   },
   "source": [
    "## F"
   ]
  },
  {
   "cell_type": "code",
   "execution_count": 323,
   "id": "0cea8b93-a1dc-4550-bfca-000058213c71",
   "metadata": {},
   "outputs": [],
   "source": [
    "# # Read Data\n",
    "# anno_train = pd.read_excel(file_path+'labelled-reddit-2021-08-12-F-CW.xlsx')\n",
    "# anno_val = pd.read_excel(file_path+'labelled-reddit-2021-08-12-F-SA.xlsx')"
   ]
  },
  {
   "cell_type": "code",
   "execution_count": 324,
   "id": "710e6cf4-9617-4922-b5bb-c212304cd091",
   "metadata": {},
   "outputs": [],
   "source": [
    "# Read Data\n",
    "anno_train = pd.read_csv(file_path+'F-cleaned.csv')\n",
    "anno_val = pd.read_csv(file_path+'F-cleaned-val.csv')"
   ]
  },
  {
   "cell_type": "code",
   "execution_count": 325,
   "id": "63ed4a59-22ca-43f4-ab89-085a05a782c1",
   "metadata": {},
   "outputs": [
    {
     "data": {
      "text/html": [
       "<div>\n",
       "<style scoped>\n",
       "    .dataframe tbody tr th:only-of-type {\n",
       "        vertical-align: middle;\n",
       "    }\n",
       "\n",
       "    .dataframe tbody tr th {\n",
       "        vertical-align: top;\n",
       "    }\n",
       "\n",
       "    .dataframe thead th {\n",
       "        text-align: right;\n",
       "    }\n",
       "</style>\n",
       "<table border=\"1\" class=\"dataframe\">\n",
       "  <thead>\n",
       "    <tr style=\"text-align: right;\">\n",
       "      <th></th>\n",
       "      <th>file_name</th>\n",
       "      <th>parent_file_train</th>\n",
       "      <th>number_of_segments_train</th>\n",
       "      <th>number_of_voices_parent_train</th>\n",
       "      <th>parent_label_train</th>\n",
       "      <th>segment_label_train</th>\n",
       "      <th>noisy_train</th>\n",
       "      <th>extra_sounds_train</th>\n",
       "      <th>notes</th>\n",
       "      <th>Notes</th>\n",
       "    </tr>\n",
       "  </thead>\n",
       "  <tbody>\n",
       "    <tr>\n",
       "      <th>0</th>\n",
       "      <td>lpg39tdh1bv51_processed_0</td>\n",
       "      <td>lpg39tdh1bv51</td>\n",
       "      <td>4</td>\n",
       "      <td>6.0</td>\n",
       "      <td>0.0</td>\n",
       "      <td>0.0</td>\n",
       "      <td>1.0</td>\n",
       "      <td>NaN</td>\n",
       "      <td>NaN</td>\n",
       "      <td>NaN</td>\n",
       "    </tr>\n",
       "  </tbody>\n",
       "</table>\n",
       "</div>"
      ],
      "text/plain": [
       "                   file_name parent_file_train  number_of_segments_train  \\\n",
       "0  lpg39tdh1bv51_processed_0     lpg39tdh1bv51                         4   \n",
       "\n",
       "   number_of_voices_parent_train  parent_label_train  segment_label_train  \\\n",
       "0                            6.0                 0.0                  0.0   \n",
       "\n",
       "   noisy_train extra_sounds_train notes Notes  \n",
       "0          1.0                NaN   NaN   NaN  "
      ]
     },
     "metadata": {},
     "output_type": "display_data"
    },
    {
     "name": "stdout",
     "output_type": "stream",
     "text": [
      "Index(['file_name', 'parent_file_train', 'number_of_segments_train',\n",
      "       'number_of_voices_parent_train', 'parent_label_train',\n",
      "       'segment_label_train', 'noisy_train', 'extra_sounds_train', 'notes',\n",
      "       'Notes'],\n",
      "      dtype='object')\n"
     ]
    }
   ],
   "source": [
    "display(anno_train.head(1))\n",
    "print(anno_train.columns)"
   ]
  },
  {
   "cell_type": "code",
   "execution_count": 326,
   "id": "acc45ba3-d3d3-49dc-8a07-a6070d8b6435",
   "metadata": {},
   "outputs": [
    {
     "data": {
      "text/html": [
       "<div>\n",
       "<style scoped>\n",
       "    .dataframe tbody tr th:only-of-type {\n",
       "        vertical-align: middle;\n",
       "    }\n",
       "\n",
       "    .dataframe tbody tr th {\n",
       "        vertical-align: top;\n",
       "    }\n",
       "\n",
       "    .dataframe thead th {\n",
       "        text-align: right;\n",
       "    }\n",
       "</style>\n",
       "<table border=\"1\" class=\"dataframe\">\n",
       "  <thead>\n",
       "    <tr style=\"text-align: right;\">\n",
       "      <th></th>\n",
       "      <th>file_name</th>\n",
       "      <th>noisy</th>\n",
       "      <th>extra_sounds</th>\n",
       "      <th>notes</th>\n",
       "      <th>parent_file_val</th>\n",
       "      <th>number_of_segments_val</th>\n",
       "      <th>number_of_voices_parent_val</th>\n",
       "      <th>segment_label_val</th>\n",
       "      <th>parent_label_val</th>\n",
       "      <th>Noisy</th>\n",
       "      <th>extra sounds</th>\n",
       "      <th>Notes</th>\n",
       "    </tr>\n",
       "  </thead>\n",
       "  <tbody>\n",
       "    <tr>\n",
       "      <th>0</th>\n",
       "      <td>lpg39tdh1bv51_processed_0</td>\n",
       "      <td>1.0</td>\n",
       "      <td>NaN</td>\n",
       "      <td>NaN</td>\n",
       "      <td>lpg39tdh1bv51</td>\n",
       "      <td>NaN</td>\n",
       "      <td>NaN</td>\n",
       "      <td>0.0</td>\n",
       "      <td>0.0</td>\n",
       "      <td>1.0</td>\n",
       "      <td>NaN</td>\n",
       "      <td>NaN</td>\n",
       "    </tr>\n",
       "  </tbody>\n",
       "</table>\n",
       "</div>"
      ],
      "text/plain": [
       "                   file_name  noisy extra_sounds notes parent_file_val  \\\n",
       "0  lpg39tdh1bv51_processed_0    1.0          NaN   NaN   lpg39tdh1bv51   \n",
       "\n",
       "   number_of_segments_val  number_of_voices_parent_val  segment_label_val  \\\n",
       "0                     NaN                          NaN                0.0   \n",
       "\n",
       "   parent_label_val  Noisy  extra sounds Notes  \n",
       "0               0.0    1.0           NaN   NaN  "
      ]
     },
     "metadata": {},
     "output_type": "display_data"
    },
    {
     "name": "stdout",
     "output_type": "stream",
     "text": [
      "Index(['file_name', 'noisy', 'extra_sounds', 'notes', 'parent_file_val',\n",
      "       'number_of_segments_val', 'number_of_voices_parent_val',\n",
      "       'segment_label_val', 'parent_label_val', 'Noisy', 'extra sounds',\n",
      "       'Notes'],\n",
      "      dtype='object')\n"
     ]
    }
   ],
   "source": [
    "display(anno_val.head(1))\n",
    "print(anno_val.columns)"
   ]
  },
  {
   "cell_type": "code",
   "execution_count": 327,
   "id": "93bf181f-d0c5-4b0f-be01-a70dd221f6d4",
   "metadata": {},
   "outputs": [],
   "source": [
    "# # Correct train file column names\n",
    "# anno_train.columns=['parent_file', 'file_name', 'segment_label', 'parent_label', 'Noisy',\n",
    "#        'extra sounds', 'Notes']"
   ]
  },
  {
   "cell_type": "code",
   "execution_count": 328,
   "id": "49968ad8-d153-4e7b-91dd-1c3c5b6b1557",
   "metadata": {},
   "outputs": [
    {
     "name": "stdout",
     "output_type": "stream",
     "text": [
      "<class 'pandas.core.frame.DataFrame'>\n",
      "RangeIndex: 335 entries, 0 to 334\n",
      "Data columns (total 10 columns):\n",
      " #   Column                         Non-Null Count  Dtype  \n",
      "---  ------                         --------------  -----  \n",
      " 0   file_name                      335 non-null    object \n",
      " 1   parent_file_train              335 non-null    object \n",
      " 2   number_of_segments_train       335 non-null    int64  \n",
      " 3   number_of_voices_parent_train  335 non-null    float64\n",
      " 4   parent_label_train             335 non-null    float64\n",
      " 5   segment_label_train            335 non-null    float64\n",
      " 6   noisy_train                    335 non-null    float64\n",
      " 7   extra_sounds_train             164 non-null    object \n",
      " 8   notes                          33 non-null     object \n",
      " 9   Notes                          1 non-null      object \n",
      "dtypes: float64(4), int64(1), object(5)\n",
      "memory usage: 26.3+ KB\n"
     ]
    }
   ],
   "source": [
    "# Check for nulls\n",
    "anno_train.info()"
   ]
  },
  {
   "cell_type": "code",
   "execution_count": 329,
   "id": "e86b013c-c115-480b-a36c-e20306a66050",
   "metadata": {},
   "outputs": [
    {
     "name": "stdout",
     "output_type": "stream",
     "text": [
      "<class 'pandas.core.frame.DataFrame'>\n",
      "RangeIndex: 335 entries, 0 to 334\n",
      "Data columns (total 12 columns):\n",
      " #   Column                       Non-Null Count  Dtype  \n",
      "---  ------                       --------------  -----  \n",
      " 0   file_name                    335 non-null    object \n",
      " 1   noisy                        335 non-null    float64\n",
      " 2   extra_sounds                 164 non-null    object \n",
      " 3   notes                        33 non-null     object \n",
      " 4   parent_file_val              335 non-null    object \n",
      " 5   number_of_segments_val       0 non-null      float64\n",
      " 6   number_of_voices_parent_val  0 non-null      float64\n",
      " 7   segment_label_val            335 non-null    float64\n",
      " 8   parent_label_val             334 non-null    float64\n",
      " 9   Noisy                        335 non-null    float64\n",
      " 10  extra sounds                 0 non-null      float64\n",
      " 11  Notes                        1 non-null      object \n",
      "dtypes: float64(7), object(5)\n",
      "memory usage: 31.5+ KB\n"
     ]
    }
   ],
   "source": [
    "# Check for nulls\n",
    "anno_val.info()"
   ]
  },
  {
   "cell_type": "code",
   "execution_count": 330,
   "id": "548c9ce8-0863-4b77-a621-803abce01723",
   "metadata": {},
   "outputs": [],
   "source": [
    "# segment_label = 'segment_label'\n",
    "# parent_label = 'parent_label'\n",
    "\n",
    "anno_train['file_name'] = anno_train['file_name'].str.strip()\n",
    "anno_val['file_name'] = anno_val['file_name'].str.strip()"
   ]
  },
  {
   "cell_type": "code",
   "execution_count": 331,
   "id": "7f856297-3fbb-43e7-8a54-28fc7a3f42e9",
   "metadata": {},
   "outputs": [
    {
     "data": {
      "text/html": [
       "<div>\n",
       "<style scoped>\n",
       "    .dataframe tbody tr th:only-of-type {\n",
       "        vertical-align: middle;\n",
       "    }\n",
       "\n",
       "    .dataframe tbody tr th {\n",
       "        vertical-align: top;\n",
       "    }\n",
       "\n",
       "    .dataframe thead th {\n",
       "        text-align: right;\n",
       "    }\n",
       "</style>\n",
       "<table border=\"1\" class=\"dataframe\">\n",
       "  <thead>\n",
       "    <tr style=\"text-align: right;\">\n",
       "      <th></th>\n",
       "      <th>file_name</th>\n",
       "      <th>parent_file_train</th>\n",
       "      <th>number_of_segments_train</th>\n",
       "      <th>number_of_voices_parent_train</th>\n",
       "      <th>parent_label_train</th>\n",
       "      <th>segment_label_train</th>\n",
       "      <th>noisy_train</th>\n",
       "      <th>extra_sounds_train</th>\n",
       "      <th>notes_x</th>\n",
       "      <th>Notes_x</th>\n",
       "      <th>...</th>\n",
       "      <th>extra_sounds</th>\n",
       "      <th>notes_y</th>\n",
       "      <th>parent_file_val</th>\n",
       "      <th>number_of_segments_val</th>\n",
       "      <th>number_of_voices_parent_val</th>\n",
       "      <th>segment_label_val</th>\n",
       "      <th>parent_label_val</th>\n",
       "      <th>Noisy</th>\n",
       "      <th>extra sounds</th>\n",
       "      <th>Notes_y</th>\n",
       "    </tr>\n",
       "  </thead>\n",
       "  <tbody>\n",
       "    <tr>\n",
       "      <th>0</th>\n",
       "      <td>lpg39tdh1bv51_processed_0</td>\n",
       "      <td>lpg39tdh1bv51</td>\n",
       "      <td>4</td>\n",
       "      <td>6.0</td>\n",
       "      <td>0.0</td>\n",
       "      <td>0.0</td>\n",
       "      <td>1.0</td>\n",
       "      <td>NaN</td>\n",
       "      <td>NaN</td>\n",
       "      <td>NaN</td>\n",
       "      <td>...</td>\n",
       "      <td>NaN</td>\n",
       "      <td>NaN</td>\n",
       "      <td>lpg39tdh1bv51</td>\n",
       "      <td>NaN</td>\n",
       "      <td>NaN</td>\n",
       "      <td>0.0</td>\n",
       "      <td>0.0</td>\n",
       "      <td>1.0</td>\n",
       "      <td>NaN</td>\n",
       "      <td>NaN</td>\n",
       "    </tr>\n",
       "    <tr>\n",
       "      <th>1</th>\n",
       "      <td>lpg39tdh1bv51_processed_1</td>\n",
       "      <td>lpg39tdh1bv51</td>\n",
       "      <td>4</td>\n",
       "      <td>6.0</td>\n",
       "      <td>0.0</td>\n",
       "      <td>0.0</td>\n",
       "      <td>1.0</td>\n",
       "      <td>NaN</td>\n",
       "      <td>excessive laughing</td>\n",
       "      <td>NaN</td>\n",
       "      <td>...</td>\n",
       "      <td>NaN</td>\n",
       "      <td>excessive laughing</td>\n",
       "      <td>lpg39tdh1bv51</td>\n",
       "      <td>NaN</td>\n",
       "      <td>NaN</td>\n",
       "      <td>0.0</td>\n",
       "      <td>0.0</td>\n",
       "      <td>1.0</td>\n",
       "      <td>NaN</td>\n",
       "      <td>NaN</td>\n",
       "    </tr>\n",
       "    <tr>\n",
       "      <th>2</th>\n",
       "      <td>lpg39tdh1bv51_processed_2</td>\n",
       "      <td>lpg39tdh1bv51</td>\n",
       "      <td>4</td>\n",
       "      <td>6.0</td>\n",
       "      <td>0.0</td>\n",
       "      <td>0.0</td>\n",
       "      <td>1.0</td>\n",
       "      <td>NaN</td>\n",
       "      <td>excessive laughing</td>\n",
       "      <td>NaN</td>\n",
       "      <td>...</td>\n",
       "      <td>NaN</td>\n",
       "      <td>excessive laughing</td>\n",
       "      <td>lpg39tdh1bv51</td>\n",
       "      <td>NaN</td>\n",
       "      <td>NaN</td>\n",
       "      <td>0.0</td>\n",
       "      <td>0.0</td>\n",
       "      <td>1.0</td>\n",
       "      <td>NaN</td>\n",
       "      <td>NaN</td>\n",
       "    </tr>\n",
       "    <tr>\n",
       "      <th>3</th>\n",
       "      <td>ltdu6anws3m61_processed_0</td>\n",
       "      <td>ltdu6anws3m61</td>\n",
       "      <td>4</td>\n",
       "      <td>2.0</td>\n",
       "      <td>1.0</td>\n",
       "      <td>1.0</td>\n",
       "      <td>0.0</td>\n",
       "      <td>NaN</td>\n",
       "      <td>NaN</td>\n",
       "      <td>NaN</td>\n",
       "      <td>...</td>\n",
       "      <td>NaN</td>\n",
       "      <td>NaN</td>\n",
       "      <td>ltdu6anws3m61</td>\n",
       "      <td>NaN</td>\n",
       "      <td>NaN</td>\n",
       "      <td>1.0</td>\n",
       "      <td>1.0</td>\n",
       "      <td>0.0</td>\n",
       "      <td>NaN</td>\n",
       "      <td>NaN</td>\n",
       "    </tr>\n",
       "    <tr>\n",
       "      <th>4</th>\n",
       "      <td>ltdu6anws3m61_processed_1</td>\n",
       "      <td>ltdu6anws3m61</td>\n",
       "      <td>4</td>\n",
       "      <td>2.0</td>\n",
       "      <td>1.0</td>\n",
       "      <td>1.0</td>\n",
       "      <td>0.0</td>\n",
       "      <td>NaN</td>\n",
       "      <td>NaN</td>\n",
       "      <td>NaN</td>\n",
       "      <td>...</td>\n",
       "      <td>NaN</td>\n",
       "      <td>NaN</td>\n",
       "      <td>ltdu6anws3m61</td>\n",
       "      <td>NaN</td>\n",
       "      <td>NaN</td>\n",
       "      <td>1.0</td>\n",
       "      <td>1.0</td>\n",
       "      <td>0.0</td>\n",
       "      <td>NaN</td>\n",
       "      <td>NaN</td>\n",
       "    </tr>\n",
       "    <tr>\n",
       "      <th>...</th>\n",
       "      <td>...</td>\n",
       "      <td>...</td>\n",
       "      <td>...</td>\n",
       "      <td>...</td>\n",
       "      <td>...</td>\n",
       "      <td>...</td>\n",
       "      <td>...</td>\n",
       "      <td>...</td>\n",
       "      <td>...</td>\n",
       "      <td>...</td>\n",
       "      <td>...</td>\n",
       "      <td>...</td>\n",
       "      <td>...</td>\n",
       "      <td>...</td>\n",
       "      <td>...</td>\n",
       "      <td>...</td>\n",
       "      <td>...</td>\n",
       "      <td>...</td>\n",
       "      <td>...</td>\n",
       "      <td>...</td>\n",
       "      <td>...</td>\n",
       "    </tr>\n",
       "    <tr>\n",
       "      <th>332</th>\n",
       "      <td>oc2jufewbdd61_processed_0</td>\n",
       "      <td>oc2jufewbdd61</td>\n",
       "      <td>4</td>\n",
       "      <td>2.0</td>\n",
       "      <td>1.0</td>\n",
       "      <td>1.0</td>\n",
       "      <td>0.0</td>\n",
       "      <td>music, speech</td>\n",
       "      <td>NaN</td>\n",
       "      <td>NaN</td>\n",
       "      <td>...</td>\n",
       "      <td>music, speech</td>\n",
       "      <td>NaN</td>\n",
       "      <td>oc2jufewbdd61</td>\n",
       "      <td>NaN</td>\n",
       "      <td>NaN</td>\n",
       "      <td>0.0</td>\n",
       "      <td>1.0</td>\n",
       "      <td>0.0</td>\n",
       "      <td>NaN</td>\n",
       "      <td>NaN</td>\n",
       "    </tr>\n",
       "    <tr>\n",
       "      <th>333</th>\n",
       "      <td>oc2jufewbdd61_processed_1</td>\n",
       "      <td>oc2jufewbdd61</td>\n",
       "      <td>4</td>\n",
       "      <td>2.0</td>\n",
       "      <td>1.0</td>\n",
       "      <td>1.0</td>\n",
       "      <td>0.0</td>\n",
       "      <td>music, speech</td>\n",
       "      <td>NaN</td>\n",
       "      <td>NaN</td>\n",
       "      <td>...</td>\n",
       "      <td>music, speech</td>\n",
       "      <td>NaN</td>\n",
       "      <td>oc2jufewbdd61</td>\n",
       "      <td>NaN</td>\n",
       "      <td>NaN</td>\n",
       "      <td>0.0</td>\n",
       "      <td>1.0</td>\n",
       "      <td>0.0</td>\n",
       "      <td>NaN</td>\n",
       "      <td>NaN</td>\n",
       "    </tr>\n",
       "    <tr>\n",
       "      <th>334</th>\n",
       "      <td>oc2jufewbdd61_processed_2</td>\n",
       "      <td>oc2jufewbdd61</td>\n",
       "      <td>4</td>\n",
       "      <td>2.0</td>\n",
       "      <td>1.0</td>\n",
       "      <td>0.0</td>\n",
       "      <td>0.0</td>\n",
       "      <td>music, speech</td>\n",
       "      <td>NaN</td>\n",
       "      <td>NaN</td>\n",
       "      <td>...</td>\n",
       "      <td>music, speech</td>\n",
       "      <td>NaN</td>\n",
       "      <td>oc2jufewbdd61</td>\n",
       "      <td>NaN</td>\n",
       "      <td>NaN</td>\n",
       "      <td>1.0</td>\n",
       "      <td>1.0</td>\n",
       "      <td>0.0</td>\n",
       "      <td>NaN</td>\n",
       "      <td>NaN</td>\n",
       "    </tr>\n",
       "    <tr>\n",
       "      <th>335</th>\n",
       "      <td>oc2jufewbdd61_processed_3</td>\n",
       "      <td>oc2jufewbdd61</td>\n",
       "      <td>4</td>\n",
       "      <td>2.0</td>\n",
       "      <td>1.0</td>\n",
       "      <td>0.0</td>\n",
       "      <td>0.0</td>\n",
       "      <td>music, speech</td>\n",
       "      <td>NaN</td>\n",
       "      <td>NaN</td>\n",
       "      <td>...</td>\n",
       "      <td>music, speech</td>\n",
       "      <td>NaN</td>\n",
       "      <td>oc2jufewbdd61</td>\n",
       "      <td>NaN</td>\n",
       "      <td>NaN</td>\n",
       "      <td>1.0</td>\n",
       "      <td>1.0</td>\n",
       "      <td>0.0</td>\n",
       "      <td>NaN</td>\n",
       "      <td>NaN</td>\n",
       "    </tr>\n",
       "    <tr>\n",
       "      <th>336</th>\n",
       "      <td>ocqcmynrkmd71_processed_0</td>\n",
       "      <td>ocqcmynrkmd71</td>\n",
       "      <td>2</td>\n",
       "      <td>5.0</td>\n",
       "      <td>2.0</td>\n",
       "      <td>2.0</td>\n",
       "      <td>0.0</td>\n",
       "      <td>fighting</td>\n",
       "      <td>NaN</td>\n",
       "      <td>NaN</td>\n",
       "      <td>...</td>\n",
       "      <td>fighting</td>\n",
       "      <td>NaN</td>\n",
       "      <td>ocqcmynrkmd71</td>\n",
       "      <td>NaN</td>\n",
       "      <td>NaN</td>\n",
       "      <td>3.0</td>\n",
       "      <td>3.0</td>\n",
       "      <td>0.0</td>\n",
       "      <td>NaN</td>\n",
       "      <td>NaN</td>\n",
       "    </tr>\n",
       "  </tbody>\n",
       "</table>\n",
       "<p>337 rows × 21 columns</p>\n",
       "</div>"
      ],
      "text/plain": [
       "                     file_name parent_file_train  number_of_segments_train  \\\n",
       "0    lpg39tdh1bv51_processed_0     lpg39tdh1bv51                         4   \n",
       "1    lpg39tdh1bv51_processed_1     lpg39tdh1bv51                         4   \n",
       "2    lpg39tdh1bv51_processed_2     lpg39tdh1bv51                         4   \n",
       "3    ltdu6anws3m61_processed_0     ltdu6anws3m61                         4   \n",
       "4    ltdu6anws3m61_processed_1     ltdu6anws3m61                         4   \n",
       "..                         ...               ...                       ...   \n",
       "332  oc2jufewbdd61_processed_0     oc2jufewbdd61                         4   \n",
       "333  oc2jufewbdd61_processed_1     oc2jufewbdd61                         4   \n",
       "334  oc2jufewbdd61_processed_2     oc2jufewbdd61                         4   \n",
       "335  oc2jufewbdd61_processed_3     oc2jufewbdd61                         4   \n",
       "336  ocqcmynrkmd71_processed_0     ocqcmynrkmd71                         2   \n",
       "\n",
       "     number_of_voices_parent_train  parent_label_train  segment_label_train  \\\n",
       "0                              6.0                 0.0                  0.0   \n",
       "1                              6.0                 0.0                  0.0   \n",
       "2                              6.0                 0.0                  0.0   \n",
       "3                              2.0                 1.0                  1.0   \n",
       "4                              2.0                 1.0                  1.0   \n",
       "..                             ...                 ...                  ...   \n",
       "332                            2.0                 1.0                  1.0   \n",
       "333                            2.0                 1.0                  1.0   \n",
       "334                            2.0                 1.0                  0.0   \n",
       "335                            2.0                 1.0                  0.0   \n",
       "336                            5.0                 2.0                  2.0   \n",
       "\n",
       "     noisy_train extra_sounds_train             notes_x Notes_x  ...  \\\n",
       "0            1.0                NaN                 NaN     NaN  ...   \n",
       "1            1.0                NaN  excessive laughing     NaN  ...   \n",
       "2            1.0                NaN  excessive laughing     NaN  ...   \n",
       "3            0.0                NaN                 NaN     NaN  ...   \n",
       "4            0.0                NaN                 NaN     NaN  ...   \n",
       "..           ...                ...                 ...     ...  ...   \n",
       "332          0.0      music, speech                 NaN     NaN  ...   \n",
       "333          0.0      music, speech                 NaN     NaN  ...   \n",
       "334          0.0      music, speech                 NaN     NaN  ...   \n",
       "335          0.0      music, speech                 NaN     NaN  ...   \n",
       "336          0.0           fighting                 NaN     NaN  ...   \n",
       "\n",
       "      extra_sounds             notes_y parent_file_val number_of_segments_val  \\\n",
       "0              NaN                 NaN   lpg39tdh1bv51                    NaN   \n",
       "1              NaN  excessive laughing   lpg39tdh1bv51                    NaN   \n",
       "2              NaN  excessive laughing   lpg39tdh1bv51                    NaN   \n",
       "3              NaN                 NaN   ltdu6anws3m61                    NaN   \n",
       "4              NaN                 NaN   ltdu6anws3m61                    NaN   \n",
       "..             ...                 ...             ...                    ...   \n",
       "332  music, speech                 NaN   oc2jufewbdd61                    NaN   \n",
       "333  music, speech                 NaN   oc2jufewbdd61                    NaN   \n",
       "334  music, speech                 NaN   oc2jufewbdd61                    NaN   \n",
       "335  music, speech                 NaN   oc2jufewbdd61                    NaN   \n",
       "336       fighting                 NaN   ocqcmynrkmd71                    NaN   \n",
       "\n",
       "     number_of_voices_parent_val  segment_label_val  parent_label_val  Noisy  \\\n",
       "0                            NaN                0.0               0.0    1.0   \n",
       "1                            NaN                0.0               0.0    1.0   \n",
       "2                            NaN                0.0               0.0    1.0   \n",
       "3                            NaN                1.0               1.0    0.0   \n",
       "4                            NaN                1.0               1.0    0.0   \n",
       "..                           ...                ...               ...    ...   \n",
       "332                          NaN                0.0               1.0    0.0   \n",
       "333                          NaN                0.0               1.0    0.0   \n",
       "334                          NaN                1.0               1.0    0.0   \n",
       "335                          NaN                1.0               1.0    0.0   \n",
       "336                          NaN                3.0               3.0    0.0   \n",
       "\n",
       "     extra sounds  Notes_y  \n",
       "0             NaN      NaN  \n",
       "1             NaN      NaN  \n",
       "2             NaN      NaN  \n",
       "3             NaN      NaN  \n",
       "4             NaN      NaN  \n",
       "..            ...      ...  \n",
       "332           NaN      NaN  \n",
       "333           NaN      NaN  \n",
       "334           NaN      NaN  \n",
       "335           NaN      NaN  \n",
       "336           NaN      NaN  \n",
       "\n",
       "[337 rows x 21 columns]"
      ]
     },
     "execution_count": 331,
     "metadata": {},
     "output_type": "execute_result"
    }
   ],
   "source": [
    "# join \n",
    "df_merged = pd.merge(anno_train,anno_val,on='file_name')#,how='left',suffixes=('_train', '_val'))\n",
    "df_merged"
   ]
  },
  {
   "cell_type": "code",
   "execution_count": 332,
   "id": "3f904105-2ffc-4342-abd8-3ae11d651d4c",
   "metadata": {},
   "outputs": [
    {
     "name": "stdout",
     "output_type": "stream",
     "text": [
      "<class 'pandas.core.frame.DataFrame'>\n",
      "Int64Index: 337 entries, 0 to 336\n",
      "Data columns (total 21 columns):\n",
      " #   Column                         Non-Null Count  Dtype  \n",
      "---  ------                         --------------  -----  \n",
      " 0   file_name                      337 non-null    object \n",
      " 1   parent_file_train              337 non-null    object \n",
      " 2   number_of_segments_train       337 non-null    int64  \n",
      " 3   number_of_voices_parent_train  337 non-null    float64\n",
      " 4   parent_label_train             337 non-null    float64\n",
      " 5   segment_label_train            337 non-null    float64\n",
      " 6   noisy_train                    337 non-null    float64\n",
      " 7   extra_sounds_train             164 non-null    object \n",
      " 8   notes_x                        33 non-null     object \n",
      " 9   Notes_x                        1 non-null      object \n",
      " 10  noisy                          337 non-null    float64\n",
      " 11  extra_sounds                   164 non-null    object \n",
      " 12  notes_y                        33 non-null     object \n",
      " 13  parent_file_val                337 non-null    object \n",
      " 14  number_of_segments_val         0 non-null      float64\n",
      " 15  number_of_voices_parent_val    0 non-null      float64\n",
      " 16  segment_label_val              337 non-null    float64\n",
      " 17  parent_label_val               336 non-null    float64\n",
      " 18  Noisy                          337 non-null    float64\n",
      " 19  extra sounds                   0 non-null      float64\n",
      " 20  Notes_y                        1 non-null      object \n",
      "dtypes: float64(11), int64(1), object(9)\n",
      "memory usage: 57.9+ KB\n"
     ]
    }
   ],
   "source": [
    "# Remove Nan Rows\n",
    "df_merged = df_merged[~(df_merged[segment_label+'_train'].isna() | df_merged[segment_label+'_val'].isna())]\n",
    "df_merged.info()"
   ]
  },
  {
   "cell_type": "markdown",
   "id": "9d45f220-442d-4df9-8dd6-212f16ac5f9a",
   "metadata": {
    "tags": []
   },
   "source": [
    "#### <b> Match or No Match & Weighted Match <b>\n",
    "#### 100%"
   ]
  },
  {
   "cell_type": "code",
   "execution_count": 333,
   "id": "a734ba64-7b8b-4b77-82a3-4afc4f6cbed1",
   "metadata": {},
   "outputs": [
    {
     "name": "stdout",
     "output_type": "stream",
     "text": [
      "100%\n",
      "Segment: \n",
      "Matches: 215\n",
      "Total: 337\n",
      "Segment Unweighted IOE: 63.798219584569736\n",
      "Segment Weighted IOE (Mean Absolute Error): 0.3620178041543027 \n",
      "\n",
      "Parent: \n",
      "Matches: 227\n",
      "Total: 337\n",
      "Parent IOE: 67.35905044510386\n",
      "Parent Weighted IOE (Mean Absolute Error): 0.3244047619047619 \n",
      "\n",
      "Noisy: \n",
      "Matches: 266\n",
      "Total: 337\n",
      "Noisy IOE: 78.93175074183976\n"
     ]
    }
   ],
   "source": [
    "# IOE on segment label\n",
    "print('100%')\n",
    "df_merged['match_s'] = np.where(df_merged[segment_label+'_train'] == df_merged[segment_label+'_val'], 1, 0)\n",
    "df_merged['match_s_diff'] = df_merged[segment_label+'_train'] - df_merged[segment_label+'_val'] \n",
    "df_merged['match_s_diff_abs'] = df_merged['match_s_diff'].abs()\n",
    "print('Segment: ')\n",
    "print('Matches:',df_merged['match_s'].sum())\n",
    "print('Total:',df_merged['match_s'].count())\n",
    "print('Segment Unweighted IOE:', df_merged['match_s'].sum()/df_merged['match_s'].count()*100)\n",
    "print('Segment Weighted IOE (Mean Absolute Error):', df_merged['match_s_diff_abs'].mean(),'\\n')\n",
    "\n",
    "# IOE on parent label\n",
    "df_merged['match_p'] = np.where(df_merged[parent_label+'_train'] == df_merged[parent_label+'_val'], 1, 0)\n",
    "df_merged['match_p_diff'] = df_merged[parent_label+'_train'] - df_merged[parent_label+'_val'] \n",
    "df_merged['match_p_diff_abs'] = df_merged['match_p_diff'].abs()\n",
    "print('Parent: ')\n",
    "print('Matches:',df_merged['match_p'].sum())\n",
    "print('Total:',df_merged['match_p'].count())\n",
    "print('Parent IOE:', df_merged['match_p'].sum()/df_merged['match_p'].count()*100)\n",
    "print('Parent Weighted IOE (Mean Absolute Error):', df_merged['match_p_diff_abs'].mean(),'\\n')\n",
    "\n",
    "# IOE on Noise\n",
    "df_merged['match_n'] = np.where(df_merged['noisy'+'_train'] == df_merged['Noisy'], 1, 0)\n",
    "df_merged['match_n_diff'] = df_merged['noisy'+'_train'] - df_merged['Noisy'] \n",
    "df_merged['match_n_diff_abs'] = df_merged['match_n_diff'].abs()\n",
    "print('Noisy: ')\n",
    "print('Matches:',df_merged['match_n'].sum())\n",
    "print('Total:',df_merged['match_n'].count())\n",
    "print('Noisy IOE:', df_merged['match_n'].sum()/df_merged['match_n'].count()*100)"
   ]
  },
  {
   "cell_type": "markdown",
   "id": "9fcadc6d-abf5-4276-a4f0-8a509fc2fe86",
   "metadata": {},
   "source": [
    "#### Distribution of train - val difference values (error)\n",
    "##### Segment"
   ]
  },
  {
   "cell_type": "code",
   "execution_count": 334,
   "id": "4879b67c-055c-4877-8d84-1768694275e6",
   "metadata": {},
   "outputs": [
    {
     "data": {
      "text/html": [
       "<div>\n",
       "<style scoped>\n",
       "    .dataframe tbody tr th:only-of-type {\n",
       "        vertical-align: middle;\n",
       "    }\n",
       "\n",
       "    .dataframe tbody tr th {\n",
       "        vertical-align: top;\n",
       "    }\n",
       "\n",
       "    .dataframe thead th {\n",
       "        text-align: right;\n",
       "    }\n",
       "</style>\n",
       "<table border=\"1\" class=\"dataframe\">\n",
       "  <thead>\n",
       "    <tr style=\"text-align: right;\">\n",
       "      <th></th>\n",
       "      <th>match_s_diff</th>\n",
       "      <th>match_s</th>\n",
       "    </tr>\n",
       "  </thead>\n",
       "  <tbody>\n",
       "    <tr>\n",
       "      <th>0</th>\n",
       "      <td>-1.0</td>\n",
       "      <td>94</td>\n",
       "    </tr>\n",
       "    <tr>\n",
       "      <th>1</th>\n",
       "      <td>0.0</td>\n",
       "      <td>215</td>\n",
       "    </tr>\n",
       "    <tr>\n",
       "      <th>2</th>\n",
       "      <td>1.0</td>\n",
       "      <td>28</td>\n",
       "    </tr>\n",
       "  </tbody>\n",
       "</table>\n",
       "</div>"
      ],
      "text/plain": [
       "   match_s_diff  match_s\n",
       "0          -1.0       94\n",
       "1           0.0      215\n",
       "2           1.0       28"
      ]
     },
     "metadata": {},
     "output_type": "display_data"
    },
    {
     "data": {
      "text/plain": [
       "<seaborn.axisgrid.FacetGrid at 0x7ff6b0696c70>"
      ]
     },
     "metadata": {},
     "output_type": "display_data"
    },
    {
     "data": {
      "image/png": "[encoded data removed]",
      "text/plain": [
       "<Figure size 360x360 with 1 Axes>"
      ]
     },
     "metadata": {
      "needs_background": "light"
     },
     "output_type": "display_data"
    }
   ],
   "source": [
    "# train - val difference histogram\n",
    "temp = df_merged.groupby('match_s_diff')['match_s'].count().reset_index()\n",
    "display(temp)\n",
    "display (sns.displot(df_merged['match_s_diff']))"
   ]
  },
  {
   "cell_type": "markdown",
   "id": "7ef771b3-2664-46cd-8682-209b890097cb",
   "metadata": {},
   "source": [
    "##### Parent"
   ]
  },
  {
   "cell_type": "code",
   "execution_count": 335,
   "id": "6aa11530-af8c-4d50-8016-b239a202e210",
   "metadata": {},
   "outputs": [
    {
     "data": {
      "text/html": [
       "<div>\n",
       "<style scoped>\n",
       "    .dataframe tbody tr th:only-of-type {\n",
       "        vertical-align: middle;\n",
       "    }\n",
       "\n",
       "    .dataframe tbody tr th {\n",
       "        vertical-align: top;\n",
       "    }\n",
       "\n",
       "    .dataframe thead th {\n",
       "        text-align: right;\n",
       "    }\n",
       "</style>\n",
       "<table border=\"1\" class=\"dataframe\">\n",
       "  <thead>\n",
       "    <tr style=\"text-align: right;\">\n",
       "      <th></th>\n",
       "      <th>match_p_diff</th>\n",
       "      <th>match_p</th>\n",
       "    </tr>\n",
       "  </thead>\n",
       "  <tbody>\n",
       "    <tr>\n",
       "      <th>0</th>\n",
       "      <td>-1.0</td>\n",
       "      <td>76</td>\n",
       "    </tr>\n",
       "    <tr>\n",
       "      <th>1</th>\n",
       "      <td>0.0</td>\n",
       "      <td>227</td>\n",
       "    </tr>\n",
       "    <tr>\n",
       "      <th>2</th>\n",
       "      <td>1.0</td>\n",
       "      <td>33</td>\n",
       "    </tr>\n",
       "  </tbody>\n",
       "</table>\n",
       "</div>"
      ],
      "text/plain": [
       "   match_p_diff  match_p\n",
       "0          -1.0       76\n",
       "1           0.0      227\n",
       "2           1.0       33"
      ]
     },
     "metadata": {},
     "output_type": "display_data"
    },
    {
     "data": {
      "text/plain": [
       "<seaborn.axisgrid.FacetGrid at 0x7ff6a35633a0>"
      ]
     },
     "metadata": {},
     "output_type": "display_data"
    },
    {
     "data": {
      "image/png": "[encoded data removed]",
      "text/plain": [
       "<Figure size 360x360 with 1 Axes>"
      ]
     },
     "metadata": {
      "needs_background": "light"
     },
     "output_type": "display_data"
    }
   ],
   "source": [
    "temp = df_merged.groupby('match_p_diff')['match_p'].count().reset_index()\n",
    "display(temp)\n",
    "display (sns.displot(df_merged['match_p_diff']))"
   ]
  },
  {
   "cell_type": "markdown",
   "id": "4d95b1a9-3889-4250-93e7-4ac2461b2534",
   "metadata": {},
   "source": [
    "##### Noisy"
   ]
  },
  {
   "cell_type": "code",
   "execution_count": 336,
   "id": "18d1c79b-1ce8-4bdb-bb1d-196255b328bb",
   "metadata": {},
   "outputs": [],
   "source": [
    "# temp = df_merged.groupby('match_n_diff')['match_n'].count().reset_index()\n",
    "# display(temp)\n",
    "# display (sns.displot(df_merged['match_n_diff']))"
   ]
  },
  {
   "cell_type": "markdown",
   "id": "08d3e5cf-f7d4-445d-9e55-369c8f2958c9",
   "metadata": {
    "tags": []
   },
   "source": [
    "#### <b> Match or No Match <b>\n",
    "#### 50%"
   ]
  },
  {
   "cell_type": "code",
   "execution_count": 337,
   "id": "58aebde4-d6b4-46dc-a9a3-1411451eb638",
   "metadata": {},
   "outputs": [
    {
     "name": "stdout",
     "output_type": "stream",
     "text": [
      "50%\n",
      "Segment: \n",
      "Matches: 102\n",
      "Total: 168\n",
      "Segment IOE: 60.71428571428571 \n",
      "\n",
      "Parent: \n",
      "Matches: 113\n",
      "Total: 168\n",
      "Parent IOE: 67.26190476190477 \n",
      "\n"
     ]
    }
   ],
   "source": [
    "# IOE on segment label\n",
    "print('50%')\n",
    "df_sample = df_merged.sample(frac=0.50)\n",
    "print('Segment: ')\n",
    "print('Matches:',df_sample['match_s'].sum())\n",
    "print('Total:',df_sample['match_s'].count())\n",
    "print('Segment IOE:', df_sample['match_s'].sum()/df_sample['match_s'].count()*100,'\\n')\n",
    "\n",
    "# IOE on parent label\n",
    "print('Parent: ')\n",
    "print('Matches:',df_sample['match_p'].sum())\n",
    "print('Total:',df_sample['match_p'].count())\n",
    "print('Parent IOE:', df_sample['match_p'].sum()/df_sample['match_p'].count()*100,'\\n')\n",
    "\n",
    "# IOE on Noise\n",
    "# print('Noisy: ')\n",
    "# print('Matches:',df_sample['match_n'].sum())\n",
    "# print('Total:',df_sample['match_n'].count())\n",
    "# print('Noisy IOE:', df_sample['match_n'].sum()/df_sample['match_n'].count()*100)"
   ]
  },
  {
   "cell_type": "markdown",
   "id": "a59b389f-c262-47b1-9316-f07209999f1e",
   "metadata": {
    "tags": []
   },
   "source": [
    "#### <b>Cohen's Kappa<b>"
   ]
  },
  {
   "cell_type": "code",
   "execution_count": 339,
   "id": "45b1b4d9-e420-4121-affc-11f8883febd2",
   "metadata": {},
   "outputs": [
    {
     "name": "stdout",
     "output_type": "stream",
     "text": [
      "Cohen k (Segment): 0.4136539311741467\n"
     ]
    }
   ],
   "source": [
    "# Calculate Cohen's k\n",
    "print('Cohen k (Segment):',cohen_kappa_score(df_merged[segment_label+'_train'], df_merged[segment_label+'_val']))\n",
    "# print('Cohen k (Parent):',cohen_kappa_score(df_merged[parent_label+'_train'], df_merged[parent_label+'_val']))\n",
    "# print('Cohen k (Noisy):',cohen_kappa_score(df_merged['noisy'+'_train'], df_merged['Noisy']))"
   ]
  },
  {
   "cell_type": "code",
   "execution_count": null,
   "id": "649b540f-d404-4eb6-bd0e-9cba0873853f",
   "metadata": {},
   "outputs": [],
   "source": []
  },
  {
   "cell_type": "code",
   "execution_count": null,
   "id": "be1fe2a1-d2b2-4f82-82df-9df9459e36bc",
   "metadata": {},
   "outputs": [],
   "source": []
  }
 ],
 "metadata": {
  "kernelspec": {
   "display_name": "Python 3 (ipykernel)",
   "language": "python",
   "name": "python3"
  },
  "language_info": {
   "codemirror_mode": {
    "name": "ipython",
    "version": 3
   },
   "file_extension": ".py",
   "mimetype": "text/x-python",
   "name": "python",
   "nbconvert_exporter": "python",
   "pygments_lexer": "ipython3",
   "version": "3.9.7"
  }
 },
 "nbformat": 4,
 "nbformat_minor": 5
}
